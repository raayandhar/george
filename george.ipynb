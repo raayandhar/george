{
 "cells": [
  {
   "cell_type": "markdown",
   "id": "47db18e3-4929-4393-a1ca-f01e83b5a1d2",
   "metadata": {},
   "source": [
    "# GEORGE"
   ]
  },
  {
   "cell_type": "code",
   "execution_count": 2,
   "id": "34d3f3cf-c097-4175-9a9e-2afc829e3c13",
   "metadata": {},
   "outputs": [],
   "source": [
    "import torch\n",
    "import torch.nn as nn\n",
    "import torch.nn.functional as F\n",
    "from torch.optim import SGD\n",
    "\n",
    "from spuco.datasets import SpuCoMNIST, SpuriousFeatureDifficulty\n",
    "from spuco.datasets.group_labeled_dataset_wrapper import GroupLabeledDatasetWrapper\n",
    "from spuco.models import model_factory\n",
    "from spuco.evaluate import Evaluator\n",
    "from spuco.group_inference import GeorgeInference\n",
    "from spuco.robust_train.group_balance_batch_erm import GroupBalanceBatchERM\n",
    "from spuco.utils import Trainer, set_seed\n",
    "\n",
    "device = torch.device(\"cuda\")\n",
    "set_seed(0)"
   ]
  },
  {
   "cell_type": "code",
   "execution_count": 9,
   "id": "39a2fbff-e60c-41ac-aef6-72f1a1e9248b",
   "metadata": {},
   "outputs": [],
   "source": [
    "# I'm using this as the default since this is what I see in the notebooks\n",
    "classes = [[0, 1], [2, 3], [4, 5], [6, 7], [8, 9]]\n",
    "difficulty = SpuriousFeatureDifficulty.MAGNITUDE_LARGE # is this the default?\n",
    " \n",
    "trainset = SpuCoMNIST(\n",
    "    root=\"./data/mnist/\",\n",
    "    spurious_feature_difficulty=difficulty,\n",
    "    spurious_correlation_strength=0.995,\n",
    "    classes=classes,\n",
    "    split=\"train\",\n",
    "    download=True\n",
    ")\n",
    "valset = SpuCoMNIST(\n",
    "    root=\"./data/mnist/\",\n",
    "    spurious_feature_difficulty=difficulty,\n",
    "    classes=classes,\n",
    "    split=\"val\",\n",
    "    download=True\n",
    ")\n",
    "testset = SpuCoMNIST(\n",
    "    root=\"./data/mnist/\",\n",
    "    spurious_feature_difficulty=difficulty,\n",
    "    classes=classes,\n",
    "    split=\"test\",\n",
    "    download=True\n",
    ")\n",
    "trainset.initialize()\n",
    "testset.initialize()\n",
    "valset.initialize()"
   ]
  },
  {
   "cell_type": "code",
   "execution_count": 10,
   "id": "86b148a7-6fcc-495d-9553-e67c6f938415",
   "metadata": {},
   "outputs": [],
   "source": [
    "train_source = trainset.load_data()\n",
    "val_source   = valset.load_data()\n",
    "test_source  = testset.load_data()"
   ]
  },
  {
   "cell_type": "markdown",
   "id": "43a510d4-0f2c-49cf-a16e-02233df1ec92",
   "metadata": {},
   "source": [
    "# Step 1"
   ]
  },
  {
   "cell_type": "code",
   "execution_count": 12,
   "id": "5ae24a25-d837-4477-96f1-c8e279651daa",
   "metadata": {
    "scrolled": true
   },
   "outputs": [
    {
     "name": "stderr",
     "output_type": "stream",
     "text": [
      "Epoch 0:   3%|█                               | 47/1501 [00:00<00:11, 131.56batch/s, accuracy=21.875%, loss=1.6]"
     ]
    },
    {
     "name": "stdout",
     "output_type": "stream",
     "text": [
      " | Epoch 0 | Loss: 1.6115756034851074 | Accuracy: 18.75%\n",
      " | Epoch 0 | Loss: 1.6203930377960205 | Accuracy: 12.5%\n",
      " | Epoch 0 | Loss: 1.61808180809021 | Accuracy: 21.875%\n",
      " | Epoch 0 | Loss: 1.6209357976913452 | Accuracy: 25.0%\n",
      " | Epoch 0 | Loss: 1.6147788763046265 | Accuracy: 15.625%\n",
      " | Epoch 0 | Loss: 1.6116019487380981 | Accuracy: 31.25%\n",
      " | Epoch 0 | Loss: 1.6084849834442139 | Accuracy: 15.625%\n",
      " | Epoch 0 | Loss: 1.6079459190368652 | Accuracy: 21.875%\n",
      " | Epoch 0 | Loss: 1.6164103746414185 | Accuracy: 15.625%\n",
      " | Epoch 0 | Loss: 1.6171886920928955 | Accuracy: 15.625%\n",
      " | Epoch 0 | Loss: 1.6182259321212769 | Accuracy: 15.625%\n",
      " | Epoch 0 | Loss: 1.6186599731445312 | Accuracy: 12.5%\n",
      " | Epoch 0 | Loss: 1.6024773120880127 | Accuracy: 18.75%\n",
      " | Epoch 0 | Loss: 1.6099514961242676 | Accuracy: 18.75%\n",
      " | Epoch 0 | Loss: 1.619115948677063 | Accuracy: 21.875%\n",
      " | Epoch 0 | Loss: 1.6324031352996826 | Accuracy: 12.5%\n",
      " | Epoch 0 | Loss: 1.6056044101715088 | Accuracy: 15.625%\n",
      " | Epoch 0 | Loss: 1.614080548286438 | Accuracy: 18.75%\n",
      " | Epoch 0 | Loss: 1.607488989830017 | Accuracy: 18.75%\n",
      " | Epoch 0 | Loss: 1.6211897134780884 | Accuracy: 9.375%\n",
      " | Epoch 0 | Loss: 1.6117388010025024 | Accuracy: 18.75%\n",
      " | Epoch 0 | Loss: 1.6094481945037842 | Accuracy: 28.125%\n",
      " | Epoch 0 | Loss: 1.605686902999878 | Accuracy: 28.125%\n",
      " | Epoch 0 | Loss: 1.607782006263733 | Accuracy: 25.0%\n",
      " | Epoch 0 | Loss: 1.5920979976654053 | Accuracy: 31.25%\n",
      " | Epoch 0 | Loss: 1.610719084739685 | Accuracy: 18.75%\n",
      " | Epoch 0 | Loss: 1.6090327501296997 | Accuracy: 15.625%\n",
      " | Epoch 0 | Loss: 1.6068452596664429 | Accuracy: 37.5%\n",
      " | Epoch 0 | Loss: 1.6245532035827637 | Accuracy: 21.875%\n",
      " | Epoch 0 | Loss: 1.624553918838501 | Accuracy: 31.25%\n",
      " | Epoch 0 | Loss: 1.6223608255386353 | Accuracy: 28.125%\n",
      " | Epoch 0 | Loss: 1.5961309671401978 | Accuracy: 59.375%\n",
      " | Epoch 0 | Loss: 1.5983442068099976 | Accuracy: 40.625%\n",
      " | Epoch 0 | Loss: 1.6108096837997437 | Accuracy: 31.25%\n",
      " | Epoch 0 | Loss: 1.6110974550247192 | Accuracy: 18.75%\n",
      " | Epoch 0 | Loss: 1.6118980646133423 | Accuracy: 31.25%\n",
      " | Epoch 0 | Loss: 1.6015876531600952 | Accuracy: 21.875%\n",
      " | Epoch 0 | Loss: 1.61030912399292 | Accuracy: 34.375%\n",
      " | Epoch 0 | Loss: 1.595574140548706 | Accuracy: 37.5%\n",
      " | Epoch 0 | Loss: 1.6137596368789673 | Accuracy: 31.25%\n",
      " | Epoch 0 | Loss: 1.6160595417022705 | Accuracy: 28.125%\n",
      " | Epoch 0 | Loss: 1.61885404586792 | Accuracy: 37.5%\n",
      " | Epoch 0 | Loss: 1.6029958724975586 | Accuracy: 37.5%\n",
      " | Epoch 0 | Loss: 1.5998591184616089 | Accuracy: 25.0%\n",
      " | Epoch 0 | Loss: 1.6127408742904663 | Accuracy: 18.75%\n",
      " | Epoch 0 | Loss: 1.6040574312210083 | Accuracy: 28.125%\n",
      " | Epoch 0 | Loss: 1.6436131000518799 | Accuracy: 18.75%\n",
      " | Epoch 0 | Loss: 1.619848370552063 | Accuracy: 31.25%\n",
      " | Epoch 0 | Loss: 1.607132911682129 | Accuracy: 37.5%\n",
      " | Epoch 0 | Loss: 1.6145997047424316 | Accuracy: 37.5%\n",
      " | Epoch 0 | Loss: 1.6179718971252441 | Accuracy: 37.5%\n",
      " | Epoch 0 | Loss: 1.5833102464675903 | Accuracy: 50.0%\n",
      " | Epoch 0 | Loss: 1.5975793600082397 | Accuracy: 43.75%\n",
      " | Epoch 0 | Loss: 1.5989766120910645 | Accuracy: 34.375%\n",
      " | Epoch 0 | Loss: 1.600925087928772 | Accuracy: 37.5%\n",
      " | Epoch 0 | Loss: 1.61034095287323 | Accuracy: 34.375%\n",
      " | Epoch 0 | Loss: 1.6134920120239258 | Accuracy: 15.625%\n",
      " | Epoch 0 | Loss: 1.5964909791946411 | Accuracy: 40.625%\n",
      " | Epoch 0 | Loss: 1.6069996356964111 | Accuracy: 34.375%\n",
      " | Epoch 0 | Loss: 1.5849919319152832 | Accuracy: 50.0%\n",
      " | Epoch 0 | Loss: 1.6017181873321533 | Accuracy: 28.125%\n",
      " | Epoch 0 | Loss: 1.6111699342727661 | Accuracy: 21.875%\n",
      " | Epoch 0 | Loss: 1.6063035726547241 | Accuracy: 18.75%\n",
      " | Epoch 0 | Loss: 1.61562979221344 | Accuracy: 25.0%\n",
      " | Epoch 0 | Loss: 1.6080408096313477 | Accuracy: 28.125%\n",
      " | Epoch 0 | Loss: 1.5933820009231567 | Accuracy: 46.875%\n",
      " | Epoch 0 | Loss: 1.598166823387146 | Accuracy: 37.5%\n",
      " | Epoch 0 | Loss: 1.6090705394744873 | Accuracy: 21.875%\n",
      " | Epoch 0 | Loss: 1.6072880029678345 | Accuracy: 40.625%\n",
      " | Epoch 0 | Loss: 1.6010310649871826 | Accuracy: 34.375%\n",
      " | Epoch 0 | Loss: 1.6091926097869873 | Accuracy: 34.375%\n",
      " | Epoch 0 | Loss: 1.6050608158111572 | Accuracy: 34.375%\n",
      " | Epoch 0 | Loss: 1.6004692316055298 | Accuracy: 21.875%\n",
      " | Epoch 0 | Loss: 1.5991493463516235 | Accuracy: 28.125%\n",
      " | Epoch 0 | Loss: 1.5988713502883911 | Accuracy: 28.125%\n",
      " | Epoch 0 | Loss: 1.5955195426940918 | Accuracy: 34.375%\n",
      " | Epoch 0 | Loss: 1.6078007221221924 | Accuracy: 15.625%\n",
      " | Epoch 0 | Loss: 1.5954413414001465 | Accuracy: 28.125%\n",
      " | Epoch 0 | Loss: 1.5957269668579102 | Accuracy: 31.25%\n",
      " | Epoch 0 | Loss: 1.588768482208252 | Accuracy: 40.625%\n",
      " | Epoch 0 | Loss: 1.5978801250457764 | Accuracy: 28.125%\n",
      " | Epoch 0 | Loss: 1.5972692966461182 | Accuracy: 25.0%\n",
      " | Epoch 0 | Loss: 1.5977911949157715 | Accuracy: 18.75%\n",
      " | Epoch 0 | Loss: 1.6070780754089355 | Accuracy: 25.0%\n",
      " | Epoch 0 | Loss: 1.606252908706665 | Accuracy: 12.5%\n",
      " | Epoch 0 | Loss: 1.604707956314087 | Accuracy: 18.75%\n",
      " | Epoch 0 | Loss: 1.6054561138153076 | Accuracy: 9.375%\n",
      " | Epoch 0 | Loss: 1.603495717048645 | Accuracy: 21.875%\n",
      " | Epoch 0 | Loss: 1.5855826139450073 | Accuracy: 28.125%\n"
     ]
    },
    {
     "name": "stderr",
     "output_type": "stream",
     "text": [
      "Epoch 0:  10%|██▊                           | 143/1501 [00:00<00:04, 305.68batch/s, accuracy=65.625%, loss=1.56]"
     ]
    },
    {
     "name": "stdout",
     "output_type": "stream",
     "text": [
      " | Epoch 0 | Loss: 1.5960102081298828 | Accuracy: 21.875%\n",
      " | Epoch 0 | Loss: 1.594313144683838 | Accuracy: 25.0%\n",
      " | Epoch 0 | Loss: 1.6091065406799316 | Accuracy: 21.875%\n",
      " | Epoch 0 | Loss: 1.6001816987991333 | Accuracy: 28.125%\n",
      " | Epoch 0 | Loss: 1.5973995923995972 | Accuracy: 21.875%\n",
      " | Epoch 0 | Loss: 1.5901176929473877 | Accuracy: 37.5%\n",
      " | Epoch 0 | Loss: 1.5991939306259155 | Accuracy: 31.25%\n",
      " | Epoch 0 | Loss: 1.6107033491134644 | Accuracy: 25.0%\n",
      " | Epoch 0 | Loss: 1.592674970626831 | Accuracy: 40.625%\n",
      " | Epoch 0 | Loss: 1.5933797359466553 | Accuracy: 34.375%\n",
      " | Epoch 0 | Loss: 1.5914359092712402 | Accuracy: 25.0%\n",
      " | Epoch 0 | Loss: 1.600452184677124 | Accuracy: 25.0%\n",
      " | Epoch 0 | Loss: 1.593161702156067 | Accuracy: 25.0%\n",
      " | Epoch 0 | Loss: 1.613664984703064 | Accuracy: 31.25%\n",
      " | Epoch 0 | Loss: 1.598297119140625 | Accuracy: 25.0%\n",
      " | Epoch 0 | Loss: 1.6054785251617432 | Accuracy: 25.0%\n",
      " | Epoch 0 | Loss: 1.5927809476852417 | Accuracy: 31.25%\n",
      " | Epoch 0 | Loss: 1.612371802330017 | Accuracy: 21.875%\n",
      " | Epoch 0 | Loss: 1.5979418754577637 | Accuracy: 31.25%\n",
      " | Epoch 0 | Loss: 1.5956538915634155 | Accuracy: 37.5%\n",
      " | Epoch 0 | Loss: 1.5911297798156738 | Accuracy: 53.125%\n",
      " | Epoch 0 | Loss: 1.593250036239624 | Accuracy: 43.75%\n",
      " | Epoch 0 | Loss: 1.5950045585632324 | Accuracy: 37.5%\n",
      " | Epoch 0 | Loss: 1.59808349609375 | Accuracy: 34.375%\n",
      " | Epoch 0 | Loss: 1.6075650453567505 | Accuracy: 31.25%\n",
      " | Epoch 0 | Loss: 1.5985634326934814 | Accuracy: 50.0%\n",
      " | Epoch 0 | Loss: 1.5859003067016602 | Accuracy: 40.625%\n",
      " | Epoch 0 | Loss: 1.5898222923278809 | Accuracy: 37.5%\n",
      " | Epoch 0 | Loss: 1.5914368629455566 | Accuracy: 43.75%\n",
      " | Epoch 0 | Loss: 1.5892020463943481 | Accuracy: 50.0%\n",
      " | Epoch 0 | Loss: 1.5917881727218628 | Accuracy: 31.25%\n",
      " | Epoch 0 | Loss: 1.5986275672912598 | Accuracy: 43.75%\n",
      " | Epoch 0 | Loss: 1.5901451110839844 | Accuracy: 56.25%\n",
      " | Epoch 0 | Loss: 1.5879155397415161 | Accuracy: 43.75%\n",
      " | Epoch 0 | Loss: 1.5867336988449097 | Accuracy: 59.375%\n",
      " | Epoch 0 | Loss: 1.592551350593567 | Accuracy: 43.75%\n",
      " | Epoch 0 | Loss: 1.5878007411956787 | Accuracy: 53.125%\n",
      " | Epoch 0 | Loss: 1.6067256927490234 | Accuracy: 40.625%\n",
      " | Epoch 0 | Loss: 1.5905795097351074 | Accuracy: 40.625%\n",
      " | Epoch 0 | Loss: 1.5863571166992188 | Accuracy: 59.375%\n",
      " | Epoch 0 | Loss: 1.5920170545578003 | Accuracy: 53.125%\n",
      " | Epoch 0 | Loss: 1.5967720746994019 | Accuracy: 56.25%\n",
      " | Epoch 0 | Loss: 1.5776044130325317 | Accuracy: 71.875%\n",
      " | Epoch 0 | Loss: 1.5878719091415405 | Accuracy: 50.0%\n",
      " | Epoch 0 | Loss: 1.5901771783828735 | Accuracy: 59.375%\n",
      " | Epoch 0 | Loss: 1.591742753982544 | Accuracy: 62.5%\n",
      " | Epoch 0 | Loss: 1.589799165725708 | Accuracy: 53.125%\n",
      " | Epoch 0 | Loss: 1.6035321950912476 | Accuracy: 46.875%\n",
      " | Epoch 0 | Loss: 1.6003780364990234 | Accuracy: 46.875%\n",
      " | Epoch 0 | Loss: 1.5888054370880127 | Accuracy: 46.875%\n",
      " | Epoch 0 | Loss: 1.5859256982803345 | Accuracy: 65.625%\n",
      " | Epoch 0 | Loss: 1.5821332931518555 | Accuracy: 62.5%\n",
      " | Epoch 0 | Loss: 1.58662748336792 | Accuracy: 56.25%\n",
      " | Epoch 0 | Loss: 1.586975336074829 | Accuracy: 71.875%\n",
      " | Epoch 0 | Loss: 1.5846792459487915 | Accuracy: 65.625%\n",
      " | Epoch 0 | Loss: 1.5799051523208618 | Accuracy: 65.625%\n",
      " | Epoch 0 | Loss: 1.6023099422454834 | Accuracy: 46.875%\n",
      " | Epoch 0 | Loss: 1.5851942300796509 | Accuracy: 59.375%\n",
      " | Epoch 0 | Loss: 1.5900214910507202 | Accuracy: 46.875%\n",
      " | Epoch 0 | Loss: 1.5873929262161255 | Accuracy: 59.375%\n",
      " | Epoch 0 | Loss: 1.5788260698318481 | Accuracy: 65.625%\n",
      " | Epoch 0 | Loss: 1.5902910232543945 | Accuracy: 50.0%\n",
      " | Epoch 0 | Loss: 1.5886813402175903 | Accuracy: 50.0%\n",
      " | Epoch 0 | Loss: 1.5837777853012085 | Accuracy: 62.5%\n",
      " | Epoch 0 | Loss: 1.5774974822998047 | Accuracy: 68.75%\n",
      " | Epoch 0 | Loss: 1.579382300376892 | Accuracy: 62.5%\n",
      " | Epoch 0 | Loss: 1.580280065536499 | Accuracy: 62.5%\n",
      " | Epoch 0 | Loss: 1.5907697677612305 | Accuracy: 50.0%\n",
      " | Epoch 0 | Loss: 1.5804588794708252 | Accuracy: 59.375%\n",
      " | Epoch 0 | Loss: 1.5862897634506226 | Accuracy: 50.0%\n",
      " | Epoch 0 | Loss: 1.5736373662948608 | Accuracy: 78.125%\n",
      " | Epoch 0 | Loss: 1.589497685432434 | Accuracy: 50.0%\n",
      " | Epoch 0 | Loss: 1.59154212474823 | Accuracy: 37.5%\n",
      " | Epoch 0 | Loss: 1.5848785638809204 | Accuracy: 56.25%\n",
      " | Epoch 0 | Loss: 1.5853434801101685 | Accuracy: 53.125%\n",
      " | Epoch 0 | Loss: 1.5824042558670044 | Accuracy: 59.375%\n",
      " | Epoch 0 | Loss: 1.5843620300292969 | Accuracy: 46.875%\n",
      " | Epoch 0 | Loss: 1.5800116062164307 | Accuracy: 59.375%\n",
      " | Epoch 0 | Loss: 1.5756871700286865 | Accuracy: 65.625%\n",
      " | Epoch 0 | Loss: 1.589337944984436 | Accuracy: 50.0%\n",
      " | Epoch 0 | Loss: 1.583185076713562 | Accuracy: 50.0%\n",
      " | Epoch 0 | Loss: 1.5780302286148071 | Accuracy: 59.375%\n",
      " | Epoch 0 | Loss: 1.5647646188735962 | Accuracy: 75.0%\n",
      " | Epoch 0 | Loss: 1.5770765542984009 | Accuracy: 53.125%\n",
      " | Epoch 0 | Loss: 1.569879412651062 | Accuracy: 75.0%\n",
      " | Epoch 0 | Loss: 1.5786848068237305 | Accuracy: 59.375%\n",
      " | Epoch 0 | Loss: 1.5814905166625977 | Accuracy: 59.375%\n",
      " | Epoch 0 | Loss: 1.5832501649856567 | Accuracy: 50.0%\n",
      " | Epoch 0 | Loss: 1.570973515510559 | Accuracy: 65.625%\n",
      " | Epoch 0 | Loss: 1.5777126550674438 | Accuracy: 53.125%\n",
      " | Epoch 0 | Loss: 1.5780128240585327 | Accuracy: 46.875%\n",
      " | Epoch 0 | Loss: 1.5698349475860596 | Accuracy: 65.625%\n",
      " | Epoch 0 | Loss: 1.5752512216567993 | Accuracy: 56.25%\n",
      " | Epoch 0 | Loss: 1.564806580543518 | Accuracy: 65.625%\n",
      " | Epoch 0 | Loss: 1.5709452629089355 | Accuracy: 59.375%\n",
      " | Epoch 0 | Loss: 1.5746463537216187 | Accuracy: 50.0%\n",
      " | Epoch 0 | Loss: 1.5777013301849365 | Accuracy: 53.125%\n",
      " | Epoch 0 | Loss: 1.5689282417297363 | Accuracy: 59.375%\n",
      " | Epoch 0 | Loss: 1.568096399307251 | Accuracy: 59.375%\n",
      " | Epoch 0 | Loss: 1.5662152767181396 | Accuracy: 62.5%\n",
      " | Epoch 0 | Loss: 1.5632708072662354 | Accuracy: 68.75%\n",
      " | Epoch 0 | Loss: 1.5646346807479858 | Accuracy: 62.5%\n",
      " | Epoch 0 | Loss: 1.5704100131988525 | Accuracy: 62.5%\n",
      " | Epoch 0 | Loss: 1.5724142789840698 | Accuracy: 53.125%\n",
      " | Epoch 0 | Loss: 1.5643842220306396 | Accuracy: 65.625%\n",
      " | Epoch 0 | Loss: 1.5613093376159668 | Accuracy: 65.625%\n"
     ]
    },
    {
     "name": "stderr",
     "output_type": "stream",
     "text": [
      "Epoch 0:  17%|█████▏                         | 253/1501 [00:00<00:02, 423.47batch/s, accuracy=90.625%, loss=1.3]"
     ]
    },
    {
     "name": "stdout",
     "output_type": "stream",
     "text": [
      " | Epoch 0 | Loss: 1.5627444982528687 | Accuracy: 68.75%\n",
      " | Epoch 0 | Loss: 1.567265272140503 | Accuracy: 56.25%\n",
      " | Epoch 0 | Loss: 1.5654468536376953 | Accuracy: 68.75%\n",
      " | Epoch 0 | Loss: 1.5657576322555542 | Accuracy: 65.625%\n",
      " | Epoch 0 | Loss: 1.5578373670578003 | Accuracy: 71.875%\n",
      " | Epoch 0 | Loss: 1.5732218027114868 | Accuracy: 50.0%\n",
      " | Epoch 0 | Loss: 1.5621304512023926 | Accuracy: 62.5%\n",
      " | Epoch 0 | Loss: 1.5558643341064453 | Accuracy: 81.25%\n",
      " | Epoch 0 | Loss: 1.5682859420776367 | Accuracy: 62.5%\n",
      " | Epoch 0 | Loss: 1.5619332790374756 | Accuracy: 59.375%\n",
      " | Epoch 0 | Loss: 1.5620197057724 | Accuracy: 68.75%\n",
      " | Epoch 0 | Loss: 1.5579415559768677 | Accuracy: 75.0%\n",
      " | Epoch 0 | Loss: 1.549444556236267 | Accuracy: 75.0%\n",
      " | Epoch 0 | Loss: 1.555740237236023 | Accuracy: 62.5%\n",
      " | Epoch 0 | Loss: 1.5491690635681152 | Accuracy: 84.375%\n",
      " | Epoch 0 | Loss: 1.5464987754821777 | Accuracy: 90.625%\n",
      " | Epoch 0 | Loss: 1.5559055805206299 | Accuracy: 75.0%\n",
      " | Epoch 0 | Loss: 1.5408282279968262 | Accuracy: 84.375%\n",
      " | Epoch 0 | Loss: 1.5498034954071045 | Accuracy: 87.5%\n",
      " | Epoch 0 | Loss: 1.5491268634796143 | Accuracy: 65.625%\n",
      " | Epoch 0 | Loss: 1.54275381565094 | Accuracy: 81.25%\n",
      " | Epoch 0 | Loss: 1.543188452720642 | Accuracy: 87.5%\n",
      " | Epoch 0 | Loss: 1.5335993766784668 | Accuracy: 87.5%\n",
      " | Epoch 0 | Loss: 1.554178237915039 | Accuracy: 68.75%\n",
      " | Epoch 0 | Loss: 1.5564125776290894 | Accuracy: 62.5%\n",
      " | Epoch 0 | Loss: 1.5247844457626343 | Accuracy: 87.5%\n",
      " | Epoch 0 | Loss: 1.542304277420044 | Accuracy: 71.875%\n",
      " | Epoch 0 | Loss: 1.545134425163269 | Accuracy: 65.625%\n",
      " | Epoch 0 | Loss: 1.5342413187026978 | Accuracy: 78.125%\n",
      " | Epoch 0 | Loss: 1.5510660409927368 | Accuracy: 68.75%\n",
      " | Epoch 0 | Loss: 1.5380115509033203 | Accuracy: 75.0%\n",
      " | Epoch 0 | Loss: 1.5368036031723022 | Accuracy: 71.875%\n",
      " | Epoch 0 | Loss: 1.5442712306976318 | Accuracy: 65.625%\n",
      " | Epoch 0 | Loss: 1.5391348600387573 | Accuracy: 75.0%\n",
      " | Epoch 0 | Loss: 1.5419632196426392 | Accuracy: 81.25%\n",
      " | Epoch 0 | Loss: 1.5473265647888184 | Accuracy: 62.5%\n",
      " | Epoch 0 | Loss: 1.5383352041244507 | Accuracy: 65.625%\n",
      " | Epoch 0 | Loss: 1.5307526588439941 | Accuracy: 81.25%\n",
      " | Epoch 0 | Loss: 1.5328866243362427 | Accuracy: 81.25%\n",
      " | Epoch 0 | Loss: 1.5361462831497192 | Accuracy: 84.375%\n",
      " | Epoch 0 | Loss: 1.5044957399368286 | Accuracy: 84.375%\n",
      " | Epoch 0 | Loss: 1.522807240486145 | Accuracy: 81.25%\n",
      " | Epoch 0 | Loss: 1.5197304487228394 | Accuracy: 90.625%\n",
      " | Epoch 0 | Loss: 1.5309076309204102 | Accuracy: 65.625%\n",
      " | Epoch 0 | Loss: 1.5263553857803345 | Accuracy: 78.125%\n",
      " | Epoch 0 | Loss: 1.5276780128479004 | Accuracy: 75.0%\n",
      " | Epoch 0 | Loss: 1.5298467874526978 | Accuracy: 71.875%\n",
      " | Epoch 0 | Loss: 1.5073939561843872 | Accuracy: 78.125%\n",
      " | Epoch 0 | Loss: 1.5155117511749268 | Accuracy: 75.0%\n",
      " | Epoch 0 | Loss: 1.504304051399231 | Accuracy: 87.5%\n",
      " | Epoch 0 | Loss: 1.5033143758773804 | Accuracy: 78.125%\n",
      " | Epoch 0 | Loss: 1.504602074623108 | Accuracy: 68.75%\n",
      " | Epoch 0 | Loss: 1.5114229917526245 | Accuracy: 81.25%\n",
      " | Epoch 0 | Loss: 1.5064674615859985 | Accuracy: 75.0%\n",
      " | Epoch 0 | Loss: 1.506354808807373 | Accuracy: 90.625%\n",
      " | Epoch 0 | Loss: 1.4944257736206055 | Accuracy: 75.0%\n",
      " | Epoch 0 | Loss: 1.5138959884643555 | Accuracy: 87.5%\n",
      " | Epoch 0 | Loss: 1.4908480644226074 | Accuracy: 81.25%\n",
      " | Epoch 0 | Loss: 1.5127441883087158 | Accuracy: 68.75%\n",
      " | Epoch 0 | Loss: 1.5049407482147217 | Accuracy: 81.25%\n",
      " | Epoch 0 | Loss: 1.4922910928726196 | Accuracy: 81.25%\n",
      " | Epoch 0 | Loss: 1.500104308128357 | Accuracy: 78.125%\n",
      " | Epoch 0 | Loss: 1.4979052543640137 | Accuracy: 78.125%\n",
      " | Epoch 0 | Loss: 1.4810142517089844 | Accuracy: 84.375%\n",
      " | Epoch 0 | Loss: 1.47671377658844 | Accuracy: 78.125%\n",
      " | Epoch 0 | Loss: 1.4820040464401245 | Accuracy: 100.0%\n",
      " | Epoch 0 | Loss: 1.4941214323043823 | Accuracy: 90.625%\n",
      " | Epoch 0 | Loss: 1.5076375007629395 | Accuracy: 81.25%\n",
      " | Epoch 0 | Loss: 1.4721908569335938 | Accuracy: 84.375%\n",
      " | Epoch 0 | Loss: 1.4984973669052124 | Accuracy: 75.0%\n",
      " | Epoch 0 | Loss: 1.464369773864746 | Accuracy: 78.125%\n",
      " | Epoch 0 | Loss: 1.4744426012039185 | Accuracy: 84.375%\n",
      " | Epoch 0 | Loss: 1.4817224740982056 | Accuracy: 78.125%\n",
      " | Epoch 0 | Loss: 1.4560718536376953 | Accuracy: 71.875%\n",
      " | Epoch 0 | Loss: 1.4868849515914917 | Accuracy: 81.25%\n",
      " | Epoch 0 | Loss: 1.483175277709961 | Accuracy: 71.875%\n",
      " | Epoch 0 | Loss: 1.4462796449661255 | Accuracy: 75.0%\n",
      " | Epoch 0 | Loss: 1.4700162410736084 | Accuracy: 62.5%\n",
      " | Epoch 0 | Loss: 1.4317865371704102 | Accuracy: 81.25%\n",
      " | Epoch 0 | Loss: 1.4389079809188843 | Accuracy: 81.25%\n",
      " | Epoch 0 | Loss: 1.46589195728302 | Accuracy: 75.0%\n",
      " | Epoch 0 | Loss: 1.4454843997955322 | Accuracy: 68.75%\n",
      " | Epoch 0 | Loss: 1.4482967853546143 | Accuracy: 75.0%\n",
      " | Epoch 0 | Loss: 1.4286086559295654 | Accuracy: 68.75%\n",
      " | Epoch 0 | Loss: 1.438271164894104 | Accuracy: 81.25%\n",
      " | Epoch 0 | Loss: 1.4471356868743896 | Accuracy: 81.25%\n",
      " | Epoch 0 | Loss: 1.379634141921997 | Accuracy: 68.75%\n",
      " | Epoch 0 | Loss: 1.4076887369155884 | Accuracy: 75.0%\n",
      " | Epoch 0 | Loss: 1.4051322937011719 | Accuracy: 75.0%\n",
      " | Epoch 0 | Loss: 1.3930883407592773 | Accuracy: 71.875%\n",
      " | Epoch 0 | Loss: 1.4529591798782349 | Accuracy: 81.25%\n",
      " | Epoch 0 | Loss: 1.3734320402145386 | Accuracy: 78.125%\n",
      " | Epoch 0 | Loss: 1.4315624237060547 | Accuracy: 71.875%\n",
      " | Epoch 0 | Loss: 1.4074054956436157 | Accuracy: 59.375%\n",
      " | Epoch 0 | Loss: 1.3821576833724976 | Accuracy: 62.5%\n",
      " | Epoch 0 | Loss: 1.3509432077407837 | Accuracy: 81.25%\n",
      " | Epoch 0 | Loss: 1.3866688013076782 | Accuracy: 71.875%\n",
      " | Epoch 0 | Loss: 1.3667726516723633 | Accuracy: 71.875%\n",
      " | Epoch 0 | Loss: 1.3978365659713745 | Accuracy: 87.5%\n",
      " | Epoch 0 | Loss: 1.3503199815750122 | Accuracy: 75.0%\n",
      " | Epoch 0 | Loss: 1.3729699850082397 | Accuracy: 78.125%\n",
      " | Epoch 0 | Loss: 1.3228572607040405 | Accuracy: 90.625%\n",
      " | Epoch 0 | Loss: 1.3209502696990967 | Accuracy: 87.5%\n"
     ]
    },
    {
     "name": "stderr",
     "output_type": "stream",
     "text": [
      "Epoch 0:  24%|██████▊                      | 354/1501 [00:01<00:02, 464.56batch/s, accuracy=100.0%, loss=0.0596]"
     ]
    },
    {
     "name": "stdout",
     "output_type": "stream",
     "text": [
      " | Epoch 0 | Loss: 1.2974823713302612 | Accuracy: 90.625%\n",
      " | Epoch 0 | Loss: 1.289656162261963 | Accuracy: 81.25%\n",
      " | Epoch 0 | Loss: 1.300389051437378 | Accuracy: 90.625%\n",
      " | Epoch 0 | Loss: 1.297436237335205 | Accuracy: 81.25%\n",
      " | Epoch 0 | Loss: 1.3105782270431519 | Accuracy: 84.375%\n",
      " | Epoch 0 | Loss: 1.276996374130249 | Accuracy: 78.125%\n",
      " | Epoch 0 | Loss: 1.3471392393112183 | Accuracy: 75.0%\n",
      " | Epoch 0 | Loss: 1.246930480003357 | Accuracy: 81.25%\n",
      " | Epoch 0 | Loss: 1.318979024887085 | Accuracy: 78.125%\n",
      " | Epoch 0 | Loss: 1.204699158668518 | Accuracy: 81.25%\n",
      " | Epoch 0 | Loss: 1.1888391971588135 | Accuracy: 81.25%\n",
      " | Epoch 0 | Loss: 1.2708755731582642 | Accuracy: 75.0%\n",
      " | Epoch 0 | Loss: 1.1956559419631958 | Accuracy: 87.5%\n",
      " | Epoch 0 | Loss: 1.2270783185958862 | Accuracy: 75.0%\n",
      " | Epoch 0 | Loss: 1.221201777458191 | Accuracy: 87.5%\n",
      " | Epoch 0 | Loss: 1.1608259677886963 | Accuracy: 75.0%\n",
      " | Epoch 0 | Loss: 1.1424967050552368 | Accuracy: 81.25%\n",
      " | Epoch 0 | Loss: 1.1785467863082886 | Accuracy: 90.625%\n",
      " | Epoch 0 | Loss: 1.1288893222808838 | Accuracy: 87.5%\n",
      " | Epoch 0 | Loss: 1.1411292552947998 | Accuracy: 78.125%\n",
      " | Epoch 0 | Loss: 1.133799433708191 | Accuracy: 90.625%\n",
      " | Epoch 0 | Loss: 1.0945247411727905 | Accuracy: 93.75%\n",
      " | Epoch 0 | Loss: 1.1231632232666016 | Accuracy: 81.25%\n",
      " | Epoch 0 | Loss: 1.061498761177063 | Accuracy: 78.125%\n",
      " | Epoch 0 | Loss: 1.1027021408081055 | Accuracy: 84.375%\n",
      " | Epoch 0 | Loss: 1.062441349029541 | Accuracy: 75.0%\n",
      " | Epoch 0 | Loss: 1.1044620275497437 | Accuracy: 71.875%\n",
      " | Epoch 0 | Loss: 0.9614176750183105 | Accuracy: 81.25%\n",
      " | Epoch 0 | Loss: 1.0097910165786743 | Accuracy: 84.375%\n",
      " | Epoch 0 | Loss: 1.054915428161621 | Accuracy: 71.875%\n",
      " | Epoch 0 | Loss: 0.9532196521759033 | Accuracy: 81.25%\n",
      " | Epoch 0 | Loss: 0.9319503307342529 | Accuracy: 78.125%\n",
      " | Epoch 0 | Loss: 0.8963110446929932 | Accuracy: 71.875%\n",
      " | Epoch 0 | Loss: 0.9872128367424011 | Accuracy: 75.0%\n",
      " | Epoch 0 | Loss: 0.8983510732650757 | Accuracy: 71.875%\n",
      " | Epoch 0 | Loss: 0.8532630801200867 | Accuracy: 78.125%\n",
      " | Epoch 0 | Loss: 0.9521703124046326 | Accuracy: 71.875%\n",
      " | Epoch 0 | Loss: 0.9239373803138733 | Accuracy: 71.875%\n",
      " | Epoch 0 | Loss: 0.8184290528297424 | Accuracy: 84.375%\n",
      " | Epoch 0 | Loss: 0.7230101227760315 | Accuracy: 93.75%\n",
      " | Epoch 0 | Loss: 0.7808108925819397 | Accuracy: 84.375%\n",
      " | Epoch 0 | Loss: 0.8115362524986267 | Accuracy: 75.0%\n",
      " | Epoch 0 | Loss: 0.8849808573722839 | Accuracy: 84.375%\n",
      " | Epoch 0 | Loss: 0.8270642757415771 | Accuracy: 84.375%\n",
      " | Epoch 0 | Loss: 0.7536051273345947 | Accuracy: 84.375%\n",
      " | Epoch 0 | Loss: 0.8806129693984985 | Accuracy: 87.5%\n",
      " | Epoch 0 | Loss: 0.6877189874649048 | Accuracy: 100.0%\n",
      " | Epoch 0 | Loss: 0.764991283416748 | Accuracy: 96.875%\n",
      " | Epoch 0 | Loss: 0.7400445938110352 | Accuracy: 100.0%\n",
      " | Epoch 0 | Loss: 0.6014780402183533 | Accuracy: 100.0%\n",
      " | Epoch 0 | Loss: 0.6825141310691833 | Accuracy: 96.875%\n",
      " | Epoch 0 | Loss: 0.6345266699790955 | Accuracy: 100.0%\n",
      " | Epoch 0 | Loss: 0.5927771329879761 | Accuracy: 100.0%\n",
      " | Epoch 0 | Loss: 0.5453179478645325 | Accuracy: 100.0%\n",
      " | Epoch 0 | Loss: 0.49190565943717957 | Accuracy: 100.0%\n",
      " | Epoch 0 | Loss: 0.5345710515975952 | Accuracy: 100.0%\n",
      " | Epoch 0 | Loss: 0.4840008020401001 | Accuracy: 100.0%\n",
      " | Epoch 0 | Loss: 0.4510044455528259 | Accuracy: 100.0%\n",
      " | Epoch 0 | Loss: 0.50711590051651 | Accuracy: 100.0%\n",
      " | Epoch 0 | Loss: 0.42240098118782043 | Accuracy: 100.0%\n",
      " | Epoch 0 | Loss: 0.4167340397834778 | Accuracy: 100.0%\n",
      " | Epoch 0 | Loss: 0.3751279413700104 | Accuracy: 100.0%\n",
      " | Epoch 0 | Loss: 0.3918314278125763 | Accuracy: 100.0%\n",
      " | Epoch 0 | Loss: 0.5062317252159119 | Accuracy: 96.875%\n",
      " | Epoch 0 | Loss: 0.3759416341781616 | Accuracy: 100.0%\n",
      " | Epoch 0 | Loss: 0.36958223581314087 | Accuracy: 96.875%\n",
      " | Epoch 0 | Loss: 0.3571349084377289 | Accuracy: 100.0%\n",
      " | Epoch 0 | Loss: 0.31835347414016724 | Accuracy: 100.0%\n",
      " | Epoch 0 | Loss: 0.4287627637386322 | Accuracy: 96.875%\n",
      " | Epoch 0 | Loss: 0.2792637348175049 | Accuracy: 100.0%\n",
      " | Epoch 0 | Loss: 0.2679251730442047 | Accuracy: 100.0%\n",
      " | Epoch 0 | Loss: 0.2676442265510559 | Accuracy: 100.0%\n",
      " | Epoch 0 | Loss: 0.2280767261981964 | Accuracy: 100.0%\n",
      " | Epoch 0 | Loss: 0.2864235043525696 | Accuracy: 96.875%\n",
      " | Epoch 0 | Loss: 0.2357712686061859 | Accuracy: 100.0%\n",
      " | Epoch 0 | Loss: 0.24394534528255463 | Accuracy: 100.0%\n",
      " | Epoch 0 | Loss: 0.22165240347385406 | Accuracy: 100.0%\n",
      " | Epoch 0 | Loss: 0.21795804798603058 | Accuracy: 100.0%\n",
      " | Epoch 0 | Loss: 0.17570477724075317 | Accuracy: 100.0%\n",
      " | Epoch 0 | Loss: 0.196475088596344 | Accuracy: 100.0%\n",
      " | Epoch 0 | Loss: 0.16685166954994202 | Accuracy: 100.0%\n",
      " | Epoch 0 | Loss: 0.3275832235813141 | Accuracy: 96.875%\n",
      " | Epoch 0 | Loss: 0.146873340010643 | Accuracy: 100.0%\n",
      " | Epoch 0 | Loss: 0.16559362411499023 | Accuracy: 100.0%\n",
      " | Epoch 0 | Loss: 0.1328810155391693 | Accuracy: 100.0%\n",
      " | Epoch 0 | Loss: 0.13035845756530762 | Accuracy: 100.0%\n",
      " | Epoch 0 | Loss: 0.1466563493013382 | Accuracy: 100.0%\n",
      " | Epoch 0 | Loss: 0.11625982075929642 | Accuracy: 100.0%\n",
      " | Epoch 0 | Loss: 0.1105281189084053 | Accuracy: 100.0%\n",
      " | Epoch 0 | Loss: 0.10043498873710632 | Accuracy: 100.0%\n",
      " | Epoch 0 | Loss: 0.12308448553085327 | Accuracy: 100.0%\n",
      " | Epoch 0 | Loss: 0.09603190422058105 | Accuracy: 100.0%\n",
      " | Epoch 0 | Loss: 0.10691371560096741 | Accuracy: 100.0%\n",
      " | Epoch 0 | Loss: 0.08782424032688141 | Accuracy: 100.0%\n",
      " | Epoch 0 | Loss: 0.08450448513031006 | Accuracy: 100.0%\n",
      " | Epoch 0 | Loss: 0.08098618686199188 | Accuracy: 100.0%\n",
      " | Epoch 0 | Loss: 0.22560541331768036 | Accuracy: 96.875%\n",
      " | Epoch 0 | Loss: 0.07744103670120239 | Accuracy: 100.0%\n",
      " | Epoch 0 | Loss: 0.2330297976732254 | Accuracy: 96.875%\n",
      " | Epoch 0 | Loss: 0.07121968269348145 | Accuracy: 100.0%\n",
      " | Epoch 0 | Loss: 0.06849579513072968 | Accuracy: 100.0%\n",
      " | Epoch 0 | Loss: 0.06762167066335678 | Accuracy: 100.0%\n",
      " | Epoch 0 | Loss: 0.061622049659490585 | Accuracy: 100.0%\n",
      " | Epoch 0 | Loss: 0.05960451811552048 | Accuracy: 100.0%\n"
     ]
    },
    {
     "name": "stderr",
     "output_type": "stream",
     "text": [
      "Epoch 0:  31%|████████▉                    | 462/1501 [00:01<00:02, 501.49batch/s, accuracy=96.875%, loss=0.202]"
     ]
    },
    {
     "name": "stdout",
     "output_type": "stream",
     "text": [
      " | Epoch 0 | Loss: 0.05043099820613861 | Accuracy: 100.0%\n",
      " | Epoch 0 | Loss: 0.05873533710837364 | Accuracy: 100.0%\n",
      " | Epoch 0 | Loss: 0.06120317056775093 | Accuracy: 100.0%\n",
      " | Epoch 0 | Loss: 0.059636440128088 | Accuracy: 100.0%\n",
      " | Epoch 0 | Loss: 0.054279401898384094 | Accuracy: 100.0%\n",
      " | Epoch 0 | Loss: 0.04874921962618828 | Accuracy: 100.0%\n",
      " | Epoch 0 | Loss: 0.29939788579940796 | Accuracy: 93.75%\n",
      " | Epoch 0 | Loss: 0.04136746749281883 | Accuracy: 100.0%\n",
      " | Epoch 0 | Loss: 0.05226042866706848 | Accuracy: 100.0%\n",
      " | Epoch 0 | Loss: 0.04932316392660141 | Accuracy: 100.0%\n",
      " | Epoch 0 | Loss: 0.049737829715013504 | Accuracy: 100.0%\n",
      " | Epoch 0 | Loss: 0.14002171158790588 | Accuracy: 96.875%\n",
      " | Epoch 0 | Loss: 0.035088878124952316 | Accuracy: 100.0%\n",
      " | Epoch 0 | Loss: 0.038559507578611374 | Accuracy: 100.0%\n",
      " | Epoch 0 | Loss: 0.0332915298640728 | Accuracy: 100.0%\n",
      " | Epoch 0 | Loss: 0.039866380393505096 | Accuracy: 100.0%\n",
      " | Epoch 0 | Loss: 0.039802320301532745 | Accuracy: 100.0%\n",
      " | Epoch 0 | Loss: 0.03496889770030975 | Accuracy: 100.0%\n",
      " | Epoch 0 | Loss: 0.035676367580890656 | Accuracy: 100.0%\n",
      " | Epoch 0 | Loss: 0.4560113549232483 | Accuracy: 93.75%\n",
      " | Epoch 0 | Loss: 0.3541836142539978 | Accuracy: 96.875%\n",
      " | Epoch 0 | Loss: 0.0277988500893116 | Accuracy: 100.0%\n",
      " | Epoch 0 | Loss: 0.030115021392703056 | Accuracy: 100.0%\n",
      " | Epoch 0 | Loss: 0.03163236007094383 | Accuracy: 100.0%\n",
      " | Epoch 0 | Loss: 0.03072493150830269 | Accuracy: 100.0%\n",
      " | Epoch 0 | Loss: 0.02855219691991806 | Accuracy: 100.0%\n",
      " | Epoch 0 | Loss: 0.030562134459614754 | Accuracy: 100.0%\n",
      " | Epoch 0 | Loss: 0.03226417675614357 | Accuracy: 100.0%\n",
      " | Epoch 0 | Loss: 0.04507765173912048 | Accuracy: 100.0%\n",
      " | Epoch 0 | Loss: 0.030131636187434196 | Accuracy: 100.0%\n",
      " | Epoch 0 | Loss: 0.04038887843489647 | Accuracy: 100.0%\n",
      " | Epoch 0 | Loss: 0.19636689126491547 | Accuracy: 96.875%\n",
      " | Epoch 0 | Loss: 0.03201562166213989 | Accuracy: 100.0%\n",
      " | Epoch 0 | Loss: 0.02705623395740986 | Accuracy: 100.0%\n",
      " | Epoch 0 | Loss: 0.02248699590563774 | Accuracy: 100.0%\n",
      " | Epoch 0 | Loss: 0.02652771584689617 | Accuracy: 100.0%\n",
      " | Epoch 0 | Loss: 0.02474174089729786 | Accuracy: 100.0%\n",
      " | Epoch 0 | Loss: 0.025305254384875298 | Accuracy: 100.0%\n",
      " | Epoch 0 | Loss: 0.02854558452963829 | Accuracy: 100.0%\n",
      " | Epoch 0 | Loss: 0.02438426949083805 | Accuracy: 100.0%\n",
      " | Epoch 0 | Loss: 0.0203706044703722 | Accuracy: 100.0%\n",
      " | Epoch 0 | Loss: 0.02839760109782219 | Accuracy: 100.0%\n",
      " | Epoch 0 | Loss: 0.026609966531395912 | Accuracy: 100.0%\n",
      " | Epoch 0 | Loss: 0.02001015655696392 | Accuracy: 100.0%\n",
      " | Epoch 0 | Loss: 0.02007109671831131 | Accuracy: 100.0%\n",
      " | Epoch 0 | Loss: 0.019235914573073387 | Accuracy: 100.0%\n",
      " | Epoch 0 | Loss: 0.028101397678256035 | Accuracy: 100.0%\n",
      " | Epoch 0 | Loss: 0.02262633666396141 | Accuracy: 100.0%\n",
      " | Epoch 0 | Loss: 0.02396061085164547 | Accuracy: 100.0%\n",
      " | Epoch 0 | Loss: 0.01713535375893116 | Accuracy: 100.0%\n",
      " | Epoch 0 | Loss: 0.016825063154101372 | Accuracy: 100.0%\n",
      " | Epoch 0 | Loss: 0.32458630204200745 | Accuracy: 96.875%\n",
      " | Epoch 0 | Loss: 0.02956729382276535 | Accuracy: 100.0%\n",
      " | Epoch 0 | Loss: 0.028235120698809624 | Accuracy: 100.0%\n",
      " | Epoch 0 | Loss: 0.020652612671256065 | Accuracy: 100.0%\n",
      " | Epoch 0 | Loss: 0.019586291164159775 | Accuracy: 100.0%\n",
      " | Epoch 0 | Loss: 0.022050241008400917 | Accuracy: 100.0%\n",
      " | Epoch 0 | Loss: 0.019619755446910858 | Accuracy: 100.0%\n",
      " | Epoch 0 | Loss: 0.016759714111685753 | Accuracy: 100.0%\n",
      " | Epoch 0 | Loss: 0.6782441735267639 | Accuracy: 93.75%\n",
      " | Epoch 0 | Loss: 0.02091255970299244 | Accuracy: 100.0%\n",
      " | Epoch 0 | Loss: 0.33725523948669434 | Accuracy: 96.875%\n",
      " | Epoch 0 | Loss: 0.2934238910675049 | Accuracy: 96.875%\n",
      " | Epoch 0 | Loss: 0.19342514872550964 | Accuracy: 96.875%\n",
      " | Epoch 0 | Loss: 0.023708539083600044 | Accuracy: 100.0%\n",
      " | Epoch 0 | Loss: 0.023559756577014923 | Accuracy: 100.0%\n",
      " | Epoch 0 | Loss: 0.02536877430975437 | Accuracy: 100.0%\n",
      " | Epoch 0 | Loss: 0.024970710277557373 | Accuracy: 100.0%\n",
      " | Epoch 0 | Loss: 0.026772910729050636 | Accuracy: 100.0%\n",
      " | Epoch 0 | Loss: 0.24443423748016357 | Accuracy: 96.875%\n",
      " | Epoch 0 | Loss: 0.0234855804592371 | Accuracy: 100.0%\n",
      " | Epoch 0 | Loss: 0.023573027923703194 | Accuracy: 100.0%\n",
      " | Epoch 0 | Loss: 0.021082930266857147 | Accuracy: 100.0%\n",
      " | Epoch 0 | Loss: 0.01713654398918152 | Accuracy: 100.0%\n",
      " | Epoch 0 | Loss: 0.020963523536920547 | Accuracy: 100.0%\n",
      " | Epoch 0 | Loss: 0.018681000918149948 | Accuracy: 100.0%\n",
      " | Epoch 0 | Loss: 0.017020849511027336 | Accuracy: 100.0%\n",
      " | Epoch 0 | Loss: 0.01771073415875435 | Accuracy: 100.0%\n",
      " | Epoch 0 | Loss: 0.020521678030490875 | Accuracy: 100.0%\n",
      " | Epoch 0 | Loss: 0.024954162538051605 | Accuracy: 100.0%\n",
      " | Epoch 0 | Loss: 0.01892746239900589 | Accuracy: 100.0%\n",
      " | Epoch 0 | Loss: 0.023997941985726357 | Accuracy: 100.0%\n",
      " | Epoch 0 | Loss: 0.022002678364515305 | Accuracy: 100.0%\n",
      " | Epoch 0 | Loss: 0.021539974957704544 | Accuracy: 100.0%\n",
      " | Epoch 0 | Loss: 0.015220379456877708 | Accuracy: 100.0%\n",
      " | Epoch 0 | Loss: 0.01571442000567913 | Accuracy: 100.0%\n",
      " | Epoch 0 | Loss: 0.018891070038080215 | Accuracy: 100.0%\n",
      " | Epoch 0 | Loss: 0.01759503409266472 | Accuracy: 100.0%\n",
      " | Epoch 0 | Loss: 0.017420770600438118 | Accuracy: 100.0%\n",
      " | Epoch 0 | Loss: 0.01765475794672966 | Accuracy: 100.0%\n",
      " | Epoch 0 | Loss: 0.014708464965224266 | Accuracy: 100.0%\n",
      " | Epoch 0 | Loss: 0.016537455841898918 | Accuracy: 100.0%\n",
      " | Epoch 0 | Loss: 0.01610039547085762 | Accuracy: 100.0%\n",
      " | Epoch 0 | Loss: 0.01399778202176094 | Accuracy: 100.0%\n",
      " | Epoch 0 | Loss: 0.016747090965509415 | Accuracy: 100.0%\n",
      " | Epoch 0 | Loss: 0.01437173131853342 | Accuracy: 100.0%\n",
      " | Epoch 0 | Loss: 0.2795219421386719 | Accuracy: 96.875%\n",
      " | Epoch 0 | Loss: 0.01876768469810486 | Accuracy: 100.0%\n",
      " | Epoch 0 | Loss: 0.014820109121501446 | Accuracy: 100.0%\n",
      " | Epoch 0 | Loss: 0.015561123378574848 | Accuracy: 100.0%\n",
      " | Epoch 0 | Loss: 0.015285644680261612 | Accuracy: 100.0%\n",
      " | Epoch 0 | Loss: 0.013859029859304428 | Accuracy: 100.0%\n",
      " | Epoch 0 | Loss: 0.01357735600322485 | Accuracy: 100.0%\n",
      " | Epoch 0 | Loss: 0.01650114730000496 | Accuracy: 100.0%\n",
      " | Epoch 0 | Loss: 0.20232102274894714 | Accuracy: 96.875%\n"
     ]
    },
    {
     "name": "stderr",
     "output_type": "stream",
     "text": [
      "Epoch 0:  38%|██████████▌                 | 568/1501 [00:01<00:01, 511.34batch/s, accuracy=100.0%, loss=0.00899]"
     ]
    },
    {
     "name": "stdout",
     "output_type": "stream",
     "text": [
      " | Epoch 0 | Loss: 0.17377305030822754 | Accuracy: 96.875%\n",
      " | Epoch 0 | Loss: 0.0159145575016737 | Accuracy: 100.0%\n",
      " | Epoch 0 | Loss: 0.013551350682973862 | Accuracy: 100.0%\n",
      " | Epoch 0 | Loss: 0.012162416242063046 | Accuracy: 100.0%\n",
      " | Epoch 0 | Loss: 0.01308224257081747 | Accuracy: 100.0%\n",
      " | Epoch 0 | Loss: 0.013982323929667473 | Accuracy: 100.0%\n",
      " | Epoch 0 | Loss: 0.015672698616981506 | Accuracy: 100.0%\n",
      " | Epoch 0 | Loss: 0.015378741547465324 | Accuracy: 100.0%\n",
      " | Epoch 0 | Loss: 0.01419096440076828 | Accuracy: 100.0%\n",
      " | Epoch 0 | Loss: 0.013833189383149147 | Accuracy: 100.0%\n",
      " | Epoch 0 | Loss: 0.01333282794803381 | Accuracy: 100.0%\n",
      " | Epoch 0 | Loss: 0.013805617578327656 | Accuracy: 100.0%\n",
      " | Epoch 0 | Loss: 0.24751946330070496 | Accuracy: 96.875%\n",
      " | Epoch 0 | Loss: 0.012788744643330574 | Accuracy: 100.0%\n",
      " | Epoch 0 | Loss: 0.014210999011993408 | Accuracy: 100.0%\n",
      " | Epoch 0 | Loss: 0.014386351220309734 | Accuracy: 100.0%\n",
      " | Epoch 0 | Loss: 0.012736756354570389 | Accuracy: 100.0%\n",
      " | Epoch 0 | Loss: 0.01132182590663433 | Accuracy: 100.0%\n",
      " | Epoch 0 | Loss: 0.013864971697330475 | Accuracy: 100.0%\n",
      " | Epoch 0 | Loss: 0.009670315310359001 | Accuracy: 100.0%\n",
      " | Epoch 0 | Loss: 0.012496941722929478 | Accuracy: 100.0%\n",
      " | Epoch 0 | Loss: 0.011105000041425228 | Accuracy: 100.0%\n",
      " | Epoch 0 | Loss: 0.01275070384144783 | Accuracy: 100.0%\n",
      " | Epoch 0 | Loss: 0.011378902941942215 | Accuracy: 100.0%\n",
      " | Epoch 0 | Loss: 0.012837939895689487 | Accuracy: 100.0%\n",
      " | Epoch 0 | Loss: 0.011475698091089725 | Accuracy: 100.0%\n",
      " | Epoch 0 | Loss: 0.01065999735146761 | Accuracy: 100.0%\n",
      " | Epoch 0 | Loss: 0.012802224606275558 | Accuracy: 100.0%\n",
      " | Epoch 0 | Loss: 0.013115459121763706 | Accuracy: 100.0%\n",
      " | Epoch 0 | Loss: 0.012180901132524014 | Accuracy: 100.0%\n",
      " | Epoch 0 | Loss: 0.011563439853489399 | Accuracy: 100.0%\n",
      " | Epoch 0 | Loss: 0.010913974605500698 | Accuracy: 100.0%\n",
      " | Epoch 0 | Loss: 0.012656751088798046 | Accuracy: 100.0%\n",
      " | Epoch 0 | Loss: 0.012907844968140125 | Accuracy: 100.0%\n",
      " | Epoch 0 | Loss: 0.010107466951012611 | Accuracy: 100.0%\n",
      " | Epoch 0 | Loss: 0.013262649066746235 | Accuracy: 100.0%\n",
      " | Epoch 0 | Loss: 0.36295953392982483 | Accuracy: 96.875%\n",
      " | Epoch 0 | Loss: 0.17723257839679718 | Accuracy: 96.875%\n",
      " | Epoch 0 | Loss: 0.011906661093235016 | Accuracy: 100.0%\n",
      " | Epoch 0 | Loss: 0.012144568376243114 | Accuracy: 100.0%\n",
      " | Epoch 0 | Loss: 0.01329985074698925 | Accuracy: 100.0%\n",
      " | Epoch 0 | Loss: 0.012320388108491898 | Accuracy: 100.0%\n",
      " | Epoch 0 | Loss: 0.011460471898317337 | Accuracy: 100.0%\n",
      " | Epoch 0 | Loss: 0.010878520086407661 | Accuracy: 100.0%\n",
      " | Epoch 0 | Loss: 0.01193395908921957 | Accuracy: 100.0%\n",
      " | Epoch 0 | Loss: 0.010065491311252117 | Accuracy: 100.0%\n",
      " | Epoch 0 | Loss: 0.008538474328815937 | Accuracy: 100.0%\n",
      " | Epoch 0 | Loss: 0.012253633700311184 | Accuracy: 100.0%\n",
      " | Epoch 0 | Loss: 0.010176747106015682 | Accuracy: 100.0%\n",
      " | Epoch 0 | Loss: 0.011764399707317352 | Accuracy: 100.0%\n",
      " | Epoch 0 | Loss: 0.012528489343822002 | Accuracy: 100.0%\n",
      " | Epoch 0 | Loss: 0.012719575315713882 | Accuracy: 100.0%\n",
      " | Epoch 0 | Loss: 0.01105260569602251 | Accuracy: 100.0%\n",
      " | Epoch 0 | Loss: 0.010284701362252235 | Accuracy: 100.0%\n",
      " | Epoch 0 | Loss: 0.009938808158040047 | Accuracy: 100.0%\n",
      " | Epoch 0 | Loss: 0.010521489195525646 | Accuracy: 100.0%\n",
      " | Epoch 0 | Loss: 0.011053397320210934 | Accuracy: 100.0%\n",
      " | Epoch 0 | Loss: 0.010237112641334534 | Accuracy: 100.0%\n",
      " | Epoch 0 | Loss: 0.15461911261081696 | Accuracy: 96.875%\n",
      " | Epoch 0 | Loss: 0.4352485239505768 | Accuracy: 96.875%\n",
      " | Epoch 0 | Loss: 0.3631104826927185 | Accuracy: 96.875%\n",
      " | Epoch 0 | Loss: 0.010317113250494003 | Accuracy: 100.0%\n",
      " | Epoch 0 | Loss: 0.008716323412954807 | Accuracy: 100.0%\n",
      " | Epoch 0 | Loss: 0.01220051757991314 | Accuracy: 100.0%\n",
      " | Epoch 0 | Loss: 0.010775675065815449 | Accuracy: 100.0%\n",
      " | Epoch 0 | Loss: 0.017307346686720848 | Accuracy: 100.0%\n",
      " | Epoch 0 | Loss: 0.012702292762696743 | Accuracy: 100.0%\n",
      " | Epoch 0 | Loss: 0.013105032965540886 | Accuracy: 100.0%\n",
      " | Epoch 0 | Loss: 0.01166952308267355 | Accuracy: 100.0%\n",
      " | Epoch 0 | Loss: 0.010514470748603344 | Accuracy: 100.0%\n",
      " | Epoch 0 | Loss: 0.19561198353767395 | Accuracy: 96.875%\n",
      " | Epoch 0 | Loss: 0.010722499340772629 | Accuracy: 100.0%\n",
      " | Epoch 0 | Loss: 0.011007021181285381 | Accuracy: 100.0%\n",
      " | Epoch 0 | Loss: 0.010246233083307743 | Accuracy: 100.0%\n",
      " | Epoch 0 | Loss: 0.01391503307968378 | Accuracy: 100.0%\n",
      " | Epoch 0 | Loss: 0.008965948596596718 | Accuracy: 100.0%\n",
      " | Epoch 0 | Loss: 0.011815834790468216 | Accuracy: 100.0%\n",
      " | Epoch 0 | Loss: 0.010823695920407772 | Accuracy: 100.0%\n",
      " | Epoch 0 | Loss: 0.382906436920166 | Accuracy: 96.875%\n",
      " | Epoch 0 | Loss: 0.010002377443015575 | Accuracy: 100.0%\n",
      " | Epoch 0 | Loss: 0.010594152845442295 | Accuracy: 100.0%\n",
      " | Epoch 0 | Loss: 0.010846439749002457 | Accuracy: 100.0%\n",
      " | Epoch 0 | Loss: 0.0170871764421463 | Accuracy: 100.0%\n",
      " | Epoch 0 | Loss: 0.009549668990075588 | Accuracy: 100.0%\n",
      " | Epoch 0 | Loss: 0.01443217508494854 | Accuracy: 100.0%\n",
      " | Epoch 0 | Loss: 0.011490973643958569 | Accuracy: 100.0%\n",
      " | Epoch 0 | Loss: 0.14886631071567535 | Accuracy: 96.875%\n",
      " | Epoch 0 | Loss: 0.012140747159719467 | Accuracy: 100.0%\n",
      " | Epoch 0 | Loss: 0.18462134897708893 | Accuracy: 96.875%\n",
      " | Epoch 0 | Loss: 0.012054668739438057 | Accuracy: 100.0%\n",
      " | Epoch 0 | Loss: 0.014112281613051891 | Accuracy: 100.0%\n",
      " | Epoch 0 | Loss: 0.012902600690722466 | Accuracy: 100.0%\n",
      " | Epoch 0 | Loss: 0.011013703420758247 | Accuracy: 100.0%\n",
      " | Epoch 0 | Loss: 0.012604273855686188 | Accuracy: 100.0%\n",
      " | Epoch 0 | Loss: 0.009757614694535732 | Accuracy: 100.0%\n",
      " | Epoch 0 | Loss: 0.015054628252983093 | Accuracy: 100.0%\n",
      " | Epoch 0 | Loss: 0.00968256127089262 | Accuracy: 100.0%\n",
      " | Epoch 0 | Loss: 0.01181685272604227 | Accuracy: 100.0%\n",
      " | Epoch 0 | Loss: 0.01030968502163887 | Accuracy: 100.0%\n",
      " | Epoch 0 | Loss: 0.011005190201103687 | Accuracy: 100.0%\n",
      " | Epoch 0 | Loss: 0.012936107814311981 | Accuracy: 100.0%\n",
      " | Epoch 0 | Loss: 0.011773752979934216 | Accuracy: 100.0%\n",
      " | Epoch 0 | Loss: 0.011502616107463837 | Accuracy: 100.0%\n",
      " | Epoch 0 | Loss: 0.009289102628827095 | Accuracy: 100.0%\n",
      " | Epoch 0 | Loss: 0.009771213866770267 | Accuracy: 100.0%\n",
      " | Epoch 0 | Loss: 0.009761850349605083 | Accuracy: 100.0%\n",
      " | Epoch 0 | Loss: 0.008989975787699223 | Accuracy: 100.0%\n"
     ]
    },
    {
     "name": "stderr",
     "output_type": "stream",
     "text": [
      "Epoch 0:  45%|████████████▌               | 674/1501 [00:01<00:01, 516.49batch/s, accuracy=100.0%, loss=0.00938]"
     ]
    },
    {
     "name": "stdout",
     "output_type": "stream",
     "text": [
      " | Epoch 0 | Loss: 0.008607907220721245 | Accuracy: 100.0%\n",
      " | Epoch 0 | Loss: 0.01214104425162077 | Accuracy: 100.0%\n",
      " | Epoch 0 | Loss: 0.009596885181963444 | Accuracy: 100.0%\n",
      " | Epoch 0 | Loss: 0.009049363434314728 | Accuracy: 100.0%\n",
      " | Epoch 0 | Loss: 0.010254201479256153 | Accuracy: 100.0%\n",
      " | Epoch 0 | Loss: 0.011232297867536545 | Accuracy: 100.0%\n",
      " | Epoch 0 | Loss: 0.18081694841384888 | Accuracy: 96.875%\n",
      " | Epoch 0 | Loss: 0.008086771704256535 | Accuracy: 100.0%\n",
      " | Epoch 0 | Loss: 0.0082477368414402 | Accuracy: 100.0%\n",
      " | Epoch 0 | Loss: 0.011683573015034199 | Accuracy: 100.0%\n",
      " | Epoch 0 | Loss: 0.009096729569137096 | Accuracy: 100.0%\n",
      " | Epoch 0 | Loss: 0.00913270004093647 | Accuracy: 100.0%\n",
      " | Epoch 0 | Loss: 0.008986411616206169 | Accuracy: 100.0%\n",
      " | Epoch 0 | Loss: 0.0074330829083919525 | Accuracy: 100.0%\n",
      " | Epoch 0 | Loss: 0.012416874058544636 | Accuracy: 100.0%\n",
      " | Epoch 0 | Loss: 0.008495215326547623 | Accuracy: 100.0%\n",
      " | Epoch 0 | Loss: 0.00807272456586361 | Accuracy: 100.0%\n",
      " | Epoch 0 | Loss: 0.009884102270007133 | Accuracy: 100.0%\n",
      " | Epoch 0 | Loss: 0.39848291873931885 | Accuracy: 96.875%\n",
      " | Epoch 0 | Loss: 0.006390125956386328 | Accuracy: 100.0%\n",
      " | Epoch 0 | Loss: 0.009585530497133732 | Accuracy: 100.0%\n",
      " | Epoch 0 | Loss: 0.00817810744047165 | Accuracy: 100.0%\n",
      " | Epoch 0 | Loss: 0.007941408082842827 | Accuracy: 100.0%\n",
      " | Epoch 0 | Loss: 0.3585246503353119 | Accuracy: 96.875%\n",
      " | Epoch 0 | Loss: 0.008641612716019154 | Accuracy: 100.0%\n",
      " | Epoch 0 | Loss: 0.008129809983074665 | Accuracy: 100.0%\n",
      " | Epoch 0 | Loss: 0.008455888368189335 | Accuracy: 100.0%\n",
      " | Epoch 0 | Loss: 0.008659198880195618 | Accuracy: 100.0%\n",
      " | Epoch 0 | Loss: 0.009069961495697498 | Accuracy: 100.0%\n",
      " | Epoch 0 | Loss: 0.010122035630047321 | Accuracy: 100.0%\n",
      " | Epoch 0 | Loss: 0.007549136411398649 | Accuracy: 100.0%\n",
      " | Epoch 0 | Loss: 0.008150596171617508 | Accuracy: 100.0%\n",
      " | Epoch 0 | Loss: 0.008989269845187664 | Accuracy: 100.0%\n",
      " | Epoch 0 | Loss: 0.19918705523014069 | Accuracy: 96.875%\n",
      " | Epoch 0 | Loss: 0.16400815546512604 | Accuracy: 96.875%\n",
      " | Epoch 0 | Loss: 0.009700212627649307 | Accuracy: 100.0%\n",
      " | Epoch 0 | Loss: 0.008650125004351139 | Accuracy: 100.0%\n",
      " | Epoch 0 | Loss: 0.010449623689055443 | Accuracy: 100.0%\n",
      " | Epoch 0 | Loss: 0.009431307204067707 | Accuracy: 100.0%\n",
      " | Epoch 0 | Loss: 0.00863031018525362 | Accuracy: 100.0%\n",
      " | Epoch 0 | Loss: 0.009344850666821003 | Accuracy: 100.0%\n",
      " | Epoch 0 | Loss: 0.01026757899671793 | Accuracy: 100.0%\n",
      " | Epoch 0 | Loss: 0.33441537618637085 | Accuracy: 96.875%\n",
      " | Epoch 0 | Loss: 0.008038842119276524 | Accuracy: 100.0%\n",
      " | Epoch 0 | Loss: 0.011129887774586678 | Accuracy: 100.0%\n",
      " | Epoch 0 | Loss: 0.009166904725134373 | Accuracy: 100.0%\n",
      " | Epoch 0 | Loss: 0.009604471735656261 | Accuracy: 100.0%\n",
      " | Epoch 0 | Loss: 0.3985556662082672 | Accuracy: 96.875%\n",
      " | Epoch 0 | Loss: 0.010509329847991467 | Accuracy: 100.0%\n",
      " | Epoch 0 | Loss: 0.010596323758363724 | Accuracy: 100.0%\n",
      " | Epoch 0 | Loss: 0.39430204033851624 | Accuracy: 96.875%\n",
      " | Epoch 0 | Loss: 0.01204180158674717 | Accuracy: 100.0%\n",
      " | Epoch 0 | Loss: 0.0091128284111619 | Accuracy: 100.0%\n",
      " | Epoch 0 | Loss: 0.013814381323754787 | Accuracy: 100.0%\n",
      " | Epoch 0 | Loss: 0.012203712947666645 | Accuracy: 100.0%\n",
      " | Epoch 0 | Loss: 0.13647329807281494 | Accuracy: 96.875%\n",
      " | Epoch 0 | Loss: 0.018861478194594383 | Accuracy: 100.0%\n",
      " | Epoch 0 | Loss: 0.012930684722959995 | Accuracy: 100.0%\n",
      " | Epoch 0 | Loss: 0.012191862799227238 | Accuracy: 100.0%\n",
      " | Epoch 0 | Loss: 0.18485644459724426 | Accuracy: 96.875%\n",
      " | Epoch 0 | Loss: 0.016455374658107758 | Accuracy: 100.0%\n",
      " | Epoch 0 | Loss: 0.0147193418815732 | Accuracy: 100.0%\n",
      " | Epoch 0 | Loss: 0.012458431534469128 | Accuracy: 100.0%\n",
      " | Epoch 0 | Loss: 0.014454485848546028 | Accuracy: 100.0%\n",
      " | Epoch 0 | Loss: 0.01271221786737442 | Accuracy: 100.0%\n",
      " | Epoch 0 | Loss: 0.32488423585891724 | Accuracy: 96.875%\n",
      " | Epoch 0 | Loss: 0.014346166513860226 | Accuracy: 100.0%\n",
      " | Epoch 0 | Loss: 0.0144640589132905 | Accuracy: 100.0%\n",
      " | Epoch 0 | Loss: 0.3723171651363373 | Accuracy: 96.875%\n",
      " | Epoch 0 | Loss: 0.012721994891762733 | Accuracy: 100.0%\n",
      " | Epoch 0 | Loss: 0.014954795129597187 | Accuracy: 100.0%\n",
      " | Epoch 0 | Loss: 0.014172672294080257 | Accuracy: 100.0%\n",
      " | Epoch 0 | Loss: 0.013958469033241272 | Accuracy: 100.0%\n",
      " | Epoch 0 | Loss: 0.012772341258823872 | Accuracy: 100.0%\n",
      " | Epoch 0 | Loss: 0.3190343677997589 | Accuracy: 96.875%\n",
      " | Epoch 0 | Loss: 0.011054916307330132 | Accuracy: 100.0%\n",
      " | Epoch 0 | Loss: 0.013053331524133682 | Accuracy: 100.0%\n",
      " | Epoch 0 | Loss: 0.011740571819245815 | Accuracy: 100.0%\n",
      " | Epoch 0 | Loss: 0.010655470192432404 | Accuracy: 100.0%\n",
      " | Epoch 0 | Loss: 0.011665488593280315 | Accuracy: 100.0%\n",
      " | Epoch 0 | Loss: 0.1657462865114212 | Accuracy: 96.875%\n",
      " | Epoch 0 | Loss: 0.010804940015077591 | Accuracy: 100.0%\n",
      " | Epoch 0 | Loss: 0.1863204389810562 | Accuracy: 96.875%\n",
      " | Epoch 0 | Loss: 0.011988678015768528 | Accuracy: 100.0%\n",
      " | Epoch 0 | Loss: 0.00852262880653143 | Accuracy: 100.0%\n",
      " | Epoch 0 | Loss: 0.012321277521550655 | Accuracy: 100.0%\n",
      " | Epoch 0 | Loss: 0.012524214573204517 | Accuracy: 100.0%\n",
      " | Epoch 0 | Loss: 0.010108215734362602 | Accuracy: 100.0%\n",
      " | Epoch 0 | Loss: 0.010442682541906834 | Accuracy: 100.0%\n",
      " | Epoch 0 | Loss: 0.013453477993607521 | Accuracy: 100.0%\n",
      " | Epoch 0 | Loss: 0.009678985923528671 | Accuracy: 100.0%\n",
      " | Epoch 0 | Loss: 0.007585268933326006 | Accuracy: 100.0%\n",
      " | Epoch 0 | Loss: 0.011214368976652622 | Accuracy: 100.0%\n",
      " | Epoch 0 | Loss: 0.017185330390930176 | Accuracy: 100.0%\n",
      " | Epoch 0 | Loss: 0.010929090902209282 | Accuracy: 100.0%\n",
      " | Epoch 0 | Loss: 0.15409691631793976 | Accuracy: 96.875%\n",
      " | Epoch 0 | Loss: 0.011032858863472939 | Accuracy: 100.0%\n",
      " | Epoch 0 | Loss: 0.009745205752551556 | Accuracy: 100.0%\n",
      " | Epoch 0 | Loss: 0.01614384725689888 | Accuracy: 100.0%\n",
      " | Epoch 0 | Loss: 0.010595542378723621 | Accuracy: 100.0%\n",
      " | Epoch 0 | Loss: 0.014175406657159328 | Accuracy: 100.0%\n",
      " | Epoch 0 | Loss: 0.012174209579825401 | Accuracy: 100.0%\n",
      " | Epoch 0 | Loss: 0.012050103396177292 | Accuracy: 100.0%\n",
      " | Epoch 0 | Loss: 0.009383228607475758 | Accuracy: 100.0%\n"
     ]
    },
    {
     "name": "stderr",
     "output_type": "stream",
     "text": [
      "Epoch 0:  52%|██████████████▌             | 779/1501 [00:01<00:01, 458.74batch/s, accuracy=100.0%, loss=0.00775]"
     ]
    },
    {
     "name": "stdout",
     "output_type": "stream",
     "text": [
      " | Epoch 0 | Loss: 0.01592233031988144 | Accuracy: 100.0%\n",
      " | Epoch 0 | Loss: 0.012308325618505478 | Accuracy: 100.0%\n",
      " | Epoch 0 | Loss: 0.008600643835961819 | Accuracy: 100.0%\n",
      " | Epoch 0 | Loss: 0.011014298535883427 | Accuracy: 100.0%\n",
      " | Epoch 0 | Loss: 0.011840522289276123 | Accuracy: 100.0%\n",
      " | Epoch 0 | Loss: 0.011273574084043503 | Accuracy: 100.0%\n",
      " | Epoch 0 | Loss: 0.009869256988167763 | Accuracy: 100.0%\n",
      " | Epoch 0 | Loss: 0.16746041178703308 | Accuracy: 96.875%\n",
      " | Epoch 0 | Loss: 0.009065494872629642 | Accuracy: 100.0%\n",
      " | Epoch 0 | Loss: 0.008512880653142929 | Accuracy: 100.0%\n",
      " | Epoch 0 | Loss: 0.010180004872381687 | Accuracy: 100.0%\n",
      " | Epoch 0 | Loss: 0.012063943780958652 | Accuracy: 100.0%\n",
      " | Epoch 0 | Loss: 0.009571087546646595 | Accuracy: 100.0%\n",
      " | Epoch 0 | Loss: 0.012028276920318604 | Accuracy: 100.0%\n",
      " | Epoch 0 | Loss: 0.01067358162254095 | Accuracy: 100.0%\n",
      " | Epoch 0 | Loss: 0.008612360805273056 | Accuracy: 100.0%\n",
      " | Epoch 0 | Loss: 0.0103533323854208 | Accuracy: 100.0%\n",
      " | Epoch 0 | Loss: 0.009312622249126434 | Accuracy: 100.0%\n",
      " | Epoch 0 | Loss: 0.008084588684141636 | Accuracy: 100.0%\n",
      " | Epoch 0 | Loss: 0.008572128601372242 | Accuracy: 100.0%\n",
      " | Epoch 0 | Loss: 0.008892104029655457 | Accuracy: 100.0%\n",
      " | Epoch 0 | Loss: 0.010547399520874023 | Accuracy: 100.0%\n",
      " | Epoch 0 | Loss: 0.008537078276276588 | Accuracy: 100.0%\n",
      " | Epoch 0 | Loss: 0.009829696267843246 | Accuracy: 100.0%\n",
      " | Epoch 0 | Loss: 0.008917500264942646 | Accuracy: 100.0%\n",
      " | Epoch 0 | Loss: 0.008153671398758888 | Accuracy: 100.0%\n",
      " | Epoch 0 | Loss: 0.00818921159952879 | Accuracy: 100.0%\n",
      " | Epoch 0 | Loss: 0.009040492586791515 | Accuracy: 100.0%\n",
      " | Epoch 0 | Loss: 0.00774304149672389 | Accuracy: 100.0%\n",
      " | Epoch 0 | Loss: 0.007766222581267357 | Accuracy: 100.0%\n",
      " | Epoch 0 | Loss: 0.0076724146492779255 | Accuracy: 100.0%\n",
      " | Epoch 0 | Loss: 0.010114699602127075 | Accuracy: 100.0%\n",
      " | Epoch 0 | Loss: 0.008765868842601776 | Accuracy: 100.0%\n",
      " | Epoch 0 | Loss: 0.0065765222534537315 | Accuracy: 100.0%\n",
      " | Epoch 0 | Loss: 0.0073662628419697285 | Accuracy: 100.0%\n",
      " | Epoch 0 | Loss: 0.008023575879633427 | Accuracy: 100.0%\n",
      " | Epoch 0 | Loss: 0.010407032445073128 | Accuracy: 100.0%\n",
      " | Epoch 0 | Loss: 0.007508193142712116 | Accuracy: 100.0%\n",
      " | Epoch 0 | Loss: 0.0076434859074652195 | Accuracy: 100.0%\n",
      " | Epoch 0 | Loss: 0.007486256770789623 | Accuracy: 100.0%\n",
      " | Epoch 0 | Loss: 0.008148986846208572 | Accuracy: 100.0%\n",
      " | Epoch 0 | Loss: 0.007291216403245926 | Accuracy: 100.0%\n",
      " | Epoch 0 | Loss: 0.005642996635288 | Accuracy: 100.0%\n",
      " | Epoch 0 | Loss: 0.007655192632228136 | Accuracy: 100.0%\n",
      " | Epoch 0 | Loss: 0.008647017180919647 | Accuracy: 100.0%\n",
      " | Epoch 0 | Loss: 0.007773962803184986 | Accuracy: 100.0%\n",
      " | Epoch 0 | Loss: 0.40405210852622986 | Accuracy: 96.875%\n",
      " | Epoch 0 | Loss: 0.006354065146297216 | Accuracy: 100.0%\n",
      " | Epoch 0 | Loss: 0.006751547567546368 | Accuracy: 100.0%\n",
      " | Epoch 0 | Loss: 0.007996239699423313 | Accuracy: 100.0%\n",
      " | Epoch 0 | Loss: 0.007852759212255478 | Accuracy: 100.0%\n",
      " | Epoch 0 | Loss: 0.1864841878414154 | Accuracy: 96.875%\n",
      " | Epoch 0 | Loss: 0.007096201181411743 | Accuracy: 100.0%\n",
      " | Epoch 0 | Loss: 0.007859715260565281 | Accuracy: 100.0%\n",
      " | Epoch 0 | Loss: 0.008529458194971085 | Accuracy: 100.0%\n",
      " | Epoch 0 | Loss: 0.006936368998140097 | Accuracy: 100.0%\n",
      " | Epoch 0 | Loss: 0.0065736472606658936 | Accuracy: 100.0%\n",
      " | Epoch 0 | Loss: 0.008887612260878086 | Accuracy: 100.0%\n",
      " | Epoch 0 | Loss: 0.007504685316234827 | Accuracy: 100.0%\n",
      " | Epoch 0 | Loss: 0.009130269289016724 | Accuracy: 100.0%\n",
      " | Epoch 0 | Loss: 0.007875004783272743 | Accuracy: 100.0%\n",
      " | Epoch 0 | Loss: 0.007630907464772463 | Accuracy: 100.0%\n",
      " | Epoch 0 | Loss: 0.007384954020380974 | Accuracy: 100.0%\n",
      " | Epoch 0 | Loss: 0.006066448986530304 | Accuracy: 100.0%\n",
      " | Epoch 0 | Loss: 0.0062939380295574665 | Accuracy: 100.0%\n",
      " | Epoch 0 | Loss: 0.007931309752166271 | Accuracy: 100.0%\n",
      " | Epoch 0 | Loss: 0.00684698112308979 | Accuracy: 100.0%\n",
      " | Epoch 0 | Loss: 0.008725243620574474 | Accuracy: 100.0%\n",
      " | Epoch 0 | Loss: 0.3267514705657959 | Accuracy: 96.875%\n",
      " | Epoch 0 | Loss: 0.0075141615234315395 | Accuracy: 100.0%\n",
      " | Epoch 0 | Loss: 0.00731837609782815 | Accuracy: 100.0%\n",
      " | Epoch 0 | Loss: 0.007815329357981682 | Accuracy: 100.0%\n",
      " | Epoch 0 | Loss: 0.006023576017469168 | Accuracy: 100.0%\n",
      " | Epoch 0 | Loss: 0.0062085967510938644 | Accuracy: 100.0%\n",
      " | Epoch 0 | Loss: 0.373921662569046 | Accuracy: 96.875%\n",
      " | Epoch 0 | Loss: 0.006615182384848595 | Accuracy: 100.0%\n",
      " | Epoch 0 | Loss: 0.3875313401222229 | Accuracy: 96.875%\n",
      " | Epoch 0 | Loss: 0.007161020301282406 | Accuracy: 100.0%\n",
      " | Epoch 0 | Loss: 0.006941432133316994 | Accuracy: 100.0%\n",
      " | Epoch 0 | Loss: 0.20217938721179962 | Accuracy: 96.875%\n",
      " | Epoch 0 | Loss: 0.19198718667030334 | Accuracy: 96.875%\n",
      " | Epoch 0 | Loss: 0.007745599839836359 | Accuracy: 100.0%\n"
     ]
    },
    {
     "name": "stderr",
     "output_type": "stream",
     "text": [
      "Epoch 0:  59%|█████████████████            | 881/1501 [00:02<00:01, 475.96batch/s, accuracy=100.0%, loss=0.0103]"
     ]
    },
    {
     "name": "stdout",
     "output_type": "stream",
     "text": [
      " | Epoch 0 | Loss: 0.010106340050697327 | Accuracy: 100.0%\n",
      " | Epoch 0 | Loss: 0.008546064607799053 | Accuracy: 100.0%\n",
      " | Epoch 0 | Loss: 0.22141702473163605 | Accuracy: 96.875%\n",
      " | Epoch 0 | Loss: 0.008212953805923462 | Accuracy: 100.0%\n",
      " | Epoch 0 | Loss: 0.011156044900417328 | Accuracy: 100.0%\n",
      " | Epoch 0 | Loss: 0.01197233609855175 | Accuracy: 100.0%\n",
      " | Epoch 0 | Loss: 0.32073482871055603 | Accuracy: 96.875%\n",
      " | Epoch 0 | Loss: 0.17744596302509308 | Accuracy: 96.875%\n",
      " | Epoch 0 | Loss: 0.015201635658740997 | Accuracy: 100.0%\n",
      " | Epoch 0 | Loss: 0.010081630200147629 | Accuracy: 100.0%\n",
      " | Epoch 0 | Loss: 0.011990986764431 | Accuracy: 100.0%\n",
      " | Epoch 0 | Loss: 0.3843682110309601 | Accuracy: 96.875%\n",
      " | Epoch 0 | Loss: 0.012072751298546791 | Accuracy: 100.0%\n",
      " | Epoch 0 | Loss: 0.012983114458620548 | Accuracy: 100.0%\n",
      " | Epoch 0 | Loss: 0.009746086783707142 | Accuracy: 100.0%\n",
      " | Epoch 0 | Loss: 0.17272953689098358 | Accuracy: 96.875%\n",
      " | Epoch 0 | Loss: 0.01427618321031332 | Accuracy: 100.0%\n",
      " | Epoch 0 | Loss: 0.39749303460121155 | Accuracy: 96.875%\n",
      " | Epoch 0 | Loss: 0.013895033858716488 | Accuracy: 100.0%\n",
      " | Epoch 0 | Loss: 0.013719874434173107 | Accuracy: 100.0%\n",
      " | Epoch 0 | Loss: 0.3487893342971802 | Accuracy: 96.875%\n",
      " | Epoch 0 | Loss: 0.36147424578666687 | Accuracy: 96.875%\n",
      " | Epoch 0 | Loss: 0.012807832099497318 | Accuracy: 100.0%\n",
      " | Epoch 0 | Loss: 0.017391355708241463 | Accuracy: 100.0%\n",
      " | Epoch 0 | Loss: 0.015191379003226757 | Accuracy: 100.0%\n",
      " | Epoch 0 | Loss: 0.017373256385326385 | Accuracy: 100.0%\n",
      " | Epoch 0 | Loss: 0.01649608463048935 | Accuracy: 100.0%\n",
      " | Epoch 0 | Loss: 0.01600661315023899 | Accuracy: 100.0%\n",
      " | Epoch 0 | Loss: 0.013063506223261356 | Accuracy: 100.0%\n",
      " | Epoch 0 | Loss: 0.21243757009506226 | Accuracy: 96.875%\n",
      " | Epoch 0 | Loss: 0.011872528120875359 | Accuracy: 100.0%\n",
      " | Epoch 0 | Loss: 0.013126934878528118 | Accuracy: 100.0%\n",
      " | Epoch 0 | Loss: 0.012360638938844204 | Accuracy: 100.0%\n",
      " | Epoch 0 | Loss: 0.011315841227769852 | Accuracy: 100.0%\n",
      " | Epoch 0 | Loss: 0.2201787531375885 | Accuracy: 96.875%\n",
      " | Epoch 0 | Loss: 0.01392262801527977 | Accuracy: 100.0%\n",
      " | Epoch 0 | Loss: 0.010265130549669266 | Accuracy: 100.0%\n",
      " | Epoch 0 | Loss: 0.011236713267862797 | Accuracy: 100.0%\n",
      " | Epoch 0 | Loss: 0.01345724705606699 | Accuracy: 100.0%\n",
      " | Epoch 0 | Loss: 0.01189202070236206 | Accuracy: 100.0%\n",
      " | Epoch 0 | Loss: 0.011302054859697819 | Accuracy: 100.0%\n",
      " | Epoch 0 | Loss: 0.0117112398147583 | Accuracy: 100.0%\n",
      " | Epoch 0 | Loss: 0.35500288009643555 | Accuracy: 96.875%\n",
      " | Epoch 0 | Loss: 0.010251262225210667 | Accuracy: 100.0%\n",
      " | Epoch 0 | Loss: 0.010026111267507076 | Accuracy: 100.0%\n",
      " | Epoch 0 | Loss: 0.009828164242208004 | Accuracy: 100.0%\n",
      " | Epoch 0 | Loss: 0.010458049364387989 | Accuracy: 100.0%\n",
      " | Epoch 0 | Loss: 0.011392044834792614 | Accuracy: 100.0%\n",
      " | Epoch 0 | Loss: 0.011299521662294865 | Accuracy: 100.0%\n",
      " | Epoch 0 | Loss: 0.0138469273224473 | Accuracy: 100.0%\n",
      " | Epoch 0 | Loss: 0.01129219215363264 | Accuracy: 100.0%\n",
      " | Epoch 0 | Loss: 0.010912456549704075 | Accuracy: 100.0%\n",
      " | Epoch 0 | Loss: 0.009012777358293533 | Accuracy: 100.0%\n",
      " | Epoch 0 | Loss: 0.15752002596855164 | Accuracy: 96.875%\n",
      " | Epoch 0 | Loss: 0.01230973657220602 | Accuracy: 100.0%\n",
      " | Epoch 0 | Loss: 0.010407654568552971 | Accuracy: 100.0%\n",
      " | Epoch 0 | Loss: 0.0102201197296381 | Accuracy: 100.0%\n",
      " | Epoch 0 | Loss: 0.1805029958486557 | Accuracy: 96.875%\n",
      " | Epoch 0 | Loss: 0.011187529191374779 | Accuracy: 100.0%\n",
      " | Epoch 0 | Loss: 0.5023472309112549 | Accuracy: 93.75%\n",
      " | Epoch 0 | Loss: 0.013041247613728046 | Accuracy: 100.0%\n",
      " | Epoch 0 | Loss: 0.011259793303906918 | Accuracy: 100.0%\n",
      " | Epoch 0 | Loss: 0.011928411200642586 | Accuracy: 100.0%\n",
      " | Epoch 0 | Loss: 0.013971872627735138 | Accuracy: 100.0%\n",
      " | Epoch 0 | Loss: 0.013877001591026783 | Accuracy: 100.0%\n",
      " | Epoch 0 | Loss: 0.015807943418622017 | Accuracy: 100.0%\n",
      " | Epoch 0 | Loss: 0.476441890001297 | Accuracy: 93.75%\n",
      " | Epoch 0 | Loss: 0.011806615628302097 | Accuracy: 100.0%\n",
      " | Epoch 0 | Loss: 0.01304690632969141 | Accuracy: 100.0%\n",
      " | Epoch 0 | Loss: 0.011399755254387856 | Accuracy: 100.0%\n",
      " | Epoch 0 | Loss: 0.009245621971786022 | Accuracy: 100.0%\n",
      " | Epoch 0 | Loss: 0.012284062802791595 | Accuracy: 100.0%\n",
      " | Epoch 0 | Loss: 0.012086460366845131 | Accuracy: 100.0%\n",
      " | Epoch 0 | Loss: 0.010957326740026474 | Accuracy: 100.0%\n",
      " | Epoch 0 | Loss: 0.012378654442727566 | Accuracy: 100.0%\n",
      " | Epoch 0 | Loss: 0.01306980475783348 | Accuracy: 100.0%\n",
      " | Epoch 0 | Loss: 0.39961856603622437 | Accuracy: 96.875%\n",
      " | Epoch 0 | Loss: 0.01245179958641529 | Accuracy: 100.0%\n",
      " | Epoch 0 | Loss: 0.19500666856765747 | Accuracy: 96.875%\n",
      " | Epoch 0 | Loss: 0.015423556789755821 | Accuracy: 100.0%\n",
      " | Epoch 0 | Loss: 0.011602567508816719 | Accuracy: 100.0%\n",
      " | Epoch 0 | Loss: 0.014802667312324047 | Accuracy: 100.0%\n",
      " | Epoch 0 | Loss: 0.013067902065813541 | Accuracy: 100.0%\n",
      " | Epoch 0 | Loss: 0.016604697331786156 | Accuracy: 100.0%\n",
      " | Epoch 0 | Loss: 0.010947627015411854 | Accuracy: 100.0%\n",
      " | Epoch 0 | Loss: 0.01041417010128498 | Accuracy: 100.0%\n",
      " | Epoch 0 | Loss: 0.013009666465222836 | Accuracy: 100.0%\n",
      " | Epoch 0 | Loss: 0.010813143104314804 | Accuracy: 100.0%\n",
      " | Epoch 0 | Loss: 0.011300320737063885 | Accuracy: 100.0%\n",
      " | Epoch 0 | Loss: 0.012460737489163876 | Accuracy: 100.0%\n",
      " | Epoch 0 | Loss: 0.013469388708472252 | Accuracy: 100.0%\n",
      " | Epoch 0 | Loss: 0.010111158713698387 | Accuracy: 100.0%\n",
      " | Epoch 0 | Loss: 0.012788642197847366 | Accuracy: 100.0%\n",
      " | Epoch 0 | Loss: 0.012227194383740425 | Accuracy: 100.0%\n",
      " | Epoch 0 | Loss: 0.009598377160727978 | Accuracy: 100.0%\n",
      " | Epoch 0 | Loss: 0.011967887170612812 | Accuracy: 100.0%\n",
      " | Epoch 0 | Loss: 0.3356132209300995 | Accuracy: 96.875%\n",
      " | Epoch 0 | Loss: 0.19136519730091095 | Accuracy: 96.875%\n",
      " | Epoch 0 | Loss: 0.01131508219987154 | Accuracy: 100.0%\n"
     ]
    },
    {
     "name": "stderr",
     "output_type": "stream",
     "text": [
      "Epoch 0:  66%|██████████████████▍         | 988/1501 [00:02<00:01, 498.86batch/s, accuracy=100.0%, loss=0.00954]"
     ]
    },
    {
     "name": "stdout",
     "output_type": "stream",
     "text": [
      " | Epoch 0 | Loss: 0.010329038836061954 | Accuracy: 100.0%\n",
      " | Epoch 0 | Loss: 0.011163556016981602 | Accuracy: 100.0%\n",
      " | Epoch 0 | Loss: 0.00920284353196621 | Accuracy: 100.0%\n",
      " | Epoch 0 | Loss: 0.3350710868835449 | Accuracy: 96.875%\n",
      " | Epoch 0 | Loss: 0.010359006002545357 | Accuracy: 100.0%\n",
      " | Epoch 0 | Loss: 0.010940746404230595 | Accuracy: 100.0%\n",
      " | Epoch 0 | Loss: 0.00966574065387249 | Accuracy: 100.0%\n",
      " | Epoch 0 | Loss: 0.009776091203093529 | Accuracy: 100.0%\n",
      " | Epoch 0 | Loss: 0.01432985719293356 | Accuracy: 100.0%\n",
      " | Epoch 0 | Loss: 0.009700859896838665 | Accuracy: 100.0%\n",
      " | Epoch 0 | Loss: 0.010894116945564747 | Accuracy: 100.0%\n",
      " | Epoch 0 | Loss: 0.009715595282614231 | Accuracy: 100.0%\n",
      " | Epoch 0 | Loss: 0.010186740197241306 | Accuracy: 100.0%\n",
      " | Epoch 0 | Loss: 0.37251508235931396 | Accuracy: 96.875%\n",
      " | Epoch 0 | Loss: 0.013290305621922016 | Accuracy: 100.0%\n",
      " | Epoch 0 | Loss: 0.34897732734680176 | Accuracy: 96.875%\n",
      " | Epoch 0 | Loss: 0.012281998060643673 | Accuracy: 100.0%\n",
      " | Epoch 0 | Loss: 0.01188200619071722 | Accuracy: 100.0%\n",
      " | Epoch 0 | Loss: 0.013894998468458652 | Accuracy: 100.0%\n",
      " | Epoch 0 | Loss: 0.013330426067113876 | Accuracy: 100.0%\n",
      " | Epoch 0 | Loss: 0.012585073709487915 | Accuracy: 100.0%\n",
      " | Epoch 0 | Loss: 0.019438903778791428 | Accuracy: 100.0%\n",
      " | Epoch 0 | Loss: 0.010784931480884552 | Accuracy: 100.0%\n",
      " | Epoch 0 | Loss: 0.7121994495391846 | Accuracy: 93.75%\n",
      " | Epoch 0 | Loss: 0.013395169749855995 | Accuracy: 100.0%\n",
      " | Epoch 0 | Loss: 0.013710731640458107 | Accuracy: 100.0%\n",
      " | Epoch 0 | Loss: 0.012862098403275013 | Accuracy: 100.0%\n",
      " | Epoch 0 | Loss: 0.012475499883294106 | Accuracy: 100.0%\n",
      " | Epoch 0 | Loss: 0.016370628029108047 | Accuracy: 100.0%\n",
      " | Epoch 0 | Loss: 0.010965966619551182 | Accuracy: 100.0%\n",
      " | Epoch 0 | Loss: 0.011832041665911674 | Accuracy: 100.0%\n",
      " | Epoch 0 | Loss: 0.013651073910295963 | Accuracy: 100.0%\n",
      " | Epoch 0 | Loss: 0.013042704202234745 | Accuracy: 100.0%\n",
      " | Epoch 0 | Loss: 0.010965616442263126 | Accuracy: 100.0%\n",
      " | Epoch 0 | Loss: 0.012275518849492073 | Accuracy: 100.0%\n",
      " | Epoch 0 | Loss: 0.0124644935131073 | Accuracy: 100.0%\n",
      " | Epoch 0 | Loss: 0.01208202913403511 | Accuracy: 100.0%\n",
      " | Epoch 0 | Loss: 0.012228592298924923 | Accuracy: 100.0%\n",
      " | Epoch 0 | Loss: 0.71487957239151 | Accuracy: 93.75%\n",
      " | Epoch 0 | Loss: 0.01363817322999239 | Accuracy: 100.0%\n",
      " | Epoch 0 | Loss: 0.01118273101747036 | Accuracy: 100.0%\n",
      " | Epoch 0 | Loss: 0.011775446124374866 | Accuracy: 100.0%\n",
      " | Epoch 0 | Loss: 0.17269791662693024 | Accuracy: 96.875%\n",
      " | Epoch 0 | Loss: 0.01056638453155756 | Accuracy: 100.0%\n",
      " | Epoch 0 | Loss: 0.010821770876646042 | Accuracy: 100.0%\n",
      " | Epoch 0 | Loss: 0.011615163646638393 | Accuracy: 100.0%\n",
      " | Epoch 0 | Loss: 0.014106790535151958 | Accuracy: 100.0%\n",
      " | Epoch 0 | Loss: 0.010842044837772846 | Accuracy: 100.0%\n",
      " | Epoch 0 | Loss: 0.011290621012449265 | Accuracy: 100.0%\n",
      " | Epoch 0 | Loss: 0.01238513458520174 | Accuracy: 100.0%\n",
      " | Epoch 0 | Loss: 0.011456008069217205 | Accuracy: 100.0%\n",
      " | Epoch 0 | Loss: 0.011372406966984272 | Accuracy: 100.0%\n",
      " | Epoch 0 | Loss: 0.01296563632786274 | Accuracy: 100.0%\n",
      " | Epoch 0 | Loss: 0.012031380087137222 | Accuracy: 100.0%\n",
      " | Epoch 0 | Loss: 0.1827244609594345 | Accuracy: 96.875%\n",
      " | Epoch 0 | Loss: 0.1705080270767212 | Accuracy: 96.875%\n",
      " | Epoch 0 | Loss: 0.011880000121891499 | Accuracy: 100.0%\n",
      " | Epoch 0 | Loss: 0.011115104891359806 | Accuracy: 100.0%\n",
      " | Epoch 0 | Loss: 0.011279379017651081 | Accuracy: 100.0%\n",
      " | Epoch 0 | Loss: 0.1798081398010254 | Accuracy: 96.875%\n",
      " | Epoch 0 | Loss: 0.01077188178896904 | Accuracy: 100.0%\n",
      " | Epoch 0 | Loss: 0.0113458801060915 | Accuracy: 100.0%\n",
      " | Epoch 0 | Loss: 0.012021398171782494 | Accuracy: 100.0%\n",
      " | Epoch 0 | Loss: 0.011547795496881008 | Accuracy: 100.0%\n",
      " | Epoch 0 | Loss: 0.39186233282089233 | Accuracy: 96.875%\n",
      " | Epoch 0 | Loss: 0.011699014343321323 | Accuracy: 100.0%\n",
      " | Epoch 0 | Loss: 0.011800405569374561 | Accuracy: 100.0%\n",
      " | Epoch 0 | Loss: 0.012162151746451855 | Accuracy: 100.0%\n",
      " | Epoch 0 | Loss: 0.014363226480782032 | Accuracy: 100.0%\n",
      " | Epoch 0 | Loss: 0.01078900508582592 | Accuracy: 100.0%\n",
      " | Epoch 0 | Loss: 0.01402088813483715 | Accuracy: 100.0%\n",
      " | Epoch 0 | Loss: 0.012093263678252697 | Accuracy: 100.0%\n",
      " | Epoch 0 | Loss: 0.01063191145658493 | Accuracy: 100.0%\n",
      " | Epoch 0 | Loss: 0.012126843445003033 | Accuracy: 100.0%\n",
      " | Epoch 0 | Loss: 0.0120916236191988 | Accuracy: 100.0%\n",
      " | Epoch 0 | Loss: 0.012219013646245003 | Accuracy: 100.0%\n",
      " | Epoch 0 | Loss: 0.010961800813674927 | Accuracy: 100.0%\n",
      " | Epoch 0 | Loss: 0.013385194353759289 | Accuracy: 100.0%\n",
      " | Epoch 0 | Loss: 0.011641058139503002 | Accuracy: 100.0%\n",
      " | Epoch 0 | Loss: 0.011542771942913532 | Accuracy: 100.0%\n",
      " | Epoch 0 | Loss: 0.010008430108428001 | Accuracy: 100.0%\n",
      " | Epoch 0 | Loss: 0.19003261625766754 | Accuracy: 96.875%\n",
      " | Epoch 0 | Loss: 0.011222087778151035 | Accuracy: 100.0%\n",
      " | Epoch 0 | Loss: 0.011104402132332325 | Accuracy: 100.0%\n",
      " | Epoch 0 | Loss: 0.18145202100276947 | Accuracy: 96.875%\n",
      " | Epoch 0 | Loss: 0.009520872496068478 | Accuracy: 100.0%\n",
      " | Epoch 0 | Loss: 0.009793058969080448 | Accuracy: 100.0%\n",
      " | Epoch 0 | Loss: 0.013519366271793842 | Accuracy: 100.0%\n",
      " | Epoch 0 | Loss: 0.3656432628631592 | Accuracy: 96.875%\n",
      " | Epoch 0 | Loss: 0.011004503816366196 | Accuracy: 100.0%\n",
      " | Epoch 0 | Loss: 0.009825166314840317 | Accuracy: 100.0%\n",
      " | Epoch 0 | Loss: 0.01098970603197813 | Accuracy: 100.0%\n",
      " | Epoch 0 | Loss: 0.011795738711953163 | Accuracy: 100.0%\n",
      " | Epoch 0 | Loss: 0.290306955575943 | Accuracy: 96.875%\n",
      " | Epoch 0 | Loss: 0.16503745317459106 | Accuracy: 96.875%\n",
      " | Epoch 0 | Loss: 0.013804111629724503 | Accuracy: 100.0%\n",
      " | Epoch 0 | Loss: 0.011259867809712887 | Accuracy: 100.0%\n",
      " | Epoch 0 | Loss: 0.011962850578129292 | Accuracy: 100.0%\n",
      " | Epoch 0 | Loss: 0.011677908711135387 | Accuracy: 100.0%\n",
      " | Epoch 0 | Loss: 0.010125221684575081 | Accuracy: 100.0%\n",
      " | Epoch 0 | Loss: 0.01247455645352602 | Accuracy: 100.0%\n",
      " | Epoch 0 | Loss: 0.01181484293192625 | Accuracy: 100.0%\n",
      " | Epoch 0 | Loss: 0.01166924461722374 | Accuracy: 100.0%\n",
      " | Epoch 0 | Loss: 0.18122519552707672 | Accuracy: 96.875%\n",
      " | Epoch 0 | Loss: 0.009538771584630013 | Accuracy: 100.0%\n"
     ]
    },
    {
     "name": "stderr",
     "output_type": "stream",
     "text": [
      "Epoch 0:  73%|████████████████████▍       | 1097/1501 [00:02<00:00, 502.39batch/s, accuracy=100.0%, loss=0.0112]"
     ]
    },
    {
     "name": "stdout",
     "output_type": "stream",
     "text": [
      " | Epoch 0 | Loss: 0.01101603452116251 | Accuracy: 100.0%\n",
      " | Epoch 0 | Loss: 0.011418451555073261 | Accuracy: 100.0%\n",
      " | Epoch 0 | Loss: 0.01100347563624382 | Accuracy: 100.0%\n",
      " | Epoch 0 | Loss: 0.010014208033680916 | Accuracy: 100.0%\n",
      " | Epoch 0 | Loss: 0.27683594822883606 | Accuracy: 96.875%\n",
      " | Epoch 0 | Loss: 0.00911450944840908 | Accuracy: 100.0%\n",
      " | Epoch 0 | Loss: 0.011287354864180088 | Accuracy: 100.0%\n",
      " | Epoch 0 | Loss: 0.01564183458685875 | Accuracy: 100.0%\n",
      " | Epoch 0 | Loss: 0.011538490653038025 | Accuracy: 100.0%\n",
      " | Epoch 0 | Loss: 0.010444534942507744 | Accuracy: 100.0%\n",
      " | Epoch 0 | Loss: 0.00982522964477539 | Accuracy: 100.0%\n",
      " | Epoch 0 | Loss: 0.011801708489656448 | Accuracy: 100.0%\n",
      " | Epoch 0 | Loss: 0.01137758418917656 | Accuracy: 100.0%\n",
      " | Epoch 0 | Loss: 0.1707475185394287 | Accuracy: 96.875%\n",
      " | Epoch 0 | Loss: 0.009352060966193676 | Accuracy: 100.0%\n",
      " | Epoch 0 | Loss: 0.1745494306087494 | Accuracy: 96.875%\n",
      " | Epoch 0 | Loss: 0.009664340876042843 | Accuracy: 100.0%\n",
      " | Epoch 0 | Loss: 0.31631430983543396 | Accuracy: 96.875%\n",
      " | Epoch 0 | Loss: 0.012102147564291954 | Accuracy: 100.0%\n",
      " | Epoch 0 | Loss: 0.010313410311937332 | Accuracy: 100.0%\n",
      " | Epoch 0 | Loss: 0.010659781284630299 | Accuracy: 100.0%\n",
      " | Epoch 0 | Loss: 0.011408379301428795 | Accuracy: 100.0%\n",
      " | Epoch 0 | Loss: 0.009852358140051365 | Accuracy: 100.0%\n",
      " | Epoch 0 | Loss: 0.010139941237866879 | Accuracy: 100.0%\n",
      " | Epoch 0 | Loss: 0.009764931164681911 | Accuracy: 100.0%\n",
      " | Epoch 0 | Loss: 0.0120163569226861 | Accuracy: 100.0%\n",
      " | Epoch 0 | Loss: 0.010107175447046757 | Accuracy: 100.0%\n",
      " | Epoch 0 | Loss: 0.01124618574976921 | Accuracy: 100.0%\n",
      " | Epoch 0 | Loss: 0.012938895262777805 | Accuracy: 100.0%\n",
      " | Epoch 0 | Loss: 0.01299215853214264 | Accuracy: 100.0%\n",
      " | Epoch 0 | Loss: 0.010388635098934174 | Accuracy: 100.0%\n",
      " | Epoch 0 | Loss: 0.012212716974318027 | Accuracy: 100.0%\n",
      " | Epoch 0 | Loss: 0.009965158067643642 | Accuracy: 100.0%\n",
      " | Epoch 0 | Loss: 0.011882620863616467 | Accuracy: 100.0%\n",
      " | Epoch 0 | Loss: 0.009345080703496933 | Accuracy: 100.0%\n",
      " | Epoch 0 | Loss: 0.010121066123247147 | Accuracy: 100.0%\n",
      " | Epoch 0 | Loss: 0.009005734696984291 | Accuracy: 100.0%\n",
      " | Epoch 0 | Loss: 0.009531470015645027 | Accuracy: 100.0%\n",
      " | Epoch 0 | Loss: 0.011485667899250984 | Accuracy: 100.0%\n",
      " | Epoch 0 | Loss: 0.009256296791136265 | Accuracy: 100.0%\n",
      " | Epoch 0 | Loss: 0.009932384826242924 | Accuracy: 100.0%\n",
      " | Epoch 0 | Loss: 0.37157949805259705 | Accuracy: 96.875%\n",
      " | Epoch 0 | Loss: 0.009440871886909008 | Accuracy: 100.0%\n",
      " | Epoch 0 | Loss: 0.008740924298763275 | Accuracy: 100.0%\n",
      " | Epoch 0 | Loss: 0.32113590836524963 | Accuracy: 96.875%\n",
      " | Epoch 0 | Loss: 0.009269587695598602 | Accuracy: 100.0%\n",
      " | Epoch 0 | Loss: 0.009876984171569347 | Accuracy: 100.0%\n",
      " | Epoch 0 | Loss: 0.008146953769028187 | Accuracy: 100.0%\n",
      " | Epoch 0 | Loss: 0.23573845624923706 | Accuracy: 96.875%\n",
      " | Epoch 0 | Loss: 0.010448575019836426 | Accuracy: 100.0%\n",
      " | Epoch 0 | Loss: 0.010071429423987865 | Accuracy: 100.0%\n",
      " | Epoch 0 | Loss: 0.010072939097881317 | Accuracy: 100.0%\n",
      " | Epoch 0 | Loss: 0.012578695081174374 | Accuracy: 100.0%\n",
      " | Epoch 0 | Loss: 0.011623554863035679 | Accuracy: 100.0%\n",
      " | Epoch 0 | Loss: 0.009334789589047432 | Accuracy: 100.0%\n",
      " | Epoch 0 | Loss: 0.38726937770843506 | Accuracy: 96.875%\n",
      " | Epoch 0 | Loss: 0.009985974058508873 | Accuracy: 100.0%\n",
      " | Epoch 0 | Loss: 0.3678581714630127 | Accuracy: 96.875%\n",
      " | Epoch 0 | Loss: 0.19212383031845093 | Accuracy: 96.875%\n",
      " | Epoch 0 | Loss: 0.010211755521595478 | Accuracy: 100.0%\n",
      " | Epoch 0 | Loss: 0.012021461501717567 | Accuracy: 100.0%\n",
      " | Epoch 0 | Loss: 0.011449378915131092 | Accuracy: 100.0%\n",
      " | Epoch 0 | Loss: 0.014016231521964073 | Accuracy: 100.0%\n",
      " | Epoch 0 | Loss: 0.011274152435362339 | Accuracy: 100.0%\n",
      " | Epoch 0 | Loss: 0.1562201827764511 | Accuracy: 96.875%\n",
      " | Epoch 0 | Loss: 0.010248921811580658 | Accuracy: 100.0%\n",
      " | Epoch 0 | Loss: 0.010416651144623756 | Accuracy: 100.0%\n",
      " | Epoch 0 | Loss: 0.18966607749462128 | Accuracy: 96.875%\n",
      " | Epoch 0 | Loss: 0.01426784973591566 | Accuracy: 100.0%\n",
      " | Epoch 0 | Loss: 0.014202667400240898 | Accuracy: 100.0%\n",
      " | Epoch 0 | Loss: 0.3190963566303253 | Accuracy: 96.875%\n",
      " | Epoch 0 | Loss: 0.01343207061290741 | Accuracy: 100.0%\n",
      " | Epoch 0 | Loss: 0.012194889597594738 | Accuracy: 100.0%\n",
      " | Epoch 0 | Loss: 0.01188356988132 | Accuracy: 100.0%\n",
      " | Epoch 0 | Loss: 0.013359090313315392 | Accuracy: 100.0%\n",
      " | Epoch 0 | Loss: 0.013155380263924599 | Accuracy: 100.0%\n",
      " | Epoch 0 | Loss: 0.011548739857971668 | Accuracy: 100.0%\n",
      " | Epoch 0 | Loss: 0.014828329905867577 | Accuracy: 100.0%\n",
      " | Epoch 0 | Loss: 0.012483826838433743 | Accuracy: 100.0%\n",
      " | Epoch 0 | Loss: 0.014350710436701775 | Accuracy: 100.0%\n",
      " | Epoch 0 | Loss: 0.012583170086145401 | Accuracy: 100.0%\n",
      " | Epoch 0 | Loss: 0.0129616167396307 | Accuracy: 100.0%\n",
      " | Epoch 0 | Loss: 0.012553182430565357 | Accuracy: 100.0%\n",
      " | Epoch 0 | Loss: 0.010167201049625874 | Accuracy: 100.0%\n",
      " | Epoch 0 | Loss: 0.01440462563186884 | Accuracy: 100.0%\n",
      " | Epoch 0 | Loss: 0.013491223566234112 | Accuracy: 100.0%\n",
      " | Epoch 0 | Loss: 0.011846647597849369 | Accuracy: 100.0%\n",
      " | Epoch 0 | Loss: 0.011337842792272568 | Accuracy: 100.0%\n",
      " | Epoch 0 | Loss: 0.27691590785980225 | Accuracy: 96.875%\n",
      " | Epoch 0 | Loss: 0.010463041253387928 | Accuracy: 100.0%\n",
      " | Epoch 0 | Loss: 0.010001948103308678 | Accuracy: 100.0%\n",
      " | Epoch 0 | Loss: 0.011845804750919342 | Accuracy: 100.0%\n",
      " | Epoch 0 | Loss: 0.011709770187735558 | Accuracy: 100.0%\n",
      " | Epoch 0 | Loss: 0.011023147031664848 | Accuracy: 100.0%\n",
      " | Epoch 0 | Loss: 0.010595490224659443 | Accuracy: 100.0%\n",
      " | Epoch 0 | Loss: 0.010610926896333694 | Accuracy: 100.0%\n",
      " | Epoch 0 | Loss: 0.011133375577628613 | Accuracy: 100.0%\n",
      " | Epoch 0 | Loss: 0.009520859457552433 | Accuracy: 100.0%\n",
      " | Epoch 0 | Loss: 0.010537328198552132 | Accuracy: 100.0%\n",
      " | Epoch 0 | Loss: 0.008735143579542637 | Accuracy: 100.0%\n",
      " | Epoch 0 | Loss: 0.00999350007623434 | Accuracy: 100.0%\n",
      " | Epoch 0 | Loss: 0.011215170845389366 | Accuracy: 100.0%\n"
     ]
    },
    {
     "name": "stderr",
     "output_type": "stream",
     "text": [
      "Epoch 0:  76%|█████████████████████▍      | 1148/1501 [00:02<00:00, 499.73batch/s, accuracy=100.0%, loss=0.0158]"
     ]
    },
    {
     "name": "stdout",
     "output_type": "stream",
     "text": [
      " | Epoch 0 | Loss: 0.009970523416996002 | Accuracy: 100.0%\n",
      " | Epoch 0 | Loss: 0.009355652146041393 | Accuracy: 100.0%\n",
      " | Epoch 0 | Loss: 0.3136027157306671 | Accuracy: 96.875%\n",
      " | Epoch 0 | Loss: 0.012163469567894936 | Accuracy: 100.0%\n",
      " | Epoch 0 | Loss: 0.008685515262186527 | Accuracy: 100.0%\n",
      " | Epoch 0 | Loss: 0.00974072515964508 | Accuracy: 100.0%\n",
      " | Epoch 0 | Loss: 0.00899354275316 | Accuracy: 100.0%\n",
      " | Epoch 0 | Loss: 0.009904461912810802 | Accuracy: 100.0%\n",
      " | Epoch 0 | Loss: 0.010134265758097172 | Accuracy: 100.0%\n",
      " | Epoch 0 | Loss: 0.008780318312346935 | Accuracy: 100.0%\n",
      " | Epoch 0 | Loss: 0.008333402685821056 | Accuracy: 100.0%\n",
      " | Epoch 0 | Loss: 0.010715803131461143 | Accuracy: 100.0%\n",
      " | Epoch 0 | Loss: 0.010764896869659424 | Accuracy: 100.0%\n",
      " | Epoch 0 | Loss: 0.008443466387689114 | Accuracy: 100.0%\n",
      " | Epoch 0 | Loss: 0.007740849629044533 | Accuracy: 100.0%\n",
      " | Epoch 0 | Loss: 0.33171382546424866 | Accuracy: 96.875%\n",
      " | Epoch 0 | Loss: 0.010758521966636181 | Accuracy: 100.0%\n",
      " | Epoch 0 | Loss: 0.009622631594538689 | Accuracy: 100.0%\n",
      " | Epoch 0 | Loss: 0.009329407475888729 | Accuracy: 100.0%\n",
      " | Epoch 0 | Loss: 0.010373163968324661 | Accuracy: 100.0%\n",
      " | Epoch 0 | Loss: 0.009594486095011234 | Accuracy: 100.0%\n",
      " | Epoch 0 | Loss: 0.008275079540908337 | Accuracy: 100.0%\n",
      " | Epoch 0 | Loss: 0.009451290592551231 | Accuracy: 100.0%\n",
      " | Epoch 0 | Loss: 0.010288217104971409 | Accuracy: 100.0%\n",
      " | Epoch 0 | Loss: 0.009604588150978088 | Accuracy: 100.0%\n",
      " | Epoch 0 | Loss: 0.00924566388130188 | Accuracy: 100.0%\n",
      " | Epoch 0 | Loss: 0.00942629761993885 | Accuracy: 100.0%\n",
      " | Epoch 0 | Loss: 0.3617916405200958 | Accuracy: 96.875%\n",
      " | Epoch 0 | Loss: 0.008985250256955624 | Accuracy: 100.0%\n",
      " | Epoch 0 | Loss: 0.010909127071499825 | Accuracy: 100.0%\n",
      " | Epoch 0 | Loss: 0.00822870060801506 | Accuracy: 100.0%\n",
      " | Epoch 0 | Loss: 0.01073428150266409 | Accuracy: 100.0%\n",
      " | Epoch 0 | Loss: 0.00878374744206667 | Accuracy: 100.0%\n",
      " | Epoch 0 | Loss: 0.008397328667342663 | Accuracy: 100.0%\n",
      " | Epoch 0 | Loss: 0.3334786295890808 | Accuracy: 96.875%\n",
      " | Epoch 0 | Loss: 0.01032730471342802 | Accuracy: 100.0%\n",
      " | Epoch 0 | Loss: 0.009567496366798878 | Accuracy: 100.0%\n",
      " | Epoch 0 | Loss: 0.008680765517055988 | Accuracy: 100.0%\n",
      " | Epoch 0 | Loss: 0.009134024381637573 | Accuracy: 100.0%\n",
      " | Epoch 0 | Loss: 0.010164190083742142 | Accuracy: 100.0%\n",
      " | Epoch 0 | Loss: 0.32713356614112854 | Accuracy: 96.875%\n",
      " | Epoch 0 | Loss: 0.009473507292568684 | Accuracy: 100.0%\n",
      " | Epoch 0 | Loss: 0.009385411627590656 | Accuracy: 100.0%\n",
      " | Epoch 0 | Loss: 0.010497535578906536 | Accuracy: 100.0%\n",
      " | Epoch 0 | Loss: 0.009051804430782795 | Accuracy: 100.0%\n",
      " | Epoch 0 | Loss: 0.6240267157554626 | Accuracy: 93.75%\n",
      " | Epoch 0 | Loss: 0.01134873554110527 | Accuracy: 100.0%\n",
      " | Epoch 0 | Loss: 0.010545688681304455 | Accuracy: 100.0%\n",
      " | Epoch 0 | Loss: 0.010282037779688835 | Accuracy: 100.0%\n",
      " | Epoch 0 | Loss: 0.012113550677895546 | Accuracy: 100.0%\n",
      " | Epoch 0 | Loss: 0.009971876628696918 | Accuracy: 100.0%\n",
      " | Epoch 0 | Loss: 0.29305073618888855 | Accuracy: 96.875%\n",
      " | Epoch 0 | Loss: 0.010959871113300323 | Accuracy: 100.0%\n",
      " | Epoch 0 | Loss: 0.00893014669418335 | Accuracy: 100.0%\n",
      " | Epoch 0 | Loss: 0.011404890567064285 | Accuracy: 100.0%\n",
      " | Epoch 0 | Loss: 0.010576797649264336 | Accuracy: 100.0%\n",
      " | Epoch 0 | Loss: 0.010580837726593018 | Accuracy: 100.0%\n",
      " | Epoch 0 | Loss: 0.00999668799340725 | Accuracy: 100.0%\n",
      " | Epoch 0 | Loss: 0.4028826057910919 | Accuracy: 96.875%\n",
      " | Epoch 0 | Loss: 0.011988409794867039 | Accuracy: 100.0%\n",
      " | Epoch 0 | Loss: 0.009418594650924206 | Accuracy: 100.0%\n",
      " | Epoch 0 | Loss: 0.01211506500840187 | Accuracy: 100.0%\n",
      " | Epoch 0 | Loss: 0.011107640340924263 | Accuracy: 100.0%\n",
      " | Epoch 0 | Loss: 0.011542949825525284 | Accuracy: 100.0%\n",
      " | Epoch 0 | Loss: 0.1567903310060501 | Accuracy: 96.875%\n",
      " | Epoch 0 | Loss: 0.5473053455352783 | Accuracy: 93.75%\n",
      " | Epoch 0 | Loss: 0.011659727431833744 | Accuracy: 100.0%\n",
      " | Epoch 0 | Loss: 0.010743730701506138 | Accuracy: 100.0%\n",
      " | Epoch 0 | Loss: 0.012457136996090412 | Accuracy: 100.0%\n",
      " | Epoch 0 | Loss: 0.010294477455317974 | Accuracy: 100.0%\n",
      " | Epoch 0 | Loss: 0.5342186093330383 | Accuracy: 93.75%\n",
      " | Epoch 0 | Loss: 0.015345248393714428 | Accuracy: 100.0%\n",
      " | Epoch 0 | Loss: 0.3281175196170807 | Accuracy: 96.875%\n",
      " | Epoch 0 | Loss: 0.014951414428651333 | Accuracy: 100.0%\n",
      " | Epoch 0 | Loss: 0.013881894759833813 | Accuracy: 100.0%\n",
      " | Epoch 0 | Loss: 0.01664302498102188 | Accuracy: 100.0%\n",
      " | Epoch 0 | Loss: 0.0162606630474329 | Accuracy: 100.0%\n",
      " | Epoch 0 | Loss: 0.015201876871287823 | Accuracy: 100.0%\n",
      " | Epoch 0 | Loss: 0.014187420718371868 | Accuracy: 100.0%\n",
      " | Epoch 0 | Loss: 0.01206221804022789 | Accuracy: 100.0%\n",
      " | Epoch 0 | Loss: 0.012473996728658676 | Accuracy: 100.0%\n",
      " | Epoch 0 | Loss: 0.013952042907476425 | Accuracy: 100.0%\n",
      " | Epoch 0 | Loss: 0.013972869142889977 | Accuracy: 100.0%\n",
      " | Epoch 0 | Loss: 0.014073541387915611 | Accuracy: 100.0%\n"
     ]
    },
    {
     "name": "stderr",
     "output_type": "stream",
     "text": [
      "Epoch 0:  83%|███████████████████████▏    | 1246/1501 [00:02<00:00, 458.76batch/s, accuracy=96.875%, loss=0.298]"
     ]
    },
    {
     "name": "stdout",
     "output_type": "stream",
     "text": [
      " | Epoch 0 | Loss: 0.015784017741680145 | Accuracy: 100.0%\n",
      " | Epoch 0 | Loss: 0.011735061183571815 | Accuracy: 100.0%\n",
      " | Epoch 0 | Loss: 0.014250637032091618 | Accuracy: 100.0%\n",
      " | Epoch 0 | Loss: 0.01429913379251957 | Accuracy: 100.0%\n",
      " | Epoch 0 | Loss: 0.368402361869812 | Accuracy: 96.875%\n",
      " | Epoch 0 | Loss: 0.1865912228822708 | Accuracy: 96.875%\n",
      " | Epoch 0 | Loss: 0.011939244344830513 | Accuracy: 100.0%\n",
      " | Epoch 0 | Loss: 0.014209398999810219 | Accuracy: 100.0%\n",
      " | Epoch 0 | Loss: 0.010862661525607109 | Accuracy: 100.0%\n",
      " | Epoch 0 | Loss: 0.014207160100340843 | Accuracy: 100.0%\n",
      " | Epoch 0 | Loss: 0.011768260039389133 | Accuracy: 100.0%\n",
      " | Epoch 0 | Loss: 0.17322081327438354 | Accuracy: 96.875%\n",
      " | Epoch 0 | Loss: 0.013878095895051956 | Accuracy: 100.0%\n",
      " | Epoch 0 | Loss: 0.35496172308921814 | Accuracy: 96.875%\n",
      " | Epoch 0 | Loss: 0.013793871738016605 | Accuracy: 100.0%\n",
      " | Epoch 0 | Loss: 0.013999431394040585 | Accuracy: 100.0%\n",
      " | Epoch 0 | Loss: 0.17958573997020721 | Accuracy: 96.875%\n",
      " | Epoch 0 | Loss: 0.012359068728983402 | Accuracy: 100.0%\n",
      " | Epoch 0 | Loss: 0.3595257103443146 | Accuracy: 96.875%\n",
      " | Epoch 0 | Loss: 0.013334509916603565 | Accuracy: 100.0%\n",
      " | Epoch 0 | Loss: 0.021902136504650116 | Accuracy: 100.0%\n",
      " | Epoch 0 | Loss: 0.012245056219398975 | Accuracy: 100.0%\n",
      " | Epoch 0 | Loss: 0.011891800910234451 | Accuracy: 100.0%\n",
      " | Epoch 0 | Loss: 0.013643655925989151 | Accuracy: 100.0%\n",
      " | Epoch 0 | Loss: 0.5709653496742249 | Accuracy: 90.625%\n",
      " | Epoch 0 | Loss: 0.011955308727920055 | Accuracy: 100.0%\n",
      " | Epoch 0 | Loss: 0.014715855941176414 | Accuracy: 100.0%\n",
      " | Epoch 0 | Loss: 0.16769646108150482 | Accuracy: 96.875%\n",
      " | Epoch 0 | Loss: 0.012389612384140491 | Accuracy: 100.0%\n",
      " | Epoch 0 | Loss: 0.011577662080526352 | Accuracy: 100.0%\n",
      " | Epoch 0 | Loss: 0.014123097993433475 | Accuracy: 100.0%\n",
      " | Epoch 0 | Loss: 0.013661122880876064 | Accuracy: 100.0%\n",
      " | Epoch 0 | Loss: 0.012986117042601109 | Accuracy: 100.0%\n",
      " | Epoch 0 | Loss: 0.2994784116744995 | Accuracy: 96.875%\n",
      " | Epoch 0 | Loss: 0.013550607487559319 | Accuracy: 100.0%\n",
      " | Epoch 0 | Loss: 0.01227676309645176 | Accuracy: 100.0%\n",
      " | Epoch 0 | Loss: 0.012459225952625275 | Accuracy: 100.0%\n",
      " | Epoch 0 | Loss: 0.26375406980514526 | Accuracy: 96.875%\n",
      " | Epoch 0 | Loss: 0.011882017366588116 | Accuracy: 100.0%\n",
      " | Epoch 0 | Loss: 0.013941993936896324 | Accuracy: 100.0%\n",
      " | Epoch 0 | Loss: 0.01317993737757206 | Accuracy: 100.0%\n",
      " | Epoch 0 | Loss: 0.34499531984329224 | Accuracy: 96.875%\n",
      " | Epoch 0 | Loss: 0.15971459448337555 | Accuracy: 96.875%\n",
      " | Epoch 0 | Loss: 0.015450049191713333 | Accuracy: 100.0%\n",
      " | Epoch 0 | Loss: 0.016802584752440453 | Accuracy: 100.0%\n",
      " | Epoch 0 | Loss: 0.013761801645159721 | Accuracy: 100.0%\n",
      " | Epoch 0 | Loss: 0.2756699323654175 | Accuracy: 96.875%\n",
      " | Epoch 0 | Loss: 0.016043562442064285 | Accuracy: 100.0%\n",
      " | Epoch 0 | Loss: 0.1652633547782898 | Accuracy: 96.875%\n",
      " | Epoch 0 | Loss: 0.013371344655752182 | Accuracy: 100.0%\n",
      " | Epoch 0 | Loss: 0.2888981103897095 | Accuracy: 96.875%\n",
      " | Epoch 0 | Loss: 0.019792722538113594 | Accuracy: 100.0%\n",
      " | Epoch 0 | Loss: 0.0176667682826519 | Accuracy: 100.0%\n",
      " | Epoch 0 | Loss: 0.01982906088232994 | Accuracy: 100.0%\n",
      " | Epoch 0 | Loss: 0.01673281006515026 | Accuracy: 100.0%\n",
      " | Epoch 0 | Loss: 0.014493403024971485 | Accuracy: 100.0%\n",
      " | Epoch 0 | Loss: 0.01942620612680912 | Accuracy: 100.0%\n",
      " | Epoch 0 | Loss: 0.02017095685005188 | Accuracy: 100.0%\n",
      " | Epoch 0 | Loss: 0.017177725210785866 | Accuracy: 100.0%\n",
      " | Epoch 0 | Loss: 0.0169044379144907 | Accuracy: 100.0%\n",
      " | Epoch 0 | Loss: 0.014335540123283863 | Accuracy: 100.0%\n",
      " | Epoch 0 | Loss: 0.015514960512518883 | Accuracy: 100.0%\n",
      " | Epoch 0 | Loss: 0.15641774237155914 | Accuracy: 96.875%\n",
      " | Epoch 0 | Loss: 0.01644144393503666 | Accuracy: 100.0%\n",
      " | Epoch 0 | Loss: 0.017785055562853813 | Accuracy: 100.0%\n",
      " | Epoch 0 | Loss: 0.015015627257525921 | Accuracy: 100.0%\n",
      " | Epoch 0 | Loss: 0.014032558538019657 | Accuracy: 100.0%\n",
      " | Epoch 0 | Loss: 0.18055808544158936 | Accuracy: 96.875%\n",
      " | Epoch 0 | Loss: 0.24021358788013458 | Accuracy: 96.875%\n",
      " | Epoch 0 | Loss: 0.013972551561892033 | Accuracy: 100.0%\n",
      " | Epoch 0 | Loss: 0.013207271695137024 | Accuracy: 100.0%\n",
      " | Epoch 0 | Loss: 0.015189247205853462 | Accuracy: 100.0%\n",
      " | Epoch 0 | Loss: 0.013148821890354156 | Accuracy: 100.0%\n",
      " | Epoch 0 | Loss: 0.01495935209095478 | Accuracy: 100.0%\n",
      " | Epoch 0 | Loss: 0.012429037131369114 | Accuracy: 100.0%\n",
      " | Epoch 0 | Loss: 0.014748001471161842 | Accuracy: 100.0%\n",
      " | Epoch 0 | Loss: 0.013263622298836708 | Accuracy: 100.0%\n",
      " | Epoch 0 | Loss: 0.013618438504636288 | Accuracy: 100.0%\n",
      " | Epoch 0 | Loss: 0.013079884462058544 | Accuracy: 100.0%\n",
      " | Epoch 0 | Loss: 0.012287995778024197 | Accuracy: 100.0%\n",
      " | Epoch 0 | Loss: 0.014997761696577072 | Accuracy: 100.0%\n",
      " | Epoch 0 | Loss: 0.011747060343623161 | Accuracy: 100.0%\n",
      " | Epoch 0 | Loss: 0.015311375260353088 | Accuracy: 100.0%\n",
      " | Epoch 0 | Loss: 0.011497796513140202 | Accuracy: 100.0%\n",
      " | Epoch 0 | Loss: 0.012657968327403069 | Accuracy: 100.0%\n",
      " | Epoch 0 | Loss: 0.1781323254108429 | Accuracy: 96.875%\n",
      " | Epoch 0 | Loss: 0.012685113586485386 | Accuracy: 100.0%\n",
      " | Epoch 0 | Loss: 0.011936107650399208 | Accuracy: 100.0%\n",
      " | Epoch 0 | Loss: 0.012044752947986126 | Accuracy: 100.0%\n",
      " | Epoch 0 | Loss: 0.011006824672222137 | Accuracy: 100.0%\n",
      " | Epoch 0 | Loss: 0.010513565503060818 | Accuracy: 100.0%\n",
      " | Epoch 0 | Loss: 0.011300844140350819 | Accuracy: 100.0%\n",
      " | Epoch 0 | Loss: 0.009738294407725334 | Accuracy: 100.0%\n",
      " | Epoch 0 | Loss: 0.010892940685153008 | Accuracy: 100.0%\n",
      " | Epoch 0 | Loss: 0.00988517701625824 | Accuracy: 100.0%\n",
      " | Epoch 0 | Loss: 0.010949297808110714 | Accuracy: 100.0%\n",
      " | Epoch 0 | Loss: 0.29732683300971985 | Accuracy: 96.875%\n",
      " | Epoch 0 | Loss: 0.010707898996770382 | Accuracy: 100.0%\n",
      " | Epoch 0 | Loss: 0.01029305811971426 | Accuracy: 100.0%\n"
     ]
    },
    {
     "name": "stderr",
     "output_type": "stream",
     "text": [
      "Epoch 0:  90%|█████████████████████████▏  | 1349/1501 [00:03<00:00, 453.17batch/s, accuracy=100.0%, loss=0.0126]"
     ]
    },
    {
     "name": "stdout",
     "output_type": "stream",
     "text": [
      " | Epoch 0 | Loss: 0.2977641522884369 | Accuracy: 96.875%\n",
      " | Epoch 0 | Loss: 0.009617481380701065 | Accuracy: 100.0%\n",
      " | Epoch 0 | Loss: 0.012006309814751148 | Accuracy: 100.0%\n",
      " | Epoch 0 | Loss: 0.00976826623082161 | Accuracy: 100.0%\n",
      " | Epoch 0 | Loss: 0.010848063044250011 | Accuracy: 100.0%\n",
      " | Epoch 0 | Loss: 0.16460657119750977 | Accuracy: 96.875%\n",
      " | Epoch 0 | Loss: 0.011727120727300644 | Accuracy: 100.0%\n",
      " | Epoch 0 | Loss: 0.011586273089051247 | Accuracy: 100.0%\n",
      " | Epoch 0 | Loss: 0.011631474830210209 | Accuracy: 100.0%\n",
      " | Epoch 0 | Loss: 0.009500853717327118 | Accuracy: 100.0%\n",
      " | Epoch 0 | Loss: 0.3242679834365845 | Accuracy: 96.875%\n",
      " | Epoch 0 | Loss: 0.014572440646588802 | Accuracy: 100.0%\n",
      " | Epoch 0 | Loss: 0.016018401831388474 | Accuracy: 100.0%\n",
      " | Epoch 0 | Loss: 0.0118381567299366 | Accuracy: 100.0%\n",
      " | Epoch 0 | Loss: 0.012482927180826664 | Accuracy: 100.0%\n",
      " | Epoch 0 | Loss: 0.012731119990348816 | Accuracy: 100.0%\n",
      " | Epoch 0 | Loss: 0.012213216163218021 | Accuracy: 100.0%\n",
      " | Epoch 0 | Loss: 0.011346742510795593 | Accuracy: 100.0%\n",
      " | Epoch 0 | Loss: 0.3316841721534729 | Accuracy: 96.875%\n",
      " | Epoch 0 | Loss: 0.011433548294007778 | Accuracy: 100.0%\n",
      " | Epoch 0 | Loss: 0.33163338899612427 | Accuracy: 96.875%\n",
      " | Epoch 0 | Loss: 0.010844981297850609 | Accuracy: 100.0%\n",
      " | Epoch 0 | Loss: 0.012502525001764297 | Accuracy: 100.0%\n",
      " | Epoch 0 | Loss: 0.010708726942539215 | Accuracy: 100.0%\n",
      " | Epoch 0 | Loss: 0.2845383286476135 | Accuracy: 96.875%\n",
      " | Epoch 0 | Loss: 0.01187225803732872 | Accuracy: 100.0%\n",
      " | Epoch 0 | Loss: 0.009968987666070461 | Accuracy: 100.0%\n",
      " | Epoch 0 | Loss: 0.012177752330899239 | Accuracy: 100.0%\n",
      " | Epoch 0 | Loss: 0.012180388905107975 | Accuracy: 100.0%\n",
      " | Epoch 0 | Loss: 0.01162315346300602 | Accuracy: 100.0%\n",
      " | Epoch 0 | Loss: 0.011729679070413113 | Accuracy: 100.0%\n",
      " | Epoch 0 | Loss: 0.3630533814430237 | Accuracy: 96.875%\n",
      " | Epoch 0 | Loss: 0.011975826695561409 | Accuracy: 100.0%\n",
      " | Epoch 0 | Loss: 0.016211550682783127 | Accuracy: 100.0%\n",
      " | Epoch 0 | Loss: 0.013658762909471989 | Accuracy: 100.0%\n",
      " | Epoch 0 | Loss: 0.012261105701327324 | Accuracy: 100.0%\n",
      " | Epoch 0 | Loss: 0.019696656614542007 | Accuracy: 100.0%\n",
      " | Epoch 0 | Loss: 0.3774605095386505 | Accuracy: 96.875%\n",
      " | Epoch 0 | Loss: 0.013199766166508198 | Accuracy: 100.0%\n",
      " | Epoch 0 | Loss: 0.013007466681301594 | Accuracy: 100.0%\n",
      " | Epoch 0 | Loss: 0.35645878314971924 | Accuracy: 96.875%\n",
      " | Epoch 0 | Loss: 0.014270007610321045 | Accuracy: 100.0%\n",
      " | Epoch 0 | Loss: 0.0124254385009408 | Accuracy: 100.0%\n",
      " | Epoch 0 | Loss: 0.3607576787471771 | Accuracy: 96.875%\n",
      " | Epoch 0 | Loss: 0.014605619013309479 | Accuracy: 100.0%\n",
      " | Epoch 0 | Loss: 0.012643839232623577 | Accuracy: 100.0%\n",
      " | Epoch 0 | Loss: 0.012368733063340187 | Accuracy: 100.0%\n",
      " | Epoch 0 | Loss: 0.01257184986025095 | Accuracy: 100.0%\n",
      " | Epoch 0 | Loss: 0.012083189561963081 | Accuracy: 100.0%\n",
      " | Epoch 0 | Loss: 0.18767088651657104 | Accuracy: 96.875%\n",
      " | Epoch 0 | Loss: 0.3074338138103485 | Accuracy: 96.875%\n",
      " | Epoch 0 | Loss: 0.013195930048823357 | Accuracy: 100.0%\n",
      " | Epoch 0 | Loss: 0.016302717849612236 | Accuracy: 100.0%\n",
      " | Epoch 0 | Loss: 0.18931473791599274 | Accuracy: 96.875%\n",
      " | Epoch 0 | Loss: 0.014005748555064201 | Accuracy: 100.0%\n",
      " | Epoch 0 | Loss: 0.1496250033378601 | Accuracy: 96.875%\n",
      " | Epoch 0 | Loss: 0.016209430992603302 | Accuracy: 100.0%\n",
      " | Epoch 0 | Loss: 0.013033749535679817 | Accuracy: 100.0%\n",
      " | Epoch 0 | Loss: 0.013525900430977345 | Accuracy: 100.0%\n",
      " | Epoch 0 | Loss: 0.01292144414037466 | Accuracy: 100.0%\n",
      " | Epoch 0 | Loss: 0.012603163719177246 | Accuracy: 100.0%\n",
      " | Epoch 0 | Loss: 0.014146451838314533 | Accuracy: 100.0%\n",
      " | Epoch 0 | Loss: 0.01346177700906992 | Accuracy: 100.0%\n",
      " | Epoch 0 | Loss: 0.01555878296494484 | Accuracy: 100.0%\n",
      " | Epoch 0 | Loss: 0.012975732795894146 | Accuracy: 100.0%\n",
      " | Epoch 0 | Loss: 0.015651408582925797 | Accuracy: 100.0%\n",
      " | Epoch 0 | Loss: 0.013994562439620495 | Accuracy: 100.0%\n",
      " | Epoch 0 | Loss: 0.014116914942860603 | Accuracy: 100.0%\n",
      " | Epoch 0 | Loss: 0.014072613790631294 | Accuracy: 100.0%\n",
      " | Epoch 0 | Loss: 0.014814035966992378 | Accuracy: 100.0%\n",
      " | Epoch 0 | Loss: 0.15732096135616302 | Accuracy: 96.875%\n",
      " | Epoch 0 | Loss: 0.1746537685394287 | Accuracy: 96.875%\n",
      " | Epoch 0 | Loss: 0.01298799179494381 | Accuracy: 100.0%\n",
      " | Epoch 0 | Loss: 0.014571506530046463 | Accuracy: 100.0%\n",
      " | Epoch 0 | Loss: 0.013314911164343357 | Accuracy: 100.0%\n",
      " | Epoch 0 | Loss: 0.015177839435636997 | Accuracy: 100.0%\n",
      " | Epoch 0 | Loss: 0.011701801791787148 | Accuracy: 100.0%\n",
      " | Epoch 0 | Loss: 0.31337684392929077 | Accuracy: 96.875%\n"
     ]
    },
    {
     "name": "stderr",
     "output_type": "stream",
     "text": [
      "Epoch 0:  96%|██████████████████████████▊ | 1438/1501 [00:03<00:00, 414.47batch/s, accuracy=96.875%, loss=0.249]"
     ]
    },
    {
     "name": "stdout",
     "output_type": "stream",
     "text": [
      " | Epoch 0 | Loss: 0.012639353983104229 | Accuracy: 100.0%\n",
      " | Epoch 0 | Loss: 0.014784826897084713 | Accuracy: 100.0%\n",
      " | Epoch 0 | Loss: 0.014173902571201324 | Accuracy: 100.0%\n",
      " | Epoch 0 | Loss: 0.17492443323135376 | Accuracy: 96.875%\n",
      " | Epoch 0 | Loss: 0.1751047968864441 | Accuracy: 96.875%\n",
      " | Epoch 0 | Loss: 0.011654850095510483 | Accuracy: 100.0%\n",
      " | Epoch 0 | Loss: 0.01099330373108387 | Accuracy: 100.0%\n",
      " | Epoch 0 | Loss: 0.011131275445222855 | Accuracy: 100.0%\n",
      " | Epoch 0 | Loss: 0.16887493431568146 | Accuracy: 96.875%\n",
      " | Epoch 0 | Loss: 0.012605036608874798 | Accuracy: 100.0%\n",
      " | Epoch 0 | Loss: 0.01193959265947342 | Accuracy: 100.0%\n",
      " | Epoch 0 | Loss: 0.012648778967559338 | Accuracy: 100.0%\n",
      " | Epoch 0 | Loss: 0.011703560128808022 | Accuracy: 100.0%\n",
      " | Epoch 0 | Loss: 0.012404222041368484 | Accuracy: 100.0%\n",
      " | Epoch 0 | Loss: 0.013629616238176823 | Accuracy: 100.0%\n",
      " | Epoch 0 | Loss: 0.012967393733561039 | Accuracy: 100.0%\n",
      " | Epoch 0 | Loss: 0.35860759019851685 | Accuracy: 96.875%\n",
      " | Epoch 0 | Loss: 0.012284558266401291 | Accuracy: 100.0%\n",
      " | Epoch 0 | Loss: 0.011380421929061413 | Accuracy: 100.0%\n",
      " | Epoch 0 | Loss: 0.012216223403811455 | Accuracy: 100.0%\n",
      " | Epoch 0 | Loss: 0.011207589879631996 | Accuracy: 100.0%\n",
      " | Epoch 0 | Loss: 0.012185104191303253 | Accuracy: 100.0%\n",
      " | Epoch 0 | Loss: 0.01392229925841093 | Accuracy: 100.0%\n",
      " | Epoch 0 | Loss: 0.011614647693932056 | Accuracy: 100.0%\n",
      " | Epoch 0 | Loss: 0.1951470524072647 | Accuracy: 96.875%\n",
      " | Epoch 0 | Loss: 0.012028231285512447 | Accuracy: 100.0%\n",
      " | Epoch 0 | Loss: 0.011319201439619064 | Accuracy: 100.0%\n",
      " | Epoch 0 | Loss: 0.010458803735673428 | Accuracy: 100.0%\n",
      " | Epoch 0 | Loss: 0.011044930666685104 | Accuracy: 100.0%\n",
      " | Epoch 0 | Loss: 0.010678852908313274 | Accuracy: 100.0%\n",
      " | Epoch 0 | Loss: 0.017776109278202057 | Accuracy: 100.0%\n",
      " | Epoch 0 | Loss: 0.010962300933897495 | Accuracy: 100.0%\n",
      " | Epoch 0 | Loss: 0.012477482669055462 | Accuracy: 100.0%\n",
      " | Epoch 0 | Loss: 0.010112524032592773 | Accuracy: 100.0%\n",
      " | Epoch 0 | Loss: 0.010683742351830006 | Accuracy: 100.0%\n",
      " | Epoch 0 | Loss: 0.012432267889380455 | Accuracy: 100.0%\n",
      " | Epoch 0 | Loss: 0.011742315255105495 | Accuracy: 100.0%\n",
      " | Epoch 0 | Loss: 0.19463467597961426 | Accuracy: 96.875%\n",
      " | Epoch 0 | Loss: 0.010548827238380909 | Accuracy: 100.0%\n",
      " | Epoch 0 | Loss: 0.010267349891364574 | Accuracy: 100.0%\n",
      " | Epoch 0 | Loss: 0.00997705478221178 | Accuracy: 100.0%\n",
      " | Epoch 0 | Loss: 0.011219375766813755 | Accuracy: 100.0%\n",
      " | Epoch 0 | Loss: 0.0090286023914814 | Accuracy: 100.0%\n",
      " | Epoch 0 | Loss: 0.18097031116485596 | Accuracy: 96.875%\n",
      " | Epoch 0 | Loss: 0.011019091121852398 | Accuracy: 100.0%\n",
      " | Epoch 0 | Loss: 0.011608501896262169 | Accuracy: 100.0%\n",
      " | Epoch 0 | Loss: 0.010640878230333328 | Accuracy: 100.0%\n",
      " | Epoch 0 | Loss: 0.010203841142356396 | Accuracy: 100.0%\n",
      " | Epoch 0 | Loss: 0.010938162915408611 | Accuracy: 100.0%\n",
      " | Epoch 0 | Loss: 0.010569613426923752 | Accuracy: 100.0%\n",
      " | Epoch 0 | Loss: 0.010799131356179714 | Accuracy: 100.0%\n",
      " | Epoch 0 | Loss: 0.01013935450464487 | Accuracy: 100.0%\n",
      " | Epoch 0 | Loss: 0.011560747399926186 | Accuracy: 100.0%\n",
      " | Epoch 0 | Loss: 0.261162668466568 | Accuracy: 96.875%\n",
      " | Epoch 0 | Loss: 0.009088854305446148 | Accuracy: 100.0%\n",
      " | Epoch 0 | Loss: 0.1844622790813446 | Accuracy: 96.875%\n",
      " | Epoch 0 | Loss: 0.011086896993219852 | Accuracy: 100.0%\n",
      " | Epoch 0 | Loss: 0.012830287218093872 | Accuracy: 100.0%\n",
      " | Epoch 0 | Loss: 0.009880375117063522 | Accuracy: 100.0%\n",
      " | Epoch 0 | Loss: 0.010823177173733711 | Accuracy: 100.0%\n",
      " | Epoch 0 | Loss: 0.011761678382754326 | Accuracy: 100.0%\n",
      " | Epoch 0 | Loss: 0.008347084745764732 | Accuracy: 100.0%\n",
      " | Epoch 0 | Loss: 0.00950251892209053 | Accuracy: 100.0%\n",
      " | Epoch 0 | Loss: 0.01175101101398468 | Accuracy: 100.0%\n",
      " | Epoch 0 | Loss: 0.010484280996024609 | Accuracy: 100.0%\n",
      " | Epoch 0 | Loss: 0.33804166316986084 | Accuracy: 96.875%\n",
      " | Epoch 0 | Loss: 0.3213498592376709 | Accuracy: 96.875%\n",
      " | Epoch 0 | Loss: 0.00959466677159071 | Accuracy: 100.0%\n",
      " | Epoch 0 | Loss: 0.011294003576040268 | Accuracy: 100.0%\n",
      " | Epoch 0 | Loss: 0.01073216088116169 | Accuracy: 100.0%\n",
      " | Epoch 0 | Loss: 0.01033814623951912 | Accuracy: 100.0%\n",
      " | Epoch 0 | Loss: 0.010566659271717072 | Accuracy: 100.0%\n",
      " | Epoch 0 | Loss: 0.18435096740722656 | Accuracy: 96.875%\n",
      " | Epoch 0 | Loss: 0.00876673124730587 | Accuracy: 100.0%\n",
      " | Epoch 0 | Loss: 0.009140459820628166 | Accuracy: 100.0%\n",
      " | Epoch 0 | Loss: 0.011144737713038921 | Accuracy: 100.0%\n",
      " | Epoch 0 | Loss: 0.012335550040006638 | Accuracy: 100.0%\n",
      " | Epoch 0 | Loss: 0.010005407966673374 | Accuracy: 100.0%\n",
      " | Epoch 0 | Loss: 0.013621277175843716 | Accuracy: 100.0%\n",
      " | Epoch 0 | Loss: 0.01004091463983059 | Accuracy: 100.0%\n"
     ]
    },
    {
     "name": "stderr",
     "output_type": "stream",
     "text": [
      "Epoch 0: 100%|███████████████████████████| 1501/1501 [00:03<00:00, 420.35batch/s, accuracy=100.0%, loss=0.00832]\n"
     ]
    },
    {
     "name": "stdout",
     "output_type": "stream",
     "text": [
      " | Epoch 0 | Loss: 0.24860015511512756 | Accuracy: 96.875%\n",
      " | Epoch 0 | Loss: 0.009968487545847893 | Accuracy: 100.0%\n",
      " | Epoch 0 | Loss: 0.010614444501698017 | Accuracy: 100.0%\n",
      " | Epoch 0 | Loss: 0.011608229018747807 | Accuracy: 100.0%\n",
      " | Epoch 0 | Loss: 0.010337229818105698 | Accuracy: 100.0%\n",
      " | Epoch 0 | Loss: 0.009920959360897541 | Accuracy: 100.0%\n",
      " | Epoch 0 | Loss: 0.010223131626844406 | Accuracy: 100.0%\n",
      " | Epoch 0 | Loss: 0.2336980551481247 | Accuracy: 96.875%\n",
      " | Epoch 0 | Loss: 0.5637224316596985 | Accuracy: 93.75%\n",
      " | Epoch 0 | Loss: 0.18639689683914185 | Accuracy: 96.875%\n",
      " | Epoch 0 | Loss: 0.010259116068482399 | Accuracy: 100.0%\n",
      " | Epoch 0 | Loss: 0.010282686911523342 | Accuracy: 100.0%\n",
      " | Epoch 0 | Loss: 0.011896553449332714 | Accuracy: 100.0%\n",
      " | Epoch 0 | Loss: 0.011965708807110786 | Accuracy: 100.0%\n",
      " | Epoch 0 | Loss: 0.009889023378491402 | Accuracy: 100.0%\n",
      " | Epoch 0 | Loss: 0.0129697285592556 | Accuracy: 100.0%\n",
      " | Epoch 0 | Loss: 0.01011976320296526 | Accuracy: 100.0%\n",
      " | Epoch 0 | Loss: 0.011641768738627434 | Accuracy: 100.0%\n",
      " | Epoch 0 | Loss: 0.18184149265289307 | Accuracy: 96.875%\n",
      " | Epoch 0 | Loss: 0.010308739729225636 | Accuracy: 100.0%\n",
      " | Epoch 0 | Loss: 0.011755252256989479 | Accuracy: 100.0%\n",
      " | Epoch 0 | Loss: 0.016414238139986992 | Accuracy: 100.0%\n",
      " | Epoch 0 | Loss: 0.012095448561012745 | Accuracy: 100.0%\n",
      " | Epoch 0 | Loss: 0.011578361503779888 | Accuracy: 100.0%\n",
      " | Epoch 0 | Loss: 0.012373211793601513 | Accuracy: 100.0%\n",
      " | Epoch 0 | Loss: 0.013321185484528542 | Accuracy: 100.0%\n",
      " | Epoch 0 | Loss: 0.011970655992627144 | Accuracy: 100.0%\n",
      " | Epoch 0 | Loss: 0.01146217342466116 | Accuracy: 100.0%\n",
      " | Epoch 0 | Loss: 0.01110563799738884 | Accuracy: 100.0%\n",
      " | Epoch 0 | Loss: 0.563929557800293 | Accuracy: 93.75%\n",
      " | Epoch 0 | Loss: 0.011206746101379395 | Accuracy: 100.0%\n",
      " | Epoch 0 | Loss: 0.011716814711689949 | Accuracy: 100.0%\n",
      " | Epoch 0 | Loss: 0.01216857973486185 | Accuracy: 100.0%\n",
      " | Epoch 0 | Loss: 0.009868891909718513 | Accuracy: 100.0%\n",
      " | Epoch 0 | Loss: 0.01004856452345848 | Accuracy: 100.0%\n",
      " | Epoch 0 | Loss: 0.01502344012260437 | Accuracy: 100.0%\n",
      " | Epoch 0 | Loss: 0.01047679502516985 | Accuracy: 100.0%\n",
      " | Epoch 0 | Loss: 0.01163798850029707 | Accuracy: 100.0%\n",
      " | Epoch 0 | Loss: 0.011069479398429394 | Accuracy: 100.0%\n",
      " | Epoch 0 | Loss: 0.010008747689425945 | Accuracy: 100.0%\n",
      " | Epoch 0 | Loss: 0.28230443596839905 | Accuracy: 96.875%\n",
      " | Epoch 0 | Loss: 0.18130534887313843 | Accuracy: 96.875%\n",
      " | Epoch 0 | Loss: 0.010814961045980453 | Accuracy: 100.0%\n",
      " | Epoch 0 | Loss: 0.013272326439619064 | Accuracy: 100.0%\n",
      " | Epoch 0 | Loss: 0.011896572075784206 | Accuracy: 100.0%\n",
      " | Epoch 0 | Loss: 0.01043485663831234 | Accuracy: 100.0%\n",
      " | Epoch 0 | Loss: 0.011446365155279636 | Accuracy: 100.0%\n",
      " | Epoch 0 | Loss: 0.010717489756643772 | Accuracy: 100.0%\n",
      " | Epoch 0 | Loss: 0.010119284503161907 | Accuracy: 100.0%\n",
      " | Epoch 0 | Loss: 0.01063553337007761 | Accuracy: 100.0%\n",
      " | Epoch 0 | Loss: 0.009515159763395786 | Accuracy: 100.0%\n",
      " | Epoch 0 | Loss: 0.011337353847920895 | Accuracy: 100.0%\n",
      " | Epoch 0 | Loss: 0.010918554849922657 | Accuracy: 100.0%\n",
      " | Epoch 0 | Loss: 0.008323951624333858 | Accuracy: 100.0%\n"
     ]
    },
    {
     "name": "stderr",
     "output_type": "stream",
     "text": [
      "Epoch 1:   2%|▋                            | 35/1501 [00:00<00:07, 183.47batch/s, accuracy=100.0%, loss=0.00849]"
     ]
    },
    {
     "name": "stdout",
     "output_type": "stream",
     "text": [
      " | Epoch 1 | Loss: 0.011109957471489906 | Accuracy: 100.0%\n",
      " | Epoch 1 | Loss: 0.009969967417418957 | Accuracy: 100.0%\n",
      " | Epoch 1 | Loss: 0.011035501956939697 | Accuracy: 100.0%\n",
      " | Epoch 1 | Loss: 0.010833282954990864 | Accuracy: 100.0%\n",
      " | Epoch 1 | Loss: 0.17792294919490814 | Accuracy: 96.875%\n",
      " | Epoch 1 | Loss: 0.010741017758846283 | Accuracy: 100.0%\n",
      " | Epoch 1 | Loss: 0.010706212371587753 | Accuracy: 100.0%\n",
      " | Epoch 1 | Loss: 0.010438905097544193 | Accuracy: 100.0%\n",
      " | Epoch 1 | Loss: 0.011171199381351471 | Accuracy: 100.0%\n",
      " | Epoch 1 | Loss: 0.012290469370782375 | Accuracy: 100.0%\n",
      " | Epoch 1 | Loss: 0.010547653771936893 | Accuracy: 100.0%\n",
      " | Epoch 1 | Loss: 0.009623133577406406 | Accuracy: 100.0%\n",
      " | Epoch 1 | Loss: 0.30302584171295166 | Accuracy: 96.875%\n",
      " | Epoch 1 | Loss: 0.009833346121013165 | Accuracy: 100.0%\n",
      " | Epoch 1 | Loss: 0.010377256199717522 | Accuracy: 100.0%\n",
      " | Epoch 1 | Loss: 0.01042801421135664 | Accuracy: 100.0%\n",
      " | Epoch 1 | Loss: 0.009916704148054123 | Accuracy: 100.0%\n",
      " | Epoch 1 | Loss: 0.009741990827023983 | Accuracy: 100.0%\n",
      " | Epoch 1 | Loss: 0.00919286534190178 | Accuracy: 100.0%\n",
      " | Epoch 1 | Loss: 0.010620509274303913 | Accuracy: 100.0%\n",
      " | Epoch 1 | Loss: 0.18373249471187592 | Accuracy: 96.875%\n",
      " | Epoch 1 | Loss: 0.010537787340581417 | Accuracy: 100.0%\n",
      " | Epoch 1 | Loss: 0.011271247640252113 | Accuracy: 100.0%\n",
      " | Epoch 1 | Loss: 0.010691248811781406 | Accuracy: 100.0%\n",
      " | Epoch 1 | Loss: 0.011665943078696728 | Accuracy: 100.0%\n",
      " | Epoch 1 | Loss: 0.00895315408706665 | Accuracy: 100.0%\n",
      " | Epoch 1 | Loss: 0.010470554232597351 | Accuracy: 100.0%\n",
      " | Epoch 1 | Loss: 0.010537435300648212 | Accuracy: 100.0%\n",
      " | Epoch 1 | Loss: 0.009829712100327015 | Accuracy: 100.0%\n",
      " | Epoch 1 | Loss: 0.31734344363212585 | Accuracy: 96.875%\n",
      " | Epoch 1 | Loss: 0.008795411325991154 | Accuracy: 100.0%\n",
      " | Epoch 1 | Loss: 0.19379372894763947 | Accuracy: 96.875%\n",
      " | Epoch 1 | Loss: 0.012182342819869518 | Accuracy: 100.0%\n",
      " | Epoch 1 | Loss: 0.011857632547616959 | Accuracy: 100.0%\n",
      " | Epoch 1 | Loss: 0.010197398252785206 | Accuracy: 100.0%\n",
      " | Epoch 1 | Loss: 0.008907686918973923 | Accuracy: 100.0%\n",
      " | Epoch 1 | Loss: 0.010127092711627483 | Accuracy: 100.0%\n",
      " | Epoch 1 | Loss: 0.17447741329669952 | Accuracy: 96.875%\n",
      " | Epoch 1 | Loss: 0.009018213488161564 | Accuracy: 100.0%\n",
      " | Epoch 1 | Loss: 0.01186277437955141 | Accuracy: 100.0%\n",
      " | Epoch 1 | Loss: 0.00988794956356287 | Accuracy: 100.0%\n",
      " | Epoch 1 | Loss: 0.3127233684062958 | Accuracy: 96.875%\n",
      " | Epoch 1 | Loss: 0.009583648294210434 | Accuracy: 100.0%\n",
      " | Epoch 1 | Loss: 0.01071807648986578 | Accuracy: 100.0%\n",
      " | Epoch 1 | Loss: 0.00915406085550785 | Accuracy: 100.0%\n",
      " | Epoch 1 | Loss: 0.009645777754485607 | Accuracy: 100.0%\n",
      " | Epoch 1 | Loss: 0.0106516033411026 | Accuracy: 100.0%\n",
      " | Epoch 1 | Loss: 0.009088046848773956 | Accuracy: 100.0%\n",
      " | Epoch 1 | Loss: 0.011543098837137222 | Accuracy: 100.0%\n",
      " | Epoch 1 | Loss: 0.009315996430814266 | Accuracy: 100.0%\n",
      " | Epoch 1 | Loss: 0.009451312012970448 | Accuracy: 100.0%\n",
      " | Epoch 1 | Loss: 0.009798018261790276 | Accuracy: 100.0%\n",
      " | Epoch 1 | Loss: 0.013075001537799835 | Accuracy: 100.0%\n",
      " | Epoch 1 | Loss: 0.008637919090688229 | Accuracy: 100.0%\n",
      " | Epoch 1 | Loss: 0.010024179704487324 | Accuracy: 100.0%\n",
      " | Epoch 1 | Loss: 0.008410000242292881 | Accuracy: 100.0%\n",
      " | Epoch 1 | Loss: 0.009282395243644714 | Accuracy: 100.0%\n",
      " | Epoch 1 | Loss: 0.010871279053390026 | Accuracy: 100.0%\n",
      " | Epoch 1 | Loss: 0.008425528183579445 | Accuracy: 100.0%\n",
      " | Epoch 1 | Loss: 0.009474985301494598 | Accuracy: 100.0%\n",
      " | Epoch 1 | Loss: 0.009132135659456253 | Accuracy: 100.0%\n",
      " | Epoch 1 | Loss: 0.18545499444007874 | Accuracy: 96.875%\n",
      " | Epoch 1 | Loss: 0.010121537372469902 | Accuracy: 100.0%\n",
      " | Epoch 1 | Loss: 0.008861572481691837 | Accuracy: 100.0%\n",
      " | Epoch 1 | Loss: 0.009177797473967075 | Accuracy: 100.0%\n",
      " | Epoch 1 | Loss: 0.008891478180885315 | Accuracy: 100.0%\n",
      " | Epoch 1 | Loss: 0.1761280596256256 | Accuracy: 96.875%\n",
      " | Epoch 1 | Loss: 0.008487062528729439 | Accuracy: 100.0%\n"
     ]
    },
    {
     "name": "stderr",
     "output_type": "stream",
     "text": [
      "Epoch 1:   8%|██                          | 113/1501 [00:00<00:04, 319.09batch/s, accuracy=100.0%, loss=0.00803]"
     ]
    },
    {
     "name": "stdout",
     "output_type": "stream",
     "text": [
      " | Epoch 1 | Loss: 0.008042530156672001 | Accuracy: 100.0%\n",
      " | Epoch 1 | Loss: 0.00828325841575861 | Accuracy: 100.0%\n",
      " | Epoch 1 | Loss: 0.17790460586547852 | Accuracy: 96.875%\n",
      " | Epoch 1 | Loss: 0.007888671942055225 | Accuracy: 100.0%\n",
      " | Epoch 1 | Loss: 0.009867281652987003 | Accuracy: 100.0%\n",
      " | Epoch 1 | Loss: 0.008585730567574501 | Accuracy: 100.0%\n",
      " | Epoch 1 | Loss: 0.18423238396644592 | Accuracy: 96.875%\n",
      " | Epoch 1 | Loss: 0.008477914147078991 | Accuracy: 100.0%\n",
      " | Epoch 1 | Loss: 0.01112313475459814 | Accuracy: 100.0%\n",
      " | Epoch 1 | Loss: 0.011771295219659805 | Accuracy: 100.0%\n",
      " | Epoch 1 | Loss: 0.008292511105537415 | Accuracy: 100.0%\n",
      " | Epoch 1 | Loss: 0.008308268152177334 | Accuracy: 100.0%\n",
      " | Epoch 1 | Loss: 0.3666749596595764 | Accuracy: 96.875%\n",
      " | Epoch 1 | Loss: 0.00999577809125185 | Accuracy: 100.0%\n",
      " | Epoch 1 | Loss: 0.008983881212770939 | Accuracy: 100.0%\n",
      " | Epoch 1 | Loss: 0.3439617455005646 | Accuracy: 96.875%\n",
      " | Epoch 1 | Loss: 0.012309452518820763 | Accuracy: 100.0%\n",
      " | Epoch 1 | Loss: 0.00881553441286087 | Accuracy: 100.0%\n",
      " | Epoch 1 | Loss: 0.009740633890032768 | Accuracy: 100.0%\n",
      " | Epoch 1 | Loss: 0.007464710157364607 | Accuracy: 100.0%\n",
      " | Epoch 1 | Loss: 0.2326391488313675 | Accuracy: 96.875%\n",
      " | Epoch 1 | Loss: 0.009974689222872257 | Accuracy: 100.0%\n",
      " | Epoch 1 | Loss: 0.009661735035479069 | Accuracy: 100.0%\n",
      " | Epoch 1 | Loss: 0.01047827024012804 | Accuracy: 100.0%\n",
      " | Epoch 1 | Loss: 0.008604989387094975 | Accuracy: 100.0%\n",
      " | Epoch 1 | Loss: 0.010741052217781544 | Accuracy: 100.0%\n",
      " | Epoch 1 | Loss: 0.009552995674312115 | Accuracy: 100.0%\n",
      " | Epoch 1 | Loss: 0.008434594608843327 | Accuracy: 100.0%\n",
      " | Epoch 1 | Loss: 0.00979400984942913 | Accuracy: 100.0%\n",
      " | Epoch 1 | Loss: 0.007980776019394398 | Accuracy: 100.0%\n",
      " | Epoch 1 | Loss: 0.008991916663944721 | Accuracy: 100.0%\n",
      " | Epoch 1 | Loss: 0.008854397572577 | Accuracy: 100.0%\n",
      " | Epoch 1 | Loss: 0.18018074333667755 | Accuracy: 96.875%\n",
      " | Epoch 1 | Loss: 0.008308341726660728 | Accuracy: 100.0%\n",
      " | Epoch 1 | Loss: 0.009488802403211594 | Accuracy: 100.0%\n",
      " | Epoch 1 | Loss: 0.00955659057945013 | Accuracy: 100.0%\n",
      " | Epoch 1 | Loss: 0.009372157976031303 | Accuracy: 100.0%\n",
      " | Epoch 1 | Loss: 0.008899536915123463 | Accuracy: 100.0%\n",
      " | Epoch 1 | Loss: 0.009493649005889893 | Accuracy: 100.0%\n",
      " | Epoch 1 | Loss: 0.009342461824417114 | Accuracy: 100.0%\n",
      " | Epoch 1 | Loss: 0.00832816120237112 | Accuracy: 100.0%\n",
      " | Epoch 1 | Loss: 0.009261619299650192 | Accuracy: 100.0%\n",
      " | Epoch 1 | Loss: 0.008962954394519329 | Accuracy: 100.0%\n",
      " | Epoch 1 | Loss: 0.3471781611442566 | Accuracy: 96.875%\n",
      " | Epoch 1 | Loss: 0.1701265424489975 | Accuracy: 96.875%\n",
      " | Epoch 1 | Loss: 0.008183406665921211 | Accuracy: 100.0%\n",
      " | Epoch 1 | Loss: 0.009103819727897644 | Accuracy: 100.0%\n",
      " | Epoch 1 | Loss: 0.01006743311882019 | Accuracy: 100.0%\n",
      " | Epoch 1 | Loss: 0.012906864285469055 | Accuracy: 100.0%\n",
      " | Epoch 1 | Loss: 0.012731830589473248 | Accuracy: 100.0%\n",
      " | Epoch 1 | Loss: 0.012048326432704926 | Accuracy: 100.0%\n",
      " | Epoch 1 | Loss: 0.010262436233460903 | Accuracy: 100.0%\n",
      " | Epoch 1 | Loss: 0.00899898074567318 | Accuracy: 100.0%\n",
      " | Epoch 1 | Loss: 0.009153090417385101 | Accuracy: 100.0%\n",
      " | Epoch 1 | Loss: 0.009125670418143272 | Accuracy: 100.0%\n",
      " | Epoch 1 | Loss: 0.009714151732623577 | Accuracy: 100.0%\n",
      " | Epoch 1 | Loss: 0.25285419821739197 | Accuracy: 96.875%\n",
      " | Epoch 1 | Loss: 0.008680740371346474 | Accuracy: 100.0%\n",
      " | Epoch 1 | Loss: 0.008892844431102276 | Accuracy: 100.0%\n",
      " | Epoch 1 | Loss: 0.008605982176959515 | Accuracy: 100.0%\n",
      " | Epoch 1 | Loss: 0.009683754295110703 | Accuracy: 100.0%\n",
      " | Epoch 1 | Loss: 0.009370161220431328 | Accuracy: 100.0%\n",
      " | Epoch 1 | Loss: 0.010073433630168438 | Accuracy: 100.0%\n",
      " | Epoch 1 | Loss: 0.00830635242164135 | Accuracy: 100.0%\n",
      " | Epoch 1 | Loss: 0.007768808864057064 | Accuracy: 100.0%\n",
      " | Epoch 1 | Loss: 0.008028367534279823 | Accuracy: 100.0%\n",
      " | Epoch 1 | Loss: 0.010590876452624798 | Accuracy: 100.0%\n",
      " | Epoch 1 | Loss: 0.007965002208948135 | Accuracy: 100.0%\n",
      " | Epoch 1 | Loss: 0.01019303034991026 | Accuracy: 100.0%\n",
      " | Epoch 1 | Loss: 0.007888462394475937 | Accuracy: 100.0%\n",
      " | Epoch 1 | Loss: 0.008433917537331581 | Accuracy: 100.0%\n",
      " | Epoch 1 | Loss: 0.009224286302924156 | Accuracy: 100.0%\n",
      " | Epoch 1 | Loss: 0.008062228560447693 | Accuracy: 100.0%\n",
      " | Epoch 1 | Loss: 0.008885185234248638 | Accuracy: 100.0%\n",
      " | Epoch 1 | Loss: 0.008697566576302052 | Accuracy: 100.0%\n",
      " | Epoch 1 | Loss: 0.18072421848773956 | Accuracy: 96.875%\n",
      " | Epoch 1 | Loss: 0.007827552035450935 | Accuracy: 100.0%\n",
      " | Epoch 1 | Loss: 0.33811232447624207 | Accuracy: 96.875%\n",
      " | Epoch 1 | Loss: 0.1782701015472412 | Accuracy: 96.875%\n",
      " | Epoch 1 | Loss: 0.008457313291728497 | Accuracy: 100.0%\n",
      " | Epoch 1 | Loss: 0.008033651858568192 | Accuracy: 100.0%\n"
     ]
    },
    {
     "name": "stderr",
     "output_type": "stream",
     "text": [
      "Epoch 1:  13%|███▊                        | 202/1501 [00:00<00:03, 396.36batch/s, accuracy=100.0%, loss=0.00972]"
     ]
    },
    {
     "name": "stdout",
     "output_type": "stream",
     "text": [
      " | Epoch 1 | Loss: 0.182162806391716 | Accuracy: 96.875%\n",
      " | Epoch 1 | Loss: 0.008234329521656036 | Accuracy: 100.0%\n",
      " | Epoch 1 | Loss: 0.008103905245661736 | Accuracy: 100.0%\n",
      " | Epoch 1 | Loss: 0.8221648335456848 | Accuracy: 90.625%\n",
      " | Epoch 1 | Loss: 0.007594508584588766 | Accuracy: 100.0%\n",
      " | Epoch 1 | Loss: 0.21936020255088806 | Accuracy: 96.875%\n",
      " | Epoch 1 | Loss: 0.008984179235994816 | Accuracy: 100.0%\n",
      " | Epoch 1 | Loss: 0.009181770496070385 | Accuracy: 100.0%\n",
      " | Epoch 1 | Loss: 0.01167244091629982 | Accuracy: 100.0%\n",
      " | Epoch 1 | Loss: 0.008784737437963486 | Accuracy: 100.0%\n",
      " | Epoch 1 | Loss: 0.011245544999837875 | Accuracy: 100.0%\n",
      " | Epoch 1 | Loss: 0.15300655364990234 | Accuracy: 96.875%\n",
      " | Epoch 1 | Loss: 0.008593161590397358 | Accuracy: 100.0%\n",
      " | Epoch 1 | Loss: 0.01006301213055849 | Accuracy: 100.0%\n",
      " | Epoch 1 | Loss: 0.010986200533807278 | Accuracy: 100.0%\n",
      " | Epoch 1 | Loss: 0.01332424208521843 | Accuracy: 100.0%\n",
      " | Epoch 1 | Loss: 0.48767679929733276 | Accuracy: 93.75%\n",
      " | Epoch 1 | Loss: 0.009298071265220642 | Accuracy: 100.0%\n",
      " | Epoch 1 | Loss: 0.012039209716022015 | Accuracy: 100.0%\n",
      " | Epoch 1 | Loss: 0.27399614453315735 | Accuracy: 96.875%\n",
      " | Epoch 1 | Loss: 0.013698527589440346 | Accuracy: 100.0%\n",
      " | Epoch 1 | Loss: 0.18038193881511688 | Accuracy: 96.875%\n",
      " | Epoch 1 | Loss: 0.01325581967830658 | Accuracy: 100.0%\n",
      " | Epoch 1 | Loss: 0.01622598245739937 | Accuracy: 100.0%\n",
      " | Epoch 1 | Loss: 0.014586899429559708 | Accuracy: 100.0%\n",
      " | Epoch 1 | Loss: 0.015589344315230846 | Accuracy: 100.0%\n",
      " | Epoch 1 | Loss: 0.2229495495557785 | Accuracy: 96.875%\n",
      " | Epoch 1 | Loss: 0.012337394058704376 | Accuracy: 100.0%\n",
      " | Epoch 1 | Loss: 0.013217585161328316 | Accuracy: 100.0%\n",
      " | Epoch 1 | Loss: 0.010627483949065208 | Accuracy: 100.0%\n",
      " | Epoch 1 | Loss: 0.012805306352674961 | Accuracy: 100.0%\n",
      " | Epoch 1 | Loss: 0.012026629410684109 | Accuracy: 100.0%\n",
      " | Epoch 1 | Loss: 0.19046582281589508 | Accuracy: 96.875%\n",
      " | Epoch 1 | Loss: 0.013013014569878578 | Accuracy: 100.0%\n",
      " | Epoch 1 | Loss: 0.009413069114089012 | Accuracy: 100.0%\n",
      " | Epoch 1 | Loss: 0.149554044008255 | Accuracy: 96.875%\n",
      " | Epoch 1 | Loss: 0.29700732231140137 | Accuracy: 96.875%\n",
      " | Epoch 1 | Loss: 0.013341427780687809 | Accuracy: 100.0%\n",
      " | Epoch 1 | Loss: 0.014196504838764668 | Accuracy: 100.0%\n",
      " | Epoch 1 | Loss: 0.014879006892442703 | Accuracy: 100.0%\n",
      " | Epoch 1 | Loss: 0.014247234910726547 | Accuracy: 100.0%\n",
      " | Epoch 1 | Loss: 0.01288150716573 | Accuracy: 100.0%\n",
      " | Epoch 1 | Loss: 0.01241642702370882 | Accuracy: 100.0%\n",
      " | Epoch 1 | Loss: 0.013175944797694683 | Accuracy: 100.0%\n",
      " | Epoch 1 | Loss: 0.01600485108792782 | Accuracy: 100.0%\n",
      " | Epoch 1 | Loss: 0.015058091841638088 | Accuracy: 100.0%\n",
      " | Epoch 1 | Loss: 0.010342806577682495 | Accuracy: 100.0%\n",
      " | Epoch 1 | Loss: 0.19865964353084564 | Accuracy: 96.875%\n",
      " | Epoch 1 | Loss: 0.014466697350144386 | Accuracy: 100.0%\n",
      " | Epoch 1 | Loss: 0.011270926333963871 | Accuracy: 100.0%\n",
      " | Epoch 1 | Loss: 0.01222936436533928 | Accuracy: 100.0%\n",
      " | Epoch 1 | Loss: 0.011119389906525612 | Accuracy: 100.0%\n",
      " | Epoch 1 | Loss: 0.01012676302343607 | Accuracy: 100.0%\n",
      " | Epoch 1 | Loss: 0.010626348666846752 | Accuracy: 100.0%\n",
      " | Epoch 1 | Loss: 0.01491957064718008 | Accuracy: 100.0%\n",
      " | Epoch 1 | Loss: 0.012813886627554893 | Accuracy: 100.0%\n",
      " | Epoch 1 | Loss: 0.009305395185947418 | Accuracy: 100.0%\n",
      " | Epoch 1 | Loss: 0.3449631333351135 | Accuracy: 93.75%\n",
      " | Epoch 1 | Loss: 0.011687159538269043 | Accuracy: 100.0%\n",
      " | Epoch 1 | Loss: 0.012559758499264717 | Accuracy: 100.0%\n",
      " | Epoch 1 | Loss: 0.013372952118515968 | Accuracy: 100.0%\n",
      " | Epoch 1 | Loss: 0.014019115827977657 | Accuracy: 100.0%\n",
      " | Epoch 1 | Loss: 0.013111162930727005 | Accuracy: 100.0%\n",
      " | Epoch 1 | Loss: 0.012319953180849552 | Accuracy: 100.0%\n",
      " | Epoch 1 | Loss: 0.010451613925397396 | Accuracy: 100.0%\n",
      " | Epoch 1 | Loss: 0.013357625342905521 | Accuracy: 100.0%\n",
      " | Epoch 1 | Loss: 0.010330026037991047 | Accuracy: 100.0%\n",
      " | Epoch 1 | Loss: 0.010050433687865734 | Accuracy: 100.0%\n",
      " | Epoch 1 | Loss: 0.009130755439400673 | Accuracy: 100.0%\n",
      " | Epoch 1 | Loss: 0.01322946883738041 | Accuracy: 100.0%\n",
      " | Epoch 1 | Loss: 0.012352734804153442 | Accuracy: 100.0%\n",
      " | Epoch 1 | Loss: 0.012343867681920528 | Accuracy: 100.0%\n",
      " | Epoch 1 | Loss: 0.24209433794021606 | Accuracy: 96.875%\n",
      " | Epoch 1 | Loss: 0.013569328002631664 | Accuracy: 100.0%\n",
      " | Epoch 1 | Loss: 0.010433581657707691 | Accuracy: 100.0%\n",
      " | Epoch 1 | Loss: 0.37001413106918335 | Accuracy: 96.875%\n",
      " | Epoch 1 | Loss: 0.012338491156697273 | Accuracy: 100.0%\n",
      " | Epoch 1 | Loss: 0.30236324667930603 | Accuracy: 96.875%\n",
      " | Epoch 1 | Loss: 0.009504072368144989 | Accuracy: 100.0%\n",
      " | Epoch 1 | Loss: 0.008980980142951012 | Accuracy: 100.0%\n",
      " | Epoch 1 | Loss: 0.2934744656085968 | Accuracy: 96.875%\n",
      " | Epoch 1 | Loss: 0.009441738948225975 | Accuracy: 100.0%\n",
      " | Epoch 1 | Loss: 0.19441422820091248 | Accuracy: 96.875%\n",
      " | Epoch 1 | Loss: 0.011034021154046059 | Accuracy: 100.0%\n",
      " | Epoch 1 | Loss: 0.010608448646962643 | Accuracy: 100.0%\n",
      " | Epoch 1 | Loss: 0.15075373649597168 | Accuracy: 96.875%\n",
      " | Epoch 1 | Loss: 0.011694086715579033 | Accuracy: 100.0%\n",
      " | Epoch 1 | Loss: 0.012609880417585373 | Accuracy: 100.0%\n",
      " | Epoch 1 | Loss: 0.01198077853769064 | Accuracy: 100.0%\n",
      " | Epoch 1 | Loss: 0.011241894215345383 | Accuracy: 100.0%\n",
      " | Epoch 1 | Loss: 0.012077663093805313 | Accuracy: 100.0%\n",
      " | Epoch 1 | Loss: 0.0127214714884758 | Accuracy: 100.0%\n",
      " | Epoch 1 | Loss: 0.009722634218633175 | Accuracy: 100.0%\n"
     ]
    },
    {
     "name": "stderr",
     "output_type": "stream",
     "text": [
      "Epoch 1:  19%|█████▌                       | 288/1501 [00:00<00:02, 413.95batch/s, accuracy=100.0%, loss=0.0141]"
     ]
    },
    {
     "name": "stdout",
     "output_type": "stream",
     "text": [
      " | Epoch 1 | Loss: 0.01219982374459505 | Accuracy: 100.0%\n",
      " | Epoch 1 | Loss: 0.0107737947255373 | Accuracy: 100.0%\n",
      " | Epoch 1 | Loss: 0.012023715302348137 | Accuracy: 100.0%\n",
      " | Epoch 1 | Loss: 0.011334210634231567 | Accuracy: 100.0%\n",
      " | Epoch 1 | Loss: 0.011854038573801517 | Accuracy: 100.0%\n",
      " | Epoch 1 | Loss: 0.19253483414649963 | Accuracy: 96.875%\n",
      " | Epoch 1 | Loss: 0.012626569718122482 | Accuracy: 100.0%\n",
      " | Epoch 1 | Loss: 0.011927137151360512 | Accuracy: 100.0%\n",
      " | Epoch 1 | Loss: 0.011807024478912354 | Accuracy: 100.0%\n",
      " | Epoch 1 | Loss: 0.010509144514799118 | Accuracy: 100.0%\n",
      " | Epoch 1 | Loss: 0.009598027914762497 | Accuracy: 100.0%\n",
      " | Epoch 1 | Loss: 0.1799367517232895 | Accuracy: 96.875%\n",
      " | Epoch 1 | Loss: 0.011088921688497066 | Accuracy: 100.0%\n",
      " | Epoch 1 | Loss: 0.009096630848944187 | Accuracy: 100.0%\n",
      " | Epoch 1 | Loss: 0.014253471046686172 | Accuracy: 100.0%\n",
      " | Epoch 1 | Loss: 0.012635564431548119 | Accuracy: 100.0%\n",
      " | Epoch 1 | Loss: 0.32937923073768616 | Accuracy: 96.875%\n",
      " | Epoch 1 | Loss: 0.011467959731817245 | Accuracy: 100.0%\n",
      " | Epoch 1 | Loss: 0.16584709286689758 | Accuracy: 96.875%\n",
      " | Epoch 1 | Loss: 0.009295625612139702 | Accuracy: 100.0%\n",
      " | Epoch 1 | Loss: 0.010180522687733173 | Accuracy: 100.0%\n",
      " | Epoch 1 | Loss: 0.00990273617208004 | Accuracy: 100.0%\n",
      " | Epoch 1 | Loss: 0.010719398967921734 | Accuracy: 100.0%\n",
      " | Epoch 1 | Loss: 0.0086603332310915 | Accuracy: 100.0%\n",
      " | Epoch 1 | Loss: 0.009331921115517616 | Accuracy: 100.0%\n",
      " | Epoch 1 | Loss: 0.008077953942120075 | Accuracy: 100.0%\n",
      " | Epoch 1 | Loss: 0.010869648307561874 | Accuracy: 100.0%\n",
      " | Epoch 1 | Loss: 0.010555894114077091 | Accuracy: 100.0%\n",
      " | Epoch 1 | Loss: 0.010160606354475021 | Accuracy: 100.0%\n",
      " | Epoch 1 | Loss: 0.010876443237066269 | Accuracy: 100.0%\n",
      " | Epoch 1 | Loss: 0.00997382216155529 | Accuracy: 100.0%\n",
      " | Epoch 1 | Loss: 0.29695552587509155 | Accuracy: 96.875%\n",
      " | Epoch 1 | Loss: 0.009148391894996166 | Accuracy: 100.0%\n",
      " | Epoch 1 | Loss: 0.27828851342201233 | Accuracy: 96.875%\n",
      " | Epoch 1 | Loss: 0.009194035083055496 | Accuracy: 100.0%\n",
      " | Epoch 1 | Loss: 0.3342769742012024 | Accuracy: 96.875%\n",
      " | Epoch 1 | Loss: 0.01037825271487236 | Accuracy: 100.0%\n",
      " | Epoch 1 | Loss: 0.013196585699915886 | Accuracy: 100.0%\n",
      " | Epoch 1 | Loss: 0.011707903817296028 | Accuracy: 100.0%\n",
      " | Epoch 1 | Loss: 0.12928976118564606 | Accuracy: 96.875%\n",
      " | Epoch 1 | Loss: 0.010861093178391457 | Accuracy: 100.0%\n",
      " | Epoch 1 | Loss: 0.011878812685608864 | Accuracy: 100.0%\n",
      " | Epoch 1 | Loss: 0.009502979926764965 | Accuracy: 100.0%\n",
      " | Epoch 1 | Loss: 0.2770242393016815 | Accuracy: 96.875%\n",
      " | Epoch 1 | Loss: 0.01272580772638321 | Accuracy: 100.0%\n",
      " | Epoch 1 | Loss: 0.011194917373359203 | Accuracy: 100.0%\n",
      " | Epoch 1 | Loss: 0.01076514832675457 | Accuracy: 100.0%\n",
      " | Epoch 1 | Loss: 0.010698175989091396 | Accuracy: 100.0%\n",
      " | Epoch 1 | Loss: 0.013179147616028786 | Accuracy: 100.0%\n",
      " | Epoch 1 | Loss: 0.010783912613987923 | Accuracy: 100.0%\n",
      " | Epoch 1 | Loss: 0.012460952624678612 | Accuracy: 100.0%\n",
      " | Epoch 1 | Loss: 0.009192612953484058 | Accuracy: 100.0%\n",
      " | Epoch 1 | Loss: 0.012935543432831764 | Accuracy: 100.0%\n",
      " | Epoch 1 | Loss: 0.015128446742892265 | Accuracy: 100.0%\n",
      " | Epoch 1 | Loss: 0.011588581837713718 | Accuracy: 100.0%\n",
      " | Epoch 1 | Loss: 0.010338212363421917 | Accuracy: 100.0%\n",
      " | Epoch 1 | Loss: 0.010310422629117966 | Accuracy: 100.0%\n",
      " | Epoch 1 | Loss: 0.009426342323422432 | Accuracy: 100.0%\n",
      " | Epoch 1 | Loss: 0.011406801640987396 | Accuracy: 100.0%\n",
      " | Epoch 1 | Loss: 0.009882285259664059 | Accuracy: 100.0%\n",
      " | Epoch 1 | Loss: 0.012600414454936981 | Accuracy: 100.0%\n",
      " | Epoch 1 | Loss: 0.3056986927986145 | Accuracy: 96.875%\n",
      " | Epoch 1 | Loss: 0.01188695803284645 | Accuracy: 100.0%\n",
      " | Epoch 1 | Loss: 0.009425745345652103 | Accuracy: 100.0%\n",
      " | Epoch 1 | Loss: 0.00944001879543066 | Accuracy: 100.0%\n",
      " | Epoch 1 | Loss: 0.009466791525483131 | Accuracy: 100.0%\n",
      " | Epoch 1 | Loss: 0.011700755916535854 | Accuracy: 100.0%\n",
      " | Epoch 1 | Loss: 0.009796415455639362 | Accuracy: 100.0%\n",
      " | Epoch 1 | Loss: 0.008961045183241367 | Accuracy: 100.0%\n",
      " | Epoch 1 | Loss: 0.01065626461058855 | Accuracy: 100.0%\n",
      " | Epoch 1 | Loss: 0.36836007237434387 | Accuracy: 96.875%\n",
      " | Epoch 1 | Loss: 0.3463234603404999 | Accuracy: 96.875%\n",
      " | Epoch 1 | Loss: 0.2081630825996399 | Accuracy: 96.875%\n",
      " | Epoch 1 | Loss: 0.008941789157688618 | Accuracy: 100.0%\n",
      " | Epoch 1 | Loss: 0.010952522978186607 | Accuracy: 100.0%\n",
      " | Epoch 1 | Loss: 0.010204678401350975 | Accuracy: 100.0%\n",
      " | Epoch 1 | Loss: 0.00867481343448162 | Accuracy: 100.0%\n",
      " | Epoch 1 | Loss: 0.01162608154118061 | Accuracy: 100.0%\n",
      " | Epoch 1 | Loss: 0.01192864216864109 | Accuracy: 100.0%\n",
      " | Epoch 1 | Loss: 0.011395031586289406 | Accuracy: 100.0%\n",
      " | Epoch 1 | Loss: 0.011311194859445095 | Accuracy: 100.0%\n",
      " | Epoch 1 | Loss: 0.012033511884510517 | Accuracy: 100.0%\n",
      " | Epoch 1 | Loss: 0.01217654813081026 | Accuracy: 100.0%\n",
      " | Epoch 1 | Loss: 0.011579809710383415 | Accuracy: 100.0%\n",
      " | Epoch 1 | Loss: 0.014141169376671314 | Accuracy: 100.0%\n"
     ]
    },
    {
     "name": "stderr",
     "output_type": "stream",
     "text": [
      "Epoch 1:  25%|██████▉                     | 375/1501 [00:01<00:02, 420.04batch/s, accuracy=100.0%, loss=0.00975]"
     ]
    },
    {
     "name": "stdout",
     "output_type": "stream",
     "text": [
      " | Epoch 1 | Loss: 0.27548399567604065 | Accuracy: 96.875%\n",
      " | Epoch 1 | Loss: 0.010979779064655304 | Accuracy: 100.0%\n",
      " | Epoch 1 | Loss: 0.01016939990222454 | Accuracy: 100.0%\n",
      " | Epoch 1 | Loss: 0.010789478197693825 | Accuracy: 100.0%\n",
      " | Epoch 1 | Loss: 0.01127291563898325 | Accuracy: 100.0%\n",
      " | Epoch 1 | Loss: 0.010451586917042732 | Accuracy: 100.0%\n",
      " | Epoch 1 | Loss: 0.009038187563419342 | Accuracy: 100.0%\n",
      " | Epoch 1 | Loss: 0.01013056468218565 | Accuracy: 100.0%\n",
      " | Epoch 1 | Loss: 0.010985237546265125 | Accuracy: 100.0%\n",
      " | Epoch 1 | Loss: 0.3400305509567261 | Accuracy: 96.875%\n",
      " | Epoch 1 | Loss: 0.010441613383591175 | Accuracy: 100.0%\n",
      " | Epoch 1 | Loss: 0.011836564168334007 | Accuracy: 100.0%\n",
      " | Epoch 1 | Loss: 0.010330170392990112 | Accuracy: 100.0%\n",
      " | Epoch 1 | Loss: 0.011875536292791367 | Accuracy: 100.0%\n",
      " | Epoch 1 | Loss: 0.010599805973470211 | Accuracy: 100.0%\n",
      " | Epoch 1 | Loss: 0.009951377287507057 | Accuracy: 100.0%\n",
      " | Epoch 1 | Loss: 0.2875252068042755 | Accuracy: 96.875%\n",
      " | Epoch 1 | Loss: 0.01026152167469263 | Accuracy: 100.0%\n",
      " | Epoch 1 | Loss: 0.011541127227246761 | Accuracy: 100.0%\n",
      " | Epoch 1 | Loss: 0.010126921348273754 | Accuracy: 100.0%\n",
      " | Epoch 1 | Loss: 0.009951484389603138 | Accuracy: 100.0%\n",
      " | Epoch 1 | Loss: 0.013834306038916111 | Accuracy: 100.0%\n",
      " | Epoch 1 | Loss: 0.01095015462487936 | Accuracy: 100.0%\n",
      " | Epoch 1 | Loss: 0.01588699035346508 | Accuracy: 100.0%\n",
      " | Epoch 1 | Loss: 0.011262950487434864 | Accuracy: 100.0%\n",
      " | Epoch 1 | Loss: 0.00953128281980753 | Accuracy: 100.0%\n",
      " | Epoch 1 | Loss: 0.18640270829200745 | Accuracy: 96.875%\n",
      " | Epoch 1 | Loss: 0.00971199944615364 | Accuracy: 100.0%\n",
      " | Epoch 1 | Loss: 0.009052431210875511 | Accuracy: 100.0%\n",
      " | Epoch 1 | Loss: 0.010413096286356449 | Accuracy: 100.0%\n",
      " | Epoch 1 | Loss: 0.010895874351263046 | Accuracy: 100.0%\n",
      " | Epoch 1 | Loss: 0.009864325635135174 | Accuracy: 100.0%\n",
      " | Epoch 1 | Loss: 0.008238784968852997 | Accuracy: 100.0%\n",
      " | Epoch 1 | Loss: 0.010345611721277237 | Accuracy: 100.0%\n",
      " | Epoch 1 | Loss: 0.40626341104507446 | Accuracy: 93.75%\n",
      " | Epoch 1 | Loss: 0.009745338000357151 | Accuracy: 100.0%\n",
      " | Epoch 1 | Loss: 0.2927737832069397 | Accuracy: 96.875%\n",
      " | Epoch 1 | Loss: 0.009418707340955734 | Accuracy: 100.0%\n",
      " | Epoch 1 | Loss: 0.007988191209733486 | Accuracy: 100.0%\n",
      " | Epoch 1 | Loss: 0.009627355262637138 | Accuracy: 100.0%\n",
      " | Epoch 1 | Loss: 0.010631237179040909 | Accuracy: 100.0%\n",
      " | Epoch 1 | Loss: 0.011350467801094055 | Accuracy: 100.0%\n",
      " | Epoch 1 | Loss: 0.010404027067124844 | Accuracy: 100.0%\n",
      " | Epoch 1 | Loss: 0.012241094373166561 | Accuracy: 100.0%\n",
      " | Epoch 1 | Loss: 0.01046332623809576 | Accuracy: 100.0%\n",
      " | Epoch 1 | Loss: 0.010050846263766289 | Accuracy: 100.0%\n",
      " | Epoch 1 | Loss: 0.010222180746495724 | Accuracy: 100.0%\n",
      " | Epoch 1 | Loss: 0.2014416605234146 | Accuracy: 96.875%\n",
      " | Epoch 1 | Loss: 0.1843579113483429 | Accuracy: 96.875%\n",
      " | Epoch 1 | Loss: 0.008963285014033318 | Accuracy: 100.0%\n",
      " | Epoch 1 | Loss: 0.009515995159745216 | Accuracy: 100.0%\n",
      " | Epoch 1 | Loss: 0.008271237835288048 | Accuracy: 100.0%\n",
      " | Epoch 1 | Loss: 0.010602442547678947 | Accuracy: 100.0%\n",
      " | Epoch 1 | Loss: 0.009493994526565075 | Accuracy: 100.0%\n",
      " | Epoch 1 | Loss: 0.0088047431781888 | Accuracy: 100.0%\n",
      " | Epoch 1 | Loss: 0.010776684619486332 | Accuracy: 100.0%\n",
      " | Epoch 1 | Loss: 0.009157639928162098 | Accuracy: 100.0%\n",
      " | Epoch 1 | Loss: 0.010226924903690815 | Accuracy: 100.0%\n",
      " | Epoch 1 | Loss: 0.009916216135025024 | Accuracy: 100.0%\n",
      " | Epoch 1 | Loss: 0.009387906640768051 | Accuracy: 100.0%\n",
      " | Epoch 1 | Loss: 0.011925235390663147 | Accuracy: 100.0%\n",
      " | Epoch 1 | Loss: 0.011826607398688793 | Accuracy: 100.0%\n",
      " | Epoch 1 | Loss: 0.008368078619241714 | Accuracy: 100.0%\n",
      " | Epoch 1 | Loss: 0.009354797191917896 | Accuracy: 100.0%\n",
      " | Epoch 1 | Loss: 0.0110139986500144 | Accuracy: 100.0%\n",
      " | Epoch 1 | Loss: 0.007884143851697445 | Accuracy: 100.0%\n",
      " | Epoch 1 | Loss: 0.011067102663218975 | Accuracy: 100.0%\n",
      " | Epoch 1 | Loss: 0.3370687663555145 | Accuracy: 96.875%\n",
      " | Epoch 1 | Loss: 0.008647154085338116 | Accuracy: 100.0%\n",
      " | Epoch 1 | Loss: 0.2786346673965454 | Accuracy: 96.875%\n",
      " | Epoch 1 | Loss: 0.1692013442516327 | Accuracy: 96.875%\n",
      " | Epoch 1 | Loss: 0.1803605854511261 | Accuracy: 96.875%\n",
      " | Epoch 1 | Loss: 0.008369255810976028 | Accuracy: 100.0%\n",
      " | Epoch 1 | Loss: 0.009588169865310192 | Accuracy: 100.0%\n",
      " | Epoch 1 | Loss: 0.010375474579632282 | Accuracy: 100.0%\n",
      " | Epoch 1 | Loss: 0.009580796584486961 | Accuracy: 100.0%\n",
      " | Epoch 1 | Loss: 0.010548572055995464 | Accuracy: 100.0%\n",
      " | Epoch 1 | Loss: 0.010578466579318047 | Accuracy: 100.0%\n",
      " | Epoch 1 | Loss: 0.009756911545991898 | Accuracy: 100.0%\n",
      " | Epoch 1 | Loss: 0.01042651291936636 | Accuracy: 100.0%\n",
      " | Epoch 1 | Loss: 0.010359021835029125 | Accuracy: 100.0%\n",
      " | Epoch 1 | Loss: 0.012338723987340927 | Accuracy: 100.0%\n",
      " | Epoch 1 | Loss: 0.01016359031200409 | Accuracy: 100.0%\n",
      " | Epoch 1 | Loss: 0.008869524113833904 | Accuracy: 100.0%\n",
      " | Epoch 1 | Loss: 0.010180805809795856 | Accuracy: 100.0%\n",
      " | Epoch 1 | Loss: 0.010034488514065742 | Accuracy: 100.0%\n",
      " | Epoch 1 | Loss: 0.010624339804053307 | Accuracy: 100.0%\n",
      " | Epoch 1 | Loss: 0.010000457987189293 | Accuracy: 100.0%\n",
      " | Epoch 1 | Loss: 0.009630274027585983 | Accuracy: 100.0%\n",
      " | Epoch 1 | Loss: 0.00949038378894329 | Accuracy: 100.0%\n",
      " | Epoch 1 | Loss: 0.3093940019607544 | Accuracy: 96.875%\n",
      " | Epoch 1 | Loss: 0.010305813513696194 | Accuracy: 100.0%\n",
      " | Epoch 1 | Loss: 0.009750484488904476 | Accuracy: 100.0%\n"
     ]
    },
    {
     "name": "stderr",
     "output_type": "stream",
     "text": [
      "Epoch 1:  32%|█████████▏                   | 475/1501 [00:01<00:02, 457.26batch/s, accuracy=100.0%, loss=0.0127]"
     ]
    },
    {
     "name": "stdout",
     "output_type": "stream",
     "text": [
      " | Epoch 1 | Loss: 0.008397952653467655 | Accuracy: 100.0%\n",
      " | Epoch 1 | Loss: 0.008606736548244953 | Accuracy: 100.0%\n",
      " | Epoch 1 | Loss: 0.009230817668139935 | Accuracy: 100.0%\n",
      " | Epoch 1 | Loss: 0.008690567687153816 | Accuracy: 100.0%\n",
      " | Epoch 1 | Loss: 0.36397406458854675 | Accuracy: 96.875%\n",
      " | Epoch 1 | Loss: 0.010689960792660713 | Accuracy: 100.0%\n",
      " | Epoch 1 | Loss: 0.009495780803263187 | Accuracy: 100.0%\n",
      " | Epoch 1 | Loss: 0.1872343271970749 | Accuracy: 96.875%\n",
      " | Epoch 1 | Loss: 0.00900896918028593 | Accuracy: 100.0%\n",
      " | Epoch 1 | Loss: 0.17771010100841522 | Accuracy: 96.875%\n",
      " | Epoch 1 | Loss: 0.17865675687789917 | Accuracy: 96.875%\n",
      " | Epoch 1 | Loss: 0.010100499726831913 | Accuracy: 100.0%\n",
      " | Epoch 1 | Loss: 0.011928263120353222 | Accuracy: 100.0%\n",
      " | Epoch 1 | Loss: 0.010900807566940784 | Accuracy: 100.0%\n",
      " | Epoch 1 | Loss: 0.009763052687048912 | Accuracy: 100.0%\n",
      " | Epoch 1 | Loss: 0.010832509957253933 | Accuracy: 100.0%\n",
      " | Epoch 1 | Loss: 0.1635040044784546 | Accuracy: 96.875%\n",
      " | Epoch 1 | Loss: 0.011324575170874596 | Accuracy: 100.0%\n",
      " | Epoch 1 | Loss: 0.01033622957766056 | Accuracy: 100.0%\n",
      " | Epoch 1 | Loss: 0.009579364210367203 | Accuracy: 100.0%\n",
      " | Epoch 1 | Loss: 0.010020188055932522 | Accuracy: 100.0%\n",
      " | Epoch 1 | Loss: 0.010225698351860046 | Accuracy: 100.0%\n",
      " | Epoch 1 | Loss: 0.011035362258553505 | Accuracy: 100.0%\n",
      " | Epoch 1 | Loss: 0.010694547556340694 | Accuracy: 100.0%\n",
      " | Epoch 1 | Loss: 0.010562393814325333 | Accuracy: 100.0%\n",
      " | Epoch 1 | Loss: 0.009638714604079723 | Accuracy: 100.0%\n",
      " | Epoch 1 | Loss: 0.18732689321041107 | Accuracy: 96.875%\n",
      " | Epoch 1 | Loss: 0.010920542292296886 | Accuracy: 100.0%\n",
      " | Epoch 1 | Loss: 0.01116135437041521 | Accuracy: 100.0%\n",
      " | Epoch 1 | Loss: 0.010140366852283478 | Accuracy: 100.0%\n",
      " | Epoch 1 | Loss: 0.008652881719172001 | Accuracy: 100.0%\n",
      " | Epoch 1 | Loss: 0.18614694476127625 | Accuracy: 96.875%\n",
      " | Epoch 1 | Loss: 0.5955141186714172 | Accuracy: 93.75%\n",
      " | Epoch 1 | Loss: 0.011104457080364227 | Accuracy: 100.0%\n",
      " | Epoch 1 | Loss: 0.15536068379878998 | Accuracy: 96.875%\n",
      " | Epoch 1 | Loss: 0.010583634488284588 | Accuracy: 100.0%\n",
      " | Epoch 1 | Loss: 0.010304934345185757 | Accuracy: 100.0%\n",
      " | Epoch 1 | Loss: 0.00972704403102398 | Accuracy: 100.0%\n",
      " | Epoch 1 | Loss: 0.20716741681098938 | Accuracy: 96.875%\n",
      " | Epoch 1 | Loss: 0.3574453592300415 | Accuracy: 96.875%\n",
      " | Epoch 1 | Loss: 0.17407941818237305 | Accuracy: 96.875%\n",
      " | Epoch 1 | Loss: 0.012124358676373959 | Accuracy: 100.0%\n",
      " | Epoch 1 | Loss: 0.012743952684104443 | Accuracy: 100.0%\n",
      " | Epoch 1 | Loss: 0.010192746296525002 | Accuracy: 100.0%\n",
      " | Epoch 1 | Loss: 0.01078038103878498 | Accuracy: 100.0%\n",
      " | Epoch 1 | Loss: 0.011249902658164501 | Accuracy: 100.0%\n",
      " | Epoch 1 | Loss: 0.01409874763339758 | Accuracy: 100.0%\n",
      " | Epoch 1 | Loss: 0.012652315199375153 | Accuracy: 100.0%\n",
      " | Epoch 1 | Loss: 0.2435539811849594 | Accuracy: 96.875%\n",
      " | Epoch 1 | Loss: 0.01211325079202652 | Accuracy: 100.0%\n",
      " | Epoch 1 | Loss: 0.012994659133255482 | Accuracy: 100.0%\n",
      " | Epoch 1 | Loss: 0.00987973902374506 | Accuracy: 100.0%\n",
      " | Epoch 1 | Loss: 0.01252039149403572 | Accuracy: 100.0%\n",
      " | Epoch 1 | Loss: 0.011523734778165817 | Accuracy: 100.0%\n",
      " | Epoch 1 | Loss: 0.012304996140301228 | Accuracy: 100.0%\n",
      " | Epoch 1 | Loss: 0.011445651762187481 | Accuracy: 100.0%\n",
      " | Epoch 1 | Loss: 0.1733148992061615 | Accuracy: 96.875%\n",
      " | Epoch 1 | Loss: 0.012308805249631405 | Accuracy: 100.0%\n",
      " | Epoch 1 | Loss: 0.011604039929807186 | Accuracy: 100.0%\n",
      " | Epoch 1 | Loss: 0.010966950096189976 | Accuracy: 100.0%\n",
      " | Epoch 1 | Loss: 0.010313031263649464 | Accuracy: 100.0%\n",
      " | Epoch 1 | Loss: 0.011901277117431164 | Accuracy: 100.0%\n",
      " | Epoch 1 | Loss: 0.012278659269213676 | Accuracy: 100.0%\n",
      " | Epoch 1 | Loss: 0.21603022515773773 | Accuracy: 96.875%\n",
      " | Epoch 1 | Loss: 0.01114928349852562 | Accuracy: 100.0%\n",
      " | Epoch 1 | Loss: 0.01201007142663002 | Accuracy: 100.0%\n",
      " | Epoch 1 | Loss: 0.011852631345391273 | Accuracy: 100.0%\n",
      " | Epoch 1 | Loss: 0.013070444576442242 | Accuracy: 100.0%\n",
      " | Epoch 1 | Loss: 0.011361895129084587 | Accuracy: 100.0%\n",
      " | Epoch 1 | Loss: 0.013998721726238728 | Accuracy: 100.0%\n",
      " | Epoch 1 | Loss: 0.2800343930721283 | Accuracy: 96.875%\n",
      " | Epoch 1 | Loss: 0.30018606781959534 | Accuracy: 96.875%\n",
      " | Epoch 1 | Loss: 0.011880123056471348 | Accuracy: 100.0%\n",
      " | Epoch 1 | Loss: 0.011218070983886719 | Accuracy: 100.0%\n",
      " | Epoch 1 | Loss: 0.016885455697774887 | Accuracy: 100.0%\n",
      " | Epoch 1 | Loss: 0.47212788462638855 | Accuracy: 93.75%\n",
      " | Epoch 1 | Loss: 0.015179856680333614 | Accuracy: 100.0%\n",
      " | Epoch 1 | Loss: 0.013152861036360264 | Accuracy: 100.0%\n",
      " | Epoch 1 | Loss: 0.014853590168058872 | Accuracy: 100.0%\n",
      " | Epoch 1 | Loss: 0.01544299628585577 | Accuracy: 100.0%\n",
      " | Epoch 1 | Loss: 0.01472342386841774 | Accuracy: 100.0%\n",
      " | Epoch 1 | Loss: 0.012248932383954525 | Accuracy: 100.0%\n",
      " | Epoch 1 | Loss: 0.24080325663089752 | Accuracy: 96.875%\n",
      " | Epoch 1 | Loss: 0.01436772570014 | Accuracy: 100.0%\n",
      " | Epoch 1 | Loss: 0.013744698837399483 | Accuracy: 100.0%\n",
      " | Epoch 1 | Loss: 0.016092121601104736 | Accuracy: 100.0%\n",
      " | Epoch 1 | Loss: 0.013304932042956352 | Accuracy: 100.0%\n",
      " | Epoch 1 | Loss: 0.011539096012711525 | Accuracy: 100.0%\n",
      " | Epoch 1 | Loss: 0.016678351908922195 | Accuracy: 100.0%\n",
      " | Epoch 1 | Loss: 0.01222751010209322 | Accuracy: 100.0%\n",
      " | Epoch 1 | Loss: 0.01131876464933157 | Accuracy: 100.0%\n",
      " | Epoch 1 | Loss: 0.4256390631198883 | Accuracy: 93.75%\n",
      " | Epoch 1 | Loss: 0.010450100526213646 | Accuracy: 100.0%\n",
      " | Epoch 1 | Loss: 0.011912386864423752 | Accuracy: 100.0%\n",
      " | Epoch 1 | Loss: 0.013874501921236515 | Accuracy: 100.0%\n",
      " | Epoch 1 | Loss: 0.009504270739853382 | Accuracy: 100.0%\n",
      " | Epoch 1 | Loss: 0.012150081805884838 | Accuracy: 100.0%\n",
      " | Epoch 1 | Loss: 0.014887174591422081 | Accuracy: 100.0%\n",
      " | Epoch 1 | Loss: 0.011046997271478176 | Accuracy: 100.0%\n",
      " | Epoch 1 | Loss: 0.0106352549046278 | Accuracy: 100.0%\n",
      " | Epoch 1 | Loss: 0.01245815958827734 | Accuracy: 100.0%\n",
      " | Epoch 1 | Loss: 0.1480819284915924 | Accuracy: 96.875%\n",
      " | Epoch 1 | Loss: 0.012702854350209236 | Accuracy: 100.0%\n"
     ]
    },
    {
     "name": "stderr",
     "output_type": "stream",
     "text": [
      "Epoch 1:  38%|██████████▋                 | 575/1501 [00:01<00:02, 449.02batch/s, accuracy=100.0%, loss=0.00851]"
     ]
    },
    {
     "name": "stdout",
     "output_type": "stream",
     "text": [
      " | Epoch 1 | Loss: 0.009683485142886639 | Accuracy: 100.0%\n",
      " | Epoch 1 | Loss: 0.011840292252600193 | Accuracy: 100.0%\n",
      " | Epoch 1 | Loss: 0.174932599067688 | Accuracy: 96.875%\n",
      " | Epoch 1 | Loss: 0.011625818908214569 | Accuracy: 100.0%\n",
      " | Epoch 1 | Loss: 0.17089992761611938 | Accuracy: 96.875%\n",
      " | Epoch 1 | Loss: 0.011691597290337086 | Accuracy: 100.0%\n",
      " | Epoch 1 | Loss: 0.5191569328308105 | Accuracy: 93.75%\n",
      " | Epoch 1 | Loss: 0.011858956888318062 | Accuracy: 100.0%\n",
      " | Epoch 1 | Loss: 0.18000683188438416 | Accuracy: 96.875%\n",
      " | Epoch 1 | Loss: 0.01101000141352415 | Accuracy: 100.0%\n",
      " | Epoch 1 | Loss: 0.01371005829423666 | Accuracy: 100.0%\n",
      " | Epoch 1 | Loss: 0.014200869016349316 | Accuracy: 100.0%\n",
      " | Epoch 1 | Loss: 0.0120767243206501 | Accuracy: 100.0%\n",
      " | Epoch 1 | Loss: 0.011182739399373531 | Accuracy: 100.0%\n",
      " | Epoch 1 | Loss: 0.01244504563510418 | Accuracy: 100.0%\n",
      " | Epoch 1 | Loss: 0.016037117689847946 | Accuracy: 100.0%\n",
      " | Epoch 1 | Loss: 0.014627109281718731 | Accuracy: 100.0%\n",
      " | Epoch 1 | Loss: 0.16363564133644104 | Accuracy: 96.875%\n",
      " | Epoch 1 | Loss: 0.014471947215497494 | Accuracy: 100.0%\n",
      " | Epoch 1 | Loss: 0.013031816110014915 | Accuracy: 100.0%\n",
      " | Epoch 1 | Loss: 0.010598879307508469 | Accuracy: 100.0%\n",
      " | Epoch 1 | Loss: 0.012145182117819786 | Accuracy: 100.0%\n",
      " | Epoch 1 | Loss: 0.013229113072156906 | Accuracy: 100.0%\n",
      " | Epoch 1 | Loss: 0.014530368149280548 | Accuracy: 100.0%\n",
      " | Epoch 1 | Loss: 0.010505604557693005 | Accuracy: 100.0%\n",
      " | Epoch 1 | Loss: 0.0140581876039505 | Accuracy: 100.0%\n",
      " | Epoch 1 | Loss: 0.18409498035907745 | Accuracy: 96.875%\n",
      " | Epoch 1 | Loss: 0.010105888359248638 | Accuracy: 100.0%\n",
      " | Epoch 1 | Loss: 0.009783221408724785 | Accuracy: 100.0%\n",
      " | Epoch 1 | Loss: 0.01154208555817604 | Accuracy: 100.0%\n",
      " | Epoch 1 | Loss: 0.2377297431230545 | Accuracy: 96.875%\n",
      " | Epoch 1 | Loss: 0.011008665896952152 | Accuracy: 100.0%\n",
      " | Epoch 1 | Loss: 0.012325126677751541 | Accuracy: 100.0%\n",
      " | Epoch 1 | Loss: 0.011916395276784897 | Accuracy: 100.0%\n",
      " | Epoch 1 | Loss: 0.013492345809936523 | Accuracy: 100.0%\n",
      " | Epoch 1 | Loss: 0.011098174378275871 | Accuracy: 100.0%\n",
      " | Epoch 1 | Loss: 0.011160613037645817 | Accuracy: 100.0%\n",
      " | Epoch 1 | Loss: 0.01191470492631197 | Accuracy: 100.0%\n",
      " | Epoch 1 | Loss: 0.009865440428256989 | Accuracy: 100.0%\n",
      " | Epoch 1 | Loss: 0.012160384096205235 | Accuracy: 100.0%\n",
      " | Epoch 1 | Loss: 0.012968919239938259 | Accuracy: 100.0%\n",
      " | Epoch 1 | Loss: 0.012305811047554016 | Accuracy: 100.0%\n",
      " | Epoch 1 | Loss: 0.010837720707058907 | Accuracy: 100.0%\n",
      " | Epoch 1 | Loss: 0.011396685615181923 | Accuracy: 100.0%\n",
      " | Epoch 1 | Loss: 0.2766392230987549 | Accuracy: 96.875%\n",
      " | Epoch 1 | Loss: 0.32540151476860046 | Accuracy: 96.875%\n",
      " | Epoch 1 | Loss: 0.011023445054888725 | Accuracy: 100.0%\n",
      " | Epoch 1 | Loss: 0.01138343382626772 | Accuracy: 100.0%\n",
      " | Epoch 1 | Loss: 0.00943782739341259 | Accuracy: 100.0%\n",
      " | Epoch 1 | Loss: 0.010334533639252186 | Accuracy: 100.0%\n",
      " | Epoch 1 | Loss: 0.009269993752241135 | Accuracy: 100.0%\n",
      " | Epoch 1 | Loss: 0.012725102715194225 | Accuracy: 100.0%\n",
      " | Epoch 1 | Loss: 0.010163831524550915 | Accuracy: 100.0%\n",
      " | Epoch 1 | Loss: 0.00992472842335701 | Accuracy: 100.0%\n",
      " | Epoch 1 | Loss: 0.010744025930762291 | Accuracy: 100.0%\n",
      " | Epoch 1 | Loss: 0.01022118330001831 | Accuracy: 100.0%\n",
      " | Epoch 1 | Loss: 0.009883750230073929 | Accuracy: 100.0%\n",
      " | Epoch 1 | Loss: 0.009919142350554466 | Accuracy: 100.0%\n",
      " | Epoch 1 | Loss: 0.3163550794124603 | Accuracy: 96.875%\n",
      " | Epoch 1 | Loss: 0.009973191656172276 | Accuracy: 100.0%\n",
      " | Epoch 1 | Loss: 0.011971581727266312 | Accuracy: 100.0%\n",
      " | Epoch 1 | Loss: 0.010617922060191631 | Accuracy: 100.0%\n",
      " | Epoch 1 | Loss: 0.011217503808438778 | Accuracy: 100.0%\n",
      " | Epoch 1 | Loss: 0.01024631131440401 | Accuracy: 100.0%\n",
      " | Epoch 1 | Loss: 0.010227716527879238 | Accuracy: 100.0%\n",
      " | Epoch 1 | Loss: 0.010780162177979946 | Accuracy: 100.0%\n",
      " | Epoch 1 | Loss: 0.19619154930114746 | Accuracy: 96.875%\n",
      " | Epoch 1 | Loss: 0.010357214137911797 | Accuracy: 100.0%\n",
      " | Epoch 1 | Loss: 0.009547377936542034 | Accuracy: 100.0%\n",
      " | Epoch 1 | Loss: 0.009288075380027294 | Accuracy: 100.0%\n",
      " | Epoch 1 | Loss: 0.009983556345105171 | Accuracy: 100.0%\n",
      " | Epoch 1 | Loss: 0.008508970960974693 | Accuracy: 100.0%\n"
     ]
    },
    {
     "name": "stderr",
     "output_type": "stream",
     "text": [
      "Epoch 1:  44%|████████████▊                | 662/1501 [00:01<00:02, 376.23batch/s, accuracy=100.0%, loss=0.0113]"
     ]
    },
    {
     "name": "stdout",
     "output_type": "stream",
     "text": [
      " | Epoch 1 | Loss: 0.013968240469694138 | Accuracy: 100.0%\n",
      " | Epoch 1 | Loss: 0.009361544623970985 | Accuracy: 100.0%\n",
      " | Epoch 1 | Loss: 0.009073303081095219 | Accuracy: 100.0%\n",
      " | Epoch 1 | Loss: 0.008993239142000675 | Accuracy: 100.0%\n",
      " | Epoch 1 | Loss: 0.009329646825790405 | Accuracy: 100.0%\n",
      " | Epoch 1 | Loss: 0.008079731836915016 | Accuracy: 100.0%\n",
      " | Epoch 1 | Loss: 0.00967125128954649 | Accuracy: 100.0%\n",
      " | Epoch 1 | Loss: 0.008877325803041458 | Accuracy: 100.0%\n",
      " | Epoch 1 | Loss: 0.3302042782306671 | Accuracy: 96.875%\n",
      " | Epoch 1 | Loss: 0.009820356033742428 | Accuracy: 100.0%\n",
      " | Epoch 1 | Loss: 0.009684627875685692 | Accuracy: 100.0%\n",
      " | Epoch 1 | Loss: 0.2455740123987198 | Accuracy: 96.875%\n",
      " | Epoch 1 | Loss: 0.008491030894219875 | Accuracy: 100.0%\n",
      " | Epoch 1 | Loss: 0.012274927459657192 | Accuracy: 100.0%\n",
      " | Epoch 1 | Loss: 0.269732266664505 | Accuracy: 96.875%\n",
      " | Epoch 1 | Loss: 0.008013095706701279 | Accuracy: 100.0%\n",
      " | Epoch 1 | Loss: 0.31375983357429504 | Accuracy: 96.875%\n",
      " | Epoch 1 | Loss: 0.009655950590968132 | Accuracy: 100.0%\n",
      " | Epoch 1 | Loss: 0.009390912018716335 | Accuracy: 100.0%\n",
      " | Epoch 1 | Loss: 0.009719453752040863 | Accuracy: 100.0%\n",
      " | Epoch 1 | Loss: 0.009277256205677986 | Accuracy: 100.0%\n",
      " | Epoch 1 | Loss: 0.2855274975299835 | Accuracy: 96.875%\n",
      " | Epoch 1 | Loss: 0.009232091717422009 | Accuracy: 100.0%\n",
      " | Epoch 1 | Loss: 0.009549529291689396 | Accuracy: 100.0%\n",
      " | Epoch 1 | Loss: 0.00878461915999651 | Accuracy: 100.0%\n",
      " | Epoch 1 | Loss: 0.00941349845379591 | Accuracy: 100.0%\n",
      " | Epoch 1 | Loss: 0.009411442093551159 | Accuracy: 100.0%\n",
      " | Epoch 1 | Loss: 0.010689906775951385 | Accuracy: 100.0%\n",
      " | Epoch 1 | Loss: 0.011145845986902714 | Accuracy: 100.0%\n",
      " | Epoch 1 | Loss: 0.011128444224596024 | Accuracy: 100.0%\n",
      " | Epoch 1 | Loss: 0.009251772426068783 | Accuracy: 100.0%\n",
      " | Epoch 1 | Loss: 0.010191180743277073 | Accuracy: 100.0%\n",
      " | Epoch 1 | Loss: 0.00991823710501194 | Accuracy: 100.0%\n",
      " | Epoch 1 | Loss: 0.013822208158671856 | Accuracy: 100.0%\n",
      " | Epoch 1 | Loss: 0.011142443865537643 | Accuracy: 100.0%\n",
      " | Epoch 1 | Loss: 0.009987397119402885 | Accuracy: 100.0%\n",
      " | Epoch 1 | Loss: 0.009641751646995544 | Accuracy: 100.0%\n",
      " | Epoch 1 | Loss: 0.012894656509160995 | Accuracy: 100.0%\n",
      " | Epoch 1 | Loss: 0.011085385456681252 | Accuracy: 100.0%\n",
      " | Epoch 1 | Loss: 0.009171580895781517 | Accuracy: 100.0%\n",
      " | Epoch 1 | Loss: 0.009410453960299492 | Accuracy: 100.0%\n",
      " | Epoch 1 | Loss: 0.01045502070337534 | Accuracy: 100.0%\n",
      " | Epoch 1 | Loss: 0.009823991917073727 | Accuracy: 100.0%\n",
      " | Epoch 1 | Loss: 0.009815558791160583 | Accuracy: 100.0%\n",
      " | Epoch 1 | Loss: 0.010905839502811432 | Accuracy: 100.0%\n",
      " | Epoch 1 | Loss: 0.23483404517173767 | Accuracy: 96.875%\n",
      " | Epoch 1 | Loss: 0.01203469280153513 | Accuracy: 100.0%\n",
      " | Epoch 1 | Loss: 0.008984862826764584 | Accuracy: 100.0%\n",
      " | Epoch 1 | Loss: 0.00995210837572813 | Accuracy: 100.0%\n",
      " | Epoch 1 | Loss: 0.009943658486008644 | Accuracy: 100.0%\n",
      " | Epoch 1 | Loss: 0.011031354777514935 | Accuracy: 100.0%\n",
      " | Epoch 1 | Loss: 0.00929461419582367 | Accuracy: 100.0%\n",
      " | Epoch 1 | Loss: 0.008431271649897099 | Accuracy: 100.0%\n",
      " | Epoch 1 | Loss: 0.009785307571291924 | Accuracy: 100.0%\n",
      " | Epoch 1 | Loss: 0.009359072893857956 | Accuracy: 100.0%\n",
      " | Epoch 1 | Loss: 0.008937302976846695 | Accuracy: 100.0%\n",
      " | Epoch 1 | Loss: 0.008627437055110931 | Accuracy: 100.0%\n",
      " | Epoch 1 | Loss: 0.24783611297607422 | Accuracy: 96.875%\n",
      " | Epoch 1 | Loss: 0.497514933347702 | Accuracy: 93.75%\n",
      " | Epoch 1 | Loss: 0.0097798528149724 | Accuracy: 100.0%\n",
      " | Epoch 1 | Loss: 0.011330347508192062 | Accuracy: 100.0%\n",
      " | Epoch 1 | Loss: 0.008282546885311604 | Accuracy: 100.0%\n",
      " | Epoch 1 | Loss: 0.013135223649442196 | Accuracy: 100.0%\n",
      " | Epoch 1 | Loss: 0.010377950966358185 | Accuracy: 100.0%\n",
      " | Epoch 1 | Loss: 0.008663082495331764 | Accuracy: 100.0%\n",
      " | Epoch 1 | Loss: 0.010775072500109673 | Accuracy: 100.0%\n",
      " | Epoch 1 | Loss: 0.011755222454667091 | Accuracy: 100.0%\n",
      " | Epoch 1 | Loss: 0.0103541174903512 | Accuracy: 100.0%\n"
     ]
    },
    {
     "name": "stderr",
     "output_type": "stream",
     "text": [
      "Epoch 1:  50%|█████████████▉              | 744/1501 [00:01<00:01, 391.22batch/s, accuracy=100.0%, loss=0.00788]"
     ]
    },
    {
     "name": "stdout",
     "output_type": "stream",
     "text": [
      " | Epoch 1 | Loss: 0.011276082135736942 | Accuracy: 100.0%\n",
      " | Epoch 1 | Loss: 0.010369529947638512 | Accuracy: 100.0%\n",
      " | Epoch 1 | Loss: 0.008942605927586555 | Accuracy: 100.0%\n",
      " | Epoch 1 | Loss: 0.01039954274892807 | Accuracy: 100.0%\n",
      " | Epoch 1 | Loss: 0.19291098415851593 | Accuracy: 96.875%\n",
      " | Epoch 1 | Loss: 0.008937066420912743 | Accuracy: 100.0%\n",
      " | Epoch 1 | Loss: 0.010136240161955357 | Accuracy: 100.0%\n",
      " | Epoch 1 | Loss: 0.012268311344087124 | Accuracy: 100.0%\n",
      " | Epoch 1 | Loss: 0.011650964617729187 | Accuracy: 100.0%\n",
      " | Epoch 1 | Loss: 0.009037846699357033 | Accuracy: 100.0%\n",
      " | Epoch 1 | Loss: 0.00970262661576271 | Accuracy: 100.0%\n",
      " | Epoch 1 | Loss: 0.01091044396162033 | Accuracy: 100.0%\n",
      " | Epoch 1 | Loss: 0.2902809977531433 | Accuracy: 96.875%\n",
      " | Epoch 1 | Loss: 0.008720558136701584 | Accuracy: 100.0%\n",
      " | Epoch 1 | Loss: 0.2839609384536743 | Accuracy: 96.875%\n",
      " | Epoch 1 | Loss: 0.0112911406904459 | Accuracy: 100.0%\n",
      " | Epoch 1 | Loss: 0.00913702230900526 | Accuracy: 100.0%\n",
      " | Epoch 1 | Loss: 0.008364011533558369 | Accuracy: 100.0%\n",
      " | Epoch 1 | Loss: 0.009011681191623211 | Accuracy: 100.0%\n",
      " | Epoch 1 | Loss: 0.01043037511408329 | Accuracy: 100.0%\n",
      " | Epoch 1 | Loss: 0.008428933098912239 | Accuracy: 100.0%\n",
      " | Epoch 1 | Loss: 0.008591669611632824 | Accuracy: 100.0%\n",
      " | Epoch 1 | Loss: 0.009922035969793797 | Accuracy: 100.0%\n",
      " | Epoch 1 | Loss: 0.007363792508840561 | Accuracy: 100.0%\n",
      " | Epoch 1 | Loss: 0.008165065199136734 | Accuracy: 100.0%\n",
      " | Epoch 1 | Loss: 0.0079486770555377 | Accuracy: 100.0%\n",
      " | Epoch 1 | Loss: 0.009151378646492958 | Accuracy: 100.0%\n",
      " | Epoch 1 | Loss: 0.009404828771948814 | Accuracy: 100.0%\n",
      " | Epoch 1 | Loss: 0.010397608391940594 | Accuracy: 100.0%\n",
      " | Epoch 1 | Loss: 0.010588396340608597 | Accuracy: 100.0%\n",
      " | Epoch 1 | Loss: 0.008419141173362732 | Accuracy: 100.0%\n",
      " | Epoch 1 | Loss: 0.00943849328905344 | Accuracy: 100.0%\n",
      " | Epoch 1 | Loss: 0.009601349011063576 | Accuracy: 100.0%\n",
      " | Epoch 1 | Loss: 0.009299599565565586 | Accuracy: 100.0%\n",
      " | Epoch 1 | Loss: 0.1744517982006073 | Accuracy: 96.875%\n",
      " | Epoch 1 | Loss: 0.009285349398851395 | Accuracy: 100.0%\n",
      " | Epoch 1 | Loss: 0.010284289717674255 | Accuracy: 100.0%\n",
      " | Epoch 1 | Loss: 0.008435612544417381 | Accuracy: 100.0%\n",
      " | Epoch 1 | Loss: 0.008499540388584137 | Accuracy: 100.0%\n",
      " | Epoch 1 | Loss: 0.00798675138503313 | Accuracy: 100.0%\n",
      " | Epoch 1 | Loss: 0.009127506986260414 | Accuracy: 100.0%\n",
      " | Epoch 1 | Loss: 0.009249670431017876 | Accuracy: 100.0%\n",
      " | Epoch 1 | Loss: 0.007975099608302116 | Accuracy: 100.0%\n",
      " | Epoch 1 | Loss: 0.008572828955948353 | Accuracy: 100.0%\n",
      " | Epoch 1 | Loss: 0.008950771763920784 | Accuracy: 100.0%\n",
      " | Epoch 1 | Loss: 0.007589803077280521 | Accuracy: 100.0%\n",
      " | Epoch 1 | Loss: 0.009034808725118637 | Accuracy: 100.0%\n",
      " | Epoch 1 | Loss: 0.0068716853857040405 | Accuracy: 100.0%\n",
      " | Epoch 1 | Loss: 0.008822210133075714 | Accuracy: 100.0%\n",
      " | Epoch 1 | Loss: 0.00894134771078825 | Accuracy: 100.0%\n",
      " | Epoch 1 | Loss: 0.009577522985637188 | Accuracy: 100.0%\n",
      " | Epoch 1 | Loss: 0.007198157254606485 | Accuracy: 100.0%\n",
      " | Epoch 1 | Loss: 0.008986078202724457 | Accuracy: 100.0%\n",
      " | Epoch 1 | Loss: 0.007413550745695829 | Accuracy: 100.0%\n",
      " | Epoch 1 | Loss: 0.007749651558697224 | Accuracy: 100.0%\n",
      " | Epoch 1 | Loss: 0.008960726670920849 | Accuracy: 100.0%\n",
      " | Epoch 1 | Loss: 0.008021348156034946 | Accuracy: 100.0%\n",
      " | Epoch 1 | Loss: 0.007304537575691938 | Accuracy: 100.0%\n",
      " | Epoch 1 | Loss: 0.007475023623555899 | Accuracy: 100.0%\n",
      " | Epoch 1 | Loss: 0.39574894309043884 | Accuracy: 96.875%\n",
      " | Epoch 1 | Loss: 0.007619176525622606 | Accuracy: 100.0%\n",
      " | Epoch 1 | Loss: 0.007604384794831276 | Accuracy: 100.0%\n",
      " | Epoch 1 | Loss: 0.008111393079161644 | Accuracy: 100.0%\n",
      " | Epoch 1 | Loss: 0.008520792238414288 | Accuracy: 100.0%\n",
      " | Epoch 1 | Loss: 0.009276600554585457 | Accuracy: 100.0%\n",
      " | Epoch 1 | Loss: 0.008160226978361607 | Accuracy: 100.0%\n",
      " | Epoch 1 | Loss: 0.007119030226022005 | Accuracy: 100.0%\n",
      " | Epoch 1 | Loss: 0.0070576113648712635 | Accuracy: 100.0%\n",
      " | Epoch 1 | Loss: 0.008043838664889336 | Accuracy: 100.0%\n",
      " | Epoch 1 | Loss: 0.009042073972523212 | Accuracy: 100.0%\n",
      " | Epoch 1 | Loss: 0.007116340100765228 | Accuracy: 100.0%\n",
      " | Epoch 1 | Loss: 0.007198372855782509 | Accuracy: 100.0%\n",
      " | Epoch 1 | Loss: 0.007809833623468876 | Accuracy: 100.0%\n",
      " | Epoch 1 | Loss: 0.0072708227671682835 | Accuracy: 100.0%\n",
      " | Epoch 1 | Loss: 0.5251384973526001 | Accuracy: 93.75%\n",
      " | Epoch 1 | Loss: 0.006959501188248396 | Accuracy: 100.0%\n",
      " | Epoch 1 | Loss: 0.008676087483763695 | Accuracy: 100.0%\n",
      " | Epoch 1 | Loss: 0.013284971937537193 | Accuracy: 100.0%\n",
      " | Epoch 1 | Loss: 0.006925761234015226 | Accuracy: 100.0%\n",
      " | Epoch 1 | Loss: 0.007524936925619841 | Accuracy: 100.0%\n",
      " | Epoch 1 | Loss: 0.0074333022348582745 | Accuracy: 100.0%\n",
      " | Epoch 1 | Loss: 0.007881009951233864 | Accuracy: 100.0%\n"
     ]
    },
    {
     "name": "stderr",
     "output_type": "stream",
     "text": [
      "Epoch 1:  52%|███████████████▏             | 784/1501 [00:02<00:01, 365.39batch/s, accuracy=100.0%, loss=0.0105]"
     ]
    },
    {
     "name": "stdout",
     "output_type": "stream",
     "text": [
      " | Epoch 1 | Loss: 0.0067589920945465565 | Accuracy: 100.0%\n",
      " | Epoch 1 | Loss: 0.007017076481133699 | Accuracy: 100.0%\n",
      " | Epoch 1 | Loss: 0.3263467848300934 | Accuracy: 96.875%\n",
      " | Epoch 1 | Loss: 0.0066753048449754715 | Accuracy: 100.0%\n",
      " | Epoch 1 | Loss: 0.010264118202030659 | Accuracy: 100.0%\n",
      " | Epoch 1 | Loss: 0.00835599284619093 | Accuracy: 100.0%\n",
      " | Epoch 1 | Loss: 0.17588354647159576 | Accuracy: 96.875%\n",
      " | Epoch 1 | Loss: 0.007150209508836269 | Accuracy: 100.0%\n",
      " | Epoch 1 | Loss: 0.007197354920208454 | Accuracy: 100.0%\n",
      " | Epoch 1 | Loss: 0.3195558190345764 | Accuracy: 96.875%\n",
      " | Epoch 1 | Loss: 0.00826082844287157 | Accuracy: 100.0%\n",
      " | Epoch 1 | Loss: 0.00844994280487299 | Accuracy: 100.0%\n",
      " | Epoch 1 | Loss: 0.3143960237503052 | Accuracy: 96.875%\n",
      " | Epoch 1 | Loss: 0.010537696070969105 | Accuracy: 100.0%\n",
      " | Epoch 1 | Loss: 0.18616268038749695 | Accuracy: 96.875%\n",
      " | Epoch 1 | Loss: 0.009261073544621468 | Accuracy: 100.0%\n",
      " | Epoch 1 | Loss: 0.011192304082214832 | Accuracy: 100.0%\n",
      " | Epoch 1 | Loss: 0.1830076426267624 | Accuracy: 96.875%\n",
      " | Epoch 1 | Loss: 0.33834129571914673 | Accuracy: 93.75%\n",
      " | Epoch 1 | Loss: 0.15536202490329742 | Accuracy: 96.875%\n",
      " | Epoch 1 | Loss: 0.010974647477269173 | Accuracy: 100.0%\n",
      " | Epoch 1 | Loss: 0.3718607723712921 | Accuracy: 96.875%\n",
      " | Epoch 1 | Loss: 0.01305091567337513 | Accuracy: 100.0%\n",
      " | Epoch 1 | Loss: 0.012749193236231804 | Accuracy: 100.0%\n",
      " | Epoch 1 | Loss: 0.013031193055212498 | Accuracy: 100.0%\n",
      " | Epoch 1 | Loss: 0.19254206120967865 | Accuracy: 96.875%\n",
      " | Epoch 1 | Loss: 0.015696505084633827 | Accuracy: 100.0%\n",
      " | Epoch 1 | Loss: 0.012699180282652378 | Accuracy: 100.0%\n",
      " | Epoch 1 | Loss: 0.013697833754122257 | Accuracy: 100.0%\n",
      " | Epoch 1 | Loss: 0.013508809730410576 | Accuracy: 100.0%\n",
      " | Epoch 1 | Loss: 0.013839946128427982 | Accuracy: 100.0%\n",
      " | Epoch 1 | Loss: 0.012679196894168854 | Accuracy: 100.0%\n",
      " | Epoch 1 | Loss: 0.012267095036804676 | Accuracy: 100.0%\n",
      " | Epoch 1 | Loss: 0.01243004109710455 | Accuracy: 100.0%\n",
      " | Epoch 1 | Loss: 0.012647341936826706 | Accuracy: 100.0%\n",
      " | Epoch 1 | Loss: 0.011641806922852993 | Accuracy: 100.0%\n",
      " | Epoch 1 | Loss: 0.013080894015729427 | Accuracy: 100.0%\n",
      " | Epoch 1 | Loss: 0.010174978524446487 | Accuracy: 100.0%\n",
      " | Epoch 1 | Loss: 0.010353279300034046 | Accuracy: 100.0%\n",
      " | Epoch 1 | Loss: 0.009767284616827965 | Accuracy: 100.0%\n",
      " | Epoch 1 | Loss: 0.1713973879814148 | Accuracy: 96.875%\n",
      " | Epoch 1 | Loss: 0.010704071260988712 | Accuracy: 100.0%\n",
      " | Epoch 1 | Loss: 0.008960402570664883 | Accuracy: 100.0%\n",
      " | Epoch 1 | Loss: 0.011155647225677967 | Accuracy: 100.0%\n",
      " | Epoch 1 | Loss: 0.010068739764392376 | Accuracy: 100.0%\n",
      " | Epoch 1 | Loss: 0.008764331229031086 | Accuracy: 100.0%\n",
      " | Epoch 1 | Loss: 0.013113214634358883 | Accuracy: 100.0%\n",
      " | Epoch 1 | Loss: 0.010255872271955013 | Accuracy: 100.0%\n",
      " | Epoch 1 | Loss: 0.008421043865382671 | Accuracy: 100.0%\n",
      " | Epoch 1 | Loss: 0.012754363939166069 | Accuracy: 100.0%\n",
      " | Epoch 1 | Loss: 0.010493719950318336 | Accuracy: 100.0%\n",
      " | Epoch 1 | Loss: 0.008273126557469368 | Accuracy: 100.0%\n",
      " | Epoch 1 | Loss: 0.010521524585783482 | Accuracy: 100.0%\n"
     ]
    },
    {
     "name": "stderr",
     "output_type": "stream",
     "text": [
      "Epoch 1:  55%|███████████████▉             | 822/1501 [00:02<00:02, 283.25batch/s, accuracy=96.875%, loss=0.248]"
     ]
    },
    {
     "name": "stdout",
     "output_type": "stream",
     "text": [
      " | Epoch 1 | Loss: 0.0084252143278718 | Accuracy: 100.0%\n",
      " | Epoch 1 | Loss: 0.18891999125480652 | Accuracy: 96.875%\n",
      " | Epoch 1 | Loss: 0.009130296297371387 | Accuracy: 100.0%\n",
      " | Epoch 1 | Loss: 0.00938122533261776 | Accuracy: 100.0%\n",
      " | Epoch 1 | Loss: 0.3351827561855316 | Accuracy: 96.875%\n",
      " | Epoch 1 | Loss: 0.009860919788479805 | Accuracy: 100.0%\n",
      " | Epoch 1 | Loss: 0.00901712104678154 | Accuracy: 100.0%\n",
      " | Epoch 1 | Loss: 0.008389036171138287 | Accuracy: 100.0%\n",
      " | Epoch 1 | Loss: 0.010022072121500969 | Accuracy: 100.0%\n",
      " | Epoch 1 | Loss: 0.009921646676957607 | Accuracy: 100.0%\n",
      " | Epoch 1 | Loss: 0.01185357104986906 | Accuracy: 100.0%\n",
      " | Epoch 1 | Loss: 0.009083251468837261 | Accuracy: 100.0%\n",
      " | Epoch 1 | Loss: 0.011619912460446358 | Accuracy: 100.0%\n",
      " | Epoch 1 | Loss: 0.008815358392894268 | Accuracy: 100.0%\n",
      " | Epoch 1 | Loss: 0.32865992188453674 | Accuracy: 96.875%\n",
      " | Epoch 1 | Loss: 0.009951035492122173 | Accuracy: 100.0%\n",
      " | Epoch 1 | Loss: 0.008153473027050495 | Accuracy: 100.0%\n",
      " | Epoch 1 | Loss: 0.008498923853039742 | Accuracy: 100.0%\n",
      " | Epoch 1 | Loss: 0.00863127876073122 | Accuracy: 100.0%\n",
      " | Epoch 1 | Loss: 0.008998561650514603 | Accuracy: 100.0%\n",
      " | Epoch 1 | Loss: 0.009529585018754005 | Accuracy: 100.0%\n",
      " | Epoch 1 | Loss: 0.009831164963543415 | Accuracy: 100.0%\n",
      " | Epoch 1 | Loss: 0.008274453692138195 | Accuracy: 100.0%\n",
      " | Epoch 1 | Loss: 0.009183204732835293 | Accuracy: 100.0%\n",
      " | Epoch 1 | Loss: 0.011170386336743832 | Accuracy: 100.0%\n",
      " | Epoch 1 | Loss: 0.010558562353253365 | Accuracy: 100.0%\n",
      " | Epoch 1 | Loss: 0.008593963459134102 | Accuracy: 100.0%\n",
      " | Epoch 1 | Loss: 0.011103745549917221 | Accuracy: 100.0%\n",
      " | Epoch 1 | Loss: 0.008942068554461002 | Accuracy: 100.0%\n",
      " | Epoch 1 | Loss: 0.009055736474692822 | Accuracy: 100.0%\n",
      " | Epoch 1 | Loss: 0.008203311823308468 | Accuracy: 100.0%\n",
      " | Epoch 1 | Loss: 0.17892256379127502 | Accuracy: 96.875%\n",
      " | Epoch 1 | Loss: 0.2828971743583679 | Accuracy: 96.875%\n",
      " | Epoch 1 | Loss: 0.00813936349004507 | Accuracy: 100.0%\n",
      " | Epoch 1 | Loss: 0.009465222246944904 | Accuracy: 100.0%\n",
      " | Epoch 1 | Loss: 0.007612952496856451 | Accuracy: 100.0%\n",
      " | Epoch 1 | Loss: 0.010965882800519466 | Accuracy: 100.0%\n",
      " | Epoch 1 | Loss: 0.008921486325562 | Accuracy: 100.0%\n",
      " | Epoch 1 | Loss: 0.009004711173474789 | Accuracy: 100.0%\n",
      " | Epoch 1 | Loss: 0.007717316038906574 | Accuracy: 100.0%\n",
      " | Epoch 1 | Loss: 0.00798887386918068 | Accuracy: 100.0%\n",
      " | Epoch 1 | Loss: 0.007737390697002411 | Accuracy: 100.0%\n",
      " | Epoch 1 | Loss: 0.008313066326081753 | Accuracy: 100.0%\n",
      " | Epoch 1 | Loss: 0.17944437265396118 | Accuracy: 96.875%\n",
      " | Epoch 1 | Loss: 0.48173877596855164 | Accuracy: 93.75%\n",
      " | Epoch 1 | Loss: 0.009514886885881424 | Accuracy: 100.0%\n",
      " | Epoch 1 | Loss: 0.008675768971443176 | Accuracy: 100.0%\n",
      " | Epoch 1 | Loss: 0.008907463401556015 | Accuracy: 100.0%\n",
      " | Epoch 1 | Loss: 0.008927520364522934 | Accuracy: 100.0%\n",
      " | Epoch 1 | Loss: 0.00992560014128685 | Accuracy: 100.0%\n",
      " | Epoch 1 | Loss: 0.009419026784598827 | Accuracy: 100.0%\n",
      " | Epoch 1 | Loss: 0.009250286035239697 | Accuracy: 100.0%\n",
      " | Epoch 1 | Loss: 0.007659933064132929 | Accuracy: 100.0%\n",
      " | Epoch 1 | Loss: 0.008194482885301113 | Accuracy: 100.0%\n",
      " | Epoch 1 | Loss: 0.24836280941963196 | Accuracy: 96.875%\n"
     ]
    },
    {
     "name": "stderr",
     "output_type": "stream",
     "text": [
      "Epoch 1:  62%|█████████████████▊           | 924/1501 [00:02<00:01, 380.15batch/s, accuracy=100.0%, loss=0.0104]"
     ]
    },
    {
     "name": "stdout",
     "output_type": "stream",
     "text": [
      " | Epoch 1 | Loss: 0.20601758360862732 | Accuracy: 96.875%\n",
      " | Epoch 1 | Loss: 0.008413429372012615 | Accuracy: 100.0%\n",
      " | Epoch 1 | Loss: 0.009222030639648438 | Accuracy: 100.0%\n",
      " | Epoch 1 | Loss: 0.19188271462917328 | Accuracy: 96.875%\n",
      " | Epoch 1 | Loss: 0.008709263987839222 | Accuracy: 100.0%\n",
      " | Epoch 1 | Loss: 0.009226599708199501 | Accuracy: 100.0%\n",
      " | Epoch 1 | Loss: 0.011148431338369846 | Accuracy: 100.0%\n",
      " | Epoch 1 | Loss: 0.008933945558965206 | Accuracy: 100.0%\n",
      " | Epoch 1 | Loss: 0.0097777359187603 | Accuracy: 100.0%\n",
      " | Epoch 1 | Loss: 0.008648989722132683 | Accuracy: 100.0%\n",
      " | Epoch 1 | Loss: 0.31588083505630493 | Accuracy: 96.875%\n",
      " | Epoch 1 | Loss: 0.009680568240582943 | Accuracy: 100.0%\n",
      " | Epoch 1 | Loss: 0.009637625887989998 | Accuracy: 100.0%\n",
      " | Epoch 1 | Loss: 0.20500405132770538 | Accuracy: 96.875%\n",
      " | Epoch 1 | Loss: 0.011543234810233116 | Accuracy: 100.0%\n",
      " | Epoch 1 | Loss: 0.011032176204025745 | Accuracy: 100.0%\n",
      " | Epoch 1 | Loss: 0.00860978290438652 | Accuracy: 100.0%\n",
      " | Epoch 1 | Loss: 0.30320271849632263 | Accuracy: 96.875%\n",
      " | Epoch 1 | Loss: 0.008947835303843021 | Accuracy: 100.0%\n",
      " | Epoch 1 | Loss: 0.19064748287200928 | Accuracy: 96.875%\n",
      " | Epoch 1 | Loss: 0.29192376136779785 | Accuracy: 96.875%\n",
      " | Epoch 1 | Loss: 0.011844625696539879 | Accuracy: 100.0%\n",
      " | Epoch 1 | Loss: 0.010910828597843647 | Accuracy: 100.0%\n",
      " | Epoch 1 | Loss: 0.3285071551799774 | Accuracy: 93.75%\n",
      " | Epoch 1 | Loss: 0.010029423050582409 | Accuracy: 100.0%\n",
      " | Epoch 1 | Loss: 0.010422439314424992 | Accuracy: 100.0%\n",
      " | Epoch 1 | Loss: 0.014679325744509697 | Accuracy: 100.0%\n",
      " | Epoch 1 | Loss: 0.2694755494594574 | Accuracy: 96.875%\n",
      " | Epoch 1 | Loss: 0.011373194865882397 | Accuracy: 100.0%\n",
      " | Epoch 1 | Loss: 0.18788936734199524 | Accuracy: 96.875%\n",
      " | Epoch 1 | Loss: 0.014906739816069603 | Accuracy: 100.0%\n",
      " | Epoch 1 | Loss: 0.014215311966836452 | Accuracy: 100.0%\n",
      " | Epoch 1 | Loss: 0.01223164051771164 | Accuracy: 100.0%\n",
      " | Epoch 1 | Loss: 0.15821021795272827 | Accuracy: 96.875%\n",
      " | Epoch 1 | Loss: 0.013881743885576725 | Accuracy: 100.0%\n",
      " | Epoch 1 | Loss: 0.35354921221733093 | Accuracy: 96.875%\n",
      " | Epoch 1 | Loss: 0.01694159023463726 | Accuracy: 100.0%\n",
      " | Epoch 1 | Loss: 0.017857393249869347 | Accuracy: 100.0%\n",
      " | Epoch 1 | Loss: 0.01604284532368183 | Accuracy: 100.0%\n",
      " | Epoch 1 | Loss: 0.014920287765562534 | Accuracy: 100.0%\n",
      " | Epoch 1 | Loss: 0.012470432557165623 | Accuracy: 100.0%\n",
      " | Epoch 1 | Loss: 0.16963891685009003 | Accuracy: 96.875%\n",
      " | Epoch 1 | Loss: 0.011083281598985195 | Accuracy: 100.0%\n",
      " | Epoch 1 | Loss: 0.013403171673417091 | Accuracy: 100.0%\n",
      " | Epoch 1 | Loss: 0.013867411762475967 | Accuracy: 100.0%\n",
      " | Epoch 1 | Loss: 0.012735246680676937 | Accuracy: 100.0%\n",
      " | Epoch 1 | Loss: 0.011501151137053967 | Accuracy: 100.0%\n",
      " | Epoch 1 | Loss: 0.012997030280530453 | Accuracy: 100.0%\n",
      " | Epoch 1 | Loss: 0.01159554161131382 | Accuracy: 100.0%\n",
      " | Epoch 1 | Loss: 0.18443483114242554 | Accuracy: 96.875%\n",
      " | Epoch 1 | Loss: 0.1933729499578476 | Accuracy: 96.875%\n",
      " | Epoch 1 | Loss: 0.013672281987965107 | Accuracy: 100.0%\n",
      " | Epoch 1 | Loss: 0.01347651518881321 | Accuracy: 100.0%\n",
      " | Epoch 1 | Loss: 0.01608278416097164 | Accuracy: 100.0%\n",
      " | Epoch 1 | Loss: 0.011951612308621407 | Accuracy: 100.0%\n",
      " | Epoch 1 | Loss: 0.013067919760942459 | Accuracy: 100.0%\n",
      " | Epoch 1 | Loss: 0.013054776936769485 | Accuracy: 100.0%\n",
      " | Epoch 1 | Loss: 0.013949102722108364 | Accuracy: 100.0%\n",
      " | Epoch 1 | Loss: 0.011955822817981243 | Accuracy: 100.0%\n",
      " | Epoch 1 | Loss: 0.012897918000817299 | Accuracy: 100.0%\n",
      " | Epoch 1 | Loss: 0.01342804916203022 | Accuracy: 100.0%\n",
      " | Epoch 1 | Loss: 0.01407469529658556 | Accuracy: 100.0%\n",
      " | Epoch 1 | Loss: 0.011177388951182365 | Accuracy: 100.0%\n",
      " | Epoch 1 | Loss: 0.01136140339076519 | Accuracy: 100.0%\n",
      " | Epoch 1 | Loss: 0.011250192299485207 | Accuracy: 100.0%\n",
      " | Epoch 1 | Loss: 0.01092994213104248 | Accuracy: 100.0%\n",
      " | Epoch 1 | Loss: 0.012207934632897377 | Accuracy: 100.0%\n",
      " | Epoch 1 | Loss: 0.011234166100621223 | Accuracy: 100.0%\n",
      " | Epoch 1 | Loss: 0.010670153424143791 | Accuracy: 100.0%\n",
      " | Epoch 1 | Loss: 0.010920452885329723 | Accuracy: 100.0%\n",
      " | Epoch 1 | Loss: 0.010807275772094727 | Accuracy: 100.0%\n",
      " | Epoch 1 | Loss: 0.00967174768447876 | Accuracy: 100.0%\n",
      " | Epoch 1 | Loss: 0.010654852725565434 | Accuracy: 100.0%\n",
      " | Epoch 1 | Loss: 0.01142891775816679 | Accuracy: 100.0%\n",
      " | Epoch 1 | Loss: 0.010174433700740337 | Accuracy: 100.0%\n",
      " | Epoch 1 | Loss: 0.008427622728049755 | Accuracy: 100.0%\n",
      " | Epoch 1 | Loss: 0.009091626852750778 | Accuracy: 100.0%\n",
      " | Epoch 1 | Loss: 0.009044956415891647 | Accuracy: 100.0%\n",
      " | Epoch 1 | Loss: 0.008211581967771053 | Accuracy: 100.0%\n",
      " | Epoch 1 | Loss: 0.009828269481658936 | Accuracy: 100.0%\n",
      " | Epoch 1 | Loss: 0.009067842736840248 | Accuracy: 100.0%\n",
      " | Epoch 1 | Loss: 0.007909715175628662 | Accuracy: 100.0%\n",
      " | Epoch 1 | Loss: 0.00845064502209425 | Accuracy: 100.0%\n",
      " | Epoch 1 | Loss: 0.009211400523781776 | Accuracy: 100.0%\n",
      " | Epoch 1 | Loss: 0.25603747367858887 | Accuracy: 96.875%\n",
      " | Epoch 1 | Loss: 0.008360883221030235 | Accuracy: 100.0%\n",
      " | Epoch 1 | Loss: 0.008552651852369308 | Accuracy: 100.0%\n",
      " | Epoch 1 | Loss: 0.010225147008895874 | Accuracy: 100.0%\n",
      " | Epoch 1 | Loss: 0.008291061967611313 | Accuracy: 100.0%\n",
      " | Epoch 1 | Loss: 0.47820574045181274 | Accuracy: 93.75%\n",
      " | Epoch 1 | Loss: 0.009446287527680397 | Accuracy: 100.0%\n",
      " | Epoch 1 | Loss: 0.0100138820707798 | Accuracy: 100.0%\n",
      " | Epoch 1 | Loss: 0.009324622340500355 | Accuracy: 100.0%\n",
      " | Epoch 1 | Loss: 0.0089187640696764 | Accuracy: 100.0%\n",
      " | Epoch 1 | Loss: 0.009266983717679977 | Accuracy: 100.0%\n",
      " | Epoch 1 | Loss: 0.009448214434087276 | Accuracy: 100.0%\n",
      " | Epoch 1 | Loss: 0.2432980090379715 | Accuracy: 96.875%\n",
      " | Epoch 1 | Loss: 0.1845807582139969 | Accuracy: 96.875%\n",
      " | Epoch 1 | Loss: 0.008574803359806538 | Accuracy: 100.0%\n",
      " | Epoch 1 | Loss: 0.007862529717385769 | Accuracy: 100.0%\n",
      " | Epoch 1 | Loss: 0.00891244225203991 | Accuracy: 100.0%\n",
      " | Epoch 1 | Loss: 0.010429837740957737 | Accuracy: 100.0%\n"
     ]
    },
    {
     "name": "stderr",
     "output_type": "stream",
     "text": [
      "Epoch 1:  68%|███████████████████         | 1022/1501 [00:02<00:01, 430.02batch/s, accuracy=100.0%, loss=0.0108]"
     ]
    },
    {
     "name": "stdout",
     "output_type": "stream",
     "text": [
      " | Epoch 1 | Loss: 0.008419999852776527 | Accuracy: 100.0%\n",
      " | Epoch 1 | Loss: 0.008913208730518818 | Accuracy: 100.0%\n",
      " | Epoch 1 | Loss: 0.010198072530329227 | Accuracy: 100.0%\n",
      " | Epoch 1 | Loss: 0.19696654379367828 | Accuracy: 96.875%\n",
      " | Epoch 1 | Loss: 0.009433042258024216 | Accuracy: 100.0%\n",
      " | Epoch 1 | Loss: 0.009910203516483307 | Accuracy: 100.0%\n",
      " | Epoch 1 | Loss: 0.01012219674885273 | Accuracy: 100.0%\n",
      " | Epoch 1 | Loss: 0.009196694940328598 | Accuracy: 100.0%\n",
      " | Epoch 1 | Loss: 0.010477240197360516 | Accuracy: 100.0%\n",
      " | Epoch 1 | Loss: 0.009503183886408806 | Accuracy: 100.0%\n",
      " | Epoch 1 | Loss: 0.26865479350090027 | Accuracy: 96.875%\n",
      " | Epoch 1 | Loss: 0.0102086765691638 | Accuracy: 100.0%\n",
      " | Epoch 1 | Loss: 0.00906016118824482 | Accuracy: 100.0%\n",
      " | Epoch 1 | Loss: 0.01007278822362423 | Accuracy: 100.0%\n",
      " | Epoch 1 | Loss: 0.008403373882174492 | Accuracy: 100.0%\n",
      " | Epoch 1 | Loss: 0.009969760663807392 | Accuracy: 100.0%\n",
      " | Epoch 1 | Loss: 0.00959985051304102 | Accuracy: 100.0%\n",
      " | Epoch 1 | Loss: 0.01037729624658823 | Accuracy: 100.0%\n",
      " | Epoch 1 | Loss: 0.009485152550041676 | Accuracy: 100.0%\n",
      " | Epoch 1 | Loss: 0.011973702348768711 | Accuracy: 100.0%\n",
      " | Epoch 1 | Loss: 0.010359220206737518 | Accuracy: 100.0%\n",
      " | Epoch 1 | Loss: 0.2792900800704956 | Accuracy: 96.875%\n",
      " | Epoch 1 | Loss: 0.008475388400256634 | Accuracy: 100.0%\n",
      " | Epoch 1 | Loss: 0.009836150333285332 | Accuracy: 100.0%\n",
      " | Epoch 1 | Loss: 0.009172548539936543 | Accuracy: 100.0%\n",
      " | Epoch 1 | Loss: 0.011041548103094101 | Accuracy: 100.0%\n",
      " | Epoch 1 | Loss: 0.008551137521862984 | Accuracy: 100.0%\n",
      " | Epoch 1 | Loss: 0.010401349514722824 | Accuracy: 100.0%\n",
      " | Epoch 1 | Loss: 0.008388908579945564 | Accuracy: 100.0%\n",
      " | Epoch 1 | Loss: 0.010597214102745056 | Accuracy: 100.0%\n",
      " | Epoch 1 | Loss: 0.010628529824316502 | Accuracy: 100.0%\n",
      " | Epoch 1 | Loss: 0.008843738585710526 | Accuracy: 100.0%\n",
      " | Epoch 1 | Loss: 0.010441846214234829 | Accuracy: 100.0%\n",
      " | Epoch 1 | Loss: 0.009439188055694103 | Accuracy: 100.0%\n",
      " | Epoch 1 | Loss: 0.36048734188079834 | Accuracy: 93.75%\n",
      " | Epoch 1 | Loss: 0.19029539823532104 | Accuracy: 96.875%\n",
      " | Epoch 1 | Loss: 0.009673088788986206 | Accuracy: 100.0%\n",
      " | Epoch 1 | Loss: 0.009300551377236843 | Accuracy: 100.0%\n",
      " | Epoch 1 | Loss: 0.2688658535480499 | Accuracy: 96.875%\n",
      " | Epoch 1 | Loss: 0.01016151811927557 | Accuracy: 100.0%\n",
      " | Epoch 1 | Loss: 0.009617514908313751 | Accuracy: 100.0%\n",
      " | Epoch 1 | Loss: 0.010007422417402267 | Accuracy: 100.0%\n",
      " | Epoch 1 | Loss: 0.1725095510482788 | Accuracy: 96.875%\n",
      " | Epoch 1 | Loss: 0.009939458221197128 | Accuracy: 100.0%\n",
      " | Epoch 1 | Loss: 0.009856498800218105 | Accuracy: 100.0%\n",
      " | Epoch 1 | Loss: 0.009973613545298576 | Accuracy: 100.0%\n",
      " | Epoch 1 | Loss: 0.2768544852733612 | Accuracy: 96.875%\n",
      " | Epoch 1 | Loss: 0.012059390544891357 | Accuracy: 100.0%\n",
      " | Epoch 1 | Loss: 0.012110843323171139 | Accuracy: 100.0%\n",
      " | Epoch 1 | Loss: 0.01043015718460083 | Accuracy: 100.0%\n",
      " | Epoch 1 | Loss: 0.01153755933046341 | Accuracy: 100.0%\n",
      " | Epoch 1 | Loss: 0.011015129275619984 | Accuracy: 100.0%\n",
      " | Epoch 1 | Loss: 0.20062683522701263 | Accuracy: 96.875%\n",
      " | Epoch 1 | Loss: 0.011802333407104015 | Accuracy: 100.0%\n",
      " | Epoch 1 | Loss: 0.009025344625115395 | Accuracy: 100.0%\n",
      " | Epoch 1 | Loss: 0.009744292125105858 | Accuracy: 100.0%\n",
      " | Epoch 1 | Loss: 0.2003851681947708 | Accuracy: 96.875%\n",
      " | Epoch 1 | Loss: 0.010144292376935482 | Accuracy: 100.0%\n",
      " | Epoch 1 | Loss: 0.010396844707429409 | Accuracy: 100.0%\n",
      " | Epoch 1 | Loss: 0.011343786492943764 | Accuracy: 100.0%\n",
      " | Epoch 1 | Loss: 0.009852282702922821 | Accuracy: 100.0%\n",
      " | Epoch 1 | Loss: 0.3432784378528595 | Accuracy: 96.875%\n",
      " | Epoch 1 | Loss: 0.24607686698436737 | Accuracy: 96.875%\n",
      " | Epoch 1 | Loss: 0.009179649874567986 | Accuracy: 100.0%\n",
      " | Epoch 1 | Loss: 0.010661116801202297 | Accuracy: 100.0%\n",
      " | Epoch 1 | Loss: 0.008691317401826382 | Accuracy: 100.0%\n",
      " | Epoch 1 | Loss: 0.010040459223091602 | Accuracy: 100.0%\n",
      " | Epoch 1 | Loss: 0.008355196565389633 | Accuracy: 100.0%\n",
      " | Epoch 1 | Loss: 0.009350947104394436 | Accuracy: 100.0%\n",
      " | Epoch 1 | Loss: 0.008667646907269955 | Accuracy: 100.0%\n",
      " | Epoch 1 | Loss: 0.00949252862483263 | Accuracy: 100.0%\n",
      " | Epoch 1 | Loss: 0.010990985669195652 | Accuracy: 100.0%\n",
      " | Epoch 1 | Loss: 0.00942811369895935 | Accuracy: 100.0%\n",
      " | Epoch 1 | Loss: 0.010559817776083946 | Accuracy: 100.0%\n",
      " | Epoch 1 | Loss: 0.010722738690674305 | Accuracy: 100.0%\n",
      " | Epoch 1 | Loss: 0.010124234482645988 | Accuracy: 100.0%\n",
      " | Epoch 1 | Loss: 0.009958785958588123 | Accuracy: 100.0%\n",
      " | Epoch 1 | Loss: 0.009110049344599247 | Accuracy: 100.0%\n",
      " | Epoch 1 | Loss: 0.009282739832997322 | Accuracy: 100.0%\n",
      " | Epoch 1 | Loss: 0.1582244634628296 | Accuracy: 96.875%\n",
      " | Epoch 1 | Loss: 0.25198110938072205 | Accuracy: 96.875%\n",
      " | Epoch 1 | Loss: 0.01003165915608406 | Accuracy: 100.0%\n",
      " | Epoch 1 | Loss: 0.010608016513288021 | Accuracy: 100.0%\n",
      " | Epoch 1 | Loss: 0.01042681373655796 | Accuracy: 100.0%\n",
      " | Epoch 1 | Loss: 0.009321508929133415 | Accuracy: 100.0%\n",
      " | Epoch 1 | Loss: 0.011857687495648861 | Accuracy: 100.0%\n",
      " | Epoch 1 | Loss: 0.012113859876990318 | Accuracy: 100.0%\n",
      " | Epoch 1 | Loss: 0.009760258719325066 | Accuracy: 100.0%\n",
      " | Epoch 1 | Loss: 0.008791797794401646 | Accuracy: 100.0%\n",
      " | Epoch 1 | Loss: 0.17617040872573853 | Accuracy: 96.875%\n",
      " | Epoch 1 | Loss: 0.010771497152745724 | Accuracy: 100.0%\n",
      " | Epoch 1 | Loss: 0.012669817544519901 | Accuracy: 100.0%\n",
      " | Epoch 1 | Loss: 0.009624454192817211 | Accuracy: 100.0%\n",
      " | Epoch 1 | Loss: 0.010654939338564873 | Accuracy: 100.0%\n",
      " | Epoch 1 | Loss: 0.009705977514386177 | Accuracy: 100.0%\n",
      " | Epoch 1 | Loss: 0.009719427675008774 | Accuracy: 100.0%\n",
      " | Epoch 1 | Loss: 0.009629635140299797 | Accuracy: 100.0%\n",
      " | Epoch 1 | Loss: 0.011292638257145882 | Accuracy: 100.0%\n",
      " | Epoch 1 | Loss: 0.009154632687568665 | Accuracy: 100.0%\n",
      " | Epoch 1 | Loss: 0.008753776550292969 | Accuracy: 100.0%\n",
      " | Epoch 1 | Loss: 0.00956633873283863 | Accuracy: 100.0%\n",
      " | Epoch 1 | Loss: 0.010235871188342571 | Accuracy: 100.0%\n",
      " | Epoch 1 | Loss: 0.010201247408986092 | Accuracy: 100.0%\n",
      " | Epoch 1 | Loss: 0.010648529976606369 | Accuracy: 100.0%\n"
     ]
    },
    {
     "name": "stderr",
     "output_type": "stream",
     "text": [
      "Epoch 1:  74%|████████████████████▊       | 1116/1501 [00:02<00:00, 406.70batch/s, accuracy=100.0%, loss=0.0104]"
     ]
    },
    {
     "name": "stdout",
     "output_type": "stream",
     "text": [
      " | Epoch 1 | Loss: 0.010791772045195103 | Accuracy: 100.0%\n",
      " | Epoch 1 | Loss: 0.009272473864257336 | Accuracy: 100.0%\n",
      " | Epoch 1 | Loss: 0.009280219674110413 | Accuracy: 100.0%\n",
      " | Epoch 1 | Loss: 0.007683777250349522 | Accuracy: 100.0%\n",
      " | Epoch 1 | Loss: 0.0076278457418084145 | Accuracy: 100.0%\n",
      " | Epoch 1 | Loss: 0.008630556985735893 | Accuracy: 100.0%\n",
      " | Epoch 1 | Loss: 0.0084873978048563 | Accuracy: 100.0%\n",
      " | Epoch 1 | Loss: 0.33580178022384644 | Accuracy: 96.875%\n",
      " | Epoch 1 | Loss: 0.008815239183604717 | Accuracy: 100.0%\n",
      " | Epoch 1 | Loss: 0.008750739507377148 | Accuracy: 100.0%\n",
      " | Epoch 1 | Loss: 0.009466242045164108 | Accuracy: 100.0%\n",
      " | Epoch 1 | Loss: 0.010696693323552608 | Accuracy: 100.0%\n",
      " | Epoch 1 | Loss: 0.008478667587041855 | Accuracy: 100.0%\n",
      " | Epoch 1 | Loss: 0.010535099543631077 | Accuracy: 100.0%\n",
      " | Epoch 1 | Loss: 0.00825758557766676 | Accuracy: 100.0%\n",
      " | Epoch 1 | Loss: 0.29774245619773865 | Accuracy: 96.875%\n",
      " | Epoch 1 | Loss: 0.007402484770864248 | Accuracy: 100.0%\n",
      " | Epoch 1 | Loss: 0.008008279837667942 | Accuracy: 100.0%\n",
      " | Epoch 1 | Loss: 0.009027469903230667 | Accuracy: 100.0%\n",
      " | Epoch 1 | Loss: 0.00938349962234497 | Accuracy: 100.0%\n",
      " | Epoch 1 | Loss: 0.007814330980181694 | Accuracy: 100.0%\n",
      " | Epoch 1 | Loss: 0.008271598257124424 | Accuracy: 100.0%\n",
      " | Epoch 1 | Loss: 0.17066417634487152 | Accuracy: 96.875%\n",
      " | Epoch 1 | Loss: 0.008892090991139412 | Accuracy: 100.0%\n",
      " | Epoch 1 | Loss: 0.008288056589663029 | Accuracy: 100.0%\n",
      " | Epoch 1 | Loss: 0.008776407688856125 | Accuracy: 100.0%\n",
      " | Epoch 1 | Loss: 0.01064824964851141 | Accuracy: 100.0%\n",
      " | Epoch 1 | Loss: 0.007458786014467478 | Accuracy: 100.0%\n",
      " | Epoch 1 | Loss: 0.011212681420147419 | Accuracy: 100.0%\n",
      " | Epoch 1 | Loss: 0.010965862311422825 | Accuracy: 100.0%\n",
      " | Epoch 1 | Loss: 0.007980283349752426 | Accuracy: 100.0%\n",
      " | Epoch 1 | Loss: 0.00979383010417223 | Accuracy: 100.0%\n",
      " | Epoch 1 | Loss: 0.008355439640581608 | Accuracy: 100.0%\n",
      " | Epoch 1 | Loss: 0.009496250189840794 | Accuracy: 100.0%\n",
      " | Epoch 1 | Loss: 0.007704234216362238 | Accuracy: 100.0%\n",
      " | Epoch 1 | Loss: 0.007730736397206783 | Accuracy: 100.0%\n",
      " | Epoch 1 | Loss: 0.008323757909238338 | Accuracy: 100.0%\n",
      " | Epoch 1 | Loss: 0.00806441530585289 | Accuracy: 100.0%\n",
      " | Epoch 1 | Loss: 0.008715929463505745 | Accuracy: 100.0%\n",
      " | Epoch 1 | Loss: 0.008356739766895771 | Accuracy: 100.0%\n",
      " | Epoch 1 | Loss: 0.17916402220726013 | Accuracy: 96.875%\n",
      " | Epoch 1 | Loss: 0.007653452921658754 | Accuracy: 100.0%\n",
      " | Epoch 1 | Loss: 0.008810064755380154 | Accuracy: 100.0%\n",
      " | Epoch 1 | Loss: 0.00751794409006834 | Accuracy: 100.0%\n",
      " | Epoch 1 | Loss: 0.007308102212846279 | Accuracy: 100.0%\n",
      " | Epoch 1 | Loss: 0.008903863839805126 | Accuracy: 100.0%\n",
      " | Epoch 1 | Loss: 0.0070063029415905476 | Accuracy: 100.0%\n",
      " | Epoch 1 | Loss: 0.008587573654949665 | Accuracy: 100.0%\n",
      " | Epoch 1 | Loss: 0.00817786529660225 | Accuracy: 100.0%\n",
      " | Epoch 1 | Loss: 0.009009837172925472 | Accuracy: 100.0%\n",
      " | Epoch 1 | Loss: 0.00715230219066143 | Accuracy: 100.0%\n",
      " | Epoch 1 | Loss: 0.006990873720496893 | Accuracy: 100.0%\n",
      " | Epoch 1 | Loss: 0.0081038698554039 | Accuracy: 100.0%\n",
      " | Epoch 1 | Loss: 0.007627629674971104 | Accuracy: 100.0%\n",
      " | Epoch 1 | Loss: 0.23752105236053467 | Accuracy: 96.875%\n",
      " | Epoch 1 | Loss: 0.008022712543606758 | Accuracy: 100.0%\n",
      " | Epoch 1 | Loss: 0.32248926162719727 | Accuracy: 96.875%\n",
      " | Epoch 1 | Loss: 0.007424250710755587 | Accuracy: 100.0%\n",
      " | Epoch 1 | Loss: 0.007744490634649992 | Accuracy: 100.0%\n",
      " | Epoch 1 | Loss: 0.24342747032642365 | Accuracy: 96.875%\n",
      " | Epoch 1 | Loss: 0.17277926206588745 | Accuracy: 96.875%\n",
      " | Epoch 1 | Loss: 0.30815112590789795 | Accuracy: 96.875%\n",
      " | Epoch 1 | Loss: 0.007802620995789766 | Accuracy: 100.0%\n",
      " | Epoch 1 | Loss: 0.17013610899448395 | Accuracy: 96.875%\n",
      " | Epoch 1 | Loss: 0.008611208759248257 | Accuracy: 100.0%\n",
      " | Epoch 1 | Loss: 0.3118571639060974 | Accuracy: 96.875%\n",
      " | Epoch 1 | Loss: 0.008641336113214493 | Accuracy: 100.0%\n",
      " | Epoch 1 | Loss: 0.009299575351178646 | Accuracy: 100.0%\n",
      " | Epoch 1 | Loss: 0.009216048754751682 | Accuracy: 100.0%\n",
      " | Epoch 1 | Loss: 0.28581342101097107 | Accuracy: 96.875%\n",
      " | Epoch 1 | Loss: 0.3150847256183624 | Accuracy: 96.875%\n",
      " | Epoch 1 | Loss: 0.010167652741074562 | Accuracy: 100.0%\n",
      " | Epoch 1 | Loss: 0.009915042668581009 | Accuracy: 100.0%\n"
     ]
    },
    {
     "name": "stderr",
     "output_type": "stream",
     "text": [
      "Epoch 1:  81%|██████████████████████▋     | 1214/1501 [00:03<00:00, 448.33batch/s, accuracy=100.0%, loss=0.0111]"
     ]
    },
    {
     "name": "stdout",
     "output_type": "stream",
     "text": [
      " | Epoch 1 | Loss: 0.01041495706886053 | Accuracy: 100.0%\n",
      " | Epoch 1 | Loss: 0.010155778378248215 | Accuracy: 100.0%\n",
      " | Epoch 1 | Loss: 0.008489241823554039 | Accuracy: 100.0%\n",
      " | Epoch 1 | Loss: 0.010068187490105629 | Accuracy: 100.0%\n",
      " | Epoch 1 | Loss: 0.01250401884317398 | Accuracy: 100.0%\n",
      " | Epoch 1 | Loss: 0.011493592523038387 | Accuracy: 100.0%\n",
      " | Epoch 1 | Loss: 0.010907918214797974 | Accuracy: 100.0%\n",
      " | Epoch 1 | Loss: 0.010876372456550598 | Accuracy: 100.0%\n",
      " | Epoch 1 | Loss: 0.01004679687321186 | Accuracy: 100.0%\n",
      " | Epoch 1 | Loss: 0.011682071723043919 | Accuracy: 100.0%\n",
      " | Epoch 1 | Loss: 0.24072492122650146 | Accuracy: 96.875%\n",
      " | Epoch 1 | Loss: 0.008511058986186981 | Accuracy: 100.0%\n",
      " | Epoch 1 | Loss: 0.011533902958035469 | Accuracy: 100.0%\n",
      " | Epoch 1 | Loss: 0.01021985337138176 | Accuracy: 100.0%\n",
      " | Epoch 1 | Loss: 0.012126489542424679 | Accuracy: 100.0%\n",
      " | Epoch 1 | Loss: 0.010034806095063686 | Accuracy: 100.0%\n",
      " | Epoch 1 | Loss: 0.011573215946555138 | Accuracy: 100.0%\n",
      " | Epoch 1 | Loss: 0.009889943525195122 | Accuracy: 100.0%\n",
      " | Epoch 1 | Loss: 0.010321822948753834 | Accuracy: 100.0%\n",
      " | Epoch 1 | Loss: 0.009244528599083424 | Accuracy: 100.0%\n",
      " | Epoch 1 | Loss: 0.4540238678455353 | Accuracy: 93.75%\n",
      " | Epoch 1 | Loss: 0.01011611707508564 | Accuracy: 100.0%\n",
      " | Epoch 1 | Loss: 0.1937061846256256 | Accuracy: 96.875%\n",
      " | Epoch 1 | Loss: 0.2948904037475586 | Accuracy: 96.875%\n",
      " | Epoch 1 | Loss: 0.30525052547454834 | Accuracy: 96.875%\n",
      " | Epoch 1 | Loss: 0.009056327864527702 | Accuracy: 100.0%\n",
      " | Epoch 1 | Loss: 0.5479536652565002 | Accuracy: 93.75%\n",
      " | Epoch 1 | Loss: 0.01013441663235426 | Accuracy: 100.0%\n",
      " | Epoch 1 | Loss: 0.010798957198858261 | Accuracy: 100.0%\n",
      " | Epoch 1 | Loss: 0.009840641170740128 | Accuracy: 100.0%\n",
      " | Epoch 1 | Loss: 0.01016436517238617 | Accuracy: 100.0%\n",
      " | Epoch 1 | Loss: 0.1980431079864502 | Accuracy: 96.875%\n",
      " | Epoch 1 | Loss: 0.31960850954055786 | Accuracy: 96.875%\n",
      " | Epoch 1 | Loss: 0.011216936632990837 | Accuracy: 100.0%\n",
      " | Epoch 1 | Loss: 0.014211471192538738 | Accuracy: 100.0%\n",
      " | Epoch 1 | Loss: 0.29518404603004456 | Accuracy: 96.875%\n",
      " | Epoch 1 | Loss: 0.011377710849046707 | Accuracy: 100.0%\n",
      " | Epoch 1 | Loss: 0.013597793877124786 | Accuracy: 100.0%\n",
      " | Epoch 1 | Loss: 0.013637724332511425 | Accuracy: 100.0%\n",
      " | Epoch 1 | Loss: 0.012790714390575886 | Accuracy: 100.0%\n",
      " | Epoch 1 | Loss: 0.013121964409947395 | Accuracy: 100.0%\n",
      " | Epoch 1 | Loss: 0.16874518990516663 | Accuracy: 96.875%\n",
      " | Epoch 1 | Loss: 0.019286397844552994 | Accuracy: 100.0%\n",
      " | Epoch 1 | Loss: 0.013138514943420887 | Accuracy: 100.0%\n",
      " | Epoch 1 | Loss: 0.17187358438968658 | Accuracy: 96.875%\n",
      " | Epoch 1 | Loss: 0.012561979703605175 | Accuracy: 100.0%\n",
      " | Epoch 1 | Loss: 0.013063483871519566 | Accuracy: 100.0%\n",
      " | Epoch 1 | Loss: 0.01726755127310753 | Accuracy: 100.0%\n",
      " | Epoch 1 | Loss: 0.014079714193940163 | Accuracy: 100.0%\n",
      " | Epoch 1 | Loss: 0.014953404664993286 | Accuracy: 100.0%\n",
      " | Epoch 1 | Loss: 0.2947523295879364 | Accuracy: 96.875%\n",
      " | Epoch 1 | Loss: 0.012736997567117214 | Accuracy: 100.0%\n",
      " | Epoch 1 | Loss: 0.012903917580842972 | Accuracy: 100.0%\n",
      " | Epoch 1 | Loss: 0.014836648479104042 | Accuracy: 100.0%\n",
      " | Epoch 1 | Loss: 0.013655022718012333 | Accuracy: 100.0%\n",
      " | Epoch 1 | Loss: 0.013170747086405754 | Accuracy: 100.0%\n",
      " | Epoch 1 | Loss: 0.1746497005224228 | Accuracy: 96.875%\n",
      " | Epoch 1 | Loss: 0.013428893871605396 | Accuracy: 100.0%\n",
      " | Epoch 1 | Loss: 0.012152348645031452 | Accuracy: 100.0%\n",
      " | Epoch 1 | Loss: 0.014343855902552605 | Accuracy: 100.0%\n",
      " | Epoch 1 | Loss: 0.013609219342470169 | Accuracy: 100.0%\n",
      " | Epoch 1 | Loss: 0.013447092846035957 | Accuracy: 100.0%\n",
      " | Epoch 1 | Loss: 0.014065743423998356 | Accuracy: 100.0%\n",
      " | Epoch 1 | Loss: 0.013104753568768501 | Accuracy: 100.0%\n",
      " | Epoch 1 | Loss: 0.011746297590434551 | Accuracy: 100.0%\n",
      " | Epoch 1 | Loss: 0.015506249852478504 | Accuracy: 100.0%\n",
      " | Epoch 1 | Loss: 0.011963802389800549 | Accuracy: 100.0%\n",
      " | Epoch 1 | Loss: 0.011422291398048401 | Accuracy: 100.0%\n",
      " | Epoch 1 | Loss: 0.011067774146795273 | Accuracy: 100.0%\n",
      " | Epoch 1 | Loss: 0.011088107712566853 | Accuracy: 100.0%\n",
      " | Epoch 1 | Loss: 0.010759669356048107 | Accuracy: 100.0%\n",
      " | Epoch 1 | Loss: 0.011549619026482105 | Accuracy: 100.0%\n",
      " | Epoch 1 | Loss: 0.010412212461233139 | Accuracy: 100.0%\n",
      " | Epoch 1 | Loss: 0.011123301461338997 | Accuracy: 100.0%\n",
      " | Epoch 1 | Loss: 0.00988383125513792 | Accuracy: 100.0%\n",
      " | Epoch 1 | Loss: 0.01103462465107441 | Accuracy: 100.0%\n",
      " | Epoch 1 | Loss: 0.010671022348105907 | Accuracy: 100.0%\n",
      " | Epoch 1 | Loss: 0.009449351578950882 | Accuracy: 100.0%\n",
      " | Epoch 1 | Loss: 0.17820937931537628 | Accuracy: 96.875%\n",
      " | Epoch 1 | Loss: 0.010813982225954533 | Accuracy: 100.0%\n",
      " | Epoch 1 | Loss: 0.012347322888672352 | Accuracy: 100.0%\n",
      " | Epoch 1 | Loss: 0.010350729338824749 | Accuracy: 100.0%\n",
      " | Epoch 1 | Loss: 0.1661185324192047 | Accuracy: 96.875%\n",
      " | Epoch 1 | Loss: 0.010689760558307171 | Accuracy: 100.0%\n",
      " | Epoch 1 | Loss: 0.010264826938509941 | Accuracy: 100.0%\n",
      " | Epoch 1 | Loss: 0.00899979192763567 | Accuracy: 100.0%\n",
      " | Epoch 1 | Loss: 0.009791912510991096 | Accuracy: 100.0%\n",
      " | Epoch 1 | Loss: 0.010237527079880238 | Accuracy: 100.0%\n",
      " | Epoch 1 | Loss: 0.009129599668085575 | Accuracy: 100.0%\n",
      " | Epoch 1 | Loss: 0.009693878702819347 | Accuracy: 100.0%\n",
      " | Epoch 1 | Loss: 0.009645204991102219 | Accuracy: 100.0%\n",
      " | Epoch 1 | Loss: 0.009554228745400906 | Accuracy: 100.0%\n",
      " | Epoch 1 | Loss: 0.01071968674659729 | Accuracy: 100.0%\n",
      " | Epoch 1 | Loss: 0.011204720474779606 | Accuracy: 100.0%\n",
      " | Epoch 1 | Loss: 0.00943547859787941 | Accuracy: 100.0%\n",
      " | Epoch 1 | Loss: 0.009257523342967033 | Accuracy: 100.0%\n",
      " | Epoch 1 | Loss: 0.009455670602619648 | Accuracy: 100.0%\n",
      " | Epoch 1 | Loss: 0.00993714202195406 | Accuracy: 100.0%\n",
      " | Epoch 1 | Loss: 0.011115988716483116 | Accuracy: 100.0%\n"
     ]
    },
    {
     "name": "stderr",
     "output_type": "stream",
     "text": [
      "Epoch 1:  88%|███████████████████████▋   | 1317/1501 [00:03<00:00, 478.63batch/s, accuracy=100.0%, loss=0.00744]"
     ]
    },
    {
     "name": "stdout",
     "output_type": "stream",
     "text": [
      " | Epoch 1 | Loss: 0.010156700387597084 | Accuracy: 100.0%\n",
      " | Epoch 1 | Loss: 0.011286105960607529 | Accuracy: 100.0%\n",
      " | Epoch 1 | Loss: 0.011584476567804813 | Accuracy: 100.0%\n",
      " | Epoch 1 | Loss: 0.008890558034181595 | Accuracy: 100.0%\n",
      " | Epoch 1 | Loss: 0.008843778632581234 | Accuracy: 100.0%\n",
      " | Epoch 1 | Loss: 0.008900647982954979 | Accuracy: 100.0%\n",
      " | Epoch 1 | Loss: 0.009694144129753113 | Accuracy: 100.0%\n",
      " | Epoch 1 | Loss: 0.20410962402820587 | Accuracy: 96.875%\n",
      " | Epoch 1 | Loss: 0.009142137132585049 | Accuracy: 100.0%\n",
      " | Epoch 1 | Loss: 0.008473495952785015 | Accuracy: 100.0%\n",
      " | Epoch 1 | Loss: 0.007833664305508137 | Accuracy: 100.0%\n",
      " | Epoch 1 | Loss: 0.00990862026810646 | Accuracy: 100.0%\n",
      " | Epoch 1 | Loss: 0.010142993181943893 | Accuracy: 100.0%\n",
      " | Epoch 1 | Loss: 0.008291168138384819 | Accuracy: 100.0%\n",
      " | Epoch 1 | Loss: 0.00797018688172102 | Accuracy: 100.0%\n",
      " | Epoch 1 | Loss: 0.00783685315400362 | Accuracy: 100.0%\n",
      " | Epoch 1 | Loss: 0.007541096303611994 | Accuracy: 100.0%\n",
      " | Epoch 1 | Loss: 0.0078811040148139 | Accuracy: 100.0%\n",
      " | Epoch 1 | Loss: 0.008112654089927673 | Accuracy: 100.0%\n",
      " | Epoch 1 | Loss: 0.009029778651893139 | Accuracy: 100.0%\n",
      " | Epoch 1 | Loss: 0.00884353369474411 | Accuracy: 100.0%\n",
      " | Epoch 1 | Loss: 0.008190907537937164 | Accuracy: 100.0%\n",
      " | Epoch 1 | Loss: 0.008322689682245255 | Accuracy: 100.0%\n",
      " | Epoch 1 | Loss: 0.007665990851819515 | Accuracy: 100.0%\n",
      " | Epoch 1 | Loss: 0.26720866560935974 | Accuracy: 96.875%\n",
      " | Epoch 1 | Loss: 0.007845232263207436 | Accuracy: 100.0%\n",
      " | Epoch 1 | Loss: 0.29672878980636597 | Accuracy: 96.875%\n",
      " | Epoch 1 | Loss: 0.007238802500069141 | Accuracy: 100.0%\n",
      " | Epoch 1 | Loss: 0.007272670045495033 | Accuracy: 100.0%\n",
      " | Epoch 1 | Loss: 0.008103284984827042 | Accuracy: 100.0%\n",
      " | Epoch 1 | Loss: 0.007707059383392334 | Accuracy: 100.0%\n",
      " | Epoch 1 | Loss: 0.00876788329333067 | Accuracy: 100.0%\n",
      " | Epoch 1 | Loss: 0.007626981474459171 | Accuracy: 100.0%\n",
      " | Epoch 1 | Loss: 0.009514594450592995 | Accuracy: 100.0%\n",
      " | Epoch 1 | Loss: 0.01040519867092371 | Accuracy: 100.0%\n",
      " | Epoch 1 | Loss: 0.007277287542819977 | Accuracy: 100.0%\n",
      " | Epoch 1 | Loss: 0.007274267729371786 | Accuracy: 100.0%\n",
      " | Epoch 1 | Loss: 0.008257769048213959 | Accuracy: 100.0%\n",
      " | Epoch 1 | Loss: 0.2933076024055481 | Accuracy: 96.875%\n",
      " | Epoch 1 | Loss: 0.009078260511159897 | Accuracy: 100.0%\n",
      " | Epoch 1 | Loss: 0.00809728167951107 | Accuracy: 100.0%\n",
      " | Epoch 1 | Loss: 0.007624872960150242 | Accuracy: 100.0%\n",
      " | Epoch 1 | Loss: 0.008122146129608154 | Accuracy: 100.0%\n",
      " | Epoch 1 | Loss: 0.007011936046183109 | Accuracy: 100.0%\n",
      " | Epoch 1 | Loss: 0.007947986014187336 | Accuracy: 100.0%\n",
      " | Epoch 1 | Loss: 0.007923996075987816 | Accuracy: 100.0%\n",
      " | Epoch 1 | Loss: 0.006999861914664507 | Accuracy: 100.0%\n",
      " | Epoch 1 | Loss: 0.007974074222147465 | Accuracy: 100.0%\n",
      " | Epoch 1 | Loss: 0.007855010218918324 | Accuracy: 100.0%\n",
      " | Epoch 1 | Loss: 0.007965026423335075 | Accuracy: 100.0%\n",
      " | Epoch 1 | Loss: 0.007811573334038258 | Accuracy: 100.0%\n",
      " | Epoch 1 | Loss: 0.007718075066804886 | Accuracy: 100.0%\n",
      " | Epoch 1 | Loss: 0.00849891360849142 | Accuracy: 100.0%\n",
      " | Epoch 1 | Loss: 0.007537500932812691 | Accuracy: 100.0%\n",
      " | Epoch 1 | Loss: 0.007342152763158083 | Accuracy: 100.0%\n",
      " | Epoch 1 | Loss: 0.007092883810400963 | Accuracy: 100.0%\n",
      " | Epoch 1 | Loss: 0.007775544188916683 | Accuracy: 100.0%\n",
      " | Epoch 1 | Loss: 0.0070572467520833015 | Accuracy: 100.0%\n",
      " | Epoch 1 | Loss: 0.18102987110614777 | Accuracy: 96.875%\n",
      " | Epoch 1 | Loss: 0.0065836296416819096 | Accuracy: 100.0%\n",
      " | Epoch 1 | Loss: 0.0063507212325930595 | Accuracy: 100.0%\n",
      " | Epoch 1 | Loss: 0.007910419255495071 | Accuracy: 100.0%\n",
      " | Epoch 1 | Loss: 0.007126996759325266 | Accuracy: 100.0%\n",
      " | Epoch 1 | Loss: 0.008882368914783001 | Accuracy: 100.0%\n",
      " | Epoch 1 | Loss: 0.006749700754880905 | Accuracy: 100.0%\n",
      " | Epoch 1 | Loss: 0.007629988715052605 | Accuracy: 100.0%\n",
      " | Epoch 1 | Loss: 0.008101332001388073 | Accuracy: 100.0%\n",
      " | Epoch 1 | Loss: 0.008789661340415478 | Accuracy: 100.0%\n",
      " | Epoch 1 | Loss: 0.007371475920081139 | Accuracy: 100.0%\n",
      " | Epoch 1 | Loss: 0.3458532392978668 | Accuracy: 96.875%\n",
      " | Epoch 1 | Loss: 0.006742771249264479 | Accuracy: 100.0%\n",
      " | Epoch 1 | Loss: 0.009393681772053242 | Accuracy: 100.0%\n",
      " | Epoch 1 | Loss: 0.0075300391763448715 | Accuracy: 100.0%\n",
      " | Epoch 1 | Loss: 0.006723097059875727 | Accuracy: 100.0%\n",
      " | Epoch 1 | Loss: 0.006645622663199902 | Accuracy: 100.0%\n",
      " | Epoch 1 | Loss: 0.008811766281723976 | Accuracy: 100.0%\n",
      " | Epoch 1 | Loss: 0.008215641602873802 | Accuracy: 100.0%\n",
      " | Epoch 1 | Loss: 0.007826094515621662 | Accuracy: 100.0%\n",
      " | Epoch 1 | Loss: 0.007497651968151331 | Accuracy: 100.0%\n",
      " | Epoch 1 | Loss: 0.0067113349214196205 | Accuracy: 100.0%\n",
      " | Epoch 1 | Loss: 0.0073330216109752655 | Accuracy: 100.0%\n",
      " | Epoch 1 | Loss: 0.0075027821585536 | Accuracy: 100.0%\n",
      " | Epoch 1 | Loss: 0.2520635426044464 | Accuracy: 96.875%\n",
      " | Epoch 1 | Loss: 0.00803812500089407 | Accuracy: 100.0%\n",
      " | Epoch 1 | Loss: 0.00746145099401474 | Accuracy: 100.0%\n",
      " | Epoch 1 | Loss: 0.20309723913669586 | Accuracy: 96.875%\n",
      " | Epoch 1 | Loss: 0.006758794188499451 | Accuracy: 100.0%\n",
      " | Epoch 1 | Loss: 0.010130110196769238 | Accuracy: 100.0%\n",
      " | Epoch 1 | Loss: 0.007097574882209301 | Accuracy: 100.0%\n",
      " | Epoch 1 | Loss: 0.007329829968512058 | Accuracy: 100.0%\n",
      " | Epoch 1 | Loss: 0.007011642679572105 | Accuracy: 100.0%\n",
      " | Epoch 1 | Loss: 0.007238480262458324 | Accuracy: 100.0%\n",
      " | Epoch 1 | Loss: 0.0065521192736923695 | Accuracy: 100.0%\n",
      " | Epoch 1 | Loss: 0.008615436032414436 | Accuracy: 100.0%\n",
      " | Epoch 1 | Loss: 0.007710818201303482 | Accuracy: 100.0%\n",
      " | Epoch 1 | Loss: 0.007142562884837389 | Accuracy: 100.0%\n",
      " | Epoch 1 | Loss: 0.007799508050084114 | Accuracy: 100.0%\n",
      " | Epoch 1 | Loss: 0.006641094107180834 | Accuracy: 100.0%\n",
      " | Epoch 1 | Loss: 0.25075891613960266 | Accuracy: 96.875%\n",
      " | Epoch 1 | Loss: 0.18149901926517487 | Accuracy: 96.875%\n",
      " | Epoch 1 | Loss: 0.007482745684683323 | Accuracy: 100.0%\n",
      " | Epoch 1 | Loss: 0.0077652521431446075 | Accuracy: 100.0%\n"
     ]
    },
    {
     "name": "stderr",
     "output_type": "stream",
     "text": [
      "Epoch 1:  94%|█████████████████████████▍ | 1417/1501 [00:03<00:00, 485.74batch/s, accuracy=100.0%, loss=0.00759]"
     ]
    },
    {
     "name": "stdout",
     "output_type": "stream",
     "text": [
      " | Epoch 1 | Loss: 0.007435293402522802 | Accuracy: 100.0%\n",
      " | Epoch 1 | Loss: 0.007537078112363815 | Accuracy: 100.0%\n",
      " | Epoch 1 | Loss: 0.00684919161722064 | Accuracy: 100.0%\n",
      " | Epoch 1 | Loss: 0.007360435090959072 | Accuracy: 100.0%\n",
      " | Epoch 1 | Loss: 0.007821333594620228 | Accuracy: 100.0%\n",
      " | Epoch 1 | Loss: 0.008258907124400139 | Accuracy: 100.0%\n",
      " | Epoch 1 | Loss: 0.24631568789482117 | Accuracy: 96.875%\n",
      " | Epoch 1 | Loss: 0.19112113118171692 | Accuracy: 96.875%\n",
      " | Epoch 1 | Loss: 0.007886046543717384 | Accuracy: 100.0%\n",
      " | Epoch 1 | Loss: 0.00816886406391859 | Accuracy: 100.0%\n",
      " | Epoch 1 | Loss: 0.007758192252367735 | Accuracy: 100.0%\n",
      " | Epoch 1 | Loss: 0.009475762024521828 | Accuracy: 100.0%\n",
      " | Epoch 1 | Loss: 0.012449515983462334 | Accuracy: 100.0%\n",
      " | Epoch 1 | Loss: 0.008092796429991722 | Accuracy: 100.0%\n",
      " | Epoch 1 | Loss: 0.009357801638543606 | Accuracy: 100.0%\n",
      " | Epoch 1 | Loss: 0.007368380203843117 | Accuracy: 100.0%\n",
      " | Epoch 1 | Loss: 0.007620341144502163 | Accuracy: 100.0%\n",
      " | Epoch 1 | Loss: 0.25594955682754517 | Accuracy: 96.875%\n",
      " | Epoch 1 | Loss: 0.0074848891235888 | Accuracy: 100.0%\n",
      " | Epoch 1 | Loss: 0.008038504980504513 | Accuracy: 100.0%\n",
      " | Epoch 1 | Loss: 0.008043970912694931 | Accuracy: 100.0%\n",
      " | Epoch 1 | Loss: 0.008240618743002415 | Accuracy: 100.0%\n",
      " | Epoch 1 | Loss: 0.00834058690816164 | Accuracy: 100.0%\n",
      " | Epoch 1 | Loss: 0.007716177497059107 | Accuracy: 100.0%\n",
      " | Epoch 1 | Loss: 0.007108962628990412 | Accuracy: 100.0%\n",
      " | Epoch 1 | Loss: 0.006312638986855745 | Accuracy: 100.0%\n",
      " | Epoch 1 | Loss: 0.007745170500129461 | Accuracy: 100.0%\n",
      " | Epoch 1 | Loss: 0.19594424962997437 | Accuracy: 96.875%\n",
      " | Epoch 1 | Loss: 0.1903904378414154 | Accuracy: 96.875%\n",
      " | Epoch 1 | Loss: 0.008032632991671562 | Accuracy: 100.0%\n",
      " | Epoch 1 | Loss: 0.008130843751132488 | Accuracy: 100.0%\n",
      " | Epoch 1 | Loss: 0.008198166266083717 | Accuracy: 100.0%\n",
      " | Epoch 1 | Loss: 0.008506675250828266 | Accuracy: 100.0%\n",
      " | Epoch 1 | Loss: 0.007646889425814152 | Accuracy: 100.0%\n",
      " | Epoch 1 | Loss: 0.008167249150574207 | Accuracy: 100.0%\n",
      " | Epoch 1 | Loss: 0.008694618940353394 | Accuracy: 100.0%\n",
      " | Epoch 1 | Loss: 0.007310632150620222 | Accuracy: 100.0%\n",
      " | Epoch 1 | Loss: 0.0069653489626944065 | Accuracy: 100.0%\n",
      " | Epoch 1 | Loss: 0.006670502480119467 | Accuracy: 100.0%\n",
      " | Epoch 1 | Loss: 0.006986711639910936 | Accuracy: 100.0%\n",
      " | Epoch 1 | Loss: 0.008585118688642979 | Accuracy: 100.0%\n",
      " | Epoch 1 | Loss: 0.009476663544774055 | Accuracy: 100.0%\n",
      " | Epoch 1 | Loss: 0.00811274629086256 | Accuracy: 100.0%\n",
      " | Epoch 1 | Loss: 0.007672784850001335 | Accuracy: 100.0%\n",
      " | Epoch 1 | Loss: 0.007886284030973911 | Accuracy: 100.0%\n",
      " | Epoch 1 | Loss: 0.007311035413295031 | Accuracy: 100.0%\n",
      " | Epoch 1 | Loss: 0.0068921884521842 | Accuracy: 100.0%\n",
      " | Epoch 1 | Loss: 0.17283740639686584 | Accuracy: 96.875%\n",
      " | Epoch 1 | Loss: 0.006136290263384581 | Accuracy: 100.0%\n",
      " | Epoch 1 | Loss: 0.007354200351983309 | Accuracy: 100.0%\n",
      " | Epoch 1 | Loss: 0.008212905377149582 | Accuracy: 100.0%\n",
      " | Epoch 1 | Loss: 0.23731033504009247 | Accuracy: 96.875%\n",
      " | Epoch 1 | Loss: 0.006456704344600439 | Accuracy: 100.0%\n",
      " | Epoch 1 | Loss: 0.007863887585699558 | Accuracy: 100.0%\n",
      " | Epoch 1 | Loss: 0.0074451076798141 | Accuracy: 100.0%\n",
      " | Epoch 1 | Loss: 0.28919506072998047 | Accuracy: 96.875%\n",
      " | Epoch 1 | Loss: 0.007237699814140797 | Accuracy: 100.0%\n",
      " | Epoch 1 | Loss: 0.1969151645898819 | Accuracy: 96.875%\n",
      " | Epoch 1 | Loss: 0.1922704428434372 | Accuracy: 96.875%\n",
      " | Epoch 1 | Loss: 0.00889531522989273 | Accuracy: 100.0%\n",
      " | Epoch 1 | Loss: 0.006589042954146862 | Accuracy: 100.0%\n",
      " | Epoch 1 | Loss: 0.007382462732493877 | Accuracy: 100.0%\n",
      " | Epoch 1 | Loss: 0.009404690936207771 | Accuracy: 100.0%\n",
      " | Epoch 1 | Loss: 0.008831031620502472 | Accuracy: 100.0%\n",
      " | Epoch 1 | Loss: 0.007471201941370964 | Accuracy: 100.0%\n",
      " | Epoch 1 | Loss: 0.008041953667998314 | Accuracy: 100.0%\n",
      " | Epoch 1 | Loss: 0.00826187152415514 | Accuracy: 100.0%\n",
      " | Epoch 1 | Loss: 0.009203028865158558 | Accuracy: 100.0%\n",
      " | Epoch 1 | Loss: 0.007894725538790226 | Accuracy: 100.0%\n",
      " | Epoch 1 | Loss: 0.006772578228265047 | Accuracy: 100.0%\n",
      " | Epoch 1 | Loss: 0.0073225307278335094 | Accuracy: 100.0%\n",
      " | Epoch 1 | Loss: 0.008223406039178371 | Accuracy: 100.0%\n",
      " | Epoch 1 | Loss: 0.00783240981400013 | Accuracy: 100.0%\n",
      " | Epoch 1 | Loss: 0.008510097861289978 | Accuracy: 100.0%\n",
      " | Epoch 1 | Loss: 0.008372027426958084 | Accuracy: 100.0%\n",
      " | Epoch 1 | Loss: 0.008228708058595657 | Accuracy: 100.0%\n",
      " | Epoch 1 | Loss: 0.2918708324432373 | Accuracy: 96.875%\n",
      " | Epoch 1 | Loss: 0.00787337776273489 | Accuracy: 100.0%\n",
      " | Epoch 1 | Loss: 0.007470831740647554 | Accuracy: 100.0%\n",
      " | Epoch 1 | Loss: 0.007859155535697937 | Accuracy: 100.0%\n",
      " | Epoch 1 | Loss: 0.00826630461961031 | Accuracy: 100.0%\n",
      " | Epoch 1 | Loss: 0.007952353917062283 | Accuracy: 100.0%\n",
      " | Epoch 1 | Loss: 0.008299588225781918 | Accuracy: 100.0%\n",
      " | Epoch 1 | Loss: 0.008841787464916706 | Accuracy: 100.0%\n",
      " | Epoch 1 | Loss: 0.008253008127212524 | Accuracy: 100.0%\n",
      " | Epoch 1 | Loss: 0.0073958332650363445 | Accuracy: 100.0%\n",
      " | Epoch 1 | Loss: 0.007619606796652079 | Accuracy: 100.0%\n",
      " | Epoch 1 | Loss: 0.007554866839200258 | Accuracy: 100.0%\n",
      " | Epoch 1 | Loss: 0.00794360414147377 | Accuracy: 100.0%\n",
      " | Epoch 1 | Loss: 0.007315633352845907 | Accuracy: 100.0%\n",
      " | Epoch 1 | Loss: 0.01308803167194128 | Accuracy: 100.0%\n",
      " | Epoch 1 | Loss: 0.008303238078951836 | Accuracy: 100.0%\n",
      " | Epoch 1 | Loss: 0.007032318506389856 | Accuracy: 100.0%\n",
      " | Epoch 1 | Loss: 0.007090029772371054 | Accuracy: 100.0%\n",
      " | Epoch 1 | Loss: 0.006832917686551809 | Accuracy: 100.0%\n",
      " | Epoch 1 | Loss: 0.006177586503326893 | Accuracy: 100.0%\n",
      " | Epoch 1 | Loss: 0.2750995457172394 | Accuracy: 96.875%\n",
      " | Epoch 1 | Loss: 0.006973951123654842 | Accuracy: 100.0%\n",
      " | Epoch 1 | Loss: 0.006860367488116026 | Accuracy: 100.0%\n",
      " | Epoch 1 | Loss: 0.007995455525815487 | Accuracy: 100.0%\n",
      " | Epoch 1 | Loss: 0.007585007231682539 | Accuracy: 100.0%\n"
     ]
    },
    {
     "name": "stderr",
     "output_type": "stream",
     "text": [
      "Epoch 1: 100%|████████████████████████████| 1501/1501 [00:03<00:00, 401.85batch/s, accuracy=100.0%, loss=0.0076]\n"
     ]
    },
    {
     "name": "stdout",
     "output_type": "stream",
     "text": [
      " | Epoch 1 | Loss: 0.006526784040033817 | Accuracy: 100.0%\n",
      " | Epoch 1 | Loss: 0.2562493681907654 | Accuracy: 96.875%\n",
      " | Epoch 1 | Loss: 0.006827077828347683 | Accuracy: 100.0%\n",
      " | Epoch 1 | Loss: 0.007153191138058901 | Accuracy: 100.0%\n",
      " | Epoch 1 | Loss: 0.007411465980112553 | Accuracy: 100.0%\n",
      " | Epoch 1 | Loss: 0.0071397568099200726 | Accuracy: 100.0%\n",
      " | Epoch 1 | Loss: 0.007046801969408989 | Accuracy: 100.0%\n",
      " | Epoch 1 | Loss: 0.007895801216363907 | Accuracy: 100.0%\n",
      " | Epoch 1 | Loss: 0.007946639321744442 | Accuracy: 100.0%\n",
      " | Epoch 1 | Loss: 0.007457451894879341 | Accuracy: 100.0%\n",
      " | Epoch 1 | Loss: 0.006974038667976856 | Accuracy: 100.0%\n",
      " | Epoch 1 | Loss: 0.007857941091060638 | Accuracy: 100.0%\n",
      " | Epoch 1 | Loss: 0.007217989768832922 | Accuracy: 100.0%\n",
      " | Epoch 1 | Loss: 0.007225929293781519 | Accuracy: 100.0%\n",
      " | Epoch 1 | Loss: 0.006886804476380348 | Accuracy: 100.0%\n",
      " | Epoch 1 | Loss: 0.007101661060005426 | Accuracy: 100.0%\n",
      " | Epoch 1 | Loss: 0.00836537778377533 | Accuracy: 100.0%\n",
      " | Epoch 1 | Loss: 0.007622533943504095 | Accuracy: 100.0%\n",
      " | Epoch 1 | Loss: 0.1860632449388504 | Accuracy: 96.875%\n",
      " | Epoch 1 | Loss: 0.008130297996103764 | Accuracy: 100.0%\n",
      " | Epoch 1 | Loss: 0.15404553711414337 | Accuracy: 96.875%\n",
      " | Epoch 1 | Loss: 0.006983794737607241 | Accuracy: 100.0%\n",
      " | Epoch 1 | Loss: 0.007288879249244928 | Accuracy: 100.0%\n",
      " | Epoch 1 | Loss: 0.008026420138776302 | Accuracy: 100.0%\n",
      " | Epoch 1 | Loss: 0.007299464661628008 | Accuracy: 100.0%\n",
      " | Epoch 1 | Loss: 0.007329877931624651 | Accuracy: 100.0%\n",
      " | Epoch 1 | Loss: 0.007338851690292358 | Accuracy: 100.0%\n",
      " | Epoch 1 | Loss: 0.008357880637049675 | Accuracy: 100.0%\n",
      " | Epoch 1 | Loss: 0.00720666628330946 | Accuracy: 100.0%\n",
      " | Epoch 1 | Loss: 0.008249672129750252 | Accuracy: 100.0%\n",
      " | Epoch 1 | Loss: 0.0065655093640089035 | Accuracy: 100.0%\n",
      " | Epoch 1 | Loss: 0.007678424473851919 | Accuracy: 100.0%\n",
      " | Epoch 1 | Loss: 0.008126548491418362 | Accuracy: 100.0%\n",
      " | Epoch 1 | Loss: 0.008352120406925678 | Accuracy: 100.0%\n",
      " | Epoch 1 | Loss: 0.007935922592878342 | Accuracy: 100.0%\n",
      " | Epoch 1 | Loss: 0.010696258395910263 | Accuracy: 100.0%\n",
      " | Epoch 1 | Loss: 0.008240057155489922 | Accuracy: 100.0%\n",
      " | Epoch 1 | Loss: 0.007677710615098476 | Accuracy: 100.0%\n",
      " | Epoch 1 | Loss: 0.006881071254611015 | Accuracy: 100.0%\n",
      " | Epoch 1 | Loss: 0.007195863872766495 | Accuracy: 100.0%\n",
      " | Epoch 1 | Loss: 0.200193390250206 | Accuracy: 96.875%\n",
      " | Epoch 1 | Loss: 0.007717226631939411 | Accuracy: 100.0%\n",
      " | Epoch 1 | Loss: 0.008365913294255733 | Accuracy: 100.0%\n",
      " | Epoch 1 | Loss: 0.007344025652855635 | Accuracy: 100.0%\n",
      " | Epoch 1 | Loss: 0.0064220246858894825 | Accuracy: 100.0%\n",
      " | Epoch 1 | Loss: 0.008028706535696983 | Accuracy: 100.0%\n",
      " | Epoch 1 | Loss: 0.29395514726638794 | Accuracy: 96.875%\n",
      " | Epoch 1 | Loss: 0.007561835926026106 | Accuracy: 100.0%\n",
      " | Epoch 1 | Loss: 0.3164908289909363 | Accuracy: 96.875%\n",
      " | Epoch 1 | Loss: 0.00782487727701664 | Accuracy: 100.0%\n",
      " | Epoch 1 | Loss: 0.007008305750787258 | Accuracy: 100.0%\n",
      " | Epoch 1 | Loss: 0.01141353789716959 | Accuracy: 100.0%\n",
      " | Epoch 1 | Loss: 0.00679596746340394 | Accuracy: 100.0%\n",
      " | Epoch 1 | Loss: 0.29547736048698425 | Accuracy: 96.875%\n",
      " | Epoch 1 | Loss: 0.007311499211937189 | Accuracy: 100.0%\n",
      " | Epoch 1 | Loss: 0.007168878801167011 | Accuracy: 100.0%\n",
      " | Epoch 1 | Loss: 0.17250217497348785 | Accuracy: 96.875%\n",
      " | Epoch 1 | Loss: 0.008025373332202435 | Accuracy: 100.0%\n",
      " | Epoch 1 | Loss: 0.007750770077109337 | Accuracy: 100.0%\n",
      " | Epoch 1 | Loss: 0.00862724706530571 | Accuracy: 100.0%\n",
      " | Epoch 1 | Loss: 0.24162591993808746 | Accuracy: 96.875%\n",
      " | Epoch 1 | Loss: 0.21472373604774475 | Accuracy: 96.875%\n",
      " | Epoch 1 | Loss: 0.0074503300711512566 | Accuracy: 100.0%\n",
      " | Epoch 1 | Loss: 0.006806620396673679 | Accuracy: 100.0%\n",
      " | Epoch 1 | Loss: 0.0077081904746592045 | Accuracy: 100.0%\n",
      " | Epoch 1 | Loss: 0.007786873262375593 | Accuracy: 100.0%\n",
      " | Epoch 1 | Loss: 0.007599327247589827 | Accuracy: 100.0%\n"
     ]
    },
    {
     "name": "stderr",
     "output_type": "stream",
     "text": [
      "Epoch 2:   3%|▉                             | 50/1501 [00:00<00:05, 266.43batch/s, accuracy=100.0%, loss=0.0106]"
     ]
    },
    {
     "name": "stdout",
     "output_type": "stream",
     "text": [
      " | Epoch 2 | Loss: 0.007415023632347584 | Accuracy: 100.0%\n",
      " | Epoch 2 | Loss: 0.00858988892287016 | Accuracy: 100.0%\n",
      " | Epoch 2 | Loss: 0.006600303575396538 | Accuracy: 100.0%\n",
      " | Epoch 2 | Loss: 0.007818251848220825 | Accuracy: 100.0%\n",
      " | Epoch 2 | Loss: 0.006905537098646164 | Accuracy: 100.0%\n",
      " | Epoch 2 | Loss: 0.009140178561210632 | Accuracy: 100.0%\n",
      " | Epoch 2 | Loss: 0.008923900313675404 | Accuracy: 100.0%\n",
      " | Epoch 2 | Loss: 0.23013050854206085 | Accuracy: 96.875%\n",
      " | Epoch 2 | Loss: 0.007662773132324219 | Accuracy: 100.0%\n",
      " | Epoch 2 | Loss: 0.0078090219758450985 | Accuracy: 100.0%\n",
      " | Epoch 2 | Loss: 0.006196831818670034 | Accuracy: 100.0%\n",
      " | Epoch 2 | Loss: 0.008496982045471668 | Accuracy: 100.0%\n",
      " | Epoch 2 | Loss: 0.00771306362003088 | Accuracy: 100.0%\n",
      " | Epoch 2 | Loss: 0.008375602774322033 | Accuracy: 100.0%\n",
      " | Epoch 2 | Loss: 0.007584059610962868 | Accuracy: 100.0%\n",
      " | Epoch 2 | Loss: 0.00805511325597763 | Accuracy: 100.0%\n",
      " | Epoch 2 | Loss: 0.00738215958699584 | Accuracy: 100.0%\n",
      " | Epoch 2 | Loss: 0.008287167176604271 | Accuracy: 100.0%\n",
      " | Epoch 2 | Loss: 0.007850377820432186 | Accuracy: 100.0%\n",
      " | Epoch 2 | Loss: 0.21616558730602264 | Accuracy: 96.875%\n",
      " | Epoch 2 | Loss: 0.007276179268956184 | Accuracy: 100.0%\n",
      " | Epoch 2 | Loss: 0.008307933807373047 | Accuracy: 100.0%\n",
      " | Epoch 2 | Loss: 0.007466522045433521 | Accuracy: 100.0%\n",
      " | Epoch 2 | Loss: 0.007690209895372391 | Accuracy: 100.0%\n",
      " | Epoch 2 | Loss: 0.009725885465741158 | Accuracy: 100.0%\n",
      " | Epoch 2 | Loss: 0.008795236237347126 | Accuracy: 100.0%\n",
      " | Epoch 2 | Loss: 0.008561456575989723 | Accuracy: 100.0%\n",
      " | Epoch 2 | Loss: 0.007485284004360437 | Accuracy: 100.0%\n",
      " | Epoch 2 | Loss: 0.007548670284450054 | Accuracy: 100.0%\n",
      " | Epoch 2 | Loss: 0.4663550555706024 | Accuracy: 93.75%\n",
      " | Epoch 2 | Loss: 0.41187623143196106 | Accuracy: 93.75%\n",
      " | Epoch 2 | Loss: 0.007102503906935453 | Accuracy: 100.0%\n",
      " | Epoch 2 | Loss: 0.009019371122121811 | Accuracy: 100.0%\n",
      " | Epoch 2 | Loss: 0.007687394507229328 | Accuracy: 100.0%\n",
      " | Epoch 2 | Loss: 0.006809573154896498 | Accuracy: 100.0%\n",
      " | Epoch 2 | Loss: 0.007548360154032707 | Accuracy: 100.0%\n",
      " | Epoch 2 | Loss: 0.017728256061673164 | Accuracy: 100.0%\n",
      " | Epoch 2 | Loss: 0.21128074824810028 | Accuracy: 96.875%\n",
      " | Epoch 2 | Loss: 0.012462559156119823 | Accuracy: 100.0%\n",
      " | Epoch 2 | Loss: 0.009601611644029617 | Accuracy: 100.0%\n",
      " | Epoch 2 | Loss: 0.009068923071026802 | Accuracy: 100.0%\n",
      " | Epoch 2 | Loss: 0.2962135076522827 | Accuracy: 96.875%\n",
      " | Epoch 2 | Loss: 0.008400918915867805 | Accuracy: 100.0%\n",
      " | Epoch 2 | Loss: 0.008066318929195404 | Accuracy: 100.0%\n",
      " | Epoch 2 | Loss: 0.008537367917597294 | Accuracy: 100.0%\n",
      " | Epoch 2 | Loss: 0.008856871165335178 | Accuracy: 100.0%\n",
      " | Epoch 2 | Loss: 0.008700219914317131 | Accuracy: 100.0%\n",
      " | Epoch 2 | Loss: 0.0077764177694916725 | Accuracy: 100.0%\n",
      " | Epoch 2 | Loss: 0.008717606775462627 | Accuracy: 100.0%\n",
      " | Epoch 2 | Loss: 0.008114228025078773 | Accuracy: 100.0%\n",
      " | Epoch 2 | Loss: 0.00798879750072956 | Accuracy: 100.0%\n",
      " | Epoch 2 | Loss: 0.007828963920474052 | Accuracy: 100.0%\n",
      " | Epoch 2 | Loss: 0.0076597025617957115 | Accuracy: 100.0%\n",
      " | Epoch 2 | Loss: 0.009725421667098999 | Accuracy: 100.0%\n",
      " | Epoch 2 | Loss: 0.008653921075165272 | Accuracy: 100.0%\n",
      " | Epoch 2 | Loss: 0.007685686461627483 | Accuracy: 100.0%\n",
      " | Epoch 2 | Loss: 0.007396836765110493 | Accuracy: 100.0%\n",
      " | Epoch 2 | Loss: 0.007823235355317593 | Accuracy: 100.0%\n",
      " | Epoch 2 | Loss: 0.008780219592154026 | Accuracy: 100.0%\n",
      " | Epoch 2 | Loss: 0.008347020484507084 | Accuracy: 100.0%\n",
      " | Epoch 2 | Loss: 0.007791477721184492 | Accuracy: 100.0%\n",
      " | Epoch 2 | Loss: 0.008819583803415298 | Accuracy: 100.0%\n",
      " | Epoch 2 | Loss: 0.007740948814898729 | Accuracy: 100.0%\n",
      " | Epoch 2 | Loss: 0.006980782374739647 | Accuracy: 100.0%\n",
      " | Epoch 2 | Loss: 0.007182758767157793 | Accuracy: 100.0%\n",
      " | Epoch 2 | Loss: 0.006477950140833855 | Accuracy: 100.0%\n",
      " | Epoch 2 | Loss: 0.0072326879017055035 | Accuracy: 100.0%\n",
      " | Epoch 2 | Loss: 0.00786852277815342 | Accuracy: 100.0%\n",
      " | Epoch 2 | Loss: 0.008249582722783089 | Accuracy: 100.0%\n",
      " | Epoch 2 | Loss: 0.007943877018988132 | Accuracy: 100.0%\n",
      " | Epoch 2 | Loss: 0.008604624308645725 | Accuracy: 100.0%\n",
      " | Epoch 2 | Loss: 0.006821352522820234 | Accuracy: 100.0%\n",
      " | Epoch 2 | Loss: 0.008337891660630703 | Accuracy: 100.0%\n",
      " | Epoch 2 | Loss: 0.007403021212667227 | Accuracy: 100.0%\n",
      " | Epoch 2 | Loss: 0.009167211130261421 | Accuracy: 100.0%\n",
      " | Epoch 2 | Loss: 0.008238828741014004 | Accuracy: 100.0%\n",
      " | Epoch 2 | Loss: 0.009282267652451992 | Accuracy: 100.0%\n",
      " | Epoch 2 | Loss: 0.009093261323869228 | Accuracy: 100.0%\n",
      " | Epoch 2 | Loss: 0.006977967917919159 | Accuracy: 100.0%\n",
      " | Epoch 2 | Loss: 0.006321606691926718 | Accuracy: 100.0%\n",
      " | Epoch 2 | Loss: 0.007366988342255354 | Accuracy: 100.0%\n",
      " | Epoch 2 | Loss: 0.007128926459699869 | Accuracy: 100.0%\n",
      " | Epoch 2 | Loss: 0.007025540806353092 | Accuracy: 100.0%\n",
      " | Epoch 2 | Loss: 0.008408463560044765 | Accuracy: 100.0%\n",
      " | Epoch 2 | Loss: 0.007200926076620817 | Accuracy: 100.0%\n",
      " | Epoch 2 | Loss: 0.006912511307746172 | Accuracy: 100.0%\n",
      " | Epoch 2 | Loss: 0.29562562704086304 | Accuracy: 96.875%\n",
      " | Epoch 2 | Loss: 0.1852693408727646 | Accuracy: 96.875%\n",
      " | Epoch 2 | Loss: 0.007285336498171091 | Accuracy: 100.0%\n",
      " | Epoch 2 | Loss: 0.3219361901283264 | Accuracy: 96.875%\n",
      " | Epoch 2 | Loss: 0.17216381430625916 | Accuracy: 96.875%\n",
      " | Epoch 2 | Loss: 0.006447570398449898 | Accuracy: 100.0%\n",
      " | Epoch 2 | Loss: 0.007587810046970844 | Accuracy: 100.0%\n",
      " | Epoch 2 | Loss: 0.009051050990819931 | Accuracy: 100.0%\n",
      " | Epoch 2 | Loss: 0.007421217393130064 | Accuracy: 100.0%\n",
      " | Epoch 2 | Loss: 0.1886284202337265 | Accuracy: 96.875%\n",
      " | Epoch 2 | Loss: 0.2647305428981781 | Accuracy: 96.875%\n",
      " | Epoch 2 | Loss: 0.009858383797109127 | Accuracy: 100.0%\n",
      " | Epoch 2 | Loss: 0.009472775273025036 | Accuracy: 100.0%\n",
      " | Epoch 2 | Loss: 0.011324147693812847 | Accuracy: 100.0%\n",
      " | Epoch 2 | Loss: 0.01055356115102768 | Accuracy: 100.0%\n",
      " | Epoch 2 | Loss: 0.011079350486397743 | Accuracy: 100.0%\n"
     ]
    },
    {
     "name": "stderr",
     "output_type": "stream",
     "text": [
      "Epoch 2:  10%|██▉                          | 155/1501 [00:00<00:03, 430.73batch/s, accuracy=96.875%, loss=0.245]"
     ]
    },
    {
     "name": "stdout",
     "output_type": "stream",
     "text": [
      " | Epoch 2 | Loss: 0.010618994943797588 | Accuracy: 100.0%\n",
      " | Epoch 2 | Loss: 0.011860866099596024 | Accuracy: 100.0%\n",
      " | Epoch 2 | Loss: 0.008703582920134068 | Accuracy: 100.0%\n",
      " | Epoch 2 | Loss: 0.009196192026138306 | Accuracy: 100.0%\n",
      " | Epoch 2 | Loss: 0.009793981909751892 | Accuracy: 100.0%\n",
      " | Epoch 2 | Loss: 0.009014117531478405 | Accuracy: 100.0%\n",
      " | Epoch 2 | Loss: 0.008122242987155914 | Accuracy: 100.0%\n",
      " | Epoch 2 | Loss: 0.00774758355692029 | Accuracy: 100.0%\n",
      " | Epoch 2 | Loss: 0.008297799155116081 | Accuracy: 100.0%\n",
      " | Epoch 2 | Loss: 0.00788672361522913 | Accuracy: 100.0%\n",
      " | Epoch 2 | Loss: 0.00701384712010622 | Accuracy: 100.0%\n",
      " | Epoch 2 | Loss: 0.0071283141151070595 | Accuracy: 100.0%\n",
      " | Epoch 2 | Loss: 0.007687372155487537 | Accuracy: 100.0%\n",
      " | Epoch 2 | Loss: 0.007085875142365694 | Accuracy: 100.0%\n",
      " | Epoch 2 | Loss: 0.007430778816342354 | Accuracy: 100.0%\n",
      " | Epoch 2 | Loss: 0.006419710349291563 | Accuracy: 100.0%\n",
      " | Epoch 2 | Loss: 0.009374097920954227 | Accuracy: 100.0%\n",
      " | Epoch 2 | Loss: 0.23210221529006958 | Accuracy: 96.875%\n",
      " | Epoch 2 | Loss: 0.29673439264297485 | Accuracy: 96.875%\n",
      " | Epoch 2 | Loss: 0.24565131962299347 | Accuracy: 96.875%\n",
      " | Epoch 2 | Loss: 0.006745047867298126 | Accuracy: 100.0%\n",
      " | Epoch 2 | Loss: 0.0074208821170032024 | Accuracy: 100.0%\n",
      " | Epoch 2 | Loss: 0.007252495735883713 | Accuracy: 100.0%\n",
      " | Epoch 2 | Loss: 0.009839599020779133 | Accuracy: 100.0%\n",
      " | Epoch 2 | Loss: 0.0076006934978067875 | Accuracy: 100.0%\n",
      " | Epoch 2 | Loss: 0.18525183200836182 | Accuracy: 96.875%\n",
      " | Epoch 2 | Loss: 0.006746973842382431 | Accuracy: 100.0%\n",
      " | Epoch 2 | Loss: 0.007954597473144531 | Accuracy: 100.0%\n",
      " | Epoch 2 | Loss: 0.007021439261734486 | Accuracy: 100.0%\n",
      " | Epoch 2 | Loss: 0.008439489640295506 | Accuracy: 100.0%\n",
      " | Epoch 2 | Loss: 0.01064580399543047 | Accuracy: 100.0%\n",
      " | Epoch 2 | Loss: 0.261536180973053 | Accuracy: 96.875%\n",
      " | Epoch 2 | Loss: 0.007559432182461023 | Accuracy: 100.0%\n",
      " | Epoch 2 | Loss: 0.007568399887531996 | Accuracy: 100.0%\n",
      " | Epoch 2 | Loss: 0.008832045830786228 | Accuracy: 100.0%\n",
      " | Epoch 2 | Loss: 0.00873250886797905 | Accuracy: 100.0%\n",
      " | Epoch 2 | Loss: 0.008867180906236172 | Accuracy: 100.0%\n",
      " | Epoch 2 | Loss: 0.00804999191313982 | Accuracy: 100.0%\n",
      " | Epoch 2 | Loss: 0.008578622713685036 | Accuracy: 100.0%\n",
      " | Epoch 2 | Loss: 0.00822904147207737 | Accuracy: 100.0%\n",
      " | Epoch 2 | Loss: 0.008068117313086987 | Accuracy: 100.0%\n",
      " | Epoch 2 | Loss: 0.008954521268606186 | Accuracy: 100.0%\n",
      " | Epoch 2 | Loss: 0.008391057141125202 | Accuracy: 100.0%\n",
      " | Epoch 2 | Loss: 0.009711157530546188 | Accuracy: 100.0%\n",
      " | Epoch 2 | Loss: 0.27349311113357544 | Accuracy: 96.875%\n",
      " | Epoch 2 | Loss: 0.008565434254705906 | Accuracy: 100.0%\n",
      " | Epoch 2 | Loss: 0.011146762408316135 | Accuracy: 100.0%\n",
      " | Epoch 2 | Loss: 0.009070371277630329 | Accuracy: 100.0%\n",
      " | Epoch 2 | Loss: 0.007349988911300898 | Accuracy: 100.0%\n",
      " | Epoch 2 | Loss: 0.007570711430162191 | Accuracy: 100.0%\n",
      " | Epoch 2 | Loss: 0.007323552388697863 | Accuracy: 100.0%\n",
      " | Epoch 2 | Loss: 0.007574888877570629 | Accuracy: 100.0%\n",
      " | Epoch 2 | Loss: 0.20545843243598938 | Accuracy: 96.875%\n",
      " | Epoch 2 | Loss: 0.007608487270772457 | Accuracy: 100.0%\n",
      " | Epoch 2 | Loss: 0.009697921574115753 | Accuracy: 100.0%\n",
      " | Epoch 2 | Loss: 0.009775510989129543 | Accuracy: 100.0%\n",
      " | Epoch 2 | Loss: 0.01026240922510624 | Accuracy: 100.0%\n",
      " | Epoch 2 | Loss: 0.007120379712432623 | Accuracy: 100.0%\n",
      " | Epoch 2 | Loss: 0.0076940832659602165 | Accuracy: 100.0%\n",
      " | Epoch 2 | Loss: 0.008756238967180252 | Accuracy: 100.0%\n",
      " | Epoch 2 | Loss: 0.007647173944860697 | Accuracy: 100.0%\n",
      " | Epoch 2 | Loss: 0.3053196370601654 | Accuracy: 96.875%\n",
      " | Epoch 2 | Loss: 0.0088355652987957 | Accuracy: 100.0%\n",
      " | Epoch 2 | Loss: 0.009280805476009846 | Accuracy: 100.0%\n",
      " | Epoch 2 | Loss: 0.00717546883970499 | Accuracy: 100.0%\n",
      " | Epoch 2 | Loss: 0.22699213027954102 | Accuracy: 96.875%\n",
      " | Epoch 2 | Loss: 0.00832369178533554 | Accuracy: 100.0%\n",
      " | Epoch 2 | Loss: 0.007384020369499922 | Accuracy: 100.0%\n",
      " | Epoch 2 | Loss: 0.009153368882834911 | Accuracy: 100.0%\n",
      " | Epoch 2 | Loss: 0.22084344923496246 | Accuracy: 96.875%\n",
      " | Epoch 2 | Loss: 0.24657833576202393 | Accuracy: 96.875%\n",
      " | Epoch 2 | Loss: 0.18830685317516327 | Accuracy: 96.875%\n",
      " | Epoch 2 | Loss: 0.007742489222437143 | Accuracy: 100.0%\n",
      " | Epoch 2 | Loss: 0.009929743595421314 | Accuracy: 100.0%\n",
      " | Epoch 2 | Loss: 0.009557328186929226 | Accuracy: 100.0%\n",
      " | Epoch 2 | Loss: 0.009396574459969997 | Accuracy: 100.0%\n",
      " | Epoch 2 | Loss: 0.009762992151081562 | Accuracy: 100.0%\n",
      " | Epoch 2 | Loss: 0.01126506645232439 | Accuracy: 100.0%\n",
      " | Epoch 2 | Loss: 0.008313328959047794 | Accuracy: 100.0%\n",
      " | Epoch 2 | Loss: 0.008626365102827549 | Accuracy: 100.0%\n",
      " | Epoch 2 | Loss: 0.011037728749215603 | Accuracy: 100.0%\n",
      " | Epoch 2 | Loss: 0.009327223524451256 | Accuracy: 100.0%\n",
      " | Epoch 2 | Loss: 0.00973584409803152 | Accuracy: 100.0%\n",
      " | Epoch 2 | Loss: 0.009245617315173149 | Accuracy: 100.0%\n",
      " | Epoch 2 | Loss: 0.01166016049683094 | Accuracy: 100.0%\n",
      " | Epoch 2 | Loss: 0.010886060073971748 | Accuracy: 100.0%\n"
     ]
    },
    {
     "name": "stderr",
     "output_type": "stream",
     "text": [
      "Epoch 2:  16%|████▌                       | 242/1501 [00:00<00:03, 385.38batch/s, accuracy=100.0%, loss=0.00987]"
     ]
    },
    {
     "name": "stdout",
     "output_type": "stream",
     "text": [
      " | Epoch 2 | Loss: 0.24470290541648865 | Accuracy: 96.875%\n",
      " | Epoch 2 | Loss: 0.19867867231369019 | Accuracy: 96.875%\n",
      " | Epoch 2 | Loss: 0.008959505707025528 | Accuracy: 100.0%\n",
      " | Epoch 2 | Loss: 0.009498379193246365 | Accuracy: 100.0%\n",
      " | Epoch 2 | Loss: 0.008823949843645096 | Accuracy: 100.0%\n",
      " | Epoch 2 | Loss: 0.010001280345022678 | Accuracy: 100.0%\n",
      " | Epoch 2 | Loss: 0.008758852258324623 | Accuracy: 100.0%\n",
      " | Epoch 2 | Loss: 0.19383251667022705 | Accuracy: 96.875%\n",
      " | Epoch 2 | Loss: 0.00879168976098299 | Accuracy: 100.0%\n",
      " | Epoch 2 | Loss: 0.010516257956624031 | Accuracy: 100.0%\n",
      " | Epoch 2 | Loss: 0.009966001845896244 | Accuracy: 100.0%\n",
      " | Epoch 2 | Loss: 0.0101775536313653 | Accuracy: 100.0%\n",
      " | Epoch 2 | Loss: 0.009274917654693127 | Accuracy: 100.0%\n",
      " | Epoch 2 | Loss: 0.011088129132986069 | Accuracy: 100.0%\n",
      " | Epoch 2 | Loss: 0.2707209289073944 | Accuracy: 96.875%\n",
      " | Epoch 2 | Loss: 0.008438803255558014 | Accuracy: 100.0%\n",
      " | Epoch 2 | Loss: 0.00894853100180626 | Accuracy: 100.0%\n",
      " | Epoch 2 | Loss: 0.007977842353284359 | Accuracy: 100.0%\n",
      " | Epoch 2 | Loss: 0.00821683555841446 | Accuracy: 100.0%\n",
      " | Epoch 2 | Loss: 0.2508450150489807 | Accuracy: 96.875%\n",
      " | Epoch 2 | Loss: 0.010577554814517498 | Accuracy: 100.0%\n",
      " | Epoch 2 | Loss: 0.008916852995753288 | Accuracy: 100.0%\n",
      " | Epoch 2 | Loss: 0.010084627196192741 | Accuracy: 100.0%\n",
      " | Epoch 2 | Loss: 0.2863168716430664 | Accuracy: 96.875%\n",
      " | Epoch 2 | Loss: 0.010559888556599617 | Accuracy: 100.0%\n",
      " | Epoch 2 | Loss: 0.013977613300085068 | Accuracy: 100.0%\n",
      " | Epoch 2 | Loss: 0.16968242824077606 | Accuracy: 96.875%\n",
      " | Epoch 2 | Loss: 0.010418604128062725 | Accuracy: 100.0%\n",
      " | Epoch 2 | Loss: 0.009772943332791328 | Accuracy: 100.0%\n",
      " | Epoch 2 | Loss: 0.010107249021530151 | Accuracy: 100.0%\n",
      " | Epoch 2 | Loss: 0.007494490128010511 | Accuracy: 100.0%\n",
      " | Epoch 2 | Loss: 0.009557198733091354 | Accuracy: 100.0%\n",
      " | Epoch 2 | Loss: 0.011693674139678478 | Accuracy: 100.0%\n",
      " | Epoch 2 | Loss: 0.012605142779648304 | Accuracy: 100.0%\n",
      " | Epoch 2 | Loss: 0.20732136070728302 | Accuracy: 96.875%\n",
      " | Epoch 2 | Loss: 0.0092965392395854 | Accuracy: 100.0%\n",
      " | Epoch 2 | Loss: 0.010461702011525631 | Accuracy: 100.0%\n",
      " | Epoch 2 | Loss: 0.21023529767990112 | Accuracy: 96.875%\n",
      " | Epoch 2 | Loss: 0.00956664327532053 | Accuracy: 100.0%\n",
      " | Epoch 2 | Loss: 0.009778612293303013 | Accuracy: 100.0%\n",
      " | Epoch 2 | Loss: 0.010059396736323833 | Accuracy: 100.0%\n",
      " | Epoch 2 | Loss: 0.009070788510143757 | Accuracy: 100.0%\n",
      " | Epoch 2 | Loss: 0.0093509741127491 | Accuracy: 100.0%\n",
      " | Epoch 2 | Loss: 0.3165018856525421 | Accuracy: 96.875%\n",
      " | Epoch 2 | Loss: 0.010209095664322376 | Accuracy: 100.0%\n",
      " | Epoch 2 | Loss: 0.010728751309216022 | Accuracy: 100.0%\n",
      " | Epoch 2 | Loss: 0.27071383595466614 | Accuracy: 96.875%\n",
      " | Epoch 2 | Loss: 0.008862461894750595 | Accuracy: 100.0%\n",
      " | Epoch 2 | Loss: 0.009791171178221703 | Accuracy: 100.0%\n",
      " | Epoch 2 | Loss: 0.008818996138870716 | Accuracy: 100.0%\n",
      " | Epoch 2 | Loss: 0.00914860051125288 | Accuracy: 100.0%\n",
      " | Epoch 2 | Loss: 0.008642377331852913 | Accuracy: 100.0%\n",
      " | Epoch 2 | Loss: 0.010080919601023197 | Accuracy: 100.0%\n",
      " | Epoch 2 | Loss: 0.008700365200638771 | Accuracy: 100.0%\n",
      " | Epoch 2 | Loss: 0.00982408132404089 | Accuracy: 100.0%\n",
      " | Epoch 2 | Loss: 0.18630653619766235 | Accuracy: 96.875%\n",
      " | Epoch 2 | Loss: 0.00877224188297987 | Accuracy: 100.0%\n",
      " | Epoch 2 | Loss: 0.009415083564817905 | Accuracy: 100.0%\n",
      " | Epoch 2 | Loss: 0.007925362326204777 | Accuracy: 100.0%\n",
      " | Epoch 2 | Loss: 0.009126531891524792 | Accuracy: 100.0%\n",
      " | Epoch 2 | Loss: 0.009897195734083652 | Accuracy: 100.0%\n",
      " | Epoch 2 | Loss: 0.010318763554096222 | Accuracy: 100.0%\n",
      " | Epoch 2 | Loss: 0.008383247070014477 | Accuracy: 100.0%\n",
      " | Epoch 2 | Loss: 0.008764093741774559 | Accuracy: 100.0%\n",
      " | Epoch 2 | Loss: 0.008316639810800552 | Accuracy: 100.0%\n",
      " | Epoch 2 | Loss: 0.00974169559776783 | Accuracy: 100.0%\n",
      " | Epoch 2 | Loss: 0.009870941750705242 | Accuracy: 100.0%\n"
     ]
    },
    {
     "name": "stderr",
     "output_type": "stream",
     "text": [
      "Epoch 2:  23%|██████▌                      | 338/1501 [00:00<00:02, 413.22batch/s, accuracy=100.0%, loss=0.0111]"
     ]
    },
    {
     "name": "stdout",
     "output_type": "stream",
     "text": [
      " | Epoch 2 | Loss: 0.009214106015861034 | Accuracy: 100.0%\n",
      " | Epoch 2 | Loss: 0.008476831018924713 | Accuracy: 100.0%\n",
      " | Epoch 2 | Loss: 0.009574564173817635 | Accuracy: 100.0%\n",
      " | Epoch 2 | Loss: 0.009547349065542221 | Accuracy: 100.0%\n",
      " | Epoch 2 | Loss: 0.008812006562948227 | Accuracy: 100.0%\n",
      " | Epoch 2 | Loss: 0.01044227834790945 | Accuracy: 100.0%\n",
      " | Epoch 2 | Loss: 0.008726668544113636 | Accuracy: 100.0%\n",
      " | Epoch 2 | Loss: 0.17269034683704376 | Accuracy: 96.875%\n",
      " | Epoch 2 | Loss: 0.009019003249704838 | Accuracy: 100.0%\n",
      " | Epoch 2 | Loss: 0.007667839992791414 | Accuracy: 100.0%\n",
      " | Epoch 2 | Loss: 0.00861325766891241 | Accuracy: 100.0%\n",
      " | Epoch 2 | Loss: 0.011098658666014671 | Accuracy: 100.0%\n",
      " | Epoch 2 | Loss: 0.009284759871661663 | Accuracy: 100.0%\n",
      " | Epoch 2 | Loss: 0.17718550562858582 | Accuracy: 96.875%\n",
      " | Epoch 2 | Loss: 0.008498460054397583 | Accuracy: 100.0%\n",
      " | Epoch 2 | Loss: 0.00907647144049406 | Accuracy: 100.0%\n",
      " | Epoch 2 | Loss: 0.0074272919446229935 | Accuracy: 100.0%\n",
      " | Epoch 2 | Loss: 0.011155379936099052 | Accuracy: 100.0%\n",
      " | Epoch 2 | Loss: 0.008748805150389671 | Accuracy: 100.0%\n",
      " | Epoch 2 | Loss: 0.00878126174211502 | Accuracy: 100.0%\n",
      " | Epoch 2 | Loss: 0.009417800232768059 | Accuracy: 100.0%\n",
      " | Epoch 2 | Loss: 0.008052941411733627 | Accuracy: 100.0%\n",
      " | Epoch 2 | Loss: 0.007241496350616217 | Accuracy: 100.0%\n",
      " | Epoch 2 | Loss: 0.00828844029456377 | Accuracy: 100.0%\n",
      " | Epoch 2 | Loss: 0.010071346536278725 | Accuracy: 100.0%\n",
      " | Epoch 2 | Loss: 0.15994419157505035 | Accuracy: 96.875%\n",
      " | Epoch 2 | Loss: 0.00879499688744545 | Accuracy: 100.0%\n",
      " | Epoch 2 | Loss: 0.008112411014735699 | Accuracy: 100.0%\n",
      " | Epoch 2 | Loss: 0.008095063269138336 | Accuracy: 100.0%\n",
      " | Epoch 2 | Loss: 0.2619093656539917 | Accuracy: 96.875%\n",
      " | Epoch 2 | Loss: 0.007651959080249071 | Accuracy: 100.0%\n",
      " | Epoch 2 | Loss: 0.011298644356429577 | Accuracy: 100.0%\n",
      " | Epoch 2 | Loss: 0.007960177958011627 | Accuracy: 100.0%\n",
      " | Epoch 2 | Loss: 0.009732563979923725 | Accuracy: 100.0%\n",
      " | Epoch 2 | Loss: 0.01033172570168972 | Accuracy: 100.0%\n",
      " | Epoch 2 | Loss: 0.010594993829727173 | Accuracy: 100.0%\n",
      " | Epoch 2 | Loss: 0.008958988822996616 | Accuracy: 100.0%\n",
      " | Epoch 2 | Loss: 0.5670062899589539 | Accuracy: 93.75%\n",
      " | Epoch 2 | Loss: 0.1467449963092804 | Accuracy: 96.875%\n",
      " | Epoch 2 | Loss: 0.00779546145349741 | Accuracy: 100.0%\n",
      " | Epoch 2 | Loss: 0.007111838553100824 | Accuracy: 100.0%\n",
      " | Epoch 2 | Loss: 0.008593728765845299 | Accuracy: 100.0%\n",
      " | Epoch 2 | Loss: 0.008568068966269493 | Accuracy: 100.0%\n",
      " | Epoch 2 | Loss: 0.009104517288506031 | Accuracy: 100.0%\n",
      " | Epoch 2 | Loss: 0.2873700261116028 | Accuracy: 96.875%\n",
      " | Epoch 2 | Loss: 0.00871746614575386 | Accuracy: 100.0%\n",
      " | Epoch 2 | Loss: 0.009885136038064957 | Accuracy: 100.0%\n",
      " | Epoch 2 | Loss: 0.34647101163864136 | Accuracy: 93.75%\n",
      " | Epoch 2 | Loss: 0.010133537463843822 | Accuracy: 100.0%\n",
      " | Epoch 2 | Loss: 0.009521943517029285 | Accuracy: 100.0%\n",
      " | Epoch 2 | Loss: 0.010623661801218987 | Accuracy: 100.0%\n",
      " | Epoch 2 | Loss: 0.011304185725748539 | Accuracy: 100.0%\n",
      " | Epoch 2 | Loss: 0.013162542134523392 | Accuracy: 100.0%\n",
      " | Epoch 2 | Loss: 0.009085273370146751 | Accuracy: 100.0%\n",
      " | Epoch 2 | Loss: 0.011699402704834938 | Accuracy: 100.0%\n",
      " | Epoch 2 | Loss: 0.009875044226646423 | Accuracy: 100.0%\n",
      " | Epoch 2 | Loss: 0.00974823348224163 | Accuracy: 100.0%\n",
      " | Epoch 2 | Loss: 0.22950106859207153 | Accuracy: 96.875%\n",
      " | Epoch 2 | Loss: 0.009513103403151035 | Accuracy: 100.0%\n",
      " | Epoch 2 | Loss: 0.006676889955997467 | Accuracy: 100.0%\n",
      " | Epoch 2 | Loss: 0.009008973836898804 | Accuracy: 100.0%\n",
      " | Epoch 2 | Loss: 0.014621603302657604 | Accuracy: 100.0%\n",
      " | Epoch 2 | Loss: 0.2664075791835785 | Accuracy: 96.875%\n",
      " | Epoch 2 | Loss: 0.009267766959965229 | Accuracy: 100.0%\n",
      " | Epoch 2 | Loss: 0.007992628030478954 | Accuracy: 100.0%\n",
      " | Epoch 2 | Loss: 0.24513350427150726 | Accuracy: 96.875%\n",
      " | Epoch 2 | Loss: 0.0077384961768984795 | Accuracy: 100.0%\n",
      " | Epoch 2 | Loss: 0.010371368378400803 | Accuracy: 100.0%\n",
      " | Epoch 2 | Loss: 0.008761318400502205 | Accuracy: 100.0%\n",
      " | Epoch 2 | Loss: 0.011894140392541885 | Accuracy: 100.0%\n",
      " | Epoch 2 | Loss: 0.009402004070580006 | Accuracy: 100.0%\n",
      " | Epoch 2 | Loss: 0.008962463587522507 | Accuracy: 100.0%\n",
      " | Epoch 2 | Loss: 0.009809978306293488 | Accuracy: 100.0%\n",
      " | Epoch 2 | Loss: 0.20123469829559326 | Accuracy: 96.875%\n",
      " | Epoch 2 | Loss: 0.1713087409734726 | Accuracy: 96.875%\n",
      " | Epoch 2 | Loss: 0.009063414297997952 | Accuracy: 100.0%\n",
      " | Epoch 2 | Loss: 0.008934127166867256 | Accuracy: 100.0%\n",
      " | Epoch 2 | Loss: 0.008722205646336079 | Accuracy: 100.0%\n",
      " | Epoch 2 | Loss: 0.2899628281593323 | Accuracy: 96.875%\n",
      " | Epoch 2 | Loss: 0.008792179636657238 | Accuracy: 100.0%\n",
      " | Epoch 2 | Loss: 0.01093288604170084 | Accuracy: 100.0%\n",
      " | Epoch 2 | Loss: 0.007418683264404535 | Accuracy: 100.0%\n",
      " | Epoch 2 | Loss: 0.009074692614376545 | Accuracy: 100.0%\n",
      " | Epoch 2 | Loss: 0.17007926106452942 | Accuracy: 96.875%\n",
      " | Epoch 2 | Loss: 0.009904526174068451 | Accuracy: 100.0%\n",
      " | Epoch 2 | Loss: 0.012318204157054424 | Accuracy: 100.0%\n",
      " | Epoch 2 | Loss: 0.010084648616611958 | Accuracy: 100.0%\n",
      " | Epoch 2 | Loss: 0.3093072175979614 | Accuracy: 96.875%\n",
      " | Epoch 2 | Loss: 0.01201853808015585 | Accuracy: 100.0%\n",
      " | Epoch 2 | Loss: 0.012798096053302288 | Accuracy: 100.0%\n",
      " | Epoch 2 | Loss: 0.011914373375475407 | Accuracy: 100.0%\n",
      " | Epoch 2 | Loss: 0.2759036421775818 | Accuracy: 96.875%\n",
      " | Epoch 2 | Loss: 0.011655152775347233 | Accuracy: 100.0%\n",
      " | Epoch 2 | Loss: 0.011312014423310757 | Accuracy: 100.0%\n",
      " | Epoch 2 | Loss: 0.009837678633630276 | Accuracy: 100.0%\n",
      " | Epoch 2 | Loss: 0.011388625018298626 | Accuracy: 100.0%\n",
      " | Epoch 2 | Loss: 0.011122169904410839 | Accuracy: 100.0%\n"
     ]
    },
    {
     "name": "stderr",
     "output_type": "stream",
     "text": [
      "Epoch 2:  31%|████████▉                    | 460/1501 [00:01<00:02, 507.97batch/s, accuracy=100.0%, loss=0.0114]"
     ]
    },
    {
     "name": "stdout",
     "output_type": "stream",
     "text": [
      " | Epoch 2 | Loss: 0.22484168410301208 | Accuracy: 96.875%\n",
      " | Epoch 2 | Loss: 0.009190433658659458 | Accuracy: 100.0%\n",
      " | Epoch 2 | Loss: 0.010102709755301476 | Accuracy: 100.0%\n",
      " | Epoch 2 | Loss: 0.011420387774705887 | Accuracy: 100.0%\n",
      " | Epoch 2 | Loss: 0.010088656097650528 | Accuracy: 100.0%\n",
      " | Epoch 2 | Loss: 0.19016939401626587 | Accuracy: 96.875%\n",
      " | Epoch 2 | Loss: 0.16985386610031128 | Accuracy: 96.875%\n",
      " | Epoch 2 | Loss: 0.010037973523139954 | Accuracy: 100.0%\n",
      " | Epoch 2 | Loss: 0.01102982647716999 | Accuracy: 100.0%\n",
      " | Epoch 2 | Loss: 0.01028346922248602 | Accuracy: 100.0%\n",
      " | Epoch 2 | Loss: 0.010853236541152 | Accuracy: 100.0%\n",
      " | Epoch 2 | Loss: 0.010010131634771824 | Accuracy: 100.0%\n",
      " | Epoch 2 | Loss: 0.010637281462550163 | Accuracy: 100.0%\n",
      " | Epoch 2 | Loss: 0.011785159818828106 | Accuracy: 100.0%\n",
      " | Epoch 2 | Loss: 0.2603052258491516 | Accuracy: 96.875%\n",
      " | Epoch 2 | Loss: 0.00929301418364048 | Accuracy: 100.0%\n",
      " | Epoch 2 | Loss: 0.010140951722860336 | Accuracy: 100.0%\n",
      " | Epoch 2 | Loss: 0.011429152451455593 | Accuracy: 100.0%\n",
      " | Epoch 2 | Loss: 0.011261801235377789 | Accuracy: 100.0%\n",
      " | Epoch 2 | Loss: 0.00960357952862978 | Accuracy: 100.0%\n",
      " | Epoch 2 | Loss: 0.009684744291007519 | Accuracy: 100.0%\n",
      " | Epoch 2 | Loss: 0.008680524304509163 | Accuracy: 100.0%\n",
      " | Epoch 2 | Loss: 0.1923937350511551 | Accuracy: 96.875%\n",
      " | Epoch 2 | Loss: 0.010826327838003635 | Accuracy: 100.0%\n",
      " | Epoch 2 | Loss: 0.010345656424760818 | Accuracy: 100.0%\n",
      " | Epoch 2 | Loss: 0.010756022296845913 | Accuracy: 100.0%\n",
      " | Epoch 2 | Loss: 0.009082487784326077 | Accuracy: 100.0%\n",
      " | Epoch 2 | Loss: 0.17574653029441833 | Accuracy: 96.875%\n",
      " | Epoch 2 | Loss: 0.010611570440232754 | Accuracy: 100.0%\n",
      " | Epoch 2 | Loss: 0.010035617277026176 | Accuracy: 100.0%\n",
      " | Epoch 2 | Loss: 0.010047709569334984 | Accuracy: 100.0%\n",
      " | Epoch 2 | Loss: 0.00922200083732605 | Accuracy: 100.0%\n",
      " | Epoch 2 | Loss: 0.009669901803135872 | Accuracy: 100.0%\n",
      " | Epoch 2 | Loss: 0.012667679227888584 | Accuracy: 100.0%\n",
      " | Epoch 2 | Loss: 0.008991139940917492 | Accuracy: 100.0%\n",
      " | Epoch 2 | Loss: 0.009398180991411209 | Accuracy: 100.0%\n",
      " | Epoch 2 | Loss: 0.011007736437022686 | Accuracy: 100.0%\n",
      " | Epoch 2 | Loss: 0.010629150085151196 | Accuracy: 100.0%\n",
      " | Epoch 2 | Loss: 0.010638142004609108 | Accuracy: 100.0%\n",
      " | Epoch 2 | Loss: 0.011189745739102364 | Accuracy: 100.0%\n",
      " | Epoch 2 | Loss: 0.017030535265803337 | Accuracy: 100.0%\n",
      " | Epoch 2 | Loss: 0.010056949220597744 | Accuracy: 100.0%\n",
      " | Epoch 2 | Loss: 0.010085498914122581 | Accuracy: 100.0%\n",
      " | Epoch 2 | Loss: 0.2993771731853485 | Accuracy: 96.875%\n",
      " | Epoch 2 | Loss: 0.011537660844624043 | Accuracy: 100.0%\n",
      " | Epoch 2 | Loss: 0.008836712688207626 | Accuracy: 100.0%\n",
      " | Epoch 2 | Loss: 0.008074081502854824 | Accuracy: 100.0%\n",
      " | Epoch 2 | Loss: 0.008587457239627838 | Accuracy: 100.0%\n",
      " | Epoch 2 | Loss: 0.008748309686779976 | Accuracy: 100.0%\n",
      " | Epoch 2 | Loss: 0.011758433654904366 | Accuracy: 100.0%\n",
      " | Epoch 2 | Loss: 0.009096409194171429 | Accuracy: 100.0%\n",
      " | Epoch 2 | Loss: 0.008412955328822136 | Accuracy: 100.0%\n",
      " | Epoch 2 | Loss: 0.008917314931750298 | Accuracy: 100.0%\n",
      " | Epoch 2 | Loss: 0.008141757920384407 | Accuracy: 100.0%\n",
      " | Epoch 2 | Loss: 0.17101335525512695 | Accuracy: 96.875%\n",
      " | Epoch 2 | Loss: 0.008163235150277615 | Accuracy: 100.0%\n",
      " | Epoch 2 | Loss: 0.28318074345588684 | Accuracy: 96.875%\n",
      " | Epoch 2 | Loss: 0.008037224411964417 | Accuracy: 100.0%\n",
      " | Epoch 2 | Loss: 0.009702170267701149 | Accuracy: 100.0%\n",
      " | Epoch 2 | Loss: 0.2229229211807251 | Accuracy: 96.875%\n",
      " | Epoch 2 | Loss: 0.010013183578848839 | Accuracy: 100.0%\n",
      " | Epoch 2 | Loss: 0.20251993834972382 | Accuracy: 96.875%\n",
      " | Epoch 2 | Loss: 0.009316117502748966 | Accuracy: 100.0%\n",
      " | Epoch 2 | Loss: 0.01030020322650671 | Accuracy: 100.0%\n",
      " | Epoch 2 | Loss: 0.01310877874493599 | Accuracy: 100.0%\n",
      " | Epoch 2 | Loss: 0.009340188466012478 | Accuracy: 100.0%\n",
      " | Epoch 2 | Loss: 0.011870876885950565 | Accuracy: 100.0%\n",
      " | Epoch 2 | Loss: 0.011716263368725777 | Accuracy: 100.0%\n",
      " | Epoch 2 | Loss: 0.01267129648476839 | Accuracy: 100.0%\n",
      " | Epoch 2 | Loss: 0.29144546389579773 | Accuracy: 96.875%\n",
      " | Epoch 2 | Loss: 0.010671769268810749 | Accuracy: 100.0%\n",
      " | Epoch 2 | Loss: 0.008718892000615597 | Accuracy: 100.0%\n",
      " | Epoch 2 | Loss: 0.009579106234014034 | Accuracy: 100.0%\n",
      " | Epoch 2 | Loss: 0.010875373147428036 | Accuracy: 100.0%\n",
      " | Epoch 2 | Loss: 0.009054039604961872 | Accuracy: 100.0%\n",
      " | Epoch 2 | Loss: 0.00912401732057333 | Accuracy: 100.0%\n",
      " | Epoch 2 | Loss: 0.21878668665885925 | Accuracy: 96.875%\n",
      " | Epoch 2 | Loss: 0.008558913134038448 | Accuracy: 100.0%\n",
      " | Epoch 2 | Loss: 0.010256216861307621 | Accuracy: 100.0%\n",
      " | Epoch 2 | Loss: 0.24696949124336243 | Accuracy: 96.875%\n",
      " | Epoch 2 | Loss: 0.40030911564826965 | Accuracy: 93.75%\n",
      " | Epoch 2 | Loss: 0.009021950885653496 | Accuracy: 100.0%\n",
      " | Epoch 2 | Loss: 0.00789452251046896 | Accuracy: 100.0%\n",
      " | Epoch 2 | Loss: 0.011533754877746105 | Accuracy: 100.0%\n",
      " | Epoch 2 | Loss: 0.011394836008548737 | Accuracy: 100.0%\n",
      " | Epoch 2 | Loss: 0.010446562431752682 | Accuracy: 100.0%\n",
      " | Epoch 2 | Loss: 0.2921047508716583 | Accuracy: 96.875%\n",
      " | Epoch 2 | Loss: 0.008762991987168789 | Accuracy: 100.0%\n",
      " | Epoch 2 | Loss: 0.009466353803873062 | Accuracy: 100.0%\n",
      " | Epoch 2 | Loss: 0.010432813316583633 | Accuracy: 100.0%\n",
      " | Epoch 2 | Loss: 0.008972898125648499 | Accuracy: 100.0%\n",
      " | Epoch 2 | Loss: 0.010512652806937695 | Accuracy: 100.0%\n",
      " | Epoch 2 | Loss: 0.24090322852134705 | Accuracy: 96.875%\n",
      " | Epoch 2 | Loss: 0.18371234834194183 | Accuracy: 96.875%\n",
      " | Epoch 2 | Loss: 0.2515663206577301 | Accuracy: 96.875%\n",
      " | Epoch 2 | Loss: 0.01110500656068325 | Accuracy: 100.0%\n",
      " | Epoch 2 | Loss: 0.2944846749305725 | Accuracy: 96.875%\n",
      " | Epoch 2 | Loss: 0.012308004312217236 | Accuracy: 100.0%\n",
      " | Epoch 2 | Loss: 0.19863414764404297 | Accuracy: 96.875%\n",
      " | Epoch 2 | Loss: 0.01432708464562893 | Accuracy: 100.0%\n",
      " | Epoch 2 | Loss: 0.010977598838508129 | Accuracy: 100.0%\n",
      " | Epoch 2 | Loss: 0.2331884801387787 | Accuracy: 96.875%\n",
      " | Epoch 2 | Loss: 0.010919366031885147 | Accuracy: 100.0%\n",
      " | Epoch 2 | Loss: 0.011378863826394081 | Accuracy: 100.0%\n",
      " | Epoch 2 | Loss: 0.011884518899023533 | Accuracy: 100.0%\n",
      " | Epoch 2 | Loss: 0.17828400433063507 | Accuracy: 96.875%\n",
      " | Epoch 2 | Loss: 0.011119111441075802 | Accuracy: 100.0%\n",
      " | Epoch 2 | Loss: 0.1703142672777176 | Accuracy: 96.875%\n",
      " | Epoch 2 | Loss: 0.014171685092151165 | Accuracy: 100.0%\n",
      " | Epoch 2 | Loss: 0.011181334964931011 | Accuracy: 100.0%\n",
      " | Epoch 2 | Loss: 0.011259541846811771 | Accuracy: 100.0%\n",
      " | Epoch 2 | Loss: 0.012870963662862778 | Accuracy: 100.0%\n",
      " | Epoch 2 | Loss: 0.011165514588356018 | Accuracy: 100.0%\n",
      " | Epoch 2 | Loss: 0.0124167175963521 | Accuracy: 100.0%\n",
      " | Epoch 2 | Loss: 0.012240543961524963 | Accuracy: 100.0%\n",
      " | Epoch 2 | Loss: 0.011516217142343521 | Accuracy: 100.0%\n",
      " | Epoch 2 | Loss: 0.2809898853302002 | Accuracy: 96.875%\n",
      " | Epoch 2 | Loss: 0.010977665893733501 | Accuracy: 100.0%\n",
      " | Epoch 2 | Loss: 0.011056400835514069 | Accuracy: 100.0%\n",
      " | Epoch 2 | Loss: 0.012469514273107052 | Accuracy: 100.0%\n",
      " | Epoch 2 | Loss: 0.011981524527072906 | Accuracy: 100.0%\n"
     ]
    },
    {
     "name": "stderr",
     "output_type": "stream",
     "text": [
      "Epoch 2:  39%|██████████▊                 | 579/1501 [00:01<00:01, 549.85batch/s, accuracy=100.0%, loss=0.00676]"
     ]
    },
    {
     "name": "stdout",
     "output_type": "stream",
     "text": [
      " | Epoch 2 | Loss: 0.011367094703018665 | Accuracy: 100.0%\n",
      " | Epoch 2 | Loss: 0.011006951332092285 | Accuracy: 100.0%\n",
      " | Epoch 2 | Loss: 0.010684758424758911 | Accuracy: 100.0%\n",
      " | Epoch 2 | Loss: 0.22609126567840576 | Accuracy: 96.875%\n",
      " | Epoch 2 | Loss: 0.01346584502607584 | Accuracy: 100.0%\n",
      " | Epoch 2 | Loss: 0.012004535645246506 | Accuracy: 100.0%\n",
      " | Epoch 2 | Loss: 0.010890266858041286 | Accuracy: 100.0%\n",
      " | Epoch 2 | Loss: 0.20742541551589966 | Accuracy: 96.875%\n",
      " | Epoch 2 | Loss: 0.012219869531691074 | Accuracy: 100.0%\n",
      " | Epoch 2 | Loss: 0.011621852405369282 | Accuracy: 100.0%\n",
      " | Epoch 2 | Loss: 0.011760248802602291 | Accuracy: 100.0%\n",
      " | Epoch 2 | Loss: 0.011633249931037426 | Accuracy: 100.0%\n",
      " | Epoch 2 | Loss: 0.011058099567890167 | Accuracy: 100.0%\n",
      " | Epoch 2 | Loss: 0.010420700535178185 | Accuracy: 100.0%\n",
      " | Epoch 2 | Loss: 0.011339420452713966 | Accuracy: 100.0%\n",
      " | Epoch 2 | Loss: 0.17036359012126923 | Accuracy: 96.875%\n",
      " | Epoch 2 | Loss: 0.010905695147812366 | Accuracy: 100.0%\n",
      " | Epoch 2 | Loss: 0.013047815300524235 | Accuracy: 100.0%\n",
      " | Epoch 2 | Loss: 0.01165005099028349 | Accuracy: 100.0%\n",
      " | Epoch 2 | Loss: 0.011723719537258148 | Accuracy: 100.0%\n",
      " | Epoch 2 | Loss: 0.009558536112308502 | Accuracy: 100.0%\n",
      " | Epoch 2 | Loss: 0.010370995849370956 | Accuracy: 100.0%\n",
      " | Epoch 2 | Loss: 0.011960998177528381 | Accuracy: 100.0%\n",
      " | Epoch 2 | Loss: 0.011631853878498077 | Accuracy: 100.0%\n",
      " | Epoch 2 | Loss: 0.01116948015987873 | Accuracy: 100.0%\n",
      " | Epoch 2 | Loss: 0.011876189149916172 | Accuracy: 100.0%\n",
      " | Epoch 2 | Loss: 0.010407507419586182 | Accuracy: 100.0%\n",
      " | Epoch 2 | Loss: 0.012650109827518463 | Accuracy: 100.0%\n",
      " | Epoch 2 | Loss: 0.010098978877067566 | Accuracy: 100.0%\n",
      " | Epoch 2 | Loss: 0.011105447076261044 | Accuracy: 100.0%\n",
      " | Epoch 2 | Loss: 0.010657750070095062 | Accuracy: 100.0%\n",
      " | Epoch 2 | Loss: 0.008976605720818043 | Accuracy: 100.0%\n",
      " | Epoch 2 | Loss: 0.009416685439646244 | Accuracy: 100.0%\n",
      " | Epoch 2 | Loss: 0.010703842155635357 | Accuracy: 100.0%\n",
      " | Epoch 2 | Loss: 0.00891320314258337 | Accuracy: 100.0%\n",
      " | Epoch 2 | Loss: 0.19837936758995056 | Accuracy: 96.875%\n",
      " | Epoch 2 | Loss: 0.16737335920333862 | Accuracy: 96.875%\n",
      " | Epoch 2 | Loss: 0.0103852404281497 | Accuracy: 100.0%\n",
      " | Epoch 2 | Loss: 0.009336581453680992 | Accuracy: 100.0%\n",
      " | Epoch 2 | Loss: 0.009775918908417225 | Accuracy: 100.0%\n",
      " | Epoch 2 | Loss: 0.25745826959609985 | Accuracy: 96.875%\n",
      " | Epoch 2 | Loss: 0.009580688551068306 | Accuracy: 100.0%\n",
      " | Epoch 2 | Loss: 0.2821688652038574 | Accuracy: 96.875%\n",
      " | Epoch 2 | Loss: 0.008692643605172634 | Accuracy: 100.0%\n",
      " | Epoch 2 | Loss: 0.00985949020832777 | Accuracy: 100.0%\n",
      " | Epoch 2 | Loss: 0.010296818800270557 | Accuracy: 100.0%\n",
      " | Epoch 2 | Loss: 0.18145634233951569 | Accuracy: 96.875%\n",
      " | Epoch 2 | Loss: 0.009865272790193558 | Accuracy: 100.0%\n",
      " | Epoch 2 | Loss: 0.01128971204161644 | Accuracy: 100.0%\n",
      " | Epoch 2 | Loss: 0.22220967710018158 | Accuracy: 96.875%\n",
      " | Epoch 2 | Loss: 0.010883941315114498 | Accuracy: 100.0%\n",
      " | Epoch 2 | Loss: 0.1740160882472992 | Accuracy: 96.875%\n",
      " | Epoch 2 | Loss: 0.010031220503151417 | Accuracy: 100.0%\n",
      " | Epoch 2 | Loss: 0.009970896877348423 | Accuracy: 100.0%\n",
      " | Epoch 2 | Loss: 0.01027247216552496 | Accuracy: 100.0%\n",
      " | Epoch 2 | Loss: 0.009610280394554138 | Accuracy: 100.0%\n",
      " | Epoch 2 | Loss: 0.009774375706911087 | Accuracy: 100.0%\n",
      " | Epoch 2 | Loss: 0.012729433365166187 | Accuracy: 100.0%\n",
      " | Epoch 2 | Loss: 0.012060694396495819 | Accuracy: 100.0%\n",
      " | Epoch 2 | Loss: 0.013328763656318188 | Accuracy: 100.0%\n",
      " | Epoch 2 | Loss: 0.011025854386389256 | Accuracy: 100.0%\n",
      " | Epoch 2 | Loss: 0.011062503792345524 | Accuracy: 100.0%\n",
      " | Epoch 2 | Loss: 0.2665240168571472 | Accuracy: 96.875%\n",
      " | Epoch 2 | Loss: 0.012320561334490776 | Accuracy: 100.0%\n",
      " | Epoch 2 | Loss: 0.174325630068779 | Accuracy: 96.875%\n",
      " | Epoch 2 | Loss: 0.010658824816346169 | Accuracy: 100.0%\n",
      " | Epoch 2 | Loss: 0.01061937864869833 | Accuracy: 100.0%\n",
      " | Epoch 2 | Loss: 0.012352827936410904 | Accuracy: 100.0%\n",
      " | Epoch 2 | Loss: 0.16236010193824768 | Accuracy: 96.875%\n",
      " | Epoch 2 | Loss: 0.009918480180203915 | Accuracy: 100.0%\n",
      " | Epoch 2 | Loss: 0.011243580840528011 | Accuracy: 100.0%\n",
      " | Epoch 2 | Loss: 0.011402552016079426 | Accuracy: 100.0%\n",
      " | Epoch 2 | Loss: 0.009358382783830166 | Accuracy: 100.0%\n",
      " | Epoch 2 | Loss: 0.010934177786111832 | Accuracy: 100.0%\n",
      " | Epoch 2 | Loss: 0.009036693722009659 | Accuracy: 100.0%\n",
      " | Epoch 2 | Loss: 0.009619305841624737 | Accuracy: 100.0%\n",
      " | Epoch 2 | Loss: 0.01189944613724947 | Accuracy: 100.0%\n",
      " | Epoch 2 | Loss: 0.0091975387185812 | Accuracy: 100.0%\n",
      " | Epoch 2 | Loss: 0.010521115735173225 | Accuracy: 100.0%\n",
      " | Epoch 2 | Loss: 0.011689947918057442 | Accuracy: 100.0%\n",
      " | Epoch 2 | Loss: 0.011012551374733448 | Accuracy: 100.0%\n",
      " | Epoch 2 | Loss: 0.008887812495231628 | Accuracy: 100.0%\n",
      " | Epoch 2 | Loss: 0.010636193677783012 | Accuracy: 100.0%\n",
      " | Epoch 2 | Loss: 0.008602532558143139 | Accuracy: 100.0%\n",
      " | Epoch 2 | Loss: 0.18168462812900543 | Accuracy: 96.875%\n",
      " | Epoch 2 | Loss: 0.009580697864294052 | Accuracy: 100.0%\n",
      " | Epoch 2 | Loss: 0.010991684161126614 | Accuracy: 100.0%\n",
      " | Epoch 2 | Loss: 0.17167824506759644 | Accuracy: 96.875%\n",
      " | Epoch 2 | Loss: 0.011848553083837032 | Accuracy: 100.0%\n",
      " | Epoch 2 | Loss: 0.01130492240190506 | Accuracy: 100.0%\n",
      " | Epoch 2 | Loss: 0.009246792644262314 | Accuracy: 100.0%\n",
      " | Epoch 2 | Loss: 0.15471872687339783 | Accuracy: 96.875%\n",
      " | Epoch 2 | Loss: 0.3137049078941345 | Accuracy: 96.875%\n",
      " | Epoch 2 | Loss: 0.008384622633457184 | Accuracy: 100.0%\n",
      " | Epoch 2 | Loss: 0.22023750841617584 | Accuracy: 96.875%\n",
      " | Epoch 2 | Loss: 0.008727232925593853 | Accuracy: 100.0%\n",
      " | Epoch 2 | Loss: 0.009463687427341938 | Accuracy: 100.0%\n",
      " | Epoch 2 | Loss: 0.010032763704657555 | Accuracy: 100.0%\n",
      " | Epoch 2 | Loss: 0.011875953525304794 | Accuracy: 100.0%\n",
      " | Epoch 2 | Loss: 0.009055259637534618 | Accuracy: 100.0%\n",
      " | Epoch 2 | Loss: 0.009130071848630905 | Accuracy: 100.0%\n",
      " | Epoch 2 | Loss: 0.17593473196029663 | Accuracy: 96.875%\n",
      " | Epoch 2 | Loss: 0.011818798258900642 | Accuracy: 100.0%\n",
      " | Epoch 2 | Loss: 0.009407534264028072 | Accuracy: 100.0%\n",
      " | Epoch 2 | Loss: 0.010779669508337975 | Accuracy: 100.0%\n",
      " | Epoch 2 | Loss: 0.01147381030023098 | Accuracy: 100.0%\n",
      " | Epoch 2 | Loss: 0.010423580184578896 | Accuracy: 100.0%\n",
      " | Epoch 2 | Loss: 0.008560123853385448 | Accuracy: 100.0%\n",
      " | Epoch 2 | Loss: 0.011133008636534214 | Accuracy: 100.0%\n",
      " | Epoch 2 | Loss: 0.008607715368270874 | Accuracy: 100.0%\n",
      " | Epoch 2 | Loss: 0.009738550521433353 | Accuracy: 100.0%\n",
      " | Epoch 2 | Loss: 0.009213588200509548 | Accuracy: 100.0%\n",
      " | Epoch 2 | Loss: 0.008332336321473122 | Accuracy: 100.0%\n",
      " | Epoch 2 | Loss: 0.19658689200878143 | Accuracy: 96.875%\n",
      " | Epoch 2 | Loss: 0.009289156645536423 | Accuracy: 100.0%\n",
      " | Epoch 2 | Loss: 0.008495301008224487 | Accuracy: 100.0%\n",
      " | Epoch 2 | Loss: 0.009195822291076183 | Accuracy: 100.0%\n",
      " | Epoch 2 | Loss: 0.006762252654880285 | Accuracy: 100.0%\n"
     ]
    },
    {
     "name": "stderr",
     "output_type": "stream",
     "text": [
      "Epoch 2:  46%|████████████▉               | 694/1501 [00:01<00:01, 560.29batch/s, accuracy=100.0%, loss=0.00665]"
     ]
    },
    {
     "name": "stdout",
     "output_type": "stream",
     "text": [
      " | Epoch 2 | Loss: 0.008171471767127514 | Accuracy: 100.0%\n",
      " | Epoch 2 | Loss: 0.0081068379804492 | Accuracy: 100.0%\n",
      " | Epoch 2 | Loss: 0.008728829212486744 | Accuracy: 100.0%\n",
      " | Epoch 2 | Loss: 0.00834663212299347 | Accuracy: 100.0%\n",
      " | Epoch 2 | Loss: 0.007702746894210577 | Accuracy: 100.0%\n",
      " | Epoch 2 | Loss: 0.009301446378231049 | Accuracy: 100.0%\n",
      " | Epoch 2 | Loss: 0.009314985945820808 | Accuracy: 100.0%\n",
      " | Epoch 2 | Loss: 0.007908529601991177 | Accuracy: 100.0%\n",
      " | Epoch 2 | Loss: 0.0074827284552156925 | Accuracy: 100.0%\n",
      " | Epoch 2 | Loss: 0.008294171653687954 | Accuracy: 100.0%\n",
      " | Epoch 2 | Loss: 0.009302668273448944 | Accuracy: 100.0%\n",
      " | Epoch 2 | Loss: 0.008548768237233162 | Accuracy: 100.0%\n",
      " | Epoch 2 | Loss: 0.006825661286711693 | Accuracy: 100.0%\n",
      " | Epoch 2 | Loss: 0.009936971589922905 | Accuracy: 100.0%\n",
      " | Epoch 2 | Loss: 0.013666502200067043 | Accuracy: 100.0%\n",
      " | Epoch 2 | Loss: 0.008024894632399082 | Accuracy: 100.0%\n",
      " | Epoch 2 | Loss: 0.007209210656583309 | Accuracy: 100.0%\n",
      " | Epoch 2 | Loss: 0.008361535146832466 | Accuracy: 100.0%\n",
      " | Epoch 2 | Loss: 0.007130533456802368 | Accuracy: 100.0%\n",
      " | Epoch 2 | Loss: 0.23459553718566895 | Accuracy: 96.875%\n",
      " | Epoch 2 | Loss: 0.008580660447478294 | Accuracy: 100.0%\n",
      " | Epoch 2 | Loss: 0.008464541286230087 | Accuracy: 100.0%\n",
      " | Epoch 2 | Loss: 0.008198130875825882 | Accuracy: 100.0%\n",
      " | Epoch 2 | Loss: 0.0085464958101511 | Accuracy: 100.0%\n",
      " | Epoch 2 | Loss: 0.00810177531093359 | Accuracy: 100.0%\n",
      " | Epoch 2 | Loss: 0.009810533374547958 | Accuracy: 100.0%\n",
      " | Epoch 2 | Loss: 0.009679403156042099 | Accuracy: 100.0%\n",
      " | Epoch 2 | Loss: 0.1920023113489151 | Accuracy: 96.875%\n",
      " | Epoch 2 | Loss: 0.006368754431605339 | Accuracy: 100.0%\n",
      " | Epoch 2 | Loss: 0.008433951996266842 | Accuracy: 100.0%\n",
      " | Epoch 2 | Loss: 0.006668234243988991 | Accuracy: 100.0%\n",
      " | Epoch 2 | Loss: 0.008141985163092613 | Accuracy: 100.0%\n",
      " | Epoch 2 | Loss: 0.007919366471469402 | Accuracy: 100.0%\n",
      " | Epoch 2 | Loss: 0.007653263863176107 | Accuracy: 100.0%\n",
      " | Epoch 2 | Loss: 0.00889918114989996 | Accuracy: 100.0%\n",
      " | Epoch 2 | Loss: 0.0076553407125175 | Accuracy: 100.0%\n",
      " | Epoch 2 | Loss: 0.008267451077699661 | Accuracy: 100.0%\n",
      " | Epoch 2 | Loss: 0.011625755578279495 | Accuracy: 100.0%\n",
      " | Epoch 2 | Loss: 0.007995574735105038 | Accuracy: 100.0%\n",
      " | Epoch 2 | Loss: 0.007708813063800335 | Accuracy: 100.0%\n",
      " | Epoch 2 | Loss: 0.008645337074995041 | Accuracy: 100.0%\n",
      " | Epoch 2 | Loss: 0.009459496475756168 | Accuracy: 100.0%\n",
      " | Epoch 2 | Loss: 0.007709072902798653 | Accuracy: 100.0%\n",
      " | Epoch 2 | Loss: 0.007156773470342159 | Accuracy: 100.0%\n",
      " | Epoch 2 | Loss: 0.006772745866328478 | Accuracy: 100.0%\n",
      " | Epoch 2 | Loss: 0.200911745429039 | Accuracy: 96.875%\n",
      " | Epoch 2 | Loss: 0.006405362859368324 | Accuracy: 100.0%\n",
      " | Epoch 2 | Loss: 0.4108526408672333 | Accuracy: 93.75%\n",
      " | Epoch 2 | Loss: 0.006748280953615904 | Accuracy: 100.0%\n",
      " | Epoch 2 | Loss: 0.00800258293747902 | Accuracy: 100.0%\n",
      " | Epoch 2 | Loss: 0.00659232446923852 | Accuracy: 100.0%\n",
      " | Epoch 2 | Loss: 0.00756013672798872 | Accuracy: 100.0%\n",
      " | Epoch 2 | Loss: 0.007666829973459244 | Accuracy: 100.0%\n",
      " | Epoch 2 | Loss: 0.183620885014534 | Accuracy: 96.875%\n",
      " | Epoch 2 | Loss: 0.0076934644021093845 | Accuracy: 100.0%\n",
      " | Epoch 2 | Loss: 0.009897343814373016 | Accuracy: 100.0%\n",
      " | Epoch 2 | Loss: 0.0076705534011125565 | Accuracy: 100.0%\n",
      " | Epoch 2 | Loss: 0.17396113276481628 | Accuracy: 96.875%\n",
      " | Epoch 2 | Loss: 0.00834963284432888 | Accuracy: 100.0%\n",
      " | Epoch 2 | Loss: 0.00894102267920971 | Accuracy: 100.0%\n",
      " | Epoch 2 | Loss: 0.009143431670963764 | Accuracy: 100.0%\n",
      " | Epoch 2 | Loss: 0.008632797747850418 | Accuracy: 100.0%\n",
      " | Epoch 2 | Loss: 0.009585314430296421 | Accuracy: 100.0%\n",
      " | Epoch 2 | Loss: 0.009735501371324062 | Accuracy: 100.0%\n",
      " | Epoch 2 | Loss: 0.010637415573000908 | Accuracy: 100.0%\n",
      " | Epoch 2 | Loss: 0.008132753893733025 | Accuracy: 100.0%\n",
      " | Epoch 2 | Loss: 0.01005973294377327 | Accuracy: 100.0%\n",
      " | Epoch 2 | Loss: 0.011094506829977036 | Accuracy: 100.0%\n",
      " | Epoch 2 | Loss: 0.2682577073574066 | Accuracy: 96.875%\n",
      " | Epoch 2 | Loss: 0.011373725719749928 | Accuracy: 100.0%\n",
      " | Epoch 2 | Loss: 0.007799157872796059 | Accuracy: 100.0%\n",
      " | Epoch 2 | Loss: 0.00984808150678873 | Accuracy: 100.0%\n",
      " | Epoch 2 | Loss: 0.008825215511023998 | Accuracy: 100.0%\n",
      " | Epoch 2 | Loss: 0.011328241787850857 | Accuracy: 100.0%\n",
      " | Epoch 2 | Loss: 0.010589462704956532 | Accuracy: 100.0%\n",
      " | Epoch 2 | Loss: 0.009095090441405773 | Accuracy: 100.0%\n",
      " | Epoch 2 | Loss: 0.17669597268104553 | Accuracy: 96.875%\n",
      " | Epoch 2 | Loss: 0.009574085474014282 | Accuracy: 100.0%\n",
      " | Epoch 2 | Loss: 0.008997440338134766 | Accuracy: 100.0%\n",
      " | Epoch 2 | Loss: 0.008556049317121506 | Accuracy: 100.0%\n",
      " | Epoch 2 | Loss: 0.008927074261009693 | Accuracy: 100.0%\n",
      " | Epoch 2 | Loss: 0.011117862537503242 | Accuracy: 100.0%\n",
      " | Epoch 2 | Loss: 0.19848358631134033 | Accuracy: 96.875%\n",
      " | Epoch 2 | Loss: 0.007519261445850134 | Accuracy: 100.0%\n",
      " | Epoch 2 | Loss: 0.008149339817464352 | Accuracy: 100.0%\n",
      " | Epoch 2 | Loss: 0.008439742028713226 | Accuracy: 100.0%\n",
      " | Epoch 2 | Loss: 0.00665555614978075 | Accuracy: 100.0%\n",
      " | Epoch 2 | Loss: 0.008606563322246075 | Accuracy: 100.0%\n",
      " | Epoch 2 | Loss: 0.009004399180412292 | Accuracy: 100.0%\n",
      " | Epoch 2 | Loss: 0.0070334565825760365 | Accuracy: 100.0%\n",
      " | Epoch 2 | Loss: 0.007247015368193388 | Accuracy: 100.0%\n",
      " | Epoch 2 | Loss: 0.008243332616984844 | Accuracy: 100.0%\n",
      " | Epoch 2 | Loss: 0.007155864033848047 | Accuracy: 100.0%\n",
      " | Epoch 2 | Loss: 0.3033476173877716 | Accuracy: 96.875%\n",
      " | Epoch 2 | Loss: 0.006550213322043419 | Accuracy: 100.0%\n",
      " | Epoch 2 | Loss: 0.008343654684722424 | Accuracy: 100.0%\n",
      " | Epoch 2 | Loss: 0.007728730794042349 | Accuracy: 100.0%\n",
      " | Epoch 2 | Loss: 0.006843985989689827 | Accuracy: 100.0%\n",
      " | Epoch 2 | Loss: 0.008367990143597126 | Accuracy: 100.0%\n",
      " | Epoch 2 | Loss: 0.23674653470516205 | Accuracy: 96.875%\n",
      " | Epoch 2 | Loss: 0.007623855955898762 | Accuracy: 100.0%\n",
      " | Epoch 2 | Loss: 0.008361943066120148 | Accuracy: 100.0%\n",
      " | Epoch 2 | Loss: 0.006947027985006571 | Accuracy: 100.0%\n",
      " | Epoch 2 | Loss: 0.29178255796432495 | Accuracy: 96.875%\n",
      " | Epoch 2 | Loss: 0.007021146360784769 | Accuracy: 100.0%\n",
      " | Epoch 2 | Loss: 0.00719861825928092 | Accuracy: 100.0%\n",
      " | Epoch 2 | Loss: 0.008098401129245758 | Accuracy: 100.0%\n",
      " | Epoch 2 | Loss: 0.00890732929110527 | Accuracy: 100.0%\n",
      " | Epoch 2 | Loss: 0.19091403484344482 | Accuracy: 96.875%\n",
      " | Epoch 2 | Loss: 0.007263282313942909 | Accuracy: 100.0%\n",
      " | Epoch 2 | Loss: 0.006543873809278011 | Accuracy: 100.0%\n",
      " | Epoch 2 | Loss: 0.007475909776985645 | Accuracy: 100.0%\n",
      " | Epoch 2 | Loss: 0.006812305189669132 | Accuracy: 100.0%\n",
      " | Epoch 2 | Loss: 0.006909223273396492 | Accuracy: 100.0%\n",
      " | Epoch 2 | Loss: 0.281625360250473 | Accuracy: 96.875%\n",
      " | Epoch 2 | Loss: 0.006648811977356672 | Accuracy: 100.0%\n"
     ]
    },
    {
     "name": "stderr",
     "output_type": "stream",
     "text": [
      "Epoch 2:  54%|███████████████▋             | 811/1501 [00:01<00:01, 557.37batch/s, accuracy=96.875%, loss=0.213]"
     ]
    },
    {
     "name": "stdout",
     "output_type": "stream",
     "text": [
      " | Epoch 2 | Loss: 0.007630137261003256 | Accuracy: 100.0%\n",
      " | Epoch 2 | Loss: 0.008953646756708622 | Accuracy: 100.0%\n",
      " | Epoch 2 | Loss: 0.008423571474850178 | Accuracy: 100.0%\n",
      " | Epoch 2 | Loss: 0.007516111247241497 | Accuracy: 100.0%\n",
      " | Epoch 2 | Loss: 0.007737276144325733 | Accuracy: 100.0%\n",
      " | Epoch 2 | Loss: 0.00732390396296978 | Accuracy: 100.0%\n",
      " | Epoch 2 | Loss: 0.00872065406292677 | Accuracy: 100.0%\n",
      " | Epoch 2 | Loss: 0.007568508852273226 | Accuracy: 100.0%\n",
      " | Epoch 2 | Loss: 0.00792674720287323 | Accuracy: 100.0%\n",
      " | Epoch 2 | Loss: 0.1990887075662613 | Accuracy: 96.875%\n",
      " | Epoch 2 | Loss: 0.18799245357513428 | Accuracy: 96.875%\n",
      " | Epoch 2 | Loss: 0.007502710912376642 | Accuracy: 100.0%\n",
      " | Epoch 2 | Loss: 0.007759787142276764 | Accuracy: 100.0%\n",
      " | Epoch 2 | Loss: 0.007331870496273041 | Accuracy: 100.0%\n",
      " | Epoch 2 | Loss: 0.006530665326863527 | Accuracy: 100.0%\n",
      " | Epoch 2 | Loss: 0.007253875024616718 | Accuracy: 100.0%\n",
      " | Epoch 2 | Loss: 0.008020158857107162 | Accuracy: 100.0%\n",
      " | Epoch 2 | Loss: 0.00880792923271656 | Accuracy: 100.0%\n",
      " | Epoch 2 | Loss: 0.008526885882019997 | Accuracy: 100.0%\n",
      " | Epoch 2 | Loss: 0.007429523393511772 | Accuracy: 100.0%\n",
      " | Epoch 2 | Loss: 0.007619608659297228 | Accuracy: 100.0%\n",
      " | Epoch 2 | Loss: 0.007618872914463282 | Accuracy: 100.0%\n",
      " | Epoch 2 | Loss: 0.006793610751628876 | Accuracy: 100.0%\n",
      " | Epoch 2 | Loss: 0.006972187198698521 | Accuracy: 100.0%\n",
      " | Epoch 2 | Loss: 0.007982130162417889 | Accuracy: 100.0%\n",
      " | Epoch 2 | Loss: 0.008783171884715557 | Accuracy: 100.0%\n",
      " | Epoch 2 | Loss: 0.008616084232926369 | Accuracy: 100.0%\n",
      " | Epoch 2 | Loss: 0.007729684002697468 | Accuracy: 100.0%\n",
      " | Epoch 2 | Loss: 0.0074853054247796535 | Accuracy: 100.0%\n",
      " | Epoch 2 | Loss: 0.009541869163513184 | Accuracy: 100.0%\n",
      " | Epoch 2 | Loss: 0.006496360059827566 | Accuracy: 100.0%\n",
      " | Epoch 2 | Loss: 0.006333746947348118 | Accuracy: 100.0%\n",
      " | Epoch 2 | Loss: 0.009722914546728134 | Accuracy: 100.0%\n",
      " | Epoch 2 | Loss: 0.007236308418214321 | Accuracy: 100.0%\n",
      " | Epoch 2 | Loss: 0.27872392535209656 | Accuracy: 96.875%\n",
      " | Epoch 2 | Loss: 0.0074129048734903336 | Accuracy: 100.0%\n",
      " | Epoch 2 | Loss: 0.2674979865550995 | Accuracy: 96.875%\n",
      " | Epoch 2 | Loss: 0.007176555227488279 | Accuracy: 100.0%\n",
      " | Epoch 2 | Loss: 0.00619463762268424 | Accuracy: 100.0%\n",
      " | Epoch 2 | Loss: 0.007014410104602575 | Accuracy: 100.0%\n",
      " | Epoch 2 | Loss: 0.0063666063360869884 | Accuracy: 100.0%\n",
      " | Epoch 2 | Loss: 0.007169452495872974 | Accuracy: 100.0%\n",
      " | Epoch 2 | Loss: 0.006400494836270809 | Accuracy: 100.0%\n",
      " | Epoch 2 | Loss: 0.007253946736454964 | Accuracy: 100.0%\n",
      " | Epoch 2 | Loss: 0.007704807445406914 | Accuracy: 100.0%\n",
      " | Epoch 2 | Loss: 0.007675614673644304 | Accuracy: 100.0%\n",
      " | Epoch 2 | Loss: 0.007564623840153217 | Accuracy: 100.0%\n",
      " | Epoch 2 | Loss: 0.007969369180500507 | Accuracy: 100.0%\n",
      " | Epoch 2 | Loss: 0.317238986492157 | Accuracy: 96.875%\n",
      " | Epoch 2 | Loss: 0.007858448661863804 | Accuracy: 100.0%\n",
      " | Epoch 2 | Loss: 0.008396696299314499 | Accuracy: 100.0%\n",
      " | Epoch 2 | Loss: 0.00705996248871088 | Accuracy: 100.0%\n",
      " | Epoch 2 | Loss: 0.007900078780949116 | Accuracy: 100.0%\n",
      " | Epoch 2 | Loss: 0.008675645105540752 | Accuracy: 100.0%\n",
      " | Epoch 2 | Loss: 0.00697325449436903 | Accuracy: 100.0%\n",
      " | Epoch 2 | Loss: 0.1792779415845871 | Accuracy: 96.875%\n",
      " | Epoch 2 | Loss: 0.2610645890235901 | Accuracy: 96.875%\n",
      " | Epoch 2 | Loss: 0.006448199972510338 | Accuracy: 100.0%\n",
      " | Epoch 2 | Loss: 0.007561038713902235 | Accuracy: 100.0%\n",
      " | Epoch 2 | Loss: 0.007072401698678732 | Accuracy: 100.0%\n",
      " | Epoch 2 | Loss: 0.00774090550839901 | Accuracy: 100.0%\n",
      " | Epoch 2 | Loss: 0.008431119844317436 | Accuracy: 100.0%\n",
      " | Epoch 2 | Loss: 0.007055828347802162 | Accuracy: 100.0%\n",
      " | Epoch 2 | Loss: 0.0082809804007411 | Accuracy: 100.0%\n",
      " | Epoch 2 | Loss: 0.2788640856742859 | Accuracy: 96.875%\n",
      " | Epoch 2 | Loss: 0.007103735115379095 | Accuracy: 100.0%\n",
      " | Epoch 2 | Loss: 0.23725825548171997 | Accuracy: 96.875%\n",
      " | Epoch 2 | Loss: 0.18598389625549316 | Accuracy: 96.875%\n",
      " | Epoch 2 | Loss: 0.007742544636130333 | Accuracy: 100.0%\n",
      " | Epoch 2 | Loss: 0.006928622256964445 | Accuracy: 100.0%\n",
      " | Epoch 2 | Loss: 0.008543339557945728 | Accuracy: 100.0%\n",
      " | Epoch 2 | Loss: 0.2788131535053253 | Accuracy: 96.875%\n",
      " | Epoch 2 | Loss: 0.009826671332120895 | Accuracy: 100.0%\n",
      " | Epoch 2 | Loss: 0.008706237189471722 | Accuracy: 100.0%\n",
      " | Epoch 2 | Loss: 0.008779839612543583 | Accuracy: 100.0%\n",
      " | Epoch 2 | Loss: 0.008140615187585354 | Accuracy: 100.0%\n",
      " | Epoch 2 | Loss: 0.008168569765985012 | Accuracy: 100.0%\n",
      " | Epoch 2 | Loss: 0.00819281954318285 | Accuracy: 100.0%\n",
      " | Epoch 2 | Loss: 0.007497403770685196 | Accuracy: 100.0%\n",
      " | Epoch 2 | Loss: 0.008882432244718075 | Accuracy: 100.0%\n",
      " | Epoch 2 | Loss: 0.007665922399610281 | Accuracy: 100.0%\n",
      " | Epoch 2 | Loss: 0.007145272567868233 | Accuracy: 100.0%\n",
      " | Epoch 2 | Loss: 0.008736399002373219 | Accuracy: 100.0%\n",
      " | Epoch 2 | Loss: 0.0075513748452067375 | Accuracy: 100.0%\n",
      " | Epoch 2 | Loss: 0.007383489049971104 | Accuracy: 100.0%\n",
      " | Epoch 2 | Loss: 0.007610079366713762 | Accuracy: 100.0%\n",
      " | Epoch 2 | Loss: 0.007880093529820442 | Accuracy: 100.0%\n",
      " | Epoch 2 | Loss: 0.007552557159215212 | Accuracy: 100.0%\n",
      " | Epoch 2 | Loss: 0.010906733572483063 | Accuracy: 100.0%\n",
      " | Epoch 2 | Loss: 0.007887053303420544 | Accuracy: 100.0%\n",
      " | Epoch 2 | Loss: 0.008712812326848507 | Accuracy: 100.0%\n",
      " | Epoch 2 | Loss: 0.0086142523214221 | Accuracy: 100.0%\n",
      " | Epoch 2 | Loss: 0.00780499866232276 | Accuracy: 100.0%\n",
      " | Epoch 2 | Loss: 0.25912389159202576 | Accuracy: 96.875%\n",
      " | Epoch 2 | Loss: 0.007595219649374485 | Accuracy: 100.0%\n",
      " | Epoch 2 | Loss: 0.008780812844634056 | Accuracy: 100.0%\n",
      " | Epoch 2 | Loss: 0.00871227029711008 | Accuracy: 100.0%\n",
      " | Epoch 2 | Loss: 0.008490614593029022 | Accuracy: 100.0%\n",
      " | Epoch 2 | Loss: 0.25953373312950134 | Accuracy: 96.875%\n",
      " | Epoch 2 | Loss: 0.23350989818572998 | Accuracy: 96.875%\n",
      " | Epoch 2 | Loss: 0.007674369495362043 | Accuracy: 100.0%\n",
      " | Epoch 2 | Loss: 0.18483567237854004 | Accuracy: 96.875%\n",
      " | Epoch 2 | Loss: 0.2601153552532196 | Accuracy: 96.875%\n",
      " | Epoch 2 | Loss: 0.008977752178907394 | Accuracy: 100.0%\n",
      " | Epoch 2 | Loss: 0.008439619094133377 | Accuracy: 100.0%\n",
      " | Epoch 2 | Loss: 0.009752998128533363 | Accuracy: 100.0%\n",
      " | Epoch 2 | Loss: 0.009486373513936996 | Accuracy: 100.0%\n",
      " | Epoch 2 | Loss: 0.21278035640716553 | Accuracy: 96.875%\n"
     ]
    },
    {
     "name": "stderr",
     "output_type": "stream",
     "text": [
      "Epoch 2:  58%|████████████████▊            | 868/1501 [00:01<00:01, 560.69batch/s, accuracy=100.0%, loss=0.0106]"
     ]
    },
    {
     "name": "stdout",
     "output_type": "stream",
     "text": [
      " | Epoch 2 | Loss: 0.008500495925545692 | Accuracy: 100.0%\n",
      " | Epoch 2 | Loss: 0.008448128588497639 | Accuracy: 100.0%\n",
      " | Epoch 2 | Loss: 0.008859613910317421 | Accuracy: 100.0%\n",
      " | Epoch 2 | Loss: 0.009946580976247787 | Accuracy: 100.0%\n",
      " | Epoch 2 | Loss: 0.26704850792884827 | Accuracy: 96.875%\n",
      " | Epoch 2 | Loss: 0.26485735177993774 | Accuracy: 96.875%\n",
      " | Epoch 2 | Loss: 0.010225676000118256 | Accuracy: 100.0%\n",
      " | Epoch 2 | Loss: 0.010376391932368279 | Accuracy: 100.0%\n",
      " | Epoch 2 | Loss: 0.010110248811542988 | Accuracy: 100.0%\n",
      " | Epoch 2 | Loss: 0.009823276661336422 | Accuracy: 100.0%\n",
      " | Epoch 2 | Loss: 0.011339932680130005 | Accuracy: 100.0%\n",
      " | Epoch 2 | Loss: 0.009760265238583088 | Accuracy: 100.0%\n",
      " | Epoch 2 | Loss: 0.008987889625132084 | Accuracy: 100.0%\n",
      " | Epoch 2 | Loss: 0.25307101011276245 | Accuracy: 96.875%\n",
      " | Epoch 2 | Loss: 0.010006214492022991 | Accuracy: 100.0%\n",
      " | Epoch 2 | Loss: 0.011121837422251701 | Accuracy: 100.0%\n",
      " | Epoch 2 | Loss: 0.1865907907485962 | Accuracy: 96.875%\n",
      " | Epoch 2 | Loss: 0.00950811430811882 | Accuracy: 100.0%\n",
      " | Epoch 2 | Loss: 0.010149437934160233 | Accuracy: 100.0%\n",
      " | Epoch 2 | Loss: 0.009221012704074383 | Accuracy: 100.0%\n",
      " | Epoch 2 | Loss: 0.013540699146687984 | Accuracy: 100.0%\n",
      " | Epoch 2 | Loss: 0.011774539016187191 | Accuracy: 100.0%\n",
      " | Epoch 2 | Loss: 0.010610406287014484 | Accuracy: 100.0%\n",
      " | Epoch 2 | Loss: 0.009836070239543915 | Accuracy: 100.0%\n",
      " | Epoch 2 | Loss: 0.012107297778129578 | Accuracy: 100.0%\n",
      " | Epoch 2 | Loss: 0.010612696409225464 | Accuracy: 100.0%\n",
      " | Epoch 2 | Loss: 0.011892843060195446 | Accuracy: 100.0%\n",
      " | Epoch 2 | Loss: 0.5196089148521423 | Accuracy: 93.75%\n",
      " | Epoch 2 | Loss: 0.009396635927259922 | Accuracy: 100.0%\n",
      " | Epoch 2 | Loss: 0.21487011015415192 | Accuracy: 96.875%\n",
      " | Epoch 2 | Loss: 0.1748463660478592 | Accuracy: 96.875%\n",
      " | Epoch 2 | Loss: 0.010629379190504551 | Accuracy: 100.0%\n",
      " | Epoch 2 | Loss: 0.00969075970351696 | Accuracy: 100.0%\n",
      " | Epoch 2 | Loss: 0.011266457848250866 | Accuracy: 100.0%\n",
      " | Epoch 2 | Loss: 0.00961495004594326 | Accuracy: 100.0%\n",
      " | Epoch 2 | Loss: 0.009015468880534172 | Accuracy: 100.0%\n",
      " | Epoch 2 | Loss: 0.009457243606448174 | Accuracy: 100.0%\n",
      " | Epoch 2 | Loss: 0.01029056403785944 | Accuracy: 100.0%\n",
      " | Epoch 2 | Loss: 0.008813085034489632 | Accuracy: 100.0%\n",
      " | Epoch 2 | Loss: 0.009416505694389343 | Accuracy: 100.0%\n",
      " | Epoch 2 | Loss: 0.010342208668589592 | Accuracy: 100.0%\n",
      " | Epoch 2 | Loss: 0.009778272360563278 | Accuracy: 100.0%\n",
      " | Epoch 2 | Loss: 0.011983124539256096 | Accuracy: 100.0%\n",
      " | Epoch 2 | Loss: 0.1876191645860672 | Accuracy: 96.875%\n",
      " | Epoch 2 | Loss: 0.011422231793403625 | Accuracy: 100.0%\n",
      " | Epoch 2 | Loss: 0.01235800888389349 | Accuracy: 100.0%\n",
      " | Epoch 2 | Loss: 0.24142006039619446 | Accuracy: 96.875%\n",
      " | Epoch 2 | Loss: 0.17147430777549744 | Accuracy: 96.875%\n",
      " | Epoch 2 | Loss: 0.010798543691635132 | Accuracy: 100.0%\n",
      " | Epoch 2 | Loss: 0.01081630028784275 | Accuracy: 100.0%\n",
      " | Epoch 2 | Loss: 0.009425351396203041 | Accuracy: 100.0%\n",
      " | Epoch 2 | Loss: 0.010632248595356941 | Accuracy: 100.0%\n",
      " | Epoch 2 | Loss: 0.010510270483791828 | Accuracy: 100.0%\n",
      " | Epoch 2 | Loss: 0.010430024936795235 | Accuracy: 100.0%\n",
      " | Epoch 2 | Loss: 0.012962925247848034 | Accuracy: 100.0%\n",
      " | Epoch 2 | Loss: 0.010285729542374611 | Accuracy: 100.0%\n",
      " | Epoch 2 | Loss: 0.2747485637664795 | Accuracy: 96.875%\n",
      " | Epoch 2 | Loss: 0.010002915747463703 | Accuracy: 100.0%\n",
      " | Epoch 2 | Loss: 0.009595911018550396 | Accuracy: 100.0%\n",
      " | Epoch 2 | Loss: 0.010212674736976624 | Accuracy: 100.0%\n",
      " | Epoch 2 | Loss: 0.010514301247894764 | Accuracy: 100.0%\n",
      " | Epoch 2 | Loss: 0.010471380315721035 | Accuracy: 100.0%\n",
      " | Epoch 2 | Loss: 0.008744398131966591 | Accuracy: 100.0%\n",
      " | Epoch 2 | Loss: 0.009811543859541416 | Accuracy: 100.0%\n",
      " | Epoch 2 | Loss: 0.01029431726783514 | Accuracy: 100.0%\n",
      " | Epoch 2 | Loss: 0.009353113360702991 | Accuracy: 100.0%\n",
      " | Epoch 2 | Loss: 0.011069351807236671 | Accuracy: 100.0%\n",
      " | Epoch 2 | Loss: 0.009891876019537449 | Accuracy: 100.0%\n",
      " | Epoch 2 | Loss: 0.009924164041876793 | Accuracy: 100.0%\n",
      " | Epoch 2 | Loss: 0.008523562923073769 | Accuracy: 100.0%\n",
      " | Epoch 2 | Loss: 0.01156429760158062 | Accuracy: 100.0%\n",
      " | Epoch 2 | Loss: 0.2508319020271301 | Accuracy: 96.875%\n",
      " | Epoch 2 | Loss: 0.011867578141391277 | Accuracy: 100.0%\n",
      " | Epoch 2 | Loss: 0.00931283738464117 | Accuracy: 100.0%\n",
      " | Epoch 2 | Loss: 0.25053927302360535 | Accuracy: 96.875%\n",
      " | Epoch 2 | Loss: 0.010070083662867546 | Accuracy: 100.0%\n",
      " | Epoch 2 | Loss: 0.008822040632367134 | Accuracy: 100.0%\n",
      " | Epoch 2 | Loss: 0.009684323333203793 | Accuracy: 100.0%\n",
      " | Epoch 2 | Loss: 0.45717257261276245 | Accuracy: 93.75%\n",
      " | Epoch 2 | Loss: 0.19447237253189087 | Accuracy: 96.875%\n",
      " | Epoch 2 | Loss: 0.009992399252951145 | Accuracy: 100.0%\n",
      " | Epoch 2 | Loss: 0.1635275036096573 | Accuracy: 96.875%\n",
      " | Epoch 2 | Loss: 0.01017023529857397 | Accuracy: 100.0%\n",
      " | Epoch 2 | Loss: 0.009294371120631695 | Accuracy: 100.0%\n",
      " | Epoch 2 | Loss: 0.01008995994925499 | Accuracy: 100.0%\n",
      " | Epoch 2 | Loss: 0.010371373035013676 | Accuracy: 100.0%\n",
      " | Epoch 2 | Loss: 0.186303973197937 | Accuracy: 96.875%\n",
      " | Epoch 2 | Loss: 0.00909732561558485 | Accuracy: 100.0%\n",
      " | Epoch 2 | Loss: 0.18732085824012756 | Accuracy: 96.875%\n",
      " | Epoch 2 | Loss: 0.010017826221883297 | Accuracy: 100.0%\n",
      " | Epoch 2 | Loss: 0.011765538714826107 | Accuracy: 100.0%\n",
      " | Epoch 2 | Loss: 0.011184107512235641 | Accuracy: 100.0%\n",
      " | Epoch 2 | Loss: 0.19405636191368103 | Accuracy: 96.875%\n",
      " | Epoch 2 | Loss: 0.012774260714650154 | Accuracy: 100.0%\n",
      " | Epoch 2 | Loss: 0.013136698864400387 | Accuracy: 100.0%\n",
      " | Epoch 2 | Loss: 0.009956711903214455 | Accuracy: 100.0%\n",
      " | Epoch 2 | Loss: 0.011422690935432911 | Accuracy: 100.0%\n",
      " | Epoch 2 | Loss: 0.010404190048575401 | Accuracy: 100.0%\n",
      " | Epoch 2 | Loss: 0.01193621102720499 | Accuracy: 100.0%\n",
      " | Epoch 2 | Loss: 0.013642285019159317 | Accuracy: 100.0%\n",
      " | Epoch 2 | Loss: 0.010317024774849415 | Accuracy: 100.0%\n"
     ]
    },
    {
     "name": "stderr",
     "output_type": "stream",
     "text": [
      "Epoch 2:  65%|██████████████████▎         | 982/1501 [00:02<00:00, 537.79batch/s, accuracy=100.0%, loss=0.00924]"
     ]
    },
    {
     "name": "stdout",
     "output_type": "stream",
     "text": [
      " | Epoch 2 | Loss: 0.010635050013661385 | Accuracy: 100.0%\n",
      " | Epoch 2 | Loss: 0.01103891246020794 | Accuracy: 100.0%\n",
      " | Epoch 2 | Loss: 0.257040798664093 | Accuracy: 96.875%\n",
      " | Epoch 2 | Loss: 0.010144057683646679 | Accuracy: 100.0%\n",
      " | Epoch 2 | Loss: 0.00903502106666565 | Accuracy: 100.0%\n",
      " | Epoch 2 | Loss: 0.00996182207018137 | Accuracy: 100.0%\n",
      " | Epoch 2 | Loss: 0.009978946298360825 | Accuracy: 100.0%\n",
      " | Epoch 2 | Loss: 0.00957403052598238 | Accuracy: 100.0%\n",
      " | Epoch 2 | Loss: 0.009094201028347015 | Accuracy: 100.0%\n",
      " | Epoch 2 | Loss: 0.01094296108931303 | Accuracy: 100.0%\n",
      " | Epoch 2 | Loss: 0.009079474955797195 | Accuracy: 100.0%\n",
      " | Epoch 2 | Loss: 0.009082102216780186 | Accuracy: 100.0%\n",
      " | Epoch 2 | Loss: 0.01008670311421156 | Accuracy: 100.0%\n",
      " | Epoch 2 | Loss: 0.009851188398897648 | Accuracy: 100.0%\n",
      " | Epoch 2 | Loss: 0.00977508444339037 | Accuracy: 100.0%\n",
      " | Epoch 2 | Loss: 0.008273115381598473 | Accuracy: 100.0%\n",
      " | Epoch 2 | Loss: 0.24486805498600006 | Accuracy: 96.875%\n",
      " | Epoch 2 | Loss: 0.010647731833159924 | Accuracy: 100.0%\n",
      " | Epoch 2 | Loss: 0.011838516220450401 | Accuracy: 100.0%\n",
      " | Epoch 2 | Loss: 0.009836052544414997 | Accuracy: 100.0%\n",
      " | Epoch 2 | Loss: 0.009723389521241188 | Accuracy: 100.0%\n",
      " | Epoch 2 | Loss: 0.009579570032656193 | Accuracy: 100.0%\n",
      " | Epoch 2 | Loss: 0.013072625733911991 | Accuracy: 100.0%\n",
      " | Epoch 2 | Loss: 0.00921130832284689 | Accuracy: 100.0%\n",
      " | Epoch 2 | Loss: 0.008873166516423225 | Accuracy: 100.0%\n",
      " | Epoch 2 | Loss: 0.011790759861469269 | Accuracy: 100.0%\n",
      " | Epoch 2 | Loss: 0.18994784355163574 | Accuracy: 96.875%\n",
      " | Epoch 2 | Loss: 0.008763656951487064 | Accuracy: 100.0%\n",
      " | Epoch 2 | Loss: 0.012563951313495636 | Accuracy: 100.0%\n",
      " | Epoch 2 | Loss: 0.009206977672874928 | Accuracy: 100.0%\n",
      " | Epoch 2 | Loss: 0.009866367094218731 | Accuracy: 100.0%\n",
      " | Epoch 2 | Loss: 0.008012382313609123 | Accuracy: 100.0%\n",
      " | Epoch 2 | Loss: 0.00993123184889555 | Accuracy: 100.0%\n",
      " | Epoch 2 | Loss: 0.00972668081521988 | Accuracy: 100.0%\n",
      " | Epoch 2 | Loss: 0.008632361888885498 | Accuracy: 100.0%\n",
      " | Epoch 2 | Loss: 0.008603652939200401 | Accuracy: 100.0%\n",
      " | Epoch 2 | Loss: 0.00828002579510212 | Accuracy: 100.0%\n",
      " | Epoch 2 | Loss: 0.1546969711780548 | Accuracy: 96.875%\n",
      " | Epoch 2 | Loss: 0.009085251949727535 | Accuracy: 100.0%\n",
      " | Epoch 2 | Loss: 0.012203194200992584 | Accuracy: 100.0%\n",
      " | Epoch 2 | Loss: 0.009063233621418476 | Accuracy: 100.0%\n",
      " | Epoch 2 | Loss: 0.010385990142822266 | Accuracy: 100.0%\n",
      " | Epoch 2 | Loss: 0.009131020866334438 | Accuracy: 100.0%\n",
      " | Epoch 2 | Loss: 0.009666546247899532 | Accuracy: 100.0%\n",
      " | Epoch 2 | Loss: 0.009463719092309475 | Accuracy: 100.0%\n",
      " | Epoch 2 | Loss: 0.009187553077936172 | Accuracy: 100.0%\n",
      " | Epoch 2 | Loss: 0.008107341825962067 | Accuracy: 100.0%\n",
      " | Epoch 2 | Loss: 0.008264869451522827 | Accuracy: 100.0%\n",
      " | Epoch 2 | Loss: 0.009470912627875805 | Accuracy: 100.0%\n",
      " | Epoch 2 | Loss: 0.008653494529426098 | Accuracy: 100.0%\n",
      " | Epoch 2 | Loss: 0.00919876154512167 | Accuracy: 100.0%\n",
      " | Epoch 2 | Loss: 0.009447176940739155 | Accuracy: 100.0%\n",
      " | Epoch 2 | Loss: 0.008588772267103195 | Accuracy: 100.0%\n",
      " | Epoch 2 | Loss: 0.00850753765553236 | Accuracy: 100.0%\n",
      " | Epoch 2 | Loss: 0.008842073380947113 | Accuracy: 100.0%\n",
      " | Epoch 2 | Loss: 0.1621001660823822 | Accuracy: 96.875%\n",
      " | Epoch 2 | Loss: 0.21234315633773804 | Accuracy: 96.875%\n",
      " | Epoch 2 | Loss: 0.009844309650361538 | Accuracy: 100.0%\n",
      " | Epoch 2 | Loss: 0.008038093335926533 | Accuracy: 100.0%\n",
      " | Epoch 2 | Loss: 0.18283362686634064 | Accuracy: 96.875%\n",
      " | Epoch 2 | Loss: 0.007724282331764698 | Accuracy: 100.0%\n",
      " | Epoch 2 | Loss: 0.19253385066986084 | Accuracy: 96.875%\n",
      " | Epoch 2 | Loss: 0.007399417459964752 | Accuracy: 100.0%\n",
      " | Epoch 2 | Loss: 0.01083225104957819 | Accuracy: 100.0%\n",
      " | Epoch 2 | Loss: 0.17954574525356293 | Accuracy: 96.875%\n",
      " | Epoch 2 | Loss: 0.00822051614522934 | Accuracy: 100.0%\n",
      " | Epoch 2 | Loss: 0.3816808760166168 | Accuracy: 93.75%\n",
      " | Epoch 2 | Loss: 0.011363222263753414 | Accuracy: 100.0%\n",
      " | Epoch 2 | Loss: 0.008831753395497799 | Accuracy: 100.0%\n",
      " | Epoch 2 | Loss: 0.00899710226804018 | Accuracy: 100.0%\n",
      " | Epoch 2 | Loss: 0.009342714212834835 | Accuracy: 100.0%\n",
      " | Epoch 2 | Loss: 0.009452517144382 | Accuracy: 100.0%\n",
      " | Epoch 2 | Loss: 0.008590145036578178 | Accuracy: 100.0%\n",
      " | Epoch 2 | Loss: 0.009257913567125797 | Accuracy: 100.0%\n",
      " | Epoch 2 | Loss: 0.008145165629684925 | Accuracy: 100.0%\n",
      " | Epoch 2 | Loss: 0.2293703556060791 | Accuracy: 96.875%\n",
      " | Epoch 2 | Loss: 0.007814337499439716 | Accuracy: 100.0%\n",
      " | Epoch 2 | Loss: 0.009214885532855988 | Accuracy: 100.0%\n",
      " | Epoch 2 | Loss: 0.009095433168113232 | Accuracy: 100.0%\n",
      " | Epoch 2 | Loss: 0.008129590190947056 | Accuracy: 100.0%\n",
      " | Epoch 2 | Loss: 0.009213535115122795 | Accuracy: 100.0%\n",
      " | Epoch 2 | Loss: 0.010142927058041096 | Accuracy: 100.0%\n",
      " | Epoch 2 | Loss: 0.007890497334301472 | Accuracy: 100.0%\n",
      " | Epoch 2 | Loss: 0.008619108237326145 | Accuracy: 100.0%\n",
      " | Epoch 2 | Loss: 0.008958788588643074 | Accuracy: 100.0%\n",
      " | Epoch 2 | Loss: 0.16219571232795715 | Accuracy: 96.875%\n",
      " | Epoch 2 | Loss: 0.2240123599767685 | Accuracy: 96.875%\n",
      " | Epoch 2 | Loss: 0.009492989629507065 | Accuracy: 100.0%\n",
      " | Epoch 2 | Loss: 0.4420397877693176 | Accuracy: 93.75%\n",
      " | Epoch 2 | Loss: 0.0076869879849255085 | Accuracy: 100.0%\n",
      " | Epoch 2 | Loss: 0.009127977304160595 | Accuracy: 100.0%\n",
      " | Epoch 2 | Loss: 0.010233033448457718 | Accuracy: 100.0%\n",
      " | Epoch 2 | Loss: 0.009237412363290787 | Accuracy: 100.0%\n",
      " | Epoch 2 | Loss: 0.009398005902767181 | Accuracy: 100.0%\n",
      " | Epoch 2 | Loss: 0.008839619345963001 | Accuracy: 100.0%\n",
      " | Epoch 2 | Loss: 0.18041427433490753 | Accuracy: 96.875%\n",
      " | Epoch 2 | Loss: 0.008840776048600674 | Accuracy: 100.0%\n",
      " | Epoch 2 | Loss: 0.009747391566634178 | Accuracy: 100.0%\n",
      " | Epoch 2 | Loss: 0.012176516465842724 | Accuracy: 100.0%\n",
      " | Epoch 2 | Loss: 0.008680977858603 | Accuracy: 100.0%\n",
      " | Epoch 2 | Loss: 0.2635659873485565 | Accuracy: 96.875%\n",
      " | Epoch 2 | Loss: 0.009915866889059544 | Accuracy: 100.0%\n",
      " | Epoch 2 | Loss: 0.010005607269704342 | Accuracy: 100.0%\n",
      " | Epoch 2 | Loss: 0.010189290158450603 | Accuracy: 100.0%\n",
      " | Epoch 2 | Loss: 0.009538182988762856 | Accuracy: 100.0%\n",
      " | Epoch 2 | Loss: 0.23867452144622803 | Accuracy: 96.875%\n",
      " | Epoch 2 | Loss: 0.009094362147152424 | Accuracy: 100.0%\n",
      " | Epoch 2 | Loss: 0.011937830597162247 | Accuracy: 100.0%\n",
      " | Epoch 2 | Loss: 0.009892955422401428 | Accuracy: 100.0%\n",
      " | Epoch 2 | Loss: 0.010115453042089939 | Accuracy: 100.0%\n",
      " | Epoch 2 | Loss: 0.011495368555188179 | Accuracy: 100.0%\n"
     ]
    },
    {
     "name": "stderr",
     "output_type": "stream",
     "text": [
      "Epoch 2:  73%|████████████████████▎       | 1089/1501 [00:02<00:00, 494.63batch/s, accuracy=96.875%, loss=0.184]"
     ]
    },
    {
     "name": "stdout",
     "output_type": "stream",
     "text": [
      " | Epoch 2 | Loss: 0.009236311540007591 | Accuracy: 100.0%\n",
      " | Epoch 2 | Loss: 0.01250399649143219 | Accuracy: 100.0%\n",
      " | Epoch 2 | Loss: 0.008511585183441639 | Accuracy: 100.0%\n",
      " | Epoch 2 | Loss: 0.010091331787407398 | Accuracy: 100.0%\n",
      " | Epoch 2 | Loss: 0.010279802605509758 | Accuracy: 100.0%\n",
      " | Epoch 2 | Loss: 0.009342947043478489 | Accuracy: 100.0%\n",
      " | Epoch 2 | Loss: 0.008928433060646057 | Accuracy: 100.0%\n",
      " | Epoch 2 | Loss: 0.008407214656472206 | Accuracy: 100.0%\n",
      " | Epoch 2 | Loss: 0.009367942810058594 | Accuracy: 100.0%\n",
      " | Epoch 2 | Loss: 0.009716972708702087 | Accuracy: 100.0%\n",
      " | Epoch 2 | Loss: 0.00891495868563652 | Accuracy: 100.0%\n",
      " | Epoch 2 | Loss: 0.008554438129067421 | Accuracy: 100.0%\n",
      " | Epoch 2 | Loss: 0.008145901374518871 | Accuracy: 100.0%\n",
      " | Epoch 2 | Loss: 0.008973082527518272 | Accuracy: 100.0%\n",
      " | Epoch 2 | Loss: 0.007744936738163233 | Accuracy: 100.0%\n",
      " | Epoch 2 | Loss: 0.009325810708105564 | Accuracy: 100.0%\n",
      " | Epoch 2 | Loss: 0.007923828437924385 | Accuracy: 100.0%\n",
      " | Epoch 2 | Loss: 0.008219805546104908 | Accuracy: 100.0%\n",
      " | Epoch 2 | Loss: 0.0078072501346468925 | Accuracy: 100.0%\n",
      " | Epoch 2 | Loss: 0.008479299955070019 | Accuracy: 100.0%\n",
      " | Epoch 2 | Loss: 0.00853662472218275 | Accuracy: 100.0%\n",
      " | Epoch 2 | Loss: 0.008047492243349552 | Accuracy: 100.0%\n",
      " | Epoch 2 | Loss: 0.008650488220155239 | Accuracy: 100.0%\n",
      " | Epoch 2 | Loss: 0.007821308448910713 | Accuracy: 100.0%\n",
      " | Epoch 2 | Loss: 0.007159239612519741 | Accuracy: 100.0%\n",
      " | Epoch 2 | Loss: 0.24176861345767975 | Accuracy: 96.875%\n",
      " | Epoch 2 | Loss: 0.007117397151887417 | Accuracy: 100.0%\n",
      " | Epoch 2 | Loss: 0.009731318801641464 | Accuracy: 100.0%\n",
      " | Epoch 2 | Loss: 0.007810343988239765 | Accuracy: 100.0%\n",
      " | Epoch 2 | Loss: 0.28262972831726074 | Accuracy: 96.875%\n",
      " | Epoch 2 | Loss: 0.008714502677321434 | Accuracy: 100.0%\n",
      " | Epoch 2 | Loss: 0.008023703470826149 | Accuracy: 100.0%\n",
      " | Epoch 2 | Loss: 0.007335856091231108 | Accuracy: 100.0%\n",
      " | Epoch 2 | Loss: 0.008263912051916122 | Accuracy: 100.0%\n",
      " | Epoch 2 | Loss: 0.010353735648095608 | Accuracy: 100.0%\n",
      " | Epoch 2 | Loss: 0.3602151870727539 | Accuracy: 93.75%\n",
      " | Epoch 2 | Loss: 0.008380888029932976 | Accuracy: 100.0%\n",
      " | Epoch 2 | Loss: 0.007962948642671108 | Accuracy: 100.0%\n",
      " | Epoch 2 | Loss: 0.008428351953625679 | Accuracy: 100.0%\n",
      " | Epoch 2 | Loss: 0.008425374515354633 | Accuracy: 100.0%\n",
      " | Epoch 2 | Loss: 0.23881906270980835 | Accuracy: 96.875%\n",
      " | Epoch 2 | Loss: 0.008971573784947395 | Accuracy: 100.0%\n",
      " | Epoch 2 | Loss: 0.00885931495577097 | Accuracy: 100.0%\n",
      " | Epoch 2 | Loss: 0.010706261731684208 | Accuracy: 100.0%\n",
      " | Epoch 2 | Loss: 0.009983128868043423 | Accuracy: 100.0%\n",
      " | Epoch 2 | Loss: 0.01111670769751072 | Accuracy: 100.0%\n",
      " | Epoch 2 | Loss: 0.010138201527297497 | Accuracy: 100.0%\n",
      " | Epoch 2 | Loss: 0.00846813339740038 | Accuracy: 100.0%\n",
      " | Epoch 2 | Loss: 0.009883874095976353 | Accuracy: 100.0%\n",
      " | Epoch 2 | Loss: 0.008454578928649426 | Accuracy: 100.0%\n",
      " | Epoch 2 | Loss: 0.008022673428058624 | Accuracy: 100.0%\n",
      " | Epoch 2 | Loss: 0.011217033490538597 | Accuracy: 100.0%\n",
      " | Epoch 2 | Loss: 0.009120826609432697 | Accuracy: 100.0%\n",
      " | Epoch 2 | Loss: 0.26982980966567993 | Accuracy: 96.875%\n",
      " | Epoch 2 | Loss: 0.007638541050255299 | Accuracy: 100.0%\n",
      " | Epoch 2 | Loss: 0.008828255347907543 | Accuracy: 100.0%\n",
      " | Epoch 2 | Loss: 0.2171763777732849 | Accuracy: 96.875%\n",
      " | Epoch 2 | Loss: 0.2582877576351166 | Accuracy: 96.875%\n",
      " | Epoch 2 | Loss: 0.01025797612965107 | Accuracy: 100.0%\n",
      " | Epoch 2 | Loss: 0.008906589820981026 | Accuracy: 100.0%\n",
      " | Epoch 2 | Loss: 0.1787906289100647 | Accuracy: 96.875%\n",
      " | Epoch 2 | Loss: 0.00813039019703865 | Accuracy: 100.0%\n",
      " | Epoch 2 | Loss: 0.007878689095377922 | Accuracy: 100.0%\n",
      " | Epoch 2 | Loss: 0.007692862767726183 | Accuracy: 100.0%\n",
      " | Epoch 2 | Loss: 0.008490153588354588 | Accuracy: 100.0%\n",
      " | Epoch 2 | Loss: 0.008581148460507393 | Accuracy: 100.0%\n",
      " | Epoch 2 | Loss: 0.010481392033398151 | Accuracy: 100.0%\n",
      " | Epoch 2 | Loss: 0.008862543851137161 | Accuracy: 100.0%\n",
      " | Epoch 2 | Loss: 0.009975716471672058 | Accuracy: 100.0%\n",
      " | Epoch 2 | Loss: 0.010829196311533451 | Accuracy: 100.0%\n",
      " | Epoch 2 | Loss: 0.010553387925028801 | Accuracy: 100.0%\n",
      " | Epoch 2 | Loss: 0.1713513284921646 | Accuracy: 96.875%\n",
      " | Epoch 2 | Loss: 0.2670694589614868 | Accuracy: 96.875%\n",
      " | Epoch 2 | Loss: 0.00964564923197031 | Accuracy: 100.0%\n",
      " | Epoch 2 | Loss: 0.01047874428331852 | Accuracy: 100.0%\n",
      " | Epoch 2 | Loss: 0.01150982454419136 | Accuracy: 100.0%\n",
      " | Epoch 2 | Loss: 0.008623503148555756 | Accuracy: 100.0%\n",
      " | Epoch 2 | Loss: 0.17693203687667847 | Accuracy: 96.875%\n",
      " | Epoch 2 | Loss: 0.0088730463758111 | Accuracy: 100.0%\n",
      " | Epoch 2 | Loss: 0.24152421951293945 | Accuracy: 96.875%\n",
      " | Epoch 2 | Loss: 0.011860569007694721 | Accuracy: 100.0%\n",
      " | Epoch 2 | Loss: 0.010096547193825245 | Accuracy: 100.0%\n",
      " | Epoch 2 | Loss: 0.3173319697380066 | Accuracy: 96.875%\n",
      " | Epoch 2 | Loss: 0.22015652060508728 | Accuracy: 96.875%\n",
      " | Epoch 2 | Loss: 0.01019270345568657 | Accuracy: 100.0%\n",
      " | Epoch 2 | Loss: 0.009789170697331429 | Accuracy: 100.0%\n",
      " | Epoch 2 | Loss: 0.23420514166355133 | Accuracy: 96.875%\n",
      " | Epoch 2 | Loss: 0.43068695068359375 | Accuracy: 93.75%\n",
      " | Epoch 2 | Loss: 0.010182173922657967 | Accuracy: 100.0%\n",
      " | Epoch 2 | Loss: 0.010142085142433643 | Accuracy: 100.0%\n",
      " | Epoch 2 | Loss: 0.010582778602838516 | Accuracy: 100.0%\n",
      " | Epoch 2 | Loss: 0.18439894914627075 | Accuracy: 96.875%\n"
     ]
    },
    {
     "name": "stderr",
     "output_type": "stream",
     "text": [
      "Epoch 2:  81%|██████████████████████▋     | 1213/1501 [00:02<00:00, 552.07batch/s, accuracy=96.875%, loss=0.236]"
     ]
    },
    {
     "name": "stdout",
     "output_type": "stream",
     "text": [
      " | Epoch 2 | Loss: 0.011042666621506214 | Accuracy: 100.0%\n",
      " | Epoch 2 | Loss: 0.012965005822479725 | Accuracy: 100.0%\n",
      " | Epoch 2 | Loss: 0.01039543841034174 | Accuracy: 100.0%\n",
      " | Epoch 2 | Loss: 0.013742567971348763 | Accuracy: 100.0%\n",
      " | Epoch 2 | Loss: 0.014289241284132004 | Accuracy: 100.0%\n",
      " | Epoch 2 | Loss: 0.010119108483195305 | Accuracy: 100.0%\n",
      " | Epoch 2 | Loss: 0.009681561030447483 | Accuracy: 100.0%\n",
      " | Epoch 2 | Loss: 0.012838231399655342 | Accuracy: 100.0%\n",
      " | Epoch 2 | Loss: 0.017244795337319374 | Accuracy: 100.0%\n",
      " | Epoch 2 | Loss: 0.17298096418380737 | Accuracy: 96.875%\n",
      " | Epoch 2 | Loss: 0.01288151741027832 | Accuracy: 100.0%\n",
      " | Epoch 2 | Loss: 0.012638778425753117 | Accuracy: 100.0%\n",
      " | Epoch 2 | Loss: 0.010362335480749607 | Accuracy: 100.0%\n",
      " | Epoch 2 | Loss: 0.011864941567182541 | Accuracy: 100.0%\n",
      " | Epoch 2 | Loss: 0.01207626610994339 | Accuracy: 100.0%\n",
      " | Epoch 2 | Loss: 0.012568250298500061 | Accuracy: 100.0%\n",
      " | Epoch 2 | Loss: 0.010700716637074947 | Accuracy: 100.0%\n",
      " | Epoch 2 | Loss: 0.009693731553852558 | Accuracy: 100.0%\n",
      " | Epoch 2 | Loss: 0.010836884379386902 | Accuracy: 100.0%\n",
      " | Epoch 2 | Loss: 0.010898888111114502 | Accuracy: 100.0%\n",
      " | Epoch 2 | Loss: 0.010330996476113796 | Accuracy: 100.0%\n",
      " | Epoch 2 | Loss: 0.010435530915856361 | Accuracy: 100.0%\n",
      " | Epoch 2 | Loss: 0.008703778497874737 | Accuracy: 100.0%\n",
      " | Epoch 2 | Loss: 0.010002640075981617 | Accuracy: 100.0%\n",
      " | Epoch 2 | Loss: 0.009436151012778282 | Accuracy: 100.0%\n",
      " | Epoch 2 | Loss: 0.00908502098172903 | Accuracy: 100.0%\n",
      " | Epoch 2 | Loss: 0.009061523713171482 | Accuracy: 100.0%\n",
      " | Epoch 2 | Loss: 0.009278847835958004 | Accuracy: 100.0%\n",
      " | Epoch 2 | Loss: 0.00874765682965517 | Accuracy: 100.0%\n",
      " | Epoch 2 | Loss: 0.009699949994683266 | Accuracy: 100.0%\n",
      " | Epoch 2 | Loss: 0.009644378907978535 | Accuracy: 100.0%\n",
      " | Epoch 2 | Loss: 0.008856703527271748 | Accuracy: 100.0%\n",
      " | Epoch 2 | Loss: 0.00999195221811533 | Accuracy: 100.0%\n",
      " | Epoch 2 | Loss: 0.008724426850676537 | Accuracy: 100.0%\n",
      " | Epoch 2 | Loss: 0.008373948745429516 | Accuracy: 100.0%\n",
      " | Epoch 2 | Loss: 0.012142476625740528 | Accuracy: 100.0%\n",
      " | Epoch 2 | Loss: 0.013661343604326248 | Accuracy: 100.0%\n",
      " | Epoch 2 | Loss: 0.008551054634153843 | Accuracy: 100.0%\n",
      " | Epoch 2 | Loss: 0.00824047438800335 | Accuracy: 100.0%\n",
      " | Epoch 2 | Loss: 0.009099403396248817 | Accuracy: 100.0%\n",
      " | Epoch 2 | Loss: 0.009170269593596458 | Accuracy: 100.0%\n",
      " | Epoch 2 | Loss: 0.4234928488731384 | Accuracy: 93.75%\n",
      " | Epoch 2 | Loss: 0.00827822182327509 | Accuracy: 100.0%\n",
      " | Epoch 2 | Loss: 0.00839865580201149 | Accuracy: 100.0%\n",
      " | Epoch 2 | Loss: 0.00831989198923111 | Accuracy: 100.0%\n",
      " | Epoch 2 | Loss: 0.011100223287940025 | Accuracy: 100.0%\n",
      " | Epoch 2 | Loss: 0.007747751194983721 | Accuracy: 100.0%\n",
      " | Epoch 2 | Loss: 0.008253456093370914 | Accuracy: 100.0%\n",
      " | Epoch 2 | Loss: 0.008673674426972866 | Accuracy: 100.0%\n",
      " | Epoch 2 | Loss: 0.0072892336174845695 | Accuracy: 100.0%\n",
      " | Epoch 2 | Loss: 0.008907492272555828 | Accuracy: 100.0%\n",
      " | Epoch 2 | Loss: 0.007823411375284195 | Accuracy: 100.0%\n",
      " | Epoch 2 | Loss: 0.008396578021347523 | Accuracy: 100.0%\n",
      " | Epoch 2 | Loss: 0.21113047003746033 | Accuracy: 96.875%\n",
      " | Epoch 2 | Loss: 0.009773008525371552 | Accuracy: 100.0%\n",
      " | Epoch 2 | Loss: 0.0076362211257219315 | Accuracy: 100.0%\n",
      " | Epoch 2 | Loss: 0.008182619698345661 | Accuracy: 100.0%\n",
      " | Epoch 2 | Loss: 0.007205629721283913 | Accuracy: 100.0%\n",
      " | Epoch 2 | Loss: 0.007901806384325027 | Accuracy: 100.0%\n",
      " | Epoch 2 | Loss: 0.007716805674135685 | Accuracy: 100.0%\n",
      " | Epoch 2 | Loss: 0.007303995080292225 | Accuracy: 100.0%\n",
      " | Epoch 2 | Loss: 0.007945345714688301 | Accuracy: 100.0%\n",
      " | Epoch 2 | Loss: 0.007814226672053337 | Accuracy: 100.0%\n",
      " | Epoch 2 | Loss: 0.37094736099243164 | Accuracy: 93.75%\n",
      " | Epoch 2 | Loss: 0.007863611914217472 | Accuracy: 100.0%\n",
      " | Epoch 2 | Loss: 0.17656667530536652 | Accuracy: 96.875%\n",
      " | Epoch 2 | Loss: 0.0072309765964746475 | Accuracy: 100.0%\n",
      " | Epoch 2 | Loss: 0.008531476370990276 | Accuracy: 100.0%\n",
      " | Epoch 2 | Loss: 0.1960906833410263 | Accuracy: 96.875%\n",
      " | Epoch 2 | Loss: 0.008697719313204288 | Accuracy: 100.0%\n",
      " | Epoch 2 | Loss: 0.007963940501213074 | Accuracy: 100.0%\n",
      " | Epoch 2 | Loss: 0.00871135015040636 | Accuracy: 100.0%\n",
      " | Epoch 2 | Loss: 0.008901054039597511 | Accuracy: 100.0%\n",
      " | Epoch 2 | Loss: 0.008365201763808727 | Accuracy: 100.0%\n",
      " | Epoch 2 | Loss: 0.009435822255909443 | Accuracy: 100.0%\n",
      " | Epoch 2 | Loss: 0.009320206008851528 | Accuracy: 100.0%\n",
      " | Epoch 2 | Loss: 0.007845733314752579 | Accuracy: 100.0%\n",
      " | Epoch 2 | Loss: 0.2999553382396698 | Accuracy: 96.875%\n",
      " | Epoch 2 | Loss: 0.008746545761823654 | Accuracy: 100.0%\n",
      " | Epoch 2 | Loss: 0.008192954584956169 | Accuracy: 100.0%\n",
      " | Epoch 2 | Loss: 0.007000299636274576 | Accuracy: 100.0%\n",
      " | Epoch 2 | Loss: 0.008918285369873047 | Accuracy: 100.0%\n",
      " | Epoch 2 | Loss: 0.010158887133002281 | Accuracy: 100.0%\n",
      " | Epoch 2 | Loss: 0.009571768343448639 | Accuracy: 100.0%\n",
      " | Epoch 2 | Loss: 0.00905432365834713 | Accuracy: 100.0%\n",
      " | Epoch 2 | Loss: 0.00872852187603712 | Accuracy: 100.0%\n",
      " | Epoch 2 | Loss: 0.25264349579811096 | Accuracy: 96.875%\n",
      " | Epoch 2 | Loss: 0.008209251798689365 | Accuracy: 100.0%\n",
      " | Epoch 2 | Loss: 0.009530549868941307 | Accuracy: 100.0%\n",
      " | Epoch 2 | Loss: 0.007688188459724188 | Accuracy: 100.0%\n",
      " | Epoch 2 | Loss: 0.00798789318650961 | Accuracy: 100.0%\n",
      " | Epoch 2 | Loss: 0.008675419725477695 | Accuracy: 100.0%\n",
      " | Epoch 2 | Loss: 0.010265319608151913 | Accuracy: 100.0%\n",
      " | Epoch 2 | Loss: 0.008196392096579075 | Accuracy: 100.0%\n",
      " | Epoch 2 | Loss: 0.008341859094798565 | Accuracy: 100.0%\n",
      " | Epoch 2 | Loss: 0.009012655355036259 | Accuracy: 100.0%\n",
      " | Epoch 2 | Loss: 0.007523420732468367 | Accuracy: 100.0%\n",
      " | Epoch 2 | Loss: 0.009559595957398415 | Accuracy: 100.0%\n",
      " | Epoch 2 | Loss: 0.2115674465894699 | Accuracy: 96.875%\n",
      " | Epoch 2 | Loss: 0.008541981689631939 | Accuracy: 100.0%\n",
      " | Epoch 2 | Loss: 0.009702655486762524 | Accuracy: 100.0%\n",
      " | Epoch 2 | Loss: 0.0069330958649516106 | Accuracy: 100.0%\n",
      " | Epoch 2 | Loss: 0.007777975872159004 | Accuracy: 100.0%\n",
      " | Epoch 2 | Loss: 0.00852683000266552 | Accuracy: 100.0%\n",
      " | Epoch 2 | Loss: 0.17720326781272888 | Accuracy: 96.875%\n",
      " | Epoch 2 | Loss: 0.008843667805194855 | Accuracy: 100.0%\n",
      " | Epoch 2 | Loss: 0.2650255858898163 | Accuracy: 96.875%\n",
      " | Epoch 2 | Loss: 0.008175828494131565 | Accuracy: 100.0%\n",
      " | Epoch 2 | Loss: 0.007247599307447672 | Accuracy: 100.0%\n",
      " | Epoch 2 | Loss: 0.009309318847954273 | Accuracy: 100.0%\n",
      " | Epoch 2 | Loss: 0.00986043643206358 | Accuracy: 100.0%\n",
      " | Epoch 2 | Loss: 0.009500740095973015 | Accuracy: 100.0%\n",
      " | Epoch 2 | Loss: 0.00900873914361 | Accuracy: 100.0%\n",
      " | Epoch 2 | Loss: 0.00651548570021987 | Accuracy: 100.0%\n",
      " | Epoch 2 | Loss: 0.009482406079769135 | Accuracy: 100.0%\n",
      " | Epoch 2 | Loss: 0.009707910008728504 | Accuracy: 100.0%\n",
      " | Epoch 2 | Loss: 0.007781158201396465 | Accuracy: 100.0%\n",
      " | Epoch 2 | Loss: 0.0073118689469993114 | Accuracy: 100.0%\n",
      " | Epoch 2 | Loss: 0.009071197360754013 | Accuracy: 100.0%\n",
      " | Epoch 2 | Loss: 0.19372974336147308 | Accuracy: 96.875%\n",
      " | Epoch 2 | Loss: 0.007495159283280373 | Accuracy: 100.0%\n",
      " | Epoch 2 | Loss: 0.008581292815506458 | Accuracy: 100.0%\n",
      " | Epoch 2 | Loss: 0.19394899904727936 | Accuracy: 96.875%\n",
      " | Epoch 2 | Loss: 0.236185222864151 | Accuracy: 96.875%\n"
     ]
    },
    {
     "name": "stderr",
     "output_type": "stream",
     "text": [
      "Epoch 2:  89%|███████████████████████▉   | 1331/1501 [00:02<00:00, 568.13batch/s, accuracy=100.0%, loss=0.00714]"
     ]
    },
    {
     "name": "stdout",
     "output_type": "stream",
     "text": [
      " | Epoch 2 | Loss: 0.009167486801743507 | Accuracy: 100.0%\n",
      " | Epoch 2 | Loss: 0.008021610789000988 | Accuracy: 100.0%\n",
      " | Epoch 2 | Loss: 0.009014597162604332 | Accuracy: 100.0%\n",
      " | Epoch 2 | Loss: 0.009044341742992401 | Accuracy: 100.0%\n",
      " | Epoch 2 | Loss: 0.007929116487503052 | Accuracy: 100.0%\n",
      " | Epoch 2 | Loss: 0.010028021410107613 | Accuracy: 100.0%\n",
      " | Epoch 2 | Loss: 0.009243499487638474 | Accuracy: 100.0%\n",
      " | Epoch 2 | Loss: 0.008239230141043663 | Accuracy: 100.0%\n",
      " | Epoch 2 | Loss: 0.0083103496581316 | Accuracy: 100.0%\n",
      " | Epoch 2 | Loss: 0.008947514928877354 | Accuracy: 100.0%\n",
      " | Epoch 2 | Loss: 0.011196676641702652 | Accuracy: 100.0%\n",
      " | Epoch 2 | Loss: 0.007735063787549734 | Accuracy: 100.0%\n",
      " | Epoch 2 | Loss: 0.008826187811791897 | Accuracy: 100.0%\n",
      " | Epoch 2 | Loss: 0.007926784455776215 | Accuracy: 100.0%\n",
      " | Epoch 2 | Loss: 0.009695319458842278 | Accuracy: 100.0%\n",
      " | Epoch 2 | Loss: 0.00733930803835392 | Accuracy: 100.0%\n",
      " | Epoch 2 | Loss: 0.008540173061192036 | Accuracy: 100.0%\n",
      " | Epoch 2 | Loss: 0.006678252015262842 | Accuracy: 100.0%\n",
      " | Epoch 2 | Loss: 0.008673903532326221 | Accuracy: 100.0%\n",
      " | Epoch 2 | Loss: 0.009757820516824722 | Accuracy: 100.0%\n",
      " | Epoch 2 | Loss: 0.007622673176229 | Accuracy: 100.0%\n",
      " | Epoch 2 | Loss: 0.007801511790603399 | Accuracy: 100.0%\n",
      " | Epoch 2 | Loss: 0.0074460129253566265 | Accuracy: 100.0%\n",
      " | Epoch 2 | Loss: 0.008967094123363495 | Accuracy: 100.0%\n",
      " | Epoch 2 | Loss: 0.007854530587792397 | Accuracy: 100.0%\n",
      " | Epoch 2 | Loss: 0.008326251059770584 | Accuracy: 100.0%\n",
      " | Epoch 2 | Loss: 0.007583285216242075 | Accuracy: 100.0%\n",
      " | Epoch 2 | Loss: 0.006878734566271305 | Accuracy: 100.0%\n",
      " | Epoch 2 | Loss: 0.007959432899951935 | Accuracy: 100.0%\n",
      " | Epoch 2 | Loss: 0.008288776502013206 | Accuracy: 100.0%\n",
      " | Epoch 2 | Loss: 0.006256404332816601 | Accuracy: 100.0%\n",
      " | Epoch 2 | Loss: 0.19450946152210236 | Accuracy: 96.875%\n",
      " | Epoch 2 | Loss: 0.007172524929046631 | Accuracy: 100.0%\n",
      " | Epoch 2 | Loss: 0.0070106894709169865 | Accuracy: 100.0%\n",
      " | Epoch 2 | Loss: 0.006930589210242033 | Accuracy: 100.0%\n",
      " | Epoch 2 | Loss: 0.006453481502830982 | Accuracy: 100.0%\n",
      " | Epoch 2 | Loss: 0.24819794297218323 | Accuracy: 96.875%\n",
      " | Epoch 2 | Loss: 0.008645536378026009 | Accuracy: 100.0%\n",
      " | Epoch 2 | Loss: 0.18716168403625488 | Accuracy: 96.875%\n",
      " | Epoch 2 | Loss: 0.007212670519948006 | Accuracy: 100.0%\n",
      " | Epoch 2 | Loss: 0.00804104469716549 | Accuracy: 100.0%\n",
      " | Epoch 2 | Loss: 0.006640223320573568 | Accuracy: 100.0%\n",
      " | Epoch 2 | Loss: 0.0068712392821908 | Accuracy: 100.0%\n",
      " | Epoch 2 | Loss: 0.0074765183962881565 | Accuracy: 100.0%\n",
      " | Epoch 2 | Loss: 0.00816592387855053 | Accuracy: 100.0%\n",
      " | Epoch 2 | Loss: 0.0066193342208862305 | Accuracy: 100.0%\n",
      " | Epoch 2 | Loss: 0.00749271921813488 | Accuracy: 100.0%\n",
      " | Epoch 2 | Loss: 0.008243849501013756 | Accuracy: 100.0%\n",
      " | Epoch 2 | Loss: 0.007834111340343952 | Accuracy: 100.0%\n",
      " | Epoch 2 | Loss: 0.006040379870682955 | Accuracy: 100.0%\n",
      " | Epoch 2 | Loss: 0.007634028792381287 | Accuracy: 100.0%\n",
      " | Epoch 2 | Loss: 0.0070023685693740845 | Accuracy: 100.0%\n",
      " | Epoch 2 | Loss: 0.0073290192522108555 | Accuracy: 100.0%\n",
      " | Epoch 2 | Loss: 0.006771817337721586 | Accuracy: 100.0%\n",
      " | Epoch 2 | Loss: 0.008691047318279743 | Accuracy: 100.0%\n",
      " | Epoch 2 | Loss: 0.006361418403685093 | Accuracy: 100.0%\n",
      " | Epoch 2 | Loss: 0.007359717972576618 | Accuracy: 100.0%\n",
      " | Epoch 2 | Loss: 0.006724666804075241 | Accuracy: 100.0%\n",
      " | Epoch 2 | Loss: 0.007674267049878836 | Accuracy: 100.0%\n",
      " | Epoch 2 | Loss: 0.006311127915978432 | Accuracy: 100.0%\n",
      " | Epoch 2 | Loss: 0.006744434125721455 | Accuracy: 100.0%\n",
      " | Epoch 2 | Loss: 0.30846330523490906 | Accuracy: 96.875%\n",
      " | Epoch 2 | Loss: 0.008225000463426113 | Accuracy: 100.0%\n",
      " | Epoch 2 | Loss: 0.00633262749761343 | Accuracy: 100.0%\n",
      " | Epoch 2 | Loss: 0.006331253796815872 | Accuracy: 100.0%\n",
      " | Epoch 2 | Loss: 0.005926128942519426 | Accuracy: 100.0%\n",
      " | Epoch 2 | Loss: 0.006727623287588358 | Accuracy: 100.0%\n",
      " | Epoch 2 | Loss: 0.0067969756200909615 | Accuracy: 100.0%\n",
      " | Epoch 2 | Loss: 0.006291039288043976 | Accuracy: 100.0%\n",
      " | Epoch 2 | Loss: 0.009503611363470554 | Accuracy: 100.0%\n",
      " | Epoch 2 | Loss: 0.006504197604954243 | Accuracy: 100.0%\n",
      " | Epoch 2 | Loss: 0.00643715588375926 | Accuracy: 100.0%\n",
      " | Epoch 2 | Loss: 0.2439960390329361 | Accuracy: 96.875%\n",
      " | Epoch 2 | Loss: 0.006532587576657534 | Accuracy: 100.0%\n",
      " | Epoch 2 | Loss: 0.007139592431485653 | Accuracy: 100.0%\n",
      " | Epoch 2 | Loss: 0.007113455794751644 | Accuracy: 100.0%\n",
      " | Epoch 2 | Loss: 0.006176022347062826 | Accuracy: 100.0%\n",
      " | Epoch 2 | Loss: 0.0062125143595039845 | Accuracy: 100.0%\n",
      " | Epoch 2 | Loss: 0.007094965316355228 | Accuracy: 100.0%\n",
      " | Epoch 2 | Loss: 0.006577948108315468 | Accuracy: 100.0%\n",
      " | Epoch 2 | Loss: 0.007729816250503063 | Accuracy: 100.0%\n",
      " | Epoch 2 | Loss: 0.00691790459677577 | Accuracy: 100.0%\n",
      " | Epoch 2 | Loss: 0.006984841078519821 | Accuracy: 100.0%\n",
      " | Epoch 2 | Loss: 0.0065750302746891975 | Accuracy: 100.0%\n",
      " | Epoch 2 | Loss: 0.00571800721809268 | Accuracy: 100.0%\n",
      " | Epoch 2 | Loss: 0.007670004852116108 | Accuracy: 100.0%\n",
      " | Epoch 2 | Loss: 0.00700122956186533 | Accuracy: 100.0%\n",
      " | Epoch 2 | Loss: 0.00793854333460331 | Accuracy: 100.0%\n",
      " | Epoch 2 | Loss: 0.005804101005196571 | Accuracy: 100.0%\n",
      " | Epoch 2 | Loss: 0.01239302009344101 | Accuracy: 100.0%\n",
      " | Epoch 2 | Loss: 0.007023264188319445 | Accuracy: 100.0%\n",
      " | Epoch 2 | Loss: 0.0071845874190330505 | Accuracy: 100.0%\n",
      " | Epoch 2 | Loss: 0.006510923616588116 | Accuracy: 100.0%\n",
      " | Epoch 2 | Loss: 0.006364872679114342 | Accuracy: 100.0%\n",
      " | Epoch 2 | Loss: 0.18224424123764038 | Accuracy: 96.875%\n",
      " | Epoch 2 | Loss: 0.007270960137248039 | Accuracy: 100.0%\n",
      " | Epoch 2 | Loss: 0.005008775740861893 | Accuracy: 100.0%\n",
      " | Epoch 2 | Loss: 0.006152279209345579 | Accuracy: 100.0%\n",
      " | Epoch 2 | Loss: 0.006531488616019487 | Accuracy: 100.0%\n",
      " | Epoch 2 | Loss: 0.007003354374319315 | Accuracy: 100.0%\n",
      " | Epoch 2 | Loss: 0.2037707418203354 | Accuracy: 96.875%\n",
      " | Epoch 2 | Loss: 0.007859489880502224 | Accuracy: 100.0%\n",
      " | Epoch 2 | Loss: 0.007069038227200508 | Accuracy: 100.0%\n",
      " | Epoch 2 | Loss: 0.006610780488699675 | Accuracy: 100.0%\n",
      " | Epoch 2 | Loss: 0.005438437219709158 | Accuracy: 100.0%\n",
      " | Epoch 2 | Loss: 0.005216005723923445 | Accuracy: 100.0%\n",
      " | Epoch 2 | Loss: 0.23664915561676025 | Accuracy: 96.875%\n",
      " | Epoch 2 | Loss: 0.00576684670522809 | Accuracy: 100.0%\n",
      " | Epoch 2 | Loss: 0.00640373257920146 | Accuracy: 100.0%\n",
      " | Epoch 2 | Loss: 0.005328288767486811 | Accuracy: 100.0%\n",
      " | Epoch 2 | Loss: 0.21240364015102386 | Accuracy: 96.875%\n",
      " | Epoch 2 | Loss: 0.007143231574445963 | Accuracy: 100.0%\n"
     ]
    },
    {
     "name": "stderr",
     "output_type": "stream",
     "text": [
      "Epoch 2:  96%|██████████████████████████▉ | 1447/1501 [00:02<00:00, 534.15batch/s, accuracy=96.875%, loss=0.172]"
     ]
    },
    {
     "name": "stdout",
     "output_type": "stream",
     "text": [
      " | Epoch 2 | Loss: 0.006213898304849863 | Accuracy: 100.0%\n",
      " | Epoch 2 | Loss: 0.006290540099143982 | Accuracy: 100.0%\n",
      " | Epoch 2 | Loss: 0.006419936660677195 | Accuracy: 100.0%\n",
      " | Epoch 2 | Loss: 0.2545989155769348 | Accuracy: 96.875%\n",
      " | Epoch 2 | Loss: 0.00531903887167573 | Accuracy: 100.0%\n",
      " | Epoch 2 | Loss: 0.006037077866494656 | Accuracy: 100.0%\n",
      " | Epoch 2 | Loss: 0.0057098534889519215 | Accuracy: 100.0%\n",
      " | Epoch 2 | Loss: 0.007264008279889822 | Accuracy: 100.0%\n",
      " | Epoch 2 | Loss: 0.005750040523707867 | Accuracy: 100.0%\n",
      " | Epoch 2 | Loss: 0.005808090325444937 | Accuracy: 100.0%\n",
      " | Epoch 2 | Loss: 0.39706435799598694 | Accuracy: 93.75%\n",
      " | Epoch 2 | Loss: 0.006726577877998352 | Accuracy: 100.0%\n",
      " | Epoch 2 | Loss: 0.0074666705913841724 | Accuracy: 100.0%\n",
      " | Epoch 2 | Loss: 0.006552678532898426 | Accuracy: 100.0%\n",
      " | Epoch 2 | Loss: 0.0062309387139976025 | Accuracy: 100.0%\n",
      " | Epoch 2 | Loss: 0.2901511788368225 | Accuracy: 96.875%\n",
      " | Epoch 2 | Loss: 0.007761876564472914 | Accuracy: 100.0%\n",
      " | Epoch 2 | Loss: 0.006086694076657295 | Accuracy: 100.0%\n",
      " | Epoch 2 | Loss: 0.007909958250820637 | Accuracy: 100.0%\n",
      " | Epoch 2 | Loss: 0.2521502673625946 | Accuracy: 96.875%\n",
      " | Epoch 2 | Loss: 0.006952789146453142 | Accuracy: 100.0%\n",
      " | Epoch 2 | Loss: 0.006854555103927851 | Accuracy: 100.0%\n",
      " | Epoch 2 | Loss: 0.006334230769425631 | Accuracy: 100.0%\n",
      " | Epoch 2 | Loss: 0.007886162959039211 | Accuracy: 100.0%\n",
      " | Epoch 2 | Loss: 0.006678163073956966 | Accuracy: 100.0%\n",
      " | Epoch 2 | Loss: 0.007043423131108284 | Accuracy: 100.0%\n",
      " | Epoch 2 | Loss: 0.008364953100681305 | Accuracy: 100.0%\n",
      " | Epoch 2 | Loss: 0.21649698913097382 | Accuracy: 96.875%\n",
      " | Epoch 2 | Loss: 0.007318458519876003 | Accuracy: 100.0%\n",
      " | Epoch 2 | Loss: 0.0074327923357486725 | Accuracy: 100.0%\n",
      " | Epoch 2 | Loss: 0.008769863285124302 | Accuracy: 100.0%\n",
      " | Epoch 2 | Loss: 0.0072520412504673 | Accuracy: 100.0%\n",
      " | Epoch 2 | Loss: 0.00809608306735754 | Accuracy: 100.0%\n",
      " | Epoch 2 | Loss: 0.007598150055855513 | Accuracy: 100.0%\n",
      " | Epoch 2 | Loss: 0.008469127118587494 | Accuracy: 100.0%\n",
      " | Epoch 2 | Loss: 0.0145703861489892 | Accuracy: 100.0%\n",
      " | Epoch 2 | Loss: 0.008032627403736115 | Accuracy: 100.0%\n",
      " | Epoch 2 | Loss: 0.17809024453163147 | Accuracy: 96.875%\n",
      " | Epoch 2 | Loss: 0.009680364280939102 | Accuracy: 100.0%\n",
      " | Epoch 2 | Loss: 0.007198943756520748 | Accuracy: 100.0%\n",
      " | Epoch 2 | Loss: 0.007926671765744686 | Accuracy: 100.0%\n",
      " | Epoch 2 | Loss: 0.008029213175177574 | Accuracy: 100.0%\n",
      " | Epoch 2 | Loss: 0.0072863223031163216 | Accuracy: 100.0%\n",
      " | Epoch 2 | Loss: 0.007889927364885807 | Accuracy: 100.0%\n",
      " | Epoch 2 | Loss: 0.007797996513545513 | Accuracy: 100.0%\n",
      " | Epoch 2 | Loss: 0.2982702851295471 | Accuracy: 96.875%\n",
      " | Epoch 2 | Loss: 0.0069543770514428616 | Accuracy: 100.0%\n",
      " | Epoch 2 | Loss: 0.00922422669827938 | Accuracy: 100.0%\n",
      " | Epoch 2 | Loss: 0.0069975778460502625 | Accuracy: 100.0%\n",
      " | Epoch 2 | Loss: 0.008184940554201603 | Accuracy: 100.0%\n",
      " | Epoch 2 | Loss: 0.007187608629465103 | Accuracy: 100.0%\n",
      " | Epoch 2 | Loss: 0.008503971621394157 | Accuracy: 100.0%\n",
      " | Epoch 2 | Loss: 0.2571348547935486 | Accuracy: 96.875%\n",
      " | Epoch 2 | Loss: 0.008146090433001518 | Accuracy: 100.0%\n",
      " | Epoch 2 | Loss: 0.0071247173473238945 | Accuracy: 100.0%\n",
      " | Epoch 2 | Loss: 0.007561171427369118 | Accuracy: 100.0%\n",
      " | Epoch 2 | Loss: 0.007398776710033417 | Accuracy: 100.0%\n",
      " | Epoch 2 | Loss: 0.007149319630116224 | Accuracy: 100.0%\n",
      " | Epoch 2 | Loss: 0.008234010078012943 | Accuracy: 100.0%\n",
      " | Epoch 2 | Loss: 0.18631576001644135 | Accuracy: 96.875%\n",
      " | Epoch 2 | Loss: 0.007429059129208326 | Accuracy: 100.0%\n",
      " | Epoch 2 | Loss: 0.0067741540260612965 | Accuracy: 100.0%\n",
      " | Epoch 2 | Loss: 0.009010715410113335 | Accuracy: 100.0%\n",
      " | Epoch 2 | Loss: 0.0069539290852844715 | Accuracy: 100.0%\n",
      " | Epoch 2 | Loss: 0.006527587305754423 | Accuracy: 100.0%\n",
      " | Epoch 2 | Loss: 0.008060437627136707 | Accuracy: 100.0%\n",
      " | Epoch 2 | Loss: 0.008609727956354618 | Accuracy: 100.0%\n",
      " | Epoch 2 | Loss: 0.008476793766021729 | Accuracy: 100.0%\n",
      " | Epoch 2 | Loss: 0.006164848804473877 | Accuracy: 100.0%\n",
      " | Epoch 2 | Loss: 0.007448504213243723 | Accuracy: 100.0%\n",
      " | Epoch 2 | Loss: 0.0066945780999958515 | Accuracy: 100.0%\n",
      " | Epoch 2 | Loss: 0.0072142621502280235 | Accuracy: 100.0%\n",
      " | Epoch 2 | Loss: 0.00877571664750576 | Accuracy: 100.0%\n",
      " | Epoch 2 | Loss: 0.007349084597080946 | Accuracy: 100.0%\n",
      " | Epoch 2 | Loss: 0.006766231264919043 | Accuracy: 100.0%\n",
      " | Epoch 2 | Loss: 0.21115705370903015 | Accuracy: 96.875%\n",
      " | Epoch 2 | Loss: 0.15589579939842224 | Accuracy: 96.875%\n",
      " | Epoch 2 | Loss: 0.18460026383399963 | Accuracy: 96.875%\n",
      " | Epoch 2 | Loss: 0.008250832557678223 | Accuracy: 100.0%\n",
      " | Epoch 2 | Loss: 0.20839576423168182 | Accuracy: 96.875%\n",
      " | Epoch 2 | Loss: 0.1725987046957016 | Accuracy: 96.875%\n",
      " | Epoch 2 | Loss: 0.008335338905453682 | Accuracy: 100.0%\n",
      " | Epoch 2 | Loss: 0.007811103947460651 | Accuracy: 100.0%\n",
      " | Epoch 2 | Loss: 0.4401726722717285 | Accuracy: 93.75%\n",
      " | Epoch 2 | Loss: 0.009701496921479702 | Accuracy: 100.0%\n",
      " | Epoch 2 | Loss: 0.00906121265143156 | Accuracy: 100.0%\n",
      " | Epoch 2 | Loss: 0.21447418630123138 | Accuracy: 96.875%\n",
      " | Epoch 2 | Loss: 0.009691601619124413 | Accuracy: 100.0%\n",
      " | Epoch 2 | Loss: 0.008648796007037163 | Accuracy: 100.0%\n",
      " | Epoch 2 | Loss: 0.00868899654597044 | Accuracy: 100.0%\n",
      " | Epoch 2 | Loss: 0.008901300840079784 | Accuracy: 100.0%\n",
      " | Epoch 2 | Loss: 0.009649878367781639 | Accuracy: 100.0%\n",
      " | Epoch 2 | Loss: 0.009609891101717949 | Accuracy: 100.0%\n",
      " | Epoch 2 | Loss: 0.00849950686097145 | Accuracy: 100.0%\n",
      " | Epoch 2 | Loss: 0.011201371438801289 | Accuracy: 100.0%\n",
      " | Epoch 2 | Loss: 0.010800561867654324 | Accuracy: 100.0%\n",
      " | Epoch 2 | Loss: 0.007633802015334368 | Accuracy: 100.0%\n",
      " | Epoch 2 | Loss: 0.008236116729676723 | Accuracy: 100.0%\n",
      " | Epoch 2 | Loss: 0.00816264282912016 | Accuracy: 100.0%\n",
      " | Epoch 2 | Loss: 0.008829810656607151 | Accuracy: 100.0%\n",
      " | Epoch 2 | Loss: 0.009041355922818184 | Accuracy: 100.0%\n",
      " | Epoch 2 | Loss: 0.009780693799257278 | Accuracy: 100.0%\n",
      " | Epoch 2 | Loss: 0.2608136534690857 | Accuracy: 96.875%\n",
      " | Epoch 2 | Loss: 0.010749304667115211 | Accuracy: 100.0%\n",
      " | Epoch 2 | Loss: 0.009153919294476509 | Accuracy: 100.0%\n",
      " | Epoch 2 | Loss: 0.008501431904733181 | Accuracy: 100.0%\n",
      " | Epoch 2 | Loss: 0.17168718576431274 | Accuracy: 96.875%\n"
     ]
    },
    {
     "name": "stderr",
     "output_type": "stream",
     "text": [
      "Epoch 2: 100%|███████████████████████████| 1501/1501 [00:03<00:00, 491.54batch/s, accuracy=100.0%, loss=0.00846]\n"
     ]
    },
    {
     "name": "stdout",
     "output_type": "stream",
     "text": [
      " | Epoch 2 | Loss: 0.007753077894449234 | Accuracy: 100.0%\n",
      " | Epoch 2 | Loss: 0.010459965094923973 | Accuracy: 100.0%\n",
      " | Epoch 2 | Loss: 0.008680101484060287 | Accuracy: 100.0%\n",
      " | Epoch 2 | Loss: 0.009562196210026741 | Accuracy: 100.0%\n",
      " | Epoch 2 | Loss: 0.008526504971086979 | Accuracy: 100.0%\n",
      " | Epoch 2 | Loss: 0.008595472201704979 | Accuracy: 100.0%\n",
      " | Epoch 2 | Loss: 0.1808079183101654 | Accuracy: 96.875%\n",
      " | Epoch 2 | Loss: 0.009154818020761013 | Accuracy: 100.0%\n",
      " | Epoch 2 | Loss: 0.010385235771536827 | Accuracy: 100.0%\n",
      " | Epoch 2 | Loss: 0.008122703991830349 | Accuracy: 100.0%\n",
      " | Epoch 2 | Loss: 0.011210588738322258 | Accuracy: 100.0%\n",
      " | Epoch 2 | Loss: 0.008737313561141491 | Accuracy: 100.0%\n",
      " | Epoch 2 | Loss: 0.010148564353585243 | Accuracy: 100.0%\n",
      " | Epoch 2 | Loss: 0.2807532846927643 | Accuracy: 96.875%\n",
      " | Epoch 2 | Loss: 0.009681500494480133 | Accuracy: 100.0%\n",
      " | Epoch 2 | Loss: 0.008497836999595165 | Accuracy: 100.0%\n",
      " | Epoch 2 | Loss: 0.009046392515301704 | Accuracy: 100.0%\n",
      " | Epoch 2 | Loss: 0.008088372647762299 | Accuracy: 100.0%\n",
      " | Epoch 2 | Loss: 0.007396051660180092 | Accuracy: 100.0%\n",
      " | Epoch 2 | Loss: 0.00798199512064457 | Accuracy: 100.0%\n",
      " | Epoch 2 | Loss: 0.009421713650226593 | Accuracy: 100.0%\n",
      " | Epoch 2 | Loss: 0.009436612017452717 | Accuracy: 100.0%\n",
      " | Epoch 2 | Loss: 0.0076002818532288074 | Accuracy: 100.0%\n",
      " | Epoch 2 | Loss: 0.00792067963629961 | Accuracy: 100.0%\n",
      " | Epoch 2 | Loss: 0.00902077741920948 | Accuracy: 100.0%\n",
      " | Epoch 2 | Loss: 0.010100659914314747 | Accuracy: 100.0%\n",
      " | Epoch 2 | Loss: 0.009409005753695965 | Accuracy: 100.0%\n",
      " | Epoch 2 | Loss: 0.17529268562793732 | Accuracy: 96.875%\n",
      " | Epoch 2 | Loss: 0.008597945794463158 | Accuracy: 100.0%\n",
      " | Epoch 2 | Loss: 0.24263057112693787 | Accuracy: 96.875%\n",
      " | Epoch 2 | Loss: 0.00945365708321333 | Accuracy: 100.0%\n",
      " | Epoch 2 | Loss: 0.008403919637203217 | Accuracy: 100.0%\n",
      " | Epoch 2 | Loss: 0.007274497766047716 | Accuracy: 100.0%\n",
      " | Epoch 2 | Loss: 0.007450187113136053 | Accuracy: 100.0%\n",
      " | Epoch 2 | Loss: 0.00725331949070096 | Accuracy: 100.0%\n",
      " | Epoch 2 | Loss: 0.010059008374810219 | Accuracy: 100.0%\n",
      " | Epoch 2 | Loss: 0.0077374279499053955 | Accuracy: 100.0%\n",
      " | Epoch 2 | Loss: 0.00971812754869461 | Accuracy: 100.0%\n",
      " | Epoch 2 | Loss: 0.008456714451313019 | Accuracy: 100.0%\n"
     ]
    },
    {
     "name": "stderr",
     "output_type": "stream",
     "text": [
      "Epoch 3:   4%|█▏                           | 60/1501 [00:00<00:04, 321.80batch/s, accuracy=100.0%, loss=0.00651]"
     ]
    },
    {
     "name": "stdout",
     "output_type": "stream",
     "text": [
      " | Epoch 3 | Loss: 0.009220367297530174 | Accuracy: 100.0%\n",
      " | Epoch 3 | Loss: 0.007402076851576567 | Accuracy: 100.0%\n",
      " | Epoch 3 | Loss: 0.275849848985672 | Accuracy: 96.875%\n",
      " | Epoch 3 | Loss: 0.007715014275163412 | Accuracy: 100.0%\n",
      " | Epoch 3 | Loss: 0.0074016940779984 | Accuracy: 100.0%\n",
      " | Epoch 3 | Loss: 0.1959625482559204 | Accuracy: 96.875%\n",
      " | Epoch 3 | Loss: 0.007675326429307461 | Accuracy: 100.0%\n",
      " | Epoch 3 | Loss: 0.0069540273398160934 | Accuracy: 100.0%\n",
      " | Epoch 3 | Loss: 0.006409568712115288 | Accuracy: 100.0%\n",
      " | Epoch 3 | Loss: 0.007713730446994305 | Accuracy: 100.0%\n",
      " | Epoch 3 | Loss: 0.0064584603533148766 | Accuracy: 100.0%\n",
      " | Epoch 3 | Loss: 0.007175775244832039 | Accuracy: 100.0%\n",
      " | Epoch 3 | Loss: 0.008763963356614113 | Accuracy: 100.0%\n",
      " | Epoch 3 | Loss: 0.007287691347301006 | Accuracy: 100.0%\n",
      " | Epoch 3 | Loss: 0.007726565469056368 | Accuracy: 100.0%\n",
      " | Epoch 3 | Loss: 0.006550682708621025 | Accuracy: 100.0%\n",
      " | Epoch 3 | Loss: 0.0077398247085511684 | Accuracy: 100.0%\n",
      " | Epoch 3 | Loss: 0.010388490743935108 | Accuracy: 100.0%\n",
      " | Epoch 3 | Loss: 0.0070738657377660275 | Accuracy: 100.0%\n",
      " | Epoch 3 | Loss: 0.008898478001356125 | Accuracy: 100.0%\n",
      " | Epoch 3 | Loss: 0.006703634280711412 | Accuracy: 100.0%\n",
      " | Epoch 3 | Loss: 0.006222744006663561 | Accuracy: 100.0%\n",
      " | Epoch 3 | Loss: 0.2086721807718277 | Accuracy: 96.875%\n",
      " | Epoch 3 | Loss: 0.0075547662563622 | Accuracy: 100.0%\n",
      " | Epoch 3 | Loss: 0.008986436761915684 | Accuracy: 100.0%\n",
      " | Epoch 3 | Loss: 0.006594548001885414 | Accuracy: 100.0%\n",
      " | Epoch 3 | Loss: 0.007080798503011465 | Accuracy: 100.0%\n",
      " | Epoch 3 | Loss: 0.0064040315337479115 | Accuracy: 100.0%\n",
      " | Epoch 3 | Loss: 0.27414965629577637 | Accuracy: 96.875%\n",
      " | Epoch 3 | Loss: 0.007711031939834356 | Accuracy: 100.0%\n",
      " | Epoch 3 | Loss: 0.007444347254931927 | Accuracy: 100.0%\n",
      " | Epoch 3 | Loss: 0.007135138846933842 | Accuracy: 100.0%\n",
      " | Epoch 3 | Loss: 0.00687397550791502 | Accuracy: 100.0%\n",
      " | Epoch 3 | Loss: 0.27458518743515015 | Accuracy: 96.875%\n",
      " | Epoch 3 | Loss: 0.007909497246146202 | Accuracy: 100.0%\n",
      " | Epoch 3 | Loss: 0.007488403934985399 | Accuracy: 100.0%\n",
      " | Epoch 3 | Loss: 0.007698177359998226 | Accuracy: 100.0%\n",
      " | Epoch 3 | Loss: 0.2414179891347885 | Accuracy: 96.875%\n",
      " | Epoch 3 | Loss: 0.008247124962508678 | Accuracy: 100.0%\n",
      " | Epoch 3 | Loss: 0.008090031333267689 | Accuracy: 100.0%\n",
      " | Epoch 3 | Loss: 0.006873459555208683 | Accuracy: 100.0%\n",
      " | Epoch 3 | Loss: 0.007834329269826412 | Accuracy: 100.0%\n",
      " | Epoch 3 | Loss: 0.008512778207659721 | Accuracy: 100.0%\n",
      " | Epoch 3 | Loss: 0.010389681905508041 | Accuracy: 100.0%\n",
      " | Epoch 3 | Loss: 0.008839062415063381 | Accuracy: 100.0%\n",
      " | Epoch 3 | Loss: 0.007521593943238258 | Accuracy: 100.0%\n",
      " | Epoch 3 | Loss: 0.009170628152787685 | Accuracy: 100.0%\n",
      " | Epoch 3 | Loss: 0.00871858187019825 | Accuracy: 100.0%\n",
      " | Epoch 3 | Loss: 0.009524498134851456 | Accuracy: 100.0%\n",
      " | Epoch 3 | Loss: 0.007163604721426964 | Accuracy: 100.0%\n",
      " | Epoch 3 | Loss: 0.00719192810356617 | Accuracy: 100.0%\n",
      " | Epoch 3 | Loss: 0.008241064846515656 | Accuracy: 100.0%\n",
      " | Epoch 3 | Loss: 0.4473389685153961 | Accuracy: 93.75%\n",
      " | Epoch 3 | Loss: 0.006742957979440689 | Accuracy: 100.0%\n",
      " | Epoch 3 | Loss: 0.0071159787476062775 | Accuracy: 100.0%\n",
      " | Epoch 3 | Loss: 0.007785207126289606 | Accuracy: 100.0%\n",
      " | Epoch 3 | Loss: 0.22639700770378113 | Accuracy: 96.875%\n",
      " | Epoch 3 | Loss: 0.007092800457030535 | Accuracy: 100.0%\n",
      " | Epoch 3 | Loss: 0.008932889439165592 | Accuracy: 100.0%\n",
      " | Epoch 3 | Loss: 0.006490256171673536 | Accuracy: 100.0%\n",
      " | Epoch 3 | Loss: 0.00739183509722352 | Accuracy: 100.0%\n",
      " | Epoch 3 | Loss: 0.21754427254199982 | Accuracy: 96.875%\n",
      " | Epoch 3 | Loss: 0.007833300158381462 | Accuracy: 100.0%\n",
      " | Epoch 3 | Loss: 0.008278369903564453 | Accuracy: 100.0%\n",
      " | Epoch 3 | Loss: 0.00796884298324585 | Accuracy: 100.0%\n",
      " | Epoch 3 | Loss: 0.00799483060836792 | Accuracy: 100.0%\n",
      " | Epoch 3 | Loss: 0.008184912614524364 | Accuracy: 100.0%\n",
      " | Epoch 3 | Loss: 0.008227381855249405 | Accuracy: 100.0%\n",
      " | Epoch 3 | Loss: 0.008280201815068722 | Accuracy: 100.0%\n",
      " | Epoch 3 | Loss: 0.008221392519772053 | Accuracy: 100.0%\n",
      " | Epoch 3 | Loss: 0.17137320339679718 | Accuracy: 96.875%\n",
      " | Epoch 3 | Loss: 0.011055506765842438 | Accuracy: 100.0%\n",
      " | Epoch 3 | Loss: 0.007412639446556568 | Accuracy: 100.0%\n",
      " | Epoch 3 | Loss: 0.006930663250386715 | Accuracy: 100.0%\n",
      " | Epoch 3 | Loss: 0.008045063354074955 | Accuracy: 100.0%\n",
      " | Epoch 3 | Loss: 0.00876513309776783 | Accuracy: 100.0%\n",
      " | Epoch 3 | Loss: 0.007641718722879887 | Accuracy: 100.0%\n",
      " | Epoch 3 | Loss: 0.009004670195281506 | Accuracy: 100.0%\n",
      " | Epoch 3 | Loss: 0.18498080968856812 | Accuracy: 96.875%\n",
      " | Epoch 3 | Loss: 0.008427347056567669 | Accuracy: 100.0%\n",
      " | Epoch 3 | Loss: 0.00822367798537016 | Accuracy: 100.0%\n",
      " | Epoch 3 | Loss: 0.007795632816851139 | Accuracy: 100.0%\n",
      " | Epoch 3 | Loss: 0.008366602472960949 | Accuracy: 100.0%\n",
      " | Epoch 3 | Loss: 0.007771370932459831 | Accuracy: 100.0%\n",
      " | Epoch 3 | Loss: 0.32404226064682007 | Accuracy: 93.75%\n",
      " | Epoch 3 | Loss: 0.008884822018444538 | Accuracy: 100.0%\n",
      " | Epoch 3 | Loss: 0.007328566163778305 | Accuracy: 100.0%\n",
      " | Epoch 3 | Loss: 0.007488857489079237 | Accuracy: 100.0%\n",
      " | Epoch 3 | Loss: 0.008518205024302006 | Accuracy: 100.0%\n",
      " | Epoch 3 | Loss: 0.014544020406901836 | Accuracy: 100.0%\n",
      " | Epoch 3 | Loss: 0.20087280869483948 | Accuracy: 96.875%\n",
      " | Epoch 3 | Loss: 0.008962372317910194 | Accuracy: 100.0%\n",
      " | Epoch 3 | Loss: 0.0093093765899539 | Accuracy: 100.0%\n",
      " | Epoch 3 | Loss: 0.009126831777393818 | Accuracy: 100.0%\n",
      " | Epoch 3 | Loss: 0.009509456343948841 | Accuracy: 100.0%\n",
      " | Epoch 3 | Loss: 0.008216849528253078 | Accuracy: 100.0%\n",
      " | Epoch 3 | Loss: 0.009846041910350323 | Accuracy: 100.0%\n",
      " | Epoch 3 | Loss: 0.010491414926946163 | Accuracy: 100.0%\n",
      " | Epoch 3 | Loss: 0.009259127080440521 | Accuracy: 100.0%\n",
      " | Epoch 3 | Loss: 0.008576768450438976 | Accuracy: 100.0%\n",
      " | Epoch 3 | Loss: 0.009047752246260643 | Accuracy: 100.0%\n",
      " | Epoch 3 | Loss: 0.00816991738975048 | Accuracy: 100.0%\n",
      " | Epoch 3 | Loss: 0.007697162218391895 | Accuracy: 100.0%\n",
      " | Epoch 3 | Loss: 0.009184996597468853 | Accuracy: 100.0%\n",
      " | Epoch 3 | Loss: 0.008053405210375786 | Accuracy: 100.0%\n",
      " | Epoch 3 | Loss: 0.007019971031695604 | Accuracy: 100.0%\n",
      " | Epoch 3 | Loss: 0.008580035530030727 | Accuracy: 100.0%\n",
      " | Epoch 3 | Loss: 0.008172804489731789 | Accuracy: 100.0%\n",
      " | Epoch 3 | Loss: 0.1921471506357193 | Accuracy: 96.875%\n",
      " | Epoch 3 | Loss: 0.007863380946218967 | Accuracy: 100.0%\n",
      " | Epoch 3 | Loss: 0.007552185095846653 | Accuracy: 100.0%\n",
      " | Epoch 3 | Loss: 0.0065145972184836864 | Accuracy: 100.0%\n"
     ]
    },
    {
     "name": "stderr",
     "output_type": "stream",
     "text": [
      "Epoch 3:  12%|███▏                        | 174/1501 [00:00<00:02, 484.45batch/s, accuracy=100.0%, loss=0.00962]"
     ]
    },
    {
     "name": "stdout",
     "output_type": "stream",
     "text": [
      " | Epoch 3 | Loss: 0.006914638448506594 | Accuracy: 100.0%\n",
      " | Epoch 3 | Loss: 0.007278472185134888 | Accuracy: 100.0%\n",
      " | Epoch 3 | Loss: 0.008323749527335167 | Accuracy: 100.0%\n",
      " | Epoch 3 | Loss: 0.0060359397903084755 | Accuracy: 100.0%\n",
      " | Epoch 3 | Loss: 0.008312554098665714 | Accuracy: 100.0%\n",
      " | Epoch 3 | Loss: 0.006401520222425461 | Accuracy: 100.0%\n",
      " | Epoch 3 | Loss: 0.008450798690319061 | Accuracy: 100.0%\n",
      " | Epoch 3 | Loss: 0.007654927205294371 | Accuracy: 100.0%\n",
      " | Epoch 3 | Loss: 0.007716949563473463 | Accuracy: 100.0%\n",
      " | Epoch 3 | Loss: 0.008967345580458641 | Accuracy: 100.0%\n",
      " | Epoch 3 | Loss: 0.27009308338165283 | Accuracy: 96.875%\n",
      " | Epoch 3 | Loss: 0.006522659678012133 | Accuracy: 100.0%\n",
      " | Epoch 3 | Loss: 0.009411750361323357 | Accuracy: 100.0%\n",
      " | Epoch 3 | Loss: 0.007228484842926264 | Accuracy: 100.0%\n",
      " | Epoch 3 | Loss: 0.006600845605134964 | Accuracy: 100.0%\n",
      " | Epoch 3 | Loss: 0.006812845356762409 | Accuracy: 100.0%\n",
      " | Epoch 3 | Loss: 0.007246307097375393 | Accuracy: 100.0%\n",
      " | Epoch 3 | Loss: 0.007368171121925116 | Accuracy: 100.0%\n",
      " | Epoch 3 | Loss: 0.006470581516623497 | Accuracy: 100.0%\n",
      " | Epoch 3 | Loss: 0.011515467427670956 | Accuracy: 100.0%\n",
      " | Epoch 3 | Loss: 0.007080281153321266 | Accuracy: 100.0%\n",
      " | Epoch 3 | Loss: 0.006388431414961815 | Accuracy: 100.0%\n",
      " | Epoch 3 | Loss: 0.006856817752122879 | Accuracy: 100.0%\n",
      " | Epoch 3 | Loss: 0.007472144905477762 | Accuracy: 100.0%\n",
      " | Epoch 3 | Loss: 0.006044869311153889 | Accuracy: 100.0%\n",
      " | Epoch 3 | Loss: 0.007105270400643349 | Accuracy: 100.0%\n",
      " | Epoch 3 | Loss: 0.006909313146024942 | Accuracy: 100.0%\n",
      " | Epoch 3 | Loss: 0.007512053474783897 | Accuracy: 100.0%\n",
      " | Epoch 3 | Loss: 0.009627820923924446 | Accuracy: 100.0%\n",
      " | Epoch 3 | Loss: 0.007521485909819603 | Accuracy: 100.0%\n",
      " | Epoch 3 | Loss: 0.006983212195336819 | Accuracy: 100.0%\n",
      " | Epoch 3 | Loss: 0.21889694035053253 | Accuracy: 96.875%\n",
      " | Epoch 3 | Loss: 0.005050893872976303 | Accuracy: 100.0%\n",
      " | Epoch 3 | Loss: 0.005916028283536434 | Accuracy: 100.0%\n",
      " | Epoch 3 | Loss: 0.006630299147218466 | Accuracy: 100.0%\n",
      " | Epoch 3 | Loss: 0.006417265627533197 | Accuracy: 100.0%\n",
      " | Epoch 3 | Loss: 0.006878904066979885 | Accuracy: 100.0%\n",
      " | Epoch 3 | Loss: 0.006128984969109297 | Accuracy: 100.0%\n",
      " | Epoch 3 | Loss: 0.007651040330529213 | Accuracy: 100.0%\n",
      " | Epoch 3 | Loss: 0.006440500728785992 | Accuracy: 100.0%\n",
      " | Epoch 3 | Loss: 0.257595032453537 | Accuracy: 96.875%\n",
      " | Epoch 3 | Loss: 0.0071341851726174355 | Accuracy: 100.0%\n",
      " | Epoch 3 | Loss: 0.006139085628092289 | Accuracy: 100.0%\n",
      " | Epoch 3 | Loss: 0.2756158709526062 | Accuracy: 96.875%\n",
      " | Epoch 3 | Loss: 0.006000839173793793 | Accuracy: 100.0%\n",
      " | Epoch 3 | Loss: 0.007335537113249302 | Accuracy: 100.0%\n",
      " | Epoch 3 | Loss: 0.008143364451825619 | Accuracy: 100.0%\n",
      " | Epoch 3 | Loss: 0.006235484033823013 | Accuracy: 100.0%\n",
      " | Epoch 3 | Loss: 0.006206887308508158 | Accuracy: 100.0%\n",
      " | Epoch 3 | Loss: 0.006672987714409828 | Accuracy: 100.0%\n",
      " | Epoch 3 | Loss: 0.006303134839981794 | Accuracy: 100.0%\n",
      " | Epoch 3 | Loss: 0.005643170792609453 | Accuracy: 100.0%\n",
      " | Epoch 3 | Loss: 0.007103128358721733 | Accuracy: 100.0%\n",
      " | Epoch 3 | Loss: 0.00574632128700614 | Accuracy: 100.0%\n",
      " | Epoch 3 | Loss: 0.009212800301611423 | Accuracy: 100.0%\n",
      " | Epoch 3 | Loss: 0.26206180453300476 | Accuracy: 96.875%\n",
      " | Epoch 3 | Loss: 0.0056530786678195 | Accuracy: 100.0%\n",
      " | Epoch 3 | Loss: 0.19692659378051758 | Accuracy: 96.875%\n",
      " | Epoch 3 | Loss: 0.005743381101638079 | Accuracy: 100.0%\n",
      " | Epoch 3 | Loss: 0.006247689947485924 | Accuracy: 100.0%\n",
      " | Epoch 3 | Loss: 0.00823317002505064 | Accuracy: 100.0%\n",
      " | Epoch 3 | Loss: 0.0077873351983726025 | Accuracy: 100.0%\n",
      " | Epoch 3 | Loss: 0.00668572261929512 | Accuracy: 100.0%\n",
      " | Epoch 3 | Loss: 0.006856382824480534 | Accuracy: 100.0%\n",
      " | Epoch 3 | Loss: 0.2114429622888565 | Accuracy: 96.875%\n",
      " | Epoch 3 | Loss: 0.009170799516141415 | Accuracy: 100.0%\n",
      " | Epoch 3 | Loss: 0.0066145011223852634 | Accuracy: 100.0%\n",
      " | Epoch 3 | Loss: 0.007906658574938774 | Accuracy: 100.0%\n",
      " | Epoch 3 | Loss: 0.007117193192243576 | Accuracy: 100.0%\n",
      " | Epoch 3 | Loss: 0.009167713113129139 | Accuracy: 100.0%\n",
      " | Epoch 3 | Loss: 0.0071657570078969 | Accuracy: 100.0%\n",
      " | Epoch 3 | Loss: 0.008099430240690708 | Accuracy: 100.0%\n",
      " | Epoch 3 | Loss: 0.30342063307762146 | Accuracy: 96.875%\n",
      " | Epoch 3 | Loss: 0.0078890947625041 | Accuracy: 100.0%\n",
      " | Epoch 3 | Loss: 0.1883554756641388 | Accuracy: 96.875%\n",
      " | Epoch 3 | Loss: 0.013065812177956104 | Accuracy: 100.0%\n",
      " | Epoch 3 | Loss: 0.008957970887422562 | Accuracy: 100.0%\n",
      " | Epoch 3 | Loss: 0.007018092088401318 | Accuracy: 100.0%\n",
      " | Epoch 3 | Loss: 0.00748501718044281 | Accuracy: 100.0%\n",
      " | Epoch 3 | Loss: 0.24947543442249298 | Accuracy: 96.875%\n",
      " | Epoch 3 | Loss: 0.007182833272963762 | Accuracy: 100.0%\n",
      " | Epoch 3 | Loss: 0.443711519241333 | Accuracy: 93.75%\n",
      " | Epoch 3 | Loss: 0.007172404322773218 | Accuracy: 100.0%\n",
      " | Epoch 3 | Loss: 0.007497917860746384 | Accuracy: 100.0%\n",
      " | Epoch 3 | Loss: 0.008902057074010372 | Accuracy: 100.0%\n",
      " | Epoch 3 | Loss: 0.007878351025283337 | Accuracy: 100.0%\n",
      " | Epoch 3 | Loss: 0.007749032694846392 | Accuracy: 100.0%\n",
      " | Epoch 3 | Loss: 0.008817010559141636 | Accuracy: 100.0%\n",
      " | Epoch 3 | Loss: 0.2780543565750122 | Accuracy: 96.875%\n",
      " | Epoch 3 | Loss: 0.009509222581982613 | Accuracy: 100.0%\n",
      " | Epoch 3 | Loss: 0.2671838402748108 | Accuracy: 96.875%\n",
      " | Epoch 3 | Loss: 0.00841912254691124 | Accuracy: 100.0%\n",
      " | Epoch 3 | Loss: 0.26607513427734375 | Accuracy: 96.875%\n",
      " | Epoch 3 | Loss: 0.009079128503799438 | Accuracy: 100.0%\n",
      " | Epoch 3 | Loss: 0.008382649160921574 | Accuracy: 100.0%\n",
      " | Epoch 3 | Loss: 0.009352995082736015 | Accuracy: 100.0%\n",
      " | Epoch 3 | Loss: 0.21075409650802612 | Accuracy: 96.875%\n",
      " | Epoch 3 | Loss: 0.008456815034151077 | Accuracy: 100.0%\n",
      " | Epoch 3 | Loss: 0.008757151663303375 | Accuracy: 100.0%\n",
      " | Epoch 3 | Loss: 0.009232553653419018 | Accuracy: 100.0%\n",
      " | Epoch 3 | Loss: 0.009992828592658043 | Accuracy: 100.0%\n",
      " | Epoch 3 | Loss: 0.008239774033427238 | Accuracy: 100.0%\n",
      " | Epoch 3 | Loss: 0.00828015711158514 | Accuracy: 100.0%\n",
      " | Epoch 3 | Loss: 0.42692404985427856 | Accuracy: 93.75%\n",
      " | Epoch 3 | Loss: 0.20628829300403595 | Accuracy: 96.875%\n",
      " | Epoch 3 | Loss: 0.009846550412476063 | Accuracy: 100.0%\n",
      " | Epoch 3 | Loss: 0.008962254971265793 | Accuracy: 100.0%\n",
      " | Epoch 3 | Loss: 0.00821628887206316 | Accuracy: 100.0%\n",
      " | Epoch 3 | Loss: 0.010169620625674725 | Accuracy: 100.0%\n",
      " | Epoch 3 | Loss: 0.010241590440273285 | Accuracy: 100.0%\n",
      " | Epoch 3 | Loss: 0.007797557394951582 | Accuracy: 100.0%\n",
      " | Epoch 3 | Loss: 0.009027676656842232 | Accuracy: 100.0%\n",
      " | Epoch 3 | Loss: 0.008650700561702251 | Accuracy: 100.0%\n",
      " | Epoch 3 | Loss: 0.010271568782627583 | Accuracy: 100.0%\n",
      " | Epoch 3 | Loss: 0.2310987114906311 | Accuracy: 96.875%\n",
      " | Epoch 3 | Loss: 0.22702574729919434 | Accuracy: 96.875%\n",
      " | Epoch 3 | Loss: 0.010691246949136257 | Accuracy: 100.0%\n",
      " | Epoch 3 | Loss: 0.009058945812284946 | Accuracy: 100.0%\n",
      " | Epoch 3 | Loss: 0.01217794232070446 | Accuracy: 100.0%\n",
      " | Epoch 3 | Loss: 0.010297665372490883 | Accuracy: 100.0%\n",
      " | Epoch 3 | Loss: 0.009624922648072243 | Accuracy: 100.0%\n"
     ]
    },
    {
     "name": "stderr",
     "output_type": "stream",
     "text": [
      "Epoch 3:  20%|█████▋                       | 297/1501 [00:00<00:02, 556.54batch/s, accuracy=100.0%, loss=0.0076]"
     ]
    },
    {
     "name": "stdout",
     "output_type": "stream",
     "text": [
      " | Epoch 3 | Loss: 0.008971307426691055 | Accuracy: 100.0%\n",
      " | Epoch 3 | Loss: 0.010158841498196125 | Accuracy: 100.0%\n",
      " | Epoch 3 | Loss: 0.010114330798387527 | Accuracy: 100.0%\n",
      " | Epoch 3 | Loss: 0.011258523911237717 | Accuracy: 100.0%\n",
      " | Epoch 3 | Loss: 0.009932707995176315 | Accuracy: 100.0%\n",
      " | Epoch 3 | Loss: 0.00822315365076065 | Accuracy: 100.0%\n",
      " | Epoch 3 | Loss: 0.010218399576842785 | Accuracy: 100.0%\n",
      " | Epoch 3 | Loss: 0.009223110042512417 | Accuracy: 100.0%\n",
      " | Epoch 3 | Loss: 0.009055187925696373 | Accuracy: 100.0%\n",
      " | Epoch 3 | Loss: 0.2282455563545227 | Accuracy: 96.875%\n",
      " | Epoch 3 | Loss: 0.012314427644014359 | Accuracy: 100.0%\n",
      " | Epoch 3 | Loss: 0.008738954551517963 | Accuracy: 100.0%\n",
      " | Epoch 3 | Loss: 0.18353891372680664 | Accuracy: 96.875%\n",
      " | Epoch 3 | Loss: 0.18391373753547668 | Accuracy: 96.875%\n",
      " | Epoch 3 | Loss: 0.008765730075538158 | Accuracy: 100.0%\n",
      " | Epoch 3 | Loss: 0.008455448783934116 | Accuracy: 100.0%\n",
      " | Epoch 3 | Loss: 0.011188939213752747 | Accuracy: 100.0%\n",
      " | Epoch 3 | Loss: 0.011237763799726963 | Accuracy: 100.0%\n",
      " | Epoch 3 | Loss: 0.009224282577633858 | Accuracy: 100.0%\n",
      " | Epoch 3 | Loss: 0.009128792211413383 | Accuracy: 100.0%\n",
      " | Epoch 3 | Loss: 0.008621121756732464 | Accuracy: 100.0%\n",
      " | Epoch 3 | Loss: 0.009921086952090263 | Accuracy: 100.0%\n",
      " | Epoch 3 | Loss: 0.00926660094410181 | Accuracy: 100.0%\n",
      " | Epoch 3 | Loss: 0.19814945757389069 | Accuracy: 96.875%\n",
      " | Epoch 3 | Loss: 0.008878721855580807 | Accuracy: 100.0%\n",
      " | Epoch 3 | Loss: 0.00898804608732462 | Accuracy: 100.0%\n",
      " | Epoch 3 | Loss: 0.008576749823987484 | Accuracy: 100.0%\n",
      " | Epoch 3 | Loss: 0.009568799287080765 | Accuracy: 100.0%\n",
      " | Epoch 3 | Loss: 0.17735134065151215 | Accuracy: 96.875%\n",
      " | Epoch 3 | Loss: 0.012512748129665852 | Accuracy: 100.0%\n",
      " | Epoch 3 | Loss: 0.009432893246412277 | Accuracy: 100.0%\n",
      " | Epoch 3 | Loss: 0.009145823307335377 | Accuracy: 100.0%\n",
      " | Epoch 3 | Loss: 0.008597324602305889 | Accuracy: 100.0%\n",
      " | Epoch 3 | Loss: 0.00794652383774519 | Accuracy: 100.0%\n",
      " | Epoch 3 | Loss: 0.235401913523674 | Accuracy: 96.875%\n",
      " | Epoch 3 | Loss: 0.009386029094457626 | Accuracy: 100.0%\n",
      " | Epoch 3 | Loss: 0.010027933865785599 | Accuracy: 100.0%\n",
      " | Epoch 3 | Loss: 0.00982886366546154 | Accuracy: 100.0%\n",
      " | Epoch 3 | Loss: 0.008867914788424969 | Accuracy: 100.0%\n",
      " | Epoch 3 | Loss: 0.008890805765986443 | Accuracy: 100.0%\n",
      " | Epoch 3 | Loss: 0.007504492532461882 | Accuracy: 100.0%\n",
      " | Epoch 3 | Loss: 0.009410815313458443 | Accuracy: 100.0%\n",
      " | Epoch 3 | Loss: 0.01027519628405571 | Accuracy: 100.0%\n",
      " | Epoch 3 | Loss: 0.009328380227088928 | Accuracy: 100.0%\n",
      " | Epoch 3 | Loss: 0.00930414255708456 | Accuracy: 100.0%\n",
      " | Epoch 3 | Loss: 0.009125943295657635 | Accuracy: 100.0%\n",
      " | Epoch 3 | Loss: 0.0085981460288167 | Accuracy: 100.0%\n",
      " | Epoch 3 | Loss: 0.00910207163542509 | Accuracy: 100.0%\n",
      " | Epoch 3 | Loss: 0.01039133407175541 | Accuracy: 100.0%\n",
      " | Epoch 3 | Loss: 0.00907080341130495 | Accuracy: 100.0%\n",
      " | Epoch 3 | Loss: 0.009891350753605366 | Accuracy: 100.0%\n",
      " | Epoch 3 | Loss: 0.2363840937614441 | Accuracy: 96.875%\n",
      " | Epoch 3 | Loss: 0.008797754533588886 | Accuracy: 100.0%\n",
      " | Epoch 3 | Loss: 0.008069770410656929 | Accuracy: 100.0%\n",
      " | Epoch 3 | Loss: 0.008496735244989395 | Accuracy: 100.0%\n",
      " | Epoch 3 | Loss: 0.21205522119998932 | Accuracy: 96.875%\n",
      " | Epoch 3 | Loss: 0.25294387340545654 | Accuracy: 96.875%\n",
      " | Epoch 3 | Loss: 0.007972456514835358 | Accuracy: 100.0%\n",
      " | Epoch 3 | Loss: 0.008879108354449272 | Accuracy: 100.0%\n",
      " | Epoch 3 | Loss: 0.009181669913232327 | Accuracy: 100.0%\n",
      " | Epoch 3 | Loss: 0.008250540122389793 | Accuracy: 100.0%\n",
      " | Epoch 3 | Loss: 0.18764673173427582 | Accuracy: 96.875%\n",
      " | Epoch 3 | Loss: 0.012350465171039104 | Accuracy: 100.0%\n",
      " | Epoch 3 | Loss: 0.009257201105356216 | Accuracy: 100.0%\n",
      " | Epoch 3 | Loss: 0.009317958727478981 | Accuracy: 100.0%\n",
      " | Epoch 3 | Loss: 0.010488447733223438 | Accuracy: 100.0%\n",
      " | Epoch 3 | Loss: 0.00804335717111826 | Accuracy: 100.0%\n",
      " | Epoch 3 | Loss: 0.010573281906545162 | Accuracy: 100.0%\n",
      " | Epoch 3 | Loss: 0.009397497400641441 | Accuracy: 100.0%\n",
      " | Epoch 3 | Loss: 0.2622967064380646 | Accuracy: 96.875%\n",
      " | Epoch 3 | Loss: 0.008739122189581394 | Accuracy: 100.0%\n",
      " | Epoch 3 | Loss: 0.011358099058270454 | Accuracy: 100.0%\n",
      " | Epoch 3 | Loss: 0.007795755751430988 | Accuracy: 100.0%\n",
      " | Epoch 3 | Loss: 0.008459866978228092 | Accuracy: 100.0%\n",
      " | Epoch 3 | Loss: 0.1800365447998047 | Accuracy: 96.875%\n",
      " | Epoch 3 | Loss: 0.010497668758034706 | Accuracy: 100.0%\n",
      " | Epoch 3 | Loss: 0.009663463570177555 | Accuracy: 100.0%\n",
      " | Epoch 3 | Loss: 0.17435456812381744 | Accuracy: 96.875%\n",
      " | Epoch 3 | Loss: 0.011953596957027912 | Accuracy: 100.0%\n",
      " | Epoch 3 | Loss: 0.009366474114358425 | Accuracy: 100.0%\n",
      " | Epoch 3 | Loss: 0.007769731339067221 | Accuracy: 100.0%\n",
      " | Epoch 3 | Loss: 0.009276755154132843 | Accuracy: 100.0%\n",
      " | Epoch 3 | Loss: 0.416790246963501 | Accuracy: 93.75%\n",
      " | Epoch 3 | Loss: 0.010228992439806461 | Accuracy: 100.0%\n",
      " | Epoch 3 | Loss: 0.43995803594589233 | Accuracy: 93.75%\n",
      " | Epoch 3 | Loss: 0.0087548503652215 | Accuracy: 100.0%\n",
      " | Epoch 3 | Loss: 0.011543845757842064 | Accuracy: 100.0%\n",
      " | Epoch 3 | Loss: 0.010114546865224838 | Accuracy: 100.0%\n",
      " | Epoch 3 | Loss: 0.010753837414085865 | Accuracy: 100.0%\n",
      " | Epoch 3 | Loss: 0.009331414476037025 | Accuracy: 100.0%\n",
      " | Epoch 3 | Loss: 0.009524215944111347 | Accuracy: 100.0%\n",
      " | Epoch 3 | Loss: 0.010800287127494812 | Accuracy: 100.0%\n",
      " | Epoch 3 | Loss: 0.1646406352519989 | Accuracy: 96.875%\n",
      " | Epoch 3 | Loss: 0.012322799302637577 | Accuracy: 100.0%\n",
      " | Epoch 3 | Loss: 0.010081359185278416 | Accuracy: 100.0%\n",
      " | Epoch 3 | Loss: 0.009315467439591885 | Accuracy: 100.0%\n",
      " | Epoch 3 | Loss: 0.010425761342048645 | Accuracy: 100.0%\n",
      " | Epoch 3 | Loss: 0.015583821572363377 | Accuracy: 100.0%\n",
      " | Epoch 3 | Loss: 0.013923936523497105 | Accuracy: 100.0%\n",
      " | Epoch 3 | Loss: 0.011699052527546883 | Accuracy: 100.0%\n",
      " | Epoch 3 | Loss: 0.010593353770673275 | Accuracy: 100.0%\n",
      " | Epoch 3 | Loss: 0.011608965694904327 | Accuracy: 100.0%\n",
      " | Epoch 3 | Loss: 0.009559624828398228 | Accuracy: 100.0%\n",
      " | Epoch 3 | Loss: 0.012656604871153831 | Accuracy: 100.0%\n",
      " | Epoch 3 | Loss: 0.010569260455667973 | Accuracy: 100.0%\n",
      " | Epoch 3 | Loss: 0.009160923771560192 | Accuracy: 100.0%\n",
      " | Epoch 3 | Loss: 0.007959575392305851 | Accuracy: 100.0%\n",
      " | Epoch 3 | Loss: 0.009182964451611042 | Accuracy: 100.0%\n",
      " | Epoch 3 | Loss: 0.19371502101421356 | Accuracy: 96.875%\n",
      " | Epoch 3 | Loss: 0.010064519941806793 | Accuracy: 100.0%\n",
      " | Epoch 3 | Loss: 0.00976603664457798 | Accuracy: 100.0%\n",
      " | Epoch 3 | Loss: 0.24334749579429626 | Accuracy: 96.875%\n",
      " | Epoch 3 | Loss: 0.009302911348640919 | Accuracy: 100.0%\n",
      " | Epoch 3 | Loss: 0.010080051608383656 | Accuracy: 100.0%\n",
      " | Epoch 3 | Loss: 0.009735762141644955 | Accuracy: 100.0%\n",
      " | Epoch 3 | Loss: 0.009881206788122654 | Accuracy: 100.0%\n",
      " | Epoch 3 | Loss: 0.00925880391150713 | Accuracy: 100.0%\n",
      " | Epoch 3 | Loss: 0.007589515298604965 | Accuracy: 100.0%\n",
      " | Epoch 3 | Loss: 0.008908196352422237 | Accuracy: 100.0%\n",
      " | Epoch 3 | Loss: 0.007987051270902157 | Accuracy: 100.0%\n",
      " | Epoch 3 | Loss: 0.00733979744836688 | Accuracy: 100.0%\n",
      " | Epoch 3 | Loss: 0.009039382450282574 | Accuracy: 100.0%\n",
      " | Epoch 3 | Loss: 0.0076000583358109 | Accuracy: 100.0%\n"
     ]
    },
    {
     "name": "stderr",
     "output_type": "stream",
     "text": [
      "Epoch 3:  28%|████████                     | 416/1501 [00:00<00:01, 574.63batch/s, accuracy=100.0%, loss=0.0111]"
     ]
    },
    {
     "name": "stdout",
     "output_type": "stream",
     "text": [
      " | Epoch 3 | Loss: 0.007603233680129051 | Accuracy: 100.0%\n",
      " | Epoch 3 | Loss: 0.008318324573338032 | Accuracy: 100.0%\n",
      " | Epoch 3 | Loss: 0.00872294045984745 | Accuracy: 100.0%\n",
      " | Epoch 3 | Loss: 0.008491610176861286 | Accuracy: 100.0%\n",
      " | Epoch 3 | Loss: 0.00994426291435957 | Accuracy: 100.0%\n",
      " | Epoch 3 | Loss: 0.007851137779653072 | Accuracy: 100.0%\n",
      " | Epoch 3 | Loss: 0.2298797070980072 | Accuracy: 96.875%\n",
      " | Epoch 3 | Loss: 0.008288142271339893 | Accuracy: 100.0%\n",
      " | Epoch 3 | Loss: 0.008783472701907158 | Accuracy: 100.0%\n",
      " | Epoch 3 | Loss: 0.010048022493720055 | Accuracy: 100.0%\n",
      " | Epoch 3 | Loss: 0.19771617650985718 | Accuracy: 96.875%\n",
      " | Epoch 3 | Loss: 0.007480127736926079 | Accuracy: 100.0%\n",
      " | Epoch 3 | Loss: 0.008717731572687626 | Accuracy: 100.0%\n",
      " | Epoch 3 | Loss: 0.011681344360113144 | Accuracy: 100.0%\n",
      " | Epoch 3 | Loss: 0.008561736904084682 | Accuracy: 100.0%\n",
      " | Epoch 3 | Loss: 0.008870604448020458 | Accuracy: 100.0%\n",
      " | Epoch 3 | Loss: 0.00795569084584713 | Accuracy: 100.0%\n",
      " | Epoch 3 | Loss: 0.007939878851175308 | Accuracy: 100.0%\n",
      " | Epoch 3 | Loss: 0.008936014957726002 | Accuracy: 100.0%\n",
      " | Epoch 3 | Loss: 0.012154771946370602 | Accuracy: 100.0%\n",
      " | Epoch 3 | Loss: 0.4670208692550659 | Accuracy: 93.75%\n",
      " | Epoch 3 | Loss: 0.20140035450458527 | Accuracy: 96.875%\n",
      " | Epoch 3 | Loss: 0.008416318334639072 | Accuracy: 100.0%\n",
      " | Epoch 3 | Loss: 0.008747028186917305 | Accuracy: 100.0%\n",
      " | Epoch 3 | Loss: 0.008813859894871712 | Accuracy: 100.0%\n",
      " | Epoch 3 | Loss: 0.007775424513965845 | Accuracy: 100.0%\n",
      " | Epoch 3 | Loss: 0.0072759585455060005 | Accuracy: 100.0%\n",
      " | Epoch 3 | Loss: 0.008942688815295696 | Accuracy: 100.0%\n",
      " | Epoch 3 | Loss: 0.19659684598445892 | Accuracy: 96.875%\n",
      " | Epoch 3 | Loss: 0.008945733308792114 | Accuracy: 100.0%\n",
      " | Epoch 3 | Loss: 0.00888314750045538 | Accuracy: 100.0%\n",
      " | Epoch 3 | Loss: 0.009782189503312111 | Accuracy: 100.0%\n",
      " | Epoch 3 | Loss: 0.009256541728973389 | Accuracy: 100.0%\n",
      " | Epoch 3 | Loss: 0.010725277476012707 | Accuracy: 100.0%\n",
      " | Epoch 3 | Loss: 0.009500776417553425 | Accuracy: 100.0%\n",
      " | Epoch 3 | Loss: 0.19861559569835663 | Accuracy: 96.875%\n",
      " | Epoch 3 | Loss: 0.008187723346054554 | Accuracy: 100.0%\n",
      " | Epoch 3 | Loss: 0.009152578189969063 | Accuracy: 100.0%\n",
      " | Epoch 3 | Loss: 0.01037699542939663 | Accuracy: 100.0%\n",
      " | Epoch 3 | Loss: 0.007972688414156437 | Accuracy: 100.0%\n",
      " | Epoch 3 | Loss: 0.0081780469045043 | Accuracy: 100.0%\n",
      " | Epoch 3 | Loss: 0.008816431276500225 | Accuracy: 100.0%\n",
      " | Epoch 3 | Loss: 0.19471003115177155 | Accuracy: 96.875%\n",
      " | Epoch 3 | Loss: 0.008957114070653915 | Accuracy: 100.0%\n",
      " | Epoch 3 | Loss: 0.007198421284556389 | Accuracy: 100.0%\n",
      " | Epoch 3 | Loss: 0.009081863798201084 | Accuracy: 100.0%\n",
      " | Epoch 3 | Loss: 0.007621550001204014 | Accuracy: 100.0%\n",
      " | Epoch 3 | Loss: 0.009353364817798138 | Accuracy: 100.0%\n",
      " | Epoch 3 | Loss: 0.007889749482274055 | Accuracy: 100.0%\n",
      " | Epoch 3 | Loss: 0.38314202427864075 | Accuracy: 93.75%\n",
      " | Epoch 3 | Loss: 0.1859305500984192 | Accuracy: 96.875%\n",
      " | Epoch 3 | Loss: 0.008410472422838211 | Accuracy: 100.0%\n",
      " | Epoch 3 | Loss: 0.008135894313454628 | Accuracy: 100.0%\n",
      " | Epoch 3 | Loss: 0.2360564023256302 | Accuracy: 96.875%\n",
      " | Epoch 3 | Loss: 0.009834704920649529 | Accuracy: 100.0%\n",
      " | Epoch 3 | Loss: 0.011140896938741207 | Accuracy: 100.0%\n",
      " | Epoch 3 | Loss: 0.009478142485022545 | Accuracy: 100.0%\n",
      " | Epoch 3 | Loss: 0.010496646165847778 | Accuracy: 100.0%\n",
      " | Epoch 3 | Loss: 0.0095319002866745 | Accuracy: 100.0%\n",
      " | Epoch 3 | Loss: 0.011152989231050014 | Accuracy: 100.0%\n",
      " | Epoch 3 | Loss: 0.24162545800209045 | Accuracy: 96.875%\n",
      " | Epoch 3 | Loss: 0.008608202449977398 | Accuracy: 100.0%\n",
      " | Epoch 3 | Loss: 0.010715588927268982 | Accuracy: 100.0%\n",
      " | Epoch 3 | Loss: 0.009613743051886559 | Accuracy: 100.0%\n",
      " | Epoch 3 | Loss: 0.00991615280508995 | Accuracy: 100.0%\n",
      " | Epoch 3 | Loss: 0.010200802236795425 | Accuracy: 100.0%\n",
      " | Epoch 3 | Loss: 0.012573773972690105 | Accuracy: 100.0%\n",
      " | Epoch 3 | Loss: 0.009939578361809254 | Accuracy: 100.0%\n",
      " | Epoch 3 | Loss: 0.009663012810051441 | Accuracy: 100.0%\n",
      " | Epoch 3 | Loss: 0.00986194796860218 | Accuracy: 100.0%\n",
      " | Epoch 3 | Loss: 0.010225458070635796 | Accuracy: 100.0%\n",
      " | Epoch 3 | Loss: 0.013779434375464916 | Accuracy: 100.0%\n",
      " | Epoch 3 | Loss: 0.010122431442141533 | Accuracy: 100.0%\n",
      " | Epoch 3 | Loss: 0.010646697133779526 | Accuracy: 100.0%\n",
      " | Epoch 3 | Loss: 0.6201445460319519 | Accuracy: 90.625%\n",
      " | Epoch 3 | Loss: 0.20306849479675293 | Accuracy: 96.875%\n",
      " | Epoch 3 | Loss: 0.009878985583782196 | Accuracy: 100.0%\n",
      " | Epoch 3 | Loss: 0.0117162074893713 | Accuracy: 100.0%\n",
      " | Epoch 3 | Loss: 0.009404201991856098 | Accuracy: 100.0%\n",
      " | Epoch 3 | Loss: 0.010390122421085835 | Accuracy: 100.0%\n",
      " | Epoch 3 | Loss: 0.01068776287138462 | Accuracy: 100.0%\n",
      " | Epoch 3 | Loss: 0.00879667792469263 | Accuracy: 100.0%\n",
      " | Epoch 3 | Loss: 0.008922617882490158 | Accuracy: 100.0%\n",
      " | Epoch 3 | Loss: 0.009004788473248482 | Accuracy: 100.0%\n",
      " | Epoch 3 | Loss: 0.009743847884237766 | Accuracy: 100.0%\n",
      " | Epoch 3 | Loss: 0.009927812032401562 | Accuracy: 100.0%\n",
      " | Epoch 3 | Loss: 0.008649902418255806 | Accuracy: 100.0%\n",
      " | Epoch 3 | Loss: 0.00930775050073862 | Accuracy: 100.0%\n",
      " | Epoch 3 | Loss: 0.00800961535423994 | Accuracy: 100.0%\n",
      " | Epoch 3 | Loss: 0.19851918518543243 | Accuracy: 96.875%\n",
      " | Epoch 3 | Loss: 0.010165928862988949 | Accuracy: 100.0%\n",
      " | Epoch 3 | Loss: 0.007836502976715565 | Accuracy: 100.0%\n",
      " | Epoch 3 | Loss: 0.18222612142562866 | Accuracy: 96.875%\n",
      " | Epoch 3 | Loss: 0.2718237042427063 | Accuracy: 96.875%\n",
      " | Epoch 3 | Loss: 0.22997403144836426 | Accuracy: 96.875%\n",
      " | Epoch 3 | Loss: 0.008185524493455887 | Accuracy: 100.0%\n",
      " | Epoch 3 | Loss: 0.011150156147778034 | Accuracy: 100.0%\n",
      " | Epoch 3 | Loss: 0.01015270221978426 | Accuracy: 100.0%\n",
      " | Epoch 3 | Loss: 0.008888150565326214 | Accuracy: 100.0%\n",
      " | Epoch 3 | Loss: 0.009066270664334297 | Accuracy: 100.0%\n",
      " | Epoch 3 | Loss: 0.008672729134559631 | Accuracy: 100.0%\n",
      " | Epoch 3 | Loss: 0.009893028996884823 | Accuracy: 100.0%\n",
      " | Epoch 3 | Loss: 0.008489697240293026 | Accuracy: 100.0%\n",
      " | Epoch 3 | Loss: 0.3666859567165375 | Accuracy: 93.75%\n",
      " | Epoch 3 | Loss: 0.01178492046892643 | Accuracy: 100.0%\n",
      " | Epoch 3 | Loss: 0.01283691730350256 | Accuracy: 100.0%\n",
      " | Epoch 3 | Loss: 0.010734827257692814 | Accuracy: 100.0%\n",
      " | Epoch 3 | Loss: 0.010937372222542763 | Accuracy: 100.0%\n",
      " | Epoch 3 | Loss: 0.010065801441669464 | Accuracy: 100.0%\n",
      " | Epoch 3 | Loss: 0.00837140716612339 | Accuracy: 100.0%\n",
      " | Epoch 3 | Loss: 0.009016173891723156 | Accuracy: 100.0%\n",
      " | Epoch 3 | Loss: 0.21395733952522278 | Accuracy: 96.875%\n",
      " | Epoch 3 | Loss: 0.009523769840598106 | Accuracy: 100.0%\n",
      " | Epoch 3 | Loss: 0.011467455886304379 | Accuracy: 100.0%\n",
      " | Epoch 3 | Loss: 0.010026237927377224 | Accuracy: 100.0%\n",
      " | Epoch 3 | Loss: 0.010325499810278416 | Accuracy: 100.0%\n",
      " | Epoch 3 | Loss: 0.008814956992864609 | Accuracy: 100.0%\n",
      " | Epoch 3 | Loss: 0.009883880615234375 | Accuracy: 100.0%\n",
      " | Epoch 3 | Loss: 0.01109803281724453 | Accuracy: 100.0%\n"
     ]
    },
    {
     "name": "stderr",
     "output_type": "stream",
     "text": [
      "Epoch 3:  36%|██████████▎                  | 536/1501 [00:01<00:01, 513.72batch/s, accuracy=96.875%, loss=0.195]"
     ]
    },
    {
     "name": "stdout",
     "output_type": "stream",
     "text": [
      " | Epoch 3 | Loss: 0.008964037522673607 | Accuracy: 100.0%\n",
      " | Epoch 3 | Loss: 0.010870639234781265 | Accuracy: 100.0%\n",
      " | Epoch 3 | Loss: 0.010512983426451683 | Accuracy: 100.0%\n",
      " | Epoch 3 | Loss: 0.00970628671348095 | Accuracy: 100.0%\n",
      " | Epoch 3 | Loss: 0.009136742912232876 | Accuracy: 100.0%\n",
      " | Epoch 3 | Loss: 0.012559470720589161 | Accuracy: 100.0%\n",
      " | Epoch 3 | Loss: 0.1793675273656845 | Accuracy: 96.875%\n",
      " | Epoch 3 | Loss: 0.00808862503618002 | Accuracy: 100.0%\n",
      " | Epoch 3 | Loss: 0.009012868627905846 | Accuracy: 100.0%\n",
      " | Epoch 3 | Loss: 0.008221413008868694 | Accuracy: 100.0%\n",
      " | Epoch 3 | Loss: 0.00833936408162117 | Accuracy: 100.0%\n",
      " | Epoch 3 | Loss: 0.010740644298493862 | Accuracy: 100.0%\n",
      " | Epoch 3 | Loss: 0.008558115921914577 | Accuracy: 100.0%\n",
      " | Epoch 3 | Loss: 0.008370919153094292 | Accuracy: 100.0%\n",
      " | Epoch 3 | Loss: 0.010516445152461529 | Accuracy: 100.0%\n",
      " | Epoch 3 | Loss: 0.008700613863766193 | Accuracy: 100.0%\n",
      " | Epoch 3 | Loss: 0.007473712787032127 | Accuracy: 100.0%\n",
      " | Epoch 3 | Loss: 0.008019576780498028 | Accuracy: 100.0%\n",
      " | Epoch 3 | Loss: 0.20644958317279816 | Accuracy: 96.875%\n",
      " | Epoch 3 | Loss: 0.009655107744038105 | Accuracy: 100.0%\n",
      " | Epoch 3 | Loss: 0.009219636209309101 | Accuracy: 100.0%\n",
      " | Epoch 3 | Loss: 0.009140660054981709 | Accuracy: 100.0%\n",
      " | Epoch 3 | Loss: 0.007599926553666592 | Accuracy: 100.0%\n",
      " | Epoch 3 | Loss: 0.009251375682651997 | Accuracy: 100.0%\n",
      " | Epoch 3 | Loss: 0.009446278214454651 | Accuracy: 100.0%\n",
      " | Epoch 3 | Loss: 0.0094969617202878 | Accuracy: 100.0%\n",
      " | Epoch 3 | Loss: 0.007486943155527115 | Accuracy: 100.0%\n",
      " | Epoch 3 | Loss: 0.00813366286456585 | Accuracy: 100.0%\n",
      " | Epoch 3 | Loss: 0.008115793578326702 | Accuracy: 100.0%\n",
      " | Epoch 3 | Loss: 0.0075803534127771854 | Accuracy: 100.0%\n",
      " | Epoch 3 | Loss: 0.009264830499887466 | Accuracy: 100.0%\n",
      " | Epoch 3 | Loss: 0.008468061685562134 | Accuracy: 100.0%\n",
      " | Epoch 3 | Loss: 0.007272322662174702 | Accuracy: 100.0%\n",
      " | Epoch 3 | Loss: 0.00998397171497345 | Accuracy: 100.0%\n",
      " | Epoch 3 | Loss: 0.2013525813817978 | Accuracy: 96.875%\n",
      " | Epoch 3 | Loss: 0.008325339294970036 | Accuracy: 100.0%\n",
      " | Epoch 3 | Loss: 0.006685363594442606 | Accuracy: 100.0%\n",
      " | Epoch 3 | Loss: 0.006416106130927801 | Accuracy: 100.0%\n",
      " | Epoch 3 | Loss: 0.0076945130713284016 | Accuracy: 100.0%\n",
      " | Epoch 3 | Loss: 0.007689358200877905 | Accuracy: 100.0%\n",
      " | Epoch 3 | Loss: 0.2281360924243927 | Accuracy: 96.875%\n",
      " | Epoch 3 | Loss: 0.19926470518112183 | Accuracy: 96.875%\n",
      " | Epoch 3 | Loss: 0.00936836190521717 | Accuracy: 100.0%\n",
      " | Epoch 3 | Loss: 0.008521530777215958 | Accuracy: 100.0%\n",
      " | Epoch 3 | Loss: 0.008020817302167416 | Accuracy: 100.0%\n",
      " | Epoch 3 | Loss: 0.010462372563779354 | Accuracy: 100.0%\n",
      " | Epoch 3 | Loss: 0.007296476047486067 | Accuracy: 100.0%\n",
      " | Epoch 3 | Loss: 0.006975687574595213 | Accuracy: 100.0%\n",
      " | Epoch 3 | Loss: 0.007556192111223936 | Accuracy: 100.0%\n",
      " | Epoch 3 | Loss: 0.00807858631014824 | Accuracy: 100.0%\n",
      " | Epoch 3 | Loss: 0.008651340380311012 | Accuracy: 100.0%\n",
      " | Epoch 3 | Loss: 0.00828238483518362 | Accuracy: 100.0%\n",
      " | Epoch 3 | Loss: 0.006641304586082697 | Accuracy: 100.0%\n",
      " | Epoch 3 | Loss: 0.00979616865515709 | Accuracy: 100.0%\n",
      " | Epoch 3 | Loss: 0.0076162610203027725 | Accuracy: 100.0%\n",
      " | Epoch 3 | Loss: 0.1907421350479126 | Accuracy: 96.875%\n",
      " | Epoch 3 | Loss: 0.00672944076359272 | Accuracy: 100.0%\n",
      " | Epoch 3 | Loss: 0.006495059002190828 | Accuracy: 100.0%\n",
      " | Epoch 3 | Loss: 0.008066918700933456 | Accuracy: 100.0%\n",
      " | Epoch 3 | Loss: 0.006575217004865408 | Accuracy: 100.0%\n",
      " | Epoch 3 | Loss: 0.007076679263263941 | Accuracy: 100.0%\n",
      " | Epoch 3 | Loss: 0.006644409149885178 | Accuracy: 100.0%\n",
      " | Epoch 3 | Loss: 0.007489355280995369 | Accuracy: 100.0%\n",
      " | Epoch 3 | Loss: 0.007573604583740234 | Accuracy: 100.0%\n",
      " | Epoch 3 | Loss: 0.006323967128992081 | Accuracy: 100.0%\n",
      " | Epoch 3 | Loss: 0.006065495312213898 | Accuracy: 100.0%\n",
      " | Epoch 3 | Loss: 0.0067429086193442345 | Accuracy: 100.0%\n",
      " | Epoch 3 | Loss: 0.007464623544365168 | Accuracy: 100.0%\n",
      " | Epoch 3 | Loss: 0.008756935596466064 | Accuracy: 100.0%\n",
      " | Epoch 3 | Loss: 0.007578458171337843 | Accuracy: 100.0%\n",
      " | Epoch 3 | Loss: 0.0065681166015565395 | Accuracy: 100.0%\n",
      " | Epoch 3 | Loss: 0.00642577838152647 | Accuracy: 100.0%\n",
      " | Epoch 3 | Loss: 0.006842214614152908 | Accuracy: 100.0%\n",
      " | Epoch 3 | Loss: 0.006356279365718365 | Accuracy: 100.0%\n",
      " | Epoch 3 | Loss: 0.007676069624722004 | Accuracy: 100.0%\n",
      " | Epoch 3 | Loss: 0.006589331664144993 | Accuracy: 100.0%\n",
      " | Epoch 3 | Loss: 0.0065499478951096535 | Accuracy: 100.0%\n",
      " | Epoch 3 | Loss: 0.007103804498910904 | Accuracy: 100.0%\n",
      " | Epoch 3 | Loss: 0.006481289863586426 | Accuracy: 100.0%\n",
      " | Epoch 3 | Loss: 0.007018469739705324 | Accuracy: 100.0%\n",
      " | Epoch 3 | Loss: 0.006203907076269388 | Accuracy: 100.0%\n",
      " | Epoch 3 | Loss: 0.005805769469588995 | Accuracy: 100.0%\n",
      " | Epoch 3 | Loss: 0.00629158690571785 | Accuracy: 100.0%\n",
      " | Epoch 3 | Loss: 0.2821235656738281 | Accuracy: 96.875%\n",
      " | Epoch 3 | Loss: 0.006515262648463249 | Accuracy: 100.0%\n",
      " | Epoch 3 | Loss: 0.20298223197460175 | Accuracy: 96.875%\n",
      " | Epoch 3 | Loss: 0.006634070537984371 | Accuracy: 100.0%\n",
      " | Epoch 3 | Loss: 0.19456659257411957 | Accuracy: 96.875%\n"
     ]
    },
    {
     "name": "stderr",
     "output_type": "stream",
     "text": [
      "Epoch 3:  43%|████████████                | 649/1501 [00:01<00:01, 538.58batch/s, accuracy=100.0%, loss=0.00796]"
     ]
    },
    {
     "name": "stdout",
     "output_type": "stream",
     "text": [
      " | Epoch 3 | Loss: 0.007628964725881815 | Accuracy: 100.0%\n",
      " | Epoch 3 | Loss: 0.007211432326585054 | Accuracy: 100.0%\n",
      " | Epoch 3 | Loss: 0.005643310025334358 | Accuracy: 100.0%\n",
      " | Epoch 3 | Loss: 0.005711577367037535 | Accuracy: 100.0%\n",
      " | Epoch 3 | Loss: 0.006903830915689468 | Accuracy: 100.0%\n",
      " | Epoch 3 | Loss: 0.005852683912962675 | Accuracy: 100.0%\n",
      " | Epoch 3 | Loss: 0.006288308184593916 | Accuracy: 100.0%\n",
      " | Epoch 3 | Loss: 0.00790286622941494 | Accuracy: 100.0%\n",
      " | Epoch 3 | Loss: 0.00614537950605154 | Accuracy: 100.0%\n",
      " | Epoch 3 | Loss: 0.008772805333137512 | Accuracy: 100.0%\n",
      " | Epoch 3 | Loss: 0.0062615275382995605 | Accuracy: 100.0%\n",
      " | Epoch 3 | Loss: 0.006689619738608599 | Accuracy: 100.0%\n",
      " | Epoch 3 | Loss: 0.006502771750092506 | Accuracy: 100.0%\n",
      " | Epoch 3 | Loss: 0.008096731267869473 | Accuracy: 100.0%\n",
      " | Epoch 3 | Loss: 0.00777098722755909 | Accuracy: 100.0%\n",
      " | Epoch 3 | Loss: 0.008336592465639114 | Accuracy: 100.0%\n",
      " | Epoch 3 | Loss: 0.007223436608910561 | Accuracy: 100.0%\n",
      " | Epoch 3 | Loss: 0.007443499751389027 | Accuracy: 100.0%\n",
      " | Epoch 3 | Loss: 0.006708046887069941 | Accuracy: 100.0%\n",
      " | Epoch 3 | Loss: 0.00802888534963131 | Accuracy: 100.0%\n",
      " | Epoch 3 | Loss: 0.007524673826992512 | Accuracy: 100.0%\n",
      " | Epoch 3 | Loss: 0.006334234494715929 | Accuracy: 100.0%\n",
      " | Epoch 3 | Loss: 0.0067786588333547115 | Accuracy: 100.0%\n",
      " | Epoch 3 | Loss: 0.006507285870611668 | Accuracy: 100.0%\n",
      " | Epoch 3 | Loss: 0.0065037887543439865 | Accuracy: 100.0%\n",
      " | Epoch 3 | Loss: 0.005195295438170433 | Accuracy: 100.0%\n",
      " | Epoch 3 | Loss: 0.007381141185760498 | Accuracy: 100.0%\n",
      " | Epoch 3 | Loss: 0.005925078876316547 | Accuracy: 100.0%\n",
      " | Epoch 3 | Loss: 0.21767431497573853 | Accuracy: 96.875%\n",
      " | Epoch 3 | Loss: 0.0051568662747740746 | Accuracy: 100.0%\n",
      " | Epoch 3 | Loss: 0.006734051741659641 | Accuracy: 100.0%\n",
      " | Epoch 3 | Loss: 0.1716911792755127 | Accuracy: 96.875%\n",
      " | Epoch 3 | Loss: 0.006497555412352085 | Accuracy: 100.0%\n",
      " | Epoch 3 | Loss: 0.006283216644078493 | Accuracy: 100.0%\n",
      " | Epoch 3 | Loss: 0.006269496865570545 | Accuracy: 100.0%\n",
      " | Epoch 3 | Loss: 0.006771252956241369 | Accuracy: 100.0%\n",
      " | Epoch 3 | Loss: 0.005742861423641443 | Accuracy: 100.0%\n",
      " | Epoch 3 | Loss: 0.007488013245165348 | Accuracy: 100.0%\n",
      " | Epoch 3 | Loss: 0.27204346656799316 | Accuracy: 96.875%\n",
      " | Epoch 3 | Loss: 0.007034454494714737 | Accuracy: 100.0%\n",
      " | Epoch 3 | Loss: 0.006344922818243504 | Accuracy: 100.0%\n",
      " | Epoch 3 | Loss: 0.006731206551194191 | Accuracy: 100.0%\n",
      " | Epoch 3 | Loss: 0.007441827096045017 | Accuracy: 100.0%\n",
      " | Epoch 3 | Loss: 0.006416382268071175 | Accuracy: 100.0%\n",
      " | Epoch 3 | Loss: 0.007701919414103031 | Accuracy: 100.0%\n",
      " | Epoch 3 | Loss: 0.005986775737255812 | Accuracy: 100.0%\n",
      " | Epoch 3 | Loss: 0.0067804912105202675 | Accuracy: 100.0%\n",
      " | Epoch 3 | Loss: 0.005864918231964111 | Accuracy: 100.0%\n",
      " | Epoch 3 | Loss: 0.006675140466541052 | Accuracy: 100.0%\n",
      " | Epoch 3 | Loss: 0.0062479241751134396 | Accuracy: 100.0%\n",
      " | Epoch 3 | Loss: 0.007446418050676584 | Accuracy: 100.0%\n",
      " | Epoch 3 | Loss: 0.005715368315577507 | Accuracy: 100.0%\n",
      " | Epoch 3 | Loss: 0.0059715379029512405 | Accuracy: 100.0%\n",
      " | Epoch 3 | Loss: 0.005035097245126963 | Accuracy: 100.0%\n",
      " | Epoch 3 | Loss: 0.007213238161057234 | Accuracy: 100.0%\n",
      " | Epoch 3 | Loss: 0.00493986252695322 | Accuracy: 100.0%\n",
      " | Epoch 3 | Loss: 0.005680942442268133 | Accuracy: 100.0%\n",
      " | Epoch 3 | Loss: 0.21920213103294373 | Accuracy: 96.875%\n",
      " | Epoch 3 | Loss: 0.006789061706513166 | Accuracy: 100.0%\n",
      " | Epoch 3 | Loss: 0.0060085817240178585 | Accuracy: 100.0%\n",
      " | Epoch 3 | Loss: 0.005227198358625174 | Accuracy: 100.0%\n",
      " | Epoch 3 | Loss: 0.0073220450431108475 | Accuracy: 100.0%\n",
      " | Epoch 3 | Loss: 0.006465086247771978 | Accuracy: 100.0%\n",
      " | Epoch 3 | Loss: 0.005609944928437471 | Accuracy: 100.0%\n",
      " | Epoch 3 | Loss: 0.005797707010060549 | Accuracy: 100.0%\n",
      " | Epoch 3 | Loss: 0.005758611019700766 | Accuracy: 100.0%\n",
      " | Epoch 3 | Loss: 0.005350037943571806 | Accuracy: 100.0%\n",
      " | Epoch 3 | Loss: 0.005987890996038914 | Accuracy: 100.0%\n",
      " | Epoch 3 | Loss: 0.007393954787403345 | Accuracy: 100.0%\n",
      " | Epoch 3 | Loss: 0.006664571352303028 | Accuracy: 100.0%\n",
      " | Epoch 3 | Loss: 0.007096584886312485 | Accuracy: 100.0%\n",
      " | Epoch 3 | Loss: 0.16502487659454346 | Accuracy: 96.875%\n",
      " | Epoch 3 | Loss: 0.006927914451807737 | Accuracy: 100.0%\n",
      " | Epoch 3 | Loss: 0.26266252994537354 | Accuracy: 96.875%\n",
      " | Epoch 3 | Loss: 0.007839162833988667 | Accuracy: 100.0%\n",
      " | Epoch 3 | Loss: 0.005560155492275953 | Accuracy: 100.0%\n",
      " | Epoch 3 | Loss: 0.005834648385643959 | Accuracy: 100.0%\n",
      " | Epoch 3 | Loss: 0.006485497113317251 | Accuracy: 100.0%\n",
      " | Epoch 3 | Loss: 0.006222030147910118 | Accuracy: 100.0%\n",
      " | Epoch 3 | Loss: 0.0057981270365417 | Accuracy: 100.0%\n",
      " | Epoch 3 | Loss: 0.005493369419127703 | Accuracy: 100.0%\n",
      " | Epoch 3 | Loss: 0.00652218796312809 | Accuracy: 100.0%\n",
      " | Epoch 3 | Loss: 0.006951897870749235 | Accuracy: 100.0%\n",
      " | Epoch 3 | Loss: 0.21090880036354065 | Accuracy: 96.875%\n",
      " | Epoch 3 | Loss: 0.007232070900499821 | Accuracy: 100.0%\n",
      " | Epoch 3 | Loss: 0.007153437938541174 | Accuracy: 100.0%\n",
      " | Epoch 3 | Loss: 0.007441540714353323 | Accuracy: 100.0%\n",
      " | Epoch 3 | Loss: 0.24233587086200714 | Accuracy: 96.875%\n",
      " | Epoch 3 | Loss: 0.00707472488284111 | Accuracy: 100.0%\n",
      " | Epoch 3 | Loss: 0.007870087400078773 | Accuracy: 100.0%\n",
      " | Epoch 3 | Loss: 0.006931744981557131 | Accuracy: 100.0%\n",
      " | Epoch 3 | Loss: 0.20399285852909088 | Accuracy: 96.875%\n",
      " | Epoch 3 | Loss: 0.006216744892299175 | Accuracy: 100.0%\n",
      " | Epoch 3 | Loss: 0.006809998769313097 | Accuracy: 100.0%\n",
      " | Epoch 3 | Loss: 0.009255328215658665 | Accuracy: 100.0%\n",
      " | Epoch 3 | Loss: 0.00872879195958376 | Accuracy: 100.0%\n",
      " | Epoch 3 | Loss: 0.009284566156566143 | Accuracy: 100.0%\n",
      " | Epoch 3 | Loss: 0.21821030974388123 | Accuracy: 96.875%\n",
      " | Epoch 3 | Loss: 0.008011296391487122 | Accuracy: 100.0%\n",
      " | Epoch 3 | Loss: 0.0054143015295267105 | Accuracy: 100.0%\n",
      " | Epoch 3 | Loss: 0.007575674913823605 | Accuracy: 100.0%\n",
      " | Epoch 3 | Loss: 0.007551338989287615 | Accuracy: 100.0%\n",
      " | Epoch 3 | Loss: 0.00831760186702013 | Accuracy: 100.0%\n",
      " | Epoch 3 | Loss: 0.008933142758905888 | Accuracy: 100.0%\n",
      " | Epoch 3 | Loss: 0.008840112946927547 | Accuracy: 100.0%\n",
      " | Epoch 3 | Loss: 0.007950632832944393 | Accuracy: 100.0%\n",
      " | Epoch 3 | Loss: 0.006728959269821644 | Accuracy: 100.0%\n",
      " | Epoch 3 | Loss: 0.007904433645308018 | Accuracy: 100.0%\n",
      " | Epoch 3 | Loss: 0.007059222087264061 | Accuracy: 100.0%\n",
      " | Epoch 3 | Loss: 0.006828321609646082 | Accuracy: 100.0%\n",
      " | Epoch 3 | Loss: 0.008055607788264751 | Accuracy: 100.0%\n",
      " | Epoch 3 | Loss: 0.19731098413467407 | Accuracy: 96.875%\n",
      " | Epoch 3 | Loss: 0.006451613735407591 | Accuracy: 100.0%\n",
      " | Epoch 3 | Loss: 0.0059007639065384865 | Accuracy: 100.0%\n",
      " | Epoch 3 | Loss: 0.007244233042001724 | Accuracy: 100.0%\n",
      " | Epoch 3 | Loss: 0.007428762502968311 | Accuracy: 100.0%\n",
      " | Epoch 3 | Loss: 0.005849498324096203 | Accuracy: 100.0%\n",
      " | Epoch 3 | Loss: 0.17253558337688446 | Accuracy: 96.875%\n"
     ]
    },
    {
     "name": "stderr",
     "output_type": "stream",
     "text": [
      "Epoch 3:  51%|██████████████▍             | 771/1501 [00:01<00:01, 573.58batch/s, accuracy=100.0%, loss=0.00782]"
     ]
    },
    {
     "name": "stdout",
     "output_type": "stream",
     "text": [
      " | Epoch 3 | Loss: 0.00796324573457241 | Accuracy: 100.0%\n",
      " | Epoch 3 | Loss: 0.007727084215730429 | Accuracy: 100.0%\n",
      " | Epoch 3 | Loss: 0.009061658754944801 | Accuracy: 100.0%\n",
      " | Epoch 3 | Loss: 0.006529323291033506 | Accuracy: 100.0%\n",
      " | Epoch 3 | Loss: 0.006966672372072935 | Accuracy: 100.0%\n",
      " | Epoch 3 | Loss: 0.0070444317534565926 | Accuracy: 100.0%\n",
      " | Epoch 3 | Loss: 0.22891581058502197 | Accuracy: 96.875%\n",
      " | Epoch 3 | Loss: 0.4690971076488495 | Accuracy: 93.75%\n",
      " | Epoch 3 | Loss: 0.00792953185737133 | Accuracy: 100.0%\n",
      " | Epoch 3 | Loss: 0.20455102622509003 | Accuracy: 96.875%\n",
      " | Epoch 3 | Loss: 0.010056041181087494 | Accuracy: 100.0%\n",
      " | Epoch 3 | Loss: 0.18938051164150238 | Accuracy: 96.875%\n",
      " | Epoch 3 | Loss: 0.23150044679641724 | Accuracy: 96.875%\n",
      " | Epoch 3 | Loss: 0.0075491261668503284 | Accuracy: 100.0%\n",
      " | Epoch 3 | Loss: 0.00810949970036745 | Accuracy: 100.0%\n",
      " | Epoch 3 | Loss: 0.00787852518260479 | Accuracy: 100.0%\n",
      " | Epoch 3 | Loss: 0.008175283670425415 | Accuracy: 100.0%\n",
      " | Epoch 3 | Loss: 0.00887964852154255 | Accuracy: 100.0%\n",
      " | Epoch 3 | Loss: 0.009928970597684383 | Accuracy: 100.0%\n",
      " | Epoch 3 | Loss: 0.22453352808952332 | Accuracy: 96.875%\n",
      " | Epoch 3 | Loss: 0.01192113570868969 | Accuracy: 100.0%\n",
      " | Epoch 3 | Loss: 0.011518381536006927 | Accuracy: 100.0%\n",
      " | Epoch 3 | Loss: 0.008192954584956169 | Accuracy: 100.0%\n",
      " | Epoch 3 | Loss: 0.008462159894406796 | Accuracy: 100.0%\n",
      " | Epoch 3 | Loss: 0.009447651915252209 | Accuracy: 100.0%\n",
      " | Epoch 3 | Loss: 0.009073282591998577 | Accuracy: 100.0%\n",
      " | Epoch 3 | Loss: 0.009508760645985603 | Accuracy: 100.0%\n",
      " | Epoch 3 | Loss: 0.01036645844578743 | Accuracy: 100.0%\n",
      " | Epoch 3 | Loss: 0.008612587116658688 | Accuracy: 100.0%\n",
      " | Epoch 3 | Loss: 0.00877845287322998 | Accuracy: 100.0%\n",
      " | Epoch 3 | Loss: 0.011111868545413017 | Accuracy: 100.0%\n",
      " | Epoch 3 | Loss: 0.007516542915254831 | Accuracy: 100.0%\n",
      " | Epoch 3 | Loss: 0.008212084881961346 | Accuracy: 100.0%\n",
      " | Epoch 3 | Loss: 0.008972836658358574 | Accuracy: 100.0%\n",
      " | Epoch 3 | Loss: 0.009713495150208473 | Accuracy: 100.0%\n",
      " | Epoch 3 | Loss: 0.006901067215949297 | Accuracy: 100.0%\n",
      " | Epoch 3 | Loss: 0.007745316252112389 | Accuracy: 100.0%\n",
      " | Epoch 3 | Loss: 0.25607940554618835 | Accuracy: 96.875%\n",
      " | Epoch 3 | Loss: 0.009346850216388702 | Accuracy: 100.0%\n",
      " | Epoch 3 | Loss: 0.00923987664282322 | Accuracy: 100.0%\n",
      " | Epoch 3 | Loss: 0.006862215232104063 | Accuracy: 100.0%\n",
      " | Epoch 3 | Loss: 0.00881793163716793 | Accuracy: 100.0%\n",
      " | Epoch 3 | Loss: 0.006962848361581564 | Accuracy: 100.0%\n",
      " | Epoch 3 | Loss: 0.006746956612914801 | Accuracy: 100.0%\n",
      " | Epoch 3 | Loss: 0.007294264156371355 | Accuracy: 100.0%\n",
      " | Epoch 3 | Loss: 0.00726819084957242 | Accuracy: 100.0%\n",
      " | Epoch 3 | Loss: 0.006372346542775631 | Accuracy: 100.0%\n",
      " | Epoch 3 | Loss: 0.20738568902015686 | Accuracy: 96.875%\n",
      " | Epoch 3 | Loss: 0.00672156922519207 | Accuracy: 100.0%\n",
      " | Epoch 3 | Loss: 0.006156667601317167 | Accuracy: 100.0%\n",
      " | Epoch 3 | Loss: 0.006998136173933744 | Accuracy: 100.0%\n",
      " | Epoch 3 | Loss: 0.006657823920249939 | Accuracy: 100.0%\n",
      " | Epoch 3 | Loss: 0.007073274813592434 | Accuracy: 100.0%\n",
      " | Epoch 3 | Loss: 0.006309956777840853 | Accuracy: 100.0%\n",
      " | Epoch 3 | Loss: 0.16220305860042572 | Accuracy: 96.875%\n",
      " | Epoch 3 | Loss: 0.24262773990631104 | Accuracy: 96.875%\n",
      " | Epoch 3 | Loss: 0.008823937736451626 | Accuracy: 100.0%\n",
      " | Epoch 3 | Loss: 0.1657581925392151 | Accuracy: 96.875%\n",
      " | Epoch 3 | Loss: 0.008029975928366184 | Accuracy: 100.0%\n",
      " | Epoch 3 | Loss: 0.007733020465821028 | Accuracy: 100.0%\n",
      " | Epoch 3 | Loss: 0.007133512757718563 | Accuracy: 100.0%\n",
      " | Epoch 3 | Loss: 0.007041808217763901 | Accuracy: 100.0%\n",
      " | Epoch 3 | Loss: 0.00801523495465517 | Accuracy: 100.0%\n",
      " | Epoch 3 | Loss: 0.007883565500378609 | Accuracy: 100.0%\n",
      " | Epoch 3 | Loss: 0.007771660573780537 | Accuracy: 100.0%\n",
      " | Epoch 3 | Loss: 0.010267113335430622 | Accuracy: 100.0%\n",
      " | Epoch 3 | Loss: 0.17954573035240173 | Accuracy: 96.875%\n",
      " | Epoch 3 | Loss: 0.009018792770802975 | Accuracy: 100.0%\n",
      " | Epoch 3 | Loss: 0.010383052751421928 | Accuracy: 100.0%\n",
      " | Epoch 3 | Loss: 0.010306539945304394 | Accuracy: 100.0%\n",
      " | Epoch 3 | Loss: 0.4267205595970154 | Accuracy: 93.75%\n",
      " | Epoch 3 | Loss: 0.010089854709804058 | Accuracy: 100.0%\n",
      " | Epoch 3 | Loss: 0.009466984309256077 | Accuracy: 100.0%\n",
      " | Epoch 3 | Loss: 0.007612920366227627 | Accuracy: 100.0%\n",
      " | Epoch 3 | Loss: 0.010542252101004124 | Accuracy: 100.0%\n",
      " | Epoch 3 | Loss: 0.008054260164499283 | Accuracy: 100.0%\n",
      " | Epoch 3 | Loss: 0.010803726501762867 | Accuracy: 100.0%\n",
      " | Epoch 3 | Loss: 0.011618433520197868 | Accuracy: 100.0%\n",
      " | Epoch 3 | Loss: 0.010604193434119225 | Accuracy: 100.0%\n",
      " | Epoch 3 | Loss: 0.2463592141866684 | Accuracy: 96.875%\n",
      " | Epoch 3 | Loss: 0.22388577461242676 | Accuracy: 96.875%\n",
      " | Epoch 3 | Loss: 0.25640541315078735 | Accuracy: 96.875%\n",
      " | Epoch 3 | Loss: 0.009174949489533901 | Accuracy: 100.0%\n",
      " | Epoch 3 | Loss: 0.008869613520801067 | Accuracy: 100.0%\n",
      " | Epoch 3 | Loss: 0.008291101083159447 | Accuracy: 100.0%\n",
      " | Epoch 3 | Loss: 0.010342112742364407 | Accuracy: 100.0%\n",
      " | Epoch 3 | Loss: 0.009388502687215805 | Accuracy: 100.0%\n",
      " | Epoch 3 | Loss: 0.014430390670895576 | Accuracy: 100.0%\n",
      " | Epoch 3 | Loss: 0.007883547805249691 | Accuracy: 100.0%\n",
      " | Epoch 3 | Loss: 0.012881788425147533 | Accuracy: 100.0%\n",
      " | Epoch 3 | Loss: 0.01033046841621399 | Accuracy: 100.0%\n",
      " | Epoch 3 | Loss: 0.008260807022452354 | Accuracy: 100.0%\n",
      " | Epoch 3 | Loss: 0.008453771471977234 | Accuracy: 100.0%\n",
      " | Epoch 3 | Loss: 0.00801202654838562 | Accuracy: 100.0%\n",
      " | Epoch 3 | Loss: 0.007725314702838659 | Accuracy: 100.0%\n",
      " | Epoch 3 | Loss: 0.008747439831495285 | Accuracy: 100.0%\n",
      " | Epoch 3 | Loss: 0.009380361065268517 | Accuracy: 100.0%\n",
      " | Epoch 3 | Loss: 0.008107112720608711 | Accuracy: 100.0%\n",
      " | Epoch 3 | Loss: 0.009246244095265865 | Accuracy: 100.0%\n",
      " | Epoch 3 | Loss: 0.19756682217121124 | Accuracy: 96.875%\n",
      " | Epoch 3 | Loss: 0.00673338957130909 | Accuracy: 100.0%\n",
      " | Epoch 3 | Loss: 0.007624143734574318 | Accuracy: 100.0%\n",
      " | Epoch 3 | Loss: 0.007375728338956833 | Accuracy: 100.0%\n",
      " | Epoch 3 | Loss: 0.009840434417128563 | Accuracy: 100.0%\n",
      " | Epoch 3 | Loss: 0.00844208151102066 | Accuracy: 100.0%\n",
      " | Epoch 3 | Loss: 0.007696551736444235 | Accuracy: 100.0%\n",
      " | Epoch 3 | Loss: 0.26362594962120056 | Accuracy: 96.875%\n",
      " | Epoch 3 | Loss: 0.006742550525814295 | Accuracy: 100.0%\n",
      " | Epoch 3 | Loss: 0.007862395606935024 | Accuracy: 100.0%\n",
      " | Epoch 3 | Loss: 0.006703942082822323 | Accuracy: 100.0%\n",
      " | Epoch 3 | Loss: 0.007206120993942022 | Accuracy: 100.0%\n",
      " | Epoch 3 | Loss: 0.23946557939052582 | Accuracy: 96.875%\n",
      " | Epoch 3 | Loss: 0.007359947077929974 | Accuracy: 100.0%\n",
      " | Epoch 3 | Loss: 0.006857252214103937 | Accuracy: 100.0%\n",
      " | Epoch 3 | Loss: 0.013937831856310368 | Accuracy: 100.0%\n",
      " | Epoch 3 | Loss: 0.1832457333803177 | Accuracy: 96.875%\n",
      " | Epoch 3 | Loss: 0.008249812759459019 | Accuracy: 100.0%\n",
      " | Epoch 3 | Loss: 0.009998383931815624 | Accuracy: 100.0%\n",
      " | Epoch 3 | Loss: 0.009323439560830593 | Accuracy: 100.0%\n",
      " | Epoch 3 | Loss: 0.007994333282113075 | Accuracy: 100.0%\n",
      " | Epoch 3 | Loss: 0.009008950553834438 | Accuracy: 100.0%\n",
      " | Epoch 3 | Loss: 0.007822508923709393 | Accuracy: 100.0%\n"
     ]
    },
    {
     "name": "stderr",
     "output_type": "stream",
     "text": [
      "Epoch 3:  60%|████████████████▋           | 895/1501 [00:01<00:01, 594.87batch/s, accuracy=100.0%, loss=0.00873]"
     ]
    },
    {
     "name": "stdout",
     "output_type": "stream",
     "text": [
      " | Epoch 3 | Loss: 0.22099338471889496 | Accuracy: 96.875%\n",
      " | Epoch 3 | Loss: 0.18468376994132996 | Accuracy: 96.875%\n",
      " | Epoch 3 | Loss: 0.006983539089560509 | Accuracy: 100.0%\n",
      " | Epoch 3 | Loss: 0.007748228497803211 | Accuracy: 100.0%\n",
      " | Epoch 3 | Loss: 0.007366296369582415 | Accuracy: 100.0%\n",
      " | Epoch 3 | Loss: 0.00789953675121069 | Accuracy: 100.0%\n",
      " | Epoch 3 | Loss: 0.008219648152589798 | Accuracy: 100.0%\n",
      " | Epoch 3 | Loss: 0.19262810051441193 | Accuracy: 96.875%\n",
      " | Epoch 3 | Loss: 0.008731229230761528 | Accuracy: 100.0%\n",
      " | Epoch 3 | Loss: 0.007206508424133062 | Accuracy: 100.0%\n",
      " | Epoch 3 | Loss: 0.008544723503291607 | Accuracy: 100.0%\n",
      " | Epoch 3 | Loss: 0.009059976786375046 | Accuracy: 100.0%\n",
      " | Epoch 3 | Loss: 0.006437578238546848 | Accuracy: 100.0%\n",
      " | Epoch 3 | Loss: 0.007400346454232931 | Accuracy: 100.0%\n",
      " | Epoch 3 | Loss: 0.006748341489583254 | Accuracy: 100.0%\n",
      " | Epoch 3 | Loss: 0.007430119905620813 | Accuracy: 100.0%\n",
      " | Epoch 3 | Loss: 0.006893234793096781 | Accuracy: 100.0%\n",
      " | Epoch 3 | Loss: 0.008151867426931858 | Accuracy: 100.0%\n",
      " | Epoch 3 | Loss: 0.007749195676296949 | Accuracy: 100.0%\n",
      " | Epoch 3 | Loss: 0.00666180020198226 | Accuracy: 100.0%\n",
      " | Epoch 3 | Loss: 0.008715003728866577 | Accuracy: 100.0%\n",
      " | Epoch 3 | Loss: 0.010167427361011505 | Accuracy: 100.0%\n",
      " | Epoch 3 | Loss: 0.006776002235710621 | Accuracy: 100.0%\n",
      " | Epoch 3 | Loss: 0.006596690975129604 | Accuracy: 100.0%\n",
      " | Epoch 3 | Loss: 0.00661954190582037 | Accuracy: 100.0%\n",
      " | Epoch 3 | Loss: 0.007756145671010017 | Accuracy: 100.0%\n",
      " | Epoch 3 | Loss: 0.007081800140440464 | Accuracy: 100.0%\n",
      " | Epoch 3 | Loss: 0.008616400882601738 | Accuracy: 100.0%\n",
      " | Epoch 3 | Loss: 0.0070221214555203915 | Accuracy: 100.0%\n",
      " | Epoch 3 | Loss: 0.008114428259432316 | Accuracy: 100.0%\n",
      " | Epoch 3 | Loss: 0.19917353987693787 | Accuracy: 96.875%\n",
      " | Epoch 3 | Loss: 0.006912560667842627 | Accuracy: 100.0%\n",
      " | Epoch 3 | Loss: 0.009048212319612503 | Accuracy: 100.0%\n",
      " | Epoch 3 | Loss: 0.009016522206366062 | Accuracy: 100.0%\n",
      " | Epoch 3 | Loss: 0.007029860280454159 | Accuracy: 100.0%\n",
      " | Epoch 3 | Loss: 0.006390885449945927 | Accuracy: 100.0%\n",
      " | Epoch 3 | Loss: 0.00582333467900753 | Accuracy: 100.0%\n",
      " | Epoch 3 | Loss: 0.007515072822570801 | Accuracy: 100.0%\n",
      " | Epoch 3 | Loss: 0.006770655978471041 | Accuracy: 100.0%\n",
      " | Epoch 3 | Loss: 0.17168092727661133 | Accuracy: 96.875%\n",
      " | Epoch 3 | Loss: 0.006348191760480404 | Accuracy: 100.0%\n",
      " | Epoch 3 | Loss: 0.007155829109251499 | Accuracy: 100.0%\n",
      " | Epoch 3 | Loss: 0.007324944715946913 | Accuracy: 100.0%\n",
      " | Epoch 3 | Loss: 0.005785104352980852 | Accuracy: 100.0%\n",
      " | Epoch 3 | Loss: 0.2501388192176819 | Accuracy: 96.875%\n",
      " | Epoch 3 | Loss: 0.006912182085216045 | Accuracy: 100.0%\n",
      " | Epoch 3 | Loss: 0.007906452752649784 | Accuracy: 100.0%\n",
      " | Epoch 3 | Loss: 0.19657959043979645 | Accuracy: 96.875%\n",
      " | Epoch 3 | Loss: 0.00811812374740839 | Accuracy: 100.0%\n",
      " | Epoch 3 | Loss: 0.007591864559799433 | Accuracy: 100.0%\n",
      " | Epoch 3 | Loss: 0.00737270712852478 | Accuracy: 100.0%\n",
      " | Epoch 3 | Loss: 0.006073422264307737 | Accuracy: 100.0%\n",
      " | Epoch 3 | Loss: 0.288737416267395 | Accuracy: 96.875%\n",
      " | Epoch 3 | Loss: 0.011173859238624573 | Accuracy: 100.0%\n",
      " | Epoch 3 | Loss: 0.008645297959446907 | Accuracy: 100.0%\n",
      " | Epoch 3 | Loss: 0.006671148352324963 | Accuracy: 100.0%\n",
      " | Epoch 3 | Loss: 0.1601964831352234 | Accuracy: 96.875%\n",
      " | Epoch 3 | Loss: 0.007442724425345659 | Accuracy: 100.0%\n",
      " | Epoch 3 | Loss: 0.007000548765063286 | Accuracy: 100.0%\n",
      " | Epoch 3 | Loss: 0.006977790035307407 | Accuracy: 100.0%\n",
      " | Epoch 3 | Loss: 0.007745525799691677 | Accuracy: 100.0%\n",
      " | Epoch 3 | Loss: 0.01211644895374775 | Accuracy: 100.0%\n",
      " | Epoch 3 | Loss: 0.008380232378840446 | Accuracy: 100.0%\n",
      " | Epoch 3 | Loss: 0.24335381388664246 | Accuracy: 96.875%\n",
      " | Epoch 3 | Loss: 0.2488739788532257 | Accuracy: 96.875%\n",
      " | Epoch 3 | Loss: 0.47242897748947144 | Accuracy: 93.75%\n",
      " | Epoch 3 | Loss: 0.008936943486332893 | Accuracy: 100.0%\n",
      " | Epoch 3 | Loss: 0.2767195999622345 | Accuracy: 96.875%\n",
      " | Epoch 3 | Loss: 0.01023808866739273 | Accuracy: 100.0%\n",
      " | Epoch 3 | Loss: 0.00682470528408885 | Accuracy: 100.0%\n",
      " | Epoch 3 | Loss: 0.00798944290727377 | Accuracy: 100.0%\n",
      " | Epoch 3 | Loss: 0.008032976649701595 | Accuracy: 100.0%\n",
      " | Epoch 3 | Loss: 0.009174809791147709 | Accuracy: 100.0%\n",
      " | Epoch 3 | Loss: 0.008888039737939835 | Accuracy: 100.0%\n",
      " | Epoch 3 | Loss: 0.009757415391504765 | Accuracy: 100.0%\n",
      " | Epoch 3 | Loss: 0.009231936186552048 | Accuracy: 100.0%\n",
      " | Epoch 3 | Loss: 0.00943402387201786 | Accuracy: 100.0%\n",
      " | Epoch 3 | Loss: 0.19810165464878082 | Accuracy: 96.875%\n",
      " | Epoch 3 | Loss: 0.010293340310454369 | Accuracy: 100.0%\n",
      " | Epoch 3 | Loss: 0.009076444432139397 | Accuracy: 100.0%\n",
      " | Epoch 3 | Loss: 0.009504145942628384 | Accuracy: 100.0%\n",
      " | Epoch 3 | Loss: 0.011921301484107971 | Accuracy: 100.0%\n",
      " | Epoch 3 | Loss: 0.008349165320396423 | Accuracy: 100.0%\n",
      " | Epoch 3 | Loss: 0.009814790450036526 | Accuracy: 100.0%\n",
      " | Epoch 3 | Loss: 0.00948304682970047 | Accuracy: 100.0%\n",
      " | Epoch 3 | Loss: 0.010237523354589939 | Accuracy: 100.0%\n",
      " | Epoch 3 | Loss: 0.008759633637964725 | Accuracy: 100.0%\n",
      " | Epoch 3 | Loss: 0.19226187467575073 | Accuracy: 96.875%\n",
      " | Epoch 3 | Loss: 0.009313059039413929 | Accuracy: 100.0%\n",
      " | Epoch 3 | Loss: 0.011986983940005302 | Accuracy: 100.0%\n",
      " | Epoch 3 | Loss: 0.009845543652772903 | Accuracy: 100.0%\n",
      " | Epoch 3 | Loss: 0.010447532869875431 | Accuracy: 100.0%\n",
      " | Epoch 3 | Loss: 0.008005845360457897 | Accuracy: 100.0%\n",
      " | Epoch 3 | Loss: 0.009973933920264244 | Accuracy: 100.0%\n",
      " | Epoch 3 | Loss: 0.007224805653095245 | Accuracy: 100.0%\n",
      " | Epoch 3 | Loss: 0.00840078480541706 | Accuracy: 100.0%\n",
      " | Epoch 3 | Loss: 0.009215407073497772 | Accuracy: 100.0%\n",
      " | Epoch 3 | Loss: 0.007741975132375956 | Accuracy: 100.0%\n",
      " | Epoch 3 | Loss: 0.01218669954687357 | Accuracy: 100.0%\n",
      " | Epoch 3 | Loss: 0.0077786860056221485 | Accuracy: 100.0%\n",
      " | Epoch 3 | Loss: 0.00752217648550868 | Accuracy: 100.0%\n",
      " | Epoch 3 | Loss: 0.00937756896018982 | Accuracy: 100.0%\n",
      " | Epoch 3 | Loss: 0.007810159586369991 | Accuracy: 100.0%\n",
      " | Epoch 3 | Loss: 0.009267482906579971 | Accuracy: 100.0%\n",
      " | Epoch 3 | Loss: 0.2416868358850479 | Accuracy: 96.875%\n",
      " | Epoch 3 | Loss: 0.007448863238096237 | Accuracy: 100.0%\n",
      " | Epoch 3 | Loss: 0.008273392915725708 | Accuracy: 100.0%\n",
      " | Epoch 3 | Loss: 0.0078663295134902 | Accuracy: 100.0%\n",
      " | Epoch 3 | Loss: 0.008434589952230453 | Accuracy: 100.0%\n",
      " | Epoch 3 | Loss: 0.0072312201373279095 | Accuracy: 100.0%\n",
      " | Epoch 3 | Loss: 0.46437424421310425 | Accuracy: 93.75%\n",
      " | Epoch 3 | Loss: 0.009812447242438793 | Accuracy: 100.0%\n",
      " | Epoch 3 | Loss: 0.006973745301365852 | Accuracy: 100.0%\n",
      " | Epoch 3 | Loss: 0.4105648398399353 | Accuracy: 93.75%\n",
      " | Epoch 3 | Loss: 0.007571496069431305 | Accuracy: 100.0%\n",
      " | Epoch 3 | Loss: 0.009150072000920773 | Accuracy: 100.0%\n",
      " | Epoch 3 | Loss: 0.008074657991528511 | Accuracy: 100.0%\n",
      " | Epoch 3 | Loss: 0.008188702166080475 | Accuracy: 100.0%\n",
      " | Epoch 3 | Loss: 0.009317942894995213 | Accuracy: 100.0%\n",
      " | Epoch 3 | Loss: 0.012106392532587051 | Accuracy: 100.0%\n",
      " | Epoch 3 | Loss: 0.010356014594435692 | Accuracy: 100.0%\n",
      " | Epoch 3 | Loss: 0.0079568549990654 | Accuracy: 100.0%\n",
      " | Epoch 3 | Loss: 0.010477605275809765 | Accuracy: 100.0%\n",
      " | Epoch 3 | Loss: 0.24690116941928864 | Accuracy: 96.875%\n",
      " | Epoch 3 | Loss: 0.009279442019760609 | Accuracy: 100.0%\n"
     ]
    },
    {
     "name": "stderr",
     "output_type": "stream",
     "text": [
      "Epoch 3:  68%|██████████████████▎        | 1019/1501 [00:01<00:00, 559.86batch/s, accuracy=100.0%, loss=0.00647]"
     ]
    },
    {
     "name": "stdout",
     "output_type": "stream",
     "text": [
      " | Epoch 3 | Loss: 0.008729561232030392 | Accuracy: 100.0%\n",
      " | Epoch 3 | Loss: 0.008540278300642967 | Accuracy: 100.0%\n",
      " | Epoch 3 | Loss: 0.011874474585056305 | Accuracy: 100.0%\n",
      " | Epoch 3 | Loss: 0.009721558541059494 | Accuracy: 100.0%\n",
      " | Epoch 3 | Loss: 0.009428972378373146 | Accuracy: 100.0%\n",
      " | Epoch 3 | Loss: 0.008204236626625061 | Accuracy: 100.0%\n",
      " | Epoch 3 | Loss: 0.009027663618326187 | Accuracy: 100.0%\n",
      " | Epoch 3 | Loss: 0.008501687087118626 | Accuracy: 100.0%\n",
      " | Epoch 3 | Loss: 0.014928649179637432 | Accuracy: 100.0%\n",
      " | Epoch 3 | Loss: 0.007731336634606123 | Accuracy: 100.0%\n",
      " | Epoch 3 | Loss: 0.00853782519698143 | Accuracy: 100.0%\n",
      " | Epoch 3 | Loss: 0.008451155386865139 | Accuracy: 100.0%\n",
      " | Epoch 3 | Loss: 0.007723623421043158 | Accuracy: 100.0%\n",
      " | Epoch 3 | Loss: 0.009754038415849209 | Accuracy: 100.0%\n",
      " | Epoch 3 | Loss: 0.00813644751906395 | Accuracy: 100.0%\n",
      " | Epoch 3 | Loss: 0.008230115287005901 | Accuracy: 100.0%\n",
      " | Epoch 3 | Loss: 0.008895114995539188 | Accuracy: 100.0%\n",
      " | Epoch 3 | Loss: 0.0072104609571397305 | Accuracy: 100.0%\n",
      " | Epoch 3 | Loss: 0.007851066067814827 | Accuracy: 100.0%\n",
      " | Epoch 3 | Loss: 0.008347454480826855 | Accuracy: 100.0%\n",
      " | Epoch 3 | Loss: 0.009954486973583698 | Accuracy: 100.0%\n",
      " | Epoch 3 | Loss: 0.1885189265012741 | Accuracy: 96.875%\n",
      " | Epoch 3 | Loss: 0.008344479836523533 | Accuracy: 100.0%\n",
      " | Epoch 3 | Loss: 0.007960725575685501 | Accuracy: 100.0%\n",
      " | Epoch 3 | Loss: 0.00737392483279109 | Accuracy: 100.0%\n",
      " | Epoch 3 | Loss: 0.008066091686487198 | Accuracy: 100.0%\n",
      " | Epoch 3 | Loss: 0.19343549013137817 | Accuracy: 96.875%\n",
      " | Epoch 3 | Loss: 0.008167043328285217 | Accuracy: 100.0%\n",
      " | Epoch 3 | Loss: 0.007543942425400019 | Accuracy: 100.0%\n",
      " | Epoch 3 | Loss: 0.007917385548353195 | Accuracy: 100.0%\n",
      " | Epoch 3 | Loss: 0.00830683670938015 | Accuracy: 100.0%\n",
      " | Epoch 3 | Loss: 0.2451920211315155 | Accuracy: 96.875%\n",
      " | Epoch 3 | Loss: 0.007643514778465033 | Accuracy: 100.0%\n",
      " | Epoch 3 | Loss: 0.1841333955526352 | Accuracy: 96.875%\n",
      " | Epoch 3 | Loss: 0.007923518307507038 | Accuracy: 100.0%\n",
      " | Epoch 3 | Loss: 0.007908906787633896 | Accuracy: 100.0%\n",
      " | Epoch 3 | Loss: 0.007591089233756065 | Accuracy: 100.0%\n",
      " | Epoch 3 | Loss: 0.2345218062400818 | Accuracy: 96.875%\n",
      " | Epoch 3 | Loss: 0.0076040467247366905 | Accuracy: 100.0%\n",
      " | Epoch 3 | Loss: 0.0074800471775233746 | Accuracy: 100.0%\n",
      " | Epoch 3 | Loss: 0.008223391138017178 | Accuracy: 100.0%\n",
      " | Epoch 3 | Loss: 0.008620413020253181 | Accuracy: 100.0%\n",
      " | Epoch 3 | Loss: 0.00725571671500802 | Accuracy: 100.0%\n",
      " | Epoch 3 | Loss: 0.00719743687659502 | Accuracy: 100.0%\n",
      " | Epoch 3 | Loss: 0.007868262939155102 | Accuracy: 100.0%\n",
      " | Epoch 3 | Loss: 0.009686124511063099 | Accuracy: 100.0%\n",
      " | Epoch 3 | Loss: 0.010501536540687084 | Accuracy: 100.0%\n",
      " | Epoch 3 | Loss: 0.007131863851100206 | Accuracy: 100.0%\n",
      " | Epoch 3 | Loss: 0.007352763321250677 | Accuracy: 100.0%\n",
      " | Epoch 3 | Loss: 0.007406064309179783 | Accuracy: 100.0%\n",
      " | Epoch 3 | Loss: 0.007772849872708321 | Accuracy: 100.0%\n",
      " | Epoch 3 | Loss: 0.18932636082172394 | Accuracy: 96.875%\n",
      " | Epoch 3 | Loss: 0.006952398922294378 | Accuracy: 100.0%\n",
      " | Epoch 3 | Loss: 0.006335374899208546 | Accuracy: 100.0%\n",
      " | Epoch 3 | Loss: 0.009968644008040428 | Accuracy: 100.0%\n",
      " | Epoch 3 | Loss: 0.008341336622834206 | Accuracy: 100.0%\n",
      " | Epoch 3 | Loss: 0.008117624558508396 | Accuracy: 100.0%\n",
      " | Epoch 3 | Loss: 0.008520187810063362 | Accuracy: 100.0%\n",
      " | Epoch 3 | Loss: 0.008689960464835167 | Accuracy: 100.0%\n",
      " | Epoch 3 | Loss: 0.007730753626674414 | Accuracy: 100.0%\n",
      " | Epoch 3 | Loss: 0.006496291141957045 | Accuracy: 100.0%\n",
      " | Epoch 3 | Loss: 0.16803239285945892 | Accuracy: 96.875%\n",
      " | Epoch 3 | Loss: 0.008805284276604652 | Accuracy: 100.0%\n",
      " | Epoch 3 | Loss: 0.01036013476550579 | Accuracy: 100.0%\n",
      " | Epoch 3 | Loss: 0.0076647368259727955 | Accuracy: 100.0%\n",
      " | Epoch 3 | Loss: 0.007966944016516209 | Accuracy: 100.0%\n",
      " | Epoch 3 | Loss: 0.010615569539368153 | Accuracy: 100.0%\n",
      " | Epoch 3 | Loss: 0.006713442504405975 | Accuracy: 100.0%\n",
      " | Epoch 3 | Loss: 0.008406827226281166 | Accuracy: 100.0%\n",
      " | Epoch 3 | Loss: 0.21395012736320496 | Accuracy: 96.875%\n",
      " | Epoch 3 | Loss: 0.006865924224257469 | Accuracy: 100.0%\n",
      " | Epoch 3 | Loss: 0.00804415624588728 | Accuracy: 100.0%\n",
      " | Epoch 3 | Loss: 0.00832541473209858 | Accuracy: 100.0%\n",
      " | Epoch 3 | Loss: 0.006410752888768911 | Accuracy: 100.0%\n",
      " | Epoch 3 | Loss: 0.008747405372560024 | Accuracy: 100.0%\n",
      " | Epoch 3 | Loss: 0.008251378312706947 | Accuracy: 100.0%\n",
      " | Epoch 3 | Loss: 0.007600185927003622 | Accuracy: 100.0%\n",
      " | Epoch 3 | Loss: 0.0080307237803936 | Accuracy: 100.0%\n",
      " | Epoch 3 | Loss: 0.008437218144536018 | Accuracy: 100.0%\n",
      " | Epoch 3 | Loss: 0.007808225229382515 | Accuracy: 100.0%\n",
      " | Epoch 3 | Loss: 0.008406845852732658 | Accuracy: 100.0%\n",
      " | Epoch 3 | Loss: 0.008038769476115704 | Accuracy: 100.0%\n",
      " | Epoch 3 | Loss: 0.008185433223843575 | Accuracy: 100.0%\n",
      " | Epoch 3 | Loss: 0.0074788713827729225 | Accuracy: 100.0%\n",
      " | Epoch 3 | Loss: 0.007210553158074617 | Accuracy: 100.0%\n",
      " | Epoch 3 | Loss: 0.4307881295681 | Accuracy: 93.75%\n",
      " | Epoch 3 | Loss: 0.005911983549594879 | Accuracy: 100.0%\n",
      " | Epoch 3 | Loss: 0.006370890885591507 | Accuracy: 100.0%\n",
      " | Epoch 3 | Loss: 0.007024500984698534 | Accuracy: 100.0%\n",
      " | Epoch 3 | Loss: 0.007190153002738953 | Accuracy: 100.0%\n",
      " | Epoch 3 | Loss: 0.00933108851313591 | Accuracy: 100.0%\n",
      " | Epoch 3 | Loss: 0.18213897943496704 | Accuracy: 96.875%\n",
      " | Epoch 3 | Loss: 0.00742808822542429 | Accuracy: 100.0%\n",
      " | Epoch 3 | Loss: 0.009042334742844105 | Accuracy: 100.0%\n",
      " | Epoch 3 | Loss: 0.006534415762871504 | Accuracy: 100.0%\n",
      " | Epoch 3 | Loss: 0.21235491335391998 | Accuracy: 96.875%\n",
      " | Epoch 3 | Loss: 0.009728253819048405 | Accuracy: 100.0%\n",
      " | Epoch 3 | Loss: 0.009579958394169807 | Accuracy: 100.0%\n",
      " | Epoch 3 | Loss: 0.007427269127219915 | Accuracy: 100.0%\n",
      " | Epoch 3 | Loss: 0.00953656155616045 | Accuracy: 100.0%\n",
      " | Epoch 3 | Loss: 0.00910232774913311 | Accuracy: 100.0%\n",
      " | Epoch 3 | Loss: 0.007853108458220959 | Accuracy: 100.0%\n",
      " | Epoch 3 | Loss: 0.00794863048940897 | Accuracy: 100.0%\n",
      " | Epoch 3 | Loss: 0.006483930628746748 | Accuracy: 100.0%\n",
      " | Epoch 3 | Loss: 0.007971184328198433 | Accuracy: 100.0%\n",
      " | Epoch 3 | Loss: 0.007347168400883675 | Accuracy: 100.0%\n",
      " | Epoch 3 | Loss: 0.007844201289117336 | Accuracy: 100.0%\n",
      " | Epoch 3 | Loss: 0.007200764026492834 | Accuracy: 100.0%\n"
     ]
    },
    {
     "name": "stderr",
     "output_type": "stream",
     "text": [
      "Epoch 3:  72%|███████████████████▎       | 1076/1501 [00:02<00:00, 561.73batch/s, accuracy=100.0%, loss=0.00783]"
     ]
    },
    {
     "name": "stdout",
     "output_type": "stream",
     "text": [
      " | Epoch 3 | Loss: 0.006465538404881954 | Accuracy: 100.0%\n",
      " | Epoch 3 | Loss: 0.006835979409515858 | Accuracy: 100.0%\n",
      " | Epoch 3 | Loss: 0.008079291321337223 | Accuracy: 100.0%\n",
      " | Epoch 3 | Loss: 0.00805787742137909 | Accuracy: 100.0%\n",
      " | Epoch 3 | Loss: 0.22823280096054077 | Accuracy: 96.875%\n",
      " | Epoch 3 | Loss: 0.007253413554280996 | Accuracy: 100.0%\n",
      " | Epoch 3 | Loss: 0.19165600836277008 | Accuracy: 96.875%\n",
      " | Epoch 3 | Loss: 0.008299445733428001 | Accuracy: 100.0%\n",
      " | Epoch 3 | Loss: 0.006481128744781017 | Accuracy: 100.0%\n",
      " | Epoch 3 | Loss: 0.0068753547966480255 | Accuracy: 100.0%\n",
      " | Epoch 3 | Loss: 0.00800504069775343 | Accuracy: 100.0%\n",
      " | Epoch 3 | Loss: 0.007604227401316166 | Accuracy: 100.0%\n",
      " | Epoch 3 | Loss: 0.010721341706812382 | Accuracy: 100.0%\n",
      " | Epoch 3 | Loss: 0.006507775280624628 | Accuracy: 100.0%\n",
      " | Epoch 3 | Loss: 0.006626218091696501 | Accuracy: 100.0%\n",
      " | Epoch 3 | Loss: 0.23127374053001404 | Accuracy: 96.875%\n",
      " | Epoch 3 | Loss: 0.007353475317358971 | Accuracy: 100.0%\n",
      " | Epoch 3 | Loss: 0.006874877028167248 | Accuracy: 100.0%\n",
      " | Epoch 3 | Loss: 0.007656028028577566 | Accuracy: 100.0%\n",
      " | Epoch 3 | Loss: 0.008894345723092556 | Accuracy: 100.0%\n",
      " | Epoch 3 | Loss: 0.00720822811126709 | Accuracy: 100.0%\n",
      " | Epoch 3 | Loss: 0.006037498824298382 | Accuracy: 100.0%\n",
      " | Epoch 3 | Loss: 0.24194173514842987 | Accuracy: 96.875%\n",
      " | Epoch 3 | Loss: 0.24504314363002777 | Accuracy: 96.875%\n",
      " | Epoch 3 | Loss: 0.010071082971990108 | Accuracy: 100.0%\n",
      " | Epoch 3 | Loss: 0.006896064151078463 | Accuracy: 100.0%\n",
      " | Epoch 3 | Loss: 0.19917890429496765 | Accuracy: 96.875%\n",
      " | Epoch 3 | Loss: 0.25194889307022095 | Accuracy: 96.875%\n",
      " | Epoch 3 | Loss: 0.008428053930401802 | Accuracy: 100.0%\n",
      " | Epoch 3 | Loss: 0.007293302100151777 | Accuracy: 100.0%\n",
      " | Epoch 3 | Loss: 0.008645939640700817 | Accuracy: 100.0%\n",
      " | Epoch 3 | Loss: 0.009086274541914463 | Accuracy: 100.0%\n",
      " | Epoch 3 | Loss: 0.010260696522891521 | Accuracy: 100.0%\n",
      " | Epoch 3 | Loss: 0.008698203600943089 | Accuracy: 100.0%\n",
      " | Epoch 3 | Loss: 0.00870033074170351 | Accuracy: 100.0%\n",
      " | Epoch 3 | Loss: 0.009524904191493988 | Accuracy: 100.0%\n",
      " | Epoch 3 | Loss: 0.00836913101375103 | Accuracy: 100.0%\n",
      " | Epoch 3 | Loss: 0.009111093357205391 | Accuracy: 100.0%\n",
      " | Epoch 3 | Loss: 0.1905260980129242 | Accuracy: 96.875%\n",
      " | Epoch 3 | Loss: 0.006652696058154106 | Accuracy: 100.0%\n",
      " | Epoch 3 | Loss: 0.20169033110141754 | Accuracy: 96.875%\n",
      " | Epoch 3 | Loss: 0.183404341340065 | Accuracy: 96.875%\n",
      " | Epoch 3 | Loss: 0.010079951956868172 | Accuracy: 100.0%\n",
      " | Epoch 3 | Loss: 0.008574641309678555 | Accuracy: 100.0%\n",
      " | Epoch 3 | Loss: 0.007074383553117514 | Accuracy: 100.0%\n",
      " | Epoch 3 | Loss: 0.009058752097189426 | Accuracy: 100.0%\n",
      " | Epoch 3 | Loss: 0.010070711374282837 | Accuracy: 100.0%\n",
      " | Epoch 3 | Loss: 0.011631760746240616 | Accuracy: 100.0%\n",
      " | Epoch 3 | Loss: 0.14422224462032318 | Accuracy: 96.875%\n",
      " | Epoch 3 | Loss: 0.007691353093832731 | Accuracy: 100.0%\n",
      " | Epoch 3 | Loss: 0.012909780256450176 | Accuracy: 100.0%\n",
      " | Epoch 3 | Loss: 0.007902964018285275 | Accuracy: 100.0%\n",
      " | Epoch 3 | Loss: 0.007570363115519285 | Accuracy: 100.0%\n",
      " | Epoch 3 | Loss: 0.1800762116909027 | Accuracy: 96.875%\n",
      " | Epoch 3 | Loss: 0.008563829585909843 | Accuracy: 100.0%\n",
      " | Epoch 3 | Loss: 0.008365455083549023 | Accuracy: 100.0%\n",
      " | Epoch 3 | Loss: 0.009577400982379913 | Accuracy: 100.0%\n",
      " | Epoch 3 | Loss: 0.007912073284387589 | Accuracy: 100.0%\n",
      " | Epoch 3 | Loss: 0.008294136263430119 | Accuracy: 100.0%\n",
      " | Epoch 3 | Loss: 0.009378550574183464 | Accuracy: 100.0%\n",
      " | Epoch 3 | Loss: 0.009035426191985607 | Accuracy: 100.0%\n",
      " | Epoch 3 | Loss: 0.24877910315990448 | Accuracy: 96.875%\n",
      " | Epoch 3 | Loss: 0.009596333838999271 | Accuracy: 100.0%\n",
      " | Epoch 3 | Loss: 0.010683422908186913 | Accuracy: 100.0%\n",
      " | Epoch 3 | Loss: 0.010375631973147392 | Accuracy: 100.0%\n",
      " | Epoch 3 | Loss: 0.01117142103612423 | Accuracy: 100.0%\n",
      " | Epoch 3 | Loss: 0.009863666258752346 | Accuracy: 100.0%\n",
      " | Epoch 3 | Loss: 0.009994382038712502 | Accuracy: 100.0%\n",
      " | Epoch 3 | Loss: 0.17204520106315613 | Accuracy: 96.875%\n",
      " | Epoch 3 | Loss: 0.007445887196809053 | Accuracy: 100.0%\n",
      " | Epoch 3 | Loss: 0.009780817665159702 | Accuracy: 100.0%\n",
      " | Epoch 3 | Loss: 0.596023678779602 | Accuracy: 90.625%\n",
      " | Epoch 3 | Loss: 0.009538494981825352 | Accuracy: 100.0%\n",
      " | Epoch 3 | Loss: 0.010076508857309818 | Accuracy: 100.0%\n",
      " | Epoch 3 | Loss: 0.009580391459167004 | Accuracy: 100.0%\n",
      " | Epoch 3 | Loss: 0.010330604389309883 | Accuracy: 100.0%\n",
      " | Epoch 3 | Loss: 0.24695263803005219 | Accuracy: 96.875%\n",
      " | Epoch 3 | Loss: 0.012321652844548225 | Accuracy: 100.0%\n",
      " | Epoch 3 | Loss: 0.012539141811430454 | Accuracy: 100.0%\n",
      " | Epoch 3 | Loss: 0.010811744257807732 | Accuracy: 100.0%\n",
      " | Epoch 3 | Loss: 0.00999772921204567 | Accuracy: 100.0%\n",
      " | Epoch 3 | Loss: 0.011516713537275791 | Accuracy: 100.0%\n",
      " | Epoch 3 | Loss: 0.012161909602582455 | Accuracy: 100.0%\n",
      " | Epoch 3 | Loss: 0.012647180818021297 | Accuracy: 100.0%\n",
      " | Epoch 3 | Loss: 0.008032042533159256 | Accuracy: 100.0%\n",
      " | Epoch 3 | Loss: 0.012495252303779125 | Accuracy: 100.0%\n",
      " | Epoch 3 | Loss: 0.008563287556171417 | Accuracy: 100.0%\n",
      " | Epoch 3 | Loss: 0.008682897314429283 | Accuracy: 100.0%\n",
      " | Epoch 3 | Loss: 0.009012925438582897 | Accuracy: 100.0%\n",
      " | Epoch 3 | Loss: 0.008487883023917675 | Accuracy: 100.0%\n",
      " | Epoch 3 | Loss: 0.0072408742271363735 | Accuracy: 100.0%\n",
      " | Epoch 3 | Loss: 0.17906560003757477 | Accuracy: 96.875%\n",
      " | Epoch 3 | Loss: 0.00782689731568098 | Accuracy: 100.0%\n"
     ]
    },
    {
     "name": "stderr",
     "output_type": "stream",
     "text": [
      "Epoch 3:  79%|█████████████████████▍     | 1189/1501 [00:02<00:00, 524.90batch/s, accuracy=100.0%, loss=0.00816]"
     ]
    },
    {
     "name": "stdout",
     "output_type": "stream",
     "text": [
      " | Epoch 3 | Loss: 0.19767041504383087 | Accuracy: 96.875%\n",
      " | Epoch 3 | Loss: 0.00753015698865056 | Accuracy: 100.0%\n",
      " | Epoch 3 | Loss: 0.009952805005013943 | Accuracy: 100.0%\n",
      " | Epoch 3 | Loss: 0.3914485275745392 | Accuracy: 93.75%\n",
      " | Epoch 3 | Loss: 0.007560934405773878 | Accuracy: 100.0%\n",
      " | Epoch 3 | Loss: 0.20070384442806244 | Accuracy: 96.875%\n",
      " | Epoch 3 | Loss: 0.012543313205242157 | Accuracy: 100.0%\n",
      " | Epoch 3 | Loss: 0.0104560237377882 | Accuracy: 100.0%\n",
      " | Epoch 3 | Loss: 0.008737299591302872 | Accuracy: 100.0%\n",
      " | Epoch 3 | Loss: 0.00818794034421444 | Accuracy: 100.0%\n",
      " | Epoch 3 | Loss: 0.008681727573275566 | Accuracy: 100.0%\n",
      " | Epoch 3 | Loss: 0.00894080102443695 | Accuracy: 100.0%\n",
      " | Epoch 3 | Loss: 0.008968728594481945 | Accuracy: 100.0%\n",
      " | Epoch 3 | Loss: 0.009815358556807041 | Accuracy: 100.0%\n",
      " | Epoch 3 | Loss: 0.009463587775826454 | Accuracy: 100.0%\n",
      " | Epoch 3 | Loss: 0.21163806319236755 | Accuracy: 96.875%\n",
      " | Epoch 3 | Loss: 0.009242010302841663 | Accuracy: 100.0%\n",
      " | Epoch 3 | Loss: 0.008647456765174866 | Accuracy: 100.0%\n",
      " | Epoch 3 | Loss: 0.009451326914131641 | Accuracy: 100.0%\n",
      " | Epoch 3 | Loss: 0.0068152593448758125 | Accuracy: 100.0%\n",
      " | Epoch 3 | Loss: 0.009458374232053757 | Accuracy: 100.0%\n",
      " | Epoch 3 | Loss: 0.00981450267136097 | Accuracy: 100.0%\n",
      " | Epoch 3 | Loss: 0.010710220783948898 | Accuracy: 100.0%\n",
      " | Epoch 3 | Loss: 0.0074545531533658504 | Accuracy: 100.0%\n",
      " | Epoch 3 | Loss: 0.00986919179558754 | Accuracy: 100.0%\n",
      " | Epoch 3 | Loss: 0.010899785906076431 | Accuracy: 100.0%\n",
      " | Epoch 3 | Loss: 0.008781260810792446 | Accuracy: 100.0%\n",
      " | Epoch 3 | Loss: 0.010020174086093903 | Accuracy: 100.0%\n",
      " | Epoch 3 | Loss: 0.007195267826318741 | Accuracy: 100.0%\n",
      " | Epoch 3 | Loss: 0.2028629034757614 | Accuracy: 96.875%\n",
      " | Epoch 3 | Loss: 0.00837603397667408 | Accuracy: 100.0%\n",
      " | Epoch 3 | Loss: 0.1719456911087036 | Accuracy: 96.875%\n",
      " | Epoch 3 | Loss: 0.007917763665318489 | Accuracy: 100.0%\n",
      " | Epoch 3 | Loss: 0.00797221064567566 | Accuracy: 100.0%\n",
      " | Epoch 3 | Loss: 0.16437779366970062 | Accuracy: 96.875%\n",
      " | Epoch 3 | Loss: 0.008583697490394115 | Accuracy: 100.0%\n",
      " | Epoch 3 | Loss: 0.16945891082286835 | Accuracy: 96.875%\n",
      " | Epoch 3 | Loss: 0.009282231330871582 | Accuracy: 100.0%\n",
      " | Epoch 3 | Loss: 0.011212526820600033 | Accuracy: 100.0%\n",
      " | Epoch 3 | Loss: 0.012363779358565807 | Accuracy: 100.0%\n",
      " | Epoch 3 | Loss: 0.010369843803346157 | Accuracy: 100.0%\n",
      " | Epoch 3 | Loss: 0.007524513639509678 | Accuracy: 100.0%\n",
      " | Epoch 3 | Loss: 0.010110517032444477 | Accuracy: 100.0%\n",
      " | Epoch 3 | Loss: 0.011675742454826832 | Accuracy: 100.0%\n",
      " | Epoch 3 | Loss: 0.007407119497656822 | Accuracy: 100.0%\n",
      " | Epoch 3 | Loss: 0.008225904777646065 | Accuracy: 100.0%\n",
      " | Epoch 3 | Loss: 0.008488158695399761 | Accuracy: 100.0%\n",
      " | Epoch 3 | Loss: 0.009029781445860863 | Accuracy: 100.0%\n",
      " | Epoch 3 | Loss: 0.009378566406667233 | Accuracy: 100.0%\n",
      " | Epoch 3 | Loss: 0.011877376586198807 | Accuracy: 100.0%\n",
      " | Epoch 3 | Loss: 0.008175203576683998 | Accuracy: 100.0%\n",
      " | Epoch 3 | Loss: 0.009992578066885471 | Accuracy: 100.0%\n",
      " | Epoch 3 | Loss: 0.008396623656153679 | Accuracy: 100.0%\n",
      " | Epoch 3 | Loss: 0.010247623547911644 | Accuracy: 100.0%\n",
      " | Epoch 3 | Loss: 0.009301118552684784 | Accuracy: 100.0%\n",
      " | Epoch 3 | Loss: 0.008199299685657024 | Accuracy: 100.0%\n",
      " | Epoch 3 | Loss: 0.21110393106937408 | Accuracy: 96.875%\n",
      " | Epoch 3 | Loss: 0.008816882967948914 | Accuracy: 100.0%\n",
      " | Epoch 3 | Loss: 0.0067365048453211784 | Accuracy: 100.0%\n",
      " | Epoch 3 | Loss: 0.007418629247695208 | Accuracy: 100.0%\n",
      " | Epoch 3 | Loss: 0.0071982936933636665 | Accuracy: 100.0%\n",
      " | Epoch 3 | Loss: 0.007780496962368488 | Accuracy: 100.0%\n",
      " | Epoch 3 | Loss: 0.007360475137829781 | Accuracy: 100.0%\n",
      " | Epoch 3 | Loss: 0.007612680550664663 | Accuracy: 100.0%\n",
      " | Epoch 3 | Loss: 0.007030040491372347 | Accuracy: 100.0%\n",
      " | Epoch 3 | Loss: 0.00792437233030796 | Accuracy: 100.0%\n",
      " | Epoch 3 | Loss: 0.00825593527406454 | Accuracy: 100.0%\n",
      " | Epoch 3 | Loss: 0.20444442331790924 | Accuracy: 96.875%\n",
      " | Epoch 3 | Loss: 0.006556020583957434 | Accuracy: 100.0%\n",
      " | Epoch 3 | Loss: 0.0067898184061050415 | Accuracy: 100.0%\n",
      " | Epoch 3 | Loss: 0.00802988838404417 | Accuracy: 100.0%\n",
      " | Epoch 3 | Loss: 0.19757749140262604 | Accuracy: 96.875%\n",
      " | Epoch 3 | Loss: 0.007349236402660608 | Accuracy: 100.0%\n",
      " | Epoch 3 | Loss: 0.008492949418723583 | Accuracy: 100.0%\n",
      " | Epoch 3 | Loss: 0.007236307021230459 | Accuracy: 100.0%\n",
      " | Epoch 3 | Loss: 0.23272450268268585 | Accuracy: 96.875%\n",
      " | Epoch 3 | Loss: 0.0068351696245372295 | Accuracy: 100.0%\n",
      " | Epoch 3 | Loss: 0.008224480785429478 | Accuracy: 100.0%\n",
      " | Epoch 3 | Loss: 0.006932646501809359 | Accuracy: 100.0%\n",
      " | Epoch 3 | Loss: 0.008536449633538723 | Accuracy: 100.0%\n",
      " | Epoch 3 | Loss: 0.008189787156879902 | Accuracy: 100.0%\n",
      " | Epoch 3 | Loss: 0.01048158947378397 | Accuracy: 100.0%\n",
      " | Epoch 3 | Loss: 0.007850625552237034 | Accuracy: 100.0%\n",
      " | Epoch 3 | Loss: 0.006860283203423023 | Accuracy: 100.0%\n",
      " | Epoch 3 | Loss: 0.008533702231943607 | Accuracy: 100.0%\n",
      " | Epoch 3 | Loss: 0.007525732275098562 | Accuracy: 100.0%\n",
      " | Epoch 3 | Loss: 0.007384713273495436 | Accuracy: 100.0%\n",
      " | Epoch 3 | Loss: 0.008990210480988026 | Accuracy: 100.0%\n",
      " | Epoch 3 | Loss: 0.008018724620342255 | Accuracy: 100.0%\n",
      " | Epoch 3 | Loss: 0.007431857753545046 | Accuracy: 100.0%\n",
      " | Epoch 3 | Loss: 0.007525811903178692 | Accuracy: 100.0%\n",
      " | Epoch 3 | Loss: 0.007561457809060812 | Accuracy: 100.0%\n",
      " | Epoch 3 | Loss: 0.20046789944171906 | Accuracy: 96.875%\n",
      " | Epoch 3 | Loss: 0.007724760565906763 | Accuracy: 100.0%\n",
      " | Epoch 3 | Loss: 0.006952872034162283 | Accuracy: 100.0%\n",
      " | Epoch 3 | Loss: 0.007376162800937891 | Accuracy: 100.0%\n",
      " | Epoch 3 | Loss: 0.008345729671418667 | Accuracy: 100.0%\n",
      " | Epoch 3 | Loss: 0.008666476234793663 | Accuracy: 100.0%\n",
      " | Epoch 3 | Loss: 0.00768998870626092 | Accuracy: 100.0%\n",
      " | Epoch 3 | Loss: 0.007866925559937954 | Accuracy: 100.0%\n",
      " | Epoch 3 | Loss: 0.0077330623753368855 | Accuracy: 100.0%\n",
      " | Epoch 3 | Loss: 0.2505103051662445 | Accuracy: 96.875%\n",
      " | Epoch 3 | Loss: 0.006715353578329086 | Accuracy: 100.0%\n",
      " | Epoch 3 | Loss: 0.007142490241676569 | Accuracy: 100.0%\n",
      " | Epoch 3 | Loss: 0.007740847300738096 | Accuracy: 100.0%\n",
      " | Epoch 3 | Loss: 0.008164306171238422 | Accuracy: 100.0%\n"
     ]
    },
    {
     "name": "stderr",
     "output_type": "stream",
     "text": [
      "Epoch 3:  86%|████████████████████████▏   | 1294/1501 [00:02<00:00, 496.63batch/s, accuracy=100.0%, loss=0.0115]"
     ]
    },
    {
     "name": "stdout",
     "output_type": "stream",
     "text": [
      " | Epoch 3 | Loss: 0.007436693180352449 | Accuracy: 100.0%\n",
      " | Epoch 3 | Loss: 0.00833852682262659 | Accuracy: 100.0%\n",
      " | Epoch 3 | Loss: 0.007097963243722916 | Accuracy: 100.0%\n",
      " | Epoch 3 | Loss: 0.007053719833493233 | Accuracy: 100.0%\n",
      " | Epoch 3 | Loss: 0.00860661268234253 | Accuracy: 100.0%\n",
      " | Epoch 3 | Loss: 0.00779968686401844 | Accuracy: 100.0%\n",
      " | Epoch 3 | Loss: 0.00774128083139658 | Accuracy: 100.0%\n",
      " | Epoch 3 | Loss: 0.006746942177414894 | Accuracy: 100.0%\n",
      " | Epoch 3 | Loss: 0.006820813287049532 | Accuracy: 100.0%\n",
      " | Epoch 3 | Loss: 0.006295844912528992 | Accuracy: 100.0%\n",
      " | Epoch 3 | Loss: 0.00697903661057353 | Accuracy: 100.0%\n",
      " | Epoch 3 | Loss: 0.0054382686503231525 | Accuracy: 100.0%\n",
      " | Epoch 3 | Loss: 0.006032803561538458 | Accuracy: 100.0%\n",
      " | Epoch 3 | Loss: 0.005409589037299156 | Accuracy: 100.0%\n",
      " | Epoch 3 | Loss: 0.006099139805883169 | Accuracy: 100.0%\n",
      " | Epoch 3 | Loss: 0.007327548693865538 | Accuracy: 100.0%\n",
      " | Epoch 3 | Loss: 0.007020650897175074 | Accuracy: 100.0%\n",
      " | Epoch 3 | Loss: 0.006189285311847925 | Accuracy: 100.0%\n",
      " | Epoch 3 | Loss: 0.006761416792869568 | Accuracy: 100.0%\n",
      " | Epoch 3 | Loss: 0.0065083629451692104 | Accuracy: 100.0%\n",
      " | Epoch 3 | Loss: 0.006026784423738718 | Accuracy: 100.0%\n",
      " | Epoch 3 | Loss: 0.00572572136297822 | Accuracy: 100.0%\n",
      " | Epoch 3 | Loss: 0.006396743934601545 | Accuracy: 100.0%\n",
      " | Epoch 3 | Loss: 0.00595660088583827 | Accuracy: 100.0%\n",
      " | Epoch 3 | Loss: 0.006008039694279432 | Accuracy: 100.0%\n",
      " | Epoch 3 | Loss: 0.006102410145103931 | Accuracy: 100.0%\n",
      " | Epoch 3 | Loss: 0.00602856557816267 | Accuracy: 100.0%\n",
      " | Epoch 3 | Loss: 0.00556236831471324 | Accuracy: 100.0%\n",
      " | Epoch 3 | Loss: 0.006216190755367279 | Accuracy: 100.0%\n",
      " | Epoch 3 | Loss: 0.0058572604320943356 | Accuracy: 100.0%\n",
      " | Epoch 3 | Loss: 0.23545482754707336 | Accuracy: 96.875%\n",
      " | Epoch 3 | Loss: 0.007583377882838249 | Accuracy: 100.0%\n",
      " | Epoch 3 | Loss: 0.19556918740272522 | Accuracy: 96.875%\n",
      " | Epoch 3 | Loss: 0.25162649154663086 | Accuracy: 96.875%\n",
      " | Epoch 3 | Loss: 0.004849954042583704 | Accuracy: 100.0%\n",
      " | Epoch 3 | Loss: 0.24598118662834167 | Accuracy: 96.875%\n",
      " | Epoch 3 | Loss: 0.0065403347834944725 | Accuracy: 100.0%\n",
      " | Epoch 3 | Loss: 0.0053966292180120945 | Accuracy: 100.0%\n",
      " | Epoch 3 | Loss: 0.0069973049685359 | Accuracy: 100.0%\n",
      " | Epoch 3 | Loss: 0.19100403785705566 | Accuracy: 96.875%\n",
      " | Epoch 3 | Loss: 0.24006375670433044 | Accuracy: 96.875%\n",
      " | Epoch 3 | Loss: 0.006645359564572573 | Accuracy: 100.0%\n",
      " | Epoch 3 | Loss: 0.4242355525493622 | Accuracy: 93.75%\n",
      " | Epoch 3 | Loss: 0.0074271466583013535 | Accuracy: 100.0%\n",
      " | Epoch 3 | Loss: 0.006478597410023212 | Accuracy: 100.0%\n",
      " | Epoch 3 | Loss: 0.007388275116682053 | Accuracy: 100.0%\n",
      " | Epoch 3 | Loss: 0.006742625962942839 | Accuracy: 100.0%\n",
      " | Epoch 3 | Loss: 0.0072224996984004974 | Accuracy: 100.0%\n",
      " | Epoch 3 | Loss: 0.25662896037101746 | Accuracy: 96.875%\n",
      " | Epoch 3 | Loss: 0.2693130671977997 | Accuracy: 96.875%\n",
      " | Epoch 3 | Loss: 0.009859844110906124 | Accuracy: 100.0%\n",
      " | Epoch 3 | Loss: 0.008767158724367619 | Accuracy: 100.0%\n",
      " | Epoch 3 | Loss: 0.007301639765501022 | Accuracy: 100.0%\n",
      " | Epoch 3 | Loss: 0.007073467131704092 | Accuracy: 100.0%\n",
      " | Epoch 3 | Loss: 0.007907154969871044 | Accuracy: 100.0%\n",
      " | Epoch 3 | Loss: 0.23212914168834686 | Accuracy: 96.875%\n",
      " | Epoch 3 | Loss: 0.009406871162354946 | Accuracy: 100.0%\n",
      " | Epoch 3 | Loss: 0.006098421290516853 | Accuracy: 100.0%\n",
      " | Epoch 3 | Loss: 0.008011355064809322 | Accuracy: 100.0%\n",
      " | Epoch 3 | Loss: 0.0077184163965284824 | Accuracy: 100.0%\n",
      " | Epoch 3 | Loss: 0.2664957344532013 | Accuracy: 96.875%\n",
      " | Epoch 3 | Loss: 0.008509580977261066 | Accuracy: 100.0%\n",
      " | Epoch 3 | Loss: 0.008319100365042686 | Accuracy: 100.0%\n",
      " | Epoch 3 | Loss: 0.008631780743598938 | Accuracy: 100.0%\n",
      " | Epoch 3 | Loss: 0.007417851127684116 | Accuracy: 100.0%\n",
      " | Epoch 3 | Loss: 0.008339880034327507 | Accuracy: 100.0%\n",
      " | Epoch 3 | Loss: 0.009003687649965286 | Accuracy: 100.0%\n",
      " | Epoch 3 | Loss: 0.008326305076479912 | Accuracy: 100.0%\n",
      " | Epoch 3 | Loss: 0.009576967917382717 | Accuracy: 100.0%\n",
      " | Epoch 3 | Loss: 0.00955905206501484 | Accuracy: 100.0%\n",
      " | Epoch 3 | Loss: 0.009479769505560398 | Accuracy: 100.0%\n",
      " | Epoch 3 | Loss: 0.39405977725982666 | Accuracy: 93.75%\n",
      " | Epoch 3 | Loss: 0.007546266540884972 | Accuracy: 100.0%\n",
      " | Epoch 3 | Loss: 0.008258465677499771 | Accuracy: 100.0%\n",
      " | Epoch 3 | Loss: 0.0078538553789258 | Accuracy: 100.0%\n",
      " | Epoch 3 | Loss: 0.22063463926315308 | Accuracy: 96.875%\n",
      " | Epoch 3 | Loss: 0.008958910591900349 | Accuracy: 100.0%\n",
      " | Epoch 3 | Loss: 0.008946494199335575 | Accuracy: 100.0%\n",
      " | Epoch 3 | Loss: 0.00845946092158556 | Accuracy: 100.0%\n",
      " | Epoch 3 | Loss: 0.011899761855602264 | Accuracy: 100.0%\n",
      " | Epoch 3 | Loss: 0.18976780772209167 | Accuracy: 96.875%\n",
      " | Epoch 3 | Loss: 0.009009880013763905 | Accuracy: 100.0%\n",
      " | Epoch 3 | Loss: 0.008729125373065472 | Accuracy: 100.0%\n",
      " | Epoch 3 | Loss: 0.248195081949234 | Accuracy: 96.875%\n",
      " | Epoch 3 | Loss: 0.008318396285176277 | Accuracy: 100.0%\n",
      " | Epoch 3 | Loss: 0.2626107931137085 | Accuracy: 96.875%\n",
      " | Epoch 3 | Loss: 0.015232227742671967 | Accuracy: 100.0%\n",
      " | Epoch 3 | Loss: 0.010548162274062634 | Accuracy: 100.0%\n",
      " | Epoch 3 | Loss: 0.010835269466042519 | Accuracy: 100.0%\n",
      " | Epoch 3 | Loss: 0.010282982140779495 | Accuracy: 100.0%\n",
      " | Epoch 3 | Loss: 0.008312863297760487 | Accuracy: 100.0%\n",
      " | Epoch 3 | Loss: 0.011171306483447552 | Accuracy: 100.0%\n",
      " | Epoch 3 | Loss: 0.010011482052505016 | Accuracy: 100.0%\n",
      " | Epoch 3 | Loss: 0.008541038259863853 | Accuracy: 100.0%\n",
      " | Epoch 3 | Loss: 0.24976319074630737 | Accuracy: 96.875%\n",
      " | Epoch 3 | Loss: 0.4458554983139038 | Accuracy: 93.75%\n",
      " | Epoch 3 | Loss: 0.010709596797823906 | Accuracy: 100.0%\n",
      " | Epoch 3 | Loss: 0.009618670679628849 | Accuracy: 100.0%\n",
      " | Epoch 3 | Loss: 0.009737878106534481 | Accuracy: 100.0%\n",
      " | Epoch 3 | Loss: 0.01089413370937109 | Accuracy: 100.0%\n",
      " | Epoch 3 | Loss: 0.2353329062461853 | Accuracy: 96.875%\n",
      " | Epoch 3 | Loss: 0.011455968022346497 | Accuracy: 100.0%\n"
     ]
    },
    {
     "name": "stderr",
     "output_type": "stream",
     "text": [
      "Epoch 3:  94%|██████████████████████████▏ | 1406/1501 [00:02<00:00, 522.37batch/s, accuracy=100.0%, loss=0.0198]"
     ]
    },
    {
     "name": "stdout",
     "output_type": "stream",
     "text": [
      " | Epoch 3 | Loss: 0.009500551968812943 | Accuracy: 100.0%\n",
      " | Epoch 3 | Loss: 0.011612126603722572 | Accuracy: 100.0%\n",
      " | Epoch 3 | Loss: 0.009663263335824013 | Accuracy: 100.0%\n",
      " | Epoch 3 | Loss: 0.010550491511821747 | Accuracy: 100.0%\n",
      " | Epoch 3 | Loss: 0.21166843175888062 | Accuracy: 96.875%\n",
      " | Epoch 3 | Loss: 0.01692492701113224 | Accuracy: 100.0%\n",
      " | Epoch 3 | Loss: 0.012179230339825153 | Accuracy: 100.0%\n",
      " | Epoch 3 | Loss: 0.39632508158683777 | Accuracy: 93.75%\n",
      " | Epoch 3 | Loss: 0.010866150259971619 | Accuracy: 100.0%\n",
      " | Epoch 3 | Loss: 0.010959959588944912 | Accuracy: 100.0%\n",
      " | Epoch 3 | Loss: 0.009642521850764751 | Accuracy: 100.0%\n",
      " | Epoch 3 | Loss: 0.012768520973622799 | Accuracy: 100.0%\n",
      " | Epoch 3 | Loss: 0.011235573329031467 | Accuracy: 100.0%\n",
      " | Epoch 3 | Loss: 0.01049963477998972 | Accuracy: 100.0%\n",
      " | Epoch 3 | Loss: 0.010991830378770828 | Accuracy: 100.0%\n",
      " | Epoch 3 | Loss: 0.2410888820886612 | Accuracy: 96.875%\n",
      " | Epoch 3 | Loss: 0.013978575356304646 | Accuracy: 100.0%\n",
      " | Epoch 3 | Loss: 0.012009978294372559 | Accuracy: 100.0%\n",
      " | Epoch 3 | Loss: 0.009661751799285412 | Accuracy: 100.0%\n",
      " | Epoch 3 | Loss: 0.4186878800392151 | Accuracy: 93.75%\n",
      " | Epoch 3 | Loss: 0.011305882595479488 | Accuracy: 100.0%\n",
      " | Epoch 3 | Loss: 0.010495862923562527 | Accuracy: 100.0%\n",
      " | Epoch 3 | Loss: 0.009994925931096077 | Accuracy: 100.0%\n",
      " | Epoch 3 | Loss: 0.011176769621670246 | Accuracy: 100.0%\n",
      " | Epoch 3 | Loss: 0.009871427901089191 | Accuracy: 100.0%\n",
      " | Epoch 3 | Loss: 0.010890210047364235 | Accuracy: 100.0%\n",
      " | Epoch 3 | Loss: 0.010238527320325375 | Accuracy: 100.0%\n",
      " | Epoch 3 | Loss: 0.012678086757659912 | Accuracy: 100.0%\n",
      " | Epoch 3 | Loss: 0.012155731208622456 | Accuracy: 100.0%\n",
      " | Epoch 3 | Loss: 0.01082927267998457 | Accuracy: 100.0%\n",
      " | Epoch 3 | Loss: 0.013384351506829262 | Accuracy: 100.0%\n",
      " | Epoch 3 | Loss: 0.011895742267370224 | Accuracy: 100.0%\n",
      " | Epoch 3 | Loss: 0.010322037152945995 | Accuracy: 100.0%\n",
      " | Epoch 3 | Loss: 0.013630987145006657 | Accuracy: 100.0%\n",
      " | Epoch 3 | Loss: 0.01208737213164568 | Accuracy: 100.0%\n",
      " | Epoch 3 | Loss: 0.011152430437505245 | Accuracy: 100.0%\n",
      " | Epoch 3 | Loss: 0.1984909325838089 | Accuracy: 96.875%\n",
      " | Epoch 3 | Loss: 0.009596794843673706 | Accuracy: 100.0%\n",
      " | Epoch 3 | Loss: 0.01071805227547884 | Accuracy: 100.0%\n",
      " | Epoch 3 | Loss: 0.011278633959591389 | Accuracy: 100.0%\n",
      " | Epoch 3 | Loss: 0.1868474781513214 | Accuracy: 96.875%\n",
      " | Epoch 3 | Loss: 0.009398793801665306 | Accuracy: 100.0%\n",
      " | Epoch 3 | Loss: 0.013323340564966202 | Accuracy: 100.0%\n",
      " | Epoch 3 | Loss: 0.010430465452373028 | Accuracy: 100.0%\n",
      " | Epoch 3 | Loss: 0.009897129610180855 | Accuracy: 100.0%\n",
      " | Epoch 3 | Loss: 0.009464236907660961 | Accuracy: 100.0%\n",
      " | Epoch 3 | Loss: 0.3636319637298584 | Accuracy: 93.75%\n",
      " | Epoch 3 | Loss: 0.010666443966329098 | Accuracy: 100.0%\n",
      " | Epoch 3 | Loss: 0.010270867496728897 | Accuracy: 100.0%\n",
      " | Epoch 3 | Loss: 0.01112448051571846 | Accuracy: 100.0%\n",
      " | Epoch 3 | Loss: 0.00852623488754034 | Accuracy: 100.0%\n",
      " | Epoch 3 | Loss: 0.010387335903942585 | Accuracy: 100.0%\n",
      " | Epoch 3 | Loss: 0.21246874332427979 | Accuracy: 96.875%\n",
      " | Epoch 3 | Loss: 0.009843911044299603 | Accuracy: 100.0%\n",
      " | Epoch 3 | Loss: 0.009861459955573082 | Accuracy: 100.0%\n",
      " | Epoch 3 | Loss: 0.011109479703009129 | Accuracy: 100.0%\n",
      " | Epoch 3 | Loss: 0.010762689635157585 | Accuracy: 100.0%\n",
      " | Epoch 3 | Loss: 0.010348309762775898 | Accuracy: 100.0%\n",
      " | Epoch 3 | Loss: 0.0109412195160985 | Accuracy: 100.0%\n",
      " | Epoch 3 | Loss: 0.011253432370722294 | Accuracy: 100.0%\n",
      " | Epoch 3 | Loss: 0.1883060485124588 | Accuracy: 96.875%\n",
      " | Epoch 3 | Loss: 0.009280025959014893 | Accuracy: 100.0%\n",
      " | Epoch 3 | Loss: 0.009340357035398483 | Accuracy: 100.0%\n",
      " | Epoch 3 | Loss: 0.24374018609523773 | Accuracy: 96.875%\n",
      " | Epoch 3 | Loss: 0.20185038447380066 | Accuracy: 96.875%\n",
      " | Epoch 3 | Loss: 0.009656427428126335 | Accuracy: 100.0%\n",
      " | Epoch 3 | Loss: 0.012562204152345657 | Accuracy: 100.0%\n",
      " | Epoch 3 | Loss: 0.009801226668059826 | Accuracy: 100.0%\n",
      " | Epoch 3 | Loss: 0.011803282424807549 | Accuracy: 100.0%\n",
      " | Epoch 3 | Loss: 0.010150566697120667 | Accuracy: 100.0%\n",
      " | Epoch 3 | Loss: 0.17982929944992065 | Accuracy: 96.875%\n",
      " | Epoch 3 | Loss: 0.23681087791919708 | Accuracy: 96.875%\n",
      " | Epoch 3 | Loss: 0.008667206391692162 | Accuracy: 100.0%\n",
      " | Epoch 3 | Loss: 0.00941698718816042 | Accuracy: 100.0%\n",
      " | Epoch 3 | Loss: 0.010888124816119671 | Accuracy: 100.0%\n",
      " | Epoch 3 | Loss: 0.009289425797760487 | Accuracy: 100.0%\n",
      " | Epoch 3 | Loss: 0.010470269247889519 | Accuracy: 100.0%\n",
      " | Epoch 3 | Loss: 0.009722568094730377 | Accuracy: 100.0%\n",
      " | Epoch 3 | Loss: 0.010048462077975273 | Accuracy: 100.0%\n",
      " | Epoch 3 | Loss: 0.01012412179261446 | Accuracy: 100.0%\n",
      " | Epoch 3 | Loss: 0.012696247547864914 | Accuracy: 100.0%\n",
      " | Epoch 3 | Loss: 0.009647419676184654 | Accuracy: 100.0%\n",
      " | Epoch 3 | Loss: 0.010130980052053928 | Accuracy: 100.0%\n",
      " | Epoch 3 | Loss: 0.009427648968994617 | Accuracy: 100.0%\n",
      " | Epoch 3 | Loss: 0.010357058607041836 | Accuracy: 100.0%\n",
      " | Epoch 3 | Loss: 0.00916511844843626 | Accuracy: 100.0%\n",
      " | Epoch 3 | Loss: 0.012649819254875183 | Accuracy: 100.0%\n",
      " | Epoch 3 | Loss: 0.008925738744437695 | Accuracy: 100.0%\n",
      " | Epoch 3 | Loss: 0.010396257974207401 | Accuracy: 100.0%\n",
      " | Epoch 3 | Loss: 0.009136367589235306 | Accuracy: 100.0%\n",
      " | Epoch 3 | Loss: 0.008225035853683949 | Accuracy: 100.0%\n",
      " | Epoch 3 | Loss: 0.011179426684975624 | Accuracy: 100.0%\n",
      " | Epoch 3 | Loss: 0.011089272797107697 | Accuracy: 100.0%\n",
      " | Epoch 3 | Loss: 0.009824631735682487 | Accuracy: 100.0%\n",
      " | Epoch 3 | Loss: 0.009488304145634174 | Accuracy: 100.0%\n",
      " | Epoch 3 | Loss: 0.008606539107859135 | Accuracy: 100.0%\n",
      " | Epoch 3 | Loss: 0.010979765094816685 | Accuracy: 100.0%\n",
      " | Epoch 3 | Loss: 0.17432564496994019 | Accuracy: 96.875%\n",
      " | Epoch 3 | Loss: 0.009273099713027477 | Accuracy: 100.0%\n",
      " | Epoch 3 | Loss: 0.008823880925774574 | Accuracy: 100.0%\n",
      " | Epoch 3 | Loss: 0.009023061953485012 | Accuracy: 100.0%\n",
      " | Epoch 3 | Loss: 0.008182455785572529 | Accuracy: 100.0%\n",
      " | Epoch 3 | Loss: 0.36897507309913635 | Accuracy: 93.75%\n",
      " | Epoch 3 | Loss: 0.17632801830768585 | Accuracy: 96.875%\n",
      " | Epoch 3 | Loss: 0.18435411155223846 | Accuracy: 96.875%\n",
      " | Epoch 3 | Loss: 0.01132178120315075 | Accuracy: 100.0%\n",
      " | Epoch 3 | Loss: 0.009383561089634895 | Accuracy: 100.0%\n"
     ]
    },
    {
     "name": "stderr",
     "output_type": "stream",
     "text": [
      "Epoch 3: 100%|███████████████████████████| 1501/1501 [00:02<00:00, 517.07batch/s, accuracy=100.0%, loss=0.00733]\n"
     ]
    },
    {
     "name": "stdout",
     "output_type": "stream",
     "text": [
      " | Epoch 3 | Loss: 0.01977301761507988 | Accuracy: 100.0%\n",
      " | Epoch 3 | Loss: 0.010946772992610931 | Accuracy: 100.0%\n",
      " | Epoch 3 | Loss: 0.01048741303384304 | Accuracy: 100.0%\n",
      " | Epoch 3 | Loss: 0.2197055071592331 | Accuracy: 96.875%\n",
      " | Epoch 3 | Loss: 0.012115566059947014 | Accuracy: 100.0%\n",
      " | Epoch 3 | Loss: 0.012607116252183914 | Accuracy: 100.0%\n",
      " | Epoch 3 | Loss: 0.008583524264395237 | Accuracy: 100.0%\n",
      " | Epoch 3 | Loss: 0.011868384666740894 | Accuracy: 100.0%\n",
      " | Epoch 3 | Loss: 0.01100639346987009 | Accuracy: 100.0%\n",
      " | Epoch 3 | Loss: 0.2269073873758316 | Accuracy: 96.875%\n",
      " | Epoch 3 | Loss: 0.01110151968896389 | Accuracy: 100.0%\n",
      " | Epoch 3 | Loss: 0.01007247343659401 | Accuracy: 100.0%\n",
      " | Epoch 3 | Loss: 0.24199892580509186 | Accuracy: 96.875%\n",
      " | Epoch 3 | Loss: 0.009047706611454487 | Accuracy: 100.0%\n",
      " | Epoch 3 | Loss: 0.009085964411497116 | Accuracy: 100.0%\n",
      " | Epoch 3 | Loss: 0.18566058576107025 | Accuracy: 96.875%\n",
      " | Epoch 3 | Loss: 0.010622655972838402 | Accuracy: 100.0%\n",
      " | Epoch 3 | Loss: 0.009294794872403145 | Accuracy: 100.0%\n",
      " | Epoch 3 | Loss: 0.011061552911996841 | Accuracy: 100.0%\n",
      " | Epoch 3 | Loss: 0.18865570425987244 | Accuracy: 96.875%\n",
      " | Epoch 3 | Loss: 0.008535660803318024 | Accuracy: 100.0%\n",
      " | Epoch 3 | Loss: 0.00889293011277914 | Accuracy: 100.0%\n",
      " | Epoch 3 | Loss: 0.009301586076617241 | Accuracy: 100.0%\n",
      " | Epoch 3 | Loss: 0.008138906210660934 | Accuracy: 100.0%\n",
      " | Epoch 3 | Loss: 0.00954164657741785 | Accuracy: 100.0%\n",
      " | Epoch 3 | Loss: 0.009485653601586819 | Accuracy: 100.0%\n",
      " | Epoch 3 | Loss: 0.008440026082098484 | Accuracy: 100.0%\n",
      " | Epoch 3 | Loss: 0.00792071595788002 | Accuracy: 100.0%\n",
      " | Epoch 3 | Loss: 0.007931334897875786 | Accuracy: 100.0%\n",
      " | Epoch 3 | Loss: 0.008046585135161877 | Accuracy: 100.0%\n",
      " | Epoch 3 | Loss: 0.009136991575360298 | Accuracy: 100.0%\n",
      " | Epoch 3 | Loss: 0.007464170455932617 | Accuracy: 100.0%\n",
      " | Epoch 3 | Loss: 0.008847164921462536 | Accuracy: 100.0%\n",
      " | Epoch 3 | Loss: 0.011702732183039188 | Accuracy: 100.0%\n",
      " | Epoch 3 | Loss: 0.007504136301577091 | Accuracy: 100.0%\n",
      " | Epoch 3 | Loss: 0.009235353209078312 | Accuracy: 100.0%\n",
      " | Epoch 3 | Loss: 0.00727087864652276 | Accuracy: 100.0%\n",
      " | Epoch 3 | Loss: 0.007451034151017666 | Accuracy: 100.0%\n",
      " | Epoch 3 | Loss: 0.007891521789133549 | Accuracy: 100.0%\n",
      " | Epoch 3 | Loss: 0.007602391764521599 | Accuracy: 100.0%\n",
      " | Epoch 3 | Loss: 0.008186768740415573 | Accuracy: 100.0%\n",
      " | Epoch 3 | Loss: 0.007189603056758642 | Accuracy: 100.0%\n",
      " | Epoch 3 | Loss: 0.008688326925039291 | Accuracy: 100.0%\n",
      " | Epoch 3 | Loss: 0.008119821548461914 | Accuracy: 100.0%\n",
      " | Epoch 3 | Loss: 0.007671779487282038 | Accuracy: 100.0%\n",
      " | Epoch 3 | Loss: 0.008017121814191341 | Accuracy: 100.0%\n",
      " | Epoch 3 | Loss: 0.0076798186637461185 | Accuracy: 100.0%\n",
      " | Epoch 3 | Loss: 0.00845927745103836 | Accuracy: 100.0%\n",
      " | Epoch 3 | Loss: 0.00681877788156271 | Accuracy: 100.0%\n",
      " | Epoch 3 | Loss: 0.4154433608055115 | Accuracy: 93.75%\n",
      " | Epoch 3 | Loss: 0.008841242641210556 | Accuracy: 100.0%\n",
      " | Epoch 3 | Loss: 0.22722043097019196 | Accuracy: 96.875%\n",
      " | Epoch 3 | Loss: 0.008700205944478512 | Accuracy: 100.0%\n",
      " | Epoch 3 | Loss: 0.008027369156479836 | Accuracy: 100.0%\n",
      " | Epoch 3 | Loss: 0.006765094120055437 | Accuracy: 100.0%\n",
      " | Epoch 3 | Loss: 0.0073430417105555534 | Accuracy: 100.0%\n",
      " | Epoch 3 | Loss: 0.0073280357755720615 | Accuracy: 100.0%\n"
     ]
    },
    {
     "name": "stderr",
     "output_type": "stream",
     "text": [
      "Epoch 4:   4%|█                             | 55/1501 [00:00<00:04, 295.78batch/s, accuracy=100.0%, loss=0.0103]"
     ]
    },
    {
     "name": "stdout",
     "output_type": "stream",
     "text": [
      " | Epoch 4 | Loss: 0.007038739509880543 | Accuracy: 100.0%\n",
      " | Epoch 4 | Loss: 0.008907557465136051 | Accuracy: 100.0%\n",
      " | Epoch 4 | Loss: 0.007768674287945032 | Accuracy: 100.0%\n",
      " | Epoch 4 | Loss: 0.009637121111154556 | Accuracy: 100.0%\n",
      " | Epoch 4 | Loss: 0.00697188638150692 | Accuracy: 100.0%\n",
      " | Epoch 4 | Loss: 0.00726340850815177 | Accuracy: 100.0%\n",
      " | Epoch 4 | Loss: 0.008056686259806156 | Accuracy: 100.0%\n",
      " | Epoch 4 | Loss: 0.00819669384509325 | Accuracy: 100.0%\n",
      " | Epoch 4 | Loss: 0.008371125906705856 | Accuracy: 100.0%\n",
      " | Epoch 4 | Loss: 0.008154300041496754 | Accuracy: 100.0%\n",
      " | Epoch 4 | Loss: 0.24105660617351532 | Accuracy: 96.875%\n",
      " | Epoch 4 | Loss: 0.007610625121742487 | Accuracy: 100.0%\n",
      " | Epoch 4 | Loss: 0.40159422159194946 | Accuracy: 93.75%\n",
      " | Epoch 4 | Loss: 0.007184731774032116 | Accuracy: 100.0%\n",
      " | Epoch 4 | Loss: 0.24182438850402832 | Accuracy: 96.875%\n",
      " | Epoch 4 | Loss: 0.010614515282213688 | Accuracy: 100.0%\n",
      " | Epoch 4 | Loss: 0.011082419194281101 | Accuracy: 100.0%\n",
      " | Epoch 4 | Loss: 0.009471562691032887 | Accuracy: 100.0%\n",
      " | Epoch 4 | Loss: 0.008735044859349728 | Accuracy: 100.0%\n",
      " | Epoch 4 | Loss: 0.008033637888729572 | Accuracy: 100.0%\n",
      " | Epoch 4 | Loss: 0.15865372121334076 | Accuracy: 96.875%\n",
      " | Epoch 4 | Loss: 0.23356518149375916 | Accuracy: 96.875%\n",
      " | Epoch 4 | Loss: 0.23751291632652283 | Accuracy: 96.875%\n",
      " | Epoch 4 | Loss: 0.007842160761356354 | Accuracy: 100.0%\n",
      " | Epoch 4 | Loss: 0.0077382102608680725 | Accuracy: 100.0%\n",
      " | Epoch 4 | Loss: 0.010590513236820698 | Accuracy: 100.0%\n",
      " | Epoch 4 | Loss: 0.009473179467022419 | Accuracy: 100.0%\n",
      " | Epoch 4 | Loss: 0.009306451305747032 | Accuracy: 100.0%\n",
      " | Epoch 4 | Loss: 0.189144566655159 | Accuracy: 96.875%\n",
      " | Epoch 4 | Loss: 0.008528468199074268 | Accuracy: 100.0%\n",
      " | Epoch 4 | Loss: 0.007927400059998035 | Accuracy: 100.0%\n",
      " | Epoch 4 | Loss: 0.008248711936175823 | Accuracy: 100.0%\n",
      " | Epoch 4 | Loss: 0.009104115888476372 | Accuracy: 100.0%\n",
      " | Epoch 4 | Loss: 0.010899268090724945 | Accuracy: 100.0%\n",
      " | Epoch 4 | Loss: 0.007467515766620636 | Accuracy: 100.0%\n",
      " | Epoch 4 | Loss: 0.009050651453435421 | Accuracy: 100.0%\n",
      " | Epoch 4 | Loss: 0.009224245324730873 | Accuracy: 100.0%\n",
      " | Epoch 4 | Loss: 0.008609208278357983 | Accuracy: 100.0%\n",
      " | Epoch 4 | Loss: 0.007444947026669979 | Accuracy: 100.0%\n",
      " | Epoch 4 | Loss: 0.00967765785753727 | Accuracy: 100.0%\n",
      " | Epoch 4 | Loss: 0.23469896614551544 | Accuracy: 96.875%\n",
      " | Epoch 4 | Loss: 0.012333177961409092 | Accuracy: 100.0%\n",
      " | Epoch 4 | Loss: 0.008754543960094452 | Accuracy: 100.0%\n",
      " | Epoch 4 | Loss: 0.010134114883840084 | Accuracy: 100.0%\n",
      " | Epoch 4 | Loss: 0.008312629535794258 | Accuracy: 100.0%\n",
      " | Epoch 4 | Loss: 0.008650468662381172 | Accuracy: 100.0%\n",
      " | Epoch 4 | Loss: 0.008960120379924774 | Accuracy: 100.0%\n",
      " | Epoch 4 | Loss: 0.009141911752521992 | Accuracy: 100.0%\n",
      " | Epoch 4 | Loss: 0.008662556298077106 | Accuracy: 100.0%\n",
      " | Epoch 4 | Loss: 0.009808981791138649 | Accuracy: 100.0%\n",
      " | Epoch 4 | Loss: 0.2261660397052765 | Accuracy: 96.875%\n",
      " | Epoch 4 | Loss: 0.2467254251241684 | Accuracy: 96.875%\n",
      " | Epoch 4 | Loss: 0.008104242384433746 | Accuracy: 100.0%\n",
      " | Epoch 4 | Loss: 0.16853702068328857 | Accuracy: 96.875%\n",
      " | Epoch 4 | Loss: 0.010173897258937359 | Accuracy: 100.0%\n",
      " | Epoch 4 | Loss: 0.008833582513034344 | Accuracy: 100.0%\n",
      " | Epoch 4 | Loss: 0.009912409819662571 | Accuracy: 100.0%\n",
      " | Epoch 4 | Loss: 0.010129248723387718 | Accuracy: 100.0%\n",
      " | Epoch 4 | Loss: 0.3756042718887329 | Accuracy: 93.75%\n",
      " | Epoch 4 | Loss: 0.009131290018558502 | Accuracy: 100.0%\n",
      " | Epoch 4 | Loss: 0.007870908826589584 | Accuracy: 100.0%\n",
      " | Epoch 4 | Loss: 0.00793195329606533 | Accuracy: 100.0%\n",
      " | Epoch 4 | Loss: 0.009254897013306618 | Accuracy: 100.0%\n",
      " | Epoch 4 | Loss: 0.009127096273005009 | Accuracy: 100.0%\n",
      " | Epoch 4 | Loss: 0.18779610097408295 | Accuracy: 96.875%\n",
      " | Epoch 4 | Loss: 0.010296112857758999 | Accuracy: 100.0%\n",
      " | Epoch 4 | Loss: 0.20551328361034393 | Accuracy: 96.875%\n",
      " | Epoch 4 | Loss: 0.010715879499912262 | Accuracy: 100.0%\n",
      " | Epoch 4 | Loss: 0.010675232857465744 | Accuracy: 100.0%\n",
      " | Epoch 4 | Loss: 0.012359905987977982 | Accuracy: 100.0%\n",
      " | Epoch 4 | Loss: 0.01137339323759079 | Accuracy: 100.0%\n",
      " | Epoch 4 | Loss: 0.016057997941970825 | Accuracy: 100.0%\n",
      " | Epoch 4 | Loss: 0.012359005399048328 | Accuracy: 100.0%\n",
      " | Epoch 4 | Loss: 0.18203546106815338 | Accuracy: 96.875%\n",
      " | Epoch 4 | Loss: 0.00956566259264946 | Accuracy: 100.0%\n",
      " | Epoch 4 | Loss: 0.010289795696735382 | Accuracy: 100.0%\n"
     ]
    },
    {
     "name": "stderr",
     "output_type": "stream",
     "text": [
      "Epoch 4:   8%|██▎                         | 123/1501 [00:00<00:04, 285.04batch/s, accuracy=100.0%, loss=0.00778]"
     ]
    },
    {
     "name": "stdout",
     "output_type": "stream",
     "text": [
      " | Epoch 4 | Loss: 0.01284964382648468 | Accuracy: 100.0%\n",
      " | Epoch 4 | Loss: 0.011527982540428638 | Accuracy: 100.0%\n",
      " | Epoch 4 | Loss: 0.01120954193174839 | Accuracy: 100.0%\n",
      " | Epoch 4 | Loss: 0.010235583409667015 | Accuracy: 100.0%\n",
      " | Epoch 4 | Loss: 0.010322455316781998 | Accuracy: 100.0%\n",
      " | Epoch 4 | Loss: 0.012215851806104183 | Accuracy: 100.0%\n",
      " | Epoch 4 | Loss: 0.010829928331077099 | Accuracy: 100.0%\n",
      " | Epoch 4 | Loss: 0.01018624659627676 | Accuracy: 100.0%\n",
      " | Epoch 4 | Loss: 0.19268278777599335 | Accuracy: 96.875%\n",
      " | Epoch 4 | Loss: 0.011321180500090122 | Accuracy: 100.0%\n",
      " | Epoch 4 | Loss: 0.009001348167657852 | Accuracy: 100.0%\n",
      " | Epoch 4 | Loss: 0.007933428511023521 | Accuracy: 100.0%\n",
      " | Epoch 4 | Loss: 0.011203651316463947 | Accuracy: 100.0%\n",
      " | Epoch 4 | Loss: 0.1892111450433731 | Accuracy: 96.875%\n",
      " | Epoch 4 | Loss: 0.007968655787408352 | Accuracy: 100.0%\n",
      " | Epoch 4 | Loss: 0.00971216056495905 | Accuracy: 100.0%\n",
      " | Epoch 4 | Loss: 0.009535352699458599 | Accuracy: 100.0%\n",
      " | Epoch 4 | Loss: 0.008113035932183266 | Accuracy: 100.0%\n",
      " | Epoch 4 | Loss: 0.009569883346557617 | Accuracy: 100.0%\n",
      " | Epoch 4 | Loss: 0.009038963355123997 | Accuracy: 100.0%\n",
      " | Epoch 4 | Loss: 0.007923552766442299 | Accuracy: 100.0%\n",
      " | Epoch 4 | Loss: 0.25632408261299133 | Accuracy: 96.875%\n",
      " | Epoch 4 | Loss: 0.008781972341239452 | Accuracy: 100.0%\n",
      " | Epoch 4 | Loss: 0.008179044350981712 | Accuracy: 100.0%\n",
      " | Epoch 4 | Loss: 0.22093519568443298 | Accuracy: 96.875%\n",
      " | Epoch 4 | Loss: 0.011855595745146275 | Accuracy: 100.0%\n",
      " | Epoch 4 | Loss: 0.009684203192591667 | Accuracy: 100.0%\n",
      " | Epoch 4 | Loss: 0.008130589500069618 | Accuracy: 100.0%\n",
      " | Epoch 4 | Loss: 0.01063195988535881 | Accuracy: 100.0%\n",
      " | Epoch 4 | Loss: 0.011389666236937046 | Accuracy: 100.0%\n",
      " | Epoch 4 | Loss: 0.008752277120947838 | Accuracy: 100.0%\n",
      " | Epoch 4 | Loss: 0.19465838372707367 | Accuracy: 96.875%\n",
      " | Epoch 4 | Loss: 0.008480079472064972 | Accuracy: 100.0%\n",
      " | Epoch 4 | Loss: 0.01083546131849289 | Accuracy: 100.0%\n",
      " | Epoch 4 | Loss: 0.216181680560112 | Accuracy: 96.875%\n",
      " | Epoch 4 | Loss: 0.17467188835144043 | Accuracy: 96.875%\n",
      " | Epoch 4 | Loss: 0.010260134935379028 | Accuracy: 100.0%\n",
      " | Epoch 4 | Loss: 0.009920703247189522 | Accuracy: 100.0%\n",
      " | Epoch 4 | Loss: 0.010396445170044899 | Accuracy: 100.0%\n",
      " | Epoch 4 | Loss: 0.010122358798980713 | Accuracy: 100.0%\n",
      " | Epoch 4 | Loss: 0.009785830974578857 | Accuracy: 100.0%\n",
      " | Epoch 4 | Loss: 0.2272251695394516 | Accuracy: 96.875%\n",
      " | Epoch 4 | Loss: 0.009397760964930058 | Accuracy: 100.0%\n",
      " | Epoch 4 | Loss: 0.015677686780691147 | Accuracy: 100.0%\n",
      " | Epoch 4 | Loss: 0.009311306290328503 | Accuracy: 100.0%\n",
      " | Epoch 4 | Loss: 0.015165305696427822 | Accuracy: 100.0%\n",
      " | Epoch 4 | Loss: 0.009366771206259727 | Accuracy: 100.0%\n",
      " | Epoch 4 | Loss: 0.009064935147762299 | Accuracy: 100.0%\n",
      " | Epoch 4 | Loss: 0.008985979482531548 | Accuracy: 100.0%\n",
      " | Epoch 4 | Loss: 0.009857925586402416 | Accuracy: 100.0%\n",
      " | Epoch 4 | Loss: 0.0082910330966115 | Accuracy: 100.0%\n",
      " | Epoch 4 | Loss: 0.009365278296172619 | Accuracy: 100.0%\n",
      " | Epoch 4 | Loss: 0.008894219063222408 | Accuracy: 100.0%\n",
      " | Epoch 4 | Loss: 0.009851830080151558 | Accuracy: 100.0%\n",
      " | Epoch 4 | Loss: 0.008844872936606407 | Accuracy: 100.0%\n",
      " | Epoch 4 | Loss: 0.009301574900746346 | Accuracy: 100.0%\n",
      " | Epoch 4 | Loss: 0.008699065074324608 | Accuracy: 100.0%\n",
      " | Epoch 4 | Loss: 0.008049873635172844 | Accuracy: 100.0%\n",
      " | Epoch 4 | Loss: 0.008157570846378803 | Accuracy: 100.0%\n",
      " | Epoch 4 | Loss: 0.007554973009973764 | Accuracy: 100.0%\n",
      " | Epoch 4 | Loss: 0.2380417287349701 | Accuracy: 96.875%\n",
      " | Epoch 4 | Loss: 0.008368801325559616 | Accuracy: 100.0%\n",
      " | Epoch 4 | Loss: 0.008435072377324104 | Accuracy: 100.0%\n",
      " | Epoch 4 | Loss: 0.007779044099152088 | Accuracy: 100.0%\n"
     ]
    },
    {
     "name": "stderr",
     "output_type": "stream",
     "text": [
      "Epoch 4:  12%|███▍                        | 186/1501 [00:00<00:04, 281.41batch/s, accuracy=100.0%, loss=0.00686]"
     ]
    },
    {
     "name": "stdout",
     "output_type": "stream",
     "text": [
      " | Epoch 4 | Loss: 0.007109737489372492 | Accuracy: 100.0%\n",
      " | Epoch 4 | Loss: 0.00800365675240755 | Accuracy: 100.0%\n",
      " | Epoch 4 | Loss: 0.008352371864020824 | Accuracy: 100.0%\n",
      " | Epoch 4 | Loss: 0.008072162047028542 | Accuracy: 100.0%\n",
      " | Epoch 4 | Loss: 0.009214802645146847 | Accuracy: 100.0%\n",
      " | Epoch 4 | Loss: 0.25125011801719666 | Accuracy: 96.875%\n",
      " | Epoch 4 | Loss: 0.008115888573229313 | Accuracy: 100.0%\n",
      " | Epoch 4 | Loss: 0.00817083939909935 | Accuracy: 100.0%\n",
      " | Epoch 4 | Loss: 0.006997237913310528 | Accuracy: 100.0%\n",
      " | Epoch 4 | Loss: 0.007551958318799734 | Accuracy: 100.0%\n",
      " | Epoch 4 | Loss: 0.008973833173513412 | Accuracy: 100.0%\n",
      " | Epoch 4 | Loss: 0.007414397317916155 | Accuracy: 100.0%\n",
      " | Epoch 4 | Loss: 0.008424827829003334 | Accuracy: 100.0%\n",
      " | Epoch 4 | Loss: 0.008585009723901749 | Accuracy: 100.0%\n",
      " | Epoch 4 | Loss: 0.00761853251606226 | Accuracy: 100.0%\n",
      " | Epoch 4 | Loss: 0.007360333576798439 | Accuracy: 100.0%\n",
      " | Epoch 4 | Loss: 0.00883635226637125 | Accuracy: 100.0%\n",
      " | Epoch 4 | Loss: 0.0077689215540885925 | Accuracy: 100.0%\n",
      " | Epoch 4 | Loss: 0.00639329431578517 | Accuracy: 100.0%\n",
      " | Epoch 4 | Loss: 0.007311432156711817 | Accuracy: 100.0%\n",
      " | Epoch 4 | Loss: 0.006774478126317263 | Accuracy: 100.0%\n",
      " | Epoch 4 | Loss: 0.008603808470070362 | Accuracy: 100.0%\n",
      " | Epoch 4 | Loss: 0.006647523958235979 | Accuracy: 100.0%\n",
      " | Epoch 4 | Loss: 0.007490701042115688 | Accuracy: 100.0%\n",
      " | Epoch 4 | Loss: 0.008169824257493019 | Accuracy: 100.0%\n",
      " | Epoch 4 | Loss: 0.009943390265107155 | Accuracy: 100.0%\n",
      " | Epoch 4 | Loss: 0.006951720919460058 | Accuracy: 100.0%\n",
      " | Epoch 4 | Loss: 0.006785114295780659 | Accuracy: 100.0%\n",
      " | Epoch 4 | Loss: 0.009968885220587254 | Accuracy: 100.0%\n",
      " | Epoch 4 | Loss: 0.24458527565002441 | Accuracy: 96.875%\n",
      " | Epoch 4 | Loss: 0.0065307109616696835 | Accuracy: 100.0%\n",
      " | Epoch 4 | Loss: 0.006888165138661861 | Accuracy: 100.0%\n",
      " | Epoch 4 | Loss: 0.21318840980529785 | Accuracy: 96.875%\n",
      " | Epoch 4 | Loss: 0.006644283886998892 | Accuracy: 100.0%\n",
      " | Epoch 4 | Loss: 0.008375227451324463 | Accuracy: 100.0%\n",
      " | Epoch 4 | Loss: 0.00666436180472374 | Accuracy: 100.0%\n",
      " | Epoch 4 | Loss: 0.007731402292847633 | Accuracy: 100.0%\n",
      " | Epoch 4 | Loss: 0.007007308769971132 | Accuracy: 100.0%\n",
      " | Epoch 4 | Loss: 0.2493378072977066 | Accuracy: 96.875%\n",
      " | Epoch 4 | Loss: 0.006277103442698717 | Accuracy: 100.0%\n",
      " | Epoch 4 | Loss: 0.22184059023857117 | Accuracy: 96.875%\n",
      " | Epoch 4 | Loss: 0.007137295324355364 | Accuracy: 100.0%\n",
      " | Epoch 4 | Loss: 0.007962491363286972 | Accuracy: 100.0%\n",
      " | Epoch 4 | Loss: 0.009880444034934044 | Accuracy: 100.0%\n",
      " | Epoch 4 | Loss: 0.007011034060269594 | Accuracy: 100.0%\n",
      " | Epoch 4 | Loss: 0.006324384827166796 | Accuracy: 100.0%\n",
      " | Epoch 4 | Loss: 0.009090714156627655 | Accuracy: 100.0%\n",
      " | Epoch 4 | Loss: 0.0065325479954481125 | Accuracy: 100.0%\n",
      " | Epoch 4 | Loss: 0.19796262681484222 | Accuracy: 96.875%\n",
      " | Epoch 4 | Loss: 0.006216476205736399 | Accuracy: 100.0%\n",
      " | Epoch 4 | Loss: 0.007334842812269926 | Accuracy: 100.0%\n",
      " | Epoch 4 | Loss: 0.006654078606516123 | Accuracy: 100.0%\n",
      " | Epoch 4 | Loss: 0.2229566127061844 | Accuracy: 96.875%\n",
      " | Epoch 4 | Loss: 0.2110302597284317 | Accuracy: 96.875%\n"
     ]
    },
    {
     "name": "stderr",
     "output_type": "stream",
     "text": [
      "Epoch 4:  19%|█████▌                       | 285/1501 [00:00<00:03, 397.19batch/s, accuracy=100.0%, loss=0.0113]"
     ]
    },
    {
     "name": "stdout",
     "output_type": "stream",
     "text": [
      " | Epoch 4 | Loss: 0.006858404725790024 | Accuracy: 100.0%\n",
      " | Epoch 4 | Loss: 0.00803274568170309 | Accuracy: 100.0%\n",
      " | Epoch 4 | Loss: 0.007252172101289034 | Accuracy: 100.0%\n",
      " | Epoch 4 | Loss: 0.007425164803862572 | Accuracy: 100.0%\n",
      " | Epoch 4 | Loss: 0.009985567070543766 | Accuracy: 100.0%\n",
      " | Epoch 4 | Loss: 0.006347011309117079 | Accuracy: 100.0%\n",
      " | Epoch 4 | Loss: 0.008214778266847134 | Accuracy: 100.0%\n",
      " | Epoch 4 | Loss: 0.008067343384027481 | Accuracy: 100.0%\n",
      " | Epoch 4 | Loss: 0.007843369618058205 | Accuracy: 100.0%\n",
      " | Epoch 4 | Loss: 0.00891595333814621 | Accuracy: 100.0%\n",
      " | Epoch 4 | Loss: 0.007985842414200306 | Accuracy: 100.0%\n",
      " | Epoch 4 | Loss: 0.21562574803829193 | Accuracy: 96.875%\n",
      " | Epoch 4 | Loss: 0.008198780938982964 | Accuracy: 100.0%\n",
      " | Epoch 4 | Loss: 0.008378908038139343 | Accuracy: 100.0%\n",
      " | Epoch 4 | Loss: 0.007652437314391136 | Accuracy: 100.0%\n",
      " | Epoch 4 | Loss: 0.007947608828544617 | Accuracy: 100.0%\n",
      " | Epoch 4 | Loss: 0.008152483031153679 | Accuracy: 100.0%\n",
      " | Epoch 4 | Loss: 0.008776881732046604 | Accuracy: 100.0%\n",
      " | Epoch 4 | Loss: 0.008824780583381653 | Accuracy: 100.0%\n",
      " | Epoch 4 | Loss: 0.008745633065700531 | Accuracy: 100.0%\n",
      " | Epoch 4 | Loss: 0.007208438590168953 | Accuracy: 100.0%\n",
      " | Epoch 4 | Loss: 0.007437924854457378 | Accuracy: 100.0%\n",
      " | Epoch 4 | Loss: 0.007835758849978447 | Accuracy: 100.0%\n",
      " | Epoch 4 | Loss: 0.007857232354581356 | Accuracy: 100.0%\n",
      " | Epoch 4 | Loss: 0.006555825471878052 | Accuracy: 100.0%\n",
      " | Epoch 4 | Loss: 0.009601556695997715 | Accuracy: 100.0%\n",
      " | Epoch 4 | Loss: 0.00796873401850462 | Accuracy: 100.0%\n",
      " | Epoch 4 | Loss: 0.17259790003299713 | Accuracy: 96.875%\n",
      " | Epoch 4 | Loss: 0.007043355610221624 | Accuracy: 100.0%\n",
      " | Epoch 4 | Loss: 0.008397973142564297 | Accuracy: 100.0%\n",
      " | Epoch 4 | Loss: 0.007403792813420296 | Accuracy: 100.0%\n",
      " | Epoch 4 | Loss: 0.006718147080391645 | Accuracy: 100.0%\n",
      " | Epoch 4 | Loss: 0.008723340928554535 | Accuracy: 100.0%\n",
      " | Epoch 4 | Loss: 0.2462306171655655 | Accuracy: 96.875%\n",
      " | Epoch 4 | Loss: 0.007097398396581411 | Accuracy: 100.0%\n",
      " | Epoch 4 | Loss: 0.007823824882507324 | Accuracy: 100.0%\n",
      " | Epoch 4 | Loss: 0.00661427853628993 | Accuracy: 100.0%\n",
      " | Epoch 4 | Loss: 0.0091470405459404 | Accuracy: 100.0%\n",
      " | Epoch 4 | Loss: 0.006902709603309631 | Accuracy: 100.0%\n",
      " | Epoch 4 | Loss: 0.00833093374967575 | Accuracy: 100.0%\n",
      " | Epoch 4 | Loss: 0.006415880750864744 | Accuracy: 100.0%\n",
      " | Epoch 4 | Loss: 0.006799343042075634 | Accuracy: 100.0%\n",
      " | Epoch 4 | Loss: 0.008434108458459377 | Accuracy: 100.0%\n",
      " | Epoch 4 | Loss: 0.007231793366372585 | Accuracy: 100.0%\n",
      " | Epoch 4 | Loss: 0.0065229106694459915 | Accuracy: 100.0%\n",
      " | Epoch 4 | Loss: 0.00716198468580842 | Accuracy: 100.0%\n",
      " | Epoch 4 | Loss: 0.006767923478037119 | Accuracy: 100.0%\n",
      " | Epoch 4 | Loss: 0.006979331374168396 | Accuracy: 100.0%\n",
      " | Epoch 4 | Loss: 0.0063471719622612 | Accuracy: 100.0%\n",
      " | Epoch 4 | Loss: 0.006754818372428417 | Accuracy: 100.0%\n",
      " | Epoch 4 | Loss: 0.23607125878334045 | Accuracy: 96.875%\n",
      " | Epoch 4 | Loss: 0.007381213828921318 | Accuracy: 100.0%\n",
      " | Epoch 4 | Loss: 0.4007401466369629 | Accuracy: 93.75%\n",
      " | Epoch 4 | Loss: 0.007107489742338657 | Accuracy: 100.0%\n",
      " | Epoch 4 | Loss: 0.007164373062551022 | Accuracy: 100.0%\n",
      " | Epoch 4 | Loss: 0.195831298828125 | Accuracy: 96.875%\n",
      " | Epoch 4 | Loss: 0.006871986668556929 | Accuracy: 100.0%\n",
      " | Epoch 4 | Loss: 0.008419496938586235 | Accuracy: 100.0%\n",
      " | Epoch 4 | Loss: 0.007121746428310871 | Accuracy: 100.0%\n",
      " | Epoch 4 | Loss: 0.007311385124921799 | Accuracy: 100.0%\n",
      " | Epoch 4 | Loss: 0.0078023397363722324 | Accuracy: 100.0%\n",
      " | Epoch 4 | Loss: 0.007888919673860073 | Accuracy: 100.0%\n",
      " | Epoch 4 | Loss: 0.006618381477892399 | Accuracy: 100.0%\n",
      " | Epoch 4 | Loss: 0.0073598772287368774 | Accuracy: 100.0%\n",
      " | Epoch 4 | Loss: 0.008527184836566448 | Accuracy: 100.0%\n",
      " | Epoch 4 | Loss: 0.00885726884007454 | Accuracy: 100.0%\n",
      " | Epoch 4 | Loss: 0.4999278783798218 | Accuracy: 93.75%\n",
      " | Epoch 4 | Loss: 0.007071636617183685 | Accuracy: 100.0%\n",
      " | Epoch 4 | Loss: 0.00644642673432827 | Accuracy: 100.0%\n",
      " | Epoch 4 | Loss: 0.009039092808961868 | Accuracy: 100.0%\n",
      " | Epoch 4 | Loss: 0.008066738955676556 | Accuracy: 100.0%\n",
      " | Epoch 4 | Loss: 0.008398225530982018 | Accuracy: 100.0%\n",
      " | Epoch 4 | Loss: 0.008391236886382103 | Accuracy: 100.0%\n",
      " | Epoch 4 | Loss: 0.00837390124797821 | Accuracy: 100.0%\n",
      " | Epoch 4 | Loss: 0.1989320069551468 | Accuracy: 96.875%\n",
      " | Epoch 4 | Loss: 0.008386412635445595 | Accuracy: 100.0%\n",
      " | Epoch 4 | Loss: 0.2124881148338318 | Accuracy: 96.875%\n",
      " | Epoch 4 | Loss: 0.0076559060253202915 | Accuracy: 100.0%\n",
      " | Epoch 4 | Loss: 0.2495938390493393 | Accuracy: 96.875%\n",
      " | Epoch 4 | Loss: 0.00891468022018671 | Accuracy: 100.0%\n",
      " | Epoch 4 | Loss: 0.009144572541117668 | Accuracy: 100.0%\n",
      " | Epoch 4 | Loss: 0.19127219915390015 | Accuracy: 96.875%\n",
      " | Epoch 4 | Loss: 0.41416528820991516 | Accuracy: 93.75%\n",
      " | Epoch 4 | Loss: 0.00787979643791914 | Accuracy: 100.0%\n",
      " | Epoch 4 | Loss: 0.007845818065106869 | Accuracy: 100.0%\n",
      " | Epoch 4 | Loss: 0.007067680358886719 | Accuracy: 100.0%\n",
      " | Epoch 4 | Loss: 0.008190612308681011 | Accuracy: 100.0%\n",
      " | Epoch 4 | Loss: 0.00805236492305994 | Accuracy: 100.0%\n",
      " | Epoch 4 | Loss: 0.008717156015336514 | Accuracy: 100.0%\n",
      " | Epoch 4 | Loss: 0.011579464189708233 | Accuracy: 100.0%\n",
      " | Epoch 4 | Loss: 0.011178478598594666 | Accuracy: 100.0%\n",
      " | Epoch 4 | Loss: 0.3481188118457794 | Accuracy: 93.75%\n",
      " | Epoch 4 | Loss: 0.010435879230499268 | Accuracy: 100.0%\n",
      " | Epoch 4 | Loss: 0.19848178327083588 | Accuracy: 96.875%\n",
      " | Epoch 4 | Loss: 0.01027078740298748 | Accuracy: 100.0%\n",
      " | Epoch 4 | Loss: 0.00944244023412466 | Accuracy: 100.0%\n",
      " | Epoch 4 | Loss: 0.009158127009868622 | Accuracy: 100.0%\n",
      " | Epoch 4 | Loss: 0.010273215360939503 | Accuracy: 100.0%\n",
      " | Epoch 4 | Loss: 0.011123038828372955 | Accuracy: 100.0%\n",
      " | Epoch 4 | Loss: 0.010911679826676846 | Accuracy: 100.0%\n",
      " | Epoch 4 | Loss: 0.009127221070230007 | Accuracy: 100.0%\n",
      " | Epoch 4 | Loss: 0.01020375732332468 | Accuracy: 100.0%\n",
      " | Epoch 4 | Loss: 0.1785493791103363 | Accuracy: 96.875%\n",
      " | Epoch 4 | Loss: 0.012982375919818878 | Accuracy: 100.0%\n",
      " | Epoch 4 | Loss: 0.00957354623824358 | Accuracy: 100.0%\n",
      " | Epoch 4 | Loss: 0.011493821628391743 | Accuracy: 100.0%\n",
      " | Epoch 4 | Loss: 0.011270868591964245 | Accuracy: 100.0%\n"
     ]
    },
    {
     "name": "stderr",
     "output_type": "stream",
     "text": [
      "Epoch 4:  23%|██████▋                      | 346/1501 [00:01<00:02, 459.28batch/s, accuracy=100.0%, loss=0.0078]"
     ]
    },
    {
     "name": "stdout",
     "output_type": "stream",
     "text": [
      " | Epoch 4 | Loss: 0.01053196843713522 | Accuracy: 100.0%\n",
      " | Epoch 4 | Loss: 0.010571074672043324 | Accuracy: 100.0%\n",
      " | Epoch 4 | Loss: 0.010272465646266937 | Accuracy: 100.0%\n",
      " | Epoch 4 | Loss: 0.009361447766423225 | Accuracy: 100.0%\n",
      " | Epoch 4 | Loss: 0.010020257905125618 | Accuracy: 100.0%\n",
      " | Epoch 4 | Loss: 0.01166105642914772 | Accuracy: 100.0%\n",
      " | Epoch 4 | Loss: 0.008582188747823238 | Accuracy: 100.0%\n",
      " | Epoch 4 | Loss: 0.009789098054170609 | Accuracy: 100.0%\n",
      " | Epoch 4 | Loss: 0.010368109680712223 | Accuracy: 100.0%\n",
      " | Epoch 4 | Loss: 0.010219601914286613 | Accuracy: 100.0%\n",
      " | Epoch 4 | Loss: 0.008507861755788326 | Accuracy: 100.0%\n",
      " | Epoch 4 | Loss: 0.010821384377777576 | Accuracy: 100.0%\n",
      " | Epoch 4 | Loss: 0.20887374877929688 | Accuracy: 96.875%\n",
      " | Epoch 4 | Loss: 0.009598595090210438 | Accuracy: 100.0%\n",
      " | Epoch 4 | Loss: 0.008731047622859478 | Accuracy: 100.0%\n",
      " | Epoch 4 | Loss: 0.009032880887389183 | Accuracy: 100.0%\n",
      " | Epoch 4 | Loss: 0.010054555721580982 | Accuracy: 100.0%\n",
      " | Epoch 4 | Loss: 0.01009149756282568 | Accuracy: 100.0%\n",
      " | Epoch 4 | Loss: 0.007772550918161869 | Accuracy: 100.0%\n",
      " | Epoch 4 | Loss: 0.007564796134829521 | Accuracy: 100.0%\n",
      " | Epoch 4 | Loss: 0.18049567937850952 | Accuracy: 96.875%\n",
      " | Epoch 4 | Loss: 0.007967608980834484 | Accuracy: 100.0%\n",
      " | Epoch 4 | Loss: 0.007162555120885372 | Accuracy: 100.0%\n",
      " | Epoch 4 | Loss: 0.009225327521562576 | Accuracy: 100.0%\n",
      " | Epoch 4 | Loss: 0.010122977197170258 | Accuracy: 100.0%\n",
      " | Epoch 4 | Loss: 0.008955405093729496 | Accuracy: 100.0%\n",
      " | Epoch 4 | Loss: 0.009261234663426876 | Accuracy: 100.0%\n",
      " | Epoch 4 | Loss: 0.009792784228920937 | Accuracy: 100.0%\n",
      " | Epoch 4 | Loss: 0.011512375436723232 | Accuracy: 100.0%\n",
      " | Epoch 4 | Loss: 0.007979471236467361 | Accuracy: 100.0%\n",
      " | Epoch 4 | Loss: 0.00855663139373064 | Accuracy: 100.0%\n",
      " | Epoch 4 | Loss: 0.19806979596614838 | Accuracy: 96.875%\n",
      " | Epoch 4 | Loss: 0.008326983079314232 | Accuracy: 100.0%\n",
      " | Epoch 4 | Loss: 0.007463918533176184 | Accuracy: 100.0%\n",
      " | Epoch 4 | Loss: 0.007877793163061142 | Accuracy: 100.0%\n",
      " | Epoch 4 | Loss: 0.008134759031236172 | Accuracy: 100.0%\n",
      " | Epoch 4 | Loss: 0.26073020696640015 | Accuracy: 96.875%\n",
      " | Epoch 4 | Loss: 0.24031369388103485 | Accuracy: 96.875%\n",
      " | Epoch 4 | Loss: 0.00804770179092884 | Accuracy: 100.0%\n",
      " | Epoch 4 | Loss: 0.008342315442860126 | Accuracy: 100.0%\n",
      " | Epoch 4 | Loss: 0.006217717193067074 | Accuracy: 100.0%\n",
      " | Epoch 4 | Loss: 0.0075091165490448475 | Accuracy: 100.0%\n",
      " | Epoch 4 | Loss: 0.008107855916023254 | Accuracy: 100.0%\n",
      " | Epoch 4 | Loss: 0.008805477991700172 | Accuracy: 100.0%\n",
      " | Epoch 4 | Loss: 0.006349729839712381 | Accuracy: 100.0%\n",
      " | Epoch 4 | Loss: 0.008629515767097473 | Accuracy: 100.0%\n",
      " | Epoch 4 | Loss: 0.006709916051477194 | Accuracy: 100.0%\n",
      " | Epoch 4 | Loss: 0.23527149856090546 | Accuracy: 96.875%\n",
      " | Epoch 4 | Loss: 0.006971953436732292 | Accuracy: 100.0%\n",
      " | Epoch 4 | Loss: 0.010121339000761509 | Accuracy: 100.0%\n",
      " | Epoch 4 | Loss: 0.007196174003183842 | Accuracy: 100.0%\n",
      " | Epoch 4 | Loss: 0.008124018087983131 | Accuracy: 100.0%\n",
      " | Epoch 4 | Loss: 0.007741166744381189 | Accuracy: 100.0%\n",
      " | Epoch 4 | Loss: 0.20344698429107666 | Accuracy: 96.875%\n",
      " | Epoch 4 | Loss: 0.007805808912962675 | Accuracy: 100.0%\n",
      " | Epoch 4 | Loss: 0.007913309149444103 | Accuracy: 100.0%\n",
      " | Epoch 4 | Loss: 0.23459352552890778 | Accuracy: 96.875%\n",
      " | Epoch 4 | Loss: 0.00770574202761054 | Accuracy: 100.0%\n",
      " | Epoch 4 | Loss: 0.00781818013638258 | Accuracy: 100.0%\n",
      " | Epoch 4 | Loss: 0.007588681299239397 | Accuracy: 100.0%\n",
      " | Epoch 4 | Loss: 0.007183372974395752 | Accuracy: 100.0%\n",
      " | Epoch 4 | Loss: 0.19760556519031525 | Accuracy: 96.875%\n",
      " | Epoch 4 | Loss: 0.007247717119753361 | Accuracy: 100.0%\n",
      " | Epoch 4 | Loss: 0.00869753211736679 | Accuracy: 100.0%\n",
      " | Epoch 4 | Loss: 0.007911254651844501 | Accuracy: 100.0%\n",
      " | Epoch 4 | Loss: 0.007974031381309032 | Accuracy: 100.0%\n",
      " | Epoch 4 | Loss: 0.009804660454392433 | Accuracy: 100.0%\n",
      " | Epoch 4 | Loss: 0.008350455202162266 | Accuracy: 100.0%\n",
      " | Epoch 4 | Loss: 0.008529987186193466 | Accuracy: 100.0%\n",
      " | Epoch 4 | Loss: 0.00880718044936657 | Accuracy: 100.0%\n",
      " | Epoch 4 | Loss: 0.00788925401866436 | Accuracy: 100.0%\n",
      " | Epoch 4 | Loss: 0.008176568895578384 | Accuracy: 100.0%\n",
      " | Epoch 4 | Loss: 0.008593497797846794 | Accuracy: 100.0%\n",
      " | Epoch 4 | Loss: 0.007774222642183304 | Accuracy: 100.0%\n",
      " | Epoch 4 | Loss: 0.24935384094715118 | Accuracy: 96.875%\n",
      " | Epoch 4 | Loss: 0.007799144368618727 | Accuracy: 100.0%\n"
     ]
    },
    {
     "name": "stderr",
     "output_type": "stream",
     "text": [
      "Epoch 4:  29%|████████▏                   | 436/1501 [00:01<00:02, 385.78batch/s, accuracy=100.0%, loss=0.00854]"
     ]
    },
    {
     "name": "stdout",
     "output_type": "stream",
     "text": [
      " | Epoch 4 | Loss: 0.008900992572307587 | Accuracy: 100.0%\n",
      " | Epoch 4 | Loss: 0.0068973517045378685 | Accuracy: 100.0%\n",
      " | Epoch 4 | Loss: 0.007743302267044783 | Accuracy: 100.0%\n",
      " | Epoch 4 | Loss: 0.0078054568730294704 | Accuracy: 100.0%\n",
      " | Epoch 4 | Loss: 0.007390099111944437 | Accuracy: 100.0%\n",
      " | Epoch 4 | Loss: 0.008347401395440102 | Accuracy: 100.0%\n",
      " | Epoch 4 | Loss: 0.15827293694019318 | Accuracy: 96.875%\n",
      " | Epoch 4 | Loss: 0.007403022143989801 | Accuracy: 100.0%\n",
      " | Epoch 4 | Loss: 0.010405715554952621 | Accuracy: 100.0%\n",
      " | Epoch 4 | Loss: 0.007156969979405403 | Accuracy: 100.0%\n",
      " | Epoch 4 | Loss: 0.007975749671459198 | Accuracy: 100.0%\n",
      " | Epoch 4 | Loss: 0.007382139563560486 | Accuracy: 100.0%\n",
      " | Epoch 4 | Loss: 0.007006914354860783 | Accuracy: 100.0%\n",
      " | Epoch 4 | Loss: 0.01014621276408434 | Accuracy: 100.0%\n",
      " | Epoch 4 | Loss: 0.010048054158687592 | Accuracy: 100.0%\n",
      " | Epoch 4 | Loss: 0.007385095115751028 | Accuracy: 100.0%\n",
      " | Epoch 4 | Loss: 0.008196242153644562 | Accuracy: 100.0%\n",
      " | Epoch 4 | Loss: 0.007680831477046013 | Accuracy: 100.0%\n",
      " | Epoch 4 | Loss: 0.007115672342479229 | Accuracy: 100.0%\n",
      " | Epoch 4 | Loss: 0.009306730702519417 | Accuracy: 100.0%\n",
      " | Epoch 4 | Loss: 0.38536426424980164 | Accuracy: 93.75%\n",
      " | Epoch 4 | Loss: 0.007632854860275984 | Accuracy: 100.0%\n",
      " | Epoch 4 | Loss: 0.008070133626461029 | Accuracy: 100.0%\n",
      " | Epoch 4 | Loss: 0.007926500402390957 | Accuracy: 100.0%\n",
      " | Epoch 4 | Loss: 0.0065604085102677345 | Accuracy: 100.0%\n",
      " | Epoch 4 | Loss: 0.007134116254746914 | Accuracy: 100.0%\n",
      " | Epoch 4 | Loss: 0.008310419507324696 | Accuracy: 100.0%\n",
      " | Epoch 4 | Loss: 0.00864083506166935 | Accuracy: 100.0%\n",
      " | Epoch 4 | Loss: 0.19414012134075165 | Accuracy: 96.875%\n",
      " | Epoch 4 | Loss: 0.008560119196772575 | Accuracy: 100.0%\n",
      " | Epoch 4 | Loss: 0.010046673007309437 | Accuracy: 100.0%\n",
      " | Epoch 4 | Loss: 0.007299735676497221 | Accuracy: 100.0%\n",
      " | Epoch 4 | Loss: 0.008793066255748272 | Accuracy: 100.0%\n",
      " | Epoch 4 | Loss: 0.007404021453112364 | Accuracy: 100.0%\n",
      " | Epoch 4 | Loss: 0.008098474703729153 | Accuracy: 100.0%\n",
      " | Epoch 4 | Loss: 0.00926732737571001 | Accuracy: 100.0%\n",
      " | Epoch 4 | Loss: 0.007695813663303852 | Accuracy: 100.0%\n",
      " | Epoch 4 | Loss: 0.2480267882347107 | Accuracy: 96.875%\n",
      " | Epoch 4 | Loss: 0.009329340420663357 | Accuracy: 100.0%\n",
      " | Epoch 4 | Loss: 0.22256647050380707 | Accuracy: 96.875%\n",
      " | Epoch 4 | Loss: 0.009833189658820629 | Accuracy: 100.0%\n",
      " | Epoch 4 | Loss: 0.007045140024274588 | Accuracy: 100.0%\n",
      " | Epoch 4 | Loss: 0.007794156204909086 | Accuracy: 100.0%\n",
      " | Epoch 4 | Loss: 0.006875117775052786 | Accuracy: 100.0%\n",
      " | Epoch 4 | Loss: 0.008295031264424324 | Accuracy: 100.0%\n",
      " | Epoch 4 | Loss: 0.007668590173125267 | Accuracy: 100.0%\n",
      " | Epoch 4 | Loss: 0.00939075369387865 | Accuracy: 100.0%\n",
      " | Epoch 4 | Loss: 0.007568001747131348 | Accuracy: 100.0%\n",
      " | Epoch 4 | Loss: 0.008174177259206772 | Accuracy: 100.0%\n",
      " | Epoch 4 | Loss: 0.007865646854043007 | Accuracy: 100.0%\n",
      " | Epoch 4 | Loss: 0.43541938066482544 | Accuracy: 93.75%\n",
      " | Epoch 4 | Loss: 0.008365646935999393 | Accuracy: 100.0%\n",
      " | Epoch 4 | Loss: 0.007781391963362694 | Accuracy: 100.0%\n",
      " | Epoch 4 | Loss: 0.007999378256499767 | Accuracy: 100.0%\n",
      " | Epoch 4 | Loss: 0.007947465404868126 | Accuracy: 100.0%\n",
      " | Epoch 4 | Loss: 0.0073244101367890835 | Accuracy: 100.0%\n",
      " | Epoch 4 | Loss: 0.008312645368278027 | Accuracy: 100.0%\n",
      " | Epoch 4 | Loss: 0.008873929269611835 | Accuracy: 100.0%\n",
      " | Epoch 4 | Loss: 0.008064672350883484 | Accuracy: 100.0%\n",
      " | Epoch 4 | Loss: 0.22895856201648712 | Accuracy: 96.875%\n",
      " | Epoch 4 | Loss: 0.008549554273486137 | Accuracy: 100.0%\n",
      " | Epoch 4 | Loss: 0.007301586214452982 | Accuracy: 100.0%\n",
      " | Epoch 4 | Loss: 0.006640619598329067 | Accuracy: 100.0%\n",
      " | Epoch 4 | Loss: 0.007467128336429596 | Accuracy: 100.0%\n",
      " | Epoch 4 | Loss: 0.0072001381777226925 | Accuracy: 100.0%\n",
      " | Epoch 4 | Loss: 0.010864381678402424 | Accuracy: 100.0%\n",
      " | Epoch 4 | Loss: 0.008075619116425514 | Accuracy: 100.0%\n",
      " | Epoch 4 | Loss: 0.006621366832405329 | Accuracy: 100.0%\n",
      " | Epoch 4 | Loss: 0.007599540054798126 | Accuracy: 100.0%\n",
      " | Epoch 4 | Loss: 0.008137574419379234 | Accuracy: 100.0%\n",
      " | Epoch 4 | Loss: 0.19061656296253204 | Accuracy: 96.875%\n",
      " | Epoch 4 | Loss: 0.006873840931802988 | Accuracy: 100.0%\n",
      " | Epoch 4 | Loss: 0.006838052999228239 | Accuracy: 100.0%\n",
      " | Epoch 4 | Loss: 0.1923484057188034 | Accuracy: 96.875%\n",
      " | Epoch 4 | Loss: 0.006576500833034515 | Accuracy: 100.0%\n",
      " | Epoch 4 | Loss: 0.008143721148371696 | Accuracy: 100.0%\n",
      " | Epoch 4 | Loss: 0.008352118544280529 | Accuracy: 100.0%\n",
      " | Epoch 4 | Loss: 0.006733314134180546 | Accuracy: 100.0%\n",
      " | Epoch 4 | Loss: 0.0074108368717134 | Accuracy: 100.0%\n",
      " | Epoch 4 | Loss: 0.00853950809687376 | Accuracy: 100.0%\n"
     ]
    },
    {
     "name": "stderr",
     "output_type": "stream",
     "text": [
      "Epoch 4:  35%|█████████▋                  | 522/1501 [00:01<00:02, 364.69batch/s, accuracy=100.0%, loss=0.00618]"
     ]
    },
    {
     "name": "stdout",
     "output_type": "stream",
     "text": [
      " | Epoch 4 | Loss: 0.006105351261794567 | Accuracy: 100.0%\n",
      " | Epoch 4 | Loss: 0.008580331690609455 | Accuracy: 100.0%\n",
      " | Epoch 4 | Loss: 0.008255502209067345 | Accuracy: 100.0%\n",
      " | Epoch 4 | Loss: 0.00616793055087328 | Accuracy: 100.0%\n",
      " | Epoch 4 | Loss: 0.009158081375062466 | Accuracy: 100.0%\n",
      " | Epoch 4 | Loss: 0.009429463185369968 | Accuracy: 100.0%\n",
      " | Epoch 4 | Loss: 0.009235706180334091 | Accuracy: 100.0%\n",
      " | Epoch 4 | Loss: 0.0070608267560601234 | Accuracy: 100.0%\n",
      " | Epoch 4 | Loss: 0.00644855760037899 | Accuracy: 100.0%\n",
      " | Epoch 4 | Loss: 0.008309311233460903 | Accuracy: 100.0%\n",
      " | Epoch 4 | Loss: 0.0080622099339962 | Accuracy: 100.0%\n",
      " | Epoch 4 | Loss: 0.007899528369307518 | Accuracy: 100.0%\n",
      " | Epoch 4 | Loss: 0.007185901515185833 | Accuracy: 100.0%\n",
      " | Epoch 4 | Loss: 0.007645906414836645 | Accuracy: 100.0%\n",
      " | Epoch 4 | Loss: 0.21888573467731476 | Accuracy: 96.875%\n",
      " | Epoch 4 | Loss: 0.23112156987190247 | Accuracy: 96.875%\n",
      " | Epoch 4 | Loss: 0.007670308463275433 | Accuracy: 100.0%\n",
      " | Epoch 4 | Loss: 0.2568574547767639 | Accuracy: 96.875%\n",
      " | Epoch 4 | Loss: 0.00799993984401226 | Accuracy: 100.0%\n",
      " | Epoch 4 | Loss: 0.2161792367696762 | Accuracy: 96.875%\n",
      " | Epoch 4 | Loss: 0.007198323030024767 | Accuracy: 100.0%\n",
      " | Epoch 4 | Loss: 0.006353738717734814 | Accuracy: 100.0%\n",
      " | Epoch 4 | Loss: 0.0070708380080759525 | Accuracy: 100.0%\n",
      " | Epoch 4 | Loss: 0.006963253486901522 | Accuracy: 100.0%\n",
      " | Epoch 4 | Loss: 0.00727406470105052 | Accuracy: 100.0%\n",
      " | Epoch 4 | Loss: 0.00764700211584568 | Accuracy: 100.0%\n",
      " | Epoch 4 | Loss: 0.008218664675951004 | Accuracy: 100.0%\n",
      " | Epoch 4 | Loss: 0.010300327092409134 | Accuracy: 100.0%\n",
      " | Epoch 4 | Loss: 0.006940921768546104 | Accuracy: 100.0%\n",
      " | Epoch 4 | Loss: 0.2042228728532791 | Accuracy: 96.875%\n",
      " | Epoch 4 | Loss: 0.006812635809183121 | Accuracy: 100.0%\n",
      " | Epoch 4 | Loss: 0.008472929708659649 | Accuracy: 100.0%\n",
      " | Epoch 4 | Loss: 0.00849220808595419 | Accuracy: 100.0%\n",
      " | Epoch 4 | Loss: 0.007276910822838545 | Accuracy: 100.0%\n",
      " | Epoch 4 | Loss: 0.0074701206758618355 | Accuracy: 100.0%\n",
      " | Epoch 4 | Loss: 0.009846788831055164 | Accuracy: 100.0%\n",
      " | Epoch 4 | Loss: 0.008068788796663284 | Accuracy: 100.0%\n",
      " | Epoch 4 | Loss: 0.009021683596074581 | Accuracy: 100.0%\n",
      " | Epoch 4 | Loss: 0.00881427526473999 | Accuracy: 100.0%\n",
      " | Epoch 4 | Loss: 0.009318986907601357 | Accuracy: 100.0%\n",
      " | Epoch 4 | Loss: 0.0072469934821128845 | Accuracy: 100.0%\n",
      " | Epoch 4 | Loss: 0.008154340088367462 | Accuracy: 100.0%\n",
      " | Epoch 4 | Loss: 0.0075944955460727215 | Accuracy: 100.0%\n",
      " | Epoch 4 | Loss: 0.18922927975654602 | Accuracy: 96.875%\n",
      " | Epoch 4 | Loss: 0.007726768497377634 | Accuracy: 100.0%\n",
      " | Epoch 4 | Loss: 0.007132282014936209 | Accuracy: 100.0%\n",
      " | Epoch 4 | Loss: 0.01378477644175291 | Accuracy: 100.0%\n",
      " | Epoch 4 | Loss: 0.0072285630740225315 | Accuracy: 100.0%\n",
      " | Epoch 4 | Loss: 0.006224670447409153 | Accuracy: 100.0%\n",
      " | Epoch 4 | Loss: 0.0077238306403160095 | Accuracy: 100.0%\n",
      " | Epoch 4 | Loss: 0.007857438176870346 | Accuracy: 100.0%\n",
      " | Epoch 4 | Loss: 0.007606377359479666 | Accuracy: 100.0%\n",
      " | Epoch 4 | Loss: 0.007845170795917511 | Accuracy: 100.0%\n",
      " | Epoch 4 | Loss: 0.006638295482844114 | Accuracy: 100.0%\n",
      " | Epoch 4 | Loss: 0.00660069240257144 | Accuracy: 100.0%\n",
      " | Epoch 4 | Loss: 0.0071741254068911076 | Accuracy: 100.0%\n",
      " | Epoch 4 | Loss: 0.006522870622575283 | Accuracy: 100.0%\n",
      " | Epoch 4 | Loss: 0.006815713830292225 | Accuracy: 100.0%\n",
      " | Epoch 4 | Loss: 0.006942433770745993 | Accuracy: 100.0%\n",
      " | Epoch 4 | Loss: 0.007973343133926392 | Accuracy: 100.0%\n",
      " | Epoch 4 | Loss: 0.006572303362190723 | Accuracy: 100.0%\n",
      " | Epoch 4 | Loss: 0.0054891230538487434 | Accuracy: 100.0%\n",
      " | Epoch 4 | Loss: 0.006823469884693623 | Accuracy: 100.0%\n",
      " | Epoch 4 | Loss: 0.006914216093719006 | Accuracy: 100.0%\n",
      " | Epoch 4 | Loss: 0.007199358195066452 | Accuracy: 100.0%\n",
      " | Epoch 4 | Loss: 0.006504660472273827 | Accuracy: 100.0%\n",
      " | Epoch 4 | Loss: 0.006180461961776018 | Accuracy: 100.0%\n"
     ]
    },
    {
     "name": "stderr",
     "output_type": "stream",
     "text": [
      "Epoch 4:  42%|███████████▋                | 625/1501 [00:01<00:01, 439.13batch/s, accuracy=100.0%, loss=0.00795]"
     ]
    },
    {
     "name": "stdout",
     "output_type": "stream",
     "text": [
      " | Epoch 4 | Loss: 0.006824202835559845 | Accuracy: 100.0%\n",
      " | Epoch 4 | Loss: 0.005832195747643709 | Accuracy: 100.0%\n",
      " | Epoch 4 | Loss: 0.006340277846902609 | Accuracy: 100.0%\n",
      " | Epoch 4 | Loss: 0.0066972821950912476 | Accuracy: 100.0%\n",
      " | Epoch 4 | Loss: 0.005551106296479702 | Accuracy: 100.0%\n",
      " | Epoch 4 | Loss: 0.005790406372398138 | Accuracy: 100.0%\n",
      " | Epoch 4 | Loss: 0.00861517433077097 | Accuracy: 100.0%\n",
      " | Epoch 4 | Loss: 0.005729577504098415 | Accuracy: 100.0%\n",
      " | Epoch 4 | Loss: 0.00483338488265872 | Accuracy: 100.0%\n",
      " | Epoch 4 | Loss: 0.005926725920289755 | Accuracy: 100.0%\n",
      " | Epoch 4 | Loss: 0.005580027587711811 | Accuracy: 100.0%\n",
      " | Epoch 4 | Loss: 0.005027905106544495 | Accuracy: 100.0%\n",
      " | Epoch 4 | Loss: 0.005358132999390364 | Accuracy: 100.0%\n",
      " | Epoch 4 | Loss: 0.005739698186516762 | Accuracy: 100.0%\n",
      " | Epoch 4 | Loss: 0.005511555355042219 | Accuracy: 100.0%\n",
      " | Epoch 4 | Loss: 0.00672405818477273 | Accuracy: 100.0%\n",
      " | Epoch 4 | Loss: 0.005502397194504738 | Accuracy: 100.0%\n",
      " | Epoch 4 | Loss: 0.23531503975391388 | Accuracy: 96.875%\n",
      " | Epoch 4 | Loss: 0.18781167268753052 | Accuracy: 96.875%\n",
      " | Epoch 4 | Loss: 0.006185534410178661 | Accuracy: 100.0%\n",
      " | Epoch 4 | Loss: 0.006183600053191185 | Accuracy: 100.0%\n",
      " | Epoch 4 | Loss: 0.005699156317859888 | Accuracy: 100.0%\n",
      " | Epoch 4 | Loss: 0.006385802756994963 | Accuracy: 100.0%\n",
      " | Epoch 4 | Loss: 0.005831521470099688 | Accuracy: 100.0%\n",
      " | Epoch 4 | Loss: 0.005749640986323357 | Accuracy: 100.0%\n",
      " | Epoch 4 | Loss: 0.20122581720352173 | Accuracy: 96.875%\n",
      " | Epoch 4 | Loss: 0.5156179070472717 | Accuracy: 93.75%\n",
      " | Epoch 4 | Loss: 0.20608820021152496 | Accuracy: 96.875%\n",
      " | Epoch 4 | Loss: 0.006510254926979542 | Accuracy: 100.0%\n",
      " | Epoch 4 | Loss: 0.007743672002106905 | Accuracy: 100.0%\n",
      " | Epoch 4 | Loss: 0.0066947294399142265 | Accuracy: 100.0%\n",
      " | Epoch 4 | Loss: 0.00698566809296608 | Accuracy: 100.0%\n",
      " | Epoch 4 | Loss: 0.006484830752015114 | Accuracy: 100.0%\n",
      " | Epoch 4 | Loss: 0.007560099940747023 | Accuracy: 100.0%\n",
      " | Epoch 4 | Loss: 0.0070622083730995655 | Accuracy: 100.0%\n",
      " | Epoch 4 | Loss: 0.007981611415743828 | Accuracy: 100.0%\n",
      " | Epoch 4 | Loss: 0.007466204464435577 | Accuracy: 100.0%\n",
      " | Epoch 4 | Loss: 0.009968397207558155 | Accuracy: 100.0%\n",
      " | Epoch 4 | Loss: 0.006487221457064152 | Accuracy: 100.0%\n",
      " | Epoch 4 | Loss: 0.008689993992447853 | Accuracy: 100.0%\n",
      " | Epoch 4 | Loss: 0.1887897551059723 | Accuracy: 96.875%\n",
      " | Epoch 4 | Loss: 0.0072952937334775925 | Accuracy: 100.0%\n",
      " | Epoch 4 | Loss: 0.007556317374110222 | Accuracy: 100.0%\n",
      " | Epoch 4 | Loss: 0.006858447566628456 | Accuracy: 100.0%\n",
      " | Epoch 4 | Loss: 0.006598745938390493 | Accuracy: 100.0%\n",
      " | Epoch 4 | Loss: 0.006778124254196882 | Accuracy: 100.0%\n",
      " | Epoch 4 | Loss: 0.009008129127323627 | Accuracy: 100.0%\n",
      " | Epoch 4 | Loss: 0.007972778752446175 | Accuracy: 100.0%\n",
      " | Epoch 4 | Loss: 0.009229280985891819 | Accuracy: 100.0%\n",
      " | Epoch 4 | Loss: 0.00678860442712903 | Accuracy: 100.0%\n",
      " | Epoch 4 | Loss: 0.006923417095094919 | Accuracy: 100.0%\n",
      " | Epoch 4 | Loss: 0.007261231541633606 | Accuracy: 100.0%\n",
      " | Epoch 4 | Loss: 0.010040252469480038 | Accuracy: 100.0%\n",
      " | Epoch 4 | Loss: 0.00794413685798645 | Accuracy: 100.0%\n",
      " | Epoch 4 | Loss: 0.21576036512851715 | Accuracy: 96.875%\n",
      " | Epoch 4 | Loss: 0.007730499841272831 | Accuracy: 100.0%\n",
      " | Epoch 4 | Loss: 0.007111664395779371 | Accuracy: 100.0%\n",
      " | Epoch 4 | Loss: 0.00635109469294548 | Accuracy: 100.0%\n",
      " | Epoch 4 | Loss: 0.007537993602454662 | Accuracy: 100.0%\n",
      " | Epoch 4 | Loss: 0.4301760196685791 | Accuracy: 93.75%\n",
      " | Epoch 4 | Loss: 0.1899350881576538 | Accuracy: 96.875%\n",
      " | Epoch 4 | Loss: 0.2574571967124939 | Accuracy: 96.875%\n",
      " | Epoch 4 | Loss: 0.007161227986216545 | Accuracy: 100.0%\n",
      " | Epoch 4 | Loss: 0.006856950465589762 | Accuracy: 100.0%\n",
      " | Epoch 4 | Loss: 0.00729228975251317 | Accuracy: 100.0%\n",
      " | Epoch 4 | Loss: 0.007598609197884798 | Accuracy: 100.0%\n",
      " | Epoch 4 | Loss: 0.007021703757345676 | Accuracy: 100.0%\n",
      " | Epoch 4 | Loss: 0.005859679542481899 | Accuracy: 100.0%\n",
      " | Epoch 4 | Loss: 0.007760742679238319 | Accuracy: 100.0%\n",
      " | Epoch 4 | Loss: 0.00775812566280365 | Accuracy: 100.0%\n",
      " | Epoch 4 | Loss: 0.006032291799783707 | Accuracy: 100.0%\n",
      " | Epoch 4 | Loss: 0.006856320425868034 | Accuracy: 100.0%\n",
      " | Epoch 4 | Loss: 0.008111491799354553 | Accuracy: 100.0%\n",
      " | Epoch 4 | Loss: 0.008708449080586433 | Accuracy: 100.0%\n",
      " | Epoch 4 | Loss: 0.0067949313670396805 | Accuracy: 100.0%\n",
      " | Epoch 4 | Loss: 0.4224015474319458 | Accuracy: 93.75%\n",
      " | Epoch 4 | Loss: 0.008636095561087132 | Accuracy: 100.0%\n",
      " | Epoch 4 | Loss: 0.008692914620041847 | Accuracy: 100.0%\n",
      " | Epoch 4 | Loss: 0.007964293472468853 | Accuracy: 100.0%\n",
      " | Epoch 4 | Loss: 0.008128538727760315 | Accuracy: 100.0%\n",
      " | Epoch 4 | Loss: 0.006993753369897604 | Accuracy: 100.0%\n",
      " | Epoch 4 | Loss: 0.008302132599055767 | Accuracy: 100.0%\n",
      " | Epoch 4 | Loss: 0.007802288513630629 | Accuracy: 100.0%\n",
      " | Epoch 4 | Loss: 0.00923869013786316 | Accuracy: 100.0%\n",
      " | Epoch 4 | Loss: 0.007186326663941145 | Accuracy: 100.0%\n",
      " | Epoch 4 | Loss: 0.007053823210299015 | Accuracy: 100.0%\n",
      " | Epoch 4 | Loss: 0.0064440760761499405 | Accuracy: 100.0%\n",
      " | Epoch 4 | Loss: 0.15171687304973602 | Accuracy: 96.875%\n",
      " | Epoch 4 | Loss: 0.007208204362541437 | Accuracy: 100.0%\n",
      " | Epoch 4 | Loss: 0.007379540707916021 | Accuracy: 100.0%\n",
      " | Epoch 4 | Loss: 0.007177532184869051 | Accuracy: 100.0%\n",
      " | Epoch 4 | Loss: 0.008419047109782696 | Accuracy: 100.0%\n",
      " | Epoch 4 | Loss: 0.18015213310718536 | Accuracy: 96.875%\n",
      " | Epoch 4 | Loss: 0.007820243015885353 | Accuracy: 100.0%\n",
      " | Epoch 4 | Loss: 0.2164517492055893 | Accuracy: 96.875%\n",
      " | Epoch 4 | Loss: 0.009040138684213161 | Accuracy: 100.0%\n",
      " | Epoch 4 | Loss: 0.007836418226361275 | Accuracy: 100.0%\n",
      " | Epoch 4 | Loss: 0.008795810863375664 | Accuracy: 100.0%\n",
      " | Epoch 4 | Loss: 0.008782458491623402 | Accuracy: 100.0%\n",
      " | Epoch 4 | Loss: 0.008953460492193699 | Accuracy: 100.0%\n",
      " | Epoch 4 | Loss: 0.008939772844314575 | Accuracy: 100.0%\n",
      " | Epoch 4 | Loss: 0.00936195719987154 | Accuracy: 100.0%\n",
      " | Epoch 4 | Loss: 0.007634188514202833 | Accuracy: 100.0%\n",
      " | Epoch 4 | Loss: 0.010199524462223053 | Accuracy: 100.0%\n",
      " | Epoch 4 | Loss: 0.009018204174935818 | Accuracy: 100.0%\n",
      " | Epoch 4 | Loss: 0.00831781979650259 | Accuracy: 100.0%\n",
      " | Epoch 4 | Loss: 0.007954360917210579 | Accuracy: 100.0%\n"
     ]
    },
    {
     "name": "stderr",
     "output_type": "stream",
     "text": [
      "Epoch 4:  45%|████████████▉                | 671/1501 [00:01<00:02, 395.41batch/s, accuracy=100.0%, loss=0.0078]"
     ]
    },
    {
     "name": "stdout",
     "output_type": "stream",
     "text": [
      " | Epoch 4 | Loss: 0.013383448123931885 | Accuracy: 100.0%\n",
      " | Epoch 4 | Loss: 0.00919356569647789 | Accuracy: 100.0%\n",
      " | Epoch 4 | Loss: 0.007768264040350914 | Accuracy: 100.0%\n",
      " | Epoch 4 | Loss: 0.009389624930918217 | Accuracy: 100.0%\n",
      " | Epoch 4 | Loss: 0.011937431059777737 | Accuracy: 100.0%\n",
      " | Epoch 4 | Loss: 0.007178423926234245 | Accuracy: 100.0%\n",
      " | Epoch 4 | Loss: 0.00885071512311697 | Accuracy: 100.0%\n",
      " | Epoch 4 | Loss: 0.0066785067319869995 | Accuracy: 100.0%\n",
      " | Epoch 4 | Loss: 0.009600304998457432 | Accuracy: 100.0%\n",
      " | Epoch 4 | Loss: 0.22393818199634552 | Accuracy: 96.875%\n",
      " | Epoch 4 | Loss: 0.008506438694894314 | Accuracy: 100.0%\n",
      " | Epoch 4 | Loss: 0.005643823184072971 | Accuracy: 100.0%\n",
      " | Epoch 4 | Loss: 0.007459382526576519 | Accuracy: 100.0%\n",
      " | Epoch 4 | Loss: 0.006989533081650734 | Accuracy: 100.0%\n",
      " | Epoch 4 | Loss: 0.005906474776566029 | Accuracy: 100.0%\n",
      " | Epoch 4 | Loss: 0.007945578545331955 | Accuracy: 100.0%\n",
      " | Epoch 4 | Loss: 0.0067870281636714935 | Accuracy: 100.0%\n",
      " | Epoch 4 | Loss: 0.006683039478957653 | Accuracy: 100.0%\n",
      " | Epoch 4 | Loss: 0.23118813335895538 | Accuracy: 96.875%\n",
      " | Epoch 4 | Loss: 0.0082943020388484 | Accuracy: 100.0%\n",
      " | Epoch 4 | Loss: 0.21308757364749908 | Accuracy: 96.875%\n",
      " | Epoch 4 | Loss: 0.006546629127115011 | Accuracy: 100.0%\n",
      " | Epoch 4 | Loss: 0.007290936540812254 | Accuracy: 100.0%\n",
      " | Epoch 4 | Loss: 0.15625591576099396 | Accuracy: 96.875%\n",
      " | Epoch 4 | Loss: 0.006029590964317322 | Accuracy: 100.0%\n",
      " | Epoch 4 | Loss: 0.009304708801209927 | Accuracy: 100.0%\n",
      " | Epoch 4 | Loss: 0.006482746917754412 | Accuracy: 100.0%\n",
      " | Epoch 4 | Loss: 0.006789551582187414 | Accuracy: 100.0%\n",
      " | Epoch 4 | Loss: 0.0069998023100197315 | Accuracy: 100.0%\n",
      " | Epoch 4 | Loss: 0.011590993963181973 | Accuracy: 100.0%\n",
      " | Epoch 4 | Loss: 0.007818933576345444 | Accuracy: 100.0%\n",
      " | Epoch 4 | Loss: 0.17216092348098755 | Accuracy: 96.875%\n",
      " | Epoch 4 | Loss: 0.007814548909664154 | Accuracy: 100.0%\n",
      " | Epoch 4 | Loss: 0.0076375799253582954 | Accuracy: 100.0%\n",
      " | Epoch 4 | Loss: 0.007946205325424671 | Accuracy: 100.0%\n",
      " | Epoch 4 | Loss: 0.006797539070248604 | Accuracy: 100.0%\n",
      " | Epoch 4 | Loss: 0.009076018817722797 | Accuracy: 100.0%\n",
      " | Epoch 4 | Loss: 0.006770070642232895 | Accuracy: 100.0%\n",
      " | Epoch 4 | Loss: 0.006631428841501474 | Accuracy: 100.0%\n",
      " | Epoch 4 | Loss: 0.009493686258792877 | Accuracy: 100.0%\n",
      " | Epoch 4 | Loss: 0.24443839490413666 | Accuracy: 96.875%\n",
      " | Epoch 4 | Loss: 0.010094988159835339 | Accuracy: 100.0%\n",
      " | Epoch 4 | Loss: 0.00627790205180645 | Accuracy: 100.0%\n",
      " | Epoch 4 | Loss: 0.008030591532588005 | Accuracy: 100.0%\n",
      " | Epoch 4 | Loss: 0.008481756784021854 | Accuracy: 100.0%\n",
      " | Epoch 4 | Loss: 0.006676194723695517 | Accuracy: 100.0%\n",
      " | Epoch 4 | Loss: 0.007883809506893158 | Accuracy: 100.0%\n",
      " | Epoch 4 | Loss: 0.19360968470573425 | Accuracy: 96.875%\n",
      " | Epoch 4 | Loss: 0.008048992604017258 | Accuracy: 100.0%\n",
      " | Epoch 4 | Loss: 0.009521491825580597 | Accuracy: 100.0%\n",
      " | Epoch 4 | Loss: 0.007614022586494684 | Accuracy: 100.0%\n",
      " | Epoch 4 | Loss: 0.007573552895337343 | Accuracy: 100.0%\n",
      " | Epoch 4 | Loss: 0.007802601438015699 | Accuracy: 100.0%\n"
     ]
    },
    {
     "name": "stderr",
     "output_type": "stream",
     "text": [
      "Epoch 4:  48%|█████████████▊               | 713/1501 [00:02<00:02, 333.92batch/s, accuracy=96.875%, loss=0.215]"
     ]
    },
    {
     "name": "stdout",
     "output_type": "stream",
     "text": [
      " | Epoch 4 | Loss: 0.006189754698425531 | Accuracy: 100.0%\n",
      " | Epoch 4 | Loss: 0.00828868243843317 | Accuracy: 100.0%\n",
      " | Epoch 4 | Loss: 0.42227572202682495 | Accuracy: 93.75%\n",
      " | Epoch 4 | Loss: 0.009062361903488636 | Accuracy: 100.0%\n",
      " | Epoch 4 | Loss: 0.1768539845943451 | Accuracy: 96.875%\n",
      " | Epoch 4 | Loss: 0.008930502459406853 | Accuracy: 100.0%\n",
      " | Epoch 4 | Loss: 0.006533880718052387 | Accuracy: 100.0%\n",
      " | Epoch 4 | Loss: 0.007325797341763973 | Accuracy: 100.0%\n",
      " | Epoch 4 | Loss: 0.007828745059669018 | Accuracy: 100.0%\n",
      " | Epoch 4 | Loss: 0.007140566594898701 | Accuracy: 100.0%\n",
      " | Epoch 4 | Loss: 0.007678619120270014 | Accuracy: 100.0%\n",
      " | Epoch 4 | Loss: 0.007599967066198587 | Accuracy: 100.0%\n",
      " | Epoch 4 | Loss: 0.007403280586004257 | Accuracy: 100.0%\n",
      " | Epoch 4 | Loss: 0.008874710649251938 | Accuracy: 100.0%\n",
      " | Epoch 4 | Loss: 0.2562442123889923 | Accuracy: 96.875%\n",
      " | Epoch 4 | Loss: 0.008658874779939651 | Accuracy: 100.0%\n",
      " | Epoch 4 | Loss: 0.007843210361897945 | Accuracy: 100.0%\n",
      " | Epoch 4 | Loss: 0.00767481280490756 | Accuracy: 100.0%\n",
      " | Epoch 4 | Loss: 0.010757621377706528 | Accuracy: 100.0%\n",
      " | Epoch 4 | Loss: 0.008942912332713604 | Accuracy: 100.0%\n",
      " | Epoch 4 | Loss: 0.006231305655092001 | Accuracy: 100.0%\n",
      " | Epoch 4 | Loss: 0.006489465478807688 | Accuracy: 100.0%\n",
      " | Epoch 4 | Loss: 0.007904550060629845 | Accuracy: 100.0%\n",
      " | Epoch 4 | Loss: 0.23935775458812714 | Accuracy: 96.875%\n",
      " | Epoch 4 | Loss: 0.007793854456394911 | Accuracy: 100.0%\n",
      " | Epoch 4 | Loss: 0.011091971769928932 | Accuracy: 100.0%\n",
      " | Epoch 4 | Loss: 0.006962393410503864 | Accuracy: 100.0%\n",
      " | Epoch 4 | Loss: 0.007340656593441963 | Accuracy: 100.0%\n",
      " | Epoch 4 | Loss: 0.0075442055240273476 | Accuracy: 100.0%\n",
      " | Epoch 4 | Loss: 0.008989708498120308 | Accuracy: 100.0%\n",
      " | Epoch 4 | Loss: 0.005600267089903355 | Accuracy: 100.0%\n",
      " | Epoch 4 | Loss: 0.20807823538780212 | Accuracy: 96.875%\n",
      " | Epoch 4 | Loss: 0.007125520147383213 | Accuracy: 100.0%\n",
      " | Epoch 4 | Loss: 0.20278531312942505 | Accuracy: 96.875%\n",
      " | Epoch 4 | Loss: 0.007067736238241196 | Accuracy: 100.0%\n",
      " | Epoch 4 | Loss: 0.006569851655513048 | Accuracy: 100.0%\n",
      " | Epoch 4 | Loss: 0.21544747054576874 | Accuracy: 96.875%\n",
      " | Epoch 4 | Loss: 0.007009212393313646 | Accuracy: 100.0%\n",
      " | Epoch 4 | Loss: 0.006831895560026169 | Accuracy: 100.0%\n",
      " | Epoch 4 | Loss: 0.007779942825436592 | Accuracy: 100.0%\n",
      " | Epoch 4 | Loss: 0.00699668750166893 | Accuracy: 100.0%\n",
      " | Epoch 4 | Loss: 0.0065656062215566635 | Accuracy: 100.0%\n",
      " | Epoch 4 | Loss: 0.0073314933106303215 | Accuracy: 100.0%\n",
      " | Epoch 4 | Loss: 0.007027860730886459 | Accuracy: 100.0%\n",
      " | Epoch 4 | Loss: 0.006965726613998413 | Accuracy: 100.0%\n",
      " | Epoch 4 | Loss: 0.008596398867666721 | Accuracy: 100.0%\n",
      " | Epoch 4 | Loss: 0.005960298702120781 | Accuracy: 100.0%\n",
      " | Epoch 4 | Loss: 0.006028073839843273 | Accuracy: 100.0%\n",
      " | Epoch 4 | Loss: 0.006600488442927599 | Accuracy: 100.0%\n",
      " | Epoch 4 | Loss: 0.006338142324239016 | Accuracy: 100.0%\n",
      " | Epoch 4 | Loss: 0.19694750010967255 | Accuracy: 96.875%\n",
      " | Epoch 4 | Loss: 0.0069047920405864716 | Accuracy: 100.0%\n",
      " | Epoch 4 | Loss: 0.0076596299186348915 | Accuracy: 100.0%\n",
      " | Epoch 4 | Loss: 0.007063599769026041 | Accuracy: 100.0%\n",
      " | Epoch 4 | Loss: 0.006905305199325085 | Accuracy: 100.0%\n",
      " | Epoch 4 | Loss: 0.006870300974696875 | Accuracy: 100.0%\n",
      " | Epoch 4 | Loss: 0.0064439899288117886 | Accuracy: 100.0%\n",
      " | Epoch 4 | Loss: 0.010159710422158241 | Accuracy: 100.0%\n",
      " | Epoch 4 | Loss: 0.009291873313486576 | Accuracy: 100.0%\n",
      " | Epoch 4 | Loss: 0.006608036812394857 | Accuracy: 100.0%\n",
      " | Epoch 4 | Loss: 0.008336016908288002 | Accuracy: 100.0%\n",
      " | Epoch 4 | Loss: 0.007306267973035574 | Accuracy: 100.0%\n",
      " | Epoch 4 | Loss: 0.21465125679969788 | Accuracy: 96.875%\n"
     ]
    },
    {
     "name": "stderr",
     "output_type": "stream",
     "text": [
      "Epoch 4:  53%|██████████████▉             | 799/1501 [00:02<00:01, 376.84batch/s, accuracy=100.0%, loss=0.00763]"
     ]
    },
    {
     "name": "stdout",
     "output_type": "stream",
     "text": [
      " | Epoch 4 | Loss: 0.1933918595314026 | Accuracy: 96.875%\n",
      " | Epoch 4 | Loss: 0.008072914555668831 | Accuracy: 100.0%\n",
      " | Epoch 4 | Loss: 0.2062312811613083 | Accuracy: 96.875%\n",
      " | Epoch 4 | Loss: 0.006886774208396673 | Accuracy: 100.0%\n",
      " | Epoch 4 | Loss: 0.0072346036322414875 | Accuracy: 100.0%\n",
      " | Epoch 4 | Loss: 0.006788873113691807 | Accuracy: 100.0%\n",
      " | Epoch 4 | Loss: 0.007030687294900417 | Accuracy: 100.0%\n",
      " | Epoch 4 | Loss: 0.007008515298366547 | Accuracy: 100.0%\n",
      " | Epoch 4 | Loss: 0.189689502120018 | Accuracy: 96.875%\n",
      " | Epoch 4 | Loss: 0.007476167753338814 | Accuracy: 100.0%\n",
      " | Epoch 4 | Loss: 0.008175929076969624 | Accuracy: 100.0%\n",
      " | Epoch 4 | Loss: 0.0077969771809875965 | Accuracy: 100.0%\n",
      " | Epoch 4 | Loss: 0.00906740128993988 | Accuracy: 100.0%\n",
      " | Epoch 4 | Loss: 0.008504744619131088 | Accuracy: 100.0%\n",
      " | Epoch 4 | Loss: 0.008396429941058159 | Accuracy: 100.0%\n",
      " | Epoch 4 | Loss: 0.009270399808883667 | Accuracy: 100.0%\n",
      " | Epoch 4 | Loss: 0.009614935144782066 | Accuracy: 100.0%\n",
      " | Epoch 4 | Loss: 0.23392145335674286 | Accuracy: 96.875%\n",
      " | Epoch 4 | Loss: 0.007989269681274891 | Accuracy: 100.0%\n",
      " | Epoch 4 | Loss: 0.007665681187063456 | Accuracy: 100.0%\n",
      " | Epoch 4 | Loss: 0.011037623509764671 | Accuracy: 100.0%\n",
      " | Epoch 4 | Loss: 0.011355651542544365 | Accuracy: 100.0%\n",
      " | Epoch 4 | Loss: 0.009007071144878864 | Accuracy: 100.0%\n",
      " | Epoch 4 | Loss: 0.00800553523004055 | Accuracy: 100.0%\n",
      " | Epoch 4 | Loss: 0.21238940954208374 | Accuracy: 96.875%\n",
      " | Epoch 4 | Loss: 0.011292329989373684 | Accuracy: 100.0%\n",
      " | Epoch 4 | Loss: 0.007993346080183983 | Accuracy: 100.0%\n",
      " | Epoch 4 | Loss: 0.0070351180620491505 | Accuracy: 100.0%\n",
      " | Epoch 4 | Loss: 0.007431499194353819 | Accuracy: 100.0%\n",
      " | Epoch 4 | Loss: 0.006522518116980791 | Accuracy: 100.0%\n",
      " | Epoch 4 | Loss: 0.2665597200393677 | Accuracy: 96.875%\n",
      " | Epoch 4 | Loss: 0.005823689512908459 | Accuracy: 100.0%\n",
      " | Epoch 4 | Loss: 0.008311987854540348 | Accuracy: 100.0%\n",
      " | Epoch 4 | Loss: 0.010400653816759586 | Accuracy: 100.0%\n",
      " | Epoch 4 | Loss: 0.008440895937383175 | Accuracy: 100.0%\n",
      " | Epoch 4 | Loss: 0.006781541742384434 | Accuracy: 100.0%\n",
      " | Epoch 4 | Loss: 0.00789655465632677 | Accuracy: 100.0%\n",
      " | Epoch 4 | Loss: 0.008268274366855621 | Accuracy: 100.0%\n",
      " | Epoch 4 | Loss: 0.007029921282082796 | Accuracy: 100.0%\n",
      " | Epoch 4 | Loss: 0.00754306185990572 | Accuracy: 100.0%\n",
      " | Epoch 4 | Loss: 0.007118992041796446 | Accuracy: 100.0%\n",
      " | Epoch 4 | Loss: 0.006183675955981016 | Accuracy: 100.0%\n",
      " | Epoch 4 | Loss: 0.006766832899302244 | Accuracy: 100.0%\n",
      " | Epoch 4 | Loss: 0.006793463137000799 | Accuracy: 100.0%\n",
      " | Epoch 4 | Loss: 0.007339830510318279 | Accuracy: 100.0%\n",
      " | Epoch 4 | Loss: 0.008908776566386223 | Accuracy: 100.0%\n",
      " | Epoch 4 | Loss: 0.007122265174984932 | Accuracy: 100.0%\n",
      " | Epoch 4 | Loss: 0.006081614643335342 | Accuracy: 100.0%\n",
      " | Epoch 4 | Loss: 0.17964410781860352 | Accuracy: 96.875%\n",
      " | Epoch 4 | Loss: 0.007078289054334164 | Accuracy: 100.0%\n",
      " | Epoch 4 | Loss: 0.007931130938231945 | Accuracy: 100.0%\n",
      " | Epoch 4 | Loss: 0.006254378706216812 | Accuracy: 100.0%\n",
      " | Epoch 4 | Loss: 0.007616035640239716 | Accuracy: 100.0%\n",
      " | Epoch 4 | Loss: 0.007726719602942467 | Accuracy: 100.0%\n",
      " | Epoch 4 | Loss: 0.36348655819892883 | Accuracy: 93.75%\n",
      " | Epoch 4 | Loss: 0.006423600949347019 | Accuracy: 100.0%\n",
      " | Epoch 4 | Loss: 0.007431809790432453 | Accuracy: 100.0%\n",
      " | Epoch 4 | Loss: 0.00714484229683876 | Accuracy: 100.0%\n",
      " | Epoch 4 | Loss: 0.016193224117159843 | Accuracy: 100.0%\n",
      " | Epoch 4 | Loss: 0.006440167315304279 | Accuracy: 100.0%\n",
      " | Epoch 4 | Loss: 0.0062212469056248665 | Accuracy: 100.0%\n",
      " | Epoch 4 | Loss: 0.007277625612914562 | Accuracy: 100.0%\n",
      " | Epoch 4 | Loss: 0.008022520691156387 | Accuracy: 100.0%\n",
      " | Epoch 4 | Loss: 0.00671476311981678 | Accuracy: 100.0%\n",
      " | Epoch 4 | Loss: 0.007287050597369671 | Accuracy: 100.0%\n",
      " | Epoch 4 | Loss: 0.1870185136795044 | Accuracy: 96.875%\n",
      " | Epoch 4 | Loss: 0.006759699899703264 | Accuracy: 100.0%\n",
      " | Epoch 4 | Loss: 0.006539657711982727 | Accuracy: 100.0%\n",
      " | Epoch 4 | Loss: 0.006517652887851 | Accuracy: 100.0%\n",
      " | Epoch 4 | Loss: 0.009193697944283485 | Accuracy: 100.0%\n",
      " | Epoch 4 | Loss: 0.007293113972991705 | Accuracy: 100.0%\n",
      " | Epoch 4 | Loss: 0.007405607961118221 | Accuracy: 100.0%\n",
      " | Epoch 4 | Loss: 0.006655374076217413 | Accuracy: 100.0%\n",
      " | Epoch 4 | Loss: 0.008234795182943344 | Accuracy: 100.0%\n",
      " | Epoch 4 | Loss: 0.006199877709150314 | Accuracy: 100.0%\n",
      " | Epoch 4 | Loss: 0.2589688003063202 | Accuracy: 96.875%\n",
      " | Epoch 4 | Loss: 0.005739749409258366 | Accuracy: 100.0%\n",
      " | Epoch 4 | Loss: 0.006825299933552742 | Accuracy: 100.0%\n",
      " | Epoch 4 | Loss: 0.006930896546691656 | Accuracy: 100.0%\n",
      " | Epoch 4 | Loss: 0.007235649507492781 | Accuracy: 100.0%\n",
      " | Epoch 4 | Loss: 0.011132688261568546 | Accuracy: 100.0%\n",
      " | Epoch 4 | Loss: 0.006786780431866646 | Accuracy: 100.0%\n",
      " | Epoch 4 | Loss: 0.1914530098438263 | Accuracy: 96.875%\n",
      " | Epoch 4 | Loss: 0.00736176036298275 | Accuracy: 100.0%\n",
      " | Epoch 4 | Loss: 0.007011579815298319 | Accuracy: 100.0%\n",
      " | Epoch 4 | Loss: 0.007663805969059467 | Accuracy: 100.0%\n",
      " | Epoch 4 | Loss: 0.007098071742802858 | Accuracy: 100.0%\n",
      " | Epoch 4 | Loss: 0.007647848688066006 | Accuracy: 100.0%\n",
      " | Epoch 4 | Loss: 0.00855319108814001 | Accuracy: 100.0%\n",
      " | Epoch 4 | Loss: 0.00666059972718358 | Accuracy: 100.0%\n",
      " | Epoch 4 | Loss: 0.4172942042350769 | Accuracy: 93.75%\n",
      " | Epoch 4 | Loss: 0.006911803036928177 | Accuracy: 100.0%\n",
      " | Epoch 4 | Loss: 0.2431946098804474 | Accuracy: 96.875%\n",
      " | Epoch 4 | Loss: 0.006634259596467018 | Accuracy: 100.0%\n",
      " | Epoch 4 | Loss: 0.006896731443703175 | Accuracy: 100.0%\n",
      " | Epoch 4 | Loss: 0.006493825931102037 | Accuracy: 100.0%\n",
      " | Epoch 4 | Loss: 0.005968690384179354 | Accuracy: 100.0%\n",
      " | Epoch 4 | Loss: 0.007015526760369539 | Accuracy: 100.0%\n",
      " | Epoch 4 | Loss: 0.007265910971909761 | Accuracy: 100.0%\n",
      " | Epoch 4 | Loss: 0.007124368567019701 | Accuracy: 100.0%\n",
      " | Epoch 4 | Loss: 0.006314289290457964 | Accuracy: 100.0%\n",
      " | Epoch 4 | Loss: 0.20242328941822052 | Accuracy: 96.875%\n",
      " | Epoch 4 | Loss: 0.007865973748266697 | Accuracy: 100.0%\n",
      " | Epoch 4 | Loss: 0.008098304271697998 | Accuracy: 100.0%\n",
      " | Epoch 4 | Loss: 0.00990558136254549 | Accuracy: 100.0%\n",
      " | Epoch 4 | Loss: 0.008062507957220078 | Accuracy: 100.0%\n",
      " | Epoch 4 | Loss: 0.007801202591508627 | Accuracy: 100.0%\n",
      " | Epoch 4 | Loss: 0.006481038872152567 | Accuracy: 100.0%\n",
      " | Epoch 4 | Loss: 0.008401675149798393 | Accuracy: 100.0%\n",
      " | Epoch 4 | Loss: 0.007633725181221962 | Accuracy: 100.0%\n"
     ]
    },
    {
     "name": "stderr",
     "output_type": "stream",
     "text": [
      "Epoch 4:  62%|█████████████████▊           | 925/1501 [00:02<00:01, 492.78batch/s, accuracy=96.875%, loss=0.202]"
     ]
    },
    {
     "name": "stdout",
     "output_type": "stream",
     "text": [
      " | Epoch 4 | Loss: 0.006679406389594078 | Accuracy: 100.0%\n",
      " | Epoch 4 | Loss: 0.006772745866328478 | Accuracy: 100.0%\n",
      " | Epoch 4 | Loss: 0.007545290514826775 | Accuracy: 100.0%\n",
      " | Epoch 4 | Loss: 0.006156176328659058 | Accuracy: 100.0%\n",
      " | Epoch 4 | Loss: 0.008815966546535492 | Accuracy: 100.0%\n",
      " | Epoch 4 | Loss: 0.008171015419065952 | Accuracy: 100.0%\n",
      " | Epoch 4 | Loss: 0.2314613312482834 | Accuracy: 96.875%\n",
      " | Epoch 4 | Loss: 0.189991295337677 | Accuracy: 96.875%\n",
      " | Epoch 4 | Loss: 0.0072394548915326595 | Accuracy: 100.0%\n",
      " | Epoch 4 | Loss: 0.007459018845111132 | Accuracy: 100.0%\n",
      " | Epoch 4 | Loss: 0.20889462530612946 | Accuracy: 96.875%\n",
      " | Epoch 4 | Loss: 0.006055895704776049 | Accuracy: 100.0%\n",
      " | Epoch 4 | Loss: 0.20856346189975739 | Accuracy: 96.875%\n",
      " | Epoch 4 | Loss: 0.007681961636990309 | Accuracy: 100.0%\n",
      " | Epoch 4 | Loss: 0.0071742841973900795 | Accuracy: 100.0%\n",
      " | Epoch 4 | Loss: 0.2050156593322754 | Accuracy: 96.875%\n",
      " | Epoch 4 | Loss: 0.007952527143061161 | Accuracy: 100.0%\n",
      " | Epoch 4 | Loss: 0.008874383755028248 | Accuracy: 100.0%\n",
      " | Epoch 4 | Loss: 0.1854981929063797 | Accuracy: 96.875%\n",
      " | Epoch 4 | Loss: 0.007750413846224546 | Accuracy: 100.0%\n",
      " | Epoch 4 | Loss: 0.008706777356564999 | Accuracy: 100.0%\n",
      " | Epoch 4 | Loss: 0.22986140847206116 | Accuracy: 96.875%\n",
      " | Epoch 4 | Loss: 0.008951815776526928 | Accuracy: 100.0%\n",
      " | Epoch 4 | Loss: 0.007196941878646612 | Accuracy: 100.0%\n",
      " | Epoch 4 | Loss: 0.006984068546444178 | Accuracy: 100.0%\n",
      " | Epoch 4 | Loss: 0.00817182008177042 | Accuracy: 100.0%\n",
      " | Epoch 4 | Loss: 0.008629300631582737 | Accuracy: 100.0%\n",
      " | Epoch 4 | Loss: 0.009739754721522331 | Accuracy: 100.0%\n",
      " | Epoch 4 | Loss: 0.009484535083174706 | Accuracy: 100.0%\n",
      " | Epoch 4 | Loss: 0.39541035890579224 | Accuracy: 93.75%\n",
      " | Epoch 4 | Loss: 0.008446094579994678 | Accuracy: 100.0%\n",
      " | Epoch 4 | Loss: 0.008342894725501537 | Accuracy: 100.0%\n",
      " | Epoch 4 | Loss: 0.008932666853070259 | Accuracy: 100.0%\n",
      " | Epoch 4 | Loss: 0.010298255831003189 | Accuracy: 100.0%\n",
      " | Epoch 4 | Loss: 0.009933693334460258 | Accuracy: 100.0%\n",
      " | Epoch 4 | Loss: 0.007516444660723209 | Accuracy: 100.0%\n",
      " | Epoch 4 | Loss: 0.007499676663428545 | Accuracy: 100.0%\n",
      " | Epoch 4 | Loss: 0.00843421183526516 | Accuracy: 100.0%\n",
      " | Epoch 4 | Loss: 0.007124429102987051 | Accuracy: 100.0%\n",
      " | Epoch 4 | Loss: 0.00788622535765171 | Accuracy: 100.0%\n",
      " | Epoch 4 | Loss: 0.010520596988499165 | Accuracy: 100.0%\n",
      " | Epoch 4 | Loss: 0.007885290309786797 | Accuracy: 100.0%\n",
      " | Epoch 4 | Loss: 0.2412486970424652 | Accuracy: 96.875%\n",
      " | Epoch 4 | Loss: 0.009426077827811241 | Accuracy: 100.0%\n",
      " | Epoch 4 | Loss: 0.008599696680903435 | Accuracy: 100.0%\n",
      " | Epoch 4 | Loss: 0.23535089194774628 | Accuracy: 96.875%\n",
      " | Epoch 4 | Loss: 0.008513715118169785 | Accuracy: 100.0%\n",
      " | Epoch 4 | Loss: 0.006781772244721651 | Accuracy: 100.0%\n",
      " | Epoch 4 | Loss: 0.008392862975597382 | Accuracy: 100.0%\n",
      " | Epoch 4 | Loss: 0.008307368494570255 | Accuracy: 100.0%\n",
      " | Epoch 4 | Loss: 0.008295774459838867 | Accuracy: 100.0%\n",
      " | Epoch 4 | Loss: 0.22056862711906433 | Accuracy: 96.875%\n",
      " | Epoch 4 | Loss: 0.007973672822117805 | Accuracy: 100.0%\n",
      " | Epoch 4 | Loss: 0.009683290496468544 | Accuracy: 100.0%\n",
      " | Epoch 4 | Loss: 0.008778308518230915 | Accuracy: 100.0%\n",
      " | Epoch 4 | Loss: 0.00816886592656374 | Accuracy: 100.0%\n",
      " | Epoch 4 | Loss: 0.008781556971371174 | Accuracy: 100.0%\n",
      " | Epoch 4 | Loss: 0.007888621650636196 | Accuracy: 100.0%\n",
      " | Epoch 4 | Loss: 0.010760758072137833 | Accuracy: 100.0%\n",
      " | Epoch 4 | Loss: 0.009515950456261635 | Accuracy: 100.0%\n",
      " | Epoch 4 | Loss: 0.008153356611728668 | Accuracy: 100.0%\n",
      " | Epoch 4 | Loss: 0.17257699370384216 | Accuracy: 96.875%\n",
      " | Epoch 4 | Loss: 0.18869814276695251 | Accuracy: 96.875%\n",
      " | Epoch 4 | Loss: 0.007023449055850506 | Accuracy: 100.0%\n",
      " | Epoch 4 | Loss: 0.008408380672335625 | Accuracy: 100.0%\n",
      " | Epoch 4 | Loss: 0.010213333182036877 | Accuracy: 100.0%\n",
      " | Epoch 4 | Loss: 0.008269867859780788 | Accuracy: 100.0%\n",
      " | Epoch 4 | Loss: 0.009202683344483376 | Accuracy: 100.0%\n",
      " | Epoch 4 | Loss: 0.01034014206379652 | Accuracy: 100.0%\n",
      " | Epoch 4 | Loss: 0.1873602420091629 | Accuracy: 96.875%\n",
      " | Epoch 4 | Loss: 0.008786777034401894 | Accuracy: 100.0%\n",
      " | Epoch 4 | Loss: 0.20644046366214752 | Accuracy: 96.875%\n",
      " | Epoch 4 | Loss: 0.008360383100807667 | Accuracy: 100.0%\n",
      " | Epoch 4 | Loss: 0.011390446685254574 | Accuracy: 100.0%\n",
      " | Epoch 4 | Loss: 0.008402863517403603 | Accuracy: 100.0%\n",
      " | Epoch 4 | Loss: 0.011560246348381042 | Accuracy: 100.0%\n",
      " | Epoch 4 | Loss: 0.007954892702400684 | Accuracy: 100.0%\n",
      " | Epoch 4 | Loss: 0.17125505208969116 | Accuracy: 96.875%\n",
      " | Epoch 4 | Loss: 0.2077721655368805 | Accuracy: 96.875%\n",
      " | Epoch 4 | Loss: 0.25099024176597595 | Accuracy: 96.875%\n",
      " | Epoch 4 | Loss: 0.010883997194468975 | Accuracy: 100.0%\n",
      " | Epoch 4 | Loss: 0.008735807612538338 | Accuracy: 100.0%\n",
      " | Epoch 4 | Loss: 0.009158848784863949 | Accuracy: 100.0%\n",
      " | Epoch 4 | Loss: 0.00986566860228777 | Accuracy: 100.0%\n",
      " | Epoch 4 | Loss: 0.011864760890603065 | Accuracy: 100.0%\n",
      " | Epoch 4 | Loss: 0.011690950021147728 | Accuracy: 100.0%\n",
      " | Epoch 4 | Loss: 0.20738112926483154 | Accuracy: 96.875%\n",
      " | Epoch 4 | Loss: 0.008330246433615685 | Accuracy: 100.0%\n",
      " | Epoch 4 | Loss: 0.009852017275989056 | Accuracy: 100.0%\n",
      " | Epoch 4 | Loss: 0.011488771066069603 | Accuracy: 100.0%\n",
      " | Epoch 4 | Loss: 0.009383004158735275 | Accuracy: 100.0%\n",
      " | Epoch 4 | Loss: 0.009520803578197956 | Accuracy: 100.0%\n",
      " | Epoch 4 | Loss: 0.010495287366211414 | Accuracy: 100.0%\n",
      " | Epoch 4 | Loss: 0.009552113711833954 | Accuracy: 100.0%\n",
      " | Epoch 4 | Loss: 0.23743580281734467 | Accuracy: 96.875%\n",
      " | Epoch 4 | Loss: 0.2355506271123886 | Accuracy: 96.875%\n",
      " | Epoch 4 | Loss: 0.008682153187692165 | Accuracy: 100.0%\n",
      " | Epoch 4 | Loss: 0.009884591214358807 | Accuracy: 100.0%\n",
      " | Epoch 4 | Loss: 0.20424649119377136 | Accuracy: 96.875%\n",
      " | Epoch 4 | Loss: 0.007900368422269821 | Accuracy: 100.0%\n",
      " | Epoch 4 | Loss: 0.009216014295816422 | Accuracy: 100.0%\n",
      " | Epoch 4 | Loss: 0.01008562371134758 | Accuracy: 100.0%\n",
      " | Epoch 4 | Loss: 0.009523484855890274 | Accuracy: 100.0%\n",
      " | Epoch 4 | Loss: 0.008236788213253021 | Accuracy: 100.0%\n",
      " | Epoch 4 | Loss: 0.0076245032250881195 | Accuracy: 100.0%\n",
      " | Epoch 4 | Loss: 0.008732888847589493 | Accuracy: 100.0%\n",
      " | Epoch 4 | Loss: 0.010457969270646572 | Accuracy: 100.0%\n",
      " | Epoch 4 | Loss: 0.21880367398262024 | Accuracy: 96.875%\n",
      " | Epoch 4 | Loss: 0.009406465105712414 | Accuracy: 100.0%\n",
      " | Epoch 4 | Loss: 0.010247750207781792 | Accuracy: 100.0%\n",
      " | Epoch 4 | Loss: 0.007803670596331358 | Accuracy: 100.0%\n",
      " | Epoch 4 | Loss: 0.008779620751738548 | Accuracy: 100.0%\n",
      " | Epoch 4 | Loss: 0.010956011712551117 | Accuracy: 100.0%\n",
      " | Epoch 4 | Loss: 0.009552094154059887 | Accuracy: 100.0%\n",
      " | Epoch 4 | Loss: 0.010418116115033627 | Accuracy: 100.0%\n",
      " | Epoch 4 | Loss: 0.011290648952126503 | Accuracy: 100.0%\n",
      " | Epoch 4 | Loss: 0.00997528713196516 | Accuracy: 100.0%\n",
      " | Epoch 4 | Loss: 0.010391750372946262 | Accuracy: 100.0%\n",
      " | Epoch 4 | Loss: 0.010937410406768322 | Accuracy: 100.0%\n",
      " | Epoch 4 | Loss: 0.009133880026638508 | Accuracy: 100.0%\n",
      " | Epoch 4 | Loss: 0.008763542398810387 | Accuracy: 100.0%\n",
      " | Epoch 4 | Loss: 0.1977638453245163 | Accuracy: 96.875%\n",
      " | Epoch 4 | Loss: 0.008840346708893776 | Accuracy: 100.0%\n",
      " | Epoch 4 | Loss: 0.1912495642900467 | Accuracy: 96.875%\n",
      " | Epoch 4 | Loss: 0.009508537128567696 | Accuracy: 100.0%\n",
      " | Epoch 4 | Loss: 0.20160309970378876 | Accuracy: 96.875%\n"
     ]
    },
    {
     "name": "stderr",
     "output_type": "stream",
     "text": [
      "Epoch 4:  70%|██████████████████▊        | 1048/1501 [00:02<00:00, 548.87batch/s, accuracy=100.0%, loss=0.00789]"
     ]
    },
    {
     "name": "stdout",
     "output_type": "stream",
     "text": [
      " | Epoch 4 | Loss: 0.008040941320359707 | Accuracy: 100.0%\n",
      " | Epoch 4 | Loss: 0.010602296330034733 | Accuracy: 100.0%\n",
      " | Epoch 4 | Loss: 0.009855381213128567 | Accuracy: 100.0%\n",
      " | Epoch 4 | Loss: 0.008454060181975365 | Accuracy: 100.0%\n",
      " | Epoch 4 | Loss: 0.010670040734112263 | Accuracy: 100.0%\n",
      " | Epoch 4 | Loss: 0.00733380950987339 | Accuracy: 100.0%\n",
      " | Epoch 4 | Loss: 0.008476038463413715 | Accuracy: 100.0%\n",
      " | Epoch 4 | Loss: 0.008714551106095314 | Accuracy: 100.0%\n",
      " | Epoch 4 | Loss: 0.010100672952830791 | Accuracy: 100.0%\n",
      " | Epoch 4 | Loss: 0.007198507897555828 | Accuracy: 100.0%\n",
      " | Epoch 4 | Loss: 0.009464714676141739 | Accuracy: 100.0%\n",
      " | Epoch 4 | Loss: 0.24061784148216248 | Accuracy: 96.875%\n",
      " | Epoch 4 | Loss: 0.008628440089523792 | Accuracy: 100.0%\n",
      " | Epoch 4 | Loss: 0.008689447306096554 | Accuracy: 100.0%\n",
      " | Epoch 4 | Loss: 0.010225573554635048 | Accuracy: 100.0%\n",
      " | Epoch 4 | Loss: 0.008296417072415352 | Accuracy: 100.0%\n",
      " | Epoch 4 | Loss: 0.007985911332070827 | Accuracy: 100.0%\n",
      " | Epoch 4 | Loss: 0.008597802370786667 | Accuracy: 100.0%\n",
      " | Epoch 4 | Loss: 0.008578299544751644 | Accuracy: 100.0%\n",
      " | Epoch 4 | Loss: 0.010720564983785152 | Accuracy: 100.0%\n",
      " | Epoch 4 | Loss: 0.008755270391702652 | Accuracy: 100.0%\n",
      " | Epoch 4 | Loss: 0.009841060265898705 | Accuracy: 100.0%\n",
      " | Epoch 4 | Loss: 0.007635149173438549 | Accuracy: 100.0%\n",
      " | Epoch 4 | Loss: 0.008692188188433647 | Accuracy: 100.0%\n",
      " | Epoch 4 | Loss: 0.008558617904782295 | Accuracy: 100.0%\n",
      " | Epoch 4 | Loss: 0.007997976616024971 | Accuracy: 100.0%\n",
      " | Epoch 4 | Loss: 0.007319569122046232 | Accuracy: 100.0%\n",
      " | Epoch 4 | Loss: 0.008574610576033592 | Accuracy: 100.0%\n",
      " | Epoch 4 | Loss: 0.007389876991510391 | Accuracy: 100.0%\n",
      " | Epoch 4 | Loss: 0.009954898618161678 | Accuracy: 100.0%\n",
      " | Epoch 4 | Loss: 0.007228507660329342 | Accuracy: 100.0%\n",
      " | Epoch 4 | Loss: 0.007693594787269831 | Accuracy: 100.0%\n",
      " | Epoch 4 | Loss: 0.006958989892154932 | Accuracy: 100.0%\n",
      " | Epoch 4 | Loss: 0.007751245051622391 | Accuracy: 100.0%\n",
      " | Epoch 4 | Loss: 0.20163844525814056 | Accuracy: 96.875%\n",
      " | Epoch 4 | Loss: 0.0063394284807145596 | Accuracy: 100.0%\n",
      " | Epoch 4 | Loss: 0.009075265377759933 | Accuracy: 100.0%\n",
      " | Epoch 4 | Loss: 0.0070113204419612885 | Accuracy: 100.0%\n",
      " | Epoch 4 | Loss: 0.008480723015964031 | Accuracy: 100.0%\n",
      " | Epoch 4 | Loss: 0.008624223992228508 | Accuracy: 100.0%\n",
      " | Epoch 4 | Loss: 0.19277285039424896 | Accuracy: 96.875%\n",
      " | Epoch 4 | Loss: 0.006116553675383329 | Accuracy: 100.0%\n",
      " | Epoch 4 | Loss: 0.00691464776173234 | Accuracy: 100.0%\n",
      " | Epoch 4 | Loss: 0.008425327949225903 | Accuracy: 100.0%\n",
      " | Epoch 4 | Loss: 0.21765679121017456 | Accuracy: 96.875%\n",
      " | Epoch 4 | Loss: 0.005736387334764004 | Accuracy: 100.0%\n",
      " | Epoch 4 | Loss: 0.005879966076463461 | Accuracy: 100.0%\n",
      " | Epoch 4 | Loss: 0.006511459592729807 | Accuracy: 100.0%\n",
      " | Epoch 4 | Loss: 0.006751409266144037 | Accuracy: 100.0%\n",
      " | Epoch 4 | Loss: 0.006323580164462328 | Accuracy: 100.0%\n",
      " | Epoch 4 | Loss: 0.009838782250881195 | Accuracy: 100.0%\n",
      " | Epoch 4 | Loss: 0.008792059496045113 | Accuracy: 100.0%\n",
      " | Epoch 4 | Loss: 0.007665947545319796 | Accuracy: 100.0%\n",
      " | Epoch 4 | Loss: 0.009482734836637974 | Accuracy: 100.0%\n",
      " | Epoch 4 | Loss: 0.006592444144189358 | Accuracy: 100.0%\n",
      " | Epoch 4 | Loss: 0.006752793677151203 | Accuracy: 100.0%\n",
      " | Epoch 4 | Loss: 0.24538861215114594 | Accuracy: 96.875%\n",
      " | Epoch 4 | Loss: 0.008645206689834595 | Accuracy: 100.0%\n",
      " | Epoch 4 | Loss: 0.008662763051688671 | Accuracy: 100.0%\n",
      " | Epoch 4 | Loss: 0.0069839539937675 | Accuracy: 100.0%\n",
      " | Epoch 4 | Loss: 0.008358988910913467 | Accuracy: 100.0%\n",
      " | Epoch 4 | Loss: 0.23241114616394043 | Accuracy: 96.875%\n",
      " | Epoch 4 | Loss: 0.006565993186086416 | Accuracy: 100.0%\n",
      " | Epoch 4 | Loss: 0.006667308043688536 | Accuracy: 100.0%\n",
      " | Epoch 4 | Loss: 0.007800903171300888 | Accuracy: 100.0%\n",
      " | Epoch 4 | Loss: 0.00752535043284297 | Accuracy: 100.0%\n",
      " | Epoch 4 | Loss: 0.006661806721240282 | Accuracy: 100.0%\n",
      " | Epoch 4 | Loss: 0.007704379502683878 | Accuracy: 100.0%\n",
      " | Epoch 4 | Loss: 0.005911476444453001 | Accuracy: 100.0%\n",
      " | Epoch 4 | Loss: 0.006460679695010185 | Accuracy: 100.0%\n",
      " | Epoch 4 | Loss: 0.006114073563367128 | Accuracy: 100.0%\n",
      " | Epoch 4 | Loss: 0.008599343709647655 | Accuracy: 100.0%\n",
      " | Epoch 4 | Loss: 0.006309623830020428 | Accuracy: 100.0%\n",
      " | Epoch 4 | Loss: 0.008398500271141529 | Accuracy: 100.0%\n",
      " | Epoch 4 | Loss: 0.232414111495018 | Accuracy: 96.875%\n",
      " | Epoch 4 | Loss: 0.2325064092874527 | Accuracy: 96.875%\n",
      " | Epoch 4 | Loss: 0.007014603354036808 | Accuracy: 100.0%\n",
      " | Epoch 4 | Loss: 0.006960116792470217 | Accuracy: 100.0%\n",
      " | Epoch 4 | Loss: 0.008090721443295479 | Accuracy: 100.0%\n",
      " | Epoch 4 | Loss: 0.0063355183228850365 | Accuracy: 100.0%\n",
      " | Epoch 4 | Loss: 0.1980717033147812 | Accuracy: 96.875%\n",
      " | Epoch 4 | Loss: 0.007282373961061239 | Accuracy: 100.0%\n",
      " | Epoch 4 | Loss: 0.008502129465341568 | Accuracy: 100.0%\n",
      " | Epoch 4 | Loss: 0.007378308568149805 | Accuracy: 100.0%\n",
      " | Epoch 4 | Loss: 0.007219838444143534 | Accuracy: 100.0%\n",
      " | Epoch 4 | Loss: 0.007202222477644682 | Accuracy: 100.0%\n",
      " | Epoch 4 | Loss: 0.006772611290216446 | Accuracy: 100.0%\n",
      " | Epoch 4 | Loss: 0.009819966740906239 | Accuracy: 100.0%\n",
      " | Epoch 4 | Loss: 0.007831158116459846 | Accuracy: 100.0%\n",
      " | Epoch 4 | Loss: 0.0076766237616539 | Accuracy: 100.0%\n",
      " | Epoch 4 | Loss: 0.00643789442256093 | Accuracy: 100.0%\n",
      " | Epoch 4 | Loss: 0.00676825363188982 | Accuracy: 100.0%\n",
      " | Epoch 4 | Loss: 0.0071096825413405895 | Accuracy: 100.0%\n",
      " | Epoch 4 | Loss: 0.0060156541876494884 | Accuracy: 100.0%\n",
      " | Epoch 4 | Loss: 0.007603740785270929 | Accuracy: 100.0%\n",
      " | Epoch 4 | Loss: 0.006826468743383884 | Accuracy: 100.0%\n",
      " | Epoch 4 | Loss: 0.17556872963905334 | Accuracy: 96.875%\n",
      " | Epoch 4 | Loss: 0.008077435195446014 | Accuracy: 100.0%\n",
      " | Epoch 4 | Loss: 0.0066560483537614346 | Accuracy: 100.0%\n",
      " | Epoch 4 | Loss: 0.008318626321852207 | Accuracy: 100.0%\n",
      " | Epoch 4 | Loss: 0.2374313771724701 | Accuracy: 96.875%\n",
      " | Epoch 4 | Loss: 0.009065008722245693 | Accuracy: 100.0%\n",
      " | Epoch 4 | Loss: 0.4201905429363251 | Accuracy: 93.75%\n",
      " | Epoch 4 | Loss: 0.007421119138598442 | Accuracy: 100.0%\n",
      " | Epoch 4 | Loss: 0.00906282290816307 | Accuracy: 100.0%\n",
      " | Epoch 4 | Loss: 0.007923834957182407 | Accuracy: 100.0%\n",
      " | Epoch 4 | Loss: 0.007686954457312822 | Accuracy: 100.0%\n",
      " | Epoch 4 | Loss: 0.007223795633763075 | Accuracy: 100.0%\n",
      " | Epoch 4 | Loss: 0.008528969250619411 | Accuracy: 100.0%\n",
      " | Epoch 4 | Loss: 0.008416486904025078 | Accuracy: 100.0%\n",
      " | Epoch 4 | Loss: 0.20374137163162231 | Accuracy: 96.875%\n",
      " | Epoch 4 | Loss: 0.006459086202085018 | Accuracy: 100.0%\n",
      " | Epoch 4 | Loss: 0.006902758032083511 | Accuracy: 100.0%\n",
      " | Epoch 4 | Loss: 0.2537548840045929 | Accuracy: 96.875%\n",
      " | Epoch 4 | Loss: 0.008597662672400475 | Accuracy: 100.0%\n",
      " | Epoch 4 | Loss: 0.008124949410557747 | Accuracy: 100.0%\n",
      " | Epoch 4 | Loss: 0.008223745971918106 | Accuracy: 100.0%\n",
      " | Epoch 4 | Loss: 0.007823157124221325 | Accuracy: 100.0%\n",
      " | Epoch 4 | Loss: 0.007890217006206512 | Accuracy: 100.0%\n"
     ]
    },
    {
     "name": "stderr",
     "output_type": "stream",
     "text": [
      "Epoch 4:  78%|████████████████████▉      | 1167/1501 [00:02<00:00, 570.10batch/s, accuracy=100.0%, loss=0.00833]"
     ]
    },
    {
     "name": "stdout",
     "output_type": "stream",
     "text": [
      " | Epoch 4 | Loss: 0.008004525676369667 | Accuracy: 100.0%\n",
      " | Epoch 4 | Loss: 0.007018466480076313 | Accuracy: 100.0%\n",
      " | Epoch 4 | Loss: 0.00703401817008853 | Accuracy: 100.0%\n",
      " | Epoch 4 | Loss: 0.009428548626601696 | Accuracy: 100.0%\n",
      " | Epoch 4 | Loss: 0.2187914252281189 | Accuracy: 96.875%\n",
      " | Epoch 4 | Loss: 0.214543879032135 | Accuracy: 96.875%\n",
      " | Epoch 4 | Loss: 0.007546950597316027 | Accuracy: 100.0%\n",
      " | Epoch 4 | Loss: 0.008041465654969215 | Accuracy: 100.0%\n",
      " | Epoch 4 | Loss: 0.39101362228393555 | Accuracy: 93.75%\n",
      " | Epoch 4 | Loss: 0.009702368639409542 | Accuracy: 100.0%\n",
      " | Epoch 4 | Loss: 0.2096753716468811 | Accuracy: 96.875%\n",
      " | Epoch 4 | Loss: 0.007414048537611961 | Accuracy: 100.0%\n",
      " | Epoch 4 | Loss: 0.1971542239189148 | Accuracy: 96.875%\n",
      " | Epoch 4 | Loss: 0.007635188288986683 | Accuracy: 100.0%\n",
      " | Epoch 4 | Loss: 0.00866690743714571 | Accuracy: 100.0%\n",
      " | Epoch 4 | Loss: 0.009908757172524929 | Accuracy: 100.0%\n",
      " | Epoch 4 | Loss: 0.1856287568807602 | Accuracy: 96.875%\n",
      " | Epoch 4 | Loss: 0.008147690445184708 | Accuracy: 100.0%\n",
      " | Epoch 4 | Loss: 0.007564974948763847 | Accuracy: 100.0%\n",
      " | Epoch 4 | Loss: 0.008468828164041042 | Accuracy: 100.0%\n",
      " | Epoch 4 | Loss: 0.008514625951647758 | Accuracy: 100.0%\n",
      " | Epoch 4 | Loss: 0.010184632614254951 | Accuracy: 100.0%\n",
      " | Epoch 4 | Loss: 0.009532185271382332 | Accuracy: 100.0%\n",
      " | Epoch 4 | Loss: 0.18093885481357574 | Accuracy: 96.875%\n",
      " | Epoch 4 | Loss: 0.009208525530993938 | Accuracy: 100.0%\n",
      " | Epoch 4 | Loss: 0.015332064591348171 | Accuracy: 100.0%\n",
      " | Epoch 4 | Loss: 0.008389808237552643 | Accuracy: 100.0%\n",
      " | Epoch 4 | Loss: 0.008267031982541084 | Accuracy: 100.0%\n",
      " | Epoch 4 | Loss: 0.011224588379263878 | Accuracy: 100.0%\n",
      " | Epoch 4 | Loss: 0.010060315951704979 | Accuracy: 100.0%\n",
      " | Epoch 4 | Loss: 0.009210142306983471 | Accuracy: 100.0%\n",
      " | Epoch 4 | Loss: 0.00846216268837452 | Accuracy: 100.0%\n",
      " | Epoch 4 | Loss: 0.1818033754825592 | Accuracy: 96.875%\n",
      " | Epoch 4 | Loss: 0.010820392519235611 | Accuracy: 100.0%\n",
      " | Epoch 4 | Loss: 0.009616387076675892 | Accuracy: 100.0%\n",
      " | Epoch 4 | Loss: 0.007149670273065567 | Accuracy: 100.0%\n",
      " | Epoch 4 | Loss: 0.010018759407103062 | Accuracy: 100.0%\n",
      " | Epoch 4 | Loss: 0.009717916138470173 | Accuracy: 100.0%\n",
      " | Epoch 4 | Loss: 0.008799216710031033 | Accuracy: 100.0%\n",
      " | Epoch 4 | Loss: 0.008007902652025223 | Accuracy: 100.0%\n",
      " | Epoch 4 | Loss: 0.010624534450471401 | Accuracy: 100.0%\n",
      " | Epoch 4 | Loss: 0.008737006224691868 | Accuracy: 100.0%\n",
      " | Epoch 4 | Loss: 0.25436756014823914 | Accuracy: 96.875%\n",
      " | Epoch 4 | Loss: 0.010022535920143127 | Accuracy: 100.0%\n",
      " | Epoch 4 | Loss: 0.006149968132376671 | Accuracy: 100.0%\n",
      " | Epoch 4 | Loss: 0.008970744907855988 | Accuracy: 100.0%\n",
      " | Epoch 4 | Loss: 0.009181715548038483 | Accuracy: 100.0%\n",
      " | Epoch 4 | Loss: 0.008566693402826786 | Accuracy: 100.0%\n",
      " | Epoch 4 | Loss: 0.007836620323359966 | Accuracy: 100.0%\n",
      " | Epoch 4 | Loss: 0.00892339926213026 | Accuracy: 100.0%\n",
      " | Epoch 4 | Loss: 0.007021838799118996 | Accuracy: 100.0%\n",
      " | Epoch 4 | Loss: 0.010346132330596447 | Accuracy: 100.0%\n",
      " | Epoch 4 | Loss: 0.007653859909623861 | Accuracy: 100.0%\n",
      " | Epoch 4 | Loss: 0.009020501747727394 | Accuracy: 100.0%\n",
      " | Epoch 4 | Loss: 0.009067914448678493 | Accuracy: 100.0%\n",
      " | Epoch 4 | Loss: 0.009206308983266354 | Accuracy: 100.0%\n",
      " | Epoch 4 | Loss: 0.009263554587960243 | Accuracy: 100.0%\n",
      " | Epoch 4 | Loss: 0.008973808959126472 | Accuracy: 100.0%\n",
      " | Epoch 4 | Loss: 0.008093991316854954 | Accuracy: 100.0%\n",
      " | Epoch 4 | Loss: 0.008132402785122395 | Accuracy: 100.0%\n",
      " | Epoch 4 | Loss: 0.007352094631642103 | Accuracy: 100.0%\n",
      " | Epoch 4 | Loss: 0.007026375271379948 | Accuracy: 100.0%\n",
      " | Epoch 4 | Loss: 0.0069224052131175995 | Accuracy: 100.0%\n",
      " | Epoch 4 | Loss: 0.2303462028503418 | Accuracy: 96.875%\n",
      " | Epoch 4 | Loss: 0.008877735584974289 | Accuracy: 100.0%\n",
      " | Epoch 4 | Loss: 0.17919296026229858 | Accuracy: 96.875%\n",
      " | Epoch 4 | Loss: 0.007964997552335262 | Accuracy: 100.0%\n",
      " | Epoch 4 | Loss: 0.008284363895654678 | Accuracy: 100.0%\n",
      " | Epoch 4 | Loss: 0.22066593170166016 | Accuracy: 96.875%\n",
      " | Epoch 4 | Loss: 0.007110848091542721 | Accuracy: 100.0%\n",
      " | Epoch 4 | Loss: 0.19082555174827576 | Accuracy: 96.875%\n",
      " | Epoch 4 | Loss: 0.007426160387694836 | Accuracy: 100.0%\n",
      " | Epoch 4 | Loss: 0.009270736947655678 | Accuracy: 100.0%\n",
      " | Epoch 4 | Loss: 0.008756989613175392 | Accuracy: 100.0%\n",
      " | Epoch 4 | Loss: 0.007823769003152847 | Accuracy: 100.0%\n",
      " | Epoch 4 | Loss: 0.007684916257858276 | Accuracy: 100.0%\n",
      " | Epoch 4 | Loss: 0.011859224177896976 | Accuracy: 100.0%\n",
      " | Epoch 4 | Loss: 0.0070571317337453365 | Accuracy: 100.0%\n",
      " | Epoch 4 | Loss: 0.009743780829012394 | Accuracy: 100.0%\n",
      " | Epoch 4 | Loss: 0.015111968852579594 | Accuracy: 100.0%\n",
      " | Epoch 4 | Loss: 0.25750547647476196 | Accuracy: 96.875%\n",
      " | Epoch 4 | Loss: 0.006442167796194553 | Accuracy: 100.0%\n",
      " | Epoch 4 | Loss: 0.008522584103047848 | Accuracy: 100.0%\n",
      " | Epoch 4 | Loss: 0.008076709695160389 | Accuracy: 100.0%\n",
      " | Epoch 4 | Loss: 0.008108249865472317 | Accuracy: 100.0%\n",
      " | Epoch 4 | Loss: 0.007108383346349001 | Accuracy: 100.0%\n",
      " | Epoch 4 | Loss: 0.006632479373365641 | Accuracy: 100.0%\n",
      " | Epoch 4 | Loss: 0.2509104907512665 | Accuracy: 96.875%\n",
      " | Epoch 4 | Loss: 0.008048484101891518 | Accuracy: 100.0%\n",
      " | Epoch 4 | Loss: 0.009646343067288399 | Accuracy: 100.0%\n",
      " | Epoch 4 | Loss: 0.0064094820991158485 | Accuracy: 100.0%\n",
      " | Epoch 4 | Loss: 0.007636933121830225 | Accuracy: 100.0%\n",
      " | Epoch 4 | Loss: 0.007222376763820648 | Accuracy: 100.0%\n",
      " | Epoch 4 | Loss: 0.008455854840576649 | Accuracy: 100.0%\n",
      " | Epoch 4 | Loss: 0.008315066806972027 | Accuracy: 100.0%\n",
      " | Epoch 4 | Loss: 0.007626465521752834 | Accuracy: 100.0%\n",
      " | Epoch 4 | Loss: 0.00787449348717928 | Accuracy: 100.0%\n",
      " | Epoch 4 | Loss: 0.008152613416314125 | Accuracy: 100.0%\n",
      " | Epoch 4 | Loss: 0.008018877357244492 | Accuracy: 100.0%\n",
      " | Epoch 4 | Loss: 0.22004254162311554 | Accuracy: 96.875%\n",
      " | Epoch 4 | Loss: 0.007829251699149609 | Accuracy: 100.0%\n",
      " | Epoch 4 | Loss: 0.007848409935832024 | Accuracy: 100.0%\n",
      " | Epoch 4 | Loss: 0.008702804334461689 | Accuracy: 100.0%\n",
      " | Epoch 4 | Loss: 0.0071358876302838326 | Accuracy: 100.0%\n",
      " | Epoch 4 | Loss: 0.0063437228091061115 | Accuracy: 100.0%\n",
      " | Epoch 4 | Loss: 0.2271503061056137 | Accuracy: 96.875%\n",
      " | Epoch 4 | Loss: 0.009033668786287308 | Accuracy: 100.0%\n",
      " | Epoch 4 | Loss: 0.1908767819404602 | Accuracy: 96.875%\n",
      " | Epoch 4 | Loss: 0.007177955936640501 | Accuracy: 100.0%\n",
      " | Epoch 4 | Loss: 0.007009903434664011 | Accuracy: 100.0%\n",
      " | Epoch 4 | Loss: 0.007900229655206203 | Accuracy: 100.0%\n",
      " | Epoch 4 | Loss: 0.009080907329916954 | Accuracy: 100.0%\n",
      " | Epoch 4 | Loss: 0.007593899965286255 | Accuracy: 100.0%\n",
      " | Epoch 4 | Loss: 0.24528180062770844 | Accuracy: 96.875%\n",
      " | Epoch 4 | Loss: 0.3844027519226074 | Accuracy: 93.75%\n",
      " | Epoch 4 | Loss: 0.00842593889683485 | Accuracy: 100.0%\n",
      " | Epoch 4 | Loss: 0.007253808900713921 | Accuracy: 100.0%\n",
      " | Epoch 4 | Loss: 0.008329140953719616 | Accuracy: 100.0%\n"
     ]
    },
    {
     "name": "stderr",
     "output_type": "stream",
     "text": [
      "Epoch 4:  85%|███████████████████████    | 1283/1501 [00:03<00:00, 501.77batch/s, accuracy=100.0%, loss=0.00996]"
     ]
    },
    {
     "name": "stdout",
     "output_type": "stream",
     "text": [
      " | Epoch 4 | Loss: 0.008224749937653542 | Accuracy: 100.0%\n",
      " | Epoch 4 | Loss: 0.007448691874742508 | Accuracy: 100.0%\n",
      " | Epoch 4 | Loss: 0.007975555956363678 | Accuracy: 100.0%\n",
      " | Epoch 4 | Loss: 0.008540431037545204 | Accuracy: 100.0%\n",
      " | Epoch 4 | Loss: 0.007647007703781128 | Accuracy: 100.0%\n",
      " | Epoch 4 | Loss: 0.008968302048742771 | Accuracy: 100.0%\n",
      " | Epoch 4 | Loss: 0.009378544986248016 | Accuracy: 100.0%\n",
      " | Epoch 4 | Loss: 0.3786315321922302 | Accuracy: 93.75%\n",
      " | Epoch 4 | Loss: 0.22123803198337555 | Accuracy: 96.875%\n",
      " | Epoch 4 | Loss: 0.009708819910883904 | Accuracy: 100.0%\n",
      " | Epoch 4 | Loss: 0.008059332147240639 | Accuracy: 100.0%\n",
      " | Epoch 4 | Loss: 0.009142236784100533 | Accuracy: 100.0%\n",
      " | Epoch 4 | Loss: 0.009979795664548874 | Accuracy: 100.0%\n",
      " | Epoch 4 | Loss: 0.008607028983533382 | Accuracy: 100.0%\n",
      " | Epoch 4 | Loss: 0.008877859450876713 | Accuracy: 100.0%\n",
      " | Epoch 4 | Loss: 0.013828464783728123 | Accuracy: 100.0%\n",
      " | Epoch 4 | Loss: 0.010474699549376965 | Accuracy: 100.0%\n",
      " | Epoch 4 | Loss: 0.007911216467618942 | Accuracy: 100.0%\n",
      " | Epoch 4 | Loss: 0.23508575558662415 | Accuracy: 96.875%\n",
      " | Epoch 4 | Loss: 0.008128329180181026 | Accuracy: 100.0%\n",
      " | Epoch 4 | Loss: 0.009677616879343987 | Accuracy: 100.0%\n",
      " | Epoch 4 | Loss: 0.009199121966958046 | Accuracy: 100.0%\n",
      " | Epoch 4 | Loss: 0.00974302925169468 | Accuracy: 100.0%\n",
      " | Epoch 4 | Loss: 0.009115155786275864 | Accuracy: 100.0%\n",
      " | Epoch 4 | Loss: 0.007965769618749619 | Accuracy: 100.0%\n",
      " | Epoch 4 | Loss: 0.008619447238743305 | Accuracy: 100.0%\n",
      " | Epoch 4 | Loss: 0.009914291091263294 | Accuracy: 100.0%\n",
      " | Epoch 4 | Loss: 0.18395210802555084 | Accuracy: 96.875%\n",
      " | Epoch 4 | Loss: 0.008639336563646793 | Accuracy: 100.0%\n",
      " | Epoch 4 | Loss: 0.008794651366770267 | Accuracy: 100.0%\n",
      " | Epoch 4 | Loss: 0.0075140404514968395 | Accuracy: 100.0%\n",
      " | Epoch 4 | Loss: 0.00970156118273735 | Accuracy: 100.0%\n",
      " | Epoch 4 | Loss: 0.008203652687370777 | Accuracy: 100.0%\n",
      " | Epoch 4 | Loss: 0.008649486117064953 | Accuracy: 100.0%\n",
      " | Epoch 4 | Loss: 0.008113216608762741 | Accuracy: 100.0%\n",
      " | Epoch 4 | Loss: 0.008746734820306301 | Accuracy: 100.0%\n",
      " | Epoch 4 | Loss: 0.00795712135732174 | Accuracy: 100.0%\n",
      " | Epoch 4 | Loss: 0.008032407611608505 | Accuracy: 100.0%\n",
      " | Epoch 4 | Loss: 0.007761810440570116 | Accuracy: 100.0%\n",
      " | Epoch 4 | Loss: 0.008074944838881493 | Accuracy: 100.0%\n",
      " | Epoch 4 | Loss: 0.008030470460653305 | Accuracy: 100.0%\n",
      " | Epoch 4 | Loss: 0.007887177169322968 | Accuracy: 100.0%\n",
      " | Epoch 4 | Loss: 0.0069634513929486275 | Accuracy: 100.0%\n",
      " | Epoch 4 | Loss: 0.007464008871465921 | Accuracy: 100.0%\n",
      " | Epoch 4 | Loss: 0.008426055312156677 | Accuracy: 100.0%\n",
      " | Epoch 4 | Loss: 0.006881659384816885 | Accuracy: 100.0%\n",
      " | Epoch 4 | Loss: 0.007836516946554184 | Accuracy: 100.0%\n",
      " | Epoch 4 | Loss: 0.007797738537192345 | Accuracy: 100.0%\n",
      " | Epoch 4 | Loss: 0.007034020498394966 | Accuracy: 100.0%\n",
      " | Epoch 4 | Loss: 0.007022585719823837 | Accuracy: 100.0%\n",
      " | Epoch 4 | Loss: 0.007525805849581957 | Accuracy: 100.0%\n",
      " | Epoch 4 | Loss: 0.008958117105066776 | Accuracy: 100.0%\n",
      " | Epoch 4 | Loss: 0.007618437986820936 | Accuracy: 100.0%\n",
      " | Epoch 4 | Loss: 0.00990084744989872 | Accuracy: 100.0%\n",
      " | Epoch 4 | Loss: 0.006461227312684059 | Accuracy: 100.0%\n",
      " | Epoch 4 | Loss: 0.007967770099639893 | Accuracy: 100.0%\n",
      " | Epoch 4 | Loss: 0.00700510386377573 | Accuracy: 100.0%\n",
      " | Epoch 4 | Loss: 0.19782021641731262 | Accuracy: 96.875%\n",
      " | Epoch 4 | Loss: 0.006630649324506521 | Accuracy: 100.0%\n",
      " | Epoch 4 | Loss: 0.006610294338315725 | Accuracy: 100.0%\n",
      " | Epoch 4 | Loss: 0.007986869663000107 | Accuracy: 100.0%\n",
      " | Epoch 4 | Loss: 0.008077548816800117 | Accuracy: 100.0%\n",
      " | Epoch 4 | Loss: 0.0067090303637087345 | Accuracy: 100.0%\n",
      " | Epoch 4 | Loss: 0.00960857979953289 | Accuracy: 100.0%\n",
      " | Epoch 4 | Loss: 0.006757265888154507 | Accuracy: 100.0%\n",
      " | Epoch 4 | Loss: 0.006232868414372206 | Accuracy: 100.0%\n",
      " | Epoch 4 | Loss: 0.2604505717754364 | Accuracy: 96.875%\n",
      " | Epoch 4 | Loss: 0.20592917501926422 | Accuracy: 96.875%\n",
      " | Epoch 4 | Loss: 0.19148986041545868 | Accuracy: 96.875%\n",
      " | Epoch 4 | Loss: 0.20565655827522278 | Accuracy: 96.875%\n",
      " | Epoch 4 | Loss: 0.0068852221593260765 | Accuracy: 100.0%\n",
      " | Epoch 4 | Loss: 0.00742041040211916 | Accuracy: 100.0%\n",
      " | Epoch 4 | Loss: 0.007113280240446329 | Accuracy: 100.0%\n",
      " | Epoch 4 | Loss: 0.007110995706170797 | Accuracy: 100.0%\n",
      " | Epoch 4 | Loss: 0.20229464769363403 | Accuracy: 96.875%\n",
      " | Epoch 4 | Loss: 0.007919074967503548 | Accuracy: 100.0%\n",
      " | Epoch 4 | Loss: 0.006974145770072937 | Accuracy: 100.0%\n",
      " | Epoch 4 | Loss: 0.009298311546444893 | Accuracy: 100.0%\n",
      " | Epoch 4 | Loss: 0.00717930868268013 | Accuracy: 100.0%\n",
      " | Epoch 4 | Loss: 0.008774681016802788 | Accuracy: 100.0%\n",
      " | Epoch 4 | Loss: 0.006740568671375513 | Accuracy: 100.0%\n",
      " | Epoch 4 | Loss: 0.006724370177835226 | Accuracy: 100.0%\n",
      " | Epoch 4 | Loss: 0.007072139997035265 | Accuracy: 100.0%\n",
      " | Epoch 4 | Loss: 0.0091962656006217 | Accuracy: 100.0%\n",
      " | Epoch 4 | Loss: 0.013338405638933182 | Accuracy: 100.0%\n",
      " | Epoch 4 | Loss: 0.00835791602730751 | Accuracy: 100.0%\n",
      " | Epoch 4 | Loss: 0.007824868895113468 | Accuracy: 100.0%\n",
      " | Epoch 4 | Loss: 0.009956824593245983 | Accuracy: 100.0%\n"
     ]
    },
    {
     "name": "stderr",
     "output_type": "stream",
     "text": [
      "Epoch 4:  93%|█████████████████████████  | 1394/1501 [00:03<00:00, 522.96batch/s, accuracy=100.0%, loss=0.00716]"
     ]
    },
    {
     "name": "stdout",
     "output_type": "stream",
     "text": [
      " | Epoch 4 | Loss: 0.007514095865190029 | Accuracy: 100.0%\n",
      " | Epoch 4 | Loss: 0.007982755079865456 | Accuracy: 100.0%\n",
      " | Epoch 4 | Loss: 0.031670864671468735 | Accuracy: 100.0%\n",
      " | Epoch 4 | Loss: 0.006522553041577339 | Accuracy: 100.0%\n",
      " | Epoch 4 | Loss: 0.0083613945171237 | Accuracy: 100.0%\n",
      " | Epoch 4 | Loss: 0.006910695694386959 | Accuracy: 100.0%\n",
      " | Epoch 4 | Loss: 0.23580223321914673 | Accuracy: 96.875%\n",
      " | Epoch 4 | Loss: 0.008158710785210133 | Accuracy: 100.0%\n",
      " | Epoch 4 | Loss: 0.006512338761240244 | Accuracy: 100.0%\n",
      " | Epoch 4 | Loss: 0.00643541757017374 | Accuracy: 100.0%\n",
      " | Epoch 4 | Loss: 0.20659777522087097 | Accuracy: 96.875%\n",
      " | Epoch 4 | Loss: 0.2015024572610855 | Accuracy: 96.875%\n",
      " | Epoch 4 | Loss: 0.23456937074661255 | Accuracy: 96.875%\n",
      " | Epoch 4 | Loss: 0.008143260143697262 | Accuracy: 100.0%\n",
      " | Epoch 4 | Loss: 0.00808852817863226 | Accuracy: 100.0%\n",
      " | Epoch 4 | Loss: 0.008954224176704884 | Accuracy: 100.0%\n",
      " | Epoch 4 | Loss: 0.008375918492674828 | Accuracy: 100.0%\n",
      " | Epoch 4 | Loss: 0.1979830265045166 | Accuracy: 96.875%\n",
      " | Epoch 4 | Loss: 0.0070038666017353535 | Accuracy: 100.0%\n",
      " | Epoch 4 | Loss: 0.008845754899084568 | Accuracy: 100.0%\n",
      " | Epoch 4 | Loss: 0.1829032599925995 | Accuracy: 96.875%\n",
      " | Epoch 4 | Loss: 0.00824789609760046 | Accuracy: 100.0%\n",
      " | Epoch 4 | Loss: 0.00822636391967535 | Accuracy: 100.0%\n",
      " | Epoch 4 | Loss: 0.007322661112993956 | Accuracy: 100.0%\n",
      " | Epoch 4 | Loss: 0.008742130361497402 | Accuracy: 100.0%\n",
      " | Epoch 4 | Loss: 0.008788663893938065 | Accuracy: 100.0%\n",
      " | Epoch 4 | Loss: 0.008748121559619904 | Accuracy: 100.0%\n",
      " | Epoch 4 | Loss: 0.010280728340148926 | Accuracy: 100.0%\n",
      " | Epoch 4 | Loss: 0.011489479802548885 | Accuracy: 100.0%\n",
      " | Epoch 4 | Loss: 0.227355495095253 | Accuracy: 96.875%\n",
      " | Epoch 4 | Loss: 0.007056140340864658 | Accuracy: 100.0%\n",
      " | Epoch 4 | Loss: 0.011685053817927837 | Accuracy: 100.0%\n",
      " | Epoch 4 | Loss: 0.009102970361709595 | Accuracy: 100.0%\n",
      " | Epoch 4 | Loss: 0.008929439820349216 | Accuracy: 100.0%\n",
      " | Epoch 4 | Loss: 0.008650594390928745 | Accuracy: 100.0%\n",
      " | Epoch 4 | Loss: 0.009772531688213348 | Accuracy: 100.0%\n",
      " | Epoch 4 | Loss: 0.007560382597148418 | Accuracy: 100.0%\n",
      " | Epoch 4 | Loss: 0.19402435421943665 | Accuracy: 96.875%\n",
      " | Epoch 4 | Loss: 0.008032438345253468 | Accuracy: 100.0%\n",
      " | Epoch 4 | Loss: 0.008054178208112717 | Accuracy: 100.0%\n",
      " | Epoch 4 | Loss: 0.008240212686359882 | Accuracy: 100.0%\n",
      " | Epoch 4 | Loss: 0.007449981290847063 | Accuracy: 100.0%\n",
      " | Epoch 4 | Loss: 0.007983616553246975 | Accuracy: 100.0%\n",
      " | Epoch 4 | Loss: 0.24456173181533813 | Accuracy: 96.875%\n",
      " | Epoch 4 | Loss: 0.008448449894785881 | Accuracy: 100.0%\n",
      " | Epoch 4 | Loss: 0.008068214170634747 | Accuracy: 100.0%\n",
      " | Epoch 4 | Loss: 0.006731705274432898 | Accuracy: 100.0%\n",
      " | Epoch 4 | Loss: 0.00698806019499898 | Accuracy: 100.0%\n",
      " | Epoch 4 | Loss: 0.24679160118103027 | Accuracy: 96.875%\n",
      " | Epoch 4 | Loss: 0.00724803889170289 | Accuracy: 100.0%\n",
      " | Epoch 4 | Loss: 0.00788650382310152 | Accuracy: 100.0%\n",
      " | Epoch 4 | Loss: 0.007157666143029928 | Accuracy: 100.0%\n",
      " | Epoch 4 | Loss: 0.007532153278589249 | Accuracy: 100.0%\n",
      " | Epoch 4 | Loss: 0.0071165114641189575 | Accuracy: 100.0%\n",
      " | Epoch 4 | Loss: 0.00825956929475069 | Accuracy: 100.0%\n",
      " | Epoch 4 | Loss: 0.007985991425812244 | Accuracy: 100.0%\n",
      " | Epoch 4 | Loss: 0.006662867963314056 | Accuracy: 100.0%\n",
      " | Epoch 4 | Loss: 0.008686302229762077 | Accuracy: 100.0%\n",
      " | Epoch 4 | Loss: 0.007394285872578621 | Accuracy: 100.0%\n",
      " | Epoch 4 | Loss: 0.007490344345569611 | Accuracy: 100.0%\n",
      " | Epoch 4 | Loss: 0.00860162265598774 | Accuracy: 100.0%\n",
      " | Epoch 4 | Loss: 0.24168522655963898 | Accuracy: 96.875%\n",
      " | Epoch 4 | Loss: 0.006909096613526344 | Accuracy: 100.0%\n",
      " | Epoch 4 | Loss: 0.007390985265374184 | Accuracy: 100.0%\n",
      " | Epoch 4 | Loss: 0.00657383818179369 | Accuracy: 100.0%\n",
      " | Epoch 4 | Loss: 0.007548150140792131 | Accuracy: 100.0%\n",
      " | Epoch 4 | Loss: 0.007012916263192892 | Accuracy: 100.0%\n",
      " | Epoch 4 | Loss: 0.007895502261817455 | Accuracy: 100.0%\n",
      " | Epoch 4 | Loss: 0.006992244627326727 | Accuracy: 100.0%\n",
      " | Epoch 4 | Loss: 0.008298902772367 | Accuracy: 100.0%\n",
      " | Epoch 4 | Loss: 0.007632403634488583 | Accuracy: 100.0%\n",
      " | Epoch 4 | Loss: 0.006874594371765852 | Accuracy: 100.0%\n",
      " | Epoch 4 | Loss: 0.20497626066207886 | Accuracy: 96.875%\n",
      " | Epoch 4 | Loss: 0.0072839586064219475 | Accuracy: 100.0%\n",
      " | Epoch 4 | Loss: 0.009081045165657997 | Accuracy: 100.0%\n",
      " | Epoch 4 | Loss: 0.007738142274320126 | Accuracy: 100.0%\n",
      " | Epoch 4 | Loss: 0.2106156200170517 | Accuracy: 96.875%\n",
      " | Epoch 4 | Loss: 0.006764218211174011 | Accuracy: 100.0%\n",
      " | Epoch 4 | Loss: 0.22246335446834564 | Accuracy: 96.875%\n",
      " | Epoch 4 | Loss: 0.007579638157039881 | Accuracy: 100.0%\n",
      " | Epoch 4 | Loss: 0.007613091263920069 | Accuracy: 100.0%\n",
      " | Epoch 4 | Loss: 0.008054761216044426 | Accuracy: 100.0%\n",
      " | Epoch 4 | Loss: 0.008688396774232388 | Accuracy: 100.0%\n",
      " | Epoch 4 | Loss: 0.01069031935185194 | Accuracy: 100.0%\n",
      " | Epoch 4 | Loss: 0.007977679371833801 | Accuracy: 100.0%\n",
      " | Epoch 4 | Loss: 0.008460945449769497 | Accuracy: 100.0%\n",
      " | Epoch 4 | Loss: 0.007616002578288317 | Accuracy: 100.0%\n",
      " | Epoch 4 | Loss: 0.006688786670565605 | Accuracy: 100.0%\n",
      " | Epoch 4 | Loss: 0.19720841944217682 | Accuracy: 96.875%\n",
      " | Epoch 4 | Loss: 0.007018003612756729 | Accuracy: 100.0%\n",
      " | Epoch 4 | Loss: 0.006799084134399891 | Accuracy: 100.0%\n",
      " | Epoch 4 | Loss: 0.007651172578334808 | Accuracy: 100.0%\n",
      " | Epoch 4 | Loss: 0.008448327891528606 | Accuracy: 100.0%\n",
      " | Epoch 4 | Loss: 0.006783111020922661 | Accuracy: 100.0%\n",
      " | Epoch 4 | Loss: 0.007192423567175865 | Accuracy: 100.0%\n",
      " | Epoch 4 | Loss: 0.009439961053431034 | Accuracy: 100.0%\n",
      " | Epoch 4 | Loss: 0.007161090616136789 | Accuracy: 100.0%\n",
      " | Epoch 4 | Loss: 0.01205957680940628 | Accuracy: 100.0%\n",
      " | Epoch 4 | Loss: 0.007125445641577244 | Accuracy: 100.0%\n",
      " | Epoch 4 | Loss: 0.008181853219866753 | Accuracy: 100.0%\n",
      " | Epoch 4 | Loss: 0.007624474819749594 | Accuracy: 100.0%\n",
      " | Epoch 4 | Loss: 0.4141438901424408 | Accuracy: 93.75%\n"
     ]
    },
    {
     "name": "stderr",
     "output_type": "stream",
     "text": [
      "Epoch 4:  96%|███████████████████████████▉ | 1448/1501 [00:03<00:00, 496.72batch/s, accuracy=93.75%, loss=0.393]"
     ]
    },
    {
     "name": "stdout",
     "output_type": "stream",
     "text": [
      " | Epoch 4 | Loss: 0.007158635184168816 | Accuracy: 100.0%\n",
      " | Epoch 4 | Loss: 0.00692237401381135 | Accuracy: 100.0%\n",
      " | Epoch 4 | Loss: 0.008126385509967804 | Accuracy: 100.0%\n",
      " | Epoch 4 | Loss: 0.006718469318002462 | Accuracy: 100.0%\n",
      " | Epoch 4 | Loss: 0.007307421416044235 | Accuracy: 100.0%\n",
      " | Epoch 4 | Loss: 0.008981611579656601 | Accuracy: 100.0%\n",
      " | Epoch 4 | Loss: 0.19189931452274323 | Accuracy: 96.875%\n",
      " | Epoch 4 | Loss: 0.007957075722515583 | Accuracy: 100.0%\n",
      " | Epoch 4 | Loss: 0.20259343087673187 | Accuracy: 96.875%\n",
      " | Epoch 4 | Loss: 0.007980389520525932 | Accuracy: 100.0%\n",
      " | Epoch 4 | Loss: 0.006980920676141977 | Accuracy: 100.0%\n",
      " | Epoch 4 | Loss: 0.007260453421622515 | Accuracy: 100.0%\n",
      " | Epoch 4 | Loss: 0.00761239230632782 | Accuracy: 100.0%\n",
      " | Epoch 4 | Loss: 0.008381468243896961 | Accuracy: 100.0%\n",
      " | Epoch 4 | Loss: 0.006632304284721613 | Accuracy: 100.0%\n",
      " | Epoch 4 | Loss: 0.006695046089589596 | Accuracy: 100.0%\n",
      " | Epoch 4 | Loss: 0.006856533233076334 | Accuracy: 100.0%\n",
      " | Epoch 4 | Loss: 0.23836535215377808 | Accuracy: 96.875%\n",
      " | Epoch 4 | Loss: 0.007602264638990164 | Accuracy: 100.0%\n",
      " | Epoch 4 | Loss: 0.006755412556231022 | Accuracy: 100.0%\n",
      " | Epoch 4 | Loss: 0.006308281794190407 | Accuracy: 100.0%\n",
      " | Epoch 4 | Loss: 0.007500024512410164 | Accuracy: 100.0%\n",
      " | Epoch 4 | Loss: 0.18437862396240234 | Accuracy: 96.875%\n",
      " | Epoch 4 | Loss: 0.0075171892531216145 | Accuracy: 100.0%\n",
      " | Epoch 4 | Loss: 0.01280844584107399 | Accuracy: 100.0%\n",
      " | Epoch 4 | Loss: 0.011168577708303928 | Accuracy: 100.0%\n",
      " | Epoch 4 | Loss: 0.0095164580270648 | Accuracy: 100.0%\n",
      " | Epoch 4 | Loss: 0.009740213863551617 | Accuracy: 100.0%\n",
      " | Epoch 4 | Loss: 0.007316474802792072 | Accuracy: 100.0%\n",
      " | Epoch 4 | Loss: 0.24877306818962097 | Accuracy: 96.875%\n",
      " | Epoch 4 | Loss: 0.6569072008132935 | Accuracy: 90.625%\n",
      " | Epoch 4 | Loss: 0.007323352620005608 | Accuracy: 100.0%\n",
      " | Epoch 4 | Loss: 0.007451904006302357 | Accuracy: 100.0%\n",
      " | Epoch 4 | Loss: 0.008782630786299706 | Accuracy: 100.0%\n",
      " | Epoch 4 | Loss: 0.1923939436674118 | Accuracy: 96.875%\n",
      " | Epoch 4 | Loss: 0.19082045555114746 | Accuracy: 96.875%\n",
      " | Epoch 4 | Loss: 0.010794985108077526 | Accuracy: 100.0%\n",
      " | Epoch 4 | Loss: 0.01034682895988226 | Accuracy: 100.0%\n",
      " | Epoch 4 | Loss: 0.010224814526736736 | Accuracy: 100.0%\n",
      " | Epoch 4 | Loss: 0.01228866446763277 | Accuracy: 100.0%\n",
      " | Epoch 4 | Loss: 0.008992282673716545 | Accuracy: 100.0%\n",
      " | Epoch 4 | Loss: 0.0091039277613163 | Accuracy: 100.0%\n",
      " | Epoch 4 | Loss: 0.009703448973596096 | Accuracy: 100.0%\n",
      " | Epoch 4 | Loss: 0.009207108058035374 | Accuracy: 100.0%\n",
      " | Epoch 4 | Loss: 0.17563241720199585 | Accuracy: 96.875%\n",
      " | Epoch 4 | Loss: 0.01047505997121334 | Accuracy: 100.0%\n",
      " | Epoch 4 | Loss: 0.00986073724925518 | Accuracy: 100.0%\n",
      " | Epoch 4 | Loss: 0.010453969240188599 | Accuracy: 100.0%\n",
      " | Epoch 4 | Loss: 0.01103051658719778 | Accuracy: 100.0%\n",
      " | Epoch 4 | Loss: 0.010666039772331715 | Accuracy: 100.0%\n",
      " | Epoch 4 | Loss: 0.1781664341688156 | Accuracy: 96.875%\n",
      " | Epoch 4 | Loss: 0.010466440580785275 | Accuracy: 100.0%\n",
      " | Epoch 4 | Loss: 0.009910650551319122 | Accuracy: 100.0%\n",
      " | Epoch 4 | Loss: 0.009698726236820221 | Accuracy: 100.0%\n",
      " | Epoch 4 | Loss: 0.008550986647605896 | Accuracy: 100.0%\n",
      " | Epoch 4 | Loss: 0.24723458290100098 | Accuracy: 96.875%\n",
      " | Epoch 4 | Loss: 0.00946251954883337 | Accuracy: 100.0%\n",
      " | Epoch 4 | Loss: 0.009929653257131577 | Accuracy: 100.0%\n",
      " | Epoch 4 | Loss: 0.009105708450078964 | Accuracy: 100.0%\n",
      " | Epoch 4 | Loss: 0.00910455733537674 | Accuracy: 100.0%\n",
      " | Epoch 4 | Loss: 0.23608705401420593 | Accuracy: 96.875%\n",
      " | Epoch 4 | Loss: 0.012066354975104332 | Accuracy: 100.0%\n",
      " | Epoch 4 | Loss: 0.00985625758767128 | Accuracy: 100.0%\n",
      " | Epoch 4 | Loss: 0.19030001759529114 | Accuracy: 96.875%\n",
      " | Epoch 4 | Loss: 0.012144086882472038 | Accuracy: 100.0%\n",
      " | Epoch 4 | Loss: 0.009941496886312962 | Accuracy: 100.0%\n",
      " | Epoch 4 | Loss: 0.009929200634360313 | Accuracy: 100.0%\n",
      " | Epoch 4 | Loss: 0.009831283241510391 | Accuracy: 100.0%\n",
      " | Epoch 4 | Loss: 0.01030371431261301 | Accuracy: 100.0%\n",
      " | Epoch 4 | Loss: 0.00829628948122263 | Accuracy: 100.0%\n",
      " | Epoch 4 | Loss: 0.009023444727063179 | Accuracy: 100.0%\n",
      " | Epoch 4 | Loss: 0.009752720594406128 | Accuracy: 100.0%\n",
      " | Epoch 4 | Loss: 0.009063953533768654 | Accuracy: 100.0%\n",
      " | Epoch 4 | Loss: 0.011057970114052296 | Accuracy: 100.0%\n"
     ]
    },
    {
     "name": "stderr",
     "output_type": "stream",
     "text": [
      "Epoch 4: 100%|███████████████████████████| 1501/1501 [00:03<00:00, 412.07batch/s, accuracy=100.0%, loss=0.00599]"
     ]
    },
    {
     "name": "stdout",
     "output_type": "stream",
     "text": [
      " | Epoch 4 | Loss: 0.3932779133319855 | Accuracy: 93.75%\n",
      " | Epoch 4 | Loss: 0.00768623361364007 | Accuracy: 100.0%\n",
      " | Epoch 4 | Loss: 0.21029898524284363 | Accuracy: 96.875%\n",
      " | Epoch 4 | Loss: 0.2201111614704132 | Accuracy: 96.875%\n",
      " | Epoch 4 | Loss: 0.008911612443625927 | Accuracy: 100.0%\n",
      " | Epoch 4 | Loss: 0.00809417013078928 | Accuracy: 100.0%\n",
      " | Epoch 4 | Loss: 0.008130000904202461 | Accuracy: 100.0%\n",
      " | Epoch 4 | Loss: 0.009197287261486053 | Accuracy: 100.0%\n",
      " | Epoch 4 | Loss: 0.22252295911312103 | Accuracy: 96.875%\n",
      " | Epoch 4 | Loss: 0.011395758017897606 | Accuracy: 100.0%\n",
      " | Epoch 4 | Loss: 0.010211648419499397 | Accuracy: 100.0%\n",
      " | Epoch 4 | Loss: 0.00877825915813446 | Accuracy: 100.0%\n",
      " | Epoch 4 | Loss: 0.009420277550816536 | Accuracy: 100.0%\n",
      " | Epoch 4 | Loss: 0.009695248678326607 | Accuracy: 100.0%\n",
      " | Epoch 4 | Loss: 0.008766015991568565 | Accuracy: 100.0%\n",
      " | Epoch 4 | Loss: 0.18026353418827057 | Accuracy: 96.875%\n",
      " | Epoch 4 | Loss: 0.005993544589728117 | Accuracy: 100.0%\n"
     ]
    },
    {
     "name": "stderr",
     "output_type": "stream",
     "text": [
      "\n"
     ]
    }
   ],
   "source": [
    "model = model_factory(\"lenet\", trainset[0][0].shape, trainset.num_classes).to(device)\n",
    "trainer = Trainer(\n",
    "    trainset=trainset,\n",
    "    model=model,\n",
    "    batch_size=32,\n",
    "    optimizer=SGD(model.parameters(), lr=1e-3, weight_decay=1e-2, momentum=0.9),\n",
    "    device=device,\n",
    "    verbose=True\n",
    ")\n",
    "trainer.train(num_epochs=5)"
   ]
  },
  {
   "cell_type": "markdown",
   "id": "847db3fb-bac1-45f5-9a92-03991a599257",
   "metadata": {},
   "source": [
    "# Step 2"
   ]
  },
  {
   "cell_type": "code",
   "execution_count": 15,
   "id": "6e0821f4-7f7d-49c3-893b-9b03d604444f",
   "metadata": {},
   "outputs": [
    {
     "name": "stderr",
     "output_type": "stream",
     "text": [
      "Getting model outputs: 100%|██████████████████████████████████████████████| 751/751 [00:00<00:00, 959.72batch/s]\n",
      "/home/raayan/.conda/envs/george/lib/python3.13/site-packages/sklearn/utils/deprecation.py:151: FutureWarning: 'force_all_finite' was renamed to 'ensure_all_finite' in 1.6 and will be removed in 1.8.\n",
      "  warnings.warn(\n",
      "Clustering class-wise: 100%|██████████████████████████████████████████████████████| 5/5 [00:24<00:00,  4.86s/it]\n"
     ]
    }
   ],
   "source": [
    "train_outputs = trainer.get_trainset_outputs(features=True)\n",
    "\n",
    "george_infer = GeorgeInference(\n",
    "    Z=train_outputs,\n",
    "    class_labels=trainset.labels,\n",
    "    device=device,\n",
    "    max_clusters=trainset.num_classes,\n",
    "    verbose=True\n",
    ")\n",
    "group_partition = george_infer.infer_groups()"
   ]
  },
  {
   "cell_type": "markdown",
   "id": "3f76fe9c-7c27-40d5-a67e-571c406602a3",
   "metadata": {},
   "source": [
    "# Step 3"
   ]
  },
  {
   "cell_type": "code",
   "execution_count": 20,
   "id": "4b9880f0-cdbc-4124-aebb-5ab0d8451c80",
   "metadata": {},
   "outputs": [],
   "source": [
    "from spuco.robust_train.group_dro import GroupDRO"
   ]
  },
  {
   "cell_type": "code",
   "execution_count": 27,
   "id": "ff5b9d34-773c-44f9-8746-30678854f4e4",
   "metadata": {},
   "outputs": [
    {
     "name": "stderr",
     "output_type": "stream",
     "text": [
      "Epoch 0:   1%|▍                               | 10/751 [00:00<00:15, 46.70batch/s, accuracy=96.875%, loss=0.032]"
     ]
    },
    {
     "name": "stdout",
     "output_type": "stream",
     "text": [
      " | Epoch 0 | Loss: 0.07678616791963577 | Accuracy: 98.4375%\n",
      " | Epoch 0 | Loss: 0.024253422394394875 | Accuracy: 100.0%\n",
      " | Epoch 0 | Loss: 0.06534157693386078 | Accuracy: 96.875%\n",
      " | Epoch 0 | Loss: 0.03277839347720146 | Accuracy: 100.0%\n",
      " | Epoch 0 | Loss: 0.06603927910327911 | Accuracy: 98.4375%\n",
      " | Epoch 0 | Loss: 0.025229444727301598 | Accuracy: 100.0%\n",
      " | Epoch 0 | Loss: 0.025914393365383148 | Accuracy: 100.0%\n",
      " | Epoch 0 | Loss: 0.029268339276313782 | Accuracy: 98.4375%\n",
      " | Epoch 0 | Loss: 0.013658842071890831 | Accuracy: 100.0%\n",
      " | Epoch 0 | Loss: 0.02795269340276718 | Accuracy: 98.4375%\n",
      " | Epoch 0 | Loss: 0.05886867642402649 | Accuracy: 98.4375%\n",
      " | Epoch 0 | Loss: 0.011715348809957504 | Accuracy: 100.0%\n",
      " | Epoch 0 | Loss: 0.018598521128296852 | Accuracy: 100.0%\n",
      " | Epoch 0 | Loss: 0.018534572795033455 | Accuracy: 100.0%\n",
      " | Epoch 0 | Loss: 0.015947487205266953 | Accuracy: 100.0%\n",
      " | Epoch 0 | Loss: 0.01226414181292057 | Accuracy: 100.0%\n",
      " | Epoch 0 | Loss: 0.07773096859455109 | Accuracy: 98.4375%\n",
      " | Epoch 0 | Loss: 0.015210526064038277 | Accuracy: 100.0%\n"
     ]
    },
    {
     "name": "stderr",
     "output_type": "stream",
     "text": [
      "Epoch 0:   4%|█▏                              | 29/751 [00:00<00:09, 75.30batch/s, accuracy=98.4375%, loss=0.26]"
     ]
    },
    {
     "name": "stdout",
     "output_type": "stream",
     "text": [
      " | Epoch 0 | Loss: 0.03196655213832855 | Accuracy: 96.875%\n",
      " | Epoch 0 | Loss: 0.027158353477716446 | Accuracy: 98.4375%\n",
      " | Epoch 0 | Loss: 0.39528995752334595 | Accuracy: 98.4375%\n",
      " | Epoch 0 | Loss: 0.007746166083961725 | Accuracy: 100.0%\n",
      " | Epoch 0 | Loss: 0.03732161968946457 | Accuracy: 98.4375%\n",
      " | Epoch 0 | Loss: 0.04327651858329773 | Accuracy: 98.4375%\n",
      " | Epoch 0 | Loss: 0.00961747020483017 | Accuracy: 100.0%\n",
      " | Epoch 0 | Loss: 0.02493288926780224 | Accuracy: 98.4375%\n",
      " | Epoch 0 | Loss: 0.05453749746084213 | Accuracy: 98.4375%\n",
      " | Epoch 0 | Loss: 0.11380144208669662 | Accuracy: 98.4375%\n",
      " | Epoch 0 | Loss: 0.012175306677818298 | Accuracy: 100.0%\n",
      " | Epoch 0 | Loss: 0.00797395221889019 | Accuracy: 100.0%\n",
      " | Epoch 0 | Loss: 0.007114495616406202 | Accuracy: 100.0%\n",
      " | Epoch 0 | Loss: 0.11709454655647278 | Accuracy: 98.4375%\n",
      " | Epoch 0 | Loss: 0.014949859119951725 | Accuracy: 100.0%\n",
      " | Epoch 0 | Loss: 0.012981596402823925 | Accuracy: 100.0%\n",
      " | Epoch 0 | Loss: 0.006197678856551647 | Accuracy: 100.0%\n",
      " | Epoch 0 | Loss: 0.004820126108825207 | Accuracy: 100.0%\n",
      " | Epoch 0 | Loss: 0.26027196645736694 | Accuracy: 98.4375%\n"
     ]
    },
    {
     "name": "stderr",
     "output_type": "stream",
     "text": [
      "Epoch 0:   7%|█▉                            | 49/751 [00:00<00:08, 81.35batch/s, accuracy=98.4375%, loss=0.0474]"
     ]
    },
    {
     "name": "stdout",
     "output_type": "stream",
     "text": [
      " | Epoch 0 | Loss: 0.013016672804951668 | Accuracy: 100.0%\n",
      " | Epoch 0 | Loss: 0.07541172206401825 | Accuracy: 98.4375%\n",
      " | Epoch 0 | Loss: 0.0069033498875796795 | Accuracy: 100.0%\n",
      " | Epoch 0 | Loss: 0.04419148713350296 | Accuracy: 98.4375%\n",
      " | Epoch 0 | Loss: 0.06827141344547272 | Accuracy: 98.4375%\n",
      " | Epoch 0 | Loss: 0.003448551520705223 | Accuracy: 100.0%\n",
      " | Epoch 0 | Loss: 0.01095183938741684 | Accuracy: 100.0%\n",
      " | Epoch 0 | Loss: 0.00609896145761013 | Accuracy: 100.0%\n",
      " | Epoch 0 | Loss: 0.005285559222102165 | Accuracy: 100.0%\n",
      " | Epoch 0 | Loss: 0.004657412879168987 | Accuracy: 100.0%\n",
      " | Epoch 0 | Loss: 0.0042082155123353004 | Accuracy: 100.0%\n",
      " | Epoch 0 | Loss: 0.00800276454538107 | Accuracy: 100.0%\n",
      " | Epoch 0 | Loss: 0.006143914069980383 | Accuracy: 100.0%\n",
      " | Epoch 0 | Loss: 0.009153615683317184 | Accuracy: 100.0%\n",
      " | Epoch 0 | Loss: 0.16022883355617523 | Accuracy: 98.4375%\n",
      " | Epoch 0 | Loss: 0.02384231798350811 | Accuracy: 100.0%\n",
      " | Epoch 0 | Loss: 0.01638437621295452 | Accuracy: 100.0%\n",
      " | Epoch 0 | Loss: 0.04741679131984711 | Accuracy: 98.4375%\n"
     ]
    },
    {
     "name": "stderr",
     "output_type": "stream",
     "text": [
      "Epoch 0:   9%|██▉                            | 70/751 [00:00<00:07, 91.36batch/s, accuracy=100.0%, loss=0.00544]"
     ]
    },
    {
     "name": "stdout",
     "output_type": "stream",
     "text": [
      " | Epoch 0 | Loss: 0.07078619301319122 | Accuracy: 98.4375%\n",
      " | Epoch 0 | Loss: 0.009946238249540329 | Accuracy: 100.0%\n",
      " | Epoch 0 | Loss: 0.006332707591354847 | Accuracy: 100.0%\n",
      " | Epoch 0 | Loss: 0.00567677291110158 | Accuracy: 100.0%\n",
      " | Epoch 0 | Loss: 0.010930666700005531 | Accuracy: 100.0%\n",
      " | Epoch 0 | Loss: 0.009656436741352081 | Accuracy: 100.0%\n",
      " | Epoch 0 | Loss: 0.006569630932062864 | Accuracy: 100.0%\n",
      " | Epoch 0 | Loss: 0.003588520921766758 | Accuracy: 100.0%\n",
      " | Epoch 0 | Loss: 0.007555275224149227 | Accuracy: 100.0%\n",
      " | Epoch 0 | Loss: 0.0067425984889268875 | Accuracy: 100.0%\n",
      " | Epoch 0 | Loss: 0.022858021780848503 | Accuracy: 100.0%\n",
      " | Epoch 0 | Loss: 0.02065517194569111 | Accuracy: 98.4375%\n",
      " | Epoch 0 | Loss: 0.01579541340470314 | Accuracy: 100.0%\n",
      " | Epoch 0 | Loss: 0.008870272897183895 | Accuracy: 100.0%\n",
      " | Epoch 0 | Loss: 0.015508894808590412 | Accuracy: 100.0%\n",
      " | Epoch 0 | Loss: 0.009578987956047058 | Accuracy: 100.0%\n",
      " | Epoch 0 | Loss: 0.0077056242153048515 | Accuracy: 100.0%\n",
      " | Epoch 0 | Loss: 0.009421082213521004 | Accuracy: 100.0%\n",
      " | Epoch 0 | Loss: 0.021816106513142586 | Accuracy: 98.4375%\n",
      " | Epoch 0 | Loss: 0.004677893128246069 | Accuracy: 100.0%\n",
      " | Epoch 0 | Loss: 0.00544241676107049 | Accuracy: 100.0%\n"
     ]
    },
    {
     "name": "stderr",
     "output_type": "stream",
     "text": [
      "Epoch 0:  12%|███▋                          | 92/751 [00:01<00:06, 98.54batch/s, accuracy=98.4375%, loss=0.0609]"
     ]
    },
    {
     "name": "stdout",
     "output_type": "stream",
     "text": [
      " | Epoch 0 | Loss: 0.002598804421722889 | Accuracy: 100.0%\n",
      " | Epoch 0 | Loss: 0.00794672779738903 | Accuracy: 100.0%\n",
      " | Epoch 0 | Loss: 0.016365382820367813 | Accuracy: 100.0%\n",
      " | Epoch 0 | Loss: 0.0054689026437699795 | Accuracy: 100.0%\n",
      " | Epoch 0 | Loss: 0.014302702620625496 | Accuracy: 100.0%\n",
      " | Epoch 0 | Loss: 0.00911141186952591 | Accuracy: 100.0%\n",
      " | Epoch 0 | Loss: 0.004827889148145914 | Accuracy: 100.0%\n",
      " | Epoch 0 | Loss: 0.004120065830647945 | Accuracy: 100.0%\n",
      " | Epoch 0 | Loss: 0.0043875230476260185 | Accuracy: 100.0%\n",
      " | Epoch 0 | Loss: 0.0078994520008564 | Accuracy: 100.0%\n",
      " | Epoch 0 | Loss: 0.011389752849936485 | Accuracy: 100.0%\n",
      " | Epoch 0 | Loss: 0.004500704817473888 | Accuracy: 100.0%\n",
      " | Epoch 0 | Loss: 0.005182730965316296 | Accuracy: 100.0%\n",
      " | Epoch 0 | Loss: 0.05126594379544258 | Accuracy: 96.875%\n",
      " | Epoch 0 | Loss: 0.01852138340473175 | Accuracy: 100.0%\n",
      " | Epoch 0 | Loss: 0.033079855144023895 | Accuracy: 98.4375%\n",
      " | Epoch 0 | Loss: 0.013340156525373459 | Accuracy: 98.4375%\n",
      " | Epoch 0 | Loss: 0.01929352805018425 | Accuracy: 100.0%\n",
      " | Epoch 0 | Loss: 0.04330143705010414 | Accuracy: 98.4375%\n",
      " | Epoch 0 | Loss: 0.004994617775082588 | Accuracy: 100.0%\n",
      " | Epoch 0 | Loss: 0.001936797285452485 | Accuracy: 100.0%\n"
     ]
    },
    {
     "name": "stderr",
     "output_type": "stream",
     "text": [
      "Epoch 0:  15%|████▍                         | 112/751 [00:01<00:07, 91.02batch/s, accuracy=100.0%, loss=0.00863]"
     ]
    },
    {
     "name": "stdout",
     "output_type": "stream",
     "text": [
      " | Epoch 0 | Loss: 0.060943566262722015 | Accuracy: 98.4375%\n",
      " | Epoch 0 | Loss: 0.10991640388965607 | Accuracy: 98.4375%\n",
      " | Epoch 0 | Loss: 0.016765179112553596 | Accuracy: 100.0%\n",
      " | Epoch 0 | Loss: 0.013376779854297638 | Accuracy: 98.4375%\n",
      " | Epoch 0 | Loss: 0.009912759065628052 | Accuracy: 100.0%\n",
      " | Epoch 0 | Loss: 0.00345987593755126 | Accuracy: 100.0%\n",
      " | Epoch 0 | Loss: 0.44533994793891907 | Accuracy: 96.875%\n",
      " | Epoch 0 | Loss: 0.015982884913682938 | Accuracy: 100.0%\n",
      " | Epoch 0 | Loss: 0.16597919166088104 | Accuracy: 98.4375%\n",
      " | Epoch 0 | Loss: 0.009231416508555412 | Accuracy: 100.0%\n",
      " | Epoch 0 | Loss: 0.007960788905620575 | Accuracy: 100.0%\n",
      " | Epoch 0 | Loss: 0.050327982753515244 | Accuracy: 98.4375%\n",
      " | Epoch 0 | Loss: 0.00560083519667387 | Accuracy: 100.0%\n",
      " | Epoch 0 | Loss: 0.01010018028318882 | Accuracy: 100.0%\n",
      " | Epoch 0 | Loss: 0.04542330279946327 | Accuracy: 98.4375%\n",
      " | Epoch 0 | Loss: 0.008629039861261845 | Accuracy: 100.0%\n"
     ]
    },
    {
     "name": "stderr",
     "output_type": "stream",
     "text": [
      "Epoch 0:  18%|█████▎                        | 132/751 [00:01<00:06, 91.74batch/s, accuracy=100.0%, loss=0.00581]"
     ]
    },
    {
     "name": "stdout",
     "output_type": "stream",
     "text": [
      " | Epoch 0 | Loss: 0.015762895345687866 | Accuracy: 100.0%\n",
      " | Epoch 0 | Loss: 0.012702729552984238 | Accuracy: 100.0%\n",
      " | Epoch 0 | Loss: 0.02437448687851429 | Accuracy: 98.4375%\n",
      " | Epoch 0 | Loss: 0.02102861925959587 | Accuracy: 100.0%\n",
      " | Epoch 0 | Loss: 0.006362238433212042 | Accuracy: 100.0%\n",
      " | Epoch 0 | Loss: 0.011342085897922516 | Accuracy: 100.0%\n",
      " | Epoch 0 | Loss: 0.009623924270272255 | Accuracy: 100.0%\n",
      " | Epoch 0 | Loss: 0.00828197319060564 | Accuracy: 100.0%\n",
      " | Epoch 0 | Loss: 0.0031028841622173786 | Accuracy: 100.0%\n",
      " | Epoch 0 | Loss: 0.011979742906987667 | Accuracy: 100.0%\n",
      " | Epoch 0 | Loss: 0.0036603049375116825 | Accuracy: 100.0%\n",
      " | Epoch 0 | Loss: 0.1364952027797699 | Accuracy: 96.875%\n",
      " | Epoch 0 | Loss: 0.008413347415626049 | Accuracy: 100.0%\n",
      " | Epoch 0 | Loss: 0.006918656639754772 | Accuracy: 100.0%\n",
      " | Epoch 0 | Loss: 0.007941963151097298 | Accuracy: 100.0%\n",
      " | Epoch 0 | Loss: 0.008150575682520866 | Accuracy: 100.0%\n",
      " | Epoch 0 | Loss: 0.02032730169594288 | Accuracy: 98.4375%\n",
      " | Epoch 0 | Loss: 0.040482133626937866 | Accuracy: 98.4375%\n",
      " | Epoch 0 | Loss: 0.0058087436482310295 | Accuracy: 100.0%\n"
     ]
    },
    {
     "name": "stderr",
     "output_type": "stream",
     "text": [
      "Epoch 0:  20%|██████                        | 153/751 [00:01<00:06, 96.06batch/s, accuracy=100.0%, loss=0.00601]"
     ]
    },
    {
     "name": "stdout",
     "output_type": "stream",
     "text": [
      " | Epoch 0 | Loss: 0.2541348934173584 | Accuracy: 96.875%\n",
      " | Epoch 0 | Loss: 0.027550451457500458 | Accuracy: 100.0%\n",
      " | Epoch 0 | Loss: 0.08777780830860138 | Accuracy: 98.4375%\n",
      " | Epoch 0 | Loss: 0.006073744967579842 | Accuracy: 100.0%\n",
      " | Epoch 0 | Loss: 0.021065061911940575 | Accuracy: 100.0%\n",
      " | Epoch 0 | Loss: 0.004263771697878838 | Accuracy: 100.0%\n",
      " | Epoch 0 | Loss: 0.0049944487400352955 | Accuracy: 100.0%\n",
      " | Epoch 0 | Loss: 0.0030224432703107595 | Accuracy: 100.0%\n",
      " | Epoch 0 | Loss: 0.005749105010181665 | Accuracy: 100.0%\n",
      " | Epoch 0 | Loss: 0.010260420851409435 | Accuracy: 100.0%\n",
      " | Epoch 0 | Loss: 0.009633105248212814 | Accuracy: 100.0%\n",
      " | Epoch 0 | Loss: 0.08171539008617401 | Accuracy: 98.4375%\n",
      " | Epoch 0 | Loss: 0.0048896679654717445 | Accuracy: 100.0%\n",
      " | Epoch 0 | Loss: 0.008988128043711185 | Accuracy: 100.0%\n",
      " | Epoch 0 | Loss: 0.0037097446620464325 | Accuracy: 100.0%\n",
      " | Epoch 0 | Loss: 0.08140764385461807 | Accuracy: 98.4375%\n",
      " | Epoch 0 | Loss: 0.008035819977521896 | Accuracy: 100.0%\n",
      " | Epoch 0 | Loss: 0.23951005935668945 | Accuracy: 93.75%\n",
      " | Epoch 0 | Loss: 0.025233322754502296 | Accuracy: 98.4375%\n",
      " | Epoch 0 | Loss: 0.01593874953687191 | Accuracy: 100.0%\n",
      " | Epoch 0 | Loss: 0.006008063443005085 | Accuracy: 100.0%\n"
     ]
    },
    {
     "name": "stderr",
     "output_type": "stream",
     "text": [
      "Epoch 0:  22%|██████▌                       | 163/751 [00:01<00:06, 92.51batch/s, accuracy=100.0%, loss=0.00916]"
     ]
    },
    {
     "name": "stdout",
     "output_type": "stream",
     "text": [
      " | Epoch 0 | Loss: 0.006467864848673344 | Accuracy: 100.0%\n",
      " | Epoch 0 | Loss: 0.08406002819538116 | Accuracy: 98.4375%\n",
      " | Epoch 0 | Loss: 0.009786335751414299 | Accuracy: 100.0%\n",
      " | Epoch 0 | Loss: 0.06905446201562881 | Accuracy: 98.4375%\n",
      " | Epoch 0 | Loss: 0.00936642661690712 | Accuracy: 100.0%\n",
      " | Epoch 0 | Loss: 0.01423608884215355 | Accuracy: 100.0%\n",
      " | Epoch 0 | Loss: 0.05344260483980179 | Accuracy: 98.4375%\n",
      " | Epoch 0 | Loss: 0.0037598484195768833 | Accuracy: 100.0%\n",
      " | Epoch 0 | Loss: 0.005452684126794338 | Accuracy: 100.0%\n",
      " | Epoch 0 | Loss: 0.18836653232574463 | Accuracy: 98.4375%\n",
      " | Epoch 0 | Loss: 0.009283538907766342 | Accuracy: 100.0%\n",
      " | Epoch 0 | Loss: 0.010003425180912018 | Accuracy: 100.0%\n",
      " | Epoch 0 | Loss: 0.006717202253639698 | Accuracy: 100.0%\n",
      " | Epoch 0 | Loss: 0.007832631468772888 | Accuracy: 100.0%\n",
      " | Epoch 0 | Loss: 0.01652761921286583 | Accuracy: 98.4375%\n",
      " | Epoch 0 | Loss: 0.004708283115178347 | Accuracy: 100.0%\n",
      " | Epoch 0 | Loss: 0.005492791533470154 | Accuracy: 100.0%\n",
      " | Epoch 0 | Loss: 0.017990630120038986 | Accuracy: 98.4375%\n",
      " | Epoch 0 | Loss: 0.009160459041595459 | Accuracy: 100.0%\n"
     ]
    },
    {
     "name": "stderr",
     "output_type": "stream",
     "text": [
      "Epoch 0:  25%|███████▌                       | 184/751 [00:02<00:05, 96.22batch/s, accuracy=100.0%, loss=0.0166]"
     ]
    },
    {
     "name": "stdout",
     "output_type": "stream",
     "text": [
      " | Epoch 0 | Loss: 0.021934738382697105 | Accuracy: 98.4375%\n",
      " | Epoch 0 | Loss: 0.15888679027557373 | Accuracy: 98.4375%\n",
      " | Epoch 0 | Loss: 0.004340896382927895 | Accuracy: 100.0%\n",
      " | Epoch 0 | Loss: 0.009881701320409775 | Accuracy: 98.4375%\n",
      " | Epoch 0 | Loss: 0.003989997785538435 | Accuracy: 100.0%\n",
      " | Epoch 0 | Loss: 0.051184915006160736 | Accuracy: 98.4375%\n",
      " | Epoch 0 | Loss: 0.011450029909610748 | Accuracy: 100.0%\n",
      " | Epoch 0 | Loss: 0.0059103709645569324 | Accuracy: 100.0%\n",
      " | Epoch 0 | Loss: 0.010716680437326431 | Accuracy: 100.0%\n",
      " | Epoch 0 | Loss: 0.008094659075140953 | Accuracy: 100.0%\n",
      " | Epoch 0 | Loss: 0.006291152909398079 | Accuracy: 100.0%\n",
      " | Epoch 0 | Loss: 0.1981017142534256 | Accuracy: 98.4375%\n",
      " | Epoch 0 | Loss: 0.18863190710544586 | Accuracy: 98.4375%\n",
      " | Epoch 0 | Loss: 0.004616254009306431 | Accuracy: 100.0%\n",
      " | Epoch 0 | Loss: 0.03503737971186638 | Accuracy: 98.4375%\n",
      " | Epoch 0 | Loss: 0.07825011759996414 | Accuracy: 98.4375%\n",
      " | Epoch 0 | Loss: 0.013533558696508408 | Accuracy: 100.0%\n",
      " | Epoch 0 | Loss: 0.00983046367764473 | Accuracy: 100.0%\n"
     ]
    },
    {
     "name": "stderr",
     "output_type": "stream",
     "text": [
      "Epoch 0:  27%|███████▉                     | 204/751 [00:02<00:06, 90.67batch/s, accuracy=98.4375%, loss=0.0809]"
     ]
    },
    {
     "name": "stdout",
     "output_type": "stream",
     "text": [
      " | Epoch 0 | Loss: 0.016636427491903305 | Accuracy: 100.0%\n",
      " | Epoch 0 | Loss: 0.34312689304351807 | Accuracy: 98.4375%\n",
      " | Epoch 0 | Loss: 0.005564261227846146 | Accuracy: 100.0%\n",
      " | Epoch 0 | Loss: 0.008487038314342499 | Accuracy: 100.0%\n",
      " | Epoch 0 | Loss: 0.08729162812232971 | Accuracy: 98.4375%\n",
      " | Epoch 0 | Loss: 0.006983626633882523 | Accuracy: 100.0%\n",
      " | Epoch 0 | Loss: 0.007681630086153746 | Accuracy: 100.0%\n",
      " | Epoch 0 | Loss: 0.007336034439504147 | Accuracy: 100.0%\n",
      " | Epoch 0 | Loss: 0.0045505911111831665 | Accuracy: 100.0%\n",
      " | Epoch 0 | Loss: 0.005188240669667721 | Accuracy: 100.0%\n",
      " | Epoch 0 | Loss: 0.02582152746617794 | Accuracy: 98.4375%\n",
      " | Epoch 0 | Loss: 0.011799497529864311 | Accuracy: 100.0%\n",
      " | Epoch 0 | Loss: 0.00527899619191885 | Accuracy: 100.0%\n",
      " | Epoch 0 | Loss: 0.005478965118527412 | Accuracy: 100.0%\n",
      " | Epoch 0 | Loss: 0.006629725452512503 | Accuracy: 100.0%\n",
      " | Epoch 0 | Loss: 0.051716696470975876 | Accuracy: 98.4375%\n",
      " | Epoch 0 | Loss: 0.2017786204814911 | Accuracy: 96.875%\n",
      " | Epoch 0 | Loss: 0.07792920619249344 | Accuracy: 98.4375%\n",
      " | Epoch 0 | Loss: 0.0808582603931427 | Accuracy: 98.4375%\n"
     ]
    },
    {
     "name": "stderr",
     "output_type": "stream",
     "text": [
      "Epoch 0:  30%|████████▉                     | 225/751 [00:02<00:05, 96.06batch/s, accuracy=100.0%, loss=0.00479]"
     ]
    },
    {
     "name": "stdout",
     "output_type": "stream",
     "text": [
      " | Epoch 0 | Loss: 0.005121843423694372 | Accuracy: 100.0%\n",
      " | Epoch 0 | Loss: 0.013453730382025242 | Accuracy: 100.0%\n",
      " | Epoch 0 | Loss: 0.017451860010623932 | Accuracy: 100.0%\n",
      " | Epoch 0 | Loss: 0.025290288031101227 | Accuracy: 98.4375%\n",
      " | Epoch 0 | Loss: 0.018893782049417496 | Accuracy: 100.0%\n",
      " | Epoch 0 | Loss: 0.007725649047642946 | Accuracy: 100.0%\n",
      " | Epoch 0 | Loss: 0.01919693313539028 | Accuracy: 98.4375%\n",
      " | Epoch 0 | Loss: 0.010314950719475746 | Accuracy: 100.0%\n",
      " | Epoch 0 | Loss: 0.006546309683471918 | Accuracy: 100.0%\n",
      " | Epoch 0 | Loss: 0.011681127361953259 | Accuracy: 100.0%\n",
      " | Epoch 0 | Loss: 0.014161563478410244 | Accuracy: 100.0%\n",
      " | Epoch 0 | Loss: 0.01959717832505703 | Accuracy: 98.4375%\n",
      " | Epoch 0 | Loss: 0.009181953966617584 | Accuracy: 100.0%\n",
      " | Epoch 0 | Loss: 0.030061786994338036 | Accuracy: 100.0%\n",
      " | Epoch 0 | Loss: 0.010982965119183064 | Accuracy: 100.0%\n",
      " | Epoch 0 | Loss: 0.051296643912792206 | Accuracy: 98.4375%\n",
      " | Epoch 0 | Loss: 0.010026836767792702 | Accuracy: 100.0%\n",
      " | Epoch 0 | Loss: 0.09294912964105606 | Accuracy: 98.4375%\n",
      " | Epoch 0 | Loss: 0.008213645778596401 | Accuracy: 100.0%\n",
      " | Epoch 0 | Loss: 0.004684777464717627 | Accuracy: 100.0%\n",
      " | Epoch 0 | Loss: 0.0047873882576823235 | Accuracy: 100.0%\n"
     ]
    },
    {
     "name": "stderr",
     "output_type": "stream",
     "text": [
      "Epoch 0:  33%|█████████▉                    | 248/751 [00:02<00:04, 101.47batch/s, accuracy=100.0%, loss=0.0124]"
     ]
    },
    {
     "name": "stdout",
     "output_type": "stream",
     "text": [
      " | Epoch 0 | Loss: 0.004456391092389822 | Accuracy: 100.0%\n",
      " | Epoch 0 | Loss: 0.05850641801953316 | Accuracy: 98.4375%\n",
      " | Epoch 0 | Loss: 0.006979093886911869 | Accuracy: 100.0%\n",
      " | Epoch 0 | Loss: 0.004176399204879999 | Accuracy: 100.0%\n",
      " | Epoch 0 | Loss: 0.012149933725595474 | Accuracy: 100.0%\n",
      " | Epoch 0 | Loss: 0.012260792776942253 | Accuracy: 100.0%\n",
      " | Epoch 0 | Loss: 0.006359938532114029 | Accuracy: 100.0%\n",
      " | Epoch 0 | Loss: 0.008776120841503143 | Accuracy: 100.0%\n",
      " | Epoch 0 | Loss: 0.004643356893211603 | Accuracy: 100.0%\n",
      " | Epoch 0 | Loss: 0.03129568696022034 | Accuracy: 98.4375%\n",
      " | Epoch 0 | Loss: 0.01080668531358242 | Accuracy: 100.0%\n",
      " | Epoch 0 | Loss: 0.05420000106096268 | Accuracy: 98.4375%\n",
      " | Epoch 0 | Loss: 0.03082834929227829 | Accuracy: 98.4375%\n",
      " | Epoch 0 | Loss: 0.010758358053863049 | Accuracy: 100.0%\n",
      " | Epoch 0 | Loss: 0.009508457034826279 | Accuracy: 100.0%\n",
      " | Epoch 0 | Loss: 0.00634200731292367 | Accuracy: 100.0%\n",
      " | Epoch 0 | Loss: 0.006985943298786879 | Accuracy: 100.0%\n",
      " | Epoch 0 | Loss: 0.004368571564555168 | Accuracy: 100.0%\n",
      " | Epoch 0 | Loss: 0.005925572477281094 | Accuracy: 100.0%\n",
      " | Epoch 0 | Loss: 0.009060004726052284 | Accuracy: 98.4375%\n",
      " | Epoch 0 | Loss: 0.009699109941720963 | Accuracy: 98.4375%\n",
      " | Epoch 0 | Loss: 0.012436788529157639 | Accuracy: 100.0%\n"
     ]
    },
    {
     "name": "stderr",
     "output_type": "stream",
     "text": [
      "Epoch 0:  36%|██████████▍                  | 270/751 [00:02<00:04, 101.10batch/s, accuracy=100.0%, loss=0.00386]"
     ]
    },
    {
     "name": "stdout",
     "output_type": "stream",
     "text": [
      " | Epoch 0 | Loss: 0.00750740384683013 | Accuracy: 100.0%\n",
      " | Epoch 0 | Loss: 0.020149478688836098 | Accuracy: 98.4375%\n",
      " | Epoch 0 | Loss: 0.007188665680587292 | Accuracy: 100.0%\n",
      " | Epoch 0 | Loss: 0.01408361829817295 | Accuracy: 100.0%\n",
      " | Epoch 0 | Loss: 0.0110919876024127 | Accuracy: 100.0%\n",
      " | Epoch 0 | Loss: 0.008651954121887684 | Accuracy: 100.0%\n",
      " | Epoch 0 | Loss: 0.004126058425754309 | Accuracy: 100.0%\n",
      " | Epoch 0 | Loss: 0.00589265301823616 | Accuracy: 100.0%\n",
      " | Epoch 0 | Loss: 0.002981780795380473 | Accuracy: 100.0%\n",
      " | Epoch 0 | Loss: 0.005788296461105347 | Accuracy: 100.0%\n",
      " | Epoch 0 | Loss: 0.010674938559532166 | Accuracy: 100.0%\n",
      " | Epoch 0 | Loss: 0.048999764025211334 | Accuracy: 98.4375%\n",
      " | Epoch 0 | Loss: 0.0039303964003920555 | Accuracy: 100.0%\n",
      " | Epoch 0 | Loss: 0.0029982915148139 | Accuracy: 100.0%\n",
      " | Epoch 0 | Loss: 0.00456887437030673 | Accuracy: 100.0%\n",
      " | Epoch 0 | Loss: 0.002994733862578869 | Accuracy: 100.0%\n",
      " | Epoch 0 | Loss: 0.009467602707445621 | Accuracy: 100.0%\n",
      " | Epoch 0 | Loss: 0.006634294521063566 | Accuracy: 100.0%\n",
      " | Epoch 0 | Loss: 0.0028304122388362885 | Accuracy: 100.0%\n",
      " | Epoch 0 | Loss: 0.0033231698907911777 | Accuracy: 100.0%\n",
      " | Epoch 0 | Loss: 0.0038580710534006357 | Accuracy: 100.0%\n"
     ]
    },
    {
     "name": "stderr",
     "output_type": "stream",
     "text": [
      "Epoch 0:  39%|███████████▎                 | 292/751 [00:03<00:04, 102.13batch/s, accuracy=100.0%, loss=0.00178]"
     ]
    },
    {
     "name": "stdout",
     "output_type": "stream",
     "text": [
      " | Epoch 0 | Loss: 0.06931665539741516 | Accuracy: 98.4375%\n",
      " | Epoch 0 | Loss: 0.002580866450443864 | Accuracy: 100.0%\n",
      " | Epoch 0 | Loss: 0.005526477470993996 | Accuracy: 100.0%\n",
      " | Epoch 0 | Loss: 0.008827243000268936 | Accuracy: 100.0%\n",
      " | Epoch 0 | Loss: 0.009869290515780449 | Accuracy: 100.0%\n",
      " | Epoch 0 | Loss: 0.0023881769739091396 | Accuracy: 100.0%\n",
      " | Epoch 0 | Loss: 0.012012370862066746 | Accuracy: 100.0%\n",
      " | Epoch 0 | Loss: 0.0025064582005143166 | Accuracy: 100.0%\n",
      " | Epoch 0 | Loss: 0.014396720565855503 | Accuracy: 98.4375%\n",
      " | Epoch 0 | Loss: 0.008281165733933449 | Accuracy: 98.4375%\n",
      " | Epoch 0 | Loss: 0.0147022670134902 | Accuracy: 98.4375%\n",
      " | Epoch 0 | Loss: 0.013618691824376583 | Accuracy: 100.0%\n",
      " | Epoch 0 | Loss: 0.07659173756837845 | Accuracy: 98.4375%\n",
      " | Epoch 0 | Loss: 0.011341908015310764 | Accuracy: 100.0%\n",
      " | Epoch 0 | Loss: 0.003530773799866438 | Accuracy: 100.0%\n",
      " | Epoch 0 | Loss: 0.01603812165558338 | Accuracy: 98.4375%\n",
      " | Epoch 0 | Loss: 0.009257921949028969 | Accuracy: 100.0%\n",
      " | Epoch 0 | Loss: 0.013179296627640724 | Accuracy: 98.4375%\n",
      " | Epoch 0 | Loss: 0.0028934460133314133 | Accuracy: 100.0%\n",
      " | Epoch 0 | Loss: 0.07789541780948639 | Accuracy: 98.4375%\n",
      " | Epoch 0 | Loss: 0.0017827507108449936 | Accuracy: 100.0%\n"
     ]
    },
    {
     "name": "stderr",
     "output_type": "stream",
     "text": [
      "Epoch 0:  40%|████████████                  | 303/751 [00:03<00:04, 101.01batch/s, accuracy=100.0%, loss=0.0062]"
     ]
    },
    {
     "name": "stdout",
     "output_type": "stream",
     "text": [
      " | Epoch 0 | Loss: 0.004538344219326973 | Accuracy: 100.0%\n",
      " | Epoch 0 | Loss: 0.0121218953281641 | Accuracy: 100.0%\n",
      " | Epoch 0 | Loss: 0.025499992072582245 | Accuracy: 100.0%\n",
      " | Epoch 0 | Loss: 0.014153366908431053 | Accuracy: 98.4375%\n",
      " | Epoch 0 | Loss: 0.1274329423904419 | Accuracy: 98.4375%\n",
      " | Epoch 0 | Loss: 0.0524248331785202 | Accuracy: 98.4375%\n",
      " | Epoch 0 | Loss: 0.20311801135540009 | Accuracy: 98.4375%\n",
      " | Epoch 0 | Loss: 0.12360873818397522 | Accuracy: 98.4375%\n",
      " | Epoch 0 | Loss: 0.06069184094667435 | Accuracy: 98.4375%\n",
      " | Epoch 0 | Loss: 0.013070670887827873 | Accuracy: 100.0%\n",
      " | Epoch 0 | Loss: 0.005341028794646263 | Accuracy: 100.0%\n",
      " | Epoch 0 | Loss: 0.013058151118457317 | Accuracy: 100.0%\n",
      " | Epoch 0 | Loss: 0.014270877465605736 | Accuracy: 100.0%\n",
      " | Epoch 0 | Loss: 0.005489747505635023 | Accuracy: 100.0%\n",
      " | Epoch 0 | Loss: 0.006243364419788122 | Accuracy: 100.0%\n",
      " | Epoch 0 | Loss: 0.013901593163609505 | Accuracy: 98.4375%\n",
      " | Epoch 0 | Loss: 0.0071030715480446815 | Accuracy: 100.0%\n",
      " | Epoch 0 | Loss: 0.002590813674032688 | Accuracy: 100.0%\n",
      " | Epoch 0 | Loss: 0.006197637878358364 | Accuracy: 100.0%\n"
     ]
    },
    {
     "name": "stderr",
     "output_type": "stream",
     "text": [
      "Epoch 0:  43%|████████████▌                | 325/751 [00:03<00:04, 98.13batch/s, accuracy=98.4375%, loss=0.0267]"
     ]
    },
    {
     "name": "stdout",
     "output_type": "stream",
     "text": [
      " | Epoch 0 | Loss: 0.046490348875522614 | Accuracy: 98.4375%\n",
      " | Epoch 0 | Loss: 0.00993698462843895 | Accuracy: 100.0%\n",
      " | Epoch 0 | Loss: 0.00521607231348753 | Accuracy: 100.0%\n",
      " | Epoch 0 | Loss: 0.012084845453500748 | Accuracy: 100.0%\n",
      " | Epoch 0 | Loss: 0.005430205725133419 | Accuracy: 100.0%\n",
      " | Epoch 0 | Loss: 0.032695222645998 | Accuracy: 98.4375%\n",
      " | Epoch 0 | Loss: 0.013291583396494389 | Accuracy: 100.0%\n",
      " | Epoch 0 | Loss: 0.003232887713238597 | Accuracy: 100.0%\n",
      " | Epoch 0 | Loss: 0.00843818299472332 | Accuracy: 100.0%\n",
      " | Epoch 0 | Loss: 0.02914181351661682 | Accuracy: 100.0%\n",
      " | Epoch 0 | Loss: 0.010181422345340252 | Accuracy: 100.0%\n",
      " | Epoch 0 | Loss: 0.0072730714455246925 | Accuracy: 100.0%\n",
      " | Epoch 0 | Loss: 0.016271326690912247 | Accuracy: 100.0%\n",
      " | Epoch 0 | Loss: 0.007988237775862217 | Accuracy: 100.0%\n",
      " | Epoch 0 | Loss: 0.020865771919488907 | Accuracy: 100.0%\n",
      " | Epoch 0 | Loss: 0.002790515311062336 | Accuracy: 100.0%\n",
      " | Epoch 0 | Loss: 0.00897772517055273 | Accuracy: 100.0%\n",
      " | Epoch 0 | Loss: 0.003016000147908926 | Accuracy: 100.0%\n",
      " | Epoch 0 | Loss: 0.004245574586093426 | Accuracy: 100.0%\n",
      " | Epoch 0 | Loss: 0.02665172703564167 | Accuracy: 98.4375%\n"
     ]
    },
    {
     "name": "stderr",
     "output_type": "stream",
     "text": [
      "Epoch 0:  46%|█████████████▎               | 345/751 [00:03<00:04, 96.43batch/s, accuracy=98.4375%, loss=0.0317]"
     ]
    },
    {
     "name": "stdout",
     "output_type": "stream",
     "text": [
      " | Epoch 0 | Loss: 0.0019172495231032372 | Accuracy: 100.0%\n",
      " | Epoch 0 | Loss: 0.026462487876415253 | Accuracy: 98.4375%\n",
      " | Epoch 0 | Loss: 0.0026250064838677645 | Accuracy: 100.0%\n",
      " | Epoch 0 | Loss: 0.002632459858432412 | Accuracy: 100.0%\n",
      " | Epoch 0 | Loss: 0.05260559171438217 | Accuracy: 98.4375%\n",
      " | Epoch 0 | Loss: 0.003101075068116188 | Accuracy: 100.0%\n",
      " | Epoch 0 | Loss: 0.01820872165262699 | Accuracy: 98.4375%\n",
      " | Epoch 0 | Loss: 0.007860721088945866 | Accuracy: 100.0%\n",
      " | Epoch 0 | Loss: 0.0038994525093585253 | Accuracy: 100.0%\n",
      " | Epoch 0 | Loss: 0.01467609591782093 | Accuracy: 100.0%\n",
      " | Epoch 0 | Loss: 0.051862891763448715 | Accuracy: 98.4375%\n",
      " | Epoch 0 | Loss: 0.01109585165977478 | Accuracy: 100.0%\n",
      " | Epoch 0 | Loss: 0.11485640704631805 | Accuracy: 98.4375%\n",
      " | Epoch 0 | Loss: 0.009639693424105644 | Accuracy: 98.4375%\n",
      " | Epoch 0 | Loss: 0.09636573493480682 | Accuracy: 98.4375%\n",
      " | Epoch 0 | Loss: 0.007973240688443184 | Accuracy: 100.0%\n",
      " | Epoch 0 | Loss: 0.006720314733684063 | Accuracy: 100.0%\n",
      " | Epoch 0 | Loss: 0.006542708724737167 | Accuracy: 100.0%\n",
      " | Epoch 0 | Loss: 0.020565215498209 | Accuracy: 98.4375%\n",
      " | Epoch 0 | Loss: 0.031699929386377335 | Accuracy: 98.4375%\n"
     ]
    },
    {
     "name": "stderr",
     "output_type": "stream",
     "text": [
      "Epoch 0:  49%|██████████████▌               | 365/751 [00:04<00:04, 96.10batch/s, accuracy=100.0%, loss=0.00303]"
     ]
    },
    {
     "name": "stdout",
     "output_type": "stream",
     "text": [
      " | Epoch 0 | Loss: 0.005036843940615654 | Accuracy: 100.0%\n",
      " | Epoch 0 | Loss: 0.01941690593957901 | Accuracy: 100.0%\n",
      " | Epoch 0 | Loss: 0.006555757485330105 | Accuracy: 100.0%\n",
      " | Epoch 0 | Loss: 0.001990158809348941 | Accuracy: 100.0%\n",
      " | Epoch 0 | Loss: 0.00789641123265028 | Accuracy: 100.0%\n",
      " | Epoch 0 | Loss: 0.003664244432002306 | Accuracy: 100.0%\n",
      " | Epoch 0 | Loss: 0.011196807958185673 | Accuracy: 100.0%\n",
      " | Epoch 0 | Loss: 0.00498843751847744 | Accuracy: 100.0%\n",
      " | Epoch 0 | Loss: 0.004389174282550812 | Accuracy: 100.0%\n",
      " | Epoch 0 | Loss: 0.0034251876641064882 | Accuracy: 100.0%\n",
      " | Epoch 0 | Loss: 0.0030993372201919556 | Accuracy: 100.0%\n",
      " | Epoch 0 | Loss: 0.004241846967488527 | Accuracy: 100.0%\n",
      " | Epoch 0 | Loss: 0.004544475581496954 | Accuracy: 100.0%\n",
      " | Epoch 0 | Loss: 0.005295627750456333 | Accuracy: 100.0%\n",
      " | Epoch 0 | Loss: 0.3457178771495819 | Accuracy: 96.875%\n",
      " | Epoch 0 | Loss: 0.024071266874670982 | Accuracy: 98.4375%\n",
      " | Epoch 0 | Loss: 0.002906372305005789 | Accuracy: 100.0%\n",
      " | Epoch 0 | Loss: 0.005869409069418907 | Accuracy: 100.0%\n",
      " | Epoch 0 | Loss: 0.013878662139177322 | Accuracy: 100.0%\n",
      " | Epoch 0 | Loss: 0.0030283727683126926 | Accuracy: 100.0%\n"
     ]
    },
    {
     "name": "stderr",
     "output_type": "stream",
     "text": [
      "Epoch 0:  51%|███████████████▍              | 385/751 [00:04<00:03, 96.66batch/s, accuracy=100.0%, loss=0.00852]"
     ]
    },
    {
     "name": "stdout",
     "output_type": "stream",
     "text": [
      " | Epoch 0 | Loss: 0.0014633301179856062 | Accuracy: 100.0%\n",
      " | Epoch 0 | Loss: 0.005179648287594318 | Accuracy: 100.0%\n",
      " | Epoch 0 | Loss: 0.004188044928014278 | Accuracy: 100.0%\n",
      " | Epoch 0 | Loss: 0.0067368559539318085 | Accuracy: 100.0%\n",
      " | Epoch 0 | Loss: 0.010167398490011692 | Accuracy: 98.4375%\n",
      " | Epoch 0 | Loss: 0.004203097894787788 | Accuracy: 100.0%\n",
      " | Epoch 0 | Loss: 0.005511282943189144 | Accuracy: 100.0%\n",
      " | Epoch 0 | Loss: 0.03379262983798981 | Accuracy: 98.4375%\n",
      " | Epoch 0 | Loss: 0.005241337697952986 | Accuracy: 100.0%\n",
      " | Epoch 0 | Loss: 0.032156042754650116 | Accuracy: 98.4375%\n",
      " | Epoch 0 | Loss: 0.012332012876868248 | Accuracy: 100.0%\n",
      " | Epoch 0 | Loss: 0.006136226002126932 | Accuracy: 100.0%\n",
      " | Epoch 0 | Loss: 0.003141696099191904 | Accuracy: 100.0%\n",
      " | Epoch 0 | Loss: 0.16037841141223907 | Accuracy: 98.4375%\n",
      " | Epoch 0 | Loss: 0.04912089183926582 | Accuracy: 98.4375%\n",
      " | Epoch 0 | Loss: 0.008539542555809021 | Accuracy: 100.0%\n",
      " | Epoch 0 | Loss: 0.009303636848926544 | Accuracy: 100.0%\n",
      " | Epoch 0 | Loss: 0.008523390628397465 | Accuracy: 100.0%\n"
     ]
    },
    {
     "name": "stderr",
     "output_type": "stream",
     "text": [
      "Epoch 0:  54%|████████████████▏             | 405/751 [00:04<00:03, 91.56batch/s, accuracy=100.0%, loss=0.00436]"
     ]
    },
    {
     "name": "stdout",
     "output_type": "stream",
     "text": [
      " | Epoch 0 | Loss: 0.011169231496751308 | Accuracy: 100.0%\n",
      " | Epoch 0 | Loss: 0.13408568501472473 | Accuracy: 98.4375%\n",
      " | Epoch 0 | Loss: 0.0059229000471532345 | Accuracy: 100.0%\n",
      " | Epoch 0 | Loss: 0.002724811201915145 | Accuracy: 100.0%\n",
      " | Epoch 0 | Loss: 0.011427504941821098 | Accuracy: 98.4375%\n",
      " | Epoch 0 | Loss: 0.024327224120497704 | Accuracy: 98.4375%\n",
      " | Epoch 0 | Loss: 0.002272204961627722 | Accuracy: 100.0%\n",
      " | Epoch 0 | Loss: 0.0049274275079369545 | Accuracy: 100.0%\n",
      " | Epoch 0 | Loss: 0.010577824898064137 | Accuracy: 100.0%\n",
      " | Epoch 0 | Loss: 0.016048574820160866 | Accuracy: 98.4375%\n",
      " | Epoch 0 | Loss: 0.007810003124177456 | Accuracy: 100.0%\n",
      " | Epoch 0 | Loss: 0.0035566510632634163 | Accuracy: 100.0%\n",
      " | Epoch 0 | Loss: 0.013502508401870728 | Accuracy: 100.0%\n",
      " | Epoch 0 | Loss: 0.1596502959728241 | Accuracy: 98.4375%\n",
      " | Epoch 0 | Loss: 0.007160650100558996 | Accuracy: 100.0%\n",
      " | Epoch 0 | Loss: 0.03785295411944389 | Accuracy: 98.4375%\n",
      " | Epoch 0 | Loss: 0.0052509489469230175 | Accuracy: 100.0%\n",
      " | Epoch 0 | Loss: 0.007756401319056749 | Accuracy: 100.0%\n",
      " | Epoch 0 | Loss: 0.13018152117729187 | Accuracy: 98.4375%\n",
      " | Epoch 0 | Loss: 0.00436127744615078 | Accuracy: 100.0%\n"
     ]
    },
    {
     "name": "stderr",
     "output_type": "stream",
     "text": [
      "Epoch 0:  57%|█████████████████▌             | 426/751 [00:04<00:03, 95.14batch/s, accuracy=100.0%, loss=0.0108]"
     ]
    },
    {
     "name": "stdout",
     "output_type": "stream",
     "text": [
      " | Epoch 0 | Loss: 0.003460172563791275 | Accuracy: 100.0%\n",
      " | Epoch 0 | Loss: 0.0052041299641132355 | Accuracy: 100.0%\n",
      " | Epoch 0 | Loss: 0.002018199535086751 | Accuracy: 100.0%\n",
      " | Epoch 0 | Loss: 0.00710637029260397 | Accuracy: 100.0%\n",
      " | Epoch 0 | Loss: 0.06917925179004669 | Accuracy: 98.4375%\n",
      " | Epoch 0 | Loss: 0.0065924422815442085 | Accuracy: 100.0%\n",
      " | Epoch 0 | Loss: 0.1674680858850479 | Accuracy: 98.4375%\n",
      " | Epoch 0 | Loss: 0.045968197286129 | Accuracy: 98.4375%\n",
      " | Epoch 0 | Loss: 0.004629782401025295 | Accuracy: 100.0%\n",
      " | Epoch 0 | Loss: 0.2634871304035187 | Accuracy: 98.4375%\n",
      " | Epoch 0 | Loss: 0.018836792558431625 | Accuracy: 100.0%\n",
      " | Epoch 0 | Loss: 0.012790881097316742 | Accuracy: 100.0%\n",
      " | Epoch 0 | Loss: 0.01423262432217598 | Accuracy: 100.0%\n",
      " | Epoch 0 | Loss: 0.014185500331223011 | Accuracy: 100.0%\n",
      " | Epoch 0 | Loss: 0.00813615508377552 | Accuracy: 100.0%\n",
      " | Epoch 0 | Loss: 0.02130923978984356 | Accuracy: 100.0%\n",
      " | Epoch 0 | Loss: 0.029850179329514503 | Accuracy: 98.4375%\n",
      " | Epoch 0 | Loss: 0.008964884094893932 | Accuracy: 100.0%\n",
      " | Epoch 0 | Loss: 0.034887440502643585 | Accuracy: 98.4375%\n",
      " | Epoch 0 | Loss: 0.01081026904284954 | Accuracy: 100.0%\n"
     ]
    },
    {
     "name": "stderr",
     "output_type": "stream",
     "text": [
      "Epoch 0:  60%|█████████████████▊            | 447/751 [00:04<00:03, 97.14batch/s, accuracy=98.4375%, loss=0.241]"
     ]
    },
    {
     "name": "stdout",
     "output_type": "stream",
     "text": [
      " | Epoch 0 | Loss: 0.010049539618194103 | Accuracy: 100.0%\n",
      " | Epoch 0 | Loss: 0.10391845554113388 | Accuracy: 98.4375%\n",
      " | Epoch 0 | Loss: 0.017080090939998627 | Accuracy: 100.0%\n",
      " | Epoch 0 | Loss: 0.020713888108730316 | Accuracy: 100.0%\n",
      " | Epoch 0 | Loss: 0.010888214223086834 | Accuracy: 98.4375%\n",
      " | Epoch 0 | Loss: 0.009024037048220634 | Accuracy: 100.0%\n",
      " | Epoch 0 | Loss: 0.011053894646465778 | Accuracy: 100.0%\n",
      " | Epoch 0 | Loss: 0.0035886606201529503 | Accuracy: 100.0%\n",
      " | Epoch 0 | Loss: 0.20674142241477966 | Accuracy: 98.4375%\n",
      " | Epoch 0 | Loss: 0.004433592315763235 | Accuracy: 100.0%\n",
      " | Epoch 0 | Loss: 0.009601296856999397 | Accuracy: 100.0%\n",
      " | Epoch 0 | Loss: 0.007320818491280079 | Accuracy: 100.0%\n",
      " | Epoch 0 | Loss: 0.0084795281291008 | Accuracy: 100.0%\n",
      " | Epoch 0 | Loss: 0.0032981806434690952 | Accuracy: 100.0%\n",
      " | Epoch 0 | Loss: 0.014845221303403378 | Accuracy: 100.0%\n",
      " | Epoch 0 | Loss: 0.007511042058467865 | Accuracy: 100.0%\n",
      " | Epoch 0 | Loss: 0.0034456392750144005 | Accuracy: 100.0%\n",
      " | Epoch 0 | Loss: 0.006818670779466629 | Accuracy: 100.0%\n",
      " | Epoch 0 | Loss: 0.03258831426501274 | Accuracy: 98.4375%\n",
      " | Epoch 0 | Loss: 0.007942319847643375 | Accuracy: 100.0%\n",
      " | Epoch 0 | Loss: 0.24093568325042725 | Accuracy: 98.4375%\n"
     ]
    },
    {
     "name": "stderr",
     "output_type": "stream",
     "text": [
      "Epoch 0:  62%|██████████████████▋           | 468/751 [00:05<00:02, 98.93batch/s, accuracy=98.4375%, loss=0.109]"
     ]
    },
    {
     "name": "stdout",
     "output_type": "stream",
     "text": [
      " | Epoch 0 | Loss: 0.01784815639257431 | Accuracy: 98.4375%\n",
      " | Epoch 0 | Loss: 0.006086478941142559 | Accuracy: 100.0%\n",
      " | Epoch 0 | Loss: 0.004154695197939873 | Accuracy: 100.0%\n",
      " | Epoch 0 | Loss: 0.016117600724101067 | Accuracy: 100.0%\n",
      " | Epoch 0 | Loss: 0.0023541247937828302 | Accuracy: 100.0%\n",
      " | Epoch 0 | Loss: 0.0025733159855008125 | Accuracy: 100.0%\n",
      " | Epoch 0 | Loss: 0.007394642569124699 | Accuracy: 100.0%\n",
      " | Epoch 0 | Loss: 0.010609796270728111 | Accuracy: 100.0%\n",
      " | Epoch 0 | Loss: 0.006452128291130066 | Accuracy: 100.0%\n",
      " | Epoch 0 | Loss: 0.003942354582250118 | Accuracy: 100.0%\n",
      " | Epoch 0 | Loss: 0.010795487090945244 | Accuracy: 100.0%\n",
      " | Epoch 0 | Loss: 0.003173069329932332 | Accuracy: 100.0%\n",
      " | Epoch 0 | Loss: 0.021044142544269562 | Accuracy: 100.0%\n",
      " | Epoch 0 | Loss: 0.01249148603528738 | Accuracy: 100.0%\n",
      " | Epoch 0 | Loss: 0.005590939894318581 | Accuracy: 100.0%\n",
      " | Epoch 0 | Loss: 0.00916985236108303 | Accuracy: 100.0%\n",
      " | Epoch 0 | Loss: 0.004067356698215008 | Accuracy: 100.0%\n",
      " | Epoch 0 | Loss: 0.012878507375717163 | Accuracy: 100.0%\n",
      " | Epoch 0 | Loss: 0.11897831410169601 | Accuracy: 98.4375%\n",
      " | Epoch 0 | Loss: 0.007418123073875904 | Accuracy: 100.0%\n"
     ]
    },
    {
     "name": "stderr",
     "output_type": "stream",
     "text": [
      "Epoch 0:  65%|███████████████████▌          | 489/751 [00:05<00:02, 98.07batch/s, accuracy=98.4375%, loss=0.224]"
     ]
    },
    {
     "name": "stdout",
     "output_type": "stream",
     "text": [
      " | Epoch 0 | Loss: 0.10937811434268951 | Accuracy: 98.4375%\n",
      " | Epoch 0 | Loss: 0.00482179643586278 | Accuracy: 100.0%\n",
      " | Epoch 0 | Loss: 0.003096766071394086 | Accuracy: 100.0%\n",
      " | Epoch 0 | Loss: 0.011490805074572563 | Accuracy: 100.0%\n",
      " | Epoch 0 | Loss: 0.005822201259434223 | Accuracy: 100.0%\n",
      " | Epoch 0 | Loss: 0.004061644896864891 | Accuracy: 100.0%\n",
      " | Epoch 0 | Loss: 0.0037643369287252426 | Accuracy: 100.0%\n",
      " | Epoch 0 | Loss: 0.0023212686646729708 | Accuracy: 100.0%\n",
      " | Epoch 0 | Loss: 0.008214056491851807 | Accuracy: 100.0%\n",
      " | Epoch 0 | Loss: 0.005374627187848091 | Accuracy: 100.0%\n",
      " | Epoch 0 | Loss: 0.004555562045425177 | Accuracy: 100.0%\n",
      " | Epoch 0 | Loss: 0.011378862895071507 | Accuracy: 100.0%\n",
      " | Epoch 0 | Loss: 0.004408464767038822 | Accuracy: 100.0%\n",
      " | Epoch 0 | Loss: 0.005934093147516251 | Accuracy: 100.0%\n",
      " | Epoch 0 | Loss: 0.004827078431844711 | Accuracy: 100.0%\n",
      " | Epoch 0 | Loss: 0.29508060216903687 | Accuracy: 96.875%\n",
      " | Epoch 0 | Loss: 0.0029594777151942253 | Accuracy: 100.0%\n",
      " | Epoch 0 | Loss: 0.006278849206864834 | Accuracy: 100.0%\n",
      " | Epoch 0 | Loss: 0.13361474871635437 | Accuracy: 95.3125%\n",
      " | Epoch 0 | Loss: 0.004640792962163687 | Accuracy: 100.0%\n",
      " | Epoch 0 | Loss: 0.2243022620677948 | Accuracy: 98.4375%\n"
     ]
    },
    {
     "name": "stderr",
     "output_type": "stream",
     "text": [
      "Epoch 0:  68%|█████████████████████          | 510/751 [00:05<00:02, 99.28batch/s, accuracy=100.0%, loss=0.0127]"
     ]
    },
    {
     "name": "stdout",
     "output_type": "stream",
     "text": [
      " | Epoch 0 | Loss: 0.007760283537209034 | Accuracy: 100.0%\n",
      " | Epoch 0 | Loss: 0.015130202285945415 | Accuracy: 100.0%\n",
      " | Epoch 0 | Loss: 0.11774002015590668 | Accuracy: 98.4375%\n",
      " | Epoch 0 | Loss: 0.015597257763147354 | Accuracy: 100.0%\n",
      " | Epoch 0 | Loss: 0.006450342014431953 | Accuracy: 100.0%\n",
      " | Epoch 0 | Loss: 0.034904420375823975 | Accuracy: 98.4375%\n",
      " | Epoch 0 | Loss: 0.00804823823273182 | Accuracy: 100.0%\n",
      " | Epoch 0 | Loss: 0.005798182915896177 | Accuracy: 100.0%\n",
      " | Epoch 0 | Loss: 0.007839214988052845 | Accuracy: 100.0%\n",
      " | Epoch 0 | Loss: 0.015701748430728912 | Accuracy: 98.4375%\n",
      " | Epoch 0 | Loss: 0.006282694637775421 | Accuracy: 100.0%\n",
      " | Epoch 0 | Loss: 0.007312732748687267 | Accuracy: 100.0%\n",
      " | Epoch 0 | Loss: 0.01434037834405899 | Accuracy: 98.4375%\n",
      " | Epoch 0 | Loss: 0.005956549197435379 | Accuracy: 100.0%\n",
      " | Epoch 0 | Loss: 0.002959522418677807 | Accuracy: 100.0%\n",
      " | Epoch 0 | Loss: 0.0045126029290258884 | Accuracy: 100.0%\n",
      " | Epoch 0 | Loss: 0.013637550175189972 | Accuracy: 100.0%\n",
      " | Epoch 0 | Loss: 0.1356552243232727 | Accuracy: 98.4375%\n",
      " | Epoch 0 | Loss: 0.0054697152227163315 | Accuracy: 100.0%\n",
      " | Epoch 0 | Loss: 0.0127014871686697 | Accuracy: 100.0%\n"
     ]
    },
    {
     "name": "stderr",
     "output_type": "stream",
     "text": [
      "Epoch 0:  71%|█████████████████████▏        | 531/751 [00:05<00:02, 98.67batch/s, accuracy=100.0%, loss=0.00517]"
     ]
    },
    {
     "name": "stdout",
     "output_type": "stream",
     "text": [
      " | Epoch 0 | Loss: 0.018655607476830482 | Accuracy: 98.4375%\n",
      " | Epoch 0 | Loss: 0.006044608540832996 | Accuracy: 100.0%\n",
      " | Epoch 0 | Loss: 0.056580495089292526 | Accuracy: 98.4375%\n",
      " | Epoch 0 | Loss: 0.007459492422640324 | Accuracy: 100.0%\n",
      " | Epoch 0 | Loss: 0.017002273350954056 | Accuracy: 100.0%\n",
      " | Epoch 0 | Loss: 0.00531684048473835 | Accuracy: 100.0%\n",
      " | Epoch 0 | Loss: 0.014341572299599648 | Accuracy: 100.0%\n",
      " | Epoch 0 | Loss: 0.01242462731897831 | Accuracy: 100.0%\n",
      " | Epoch 0 | Loss: 0.06311904639005661 | Accuracy: 98.4375%\n",
      " | Epoch 0 | Loss: 0.010774201713502407 | Accuracy: 100.0%\n",
      " | Epoch 0 | Loss: 0.011606915853917599 | Accuracy: 100.0%\n",
      " | Epoch 0 | Loss: 0.0029471907764673233 | Accuracy: 100.0%\n",
      " | Epoch 0 | Loss: 0.0050338199362158775 | Accuracy: 100.0%\n",
      " | Epoch 0 | Loss: 0.0030045572202652693 | Accuracy: 100.0%\n",
      " | Epoch 0 | Loss: 0.010071752592921257 | Accuracy: 100.0%\n",
      " | Epoch 0 | Loss: 0.0029425332322716713 | Accuracy: 100.0%\n",
      " | Epoch 0 | Loss: 0.09816906601190567 | Accuracy: 98.4375%\n",
      " | Epoch 0 | Loss: 0.005114952567964792 | Accuracy: 100.0%\n",
      " | Epoch 0 | Loss: 0.004561309702694416 | Accuracy: 100.0%\n",
      " | Epoch 0 | Loss: 0.005170941818505526 | Accuracy: 100.0%\n"
     ]
    },
    {
     "name": "stderr",
     "output_type": "stream",
     "text": [
      "Epoch 0:  74%|██████████████████████▊        | 552/751 [00:05<00:02, 98.81batch/s, accuracy=100.0%, loss=0.0146]"
     ]
    },
    {
     "name": "stdout",
     "output_type": "stream",
     "text": [
      " | Epoch 0 | Loss: 0.004763050936162472 | Accuracy: 100.0%\n",
      " | Epoch 0 | Loss: 0.2597862482070923 | Accuracy: 96.875%\n",
      " | Epoch 0 | Loss: 0.013855136930942535 | Accuracy: 100.0%\n",
      " | Epoch 0 | Loss: 0.010256418958306313 | Accuracy: 100.0%\n",
      " | Epoch 0 | Loss: 0.004094495438039303 | Accuracy: 100.0%\n",
      " | Epoch 0 | Loss: 0.009577229619026184 | Accuracy: 100.0%\n",
      " | Epoch 0 | Loss: 0.007674628868699074 | Accuracy: 100.0%\n",
      " | Epoch 0 | Loss: 0.21733301877975464 | Accuracy: 98.4375%\n",
      " | Epoch 0 | Loss: 0.006712853908538818 | Accuracy: 100.0%\n",
      " | Epoch 0 | Loss: 0.009021871723234653 | Accuracy: 100.0%\n",
      " | Epoch 0 | Loss: 0.017028706148266792 | Accuracy: 100.0%\n",
      " | Epoch 0 | Loss: 0.015185907483100891 | Accuracy: 100.0%\n",
      " | Epoch 0 | Loss: 0.005869707092642784 | Accuracy: 100.0%\n",
      " | Epoch 0 | Loss: 0.009223063476383686 | Accuracy: 100.0%\n",
      " | Epoch 0 | Loss: 0.00410887598991394 | Accuracy: 100.0%\n",
      " | Epoch 0 | Loss: 0.01326335035264492 | Accuracy: 100.0%\n",
      " | Epoch 0 | Loss: 0.008135247975587845 | Accuracy: 100.0%\n",
      " | Epoch 0 | Loss: 0.017452333122491837 | Accuracy: 100.0%\n",
      " | Epoch 0 | Loss: 0.02459687553346157 | Accuracy: 98.4375%\n",
      " | Epoch 0 | Loss: 0.014588285237550735 | Accuracy: 100.0%\n"
     ]
    },
    {
     "name": "stderr",
     "output_type": "stream",
     "text": [
      "Epoch 0:  76%|██████████████████████▉       | 573/751 [00:06<00:01, 99.17batch/s, accuracy=100.0%, loss=0.00555]"
     ]
    },
    {
     "name": "stdout",
     "output_type": "stream",
     "text": [
      " | Epoch 0 | Loss: 0.006858719512820244 | Accuracy: 100.0%\n",
      " | Epoch 0 | Loss: 0.013431842438876629 | Accuracy: 100.0%\n",
      " | Epoch 0 | Loss: 0.07640650868415833 | Accuracy: 96.875%\n",
      " | Epoch 0 | Loss: 0.008202803321182728 | Accuracy: 100.0%\n",
      " | Epoch 0 | Loss: 0.005972540006041527 | Accuracy: 100.0%\n",
      " | Epoch 0 | Loss: 0.01064479723572731 | Accuracy: 100.0%\n",
      " | Epoch 0 | Loss: 0.007278927136212587 | Accuracy: 100.0%\n",
      " | Epoch 0 | Loss: 0.009904379025101662 | Accuracy: 100.0%\n",
      " | Epoch 0 | Loss: 0.007164806127548218 | Accuracy: 100.0%\n",
      " | Epoch 0 | Loss: 0.004874516278505325 | Accuracy: 100.0%\n",
      " | Epoch 0 | Loss: 0.0622832365334034 | Accuracy: 98.4375%\n",
      " | Epoch 0 | Loss: 0.007846018299460411 | Accuracy: 100.0%\n",
      " | Epoch 0 | Loss: 0.004770280793309212 | Accuracy: 100.0%\n",
      " | Epoch 0 | Loss: 0.006964196916669607 | Accuracy: 100.0%\n",
      " | Epoch 0 | Loss: 0.003075655549764633 | Accuracy: 100.0%\n",
      " | Epoch 0 | Loss: 0.020597608759999275 | Accuracy: 96.875%\n",
      " | Epoch 0 | Loss: 0.004693392664194107 | Accuracy: 100.0%\n",
      " | Epoch 0 | Loss: 0.01199849508702755 | Accuracy: 100.0%\n",
      " | Epoch 0 | Loss: 0.06164989992976189 | Accuracy: 98.4375%\n",
      " | Epoch 0 | Loss: 0.004519505891948938 | Accuracy: 100.0%\n",
      " | Epoch 0 | Loss: 0.005554859060794115 | Accuracy: 100.0%\n"
     ]
    },
    {
     "name": "stderr",
     "output_type": "stream",
     "text": [
      "Epoch 0:  79%|██████████████████████▉      | 595/751 [00:06<00:01, 100.45batch/s, accuracy=100.0%, loss=0.00284]"
     ]
    },
    {
     "name": "stdout",
     "output_type": "stream",
     "text": [
      " | Epoch 0 | Loss: 0.004809705074876547 | Accuracy: 100.0%\n",
      " | Epoch 0 | Loss: 0.005114020314067602 | Accuracy: 100.0%\n",
      " | Epoch 0 | Loss: 0.007871769368648529 | Accuracy: 100.0%\n",
      " | Epoch 0 | Loss: 0.010100824758410454 | Accuracy: 100.0%\n",
      " | Epoch 0 | Loss: 0.007459039334207773 | Accuracy: 100.0%\n",
      " | Epoch 0 | Loss: 0.0018270950531587005 | Accuracy: 100.0%\n",
      " | Epoch 0 | Loss: 0.013305777683854103 | Accuracy: 100.0%\n",
      " | Epoch 0 | Loss: 0.007959939539432526 | Accuracy: 100.0%\n",
      " | Epoch 0 | Loss: 0.012967431917786598 | Accuracy: 100.0%\n",
      " | Epoch 0 | Loss: 0.003443008055910468 | Accuracy: 100.0%\n",
      " | Epoch 0 | Loss: 0.003549968358129263 | Accuracy: 100.0%\n",
      " | Epoch 0 | Loss: 0.004570289980620146 | Accuracy: 100.0%\n",
      " | Epoch 0 | Loss: 0.0076230596750974655 | Accuracy: 100.0%\n",
      " | Epoch 0 | Loss: 0.2065158486366272 | Accuracy: 98.4375%\n",
      " | Epoch 0 | Loss: 0.010810935869812965 | Accuracy: 100.0%\n",
      " | Epoch 0 | Loss: 0.005580398254096508 | Accuracy: 100.0%\n",
      " | Epoch 0 | Loss: 0.003224725602194667 | Accuracy: 100.0%\n",
      " | Epoch 0 | Loss: 0.0032047752756625414 | Accuracy: 100.0%\n",
      " | Epoch 0 | Loss: 0.029439471662044525 | Accuracy: 98.4375%\n",
      " | Epoch 0 | Loss: 0.015929650515317917 | Accuracy: 98.4375%\n",
      " | Epoch 0 | Loss: 0.00283611798658967 | Accuracy: 100.0%\n"
     ]
    },
    {
     "name": "stderr",
     "output_type": "stream",
     "text": [
      "Epoch 0:  81%|████████████████████████▏     | 606/751 [00:06<00:01, 97.91batch/s, accuracy=100.0%, loss=0.00401]"
     ]
    },
    {
     "name": "stdout",
     "output_type": "stream",
     "text": [
      " | Epoch 0 | Loss: 0.003959561698138714 | Accuracy: 100.0%\n",
      " | Epoch 0 | Loss: 0.007056429982185364 | Accuracy: 100.0%\n",
      " | Epoch 0 | Loss: 0.006970336195081472 | Accuracy: 100.0%\n",
      " | Epoch 0 | Loss: 0.006417702883481979 | Accuracy: 100.0%\n",
      " | Epoch 0 | Loss: 0.004329913295805454 | Accuracy: 100.0%\n",
      " | Epoch 0 | Loss: 0.006046951282769442 | Accuracy: 100.0%\n",
      " | Epoch 0 | Loss: 0.0031856601126492023 | Accuracy: 100.0%\n",
      " | Epoch 0 | Loss: 0.004380611702799797 | Accuracy: 100.0%\n",
      " | Epoch 0 | Loss: 0.005364926531910896 | Accuracy: 100.0%\n",
      " | Epoch 0 | Loss: 0.009655322879552841 | Accuracy: 100.0%\n",
      " | Epoch 0 | Loss: 0.004078112542629242 | Accuracy: 100.0%\n",
      " | Epoch 0 | Loss: 0.09022754430770874 | Accuracy: 98.4375%\n",
      " | Epoch 0 | Loss: 0.0058728959411382675 | Accuracy: 100.0%\n",
      " | Epoch 0 | Loss: 0.006494164001196623 | Accuracy: 100.0%\n",
      " | Epoch 0 | Loss: 0.20046649873256683 | Accuracy: 98.4375%\n",
      " | Epoch 0 | Loss: 0.007810008712112904 | Accuracy: 100.0%\n",
      " | Epoch 0 | Loss: 0.11959370225667953 | Accuracy: 98.4375%\n",
      " | Epoch 0 | Loss: 0.03903677314519882 | Accuracy: 98.4375%\n",
      " | Epoch 0 | Loss: 0.0023388834670186043 | Accuracy: 100.0%\n",
      " | Epoch 0 | Loss: 0.004008231684565544 | Accuracy: 100.0%\n"
     ]
    },
    {
     "name": "stderr",
     "output_type": "stream",
     "text": [
      "Epoch 0:  83%|█████████████████████████     | 626/751 [00:06<00:01, 98.15batch/s, accuracy=96.875%, loss=0.0698]"
     ]
    },
    {
     "name": "stdout",
     "output_type": "stream",
     "text": [
      " | Epoch 0 | Loss: 0.004055076278746128 | Accuracy: 100.0%\n",
      " | Epoch 0 | Loss: 0.004173983819782734 | Accuracy: 100.0%\n",
      " | Epoch 0 | Loss: 0.06308398395776749 | Accuracy: 98.4375%\n",
      " | Epoch 0 | Loss: 0.013657879084348679 | Accuracy: 100.0%\n",
      " | Epoch 0 | Loss: 0.007036253809928894 | Accuracy: 100.0%\n",
      " | Epoch 0 | Loss: 0.004009700380265713 | Accuracy: 100.0%\n",
      " | Epoch 0 | Loss: 0.026077408343553543 | Accuracy: 100.0%\n",
      " | Epoch 0 | Loss: 0.00817372277379036 | Accuracy: 100.0%\n",
      " | Epoch 0 | Loss: 0.0071422383189201355 | Accuracy: 100.0%\n",
      " | Epoch 0 | Loss: 0.007596014533191919 | Accuracy: 100.0%\n",
      " | Epoch 0 | Loss: 0.0025343375746160746 | Accuracy: 100.0%\n",
      " | Epoch 0 | Loss: 0.048393212258815765 | Accuracy: 98.4375%\n",
      " | Epoch 0 | Loss: 0.002377486554905772 | Accuracy: 100.0%\n",
      " | Epoch 0 | Loss: 0.004996869713068008 | Accuracy: 100.0%\n",
      " | Epoch 0 | Loss: 0.00544391293078661 | Accuracy: 100.0%\n",
      " | Epoch 0 | Loss: 0.00801856629550457 | Accuracy: 100.0%\n",
      " | Epoch 0 | Loss: 0.019495602697134018 | Accuracy: 100.0%\n",
      " | Epoch 0 | Loss: 0.0029128682799637318 | Accuracy: 100.0%\n",
      " | Epoch 0 | Loss: 0.004445867612957954 | Accuracy: 100.0%\n",
      " | Epoch 0 | Loss: 0.005817260127514601 | Accuracy: 100.0%\n",
      " | Epoch 0 | Loss: 0.06982186436653137 | Accuracy: 96.875%\n"
     ]
    },
    {
     "name": "stderr",
     "output_type": "stream",
     "text": [
      "Epoch 0:  86%|█████████████████████████▊    | 647/751 [00:06<00:01, 99.04batch/s, accuracy=100.0%, loss=0.00384]"
     ]
    },
    {
     "name": "stdout",
     "output_type": "stream",
     "text": [
      " | Epoch 0 | Loss: 0.0033056302927434444 | Accuracy: 100.0%\n",
      " | Epoch 0 | Loss: 0.00767354154959321 | Accuracy: 100.0%\n",
      " | Epoch 0 | Loss: 0.007342953234910965 | Accuracy: 100.0%\n",
      " | Epoch 0 | Loss: 0.009059392847120762 | Accuracy: 100.0%\n",
      " | Epoch 0 | Loss: 0.006136354990303516 | Accuracy: 100.0%\n",
      " | Epoch 0 | Loss: 0.004484903998672962 | Accuracy: 100.0%\n",
      " | Epoch 0 | Loss: 0.001942340866662562 | Accuracy: 100.0%\n",
      " | Epoch 0 | Loss: 0.010648312047123909 | Accuracy: 100.0%\n",
      " | Epoch 0 | Loss: 0.008930381387472153 | Accuracy: 100.0%\n",
      " | Epoch 0 | Loss: 0.003081988077610731 | Accuracy: 100.0%\n",
      " | Epoch 0 | Loss: 0.00805604550987482 | Accuracy: 100.0%\n",
      " | Epoch 0 | Loss: 0.0018702712841331959 | Accuracy: 100.0%\n",
      " | Epoch 0 | Loss: 0.0029001086950302124 | Accuracy: 100.0%\n",
      " | Epoch 0 | Loss: 0.002451630774885416 | Accuracy: 100.0%\n",
      " | Epoch 0 | Loss: 0.11373697221279144 | Accuracy: 98.4375%\n",
      " | Epoch 0 | Loss: 0.25208479166030884 | Accuracy: 98.4375%\n",
      " | Epoch 0 | Loss: 0.0058624823577702045 | Accuracy: 100.0%\n",
      " | Epoch 0 | Loss: 0.007182111032307148 | Accuracy: 100.0%\n",
      " | Epoch 0 | Loss: 0.011918948963284492 | Accuracy: 100.0%\n",
      " | Epoch 0 | Loss: 0.005306950770318508 | Accuracy: 100.0%\n",
      " | Epoch 0 | Loss: 0.0038437936455011368 | Accuracy: 100.0%\n"
     ]
    },
    {
     "name": "stderr",
     "output_type": "stream",
     "text": [
      "Epoch 0:  89%|██████████████████████████▋   | 668/751 [00:07<00:00, 99.26batch/s, accuracy=100.0%, loss=0.00829]"
     ]
    },
    {
     "name": "stdout",
     "output_type": "stream",
     "text": [
      " | Epoch 0 | Loss: 0.007152278907597065 | Accuracy: 100.0%\n",
      " | Epoch 0 | Loss: 0.009710614569485188 | Accuracy: 100.0%\n",
      " | Epoch 0 | Loss: 0.003012554720044136 | Accuracy: 100.0%\n",
      " | Epoch 0 | Loss: 0.005920955911278725 | Accuracy: 100.0%\n",
      " | Epoch 0 | Loss: 0.006555313244462013 | Accuracy: 100.0%\n",
      " | Epoch 0 | Loss: 0.05690208077430725 | Accuracy: 96.875%\n",
      " | Epoch 0 | Loss: 0.08048860728740692 | Accuracy: 98.4375%\n",
      " | Epoch 0 | Loss: 0.037116337567567825 | Accuracy: 98.4375%\n",
      " | Epoch 0 | Loss: 0.0029074090998619795 | Accuracy: 100.0%\n",
      " | Epoch 0 | Loss: 0.009355036541819572 | Accuracy: 100.0%\n",
      " | Epoch 0 | Loss: 0.003236903576180339 | Accuracy: 100.0%\n",
      " | Epoch 0 | Loss: 0.003870747983455658 | Accuracy: 100.0%\n",
      " | Epoch 0 | Loss: 0.004075306933373213 | Accuracy: 100.0%\n",
      " | Epoch 0 | Loss: 0.001659268164075911 | Accuracy: 100.0%\n",
      " | Epoch 0 | Loss: 0.01645750366151333 | Accuracy: 100.0%\n",
      " | Epoch 0 | Loss: 0.005501145496964455 | Accuracy: 100.0%\n",
      " | Epoch 0 | Loss: 0.007562344428151846 | Accuracy: 100.0%\n",
      " | Epoch 0 | Loss: 0.006217295303940773 | Accuracy: 100.0%\n",
      " | Epoch 0 | Loss: 0.003755493089556694 | Accuracy: 100.0%\n"
     ]
    },
    {
     "name": "stderr",
     "output_type": "stream",
     "text": [
      "Epoch 0:  92%|███████████████████████████▌  | 689/751 [00:07<00:00, 99.32batch/s, accuracy=98.4375%, loss=0.141]"
     ]
    },
    {
     "name": "stdout",
     "output_type": "stream",
     "text": [
      " | Epoch 0 | Loss: 0.008289201185107231 | Accuracy: 100.0%\n",
      " | Epoch 0 | Loss: 0.0167883038520813 | Accuracy: 98.4375%\n",
      " | Epoch 0 | Loss: 0.013149160891771317 | Accuracy: 100.0%\n",
      " | Epoch 0 | Loss: 0.004077275283634663 | Accuracy: 100.0%\n",
      " | Epoch 0 | Loss: 0.006932113319635391 | Accuracy: 100.0%\n",
      " | Epoch 0 | Loss: 0.006927330046892166 | Accuracy: 100.0%\n",
      " | Epoch 0 | Loss: 0.002425387967377901 | Accuracy: 100.0%\n",
      " | Epoch 0 | Loss: 0.024513812735676765 | Accuracy: 98.4375%\n",
      " | Epoch 0 | Loss: 0.08698622137308121 | Accuracy: 98.4375%\n",
      " | Epoch 0 | Loss: 0.004874381236732006 | Accuracy: 100.0%\n",
      " | Epoch 0 | Loss: 0.014851163141429424 | Accuracy: 100.0%\n",
      " | Epoch 0 | Loss: 0.0036684912629425526 | Accuracy: 100.0%\n",
      " | Epoch 0 | Loss: 0.004806478973478079 | Accuracy: 100.0%\n",
      " | Epoch 0 | Loss: 0.061615459620952606 | Accuracy: 98.4375%\n",
      " | Epoch 0 | Loss: 0.01869393326342106 | Accuracy: 100.0%\n",
      " | Epoch 0 | Loss: 0.0036819935776293278 | Accuracy: 100.0%\n",
      " | Epoch 0 | Loss: 0.005610715597867966 | Accuracy: 100.0%\n",
      " | Epoch 0 | Loss: 0.014145934022963047 | Accuracy: 100.0%\n",
      " | Epoch 0 | Loss: 0.06835676729679108 | Accuracy: 98.4375%\n",
      " | Epoch 0 | Loss: 0.0050467862747609615 | Accuracy: 100.0%\n",
      " | Epoch 0 | Loss: 0.14121094346046448 | Accuracy: 98.4375%\n"
     ]
    },
    {
     "name": "stderr",
     "output_type": "stream",
     "text": [
      "Epoch 0:  95%|███████████████████████████▍ | 710/751 [00:07<00:00, 100.06batch/s, accuracy=100.0%, loss=0.00364]"
     ]
    },
    {
     "name": "stdout",
     "output_type": "stream",
     "text": [
      " | Epoch 0 | Loss: 0.008586940355598927 | Accuracy: 100.0%\n",
      " | Epoch 0 | Loss: 0.011513374745845795 | Accuracy: 100.0%\n",
      " | Epoch 0 | Loss: 0.003918064292520285 | Accuracy: 100.0%\n",
      " | Epoch 0 | Loss: 0.007697475142776966 | Accuracy: 100.0%\n",
      " | Epoch 0 | Loss: 0.009676775895059109 | Accuracy: 100.0%\n",
      " | Epoch 0 | Loss: 0.0050741820596158504 | Accuracy: 100.0%\n",
      " | Epoch 0 | Loss: 0.0029340083710849285 | Accuracy: 100.0%\n",
      " | Epoch 0 | Loss: 0.006065129768103361 | Accuracy: 100.0%\n",
      " | Epoch 0 | Loss: 0.006289932876825333 | Accuracy: 100.0%\n",
      " | Epoch 0 | Loss: 0.2811431884765625 | Accuracy: 98.4375%\n",
      " | Epoch 0 | Loss: 0.00400256272405386 | Accuracy: 100.0%\n",
      " | Epoch 0 | Loss: 0.08426303416490555 | Accuracy: 98.4375%\n",
      " | Epoch 0 | Loss: 0.0040533519349992275 | Accuracy: 100.0%\n",
      " | Epoch 0 | Loss: 0.0033346107229590416 | Accuracy: 100.0%\n",
      " | Epoch 0 | Loss: 0.019213618710637093 | Accuracy: 100.0%\n",
      " | Epoch 0 | Loss: 0.007444300223141909 | Accuracy: 100.0%\n",
      " | Epoch 0 | Loss: 0.016033314168453217 | Accuracy: 100.0%\n",
      " | Epoch 0 | Loss: 0.0017825406976044178 | Accuracy: 100.0%\n",
      " | Epoch 0 | Loss: 0.005212326534092426 | Accuracy: 100.0%\n",
      " | Epoch 0 | Loss: 0.006789106409996748 | Accuracy: 100.0%\n"
     ]
    },
    {
     "name": "stderr",
     "output_type": "stream",
     "text": [
      "Epoch 0:  97%|████████████████████████████▎| 732/751 [00:07<00:00, 100.73batch/s, accuracy=100.0%, loss=0.00583]"
     ]
    },
    {
     "name": "stdout",
     "output_type": "stream",
     "text": [
      " | Epoch 0 | Loss: 0.003641780000180006 | Accuracy: 100.0%\n",
      " | Epoch 0 | Loss: 0.012983730062842369 | Accuracy: 100.0%\n",
      " | Epoch 0 | Loss: 0.00214536115527153 | Accuracy: 100.0%\n",
      " | Epoch 0 | Loss: 0.00493615260347724 | Accuracy: 100.0%\n",
      " | Epoch 0 | Loss: 0.2473776936531067 | Accuracy: 98.4375%\n",
      " | Epoch 0 | Loss: 0.025336390361189842 | Accuracy: 98.4375%\n",
      " | Epoch 0 | Loss: 0.01208830438554287 | Accuracy: 100.0%\n",
      " | Epoch 0 | Loss: 0.009566020220518112 | Accuracy: 100.0%\n",
      " | Epoch 0 | Loss: 0.17945335805416107 | Accuracy: 96.875%\n",
      " | Epoch 0 | Loss: 0.004769850522279739 | Accuracy: 100.0%\n",
      " | Epoch 0 | Loss: 0.013601728715002537 | Accuracy: 100.0%\n",
      " | Epoch 0 | Loss: 0.003552177455276251 | Accuracy: 100.0%\n",
      " | Epoch 0 | Loss: 0.0033668139949440956 | Accuracy: 100.0%\n",
      " | Epoch 0 | Loss: 0.10141824930906296 | Accuracy: 98.4375%\n",
      " | Epoch 0 | Loss: 0.03260134905576706 | Accuracy: 98.4375%\n",
      " | Epoch 0 | Loss: 0.0027566561475396156 | Accuracy: 100.0%\n",
      " | Epoch 0 | Loss: 0.008387861773371696 | Accuracy: 100.0%\n",
      " | Epoch 0 | Loss: 0.0064858971163630486 | Accuracy: 100.0%\n",
      " | Epoch 0 | Loss: 0.06391731649637222 | Accuracy: 98.4375%\n",
      " | Epoch 0 | Loss: 0.006007340736687183 | Accuracy: 100.0%\n",
      " | Epoch 0 | Loss: 0.005830017384141684 | Accuracy: 100.0%\n"
     ]
    },
    {
     "name": "stderr",
     "output_type": "stream",
     "text": [
      "Epoch 0: 100%|█████████████████████████████| 751/751 [00:07<00:00, 94.99batch/s, accuracy=100.0%, loss=0.000133]\n"
     ]
    },
    {
     "name": "stdout",
     "output_type": "stream",
     "text": [
      " | Epoch 0 | Loss: 0.0020483057014644146 | Accuracy: 100.0%\n",
      " | Epoch 0 | Loss: 0.004317469894886017 | Accuracy: 100.0%\n",
      " | Epoch 0 | Loss: 0.39757969975471497 | Accuracy: 98.4375%\n",
      " | Epoch 0 | Loss: 0.013543958775699139 | Accuracy: 98.4375%\n",
      " | Epoch 0 | Loss: 0.012955238111317158 | Accuracy: 100.0%\n",
      " | Epoch 0 | Loss: 0.02838893048465252 | Accuracy: 100.0%\n",
      " | Epoch 0 | Loss: 0.021721597760915756 | Accuracy: 100.0%\n",
      " | Epoch 0 | Loss: 0.08343318849802017 | Accuracy: 98.4375%\n",
      " | Epoch 0 | Loss: 0.00941137969493866 | Accuracy: 100.0%\n",
      " | Epoch 0 | Loss: 0.02329140342772007 | Accuracy: 100.0%\n",
      " | Epoch 0 | Loss: 0.21564294397830963 | Accuracy: 98.4375%\n",
      " | Epoch 0 | Loss: 0.04182416945695877 | Accuracy: 98.4375%\n",
      " | Epoch 0 | Loss: 0.0001331414096057415 | Accuracy: 100.0%\n"
     ]
    },
    {
     "name": "stderr",
     "output_type": "stream",
     "text": [
      "Evaluating group-wise accuracy:   4%|█▊                                          | 1/25 [00:00<00:06,  3.97it/s]"
     ]
    },
    {
     "name": "stdout",
     "output_type": "stream",
     "text": [
      "Group (0, 0) Accuracy: 22.090729783037474\n"
     ]
    },
    {
     "name": "stderr",
     "output_type": "stream",
     "text": [
      "Evaluating group-wise accuracy:   8%|███▌                                        | 2/25 [00:00<00:05,  4.45it/s]"
     ]
    },
    {
     "name": "stdout",
     "output_type": "stream",
     "text": [
      "Group (0, 1) Accuracy: 21.499013806706113\n"
     ]
    },
    {
     "name": "stderr",
     "output_type": "stream",
     "text": [
      "Evaluating group-wise accuracy:  12%|█████▎                                      | 3/25 [00:00<00:04,  4.44it/s]"
     ]
    },
    {
     "name": "stdout",
     "output_type": "stream",
     "text": [
      "Group (0, 2) Accuracy: 22.727272727272727\n"
     ]
    },
    {
     "name": "stderr",
     "output_type": "stream",
     "text": [
      "Evaluating group-wise accuracy:  16%|███████                                     | 4/25 [00:00<00:04,  4.43it/s]"
     ]
    },
    {
     "name": "stdout",
     "output_type": "stream",
     "text": [
      "Group (0, 3) Accuracy: 21.936758893280633\n"
     ]
    },
    {
     "name": "stderr",
     "output_type": "stream",
     "text": [
      "Evaluating group-wise accuracy:  20%|████████▊                                   | 5/25 [00:01<00:04,  4.44it/s]"
     ]
    },
    {
     "name": "stdout",
     "output_type": "stream",
     "text": [
      "Group (0, 4) Accuracy: 22.529644268774703\n"
     ]
    },
    {
     "name": "stderr",
     "output_type": "stream",
     "text": [
      "Evaluating group-wise accuracy:  24%|██████████▌                                 | 6/25 [00:01<00:04,  4.32it/s]"
     ]
    },
    {
     "name": "stdout",
     "output_type": "stream",
     "text": [
      "Group (1, 0) Accuracy: 27.892561983471076\n"
     ]
    },
    {
     "name": "stderr",
     "output_type": "stream",
     "text": [
      "Evaluating group-wise accuracy:  28%|████████████▎                               | 7/25 [00:01<00:04,  4.28it/s]"
     ]
    },
    {
     "name": "stdout",
     "output_type": "stream",
     "text": [
      "Group (1, 1) Accuracy: 27.68595041322314\n"
     ]
    },
    {
     "name": "stderr",
     "output_type": "stream",
     "text": [
      "Evaluating group-wise accuracy:  32%|██████████████                              | 8/25 [00:01<00:04,  4.22it/s]"
     ]
    },
    {
     "name": "stdout",
     "output_type": "stream",
     "text": [
      "Group (1, 2) Accuracy: 26.501035196687372\n"
     ]
    },
    {
     "name": "stderr",
     "output_type": "stream",
     "text": [
      "Evaluating group-wise accuracy:  36%|███████████████▊                            | 9/25 [00:02<00:03,  4.18it/s]"
     ]
    },
    {
     "name": "stdout",
     "output_type": "stream",
     "text": [
      "Group (1, 3) Accuracy: 29.399585921325052\n"
     ]
    },
    {
     "name": "stderr",
     "output_type": "stream",
     "text": [
      "Evaluating group-wise accuracy:  40%|█████████████████▏                         | 10/25 [00:02<00:03,  4.23it/s]"
     ]
    },
    {
     "name": "stdout",
     "output_type": "stream",
     "text": [
      "Group (1, 4) Accuracy: 24.016563146997928\n"
     ]
    },
    {
     "name": "stderr",
     "output_type": "stream",
     "text": [
      "Evaluating group-wise accuracy:  44%|██████████████████▉                        | 11/25 [00:02<00:03,  4.14it/s]"
     ]
    },
    {
     "name": "stdout",
     "output_type": "stream",
     "text": [
      "Group (2, 0) Accuracy: 20.39911308203991\n"
     ]
    },
    {
     "name": "stderr",
     "output_type": "stream",
     "text": [
      "Evaluating group-wise accuracy:  48%|████████████████████▋                      | 12/25 [00:02<00:03,  4.22it/s]"
     ]
    },
    {
     "name": "stdout",
     "output_type": "stream",
     "text": [
      "Group (2, 1) Accuracy: 17.073170731707318\n"
     ]
    },
    {
     "name": "stderr",
     "output_type": "stream",
     "text": [
      "Evaluating group-wise accuracy:  52%|██████████████████████▎                    | 13/25 [00:03<00:02,  4.20it/s]"
     ]
    },
    {
     "name": "stdout",
     "output_type": "stream",
     "text": [
      "Group (2, 2) Accuracy: 23.11111111111111\n"
     ]
    },
    {
     "name": "stderr",
     "output_type": "stream",
     "text": [
      "Evaluating group-wise accuracy:  56%|████████████████████████                   | 14/25 [00:03<00:02,  4.24it/s]"
     ]
    },
    {
     "name": "stdout",
     "output_type": "stream",
     "text": [
      "Group (2, 3) Accuracy: 22.444444444444443\n"
     ]
    },
    {
     "name": "stderr",
     "output_type": "stream",
     "text": [
      "Evaluating group-wise accuracy:  60%|█████████████████████████▊                 | 15/25 [00:03<00:02,  4.34it/s]"
     ]
    },
    {
     "name": "stdout",
     "output_type": "stream",
     "text": [
      "Group (2, 4) Accuracy: 16.88888888888889\n"
     ]
    },
    {
     "name": "stderr",
     "output_type": "stream",
     "text": [
      "Evaluating group-wise accuracy:  64%|███████████████████████████▌               | 16/25 [00:03<00:01,  4.52it/s]"
     ]
    },
    {
     "name": "stdout",
     "output_type": "stream",
     "text": [
      "Group (3, 0) Accuracy: 18.852459016393443\n"
     ]
    },
    {
     "name": "stderr",
     "output_type": "stream",
     "text": [
      "Evaluating group-wise accuracy:  68%|█████████████████████████████▏             | 17/25 [00:03<00:01,  4.49it/s]"
     ]
    },
    {
     "name": "stdout",
     "output_type": "stream",
     "text": [
      "Group (3, 1) Accuracy: 21.35523613963039\n"
     ]
    },
    {
     "name": "stderr",
     "output_type": "stream",
     "text": [
      "Evaluating group-wise accuracy:  72%|██████████████████████████████▉            | 18/25 [00:04<00:01,  4.64it/s]"
     ]
    },
    {
     "name": "stdout",
     "output_type": "stream",
     "text": [
      "Group (3, 2) Accuracy: 18.480492813141684\n"
     ]
    },
    {
     "name": "stderr",
     "output_type": "stream",
     "text": [
      "Evaluating group-wise accuracy:  76%|████████████████████████████████▋          | 19/25 [00:04<00:01,  4.82it/s]"
     ]
    },
    {
     "name": "stdout",
     "output_type": "stream",
     "text": [
      "Group (3, 3) Accuracy: 21.971252566735114\n"
     ]
    },
    {
     "name": "stderr",
     "output_type": "stream",
     "text": [
      "Evaluating group-wise accuracy:  80%|██████████████████████████████████▍        | 20/25 [00:04<00:01,  4.66it/s]"
     ]
    },
    {
     "name": "stdout",
     "output_type": "stream",
     "text": [
      "Group (3, 4) Accuracy: 18.68583162217659\n"
     ]
    },
    {
     "name": "stderr",
     "output_type": "stream",
     "text": [
      "Evaluating group-wise accuracy:  84%|████████████████████████████████████       | 21/25 [00:04<00:00,  4.65it/s]"
     ]
    },
    {
     "name": "stdout",
     "output_type": "stream",
     "text": [
      "Group (4, 0) Accuracy: 61.440677966101696\n"
     ]
    },
    {
     "name": "stderr",
     "output_type": "stream",
     "text": [
      "Evaluating group-wise accuracy:  88%|█████████████████████████████████████▊     | 22/25 [00:04<00:00,  4.61it/s]"
     ]
    },
    {
     "name": "stdout",
     "output_type": "stream",
     "text": [
      "Group (4, 1) Accuracy: 60.80508474576271\n"
     ]
    },
    {
     "name": "stderr",
     "output_type": "stream",
     "text": [
      "Evaluating group-wise accuracy:  92%|███████████████████████████████████████▌   | 23/25 [00:05<00:00,  4.58it/s]"
     ]
    },
    {
     "name": "stdout",
     "output_type": "stream",
     "text": [
      "Group (4, 2) Accuracy: 56.144067796610166\n"
     ]
    },
    {
     "name": "stderr",
     "output_type": "stream",
     "text": [
      "Evaluating group-wise accuracy:  96%|█████████████████████████████████████████▎ | 24/25 [00:05<00:00,  4.39it/s]"
     ]
    },
    {
     "name": "stdout",
     "output_type": "stream",
     "text": [
      "Group (4, 3) Accuracy: 57.41525423728814\n"
     ]
    },
    {
     "name": "stderr",
     "output_type": "stream",
     "text": [
      "Evaluating group-wise accuracy: 100%|███████████████████████████████████████████| 25/25 [00:05<00:00,  4.40it/s]\n"
     ]
    },
    {
     "name": "stdout",
     "output_type": "stream",
     "text": [
      "Group (4, 4) Accuracy: 58.174097664543524\n",
      "Epoch 0:  Val Worst-Group Accuracy: 16.88888888888889\n",
      "Best Val Worst-Group Accuracy: 16.88888888888889\n"
     ]
    },
    {
     "name": "stderr",
     "output_type": "stream",
     "text": [
      "Epoch 1:   0%|                                | 1/751 [00:00<01:44,  7.18batch/s, accuracy=100.0%, loss=0.00909]"
     ]
    },
    {
     "name": "stdout",
     "output_type": "stream",
     "text": [
      " | Epoch 1 | Loss: 0.03499859943985939 | Accuracy: 98.4375%\n",
      " | Epoch 1 | Loss: 0.3411433696746826 | Accuracy: 98.4375%\n",
      " | Epoch 1 | Loss: 0.011676015332341194 | Accuracy: 100.0%\n",
      " | Epoch 1 | Loss: 0.009092270396649837 | Accuracy: 100.0%\n"
     ]
    },
    {
     "name": "stderr",
     "output_type": "stream",
     "text": [
      "Epoch 1:   1%|▎                               | 8/751 [00:00<00:19, 38.57batch/s, accuracy=100.0%, loss=0.00371]"
     ]
    },
    {
     "name": "stdout",
     "output_type": "stream",
     "text": [
      " | Epoch 1 | Loss: 0.010385935194790363 | Accuracy: 100.0%\n",
      " | Epoch 1 | Loss: 0.01210043951869011 | Accuracy: 100.0%\n",
      " | Epoch 1 | Loss: 0.007381154224276543 | Accuracy: 100.0%\n",
      " | Epoch 1 | Loss: 0.007737236563116312 | Accuracy: 100.0%\n",
      " | Epoch 1 | Loss: 0.06908012926578522 | Accuracy: 98.4375%\n",
      " | Epoch 1 | Loss: 0.013650033622980118 | Accuracy: 100.0%\n",
      " | Epoch 1 | Loss: 0.01265246793627739 | Accuracy: 100.0%\n",
      " | Epoch 1 | Loss: 0.0037001122254878283 | Accuracy: 100.0%\n",
      " | Epoch 1 | Loss: 0.007849634625017643 | Accuracy: 100.0%\n",
      " | Epoch 1 | Loss: 0.01210462674498558 | Accuracy: 100.0%\n",
      " | Epoch 1 | Loss: 0.007743185851722956 | Accuracy: 100.0%\n",
      " | Epoch 1 | Loss: 0.00905072595924139 | Accuracy: 100.0%\n",
      " | Epoch 1 | Loss: 0.0037117479369044304 | Accuracy: 100.0%\n"
     ]
    },
    {
     "name": "stderr",
     "output_type": "stream",
     "text": [
      "Epoch 1:   2%|▊                                | 18/751 [00:00<00:11, 63.09batch/s, accuracy=100.0%, loss=0.035]"
     ]
    },
    {
     "name": "stdout",
     "output_type": "stream",
     "text": [
      " | Epoch 1 | Loss: 0.06752898544073105 | Accuracy: 98.4375%\n",
      " | Epoch 1 | Loss: 0.005412321072071791 | Accuracy: 100.0%\n",
      " | Epoch 1 | Loss: 0.02117619477212429 | Accuracy: 98.4375%\n",
      " | Epoch 1 | Loss: 0.012990757822990417 | Accuracy: 100.0%\n",
      " | Epoch 1 | Loss: 0.004872233606874943 | Accuracy: 100.0%\n",
      " | Epoch 1 | Loss: 0.03496730327606201 | Accuracy: 100.0%\n"
     ]
    },
    {
     "name": "stderr",
     "output_type": "stream",
     "text": [
      "Epoch 1:   4%|█▏                             | 29/751 [00:00<00:09, 78.20batch/s, accuracy=98.4375%, loss=0.032]"
     ]
    },
    {
     "name": "stdout",
     "output_type": "stream",
     "text": [
      " | Epoch 1 | Loss: 0.00942893698811531 | Accuracy: 100.0%\n",
      " | Epoch 1 | Loss: 0.00400384608656168 | Accuracy: 100.0%\n",
      " | Epoch 1 | Loss: 0.09797047078609467 | Accuracy: 96.875%\n",
      " | Epoch 1 | Loss: 0.0056726643815636635 | Accuracy: 100.0%\n",
      " | Epoch 1 | Loss: 0.01969871297478676 | Accuracy: 98.4375%\n",
      " | Epoch 1 | Loss: 0.05863571912050247 | Accuracy: 98.4375%\n",
      " | Epoch 1 | Loss: 0.002693267771974206 | Accuracy: 100.0%\n",
      " | Epoch 1 | Loss: 0.011760562658309937 | Accuracy: 100.0%\n",
      " | Epoch 1 | Loss: 0.017040736973285675 | Accuracy: 100.0%\n",
      " | Epoch 1 | Loss: 0.008695993572473526 | Accuracy: 100.0%\n",
      " | Epoch 1 | Loss: 0.005748381372541189 | Accuracy: 100.0%\n",
      " | Epoch 1 | Loss: 0.015919923782348633 | Accuracy: 100.0%\n",
      " | Epoch 1 | Loss: 0.009379270486533642 | Accuracy: 100.0%\n",
      " | Epoch 1 | Loss: 0.024498730897903442 | Accuracy: 98.4375%\n",
      " | Epoch 1 | Loss: 0.03204909339547157 | Accuracy: 98.4375%\n"
     ]
    },
    {
     "name": "stderr",
     "output_type": "stream",
     "text": [
      "Epoch 1:   5%|█▋                             | 40/751 [00:00<00:08, 87.30batch/s, accuracy=100.0%, loss=0.00292]"
     ]
    },
    {
     "name": "stdout",
     "output_type": "stream",
     "text": [
      " | Epoch 1 | Loss: 0.003400590969249606 | Accuracy: 100.0%\n",
      " | Epoch 1 | Loss: 0.003705481067299843 | Accuracy: 100.0%\n",
      " | Epoch 1 | Loss: 0.016826042905449867 | Accuracy: 100.0%\n",
      " | Epoch 1 | Loss: 0.02644704468548298 | Accuracy: 100.0%\n",
      " | Epoch 1 | Loss: 0.46431776881217957 | Accuracy: 98.4375%\n",
      " | Epoch 1 | Loss: 0.009355077520012856 | Accuracy: 100.0%\n"
     ]
    },
    {
     "name": "stderr",
     "output_type": "stream",
     "text": [
      "Epoch 1:   7%|██                             | 51/751 [00:00<00:07, 94.16batch/s, accuracy=100.0%, loss=0.00654]"
     ]
    },
    {
     "name": "stdout",
     "output_type": "stream",
     "text": [
      " | Epoch 1 | Loss: 0.002920445753261447 | Accuracy: 100.0%\n",
      " | Epoch 1 | Loss: 0.00726585928350687 | Accuracy: 100.0%\n",
      " | Epoch 1 | Loss: 0.019204072654247284 | Accuracy: 98.4375%\n",
      " | Epoch 1 | Loss: 0.008138561621308327 | Accuracy: 100.0%\n",
      " | Epoch 1 | Loss: 0.006636299192905426 | Accuracy: 100.0%\n",
      " | Epoch 1 | Loss: 0.00412999140098691 | Accuracy: 100.0%\n",
      " | Epoch 1 | Loss: 0.010362174361944199 | Accuracy: 100.0%\n",
      " | Epoch 1 | Loss: 0.01031862385571003 | Accuracy: 100.0%\n",
      " | Epoch 1 | Loss: 0.00731650460511446 | Accuracy: 100.0%\n",
      " | Epoch 1 | Loss: 0.18693295121192932 | Accuracy: 98.4375%\n",
      " | Epoch 1 | Loss: 0.04238273203372955 | Accuracy: 98.4375%\n",
      " | Epoch 1 | Loss: 0.27717143297195435 | Accuracy: 98.4375%\n",
      " | Epoch 1 | Loss: 0.006412129383534193 | Accuracy: 100.0%\n",
      " | Epoch 1 | Loss: 0.002373337745666504 | Accuracy: 100.0%\n",
      " | Epoch 1 | Loss: 0.08003029972314835 | Accuracy: 98.4375%\n",
      " | Epoch 1 | Loss: 0.008676464669406414 | Accuracy: 100.0%\n",
      " | Epoch 1 | Loss: 0.0065390365198254585 | Accuracy: 100.0%\n"
     ]
    },
    {
     "name": "stderr",
     "output_type": "stream",
     "text": [
      "Epoch 1:   8%|██▌                            | 62/751 [00:00<00:07, 97.97batch/s, accuracy=100.0%, loss=0.00611]"
     ]
    },
    {
     "name": "stdout",
     "output_type": "stream",
     "text": [
      " | Epoch 1 | Loss: 0.014059758745133877 | Accuracy: 100.0%\n",
      " | Epoch 1 | Loss: 0.009609874337911606 | Accuracy: 100.0%\n",
      " | Epoch 1 | Loss: 0.0126077551394701 | Accuracy: 100.0%\n"
     ]
    },
    {
     "name": "stderr",
     "output_type": "stream",
     "text": [
      "Epoch 1:  10%|███                             | 72/751 [00:00<00:07, 95.61batch/s, accuracy=100.0%, loss=0.0137]"
     ]
    },
    {
     "name": "stdout",
     "output_type": "stream",
     "text": [
      " | Epoch 1 | Loss: 0.00611363397911191 | Accuracy: 100.0%\n",
      " | Epoch 1 | Loss: 0.045482248067855835 | Accuracy: 98.4375%\n",
      " | Epoch 1 | Loss: 0.0029134347569197416 | Accuracy: 100.0%\n",
      " | Epoch 1 | Loss: 0.5076907277107239 | Accuracy: 98.4375%\n",
      " | Epoch 1 | Loss: 0.011466657742857933 | Accuracy: 100.0%\n",
      " | Epoch 1 | Loss: 0.04117906466126442 | Accuracy: 98.4375%\n",
      " | Epoch 1 | Loss: 0.005278674885630608 | Accuracy: 100.0%\n",
      " | Epoch 1 | Loss: 0.0129769342020154 | Accuracy: 100.0%\n",
      " | Epoch 1 | Loss: 0.02075878158211708 | Accuracy: 100.0%\n",
      " | Epoch 1 | Loss: 0.00696855504065752 | Accuracy: 100.0%\n",
      " | Epoch 1 | Loss: 0.021404292434453964 | Accuracy: 100.0%\n",
      " | Epoch 1 | Loss: 0.016468239948153496 | Accuracy: 100.0%\n",
      " | Epoch 1 | Loss: 0.010463825426995754 | Accuracy: 98.4375%\n",
      " | Epoch 1 | Loss: 0.011444488540291786 | Accuracy: 100.0%\n",
      " | Epoch 1 | Loss: 0.00431465171277523 | Accuracy: 100.0%\n",
      " | Epoch 1 | Loss: 0.004979782737791538 | Accuracy: 100.0%\n",
      " | Epoch 1 | Loss: 0.013694961555302143 | Accuracy: 100.0%\n"
     ]
    },
    {
     "name": "stderr",
     "output_type": "stream",
     "text": [
      "Epoch 1:  11%|███▎                          | 83/751 [00:01<00:06, 99.21batch/s, accuracy=98.4375%, loss=0.0608]"
     ]
    },
    {
     "name": "stdout",
     "output_type": "stream",
     "text": [
      " | Epoch 1 | Loss: 0.005310088396072388 | Accuracy: 100.0%\n",
      " | Epoch 1 | Loss: 0.0030910978093743324 | Accuracy: 100.0%\n",
      " | Epoch 1 | Loss: 0.018917853012681007 | Accuracy: 100.0%\n",
      " | Epoch 1 | Loss: 0.0053984494879841805 | Accuracy: 100.0%\n",
      " | Epoch 1 | Loss: 0.06083456426858902 | Accuracy: 98.4375%\n"
     ]
    },
    {
     "name": "stderr",
     "output_type": "stream",
     "text": [
      "Epoch 1:  13%|███▊                          | 94/751 [00:01<00:06, 101.38batch/s, accuracy=100.0%, loss=0.00992]"
     ]
    },
    {
     "name": "stdout",
     "output_type": "stream",
     "text": [
      " | Epoch 1 | Loss: 0.06784085184335709 | Accuracy: 98.4375%\n",
      " | Epoch 1 | Loss: 0.008967260830104351 | Accuracy: 100.0%\n",
      " | Epoch 1 | Loss: 0.008507000282406807 | Accuracy: 100.0%\n",
      " | Epoch 1 | Loss: 0.011305013671517372 | Accuracy: 100.0%\n",
      " | Epoch 1 | Loss: 0.005069900304079056 | Accuracy: 100.0%\n",
      " | Epoch 1 | Loss: 0.008112413808703423 | Accuracy: 100.0%\n",
      " | Epoch 1 | Loss: 0.003492421004921198 | Accuracy: 100.0%\n",
      " | Epoch 1 | Loss: 0.006491919048130512 | Accuracy: 100.0%\n",
      " | Epoch 1 | Loss: 0.01193938311189413 | Accuracy: 100.0%\n",
      " | Epoch 1 | Loss: 0.004970496986061335 | Accuracy: 100.0%\n",
      " | Epoch 1 | Loss: 0.1261523813009262 | Accuracy: 98.4375%\n",
      " | Epoch 1 | Loss: 0.011088568717241287 | Accuracy: 100.0%\n",
      " | Epoch 1 | Loss: 0.016307752579450607 | Accuracy: 98.4375%\n",
      " | Epoch 1 | Loss: 0.031168464571237564 | Accuracy: 100.0%\n",
      " | Epoch 1 | Loss: 0.022007884457707405 | Accuracy: 100.0%\n",
      " | Epoch 1 | Loss: 0.009916361421346664 | Accuracy: 100.0%\n"
     ]
    },
    {
     "name": "stderr",
     "output_type": "stream",
     "text": [
      "Epoch 1:  14%|████                         | 105/751 [00:01<00:06, 100.67batch/s, accuracy=100.0%, loss=0.00472]"
     ]
    },
    {
     "name": "stdout",
     "output_type": "stream",
     "text": [
      " | Epoch 1 | Loss: 0.00963638350367546 | Accuracy: 100.0%\n",
      " | Epoch 1 | Loss: 0.005009885411709547 | Accuracy: 100.0%\n",
      " | Epoch 1 | Loss: 0.006142199970781803 | Accuracy: 100.0%\n",
      " | Epoch 1 | Loss: 0.005747481249272823 | Accuracy: 100.0%\n",
      " | Epoch 1 | Loss: 0.004720048978924751 | Accuracy: 100.0%\n"
     ]
    },
    {
     "name": "stderr",
     "output_type": "stream",
     "text": [
      "Epoch 1:  15%|████▋                         | 116/751 [00:01<00:06, 96.66batch/s, accuracy=100.0%, loss=0.00441]"
     ]
    },
    {
     "name": "stdout",
     "output_type": "stream",
     "text": [
      " | Epoch 1 | Loss: 0.005705364979803562 | Accuracy: 100.0%\n",
      " | Epoch 1 | Loss: 0.02484680339694023 | Accuracy: 98.4375%\n",
      " | Epoch 1 | Loss: 0.002819931134581566 | Accuracy: 100.0%\n",
      " | Epoch 1 | Loss: 0.00622982531785965 | Accuracy: 100.0%\n",
      " | Epoch 1 | Loss: 0.2792656123638153 | Accuracy: 96.875%\n",
      " | Epoch 1 | Loss: 0.1324128955602646 | Accuracy: 98.4375%\n",
      " | Epoch 1 | Loss: 0.009887957945466042 | Accuracy: 100.0%\n",
      " | Epoch 1 | Loss: 0.004240449517965317 | Accuracy: 100.0%\n",
      " | Epoch 1 | Loss: 0.0106912637129426 | Accuracy: 100.0%\n",
      " | Epoch 1 | Loss: 0.004382302053272724 | Accuracy: 100.0%\n",
      " | Epoch 1 | Loss: 0.00992767233401537 | Accuracy: 100.0%\n",
      " | Epoch 1 | Loss: 0.008037305437028408 | Accuracy: 100.0%\n",
      " | Epoch 1 | Loss: 0.052867818623781204 | Accuracy: 98.4375%\n",
      " | Epoch 1 | Loss: 0.004412870854139328 | Accuracy: 100.0%\n"
     ]
    },
    {
     "name": "stderr",
     "output_type": "stream",
     "text": [
      "Epoch 1:  17%|████▉                        | 128/751 [00:01<00:06, 102.25batch/s, accuracy=100.0%, loss=0.00712]"
     ]
    },
    {
     "name": "stdout",
     "output_type": "stream",
     "text": [
      " | Epoch 1 | Loss: 0.00548136979341507 | Accuracy: 100.0%\n",
      " | Epoch 1 | Loss: 0.006131916306912899 | Accuracy: 100.0%\n",
      " | Epoch 1 | Loss: 0.003663423005491495 | Accuracy: 100.0%\n",
      " | Epoch 1 | Loss: 0.008914121426641941 | Accuracy: 100.0%\n",
      " | Epoch 1 | Loss: 0.10613281279802322 | Accuracy: 98.4375%\n",
      " | Epoch 1 | Loss: 0.4858261048793793 | Accuracy: 98.4375%\n",
      " | Epoch 1 | Loss: 0.007117101456969976 | Accuracy: 100.0%\n"
     ]
    },
    {
     "name": "stderr",
     "output_type": "stream",
     "text": [
      "Epoch 1:  19%|█████▎                       | 139/751 [00:01<00:05, 102.22batch/s, accuracy=100.0%, loss=0.00698]"
     ]
    },
    {
     "name": "stdout",
     "output_type": "stream",
     "text": [
      " | Epoch 1 | Loss: 0.012842845171689987 | Accuracy: 100.0%\n",
      " | Epoch 1 | Loss: 0.015140224248170853 | Accuracy: 100.0%\n",
      " | Epoch 1 | Loss: 0.03700348362326622 | Accuracy: 100.0%\n",
      " | Epoch 1 | Loss: 0.015621203929185867 | Accuracy: 100.0%\n",
      " | Epoch 1 | Loss: 0.0208439864218235 | Accuracy: 100.0%\n",
      " | Epoch 1 | Loss: 0.004702519625425339 | Accuracy: 100.0%\n",
      " | Epoch 1 | Loss: 0.07574188709259033 | Accuracy: 98.4375%\n",
      " | Epoch 1 | Loss: 0.024662910029292107 | Accuracy: 100.0%\n",
      " | Epoch 1 | Loss: 0.020033691078424454 | Accuracy: 100.0%\n",
      " | Epoch 1 | Loss: 0.02726326324045658 | Accuracy: 100.0%\n",
      " | Epoch 1 | Loss: 0.11326546967029572 | Accuracy: 98.4375%\n",
      " | Epoch 1 | Loss: 0.006786502432078123 | Accuracy: 100.0%\n",
      " | Epoch 1 | Loss: 0.008978038094937801 | Accuracy: 100.0%\n",
      " | Epoch 1 | Loss: 0.006536737084388733 | Accuracy: 100.0%\n",
      " | Epoch 1 | Loss: 0.006978532299399376 | Accuracy: 100.0%\n"
     ]
    },
    {
     "name": "stderr",
     "output_type": "stream",
     "text": [
      "Epoch 1:  19%|█████▎                       | 139/751 [00:01<00:05, 102.22batch/s, accuracy=100.0%, loss=0.00548]"
     ]
    },
    {
     "name": "stdout",
     "output_type": "stream",
     "text": [
      " | Epoch 1 | Loss: 0.011659086681902409 | Accuracy: 100.0%\n",
      " | Epoch 1 | Loss: 0.009284796193242073 | Accuracy: 100.0%\n",
      " | Epoch 1 | Loss: 0.008324121125042439 | Accuracy: 100.0%\n",
      " | Epoch 1 | Loss: 0.01600675657391548 | Accuracy: 100.0%\n",
      " | Epoch 1 | Loss: 0.006986909545958042 | Accuracy: 100.0%\n",
      " | Epoch 1 | Loss: 0.005476600490510464 | Accuracy: 100.0%\n"
     ]
    },
    {
     "name": "stderr",
     "output_type": "stream",
     "text": [
      "Epoch 1:  20%|█████▌                      | 150/751 [00:01<00:05, 100.77batch/s, accuracy=98.4375%, loss=0.0215]"
     ]
    },
    {
     "name": "stdout",
     "output_type": "stream",
     "text": [
      " | Epoch 1 | Loss: 0.007525486871600151 | Accuracy: 100.0%\n",
      " | Epoch 1 | Loss: 0.26460251212120056 | Accuracy: 98.4375%\n",
      " | Epoch 1 | Loss: 0.00589442253112793 | Accuracy: 100.0%\n",
      " | Epoch 1 | Loss: 0.010792918503284454 | Accuracy: 100.0%\n",
      " | Epoch 1 | Loss: 0.00781594030559063 | Accuracy: 100.0%\n",
      " | Epoch 1 | Loss: 0.025608640164136887 | Accuracy: 98.4375%\n",
      " | Epoch 1 | Loss: 0.011764430440962315 | Accuracy: 100.0%\n",
      " | Epoch 1 | Loss: 0.01128635834902525 | Accuracy: 100.0%\n",
      " | Epoch 1 | Loss: 0.02151445671916008 | Accuracy: 98.4375%\n"
     ]
    },
    {
     "name": "stderr",
     "output_type": "stream",
     "text": [
      "Epoch 1:  21%|██████▋                        | 161/751 [00:01<00:06, 86.02batch/s, accuracy=100.0%, loss=0.0062]"
     ]
    },
    {
     "name": "stdout",
     "output_type": "stream",
     "text": [
      " | Epoch 1 | Loss: 0.0061459047719836235 | Accuracy: 100.0%\n",
      " | Epoch 1 | Loss: 0.01833159849047661 | Accuracy: 100.0%\n",
      " | Epoch 1 | Loss: 0.01097636017948389 | Accuracy: 100.0%\n",
      " | Epoch 1 | Loss: 0.019649215042591095 | Accuracy: 100.0%\n",
      " | Epoch 1 | Loss: 0.00619718199595809 | Accuracy: 100.0%\n"
     ]
    },
    {
     "name": "stderr",
     "output_type": "stream",
     "text": [
      "Epoch 1:  23%|██████▊                       | 172/751 [00:01<00:06, 89.49batch/s, accuracy=100.0%, loss=0.00999]"
     ]
    },
    {
     "name": "stdout",
     "output_type": "stream",
     "text": [
      " | Epoch 1 | Loss: 0.004366552457213402 | Accuracy: 100.0%\n",
      " | Epoch 1 | Loss: 0.009542000479996204 | Accuracy: 100.0%\n",
      " | Epoch 1 | Loss: 0.0057910410687327385 | Accuracy: 100.0%\n",
      " | Epoch 1 | Loss: 0.007689229212701321 | Accuracy: 100.0%\n",
      " | Epoch 1 | Loss: 0.2773139476776123 | Accuracy: 98.4375%\n",
      " | Epoch 1 | Loss: 0.004009041003882885 | Accuracy: 100.0%\n",
      " | Epoch 1 | Loss: 0.013211756944656372 | Accuracy: 98.4375%\n",
      " | Epoch 1 | Loss: 0.01536161731928587 | Accuracy: 100.0%\n",
      " | Epoch 1 | Loss: 0.009897244162857533 | Accuracy: 100.0%\n",
      " | Epoch 1 | Loss: 0.005544283427298069 | Accuracy: 100.0%\n",
      " | Epoch 1 | Loss: 0.024953097105026245 | Accuracy: 98.4375%\n",
      " | Epoch 1 | Loss: 0.005888957995921373 | Accuracy: 100.0%\n",
      " | Epoch 1 | Loss: 0.016969306394457817 | Accuracy: 100.0%\n",
      " | Epoch 1 | Loss: 0.008875302039086819 | Accuracy: 100.0%\n",
      " | Epoch 1 | Loss: 0.009987842291593552 | Accuracy: 100.0%\n"
     ]
    },
    {
     "name": "stderr",
     "output_type": "stream",
     "text": [
      "Epoch 1:  24%|███████▎                      | 183/751 [00:02<00:06, 93.72batch/s, accuracy=98.4375%, loss=0.135]"
     ]
    },
    {
     "name": "stdout",
     "output_type": "stream",
     "text": [
      " | Epoch 1 | Loss: 0.009955642744898796 | Accuracy: 100.0%\n",
      " | Epoch 1 | Loss: 0.004705721512436867 | Accuracy: 100.0%\n",
      " | Epoch 1 | Loss: 0.0027098527643829584 | Accuracy: 100.0%\n",
      " | Epoch 1 | Loss: 0.1675538569688797 | Accuracy: 98.4375%\n",
      " | Epoch 1 | Loss: 0.013081175275146961 | Accuracy: 100.0%\n",
      " | Epoch 1 | Loss: 0.13533109426498413 | Accuracy: 98.4375%\n"
     ]
    },
    {
     "name": "stderr",
     "output_type": "stream",
     "text": [
      "Epoch 1:  26%|███████▋                      | 193/751 [00:02<00:06, 91.81batch/s, accuracy=100.0%, loss=0.00424]"
     ]
    },
    {
     "name": "stdout",
     "output_type": "stream",
     "text": [
      " | Epoch 1 | Loss: 0.01988343521952629 | Accuracy: 100.0%\n",
      " | Epoch 1 | Loss: 0.010850443504750729 | Accuracy: 100.0%\n",
      " | Epoch 1 | Loss: 0.016910230740904808 | Accuracy: 100.0%\n",
      " | Epoch 1 | Loss: 0.22805066406726837 | Accuracy: 98.4375%\n",
      " | Epoch 1 | Loss: 0.007775550242513418 | Accuracy: 100.0%\n",
      " | Epoch 1 | Loss: 0.006388208828866482 | Accuracy: 100.0%\n",
      " | Epoch 1 | Loss: 0.019630735740065575 | Accuracy: 100.0%\n",
      " | Epoch 1 | Loss: 0.012827752158045769 | Accuracy: 100.0%\n",
      " | Epoch 1 | Loss: 0.007160008419305086 | Accuracy: 100.0%\n",
      " | Epoch 1 | Loss: 0.011876143515110016 | Accuracy: 100.0%\n",
      " | Epoch 1 | Loss: 0.008348850533366203 | Accuracy: 100.0%\n",
      " | Epoch 1 | Loss: 0.04439675062894821 | Accuracy: 98.4375%\n",
      " | Epoch 1 | Loss: 0.015217085368931293 | Accuracy: 100.0%\n",
      " | Epoch 1 | Loss: 0.0042410120368003845 | Accuracy: 100.0%\n"
     ]
    },
    {
     "name": "stderr",
     "output_type": "stream",
     "text": [
      "Epoch 1:  27%|████████▍                      | 204/751 [00:02<00:05, 95.03batch/s, accuracy=100.0%, loss=0.0129]"
     ]
    },
    {
     "name": "stdout",
     "output_type": "stream",
     "text": [
      " | Epoch 1 | Loss: 0.007399708963930607 | Accuracy: 100.0%\n",
      " | Epoch 1 | Loss: 0.01477832905948162 | Accuracy: 100.0%\n",
      " | Epoch 1 | Loss: 0.071829654276371 | Accuracy: 98.4375%\n",
      " | Epoch 1 | Loss: 0.014560910873115063 | Accuracy: 100.0%\n",
      " | Epoch 1 | Loss: 0.021023930981755257 | Accuracy: 100.0%\n",
      " | Epoch 1 | Loss: 0.012935933656990528 | Accuracy: 100.0%\n"
     ]
    },
    {
     "name": "stderr",
     "output_type": "stream",
     "text": [
      "Epoch 1:  28%|████████▌                     | 214/751 [00:02<00:05, 94.71batch/s, accuracy=100.0%, loss=0.00828]"
     ]
    },
    {
     "name": "stdout",
     "output_type": "stream",
     "text": [
      " | Epoch 1 | Loss: 0.009064411744475365 | Accuracy: 100.0%\n",
      " | Epoch 1 | Loss: 0.00636853463947773 | Accuracy: 100.0%\n",
      " | Epoch 1 | Loss: 0.18504340946674347 | Accuracy: 98.4375%\n",
      " | Epoch 1 | Loss: 0.004711110610514879 | Accuracy: 100.0%\n",
      " | Epoch 1 | Loss: 0.03794345259666443 | Accuracy: 98.4375%\n",
      " | Epoch 1 | Loss: 0.011179693974554539 | Accuracy: 98.4375%\n",
      " | Epoch 1 | Loss: 0.009529964998364449 | Accuracy: 100.0%\n",
      " | Epoch 1 | Loss: 0.006956742610782385 | Accuracy: 100.0%\n",
      " | Epoch 1 | Loss: 0.011490633711218834 | Accuracy: 100.0%\n",
      " | Epoch 1 | Loss: 0.028473690152168274 | Accuracy: 100.0%\n",
      " | Epoch 1 | Loss: 0.0068455347791314125 | Accuracy: 100.0%\n",
      " | Epoch 1 | Loss: 0.009097558446228504 | Accuracy: 100.0%\n",
      " | Epoch 1 | Loss: 0.00827835500240326 | Accuracy: 100.0%\n"
     ]
    },
    {
     "name": "stderr",
     "output_type": "stream",
     "text": [
      "Epoch 1:  28%|████████▊                      | 214/751 [00:02<00:05, 94.71batch/s, accuracy=100.0%, loss=0.0137]"
     ]
    },
    {
     "name": "stdout",
     "output_type": "stream",
     "text": [
      " | Epoch 1 | Loss: 0.006420287303626537 | Accuracy: 100.0%\n",
      " | Epoch 1 | Loss: 0.007251914124935865 | Accuracy: 100.0%\n",
      " | Epoch 1 | Loss: 0.0073560383170843124 | Accuracy: 100.0%\n",
      " | Epoch 1 | Loss: 0.013667280785739422 | Accuracy: 100.0%\n"
     ]
    },
    {
     "name": "stderr",
     "output_type": "stream",
     "text": [
      "Epoch 1:  31%|█████████▍                    | 235/751 [00:02<00:05, 91.89batch/s, accuracy=100.0%, loss=0.00384]"
     ]
    },
    {
     "name": "stdout",
     "output_type": "stream",
     "text": [
      " | Epoch 1 | Loss: 0.013836074620485306 | Accuracy: 100.0%\n",
      " | Epoch 1 | Loss: 0.01504798885434866 | Accuracy: 100.0%\n",
      " | Epoch 1 | Loss: 0.014876578003168106 | Accuracy: 100.0%\n",
      " | Epoch 1 | Loss: 0.0047436547465622425 | Accuracy: 100.0%\n",
      " | Epoch 1 | Loss: 0.04497195780277252 | Accuracy: 98.4375%\n",
      " | Epoch 1 | Loss: 0.3452626168727875 | Accuracy: 98.4375%\n",
      " | Epoch 1 | Loss: 0.00407918868586421 | Accuracy: 100.0%\n",
      " | Epoch 1 | Loss: 0.004952703602612019 | Accuracy: 100.0%\n",
      " | Epoch 1 | Loss: 0.01750635914504528 | Accuracy: 100.0%\n",
      " | Epoch 1 | Loss: 0.008980628103017807 | Accuracy: 100.0%\n",
      " | Epoch 1 | Loss: 0.07466524094343185 | Accuracy: 98.4375%\n",
      " | Epoch 1 | Loss: 0.007454792968928814 | Accuracy: 100.0%\n",
      " | Epoch 1 | Loss: 0.024693481624126434 | Accuracy: 100.0%\n",
      " | Epoch 1 | Loss: 0.0038374802097678185 | Accuracy: 100.0%\n"
     ]
    },
    {
     "name": "stderr",
     "output_type": "stream",
     "text": [
      "Epoch 1:  31%|█████████▋                     | 235/751 [00:02<00:05, 91.89batch/s, accuracy=100.0%, loss=0.0143]"
     ]
    },
    {
     "name": "stdout",
     "output_type": "stream",
     "text": [
      " | Epoch 1 | Loss: 0.05535779520869255 | Accuracy: 98.4375%\n",
      " | Epoch 1 | Loss: 0.01721680723130703 | Accuracy: 100.0%\n",
      " | Epoch 1 | Loss: 0.018986867740750313 | Accuracy: 98.4375%\n",
      " | Epoch 1 | Loss: 0.010353650897741318 | Accuracy: 100.0%\n",
      " | Epoch 1 | Loss: 0.008181807585060596 | Accuracy: 100.0%\n",
      " | Epoch 1 | Loss: 0.014296336099505424 | Accuracy: 100.0%\n"
     ]
    },
    {
     "name": "stderr",
     "output_type": "stream",
     "text": [
      "Epoch 1:  34%|█████████▉                   | 257/751 [00:02<00:05, 97.99batch/s, accuracy=98.4375%, loss=0.0176]"
     ]
    },
    {
     "name": "stdout",
     "output_type": "stream",
     "text": [
      " | Epoch 1 | Loss: 0.0018782634288072586 | Accuracy: 100.0%\n",
      " | Epoch 1 | Loss: 0.0023214013781398535 | Accuracy: 100.0%\n",
      " | Epoch 1 | Loss: 0.007189483381807804 | Accuracy: 100.0%\n",
      " | Epoch 1 | Loss: 0.012913630343973637 | Accuracy: 100.0%\n",
      " | Epoch 1 | Loss: 0.003219158621504903 | Accuracy: 100.0%\n",
      " | Epoch 1 | Loss: 0.004243319854140282 | Accuracy: 100.0%\n",
      " | Epoch 1 | Loss: 0.003906506113708019 | Accuracy: 100.0%\n",
      " | Epoch 1 | Loss: 0.00655469810590148 | Accuracy: 100.0%\n",
      " | Epoch 1 | Loss: 0.006207501515746117 | Accuracy: 100.0%\n",
      " | Epoch 1 | Loss: 0.29079142212867737 | Accuracy: 96.875%\n",
      " | Epoch 1 | Loss: 0.0018284041434526443 | Accuracy: 100.0%\n",
      " | Epoch 1 | Loss: 0.004401061683893204 | Accuracy: 100.0%\n",
      " | Epoch 1 | Loss: 0.012964549474418163 | Accuracy: 100.0%\n",
      " | Epoch 1 | Loss: 0.0075988066382706165 | Accuracy: 100.0%\n",
      " | Epoch 1 | Loss: 0.005829299800097942 | Accuracy: 100.0%\n",
      " | Epoch 1 | Loss: 0.01755111664533615 | Accuracy: 98.4375%\n"
     ]
    },
    {
     "name": "stderr",
     "output_type": "stream",
     "text": [
      "Epoch 1:  34%|██████████▌                    | 257/751 [00:02<00:05, 97.99batch/s, accuracy=100.0%, loss=0.0399]"
     ]
    },
    {
     "name": "stdout",
     "output_type": "stream",
     "text": [
      " | Epoch 1 | Loss: 0.005377734079957008 | Accuracy: 100.0%\n",
      " | Epoch 1 | Loss: 0.005077328532934189 | Accuracy: 100.0%\n",
      " | Epoch 1 | Loss: 0.013648426160216331 | Accuracy: 100.0%\n",
      " | Epoch 1 | Loss: 0.02491309493780136 | Accuracy: 98.4375%\n",
      " | Epoch 1 | Loss: 0.009472716599702835 | Accuracy: 100.0%\n",
      " | Epoch 1 | Loss: 0.039858002215623856 | Accuracy: 100.0%\n"
     ]
    },
    {
     "name": "stderr",
     "output_type": "stream",
     "text": [
      "Epoch 1:  37%|██████████▊                  | 279/751 [00:03<00:04, 101.91batch/s, accuracy=100.0%, loss=0.00546]"
     ]
    },
    {
     "name": "stdout",
     "output_type": "stream",
     "text": [
      " | Epoch 1 | Loss: 0.08529141545295715 | Accuracy: 98.4375%\n",
      " | Epoch 1 | Loss: 0.009548147208988667 | Accuracy: 100.0%\n",
      " | Epoch 1 | Loss: 0.008258998394012451 | Accuracy: 100.0%\n",
      " | Epoch 1 | Loss: 0.005898338742554188 | Accuracy: 100.0%\n",
      " | Epoch 1 | Loss: 0.007546097505837679 | Accuracy: 100.0%\n",
      " | Epoch 1 | Loss: 0.005513746291399002 | Accuracy: 100.0%\n",
      " | Epoch 1 | Loss: 0.005922139622271061 | Accuracy: 100.0%\n",
      " | Epoch 1 | Loss: 0.007075312547385693 | Accuracy: 100.0%\n",
      " | Epoch 1 | Loss: 0.009109031409025192 | Accuracy: 100.0%\n",
      " | Epoch 1 | Loss: 0.016858434304594994 | Accuracy: 98.4375%\n",
      " | Epoch 1 | Loss: 0.012345310300588608 | Accuracy: 100.0%\n",
      " | Epoch 1 | Loss: 0.10091909766197205 | Accuracy: 98.4375%\n",
      " | Epoch 1 | Loss: 0.14553892612457275 | Accuracy: 96.875%\n",
      " | Epoch 1 | Loss: 0.09246796369552612 | Accuracy: 98.4375%\n",
      " | Epoch 1 | Loss: 0.01098280306905508 | Accuracy: 100.0%\n",
      " | Epoch 1 | Loss: 0.005460232961922884 | Accuracy: 100.0%\n"
     ]
    },
    {
     "name": "stderr",
     "output_type": "stream",
     "text": [
      "Epoch 1:  37%|██████████▊                  | 279/751 [00:03<00:04, 101.91batch/s, accuracy=100.0%, loss=0.00721]"
     ]
    },
    {
     "name": "stdout",
     "output_type": "stream",
     "text": [
      " | Epoch 1 | Loss: 0.006659588310867548 | Accuracy: 100.0%\n",
      " | Epoch 1 | Loss: 0.00947444699704647 | Accuracy: 100.0%\n",
      " | Epoch 1 | Loss: 0.009646713733673096 | Accuracy: 100.0%\n",
      " | Epoch 1 | Loss: 0.005394098348915577 | Accuracy: 100.0%\n",
      " | Epoch 1 | Loss: 0.004551175981760025 | Accuracy: 100.0%\n"
     ]
    },
    {
     "name": "stderr",
     "output_type": "stream",
     "text": [
      "Epoch 1:  40%|████████████                  | 301/751 [00:03<00:04, 103.93batch/s, accuracy=100.0%, loss=0.0177]"
     ]
    },
    {
     "name": "stdout",
     "output_type": "stream",
     "text": [
      " | Epoch 1 | Loss: 0.007211065385490656 | Accuracy: 100.0%\n",
      " | Epoch 1 | Loss: 0.02024483121931553 | Accuracy: 98.4375%\n",
      " | Epoch 1 | Loss: 0.004897324834018946 | Accuracy: 100.0%\n",
      " | Epoch 1 | Loss: 0.006132064387202263 | Accuracy: 100.0%\n",
      " | Epoch 1 | Loss: 0.11834395676851273 | Accuracy: 98.4375%\n",
      " | Epoch 1 | Loss: 0.008147494867444038 | Accuracy: 100.0%\n",
      " | Epoch 1 | Loss: 0.003756527090445161 | Accuracy: 100.0%\n",
      " | Epoch 1 | Loss: 0.008401754312217236 | Accuracy: 100.0%\n",
      " | Epoch 1 | Loss: 0.38821929693222046 | Accuracy: 98.4375%\n",
      " | Epoch 1 | Loss: 0.0041547855362296104 | Accuracy: 100.0%\n",
      " | Epoch 1 | Loss: 0.017552917823195457 | Accuracy: 98.4375%\n",
      " | Epoch 1 | Loss: 0.184318408370018 | Accuracy: 98.4375%\n",
      " | Epoch 1 | Loss: 0.004816598724573851 | Accuracy: 100.0%\n",
      " | Epoch 1 | Loss: 0.16739167273044586 | Accuracy: 96.875%\n",
      " | Epoch 1 | Loss: 0.0050142379477620125 | Accuracy: 100.0%\n",
      " | Epoch 1 | Loss: 0.0052879867143929005 | Accuracy: 100.0%\n",
      " | Epoch 1 | Loss: 0.017725247889757156 | Accuracy: 100.0%\n"
     ]
    },
    {
     "name": "stderr",
     "output_type": "stream",
     "text": [
      "Epoch 1:  40%|████████████▊                   | 301/751 [00:03<00:04, 103.93batch/s, accuracy=100.0%, loss=0.01]"
     ]
    },
    {
     "name": "stdout",
     "output_type": "stream",
     "text": [
      " | Epoch 1 | Loss: 0.02029116451740265 | Accuracy: 98.4375%\n",
      " | Epoch 1 | Loss: 0.06407655775547028 | Accuracy: 98.4375%\n",
      " | Epoch 1 | Loss: 0.025086376816034317 | Accuracy: 100.0%\n",
      " | Epoch 1 | Loss: 0.025175318121910095 | Accuracy: 98.4375%\n",
      " | Epoch 1 | Loss: 0.010035093873739243 | Accuracy: 100.0%\n"
     ]
    },
    {
     "name": "stderr",
     "output_type": "stream",
     "text": [
      "Epoch 1:  42%|███████████▋                | 312/751 [00:03<00:04, 103.75batch/s, accuracy=98.4375%, loss=0.0498]"
     ]
    },
    {
     "name": "stdout",
     "output_type": "stream",
     "text": [
      " | Epoch 1 | Loss: 0.004915065132081509 | Accuracy: 100.0%\n",
      " | Epoch 1 | Loss: 0.006420086603611708 | Accuracy: 100.0%\n",
      " | Epoch 1 | Loss: 0.017775585874915123 | Accuracy: 100.0%\n",
      " | Epoch 1 | Loss: 0.020394902676343918 | Accuracy: 100.0%\n",
      " | Epoch 1 | Loss: 0.010915527120232582 | Accuracy: 100.0%\n",
      " | Epoch 1 | Loss: 0.006071506068110466 | Accuracy: 100.0%\n",
      " | Epoch 1 | Loss: 0.010368631221354008 | Accuracy: 100.0%\n",
      " | Epoch 1 | Loss: 0.006640809588134289 | Accuracy: 100.0%\n",
      " | Epoch 1 | Loss: 0.0037043471820652485 | Accuracy: 100.0%\n",
      " | Epoch 1 | Loss: 0.06357179582118988 | Accuracy: 98.4375%\n",
      " | Epoch 1 | Loss: 0.004143094643950462 | Accuracy: 100.0%\n",
      " | Epoch 1 | Loss: 0.06260557472705841 | Accuracy: 98.4375%\n",
      " | Epoch 1 | Loss: 0.008596003986895084 | Accuracy: 100.0%\n",
      " | Epoch 1 | Loss: 0.004635928198695183 | Accuracy: 100.0%\n",
      " | Epoch 1 | Loss: 0.023386476561427116 | Accuracy: 98.4375%\n",
      " | Epoch 1 | Loss: 0.0497964508831501 | Accuracy: 98.4375%\n"
     ]
    },
    {
     "name": "stderr",
     "output_type": "stream",
     "text": [
      "Epoch 1:  43%|████████████▉                 | 323/751 [00:03<00:04, 100.67batch/s, accuracy=100.0%, loss=0.0144]"
     ]
    },
    {
     "name": "stdout",
     "output_type": "stream",
     "text": [
      " | Epoch 1 | Loss: 0.0033419975079596043 | Accuracy: 100.0%\n",
      " | Epoch 1 | Loss: 0.008801082149147987 | Accuracy: 100.0%\n",
      " | Epoch 1 | Loss: 0.003007786814123392 | Accuracy: 100.0%\n",
      " | Epoch 1 | Loss: 0.014351027086377144 | Accuracy: 100.0%\n"
     ]
    },
    {
     "name": "stderr",
     "output_type": "stream",
     "text": [
      "Epoch 1:  44%|█████████████▎                | 334/751 [00:03<00:04, 99.02batch/s, accuracy=100.0%, loss=0.00446]"
     ]
    },
    {
     "name": "stdout",
     "output_type": "stream",
     "text": [
      " | Epoch 1 | Loss: 0.00306431925855577 | Accuracy: 100.0%\n",
      " | Epoch 1 | Loss: 0.009618408977985382 | Accuracy: 100.0%\n",
      " | Epoch 1 | Loss: 0.011450609192252159 | Accuracy: 100.0%\n",
      " | Epoch 1 | Loss: 0.022132020443677902 | Accuracy: 100.0%\n",
      " | Epoch 1 | Loss: 0.0048766289837658405 | Accuracy: 100.0%\n",
      " | Epoch 1 | Loss: 0.02650291658937931 | Accuracy: 100.0%\n",
      " | Epoch 1 | Loss: 0.0058365995064377785 | Accuracy: 100.0%\n",
      " | Epoch 1 | Loss: 0.2318524569272995 | Accuracy: 98.4375%\n",
      " | Epoch 1 | Loss: 0.017649143934249878 | Accuracy: 100.0%\n",
      " | Epoch 1 | Loss: 0.0035495073534548283 | Accuracy: 100.0%\n",
      " | Epoch 1 | Loss: 0.0026586330495774746 | Accuracy: 100.0%\n",
      " | Epoch 1 | Loss: 0.004332203883677721 | Accuracy: 100.0%\n",
      " | Epoch 1 | Loss: 0.006195604335516691 | Accuracy: 100.0%\n",
      " | Epoch 1 | Loss: 0.002779372502118349 | Accuracy: 100.0%\n",
      " | Epoch 1 | Loss: 0.007787597365677357 | Accuracy: 100.0%\n",
      " | Epoch 1 | Loss: 0.0044605848379433155 | Accuracy: 100.0%\n"
     ]
    },
    {
     "name": "stderr",
     "output_type": "stream",
     "text": [
      "Epoch 1:  46%|█████████████▋                | 344/751 [00:03<00:04, 99.02batch/s, accuracy=98.4375%, loss=0.101]"
     ]
    },
    {
     "name": "stdout",
     "output_type": "stream",
     "text": [
      " | Epoch 1 | Loss: 0.020754870027303696 | Accuracy: 98.4375%\n",
      " | Epoch 1 | Loss: 0.01216801442205906 | Accuracy: 100.0%\n",
      " | Epoch 1 | Loss: 0.007150141056627035 | Accuracy: 100.0%\n",
      " | Epoch 1 | Loss: 0.1011834442615509 | Accuracy: 98.4375%\n"
     ]
    },
    {
     "name": "stderr",
     "output_type": "stream",
     "text": [
      "Epoch 1:  47%|██████████████▏               | 355/751 [00:03<00:03, 100.50batch/s, accuracy=100.0%, loss=0.0052]"
     ]
    },
    {
     "name": "stdout",
     "output_type": "stream",
     "text": [
      " | Epoch 1 | Loss: 0.002446299884468317 | Accuracy: 100.0%\n",
      " | Epoch 1 | Loss: 0.07886578887701035 | Accuracy: 98.4375%\n",
      " | Epoch 1 | Loss: 0.006700465455651283 | Accuracy: 100.0%\n",
      " | Epoch 1 | Loss: 0.008771010674536228 | Accuracy: 100.0%\n",
      " | Epoch 1 | Loss: 0.004275710787624121 | Accuracy: 100.0%\n",
      " | Epoch 1 | Loss: 0.008218515664339066 | Accuracy: 100.0%\n",
      " | Epoch 1 | Loss: 0.09118928760290146 | Accuracy: 98.4375%\n",
      " | Epoch 1 | Loss: 0.04809771850705147 | Accuracy: 98.4375%\n",
      " | Epoch 1 | Loss: 0.006698541343212128 | Accuracy: 100.0%\n",
      " | Epoch 1 | Loss: 0.01374424435198307 | Accuracy: 100.0%\n",
      " | Epoch 1 | Loss: 0.16089923679828644 | Accuracy: 96.875%\n",
      " | Epoch 1 | Loss: 0.006899487227201462 | Accuracy: 100.0%\n",
      " | Epoch 1 | Loss: 0.05810011178255081 | Accuracy: 98.4375%\n",
      " | Epoch 1 | Loss: 0.010209706611931324 | Accuracy: 100.0%\n",
      " | Epoch 1 | Loss: 0.00949273630976677 | Accuracy: 100.0%\n",
      " | Epoch 1 | Loss: 0.010338257998228073 | Accuracy: 100.0%\n",
      " | Epoch 1 | Loss: 0.005197078455239534 | Accuracy: 100.0%\n"
     ]
    },
    {
     "name": "stderr",
     "output_type": "stream",
     "text": [
      "Epoch 1:  49%|██████████████▌               | 366/751 [00:03<00:03, 99.19batch/s, accuracy=100.0%, loss=0.00342]"
     ]
    },
    {
     "name": "stdout",
     "output_type": "stream",
     "text": [
      " | Epoch 1 | Loss: 0.19569428265094757 | Accuracy: 98.4375%\n",
      " | Epoch 1 | Loss: 0.008769623003900051 | Accuracy: 100.0%\n",
      " | Epoch 1 | Loss: 0.0034182157833129168 | Accuracy: 100.0%\n"
     ]
    },
    {
     "name": "stderr",
     "output_type": "stream",
     "text": [
      "Epoch 1:  50%|███████████████▌               | 376/751 [00:04<00:03, 96.87batch/s, accuracy=100.0%, loss=0.0215]"
     ]
    },
    {
     "name": "stdout",
     "output_type": "stream",
     "text": [
      " | Epoch 1 | Loss: 0.00364224542863667 | Accuracy: 100.0%\n",
      " | Epoch 1 | Loss: 0.005387152545154095 | Accuracy: 100.0%\n",
      " | Epoch 1 | Loss: 0.44811511039733887 | Accuracy: 96.875%\n",
      " | Epoch 1 | Loss: 0.004419414792209864 | Accuracy: 100.0%\n",
      " | Epoch 1 | Loss: 0.005619603209197521 | Accuracy: 100.0%\n",
      " | Epoch 1 | Loss: 0.006367234513163567 | Accuracy: 100.0%\n",
      " | Epoch 1 | Loss: 0.01959671638906002 | Accuracy: 100.0%\n",
      " | Epoch 1 | Loss: 0.008990347385406494 | Accuracy: 100.0%\n",
      " | Epoch 1 | Loss: 0.0056242127902805805 | Accuracy: 100.0%\n",
      " | Epoch 1 | Loss: 0.008710231631994247 | Accuracy: 100.0%\n",
      " | Epoch 1 | Loss: 0.22863656282424927 | Accuracy: 98.4375%\n",
      " | Epoch 1 | Loss: 0.6774570345878601 | Accuracy: 96.875%\n",
      " | Epoch 1 | Loss: 0.05003635212779045 | Accuracy: 100.0%\n",
      " | Epoch 1 | Loss: 0.025843027979135513 | Accuracy: 100.0%\n",
      " | Epoch 1 | Loss: 0.008159498684108257 | Accuracy: 100.0%\n",
      " | Epoch 1 | Loss: 0.021466100588440895 | Accuracy: 100.0%\n"
     ]
    },
    {
     "name": "stderr",
     "output_type": "stream",
     "text": [
      "Epoch 1:  52%|███████████████▉               | 387/751 [00:04<00:03, 99.19batch/s, accuracy=100.0%, loss=0.0111]"
     ]
    },
    {
     "name": "stdout",
     "output_type": "stream",
     "text": [
      " | Epoch 1 | Loss: 0.012758428230881691 | Accuracy: 100.0%\n",
      " | Epoch 1 | Loss: 0.015519373118877411 | Accuracy: 100.0%\n",
      " | Epoch 1 | Loss: 0.014116877689957619 | Accuracy: 98.4375%\n",
      " | Epoch 1 | Loss: 0.023028923198580742 | Accuracy: 100.0%\n",
      " | Epoch 1 | Loss: 0.011053770780563354 | Accuracy: 100.0%\n"
     ]
    },
    {
     "name": "stderr",
     "output_type": "stream",
     "text": [
      "Epoch 1:  53%|██████████████▊             | 398/751 [00:04<00:03, 101.96batch/s, accuracy=98.4375%, loss=0.0239]"
     ]
    },
    {
     "name": "stdout",
     "output_type": "stream",
     "text": [
      " | Epoch 1 | Loss: 0.07924892753362656 | Accuracy: 98.4375%\n",
      " | Epoch 1 | Loss: 0.009111732244491577 | Accuracy: 100.0%\n",
      " | Epoch 1 | Loss: 0.007164448965340853 | Accuracy: 100.0%\n",
      " | Epoch 1 | Loss: 0.027221854776144028 | Accuracy: 98.4375%\n",
      " | Epoch 1 | Loss: 0.012921037152409554 | Accuracy: 100.0%\n",
      " | Epoch 1 | Loss: 0.047088876366615295 | Accuracy: 98.4375%\n",
      " | Epoch 1 | Loss: 0.012904735282063484 | Accuracy: 100.0%\n",
      " | Epoch 1 | Loss: 0.0034429223742336035 | Accuracy: 100.0%\n",
      " | Epoch 1 | Loss: 0.006302280351519585 | Accuracy: 100.0%\n",
      " | Epoch 1 | Loss: 0.007139117456972599 | Accuracy: 100.0%\n",
      " | Epoch 1 | Loss: 0.016067180782556534 | Accuracy: 100.0%\n",
      " | Epoch 1 | Loss: 0.02189004234969616 | Accuracy: 100.0%\n",
      " | Epoch 1 | Loss: 0.018332241103053093 | Accuracy: 100.0%\n",
      " | Epoch 1 | Loss: 0.010964920744299889 | Accuracy: 100.0%\n",
      " | Epoch 1 | Loss: 0.005532284267246723 | Accuracy: 100.0%\n",
      " | Epoch 1 | Loss: 0.0263697300106287 | Accuracy: 100.0%\n"
     ]
    },
    {
     "name": "stderr",
     "output_type": "stream",
     "text": [
      "Epoch 1:  54%|███████████████▏            | 409/751 [00:04<00:03, 102.32batch/s, accuracy=98.4375%, loss=0.0212]"
     ]
    },
    {
     "name": "stdout",
     "output_type": "stream",
     "text": [
      " | Epoch 1 | Loss: 0.023944664746522903 | Accuracy: 98.4375%\n",
      " | Epoch 1 | Loss: 0.016989590600132942 | Accuracy: 98.4375%\n",
      " | Epoch 1 | Loss: 0.00920013152062893 | Accuracy: 100.0%\n",
      " | Epoch 1 | Loss: 0.009820771403610706 | Accuracy: 100.0%\n",
      " | Epoch 1 | Loss: 0.002987082814797759 | Accuracy: 100.0%\n",
      " | Epoch 1 | Loss: 0.021178996190428734 | Accuracy: 98.4375%\n"
     ]
    },
    {
     "name": "stderr",
     "output_type": "stream",
     "text": [
      "Epoch 1:  56%|████████████████▏            | 420/751 [00:04<00:03, 102.44batch/s, accuracy=98.4375%, loss=0.187]"
     ]
    },
    {
     "name": "stdout",
     "output_type": "stream",
     "text": [
      " | Epoch 1 | Loss: 0.004431974142789841 | Accuracy: 100.0%\n",
      " | Epoch 1 | Loss: 0.011272565461695194 | Accuracy: 100.0%\n",
      " | Epoch 1 | Loss: 0.008202677592635155 | Accuracy: 100.0%\n",
      " | Epoch 1 | Loss: 0.023293539881706238 | Accuracy: 98.4375%\n",
      " | Epoch 1 | Loss: 0.21658962965011597 | Accuracy: 96.875%\n",
      " | Epoch 1 | Loss: 0.01731044612824917 | Accuracy: 100.0%\n",
      " | Epoch 1 | Loss: 0.004375099670141935 | Accuracy: 100.0%\n",
      " | Epoch 1 | Loss: 0.03158673644065857 | Accuracy: 98.4375%\n",
      " | Epoch 1 | Loss: 0.007144392468035221 | Accuracy: 100.0%\n",
      " | Epoch 1 | Loss: 0.0037543182261288166 | Accuracy: 100.0%\n",
      " | Epoch 1 | Loss: 0.005213532596826553 | Accuracy: 100.0%\n",
      " | Epoch 1 | Loss: 0.10127627849578857 | Accuracy: 98.4375%\n",
      " | Epoch 1 | Loss: 0.003547727596014738 | Accuracy: 100.0%\n",
      " | Epoch 1 | Loss: 0.0171488169580698 | Accuracy: 100.0%\n",
      " | Epoch 1 | Loss: 0.18725301325321198 | Accuracy: 98.4375%\n"
     ]
    },
    {
     "name": "stderr",
     "output_type": "stream",
     "text": [
      "Epoch 1:  56%|████████████████▏            | 420/751 [00:04<00:03, 102.44batch/s, accuracy=100.0%, loss=0.00414]"
     ]
    },
    {
     "name": "stdout",
     "output_type": "stream",
     "text": [
      " | Epoch 1 | Loss: 0.006147132720798254 | Accuracy: 100.0%\n",
      " | Epoch 1 | Loss: 0.01906205713748932 | Accuracy: 98.4375%\n",
      " | Epoch 1 | Loss: 0.021864693611860275 | Accuracy: 100.0%\n",
      " | Epoch 1 | Loss: 0.0018422345165163279 | Accuracy: 100.0%\n",
      " | Epoch 1 | Loss: 0.007429573684930801 | Accuracy: 100.0%\n",
      " | Epoch 1 | Loss: 0.004144548438489437 | Accuracy: 100.0%\n"
     ]
    },
    {
     "name": "stderr",
     "output_type": "stream",
     "text": [
      "Epoch 1:  59%|█████████████████            | 442/751 [00:04<00:03, 100.89batch/s, accuracy=100.0%, loss=0.00435]"
     ]
    },
    {
     "name": "stdout",
     "output_type": "stream",
     "text": [
      " | Epoch 1 | Loss: 0.017319174483418465 | Accuracy: 100.0%\n",
      " | Epoch 1 | Loss: 0.005764010362327099 | Accuracy: 100.0%\n",
      " | Epoch 1 | Loss: 0.1412597894668579 | Accuracy: 98.4375%\n",
      " | Epoch 1 | Loss: 0.004113129805773497 | Accuracy: 100.0%\n",
      " | Epoch 1 | Loss: 0.008463946171104908 | Accuracy: 100.0%\n",
      " | Epoch 1 | Loss: 0.006308544892817736 | Accuracy: 100.0%\n",
      " | Epoch 1 | Loss: 0.011222206056118011 | Accuracy: 100.0%\n",
      " | Epoch 1 | Loss: 0.004881858825683594 | Accuracy: 100.0%\n",
      " | Epoch 1 | Loss: 0.1403929591178894 | Accuracy: 98.4375%\n",
      " | Epoch 1 | Loss: 0.08112674951553345 | Accuracy: 98.4375%\n",
      " | Epoch 1 | Loss: 0.010331963188946247 | Accuracy: 100.0%\n",
      " | Epoch 1 | Loss: 0.004482116084545851 | Accuracy: 100.0%\n",
      " | Epoch 1 | Loss: 0.004554253537207842 | Accuracy: 100.0%\n",
      " | Epoch 1 | Loss: 0.004345132037997246 | Accuracy: 100.0%\n"
     ]
    },
    {
     "name": "stderr",
     "output_type": "stream",
     "text": [
      "Epoch 1:  59%|█████████████████▋            | 442/751 [00:04<00:03, 100.89batch/s, accuracy=100.0%, loss=0.0122]"
     ]
    },
    {
     "name": "stdout",
     "output_type": "stream",
     "text": [
      " | Epoch 1 | Loss: 0.005949578247964382 | Accuracy: 100.0%\n",
      " | Epoch 1 | Loss: 0.006591875106096268 | Accuracy: 100.0%\n",
      " | Epoch 1 | Loss: 0.1636744737625122 | Accuracy: 98.4375%\n",
      " | Epoch 1 | Loss: 0.005883332807570696 | Accuracy: 100.0%\n",
      " | Epoch 1 | Loss: 0.00981089472770691 | Accuracy: 100.0%\n",
      " | Epoch 1 | Loss: 0.012240080162882805 | Accuracy: 100.0%\n"
     ]
    },
    {
     "name": "stderr",
     "output_type": "stream",
     "text": [
      "Epoch 1:  62%|███████████████████            | 463/751 [00:04<00:02, 97.08batch/s, accuracy=100.0%, loss=0.0243]"
     ]
    },
    {
     "name": "stdout",
     "output_type": "stream",
     "text": [
      " | Epoch 1 | Loss: 0.008074181154370308 | Accuracy: 100.0%\n",
      " | Epoch 1 | Loss: 0.025962768122553825 | Accuracy: 98.4375%\n",
      " | Epoch 1 | Loss: 0.009526628069579601 | Accuracy: 100.0%\n",
      " | Epoch 1 | Loss: 0.012905778363347054 | Accuracy: 100.0%\n",
      " | Epoch 1 | Loss: 0.010662213899195194 | Accuracy: 100.0%\n",
      " | Epoch 1 | Loss: 0.022986751049757004 | Accuracy: 98.4375%\n",
      " | Epoch 1 | Loss: 0.009970197454094887 | Accuracy: 100.0%\n",
      " | Epoch 1 | Loss: 0.00956830382347107 | Accuracy: 100.0%\n",
      " | Epoch 1 | Loss: 0.011637640185654163 | Accuracy: 100.0%\n",
      " | Epoch 1 | Loss: 0.06524085998535156 | Accuracy: 98.4375%\n",
      " | Epoch 1 | Loss: 0.33876854181289673 | Accuracy: 98.4375%\n",
      " | Epoch 1 | Loss: 0.010979734361171722 | Accuracy: 100.0%\n",
      " | Epoch 1 | Loss: 0.004068019799888134 | Accuracy: 100.0%\n",
      " | Epoch 1 | Loss: 0.02428402192890644 | Accuracy: 100.0%\n"
     ]
    },
    {
     "name": "stderr",
     "output_type": "stream",
     "text": [
      "Epoch 1:  62%|██████████████████▍           | 463/751 [00:04<00:02, 97.08batch/s, accuracy=100.0%, loss=0.00391]"
     ]
    },
    {
     "name": "stdout",
     "output_type": "stream",
     "text": [
      " | Epoch 1 | Loss: 0.01768680289387703 | Accuracy: 100.0%\n",
      " | Epoch 1 | Loss: 0.004056681878864765 | Accuracy: 100.0%\n",
      " | Epoch 1 | Loss: 0.017375072464346886 | Accuracy: 100.0%\n",
      " | Epoch 1 | Loss: 0.1513788253068924 | Accuracy: 98.4375%\n",
      " | Epoch 1 | Loss: 0.011320824734866619 | Accuracy: 100.0%\n",
      " | Epoch 1 | Loss: 0.016688574105501175 | Accuracy: 100.0%\n",
      " | Epoch 1 | Loss: 0.003905205288901925 | Accuracy: 100.0%\n"
     ]
    },
    {
     "name": "stderr",
     "output_type": "stream",
     "text": [
      "Epoch 1:  65%|██████████████████▋          | 485/751 [00:05<00:02, 101.24batch/s, accuracy=100.0%, loss=0.00411]"
     ]
    },
    {
     "name": "stdout",
     "output_type": "stream",
     "text": [
      " | Epoch 1 | Loss: 0.01538902148604393 | Accuracy: 100.0%\n",
      " | Epoch 1 | Loss: 0.008572475984692574 | Accuracy: 100.0%\n",
      " | Epoch 1 | Loss: 0.011786757968366146 | Accuracy: 100.0%\n",
      " | Epoch 1 | Loss: 0.005747410003095865 | Accuracy: 100.0%\n",
      " | Epoch 1 | Loss: 0.006538074463605881 | Accuracy: 100.0%\n",
      " | Epoch 1 | Loss: 0.010027876123785973 | Accuracy: 100.0%\n",
      " | Epoch 1 | Loss: 0.0073839277029037476 | Accuracy: 100.0%\n",
      " | Epoch 1 | Loss: 0.0025928483810275793 | Accuracy: 100.0%\n",
      " | Epoch 1 | Loss: 0.09062658995389938 | Accuracy: 98.4375%\n",
      " | Epoch 1 | Loss: 0.00930600892752409 | Accuracy: 100.0%\n",
      " | Epoch 1 | Loss: 0.0022238800302147865 | Accuracy: 100.0%\n",
      " | Epoch 1 | Loss: 0.004597874358296394 | Accuracy: 100.0%\n",
      " | Epoch 1 | Loss: 0.005120769143104553 | Accuracy: 100.0%\n",
      " | Epoch 1 | Loss: 0.004110373556613922 | Accuracy: 100.0%\n"
     ]
    },
    {
     "name": "stderr",
     "output_type": "stream",
     "text": [
      "Epoch 1:  65%|██████████████████▋          | 485/751 [00:05<00:02, 101.24batch/s, accuracy=100.0%, loss=0.00912]"
     ]
    },
    {
     "name": "stdout",
     "output_type": "stream",
     "text": [
      " | Epoch 1 | Loss: 0.0029917703941464424 | Accuracy: 100.0%\n",
      " | Epoch 1 | Loss: 0.19666235148906708 | Accuracy: 98.4375%\n",
      " | Epoch 1 | Loss: 0.011494648642838001 | Accuracy: 100.0%\n",
      " | Epoch 1 | Loss: 0.010061094537377357 | Accuracy: 100.0%\n",
      " | Epoch 1 | Loss: 0.00511864572763443 | Accuracy: 100.0%\n",
      " | Epoch 1 | Loss: 0.046026453375816345 | Accuracy: 96.875%\n",
      " | Epoch 1 | Loss: 0.009120374917984009 | Accuracy: 100.0%\n"
     ]
    },
    {
     "name": "stderr",
     "output_type": "stream",
     "text": [
      "Epoch 1:  66%|███████████████████▏         | 496/751 [00:05<00:02, 100.53batch/s, accuracy=100.0%, loss=0.00725]"
     ]
    },
    {
     "name": "stdout",
     "output_type": "stream",
     "text": [
      " | Epoch 1 | Loss: 0.0025723238941282034 | Accuracy: 100.0%\n",
      " | Epoch 1 | Loss: 0.0035603276919573545 | Accuracy: 100.0%\n",
      " | Epoch 1 | Loss: 0.3924553096294403 | Accuracy: 98.4375%\n",
      " | Epoch 1 | Loss: 0.008344622328877449 | Accuracy: 100.0%\n",
      " | Epoch 1 | Loss: 0.007847064174711704 | Accuracy: 100.0%\n",
      " | Epoch 1 | Loss: 0.004987817723304033 | Accuracy: 100.0%\n",
      " | Epoch 1 | Loss: 0.0037697218358516693 | Accuracy: 100.0%\n",
      " | Epoch 1 | Loss: 0.0075135985389351845 | Accuracy: 100.0%\n",
      " | Epoch 1 | Loss: 0.05497762933373451 | Accuracy: 98.4375%\n",
      " | Epoch 1 | Loss: 0.005227651447057724 | Accuracy: 100.0%\n",
      " | Epoch 1 | Loss: 0.02678663283586502 | Accuracy: 100.0%\n",
      " | Epoch 1 | Loss: 0.02035173773765564 | Accuracy: 100.0%\n",
      " | Epoch 1 | Loss: 0.007249891757965088 | Accuracy: 100.0%\n"
     ]
    },
    {
     "name": "stderr",
     "output_type": "stream",
     "text": [
      "Epoch 1:  68%|████████████████████▎         | 507/751 [00:05<00:02, 98.33batch/s, accuracy=100.0%, loss=0.00505]"
     ]
    },
    {
     "name": "stdout",
     "output_type": "stream",
     "text": [
      " | Epoch 1 | Loss: 0.020440272986888885 | Accuracy: 100.0%\n",
      " | Epoch 1 | Loss: 0.006636502221226692 | Accuracy: 100.0%\n",
      " | Epoch 1 | Loss: 0.04453900456428528 | Accuracy: 98.4375%\n",
      " | Epoch 1 | Loss: 0.02427411824464798 | Accuracy: 98.4375%\n",
      " | Epoch 1 | Loss: 0.00417708232998848 | Accuracy: 100.0%\n",
      " | Epoch 1 | Loss: 0.014660917222499847 | Accuracy: 100.0%\n",
      " | Epoch 1 | Loss: 0.005051477812230587 | Accuracy: 100.0%\n"
     ]
    },
    {
     "name": "stderr",
     "output_type": "stream",
     "text": [
      "Epoch 1:  69%|█████████████████████▎         | 517/751 [00:05<00:02, 98.11batch/s, accuracy=100.0%, loss=0.0148]"
     ]
    },
    {
     "name": "stdout",
     "output_type": "stream",
     "text": [
      " | Epoch 1 | Loss: 0.005704532377421856 | Accuracy: 100.0%\n",
      " | Epoch 1 | Loss: 0.003363511525094509 | Accuracy: 100.0%\n",
      " | Epoch 1 | Loss: 0.003892582841217518 | Accuracy: 100.0%\n",
      " | Epoch 1 | Loss: 0.005402080714702606 | Accuracy: 100.0%\n",
      " | Epoch 1 | Loss: 0.01674465835094452 | Accuracy: 98.4375%\n",
      " | Epoch 1 | Loss: 0.010101808235049248 | Accuracy: 100.0%\n",
      " | Epoch 1 | Loss: 0.0039038280956447124 | Accuracy: 100.0%\n",
      " | Epoch 1 | Loss: 0.005419414024800062 | Accuracy: 100.0%\n",
      " | Epoch 1 | Loss: 0.00806425791233778 | Accuracy: 98.4375%\n",
      " | Epoch 1 | Loss: 0.004231361672282219 | Accuracy: 100.0%\n",
      " | Epoch 1 | Loss: 0.00447905994951725 | Accuracy: 100.0%\n",
      " | Epoch 1 | Loss: 0.004881740547716618 | Accuracy: 100.0%\n"
     ]
    },
    {
     "name": "stderr",
     "output_type": "stream",
     "text": [
      "Epoch 1:  70%|█████████████████████         | 527/751 [00:05<00:02, 96.64batch/s, accuracy=100.0%, loss=0.00722]"
     ]
    },
    {
     "name": "stdout",
     "output_type": "stream",
     "text": [
      " | Epoch 1 | Loss: 0.014787992462515831 | Accuracy: 100.0%\n",
      " | Epoch 1 | Loss: 0.1615232676267624 | Accuracy: 98.4375%\n",
      " | Epoch 1 | Loss: 0.008088125847280025 | Accuracy: 100.0%\n",
      " | Epoch 1 | Loss: 0.004111436661332846 | Accuracy: 100.0%\n",
      " | Epoch 1 | Loss: 0.03762303665280342 | Accuracy: 98.4375%\n",
      " | Epoch 1 | Loss: 0.012322291731834412 | Accuracy: 100.0%\n",
      " | Epoch 1 | Loss: 0.007217164151370525 | Accuracy: 100.0%\n"
     ]
    },
    {
     "name": "stderr",
     "output_type": "stream",
     "text": [
      "Epoch 1:  72%|██████████████████████▏        | 537/751 [00:05<00:02, 95.18batch/s, accuracy=100.0%, loss=0.0129]"
     ]
    },
    {
     "name": "stdout",
     "output_type": "stream",
     "text": [
      " | Epoch 1 | Loss: 0.005032248329371214 | Accuracy: 100.0%\n",
      " | Epoch 1 | Loss: 0.00725879892706871 | Accuracy: 100.0%\n",
      " | Epoch 1 | Loss: 0.021434959024190903 | Accuracy: 100.0%\n",
      " | Epoch 1 | Loss: 0.002745180856436491 | Accuracy: 100.0%\n",
      " | Epoch 1 | Loss: 0.004144739359617233 | Accuracy: 100.0%\n",
      " | Epoch 1 | Loss: 0.0039453208446502686 | Accuracy: 100.0%\n",
      " | Epoch 1 | Loss: 0.11698071658611298 | Accuracy: 98.4375%\n",
      " | Epoch 1 | Loss: 0.006419530138373375 | Accuracy: 100.0%\n",
      " | Epoch 1 | Loss: 0.00373641774058342 | Accuracy: 100.0%\n",
      " | Epoch 1 | Loss: 0.007002509199082851 | Accuracy: 100.0%\n",
      " | Epoch 1 | Loss: 0.003807408269494772 | Accuracy: 100.0%\n",
      " | Epoch 1 | Loss: 0.0022551221773028374 | Accuracy: 100.0%\n"
     ]
    },
    {
     "name": "stderr",
     "output_type": "stream",
     "text": [
      "Epoch 1:  73%|█████████████████████▉        | 548/751 [00:05<00:02, 98.13batch/s, accuracy=100.0%, loss=0.00183]"
     ]
    },
    {
     "name": "stdout",
     "output_type": "stream",
     "text": [
      " | Epoch 1 | Loss: 0.01288650743663311 | Accuracy: 100.0%\n",
      " | Epoch 1 | Loss: 0.016840292140841484 | Accuracy: 100.0%\n",
      " | Epoch 1 | Loss: 0.003199885133653879 | Accuracy: 100.0%\n",
      " | Epoch 1 | Loss: 0.009654901921749115 | Accuracy: 100.0%\n",
      " | Epoch 1 | Loss: 0.002832881873473525 | Accuracy: 100.0%\n",
      " | Epoch 1 | Loss: 0.004753519780933857 | Accuracy: 100.0%\n",
      " | Epoch 1 | Loss: 0.07311585545539856 | Accuracy: 96.875%\n",
      " | Epoch 1 | Loss: 0.0018312968313694 | Accuracy: 100.0%\n"
     ]
    },
    {
     "name": "stderr",
     "output_type": "stream",
     "text": [
      "Epoch 1:  74%|██████████████████████▎       | 558/751 [00:05<00:01, 96.95batch/s, accuracy=100.0%, loss=0.00916]"
     ]
    },
    {
     "name": "stdout",
     "output_type": "stream",
     "text": [
      " | Epoch 1 | Loss: 0.0025588874705135822 | Accuracy: 100.0%\n",
      " | Epoch 1 | Loss: 0.02198547124862671 | Accuracy: 98.4375%\n",
      " | Epoch 1 | Loss: 0.010823577642440796 | Accuracy: 100.0%\n",
      " | Epoch 1 | Loss: 0.018463270738720894 | Accuracy: 100.0%\n",
      " | Epoch 1 | Loss: 0.0020891730673611164 | Accuracy: 100.0%\n",
      " | Epoch 1 | Loss: 0.0018009035848081112 | Accuracy: 100.0%\n",
      " | Epoch 1 | Loss: 0.01295639481395483 | Accuracy: 100.0%\n",
      " | Epoch 1 | Loss: 0.0036990963853895664 | Accuracy: 100.0%\n",
      " | Epoch 1 | Loss: 0.004608695860952139 | Accuracy: 100.0%\n",
      " | Epoch 1 | Loss: 0.003211790695786476 | Accuracy: 100.0%\n",
      " | Epoch 1 | Loss: 0.005798782221972942 | Accuracy: 100.0%\n",
      " | Epoch 1 | Loss: 0.009157691150903702 | Accuracy: 100.0%\n"
     ]
    },
    {
     "name": "stderr",
     "output_type": "stream",
     "text": [
      "Epoch 1:  76%|██████████████████████▋       | 568/751 [00:05<00:01, 92.91batch/s, accuracy=100.0%, loss=0.00812]"
     ]
    },
    {
     "name": "stdout",
     "output_type": "stream",
     "text": [
      " | Epoch 1 | Loss: 0.0021586858201771975 | Accuracy: 100.0%\n",
      " | Epoch 1 | Loss: 0.08261540532112122 | Accuracy: 98.4375%\n",
      " | Epoch 1 | Loss: 0.010692196898162365 | Accuracy: 100.0%\n",
      " | Epoch 1 | Loss: 0.007636739406734705 | Accuracy: 100.0%\n",
      " | Epoch 1 | Loss: 0.004382034298032522 | Accuracy: 100.0%\n",
      " | Epoch 1 | Loss: 0.0075079817324876785 | Accuracy: 100.0%\n",
      " | Epoch 1 | Loss: 0.008115779608488083 | Accuracy: 100.0%\n"
     ]
    },
    {
     "name": "stderr",
     "output_type": "stream",
     "text": [
      "Epoch 1:  77%|███████████████████████▊       | 578/751 [00:06<00:01, 93.32batch/s, accuracy=100.0%, loss=0.0136]"
     ]
    },
    {
     "name": "stdout",
     "output_type": "stream",
     "text": [
      " | Epoch 1 | Loss: 0.002735004061833024 | Accuracy: 100.0%\n",
      " | Epoch 1 | Loss: 0.0019538705237209797 | Accuracy: 100.0%\n",
      " | Epoch 1 | Loss: 0.005066128447651863 | Accuracy: 100.0%\n",
      " | Epoch 1 | Loss: 0.002679975936189294 | Accuracy: 100.0%\n",
      " | Epoch 1 | Loss: 0.2148384004831314 | Accuracy: 98.4375%\n",
      " | Epoch 1 | Loss: 0.0032866746187210083 | Accuracy: 100.0%\n",
      " | Epoch 1 | Loss: 0.006244526244699955 | Accuracy: 100.0%\n",
      " | Epoch 1 | Loss: 0.007342560216784477 | Accuracy: 100.0%\n",
      " | Epoch 1 | Loss: 0.12157756835222244 | Accuracy: 98.4375%\n",
      " | Epoch 1 | Loss: 0.08268403261899948 | Accuracy: 98.4375%\n",
      " | Epoch 1 | Loss: 0.0066653043031692505 | Accuracy: 100.0%\n",
      " | Epoch 1 | Loss: 0.013563830405473709 | Accuracy: 100.0%\n"
     ]
    },
    {
     "name": "stderr",
     "output_type": "stream",
     "text": [
      "Epoch 1:  78%|███████████████████████▌      | 589/751 [00:06<00:01, 96.09batch/s, accuracy=100.0%, loss=0.00269]"
     ]
    },
    {
     "name": "stdout",
     "output_type": "stream",
     "text": [
      " | Epoch 1 | Loss: 0.008487777784466743 | Accuracy: 100.0%\n",
      " | Epoch 1 | Loss: 0.008102169260382652 | Accuracy: 100.0%\n",
      " | Epoch 1 | Loss: 0.006401797756552696 | Accuracy: 100.0%\n",
      " | Epoch 1 | Loss: 0.012135093100368977 | Accuracy: 100.0%\n",
      " | Epoch 1 | Loss: 0.007210540119558573 | Accuracy: 100.0%\n",
      " | Epoch 1 | Loss: 0.0035941279493272305 | Accuracy: 100.0%\n",
      " | Epoch 1 | Loss: 0.007240687496960163 | Accuracy: 100.0%\n",
      " | Epoch 1 | Loss: 0.002690796507522464 | Accuracy: 100.0%\n"
     ]
    },
    {
     "name": "stderr",
     "output_type": "stream",
     "text": [
      "Epoch 1:  80%|████████████████████████▊      | 600/751 [00:06<00:01, 97.89batch/s, accuracy=100.0%, loss=0.0177]"
     ]
    },
    {
     "name": "stdout",
     "output_type": "stream",
     "text": [
      " | Epoch 1 | Loss: 0.002898547798395157 | Accuracy: 100.0%\n",
      " | Epoch 1 | Loss: 0.11645188927650452 | Accuracy: 96.875%\n",
      " | Epoch 1 | Loss: 0.18199823796749115 | Accuracy: 98.4375%\n",
      " | Epoch 1 | Loss: 0.007117237895727158 | Accuracy: 100.0%\n",
      " | Epoch 1 | Loss: 0.005237513221800327 | Accuracy: 100.0%\n",
      " | Epoch 1 | Loss: 0.002283671870827675 | Accuracy: 100.0%\n",
      " | Epoch 1 | Loss: 0.0026389050763100386 | Accuracy: 100.0%\n",
      " | Epoch 1 | Loss: 0.030160989612340927 | Accuracy: 98.4375%\n",
      " | Epoch 1 | Loss: 0.0052819824777543545 | Accuracy: 100.0%\n",
      " | Epoch 1 | Loss: 0.0026353660505264997 | Accuracy: 100.0%\n",
      " | Epoch 1 | Loss: 0.009444991126656532 | Accuracy: 100.0%\n",
      " | Epoch 1 | Loss: 0.017684267833828926 | Accuracy: 100.0%\n"
     ]
    },
    {
     "name": "stderr",
     "output_type": "stream",
     "text": [
      "Epoch 1:  80%|████████████████████████▊      | 600/751 [00:06<00:01, 97.89batch/s, accuracy=100.0%, loss=0.0221]"
     ]
    },
    {
     "name": "stdout",
     "output_type": "stream",
     "text": [
      " | Epoch 1 | Loss: 0.004656136967241764 | Accuracy: 100.0%\n",
      " | Epoch 1 | Loss: 0.0021351801697164774 | Accuracy: 100.0%\n",
      " | Epoch 1 | Loss: 0.004734800197184086 | Accuracy: 100.0%\n",
      " | Epoch 1 | Loss: 0.006954259239137173 | Accuracy: 100.0%\n",
      " | Epoch 1 | Loss: 0.9829304218292236 | Accuracy: 96.875%\n",
      " | Epoch 1 | Loss: 0.014834979549050331 | Accuracy: 100.0%\n",
      " | Epoch 1 | Loss: 0.04956049844622612 | Accuracy: 96.875%\n",
      " | Epoch 1 | Loss: 0.022098306566476822 | Accuracy: 100.0%\n"
     ]
    },
    {
     "name": "stderr",
     "output_type": "stream",
     "text": [
      "Epoch 1:  83%|████████████████████████▊     | 620/751 [00:06<00:01, 95.72batch/s, accuracy=100.0%, loss=0.00605]"
     ]
    },
    {
     "name": "stdout",
     "output_type": "stream",
     "text": [
      " | Epoch 1 | Loss: 0.0601813904941082 | Accuracy: 98.4375%\n",
      " | Epoch 1 | Loss: 0.02196994051337242 | Accuracy: 100.0%\n",
      " | Epoch 1 | Loss: 0.05995619297027588 | Accuracy: 100.0%\n",
      " | Epoch 1 | Loss: 0.011044831946492195 | Accuracy: 100.0%\n",
      " | Epoch 1 | Loss: 0.00797902699559927 | Accuracy: 100.0%\n",
      " | Epoch 1 | Loss: 0.008783988654613495 | Accuracy: 100.0%\n",
      " | Epoch 1 | Loss: 0.015552263706922531 | Accuracy: 100.0%\n",
      " | Epoch 1 | Loss: 0.01881476864218712 | Accuracy: 100.0%\n",
      " | Epoch 1 | Loss: 0.1579856127500534 | Accuracy: 98.4375%\n",
      " | Epoch 1 | Loss: 0.013231850229203701 | Accuracy: 100.0%\n",
      " | Epoch 1 | Loss: 0.02020900882780552 | Accuracy: 100.0%\n",
      " | Epoch 1 | Loss: 0.006051232572644949 | Accuracy: 100.0%\n"
     ]
    },
    {
     "name": "stderr",
     "output_type": "stream",
     "text": [
      "Epoch 1:  84%|█████████████████████████▏    | 630/751 [00:06<00:01, 96.39batch/s, accuracy=100.0%, loss=0.00385]"
     ]
    },
    {
     "name": "stdout",
     "output_type": "stream",
     "text": [
      " | Epoch 1 | Loss: 0.07099975645542145 | Accuracy: 98.4375%\n",
      " | Epoch 1 | Loss: 0.015069273300468922 | Accuracy: 100.0%\n",
      " | Epoch 1 | Loss: 0.006413919851183891 | Accuracy: 100.0%\n",
      " | Epoch 1 | Loss: 0.012382016517221928 | Accuracy: 100.0%\n",
      " | Epoch 1 | Loss: 0.006736275274306536 | Accuracy: 100.0%\n",
      " | Epoch 1 | Loss: 0.005347956903278828 | Accuracy: 100.0%\n",
      " | Epoch 1 | Loss: 0.005972300656139851 | Accuracy: 100.0%\n",
      " | Epoch 1 | Loss: 0.0038506973069161177 | Accuracy: 100.0%\n"
     ]
    },
    {
     "name": "stderr",
     "output_type": "stream",
     "text": [
      "Epoch 1:  85%|█████████████████████████▌    | 641/751 [00:06<00:01, 97.43batch/s, accuracy=98.4375%, loss=0.202]"
     ]
    },
    {
     "name": "stdout",
     "output_type": "stream",
     "text": [
      " | Epoch 1 | Loss: 0.08635302633047104 | Accuracy: 96.875%\n",
      " | Epoch 1 | Loss: 0.004070898983627558 | Accuracy: 100.0%\n",
      " | Epoch 1 | Loss: 0.002341571031138301 | Accuracy: 100.0%\n",
      " | Epoch 1 | Loss: 0.0050427536480128765 | Accuracy: 100.0%\n",
      " | Epoch 1 | Loss: 0.010048856027424335 | Accuracy: 100.0%\n",
      " | Epoch 1 | Loss: 0.014575484208762646 | Accuracy: 100.0%\n",
      " | Epoch 1 | Loss: 0.00439673475921154 | Accuracy: 100.0%\n",
      " | Epoch 1 | Loss: 0.2055177092552185 | Accuracy: 98.4375%\n",
      " | Epoch 1 | Loss: 0.00529573205858469 | Accuracy: 100.0%\n",
      " | Epoch 1 | Loss: 0.14222534000873566 | Accuracy: 98.4375%\n",
      " | Epoch 1 | Loss: 0.011567101813852787 | Accuracy: 100.0%\n",
      " | Epoch 1 | Loss: 0.0039597442373633385 | Accuracy: 100.0%\n",
      " | Epoch 1 | Loss: 0.2019515186548233 | Accuracy: 98.4375%\n"
     ]
    },
    {
     "name": "stderr",
     "output_type": "stream",
     "text": [
      "Epoch 1:  85%|█████████████████████████▌    | 641/751 [00:06<00:01, 97.43batch/s, accuracy=100.0%, loss=0.00525]"
     ]
    },
    {
     "name": "stdout",
     "output_type": "stream",
     "text": [
      " | Epoch 1 | Loss: 0.013733983039855957 | Accuracy: 100.0%\n",
      " | Epoch 1 | Loss: 0.004267308861017227 | Accuracy: 100.0%\n",
      " | Epoch 1 | Loss: 0.005587635096162558 | Accuracy: 100.0%\n",
      " | Epoch 1 | Loss: 0.015624072402715683 | Accuracy: 100.0%\n",
      " | Epoch 1 | Loss: 0.008982324041426182 | Accuracy: 100.0%\n",
      " | Epoch 1 | Loss: 0.005210266448557377 | Accuracy: 100.0%\n",
      " | Epoch 1 | Loss: 0.005250138696283102 | Accuracy: 100.0%\n"
     ]
    },
    {
     "name": "stderr",
     "output_type": "stream",
     "text": [
      "Epoch 1:  88%|██████████████████████████▍   | 662/751 [00:06<00:00, 99.97batch/s, accuracy=100.0%, loss=0.00602]"
     ]
    },
    {
     "name": "stdout",
     "output_type": "stream",
     "text": [
      " | Epoch 1 | Loss: 0.005442894995212555 | Accuracy: 100.0%\n",
      " | Epoch 1 | Loss: 0.01954619400203228 | Accuracy: 100.0%\n",
      " | Epoch 1 | Loss: 0.010194174014031887 | Accuracy: 100.0%\n",
      " | Epoch 1 | Loss: 0.007795234676450491 | Accuracy: 100.0%\n",
      " | Epoch 1 | Loss: 0.005147224757820368 | Accuracy: 100.0%\n",
      " | Epoch 1 | Loss: 0.01403601374477148 | Accuracy: 98.4375%\n",
      " | Epoch 1 | Loss: 0.004507767967879772 | Accuracy: 100.0%\n",
      " | Epoch 1 | Loss: 0.03211915120482445 | Accuracy: 100.0%\n",
      " | Epoch 1 | Loss: 0.13461530208587646 | Accuracy: 98.4375%\n",
      " | Epoch 1 | Loss: 0.0054997894912958145 | Accuracy: 100.0%\n",
      " | Epoch 1 | Loss: 0.009385010227560997 | Accuracy: 100.0%\n",
      " | Epoch 1 | Loss: 0.09142116457223892 | Accuracy: 98.4375%\n",
      " | Epoch 1 | Loss: 0.756327211856842 | Accuracy: 98.4375%\n",
      " | Epoch 1 | Loss: 0.006021621637046337 | Accuracy: 100.0%\n"
     ]
    },
    {
     "name": "stderr",
     "output_type": "stream",
     "text": [
      "Epoch 1:  88%|███████████████████████████▎   | 662/751 [00:06<00:00, 99.97batch/s, accuracy=100.0%, loss=0.0425]"
     ]
    },
    {
     "name": "stdout",
     "output_type": "stream",
     "text": [
      " | Epoch 1 | Loss: 0.016530554741621017 | Accuracy: 100.0%\n",
      " | Epoch 1 | Loss: 0.020943235605955124 | Accuracy: 100.0%\n",
      " | Epoch 1 | Loss: 0.024958891794085503 | Accuracy: 100.0%\n",
      " | Epoch 1 | Loss: 0.01973016932606697 | Accuracy: 100.0%\n",
      " | Epoch 1 | Loss: 0.03921051323413849 | Accuracy: 100.0%\n",
      " | Epoch 1 | Loss: 0.03334817290306091 | Accuracy: 100.0%\n",
      " | Epoch 1 | Loss: 0.042532358318567276 | Accuracy: 100.0%\n"
     ]
    },
    {
     "name": "stderr",
     "output_type": "stream",
     "text": [
      "Epoch 1:  91%|██████████████████████████▍  | 684/751 [00:07<00:00, 101.09batch/s, accuracy=100.0%, loss=0.00689]"
     ]
    },
    {
     "name": "stdout",
     "output_type": "stream",
     "text": [
      " | Epoch 1 | Loss: 0.016022104769945145 | Accuracy: 100.0%\n",
      " | Epoch 1 | Loss: 0.013931946828961372 | Accuracy: 100.0%\n",
      " | Epoch 1 | Loss: 0.029986437410116196 | Accuracy: 100.0%\n",
      " | Epoch 1 | Loss: 0.012915749102830887 | Accuracy: 100.0%\n",
      " | Epoch 1 | Loss: 0.041449084877967834 | Accuracy: 98.4375%\n",
      " | Epoch 1 | Loss: 0.013124529272317886 | Accuracy: 100.0%\n",
      " | Epoch 1 | Loss: 0.01342566218227148 | Accuracy: 100.0%\n",
      " | Epoch 1 | Loss: 0.0073779975064098835 | Accuracy: 100.0%\n",
      " | Epoch 1 | Loss: 0.007787518203258514 | Accuracy: 100.0%\n",
      " | Epoch 1 | Loss: 0.012386803515255451 | Accuracy: 100.0%\n",
      " | Epoch 1 | Loss: 0.005943251308053732 | Accuracy: 100.0%\n",
      " | Epoch 1 | Loss: 0.006387193687260151 | Accuracy: 100.0%\n",
      " | Epoch 1 | Loss: 0.007477046921849251 | Accuracy: 100.0%\n",
      " | Epoch 1 | Loss: 0.006892024539411068 | Accuracy: 100.0%\n"
     ]
    },
    {
     "name": "stderr",
     "output_type": "stream",
     "text": [
      "Epoch 1:  91%|██████████████████████████▍  | 684/751 [00:07<00:00, 101.09batch/s, accuracy=98.4375%, loss=0.432]"
     ]
    },
    {
     "name": "stdout",
     "output_type": "stream",
     "text": [
      " | Epoch 1 | Loss: 0.016363125294446945 | Accuracy: 100.0%\n",
      " | Epoch 1 | Loss: 0.00720019219443202 | Accuracy: 100.0%\n",
      " | Epoch 1 | Loss: 0.006474195513874292 | Accuracy: 100.0%\n",
      " | Epoch 1 | Loss: 0.00418648449704051 | Accuracy: 100.0%\n",
      " | Epoch 1 | Loss: 0.005297197960317135 | Accuracy: 100.0%\n",
      " | Epoch 1 | Loss: 0.0032231018412858248 | Accuracy: 100.0%\n",
      " | Epoch 1 | Loss: 0.4319353401660919 | Accuracy: 98.4375%\n"
     ]
    },
    {
     "name": "stderr",
     "output_type": "stream",
     "text": [
      "Epoch 1:  93%|██████████████████████████▊  | 695/751 [00:07<00:00, 100.49batch/s, accuracy=100.0%, loss=0.00957]"
     ]
    },
    {
     "name": "stdout",
     "output_type": "stream",
     "text": [
      " | Epoch 1 | Loss: 0.06896360218524933 | Accuracy: 98.4375%\n",
      " | Epoch 1 | Loss: 0.0058458540588617325 | Accuracy: 100.0%\n",
      " | Epoch 1 | Loss: 0.004367468878626823 | Accuracy: 100.0%\n",
      " | Epoch 1 | Loss: 0.12951746582984924 | Accuracy: 98.4375%\n",
      " | Epoch 1 | Loss: 0.005331738851964474 | Accuracy: 100.0%\n",
      " | Epoch 1 | Loss: 0.005910269916057587 | Accuracy: 100.0%\n",
      " | Epoch 1 | Loss: 0.037556521594524384 | Accuracy: 98.4375%\n",
      " | Epoch 1 | Loss: 0.01820085197687149 | Accuracy: 100.0%\n",
      " | Epoch 1 | Loss: 0.00613872054964304 | Accuracy: 100.0%\n",
      " | Epoch 1 | Loss: 0.004832596052438021 | Accuracy: 100.0%\n",
      " | Epoch 1 | Loss: 0.009375850670039654 | Accuracy: 100.0%\n",
      " | Epoch 1 | Loss: 0.05289170891046524 | Accuracy: 98.4375%\n",
      " | Epoch 1 | Loss: 0.00956504326313734 | Accuracy: 100.0%\n"
     ]
    },
    {
     "name": "stderr",
     "output_type": "stream",
     "text": [
      "Epoch 1:  94%|████████████████████████████▏ | 706/751 [00:07<00:00, 99.53batch/s, accuracy=98.4375%, loss=0.452]"
     ]
    },
    {
     "name": "stdout",
     "output_type": "stream",
     "text": [
      " | Epoch 1 | Loss: 0.003113233484327793 | Accuracy: 100.0%\n",
      " | Epoch 1 | Loss: 0.010481630451977253 | Accuracy: 100.0%\n",
      " | Epoch 1 | Loss: 0.009978839196264744 | Accuracy: 100.0%\n",
      " | Epoch 1 | Loss: 0.02774249017238617 | Accuracy: 100.0%\n",
      " | Epoch 1 | Loss: 0.01412160787731409 | Accuracy: 100.0%\n",
      " | Epoch 1 | Loss: 0.002516687149181962 | Accuracy: 100.0%\n",
      " | Epoch 1 | Loss: 0.45219671726226807 | Accuracy: 98.4375%\n"
     ]
    },
    {
     "name": "stderr",
     "output_type": "stream",
     "text": [
      "Epoch 1:  95%|█████████████████████████████▌ | 716/751 [00:07<00:00, 98.96batch/s, accuracy=100.0%, loss=0.0189]"
     ]
    },
    {
     "name": "stdout",
     "output_type": "stream",
     "text": [
      " | Epoch 1 | Loss: 0.0036332649178802967 | Accuracy: 100.0%\n",
      " | Epoch 1 | Loss: 0.012639953754842281 | Accuracy: 100.0%\n",
      " | Epoch 1 | Loss: 0.017013084143400192 | Accuracy: 100.0%\n",
      " | Epoch 1 | Loss: 0.012980613857507706 | Accuracy: 100.0%\n",
      " | Epoch 1 | Loss: 0.02615874446928501 | Accuracy: 100.0%\n",
      " | Epoch 1 | Loss: 0.009269623085856438 | Accuracy: 100.0%\n",
      " | Epoch 1 | Loss: 0.01660102605819702 | Accuracy: 100.0%\n",
      " | Epoch 1 | Loss: 0.015551097691059113 | Accuracy: 100.0%\n",
      " | Epoch 1 | Loss: 0.007604845799505711 | Accuracy: 100.0%\n",
      " | Epoch 1 | Loss: 0.008501737378537655 | Accuracy: 100.0%\n",
      " | Epoch 1 | Loss: 0.009125666692852974 | Accuracy: 100.0%\n",
      " | Epoch 1 | Loss: 0.013009777292609215 | Accuracy: 100.0%\n",
      " | Epoch 1 | Loss: 0.018880324438214302 | Accuracy: 100.0%\n"
     ]
    },
    {
     "name": "stderr",
     "output_type": "stream",
     "text": [
      "Epoch 1:  97%|█████████████████████████████ | 726/751 [00:07<00:00, 98.37batch/s, accuracy=100.0%, loss=0.00316]"
     ]
    },
    {
     "name": "stdout",
     "output_type": "stream",
     "text": [
      " | Epoch 1 | Loss: 0.0058789970353245735 | Accuracy: 100.0%\n",
      " | Epoch 1 | Loss: 0.006204473786056042 | Accuracy: 100.0%\n",
      " | Epoch 1 | Loss: 0.017168307676911354 | Accuracy: 100.0%\n",
      " | Epoch 1 | Loss: 0.007948838174343109 | Accuracy: 100.0%\n",
      " | Epoch 1 | Loss: 0.008695702999830246 | Accuracy: 100.0%\n",
      " | Epoch 1 | Loss: 0.007981663569808006 | Accuracy: 100.0%\n",
      " | Epoch 1 | Loss: 0.00315541448071599 | Accuracy: 100.0%\n"
     ]
    },
    {
     "name": "stderr",
     "output_type": "stream",
     "text": [
      "Epoch 1:  98%|████████████████████████████▍| 737/751 [00:07<00:00, 101.06batch/s, accuracy=98.4375%, loss=0.496]"
     ]
    },
    {
     "name": "stdout",
     "output_type": "stream",
     "text": [
      " | Epoch 1 | Loss: 0.006723323836922646 | Accuracy: 100.0%\n",
      " | Epoch 1 | Loss: 0.002762818243354559 | Accuracy: 100.0%\n",
      " | Epoch 1 | Loss: 0.009504901245236397 | Accuracy: 100.0%\n",
      " | Epoch 1 | Loss: 0.0038491690065711737 | Accuracy: 100.0%\n",
      " | Epoch 1 | Loss: 0.07191238552331924 | Accuracy: 98.4375%\n",
      " | Epoch 1 | Loss: 0.12289908528327942 | Accuracy: 98.4375%\n",
      " | Epoch 1 | Loss: 0.025632455945014954 | Accuracy: 100.0%\n",
      " | Epoch 1 | Loss: 0.0038129594177007675 | Accuracy: 100.0%\n",
      " | Epoch 1 | Loss: 0.016556061804294586 | Accuracy: 100.0%\n",
      " | Epoch 1 | Loss: 0.08117302507162094 | Accuracy: 98.4375%\n",
      " | Epoch 1 | Loss: 0.01927153952419758 | Accuracy: 98.4375%\n",
      " | Epoch 1 | Loss: 0.007358572445809841 | Accuracy: 100.0%\n",
      " | Epoch 1 | Loss: 0.00273561361245811 | Accuracy: 100.0%\n",
      " | Epoch 1 | Loss: 0.015488950535655022 | Accuracy: 100.0%\n",
      " | Epoch 1 | Loss: 0.49599435925483704 | Accuracy: 98.4375%\n"
     ]
    },
    {
     "name": "stderr",
     "output_type": "stream",
     "text": [
      "Epoch 1: 100%|███████████████████████████▉| 748/751 [00:07<00:00, 102.86batch/s, accuracy=100.0%, loss=0.000131]"
     ]
    },
    {
     "name": "stdout",
     "output_type": "stream",
     "text": [
      " | Epoch 1 | Loss: 0.009374730288982391 | Accuracy: 100.0%\n",
      " | Epoch 1 | Loss: 0.011795666068792343 | Accuracy: 100.0%\n",
      " | Epoch 1 | Loss: 0.005644325166940689 | Accuracy: 100.0%\n",
      " | Epoch 1 | Loss: 0.0001307044440181926 | Accuracy: 100.0%\n"
     ]
    },
    {
     "name": "stderr",
     "output_type": "stream",
     "text": [
      "Epoch 1: 100%|█████████████████████████████| 751/751 [00:07<00:00, 96.13batch/s, accuracy=100.0%, loss=0.000131]\n",
      "Evaluating group-wise accuracy:   4%|█▊                                          | 1/25 [00:00<00:06,  3.97it/s]"
     ]
    },
    {
     "name": "stdout",
     "output_type": "stream",
     "text": [
      "Group (0, 0) Accuracy: 20.118343195266274\n"
     ]
    },
    {
     "name": "stderr",
     "output_type": "stream",
     "text": [
      "Evaluating group-wise accuracy:   8%|███▌                                        | 2/25 [00:00<00:05,  4.17it/s]"
     ]
    },
    {
     "name": "stdout",
     "output_type": "stream",
     "text": [
      "Group (0, 1) Accuracy: 19.526627218934912\n"
     ]
    },
    {
     "name": "stderr",
     "output_type": "stream",
     "text": [
      "Evaluating group-wise accuracy:  12%|█████▎                                      | 3/25 [00:00<00:04,  4.43it/s]"
     ]
    },
    {
     "name": "stdout",
     "output_type": "stream",
     "text": [
      "Group (0, 2) Accuracy: 20.948616600790515\n"
     ]
    },
    {
     "name": "stderr",
     "output_type": "stream",
     "text": [
      "Evaluating group-wise accuracy:  16%|███████                                     | 4/25 [00:00<00:04,  4.50it/s]"
     ]
    },
    {
     "name": "stdout",
     "output_type": "stream",
     "text": [
      "Group (0, 3) Accuracy: 18.57707509881423\n"
     ]
    },
    {
     "name": "stderr",
     "output_type": "stream",
     "text": [
      "Evaluating group-wise accuracy:  20%|████████▊                                   | 5/25 [00:01<00:04,  4.30it/s]"
     ]
    },
    {
     "name": "stdout",
     "output_type": "stream",
     "text": [
      "Group (0, 4) Accuracy: 20.948616600790515\n"
     ]
    },
    {
     "name": "stderr",
     "output_type": "stream",
     "text": [
      "Evaluating group-wise accuracy:  24%|██████████▌                                 | 6/25 [00:01<00:04,  4.34it/s]"
     ]
    },
    {
     "name": "stdout",
     "output_type": "stream",
     "text": [
      "Group (1, 0) Accuracy: 21.90082644628099\n"
     ]
    },
    {
     "name": "stderr",
     "output_type": "stream",
     "text": [
      "Evaluating group-wise accuracy:  28%|████████████▎                               | 7/25 [00:01<00:04,  4.25it/s]"
     ]
    },
    {
     "name": "stdout",
     "output_type": "stream",
     "text": [
      "Group (1, 1) Accuracy: 22.727272727272727\n"
     ]
    },
    {
     "name": "stderr",
     "output_type": "stream",
     "text": [
      "Evaluating group-wise accuracy:  32%|██████████████                              | 8/25 [00:01<00:04,  4.17it/s]"
     ]
    },
    {
     "name": "stdout",
     "output_type": "stream",
     "text": [
      "Group (1, 2) Accuracy: 20.70393374741201\n"
     ]
    },
    {
     "name": "stderr",
     "output_type": "stream",
     "text": [
      "Evaluating group-wise accuracy:  36%|███████████████▊                            | 9/25 [00:02<00:03,  4.11it/s]"
     ]
    },
    {
     "name": "stdout",
     "output_type": "stream",
     "text": [
      "Group (1, 3) Accuracy: 24.43064182194617\n"
     ]
    },
    {
     "name": "stderr",
     "output_type": "stream",
     "text": [
      "Evaluating group-wise accuracy:  40%|█████████████████▏                         | 10/25 [00:02<00:03,  4.25it/s]"
     ]
    },
    {
     "name": "stdout",
     "output_type": "stream",
     "text": [
      "Group (1, 4) Accuracy: 19.66873706004141\n"
     ]
    },
    {
     "name": "stderr",
     "output_type": "stream",
     "text": [
      "Evaluating group-wise accuracy:  44%|██████████████████▉                        | 11/25 [00:02<00:03,  4.30it/s]"
     ]
    },
    {
     "name": "stdout",
     "output_type": "stream",
     "text": [
      "Group (2, 0) Accuracy: 20.39911308203991\n"
     ]
    },
    {
     "name": "stderr",
     "output_type": "stream",
     "text": [
      "Evaluating group-wise accuracy:  48%|████████████████████▋                      | 12/25 [00:02<00:02,  4.40it/s]"
     ]
    },
    {
     "name": "stdout",
     "output_type": "stream",
     "text": [
      "Group (2, 1) Accuracy: 16.851441241685144\n"
     ]
    },
    {
     "name": "stderr",
     "output_type": "stream",
     "text": [
      "Evaluating group-wise accuracy:  52%|██████████████████████▎                    | 13/25 [00:03<00:02,  4.19it/s]"
     ]
    },
    {
     "name": "stdout",
     "output_type": "stream",
     "text": [
      "Group (2, 2) Accuracy: 23.333333333333332\n"
     ]
    },
    {
     "name": "stderr",
     "output_type": "stream",
     "text": [
      "Evaluating group-wise accuracy:  56%|████████████████████████                   | 14/25 [00:03<00:02,  4.31it/s]"
     ]
    },
    {
     "name": "stdout",
     "output_type": "stream",
     "text": [
      "Group (2, 3) Accuracy: 22.444444444444443\n"
     ]
    },
    {
     "name": "stderr",
     "output_type": "stream",
     "text": [
      "Evaluating group-wise accuracy:  60%|█████████████████████████▊                 | 15/25 [00:03<00:02,  4.34it/s]"
     ]
    },
    {
     "name": "stdout",
     "output_type": "stream",
     "text": [
      "Group (2, 4) Accuracy: 16.88888888888889\n"
     ]
    },
    {
     "name": "stderr",
     "output_type": "stream",
     "text": [
      "Evaluating group-wise accuracy:  64%|███████████████████████████▌               | 16/25 [00:03<00:02,  4.12it/s]"
     ]
    },
    {
     "name": "stdout",
     "output_type": "stream",
     "text": [
      "Group (3, 0) Accuracy: 18.852459016393443\n"
     ]
    },
    {
     "name": "stderr",
     "output_type": "stream",
     "text": [
      "Evaluating group-wise accuracy:  68%|█████████████████████████████▏             | 17/25 [00:04<00:01,  4.06it/s]"
     ]
    },
    {
     "name": "stdout",
     "output_type": "stream",
     "text": [
      "Group (3, 1) Accuracy: 21.149897330595483\n"
     ]
    },
    {
     "name": "stderr",
     "output_type": "stream",
     "text": [
      "Evaluating group-wise accuracy:  72%|██████████████████████████████▉            | 18/25 [00:04<00:01,  4.03it/s]"
     ]
    },
    {
     "name": "stdout",
     "output_type": "stream",
     "text": [
      "Group (3, 2) Accuracy: 18.68583162217659\n"
     ]
    },
    {
     "name": "stderr",
     "output_type": "stream",
     "text": [
      "Evaluating group-wise accuracy:  76%|████████████████████████████████▋          | 19/25 [00:04<00:01,  4.19it/s]"
     ]
    },
    {
     "name": "stdout",
     "output_type": "stream",
     "text": [
      "Group (3, 3) Accuracy: 21.971252566735114\n"
     ]
    },
    {
     "name": "stderr",
     "output_type": "stream",
     "text": [
      "Evaluating group-wise accuracy:  80%|██████████████████████████████████▍        | 20/25 [00:04<00:01,  4.30it/s]"
     ]
    },
    {
     "name": "stdout",
     "output_type": "stream",
     "text": [
      "Group (3, 4) Accuracy: 18.68583162217659\n"
     ]
    },
    {
     "name": "stderr",
     "output_type": "stream",
     "text": [
      "Evaluating group-wise accuracy:  84%|████████████████████████████████████       | 21/25 [00:04<00:00,  4.20it/s]"
     ]
    },
    {
     "name": "stdout",
     "output_type": "stream",
     "text": [
      "Group (4, 0) Accuracy: 75.42372881355932\n"
     ]
    },
    {
     "name": "stderr",
     "output_type": "stream",
     "text": [
      "Evaluating group-wise accuracy:  88%|█████████████████████████████████████▊     | 22/25 [00:05<00:00,  4.15it/s]"
     ]
    },
    {
     "name": "stdout",
     "output_type": "stream",
     "text": [
      "Group (4, 1) Accuracy: 75.0\n"
     ]
    },
    {
     "name": "stderr",
     "output_type": "stream",
     "text": [
      "Evaluating group-wise accuracy:  92%|███████████████████████████████████████▌   | 23/25 [00:05<00:00,  4.21it/s]"
     ]
    },
    {
     "name": "stdout",
     "output_type": "stream",
     "text": [
      "Group (4, 2) Accuracy: 71.82203389830508\n"
     ]
    },
    {
     "name": "stderr",
     "output_type": "stream",
     "text": [
      "Evaluating group-wise accuracy:  96%|█████████████████████████████████████████▎ | 24/25 [00:05<00:00,  4.36it/s]"
     ]
    },
    {
     "name": "stdout",
     "output_type": "stream",
     "text": [
      "Group (4, 3) Accuracy: 72.2457627118644\n"
     ]
    },
    {
     "name": "stderr",
     "output_type": "stream",
     "text": [
      "Evaluating group-wise accuracy: 100%|███████████████████████████████████████████| 25/25 [00:05<00:00,  4.27it/s]\n"
     ]
    },
    {
     "name": "stdout",
     "output_type": "stream",
     "text": [
      "Group (4, 4) Accuracy: 73.03609341825903\n",
      "Epoch 1:  Val Worst-Group Accuracy: 16.851441241685144\n",
      "Best Val Worst-Group Accuracy: 16.88888888888889\n"
     ]
    },
    {
     "name": "stderr",
     "output_type": "stream",
     "text": [
      "Epoch 2:   0%|                                | 1/751 [00:00<01:49,  6.86batch/s, accuracy=100.0%, loss=0.00332]"
     ]
    },
    {
     "name": "stdout",
     "output_type": "stream",
     "text": [
      " | Epoch 2 | Loss: 0.014309232123196125 | Accuracy: 100.0%\n",
      " | Epoch 2 | Loss: 0.007141581270843744 | Accuracy: 100.0%\n",
      " | Epoch 2 | Loss: 0.006624079309403896 | Accuracy: 100.0%\n"
     ]
    },
    {
     "name": "stderr",
     "output_type": "stream",
     "text": [
      "Epoch 2:   1%|▍                               | 11/751 [00:00<00:14, 51.68batch/s, accuracy=100.0%, loss=0.0146]"
     ]
    },
    {
     "name": "stdout",
     "output_type": "stream",
     "text": [
      " | Epoch 2 | Loss: 0.003324109362438321 | Accuracy: 100.0%\n",
      " | Epoch 2 | Loss: 0.0043495637364685535 | Accuracy: 100.0%\n",
      " | Epoch 2 | Loss: 0.018255013972520828 | Accuracy: 100.0%\n",
      " | Epoch 2 | Loss: 0.006163143087178469 | Accuracy: 100.0%\n",
      " | Epoch 2 | Loss: 0.6244519948959351 | Accuracy: 95.3125%\n",
      " | Epoch 2 | Loss: 0.010556064546108246 | Accuracy: 100.0%\n",
      " | Epoch 2 | Loss: 0.01550841424614191 | Accuracy: 100.0%\n",
      " | Epoch 2 | Loss: 0.010684363543987274 | Accuracy: 100.0%\n",
      " | Epoch 2 | Loss: 0.020176198333501816 | Accuracy: 100.0%\n",
      " | Epoch 2 | Loss: 0.0033818697556853294 | Accuracy: 100.0%\n",
      " | Epoch 2 | Loss: 0.006583860144019127 | Accuracy: 100.0%\n",
      " | Epoch 2 | Loss: 0.004485145211219788 | Accuracy: 100.0%\n",
      " | Epoch 2 | Loss: 0.010316934436559677 | Accuracy: 100.0%\n",
      " | Epoch 2 | Loss: 0.3287656307220459 | Accuracy: 98.4375%\n",
      " | Epoch 2 | Loss: 0.7814369797706604 | Accuracy: 96.875%\n",
      " | Epoch 2 | Loss: 0.013866564258933067 | Accuracy: 100.0%\n",
      " | Epoch 2 | Loss: 0.014577990397810936 | Accuracy: 100.0%\n"
     ]
    },
    {
     "name": "stderr",
     "output_type": "stream",
     "text": [
      "Epoch 2:   3%|▉                               | 21/751 [00:00<00:10, 70.85batch/s, accuracy=100.0%, loss=0.0298]"
     ]
    },
    {
     "name": "stdout",
     "output_type": "stream",
     "text": [
      " | Epoch 2 | Loss: 0.008351070806384087 | Accuracy: 100.0%\n",
      " | Epoch 2 | Loss: 0.05460350960493088 | Accuracy: 98.4375%\n",
      " | Epoch 2 | Loss: 0.029779525473713875 | Accuracy: 100.0%\n"
     ]
    },
    {
     "name": "stderr",
     "output_type": "stream",
     "text": [
      "Epoch 2:   4%|█▏                             | 30/751 [00:00<00:09, 76.42batch/s, accuracy=100.0%, loss=0.00768]"
     ]
    },
    {
     "name": "stdout",
     "output_type": "stream",
     "text": [
      " | Epoch 2 | Loss: 0.017990171909332275 | Accuracy: 100.0%\n",
      " | Epoch 2 | Loss: 0.022702403366565704 | Accuracy: 100.0%\n",
      " | Epoch 2 | Loss: 0.4721609652042389 | Accuracy: 98.4375%\n",
      " | Epoch 2 | Loss: 0.1102580800652504 | Accuracy: 96.875%\n",
      " | Epoch 2 | Loss: 0.01858261227607727 | Accuracy: 100.0%\n",
      " | Epoch 2 | Loss: 0.03318004682660103 | Accuracy: 100.0%\n",
      " | Epoch 2 | Loss: 0.014036938548088074 | Accuracy: 100.0%\n",
      " | Epoch 2 | Loss: 0.0131132323294878 | Accuracy: 100.0%\n",
      " | Epoch 2 | Loss: 0.021140817552804947 | Accuracy: 100.0%\n",
      " | Epoch 2 | Loss: 0.02232295833528042 | Accuracy: 100.0%\n",
      " | Epoch 2 | Loss: 0.017466500401496887 | Accuracy: 100.0%\n",
      " | Epoch 2 | Loss: 0.032918378710746765 | Accuracy: 100.0%\n",
      " | Epoch 2 | Loss: 0.029942020773887634 | Accuracy: 100.0%\n",
      " | Epoch 2 | Loss: 0.009195221588015556 | Accuracy: 100.0%\n",
      " | Epoch 2 | Loss: 0.013730768114328384 | Accuracy: 100.0%\n",
      " | Epoch 2 | Loss: 0.007679486647248268 | Accuracy: 100.0%\n"
     ]
    },
    {
     "name": "stderr",
     "output_type": "stream",
     "text": [
      "Epoch 2:   5%|█▋                             | 41/751 [00:00<00:08, 85.70batch/s, accuracy=100.0%, loss=0.00868]"
     ]
    },
    {
     "name": "stdout",
     "output_type": "stream",
     "text": [
      " | Epoch 2 | Loss: 0.012175757437944412 | Accuracy: 100.0%\n",
      " | Epoch 2 | Loss: 0.19017741084098816 | Accuracy: 98.4375%\n",
      " | Epoch 2 | Loss: 0.008332370780408382 | Accuracy: 100.0%\n",
      " | Epoch 2 | Loss: 0.008677356876432896 | Accuracy: 100.0%\n"
     ]
    },
    {
     "name": "stderr",
     "output_type": "stream",
     "text": [
      "Epoch 2:   7%|██▏                            | 52/751 [00:00<00:07, 90.82batch/s, accuracy=98.4375%, loss=0.202]"
     ]
    },
    {
     "name": "stdout",
     "output_type": "stream",
     "text": [
      " | Epoch 2 | Loss: 0.06470289081335068 | Accuracy: 98.4375%\n",
      " | Epoch 2 | Loss: 0.011904946528375149 | Accuracy: 100.0%\n",
      " | Epoch 2 | Loss: 0.2740127444267273 | Accuracy: 98.4375%\n",
      " | Epoch 2 | Loss: 0.007667219266295433 | Accuracy: 100.0%\n",
      " | Epoch 2 | Loss: 0.011147395707666874 | Accuracy: 100.0%\n",
      " | Epoch 2 | Loss: 0.011341255158185959 | Accuracy: 100.0%\n",
      " | Epoch 2 | Loss: 0.02270909771323204 | Accuracy: 98.4375%\n",
      " | Epoch 2 | Loss: 0.007462969049811363 | Accuracy: 100.0%\n",
      " | Epoch 2 | Loss: 0.003793626558035612 | Accuracy: 100.0%\n",
      " | Epoch 2 | Loss: 0.0660625472664833 | Accuracy: 96.875%\n",
      " | Epoch 2 | Loss: 0.005180920474231243 | Accuracy: 100.0%\n",
      " | Epoch 2 | Loss: 0.15354971587657928 | Accuracy: 98.4375%\n",
      " | Epoch 2 | Loss: 0.010200503282248974 | Accuracy: 100.0%\n",
      " | Epoch 2 | Loss: 0.42525288462638855 | Accuracy: 98.4375%\n",
      " | Epoch 2 | Loss: 0.006686530075967312 | Accuracy: 100.0%\n",
      " | Epoch 2 | Loss: 0.00387311028316617 | Accuracy: 100.0%\n",
      " | Epoch 2 | Loss: 0.20176975429058075 | Accuracy: 98.4375%\n"
     ]
    },
    {
     "name": "stderr",
     "output_type": "stream",
     "text": [
      "Epoch 2:   8%|██▋                             | 63/751 [00:00<00:07, 95.05batch/s, accuracy=100.0%, loss=0.0133]"
     ]
    },
    {
     "name": "stdout",
     "output_type": "stream",
     "text": [
      " | Epoch 2 | Loss: 0.011904532089829445 | Accuracy: 100.0%\n",
      " | Epoch 2 | Loss: 0.01704755611717701 | Accuracy: 100.0%\n",
      " | Epoch 2 | Loss: 0.007383325137197971 | Accuracy: 100.0%\n",
      " | Epoch 2 | Loss: 0.013262872584164143 | Accuracy: 100.0%\n"
     ]
    },
    {
     "name": "stderr",
     "output_type": "stream",
     "text": [
      "Epoch 2:  10%|███                            | 73/751 [00:00<00:07, 96.33batch/s, accuracy=98.4375%, loss=0.209]"
     ]
    },
    {
     "name": "stdout",
     "output_type": "stream",
     "text": [
      " | Epoch 2 | Loss: 0.010939350351691246 | Accuracy: 100.0%\n",
      " | Epoch 2 | Loss: 0.03796716034412384 | Accuracy: 100.0%\n",
      " | Epoch 2 | Loss: 0.025353148579597473 | Accuracy: 100.0%\n",
      " | Epoch 2 | Loss: 0.03140794113278389 | Accuracy: 100.0%\n",
      " | Epoch 2 | Loss: 0.005419287830591202 | Accuracy: 100.0%\n",
      " | Epoch 2 | Loss: 0.01199859008193016 | Accuracy: 100.0%\n",
      " | Epoch 2 | Loss: 0.007267479319125414 | Accuracy: 100.0%\n",
      " | Epoch 2 | Loss: 0.012207760475575924 | Accuracy: 100.0%\n",
      " | Epoch 2 | Loss: 0.00845157727599144 | Accuracy: 100.0%\n",
      " | Epoch 2 | Loss: 0.008689835667610168 | Accuracy: 100.0%\n",
      " | Epoch 2 | Loss: 0.01667892560362816 | Accuracy: 100.0%\n",
      " | Epoch 2 | Loss: 0.008312155492603779 | Accuracy: 100.0%\n",
      " | Epoch 2 | Loss: 0.0377812422811985 | Accuracy: 100.0%\n",
      " | Epoch 2 | Loss: 0.015200333669781685 | Accuracy: 100.0%\n",
      " | Epoch 2 | Loss: 0.02574024721980095 | Accuracy: 100.0%\n",
      " | Epoch 2 | Loss: 0.20914341509342194 | Accuracy: 98.4375%\n"
     ]
    },
    {
     "name": "stderr",
     "output_type": "stream",
     "text": [
      "Epoch 2:  11%|███▌                            | 83/751 [00:00<00:06, 97.22batch/s, accuracy=100.0%, loss=0.0126]"
     ]
    },
    {
     "name": "stdout",
     "output_type": "stream",
     "text": [
      " | Epoch 2 | Loss: 0.006804844830185175 | Accuracy: 100.0%\n",
      " | Epoch 2 | Loss: 0.388822466135025 | Accuracy: 98.4375%\n",
      " | Epoch 2 | Loss: 0.004965007305145264 | Accuracy: 100.0%\n",
      " | Epoch 2 | Loss: 0.21334198117256165 | Accuracy: 96.875%\n",
      " | Epoch 2 | Loss: 0.012594077736139297 | Accuracy: 100.0%\n"
     ]
    },
    {
     "name": "stderr",
     "output_type": "stream",
     "text": [
      "Epoch 2:  13%|███▉                           | 94/751 [00:01<00:06, 97.87batch/s, accuracy=100.0%, loss=0.00853]"
     ]
    },
    {
     "name": "stdout",
     "output_type": "stream",
     "text": [
      " | Epoch 2 | Loss: 0.007152243051677942 | Accuracy: 100.0%\n",
      " | Epoch 2 | Loss: 0.021766653284430504 | Accuracy: 100.0%\n",
      " | Epoch 2 | Loss: 0.013475087471306324 | Accuracy: 100.0%\n",
      " | Epoch 2 | Loss: 0.02182965725660324 | Accuracy: 100.0%\n",
      " | Epoch 2 | Loss: 0.010426328517496586 | Accuracy: 100.0%\n",
      " | Epoch 2 | Loss: 0.01714533567428589 | Accuracy: 100.0%\n",
      " | Epoch 2 | Loss: 0.015917273238301277 | Accuracy: 100.0%\n",
      " | Epoch 2 | Loss: 0.018445435911417007 | Accuracy: 100.0%\n",
      " | Epoch 2 | Loss: 0.008703730069100857 | Accuracy: 100.0%\n",
      " | Epoch 2 | Loss: 0.010503572411835194 | Accuracy: 100.0%\n",
      " | Epoch 2 | Loss: 0.009511008858680725 | Accuracy: 100.0%\n",
      " | Epoch 2 | Loss: 0.07198771834373474 | Accuracy: 98.4375%\n",
      " | Epoch 2 | Loss: 0.008004890754818916 | Accuracy: 100.0%\n",
      " | Epoch 2 | Loss: 0.014756033197045326 | Accuracy: 100.0%\n",
      " | Epoch 2 | Loss: 0.01081160269677639 | Accuracy: 100.0%\n",
      " | Epoch 2 | Loss: 0.008527643978595734 | Accuracy: 100.0%\n"
     ]
    },
    {
     "name": "stderr",
     "output_type": "stream",
     "text": [
      "Epoch 2:  14%|████▏                         | 105/751 [00:01<00:06, 100.06batch/s, accuracy=100.0%, loss=0.0155]"
     ]
    },
    {
     "name": "stdout",
     "output_type": "stream",
     "text": [
      " | Epoch 2 | Loss: 0.042966969311237335 | Accuracy: 100.0%\n",
      " | Epoch 2 | Loss: 0.008009492419660091 | Accuracy: 100.0%\n",
      " | Epoch 2 | Loss: 0.005754433106631041 | Accuracy: 100.0%\n",
      " | Epoch 2 | Loss: 0.012399489060044289 | Accuracy: 100.0%\n",
      " | Epoch 2 | Loss: 0.015456589870154858 | Accuracy: 100.0%\n"
     ]
    },
    {
     "name": "stderr",
     "output_type": "stream",
     "text": [
      "Epoch 2:  15%|████▋                         | 116/751 [00:01<00:06, 99.73batch/s, accuracy=100.0%, loss=0.00355]"
     ]
    },
    {
     "name": "stdout",
     "output_type": "stream",
     "text": [
      " | Epoch 2 | Loss: 0.004359297454357147 | Accuracy: 100.0%\n",
      " | Epoch 2 | Loss: 0.009036635048687458 | Accuracy: 100.0%\n",
      " | Epoch 2 | Loss: 0.007428381126374006 | Accuracy: 100.0%\n",
      " | Epoch 2 | Loss: 0.0054077403619885445 | Accuracy: 100.0%\n",
      " | Epoch 2 | Loss: 0.07110781967639923 | Accuracy: 98.4375%\n",
      " | Epoch 2 | Loss: 0.005012315232306719 | Accuracy: 100.0%\n",
      " | Epoch 2 | Loss: 0.015421716496348381 | Accuracy: 98.4375%\n",
      " | Epoch 2 | Loss: 0.004990406334400177 | Accuracy: 100.0%\n",
      " | Epoch 2 | Loss: 0.006982437800616026 | Accuracy: 100.0%\n",
      " | Epoch 2 | Loss: 0.004993353504687548 | Accuracy: 100.0%\n",
      " | Epoch 2 | Loss: 0.011066177859902382 | Accuracy: 100.0%\n",
      " | Epoch 2 | Loss: 0.0082002067938447 | Accuracy: 100.0%\n",
      " | Epoch 2 | Loss: 0.01082177646458149 | Accuracy: 100.0%\n",
      " | Epoch 2 | Loss: 0.048100363463163376 | Accuracy: 98.4375%\n",
      " | Epoch 2 | Loss: 0.002570334356278181 | Accuracy: 100.0%\n",
      " | Epoch 2 | Loss: 0.0035542405676096678 | Accuracy: 100.0%\n"
     ]
    },
    {
     "name": "stderr",
     "output_type": "stream",
     "text": [
      "Epoch 2:  17%|█████                         | 127/751 [00:01<00:06, 100.77batch/s, accuracy=100.0%, loss=0.0104]"
     ]
    },
    {
     "name": "stdout",
     "output_type": "stream",
     "text": [
      " | Epoch 2 | Loss: 0.0035208906047046185 | Accuracy: 100.0%\n",
      " | Epoch 2 | Loss: 0.0030528362840414047 | Accuracy: 100.0%\n",
      " | Epoch 2 | Loss: 0.005776693113148212 | Accuracy: 100.0%\n",
      " | Epoch 2 | Loss: 0.004607180133461952 | Accuracy: 100.0%\n",
      " | Epoch 2 | Loss: 0.010360464453697205 | Accuracy: 100.0%\n"
     ]
    },
    {
     "name": "stderr",
     "output_type": "stream",
     "text": [
      "Epoch 2:  18%|█████▋                         | 138/751 [00:01<00:06, 99.72batch/s, accuracy=100.0%, loss=0.0176]"
     ]
    },
    {
     "name": "stdout",
     "output_type": "stream",
     "text": [
      " | Epoch 2 | Loss: 0.05684366077184677 | Accuracy: 98.4375%\n",
      " | Epoch 2 | Loss: 0.11354297399520874 | Accuracy: 98.4375%\n",
      " | Epoch 2 | Loss: 0.0030041115824133158 | Accuracy: 100.0%\n",
      " | Epoch 2 | Loss: 0.00667159166187048 | Accuracy: 100.0%\n",
      " | Epoch 2 | Loss: 0.003692101687192917 | Accuracy: 100.0%\n",
      " | Epoch 2 | Loss: 0.016890790313482285 | Accuracy: 100.0%\n",
      " | Epoch 2 | Loss: 0.031349536031484604 | Accuracy: 98.4375%\n",
      " | Epoch 2 | Loss: 0.024428829550743103 | Accuracy: 98.4375%\n",
      " | Epoch 2 | Loss: 0.005015107803046703 | Accuracy: 100.0%\n",
      " | Epoch 2 | Loss: 0.027538711205124855 | Accuracy: 100.0%\n",
      " | Epoch 2 | Loss: 0.0026439575012773275 | Accuracy: 100.0%\n",
      " | Epoch 2 | Loss: 0.031164174899458885 | Accuracy: 98.4375%\n",
      " | Epoch 2 | Loss: 0.003051311708986759 | Accuracy: 100.0%\n",
      " | Epoch 2 | Loss: 0.003760857740417123 | Accuracy: 100.0%\n",
      " | Epoch 2 | Loss: 0.004111033398658037 | Accuracy: 100.0%\n",
      " | Epoch 2 | Loss: 0.017583092674613 | Accuracy: 100.0%\n"
     ]
    },
    {
     "name": "stderr",
     "output_type": "stream",
     "text": [
      "Epoch 2:  18%|█████▌                        | 138/751 [00:01<00:06, 99.72batch/s, accuracy=100.0%, loss=0.00405]"
     ]
    },
    {
     "name": "stdout",
     "output_type": "stream",
     "text": [
      " | Epoch 2 | Loss: 0.006875018589198589 | Accuracy: 100.0%\n",
      " | Epoch 2 | Loss: 0.008920807391405106 | Accuracy: 100.0%\n",
      " | Epoch 2 | Loss: 0.06969580799341202 | Accuracy: 98.4375%\n",
      " | Epoch 2 | Loss: 0.00936868041753769 | Accuracy: 100.0%\n",
      " | Epoch 2 | Loss: 0.004052803851664066 | Accuracy: 100.0%\n"
     ]
    },
    {
     "name": "stderr",
     "output_type": "stream",
     "text": [
      "Epoch 2:  21%|██████▏                      | 160/751 [00:01<00:05, 100.21batch/s, accuracy=100.0%, loss=0.00439]"
     ]
    },
    {
     "name": "stdout",
     "output_type": "stream",
     "text": [
      " | Epoch 2 | Loss: 0.2845732271671295 | Accuracy: 98.4375%\n",
      " | Epoch 2 | Loss: 0.006366849411278963 | Accuracy: 100.0%\n",
      " | Epoch 2 | Loss: 0.019496524706482887 | Accuracy: 98.4375%\n",
      " | Epoch 2 | Loss: 0.008031108416616917 | Accuracy: 100.0%\n",
      " | Epoch 2 | Loss: 0.010240023955702782 | Accuracy: 100.0%\n",
      " | Epoch 2 | Loss: 0.01410379633307457 | Accuracy: 100.0%\n",
      " | Epoch 2 | Loss: 0.00451046135276556 | Accuracy: 100.0%\n",
      " | Epoch 2 | Loss: 0.006418894045054913 | Accuracy: 100.0%\n",
      " | Epoch 2 | Loss: 0.011717399582266808 | Accuracy: 100.0%\n",
      " | Epoch 2 | Loss: 0.005058089271187782 | Accuracy: 100.0%\n",
      " | Epoch 2 | Loss: 0.005706592462956905 | Accuracy: 100.0%\n",
      " | Epoch 2 | Loss: 0.013396844267845154 | Accuracy: 100.0%\n",
      " | Epoch 2 | Loss: 0.0030232637654989958 | Accuracy: 100.0%\n",
      " | Epoch 2 | Loss: 0.0023661302402615547 | Accuracy: 100.0%\n",
      " | Epoch 2 | Loss: 0.004386484157294035 | Accuracy: 100.0%\n"
     ]
    },
    {
     "name": "stderr",
     "output_type": "stream",
     "text": [
      "Epoch 2:  21%|██████▌                        | 160/751 [00:01<00:05, 100.21batch/s, accuracy=100.0%, loss=0.005]"
     ]
    },
    {
     "name": "stdout",
     "output_type": "stream",
     "text": [
      " | Epoch 2 | Loss: 0.004083547741174698 | Accuracy: 100.0%\n",
      " | Epoch 2 | Loss: 0.0037480578757822514 | Accuracy: 100.0%\n",
      " | Epoch 2 | Loss: 0.00332895340397954 | Accuracy: 100.0%\n",
      " | Epoch 2 | Loss: 0.0031615872867405415 | Accuracy: 100.0%\n",
      " | Epoch 2 | Loss: 0.005003596656024456 | Accuracy: 100.0%\n"
     ]
    },
    {
     "name": "stderr",
     "output_type": "stream",
     "text": [
      "Epoch 2:  24%|███████▎                      | 182/751 [00:01<00:05, 101.80batch/s, accuracy=100.0%, loss=0.0449]"
     ]
    },
    {
     "name": "stdout",
     "output_type": "stream",
     "text": [
      " | Epoch 2 | Loss: 0.011876795440912247 | Accuracy: 100.0%\n",
      " | Epoch 2 | Loss: 0.01775263249874115 | Accuracy: 100.0%\n",
      " | Epoch 2 | Loss: 0.007567233871668577 | Accuracy: 100.0%\n",
      " | Epoch 2 | Loss: 0.29246971011161804 | Accuracy: 98.4375%\n",
      " | Epoch 2 | Loss: 0.005311809945851564 | Accuracy: 100.0%\n",
      " | Epoch 2 | Loss: 0.0034498879685997963 | Accuracy: 100.0%\n",
      " | Epoch 2 | Loss: 0.008777779527008533 | Accuracy: 100.0%\n",
      " | Epoch 2 | Loss: 0.01882493868470192 | Accuracy: 100.0%\n",
      " | Epoch 2 | Loss: 0.30229392647743225 | Accuracy: 98.4375%\n",
      " | Epoch 2 | Loss: 0.0026403781957924366 | Accuracy: 100.0%\n",
      " | Epoch 2 | Loss: 0.0025937138125300407 | Accuracy: 100.0%\n",
      " | Epoch 2 | Loss: 0.3057122230529785 | Accuracy: 98.4375%\n",
      " | Epoch 2 | Loss: 0.11455187201499939 | Accuracy: 98.4375%\n",
      " | Epoch 2 | Loss: 0.02660372480750084 | Accuracy: 98.4375%\n",
      " | Epoch 2 | Loss: 0.022112751379609108 | Accuracy: 100.0%\n",
      " | Epoch 2 | Loss: 0.00716243963688612 | Accuracy: 100.0%\n",
      " | Epoch 2 | Loss: 0.044899336993694305 | Accuracy: 100.0%\n"
     ]
    },
    {
     "name": "stderr",
     "output_type": "stream",
     "text": [
      "Epoch 2:  24%|███████                      | 182/751 [00:02<00:05, 101.80batch/s, accuracy=100.0%, loss=0.00418]"
     ]
    },
    {
     "name": "stdout",
     "output_type": "stream",
     "text": [
      " | Epoch 2 | Loss: 0.015060752630233765 | Accuracy: 100.0%\n",
      " | Epoch 2 | Loss: 0.008982211351394653 | Accuracy: 100.0%\n",
      " | Epoch 2 | Loss: 0.08696086704730988 | Accuracy: 98.4375%\n",
      " | Epoch 2 | Loss: 0.004182844422757626 | Accuracy: 100.0%\n"
     ]
    },
    {
     "name": "stderr",
     "output_type": "stream",
     "text": [
      "Epoch 2:  27%|███████▉                     | 204/751 [00:02<00:05, 102.76batch/s, accuracy=100.0%, loss=0.00791]"
     ]
    },
    {
     "name": "stdout",
     "output_type": "stream",
     "text": [
      " | Epoch 2 | Loss: 0.010572231374680996 | Accuracy: 100.0%\n",
      " | Epoch 2 | Loss: 0.00895751267671585 | Accuracy: 100.0%\n",
      " | Epoch 2 | Loss: 0.005238639190793037 | Accuracy: 100.0%\n",
      " | Epoch 2 | Loss: 0.25281068682670593 | Accuracy: 98.4375%\n",
      " | Epoch 2 | Loss: 0.013443246483802795 | Accuracy: 100.0%\n",
      " | Epoch 2 | Loss: 0.0074323853477835655 | Accuracy: 100.0%\n",
      " | Epoch 2 | Loss: 0.008016189560294151 | Accuracy: 100.0%\n",
      " | Epoch 2 | Loss: 0.020194480195641518 | Accuracy: 98.4375%\n",
      " | Epoch 2 | Loss: 0.006392469629645348 | Accuracy: 100.0%\n",
      " | Epoch 2 | Loss: 0.010781602002680302 | Accuracy: 100.0%\n",
      " | Epoch 2 | Loss: 0.007122046314179897 | Accuracy: 100.0%\n",
      " | Epoch 2 | Loss: 0.05413917079567909 | Accuracy: 98.4375%\n",
      " | Epoch 2 | Loss: 0.012471450492739677 | Accuracy: 100.0%\n",
      " | Epoch 2 | Loss: 0.017701406031847 | Accuracy: 100.0%\n",
      " | Epoch 2 | Loss: 0.016827678307890892 | Accuracy: 100.0%\n",
      " | Epoch 2 | Loss: 0.017428303137421608 | Accuracy: 100.0%\n",
      " | Epoch 2 | Loss: 0.18332578241825104 | Accuracy: 98.4375%\n"
     ]
    },
    {
     "name": "stderr",
     "output_type": "stream",
     "text": [
      "Epoch 2:  27%|████████▏                     | 204/751 [00:02<00:05, 102.76batch/s, accuracy=100.0%, loss=0.0172]"
     ]
    },
    {
     "name": "stdout",
     "output_type": "stream",
     "text": [
      " | Epoch 2 | Loss: 0.007912755012512207 | Accuracy: 100.0%\n",
      " | Epoch 2 | Loss: 0.0058579221367836 | Accuracy: 100.0%\n",
      " | Epoch 2 | Loss: 0.03221745043992996 | Accuracy: 98.4375%\n",
      " | Epoch 2 | Loss: 0.017176054418087006 | Accuracy: 100.0%\n"
     ]
    },
    {
     "name": "stderr",
     "output_type": "stream",
     "text": [
      "Epoch 2:  30%|████████▋                    | 226/751 [00:02<00:05, 103.49batch/s, accuracy=100.0%, loss=0.00362]"
     ]
    },
    {
     "name": "stdout",
     "output_type": "stream",
     "text": [
      " | Epoch 2 | Loss: 0.01474352553486824 | Accuracy: 100.0%\n",
      " | Epoch 2 | Loss: 0.055938564240932465 | Accuracy: 98.4375%\n",
      " | Epoch 2 | Loss: 0.23583440482616425 | Accuracy: 98.4375%\n",
      " | Epoch 2 | Loss: 0.026097159832715988 | Accuracy: 100.0%\n",
      " | Epoch 2 | Loss: 0.007591637782752514 | Accuracy: 100.0%\n",
      " | Epoch 2 | Loss: 0.025005795061588287 | Accuracy: 100.0%\n",
      " | Epoch 2 | Loss: 0.007955243811011314 | Accuracy: 100.0%\n",
      " | Epoch 2 | Loss: 0.006251470185816288 | Accuracy: 100.0%\n",
      " | Epoch 2 | Loss: 0.013745812699198723 | Accuracy: 100.0%\n",
      " | Epoch 2 | Loss: 0.011475734412670135 | Accuracy: 100.0%\n",
      " | Epoch 2 | Loss: 0.005819769576191902 | Accuracy: 100.0%\n",
      " | Epoch 2 | Loss: 0.006625928916037083 | Accuracy: 100.0%\n",
      " | Epoch 2 | Loss: 0.278548002243042 | Accuracy: 98.4375%\n",
      " | Epoch 2 | Loss: 0.005682612769305706 | Accuracy: 100.0%\n",
      " | Epoch 2 | Loss: 0.006981270853430033 | Accuracy: 100.0%\n",
      " | Epoch 2 | Loss: 0.0070356689393520355 | Accuracy: 100.0%\n",
      " | Epoch 2 | Loss: 0.0036152778193354607 | Accuracy: 100.0%\n"
     ]
    },
    {
     "name": "stderr",
     "output_type": "stream",
     "text": [
      "Epoch 2:  30%|█████████                     | 226/751 [00:02<00:05, 103.49batch/s, accuracy=100.0%, loss=0.0202]"
     ]
    },
    {
     "name": "stdout",
     "output_type": "stream",
     "text": [
      " | Epoch 2 | Loss: 0.005184430629014969 | Accuracy: 100.0%\n",
      " | Epoch 2 | Loss: 0.1592816710472107 | Accuracy: 98.4375%\n",
      " | Epoch 2 | Loss: 0.005988328717648983 | Accuracy: 100.0%\n",
      " | Epoch 2 | Loss: 0.018275903537869453 | Accuracy: 98.4375%\n"
     ]
    },
    {
     "name": "stderr",
     "output_type": "stream",
     "text": [
      "Epoch 2:  33%|██████████▏                    | 248/751 [00:02<00:04, 103.37batch/s, accuracy=100.0%, loss=0.012]"
     ]
    },
    {
     "name": "stdout",
     "output_type": "stream",
     "text": [
      " | Epoch 2 | Loss: 0.02017807960510254 | Accuracy: 100.0%\n",
      " | Epoch 2 | Loss: 0.013249702751636505 | Accuracy: 100.0%\n",
      " | Epoch 2 | Loss: 0.006043034605681896 | Accuracy: 100.0%\n",
      " | Epoch 2 | Loss: 0.007271390873938799 | Accuracy: 100.0%\n",
      " | Epoch 2 | Loss: 0.017305200919508934 | Accuracy: 98.4375%\n",
      " | Epoch 2 | Loss: 0.33849388360977173 | Accuracy: 98.4375%\n",
      " | Epoch 2 | Loss: 0.005506199784576893 | Accuracy: 100.0%\n",
      " | Epoch 2 | Loss: 0.007986006326973438 | Accuracy: 100.0%\n",
      " | Epoch 2 | Loss: 0.009072844870388508 | Accuracy: 100.0%\n",
      " | Epoch 2 | Loss: 0.004552409052848816 | Accuracy: 100.0%\n",
      " | Epoch 2 | Loss: 0.052640631794929504 | Accuracy: 98.4375%\n",
      " | Epoch 2 | Loss: 0.008908968418836594 | Accuracy: 100.0%\n",
      " | Epoch 2 | Loss: 0.011198782362043858 | Accuracy: 100.0%\n",
      " | Epoch 2 | Loss: 0.0045180548913776875 | Accuracy: 100.0%\n",
      " | Epoch 2 | Loss: 0.007419155910611153 | Accuracy: 100.0%\n",
      " | Epoch 2 | Loss: 0.003901995485648513 | Accuracy: 100.0%\n",
      " | Epoch 2 | Loss: 0.01199883408844471 | Accuracy: 100.0%\n"
     ]
    },
    {
     "name": "stderr",
     "output_type": "stream",
     "text": [
      "Epoch 2:  33%|█████████▉                    | 248/751 [00:02<00:04, 103.37batch/s, accuracy=100.0%, loss=0.0095]"
     ]
    },
    {
     "name": "stdout",
     "output_type": "stream",
     "text": [
      " | Epoch 2 | Loss: 0.011372096836566925 | Accuracy: 100.0%\n",
      " | Epoch 2 | Loss: 0.006185412872582674 | Accuracy: 100.0%\n",
      " | Epoch 2 | Loss: 0.011689127422869205 | Accuracy: 100.0%\n",
      " | Epoch 2 | Loss: 0.00950232520699501 | Accuracy: 100.0%\n"
     ]
    },
    {
     "name": "stderr",
     "output_type": "stream",
     "text": [
      "Epoch 2:  34%|██████████▎                   | 259/751 [00:02<00:04, 101.27batch/s, accuracy=100.0%, loss=0.0272]"
     ]
    },
    {
     "name": "stdout",
     "output_type": "stream",
     "text": [
      " | Epoch 2 | Loss: 0.014130489900708199 | Accuracy: 100.0%\n",
      " | Epoch 2 | Loss: 0.00929788313806057 | Accuracy: 100.0%\n",
      " | Epoch 2 | Loss: 0.008273996412754059 | Accuracy: 100.0%\n",
      " | Epoch 2 | Loss: 0.003737720660865307 | Accuracy: 100.0%\n",
      " | Epoch 2 | Loss: 0.018205387517809868 | Accuracy: 98.4375%\n",
      " | Epoch 2 | Loss: 0.005868086125701666 | Accuracy: 100.0%\n",
      " | Epoch 2 | Loss: 0.1327502578496933 | Accuracy: 98.4375%\n",
      " | Epoch 2 | Loss: 0.008130432106554508 | Accuracy: 100.0%\n",
      " | Epoch 2 | Loss: 0.007449152879416943 | Accuracy: 100.0%\n",
      " | Epoch 2 | Loss: 0.0024981764145195484 | Accuracy: 100.0%\n",
      " | Epoch 2 | Loss: 0.025286633521318436 | Accuracy: 100.0%\n",
      " | Epoch 2 | Loss: 0.02094198763370514 | Accuracy: 100.0%\n",
      " | Epoch 2 | Loss: 0.012156813405454159 | Accuracy: 100.0%\n",
      " | Epoch 2 | Loss: 0.011773928068578243 | Accuracy: 100.0%\n",
      " | Epoch 2 | Loss: 0.22141137719154358 | Accuracy: 98.4375%\n",
      " | Epoch 2 | Loss: 0.179800882935524 | Accuracy: 98.4375%\n"
     ]
    },
    {
     "name": "stderr",
     "output_type": "stream",
     "text": [
      "Epoch 2:  36%|██████████▍                  | 270/751 [00:02<00:04, 101.82batch/s, accuracy=100.0%, loss=0.00496]"
     ]
    },
    {
     "name": "stdout",
     "output_type": "stream",
     "text": [
      " | Epoch 2 | Loss: 0.027164001017808914 | Accuracy: 100.0%\n",
      " | Epoch 2 | Loss: 0.009607035666704178 | Accuracy: 100.0%\n",
      " | Epoch 2 | Loss: 0.0053189522586762905 | Accuracy: 100.0%\n",
      " | Epoch 2 | Loss: 0.006566714961081743 | Accuracy: 100.0%\n",
      " | Epoch 2 | Loss: 0.004958143457770348 | Accuracy: 100.0%\n"
     ]
    },
    {
     "name": "stderr",
     "output_type": "stream",
     "text": [
      "Epoch 2:  37%|███████████▏                  | 281/751 [00:02<00:04, 99.67batch/s, accuracy=100.0%, loss=0.00758]"
     ]
    },
    {
     "name": "stdout",
     "output_type": "stream",
     "text": [
      " | Epoch 2 | Loss: 0.005145555827766657 | Accuracy: 100.0%\n",
      " | Epoch 2 | Loss: 0.006734361872076988 | Accuracy: 100.0%\n",
      " | Epoch 2 | Loss: 0.005640431307256222 | Accuracy: 100.0%\n",
      " | Epoch 2 | Loss: 0.00862935371696949 | Accuracy: 100.0%\n",
      " | Epoch 2 | Loss: 0.005669381469488144 | Accuracy: 100.0%\n",
      " | Epoch 2 | Loss: 0.004839272238314152 | Accuracy: 100.0%\n",
      " | Epoch 2 | Loss: 0.007527727633714676 | Accuracy: 100.0%\n",
      " | Epoch 2 | Loss: 0.0047201113775372505 | Accuracy: 100.0%\n",
      " | Epoch 2 | Loss: 0.009275304153561592 | Accuracy: 100.0%\n",
      " | Epoch 2 | Loss: 0.0026469179429113865 | Accuracy: 100.0%\n",
      " | Epoch 2 | Loss: 0.004602698143571615 | Accuracy: 100.0%\n",
      " | Epoch 2 | Loss: 0.008065946400165558 | Accuracy: 100.0%\n",
      " | Epoch 2 | Loss: 0.008752137422561646 | Accuracy: 100.0%\n",
      " | Epoch 2 | Loss: 0.007578668650239706 | Accuracy: 100.0%\n"
     ]
    },
    {
     "name": "stderr",
     "output_type": "stream",
     "text": [
      "Epoch 2:  39%|████████████                   | 291/751 [00:03<00:04, 97.23batch/s, accuracy=100.0%, loss=0.0128]"
     ]
    },
    {
     "name": "stdout",
     "output_type": "stream",
     "text": [
      " | Epoch 2 | Loss: 0.20097026228904724 | Accuracy: 98.4375%\n",
      " | Epoch 2 | Loss: 0.025022856891155243 | Accuracy: 98.4375%\n",
      " | Epoch 2 | Loss: 0.0035482055973261595 | Accuracy: 100.0%\n",
      " | Epoch 2 | Loss: 0.010433191433548927 | Accuracy: 100.0%\n",
      " | Epoch 2 | Loss: 0.012768212705850601 | Accuracy: 100.0%\n"
     ]
    },
    {
     "name": "stderr",
     "output_type": "stream",
     "text": [
      "Epoch 2:  40%|████████████                  | 302/751 [00:03<00:04, 98.55batch/s, accuracy=98.4375%, loss=0.209]"
     ]
    },
    {
     "name": "stdout",
     "output_type": "stream",
     "text": [
      " | Epoch 2 | Loss: 0.017519626766443253 | Accuracy: 98.4375%\n",
      " | Epoch 2 | Loss: 0.006379225291311741 | Accuracy: 100.0%\n",
      " | Epoch 2 | Loss: 0.04528896510601044 | Accuracy: 98.4375%\n",
      " | Epoch 2 | Loss: 0.009713570587337017 | Accuracy: 100.0%\n",
      " | Epoch 2 | Loss: 0.09680601954460144 | Accuracy: 98.4375%\n",
      " | Epoch 2 | Loss: 0.003203892381861806 | Accuracy: 100.0%\n",
      " | Epoch 2 | Loss: 0.006538283079862595 | Accuracy: 100.0%\n",
      " | Epoch 2 | Loss: 0.028043964877724648 | Accuracy: 98.4375%\n",
      " | Epoch 2 | Loss: 0.005514870397746563 | Accuracy: 100.0%\n",
      " | Epoch 2 | Loss: 0.022372093051671982 | Accuracy: 100.0%\n",
      " | Epoch 2 | Loss: 0.010519996285438538 | Accuracy: 100.0%\n",
      " | Epoch 2 | Loss: 0.026341035962104797 | Accuracy: 98.4375%\n",
      " | Epoch 2 | Loss: 0.010339675471186638 | Accuracy: 100.0%\n",
      " | Epoch 2 | Loss: 0.007994421757757664 | Accuracy: 100.0%\n",
      " | Epoch 2 | Loss: 0.011109290644526482 | Accuracy: 100.0%\n",
      " | Epoch 2 | Loss: 0.20858055353164673 | Accuracy: 98.4375%\n"
     ]
    },
    {
     "name": "stderr",
     "output_type": "stream",
     "text": [
      "Epoch 2:  42%|████████████▌                 | 313/751 [00:03<00:04, 99.20batch/s, accuracy=100.0%, loss=0.00272]"
     ]
    },
    {
     "name": "stdout",
     "output_type": "stream",
     "text": [
      " | Epoch 2 | Loss: 0.007395987398922443 | Accuracy: 100.0%\n",
      " | Epoch 2 | Loss: 0.008657088503241539 | Accuracy: 100.0%\n",
      " | Epoch 2 | Loss: 0.004532078746706247 | Accuracy: 100.0%\n",
      " | Epoch 2 | Loss: 0.014756754040718079 | Accuracy: 100.0%\n",
      " | Epoch 2 | Loss: 0.002722552279010415 | Accuracy: 100.0%\n"
     ]
    },
    {
     "name": "stderr",
     "output_type": "stream",
     "text": [
      "Epoch 2:  43%|████████████▍                | 323/751 [00:03<00:04, 99.32batch/s, accuracy=98.4375%, loss=0.0381]"
     ]
    },
    {
     "name": "stdout",
     "output_type": "stream",
     "text": [
      " | Epoch 2 | Loss: 0.0026353930588811636 | Accuracy: 100.0%\n",
      " | Epoch 2 | Loss: 0.0034145168028771877 | Accuracy: 100.0%\n",
      " | Epoch 2 | Loss: 0.01026249025017023 | Accuracy: 100.0%\n",
      " | Epoch 2 | Loss: 0.006946580484509468 | Accuracy: 100.0%\n",
      " | Epoch 2 | Loss: 0.051991239190101624 | Accuracy: 100.0%\n",
      " | Epoch 2 | Loss: 0.3336930274963379 | Accuracy: 98.4375%\n",
      " | Epoch 2 | Loss: 0.008867749013006687 | Accuracy: 100.0%\n",
      " | Epoch 2 | Loss: 0.008102458901703358 | Accuracy: 100.0%\n",
      " | Epoch 2 | Loss: 0.011125430464744568 | Accuracy: 100.0%\n",
      " | Epoch 2 | Loss: 0.006173115223646164 | Accuracy: 100.0%\n",
      " | Epoch 2 | Loss: 0.004389455076307058 | Accuracy: 100.0%\n",
      " | Epoch 2 | Loss: 0.07737097889184952 | Accuracy: 96.875%\n",
      " | Epoch 2 | Loss: 0.03398890793323517 | Accuracy: 100.0%\n",
      " | Epoch 2 | Loss: 0.011530967429280281 | Accuracy: 100.0%\n",
      " | Epoch 2 | Loss: 0.33304309844970703 | Accuracy: 96.875%\n",
      " | Epoch 2 | Loss: 0.038089852780103683 | Accuracy: 98.4375%\n"
     ]
    },
    {
     "name": "stderr",
     "output_type": "stream",
     "text": [
      "Epoch 2:  44%|█████████████▎                | 333/751 [00:03<00:04, 97.96batch/s, accuracy=100.0%, loss=0.00855]"
     ]
    },
    {
     "name": "stdout",
     "output_type": "stream",
     "text": [
      " | Epoch 2 | Loss: 0.00454439502209425 | Accuracy: 100.0%\n",
      " | Epoch 2 | Loss: 0.011220109649002552 | Accuracy: 100.0%\n",
      " | Epoch 2 | Loss: 0.10016122460365295 | Accuracy: 98.4375%\n",
      " | Epoch 2 | Loss: 0.008547794073820114 | Accuracy: 100.0%\n"
     ]
    },
    {
     "name": "stderr",
     "output_type": "stream",
     "text": [
      "Epoch 2:  46%|█████████████▋                | 343/751 [00:03<00:04, 94.58batch/s, accuracy=100.0%, loss=0.00822]"
     ]
    },
    {
     "name": "stdout",
     "output_type": "stream",
     "text": [
      " | Epoch 2 | Loss: 0.1992356926202774 | Accuracy: 98.4375%\n",
      " | Epoch 2 | Loss: 0.011745935305953026 | Accuracy: 100.0%\n",
      " | Epoch 2 | Loss: 0.008011706173419952 | Accuracy: 100.0%\n",
      " | Epoch 2 | Loss: 0.018004318699240685 | Accuracy: 100.0%\n",
      " | Epoch 2 | Loss: 0.005239882506430149 | Accuracy: 100.0%\n",
      " | Epoch 2 | Loss: 0.007963983342051506 | Accuracy: 100.0%\n",
      " | Epoch 2 | Loss: 0.012166988104581833 | Accuracy: 100.0%\n",
      " | Epoch 2 | Loss: 0.010126317851245403 | Accuracy: 100.0%\n",
      " | Epoch 2 | Loss: 0.010527431964874268 | Accuracy: 100.0%\n",
      " | Epoch 2 | Loss: 0.09060799330472946 | Accuracy: 98.4375%\n",
      " | Epoch 2 | Loss: 0.0115359490737319 | Accuracy: 100.0%\n",
      " | Epoch 2 | Loss: 0.007200960069894791 | Accuracy: 100.0%\n",
      " | Epoch 2 | Loss: 0.06475517153739929 | Accuracy: 100.0%\n",
      " | Epoch 2 | Loss: 0.008216556161642075 | Accuracy: 100.0%\n"
     ]
    },
    {
     "name": "stderr",
     "output_type": "stream",
     "text": [
      "Epoch 2:  46%|██████████████▏                | 343/751 [00:03<00:04, 94.58batch/s, accuracy=100.0%, loss=0.0151]"
     ]
    },
    {
     "name": "stdout",
     "output_type": "stream",
     "text": [
      " | Epoch 2 | Loss: 0.009024598635733128 | Accuracy: 100.0%\n",
      " | Epoch 2 | Loss: 0.0077229877933859825 | Accuracy: 100.0%\n",
      " | Epoch 2 | Loss: 0.010527331382036209 | Accuracy: 100.0%\n",
      " | Epoch 2 | Loss: 0.010124888271093369 | Accuracy: 100.0%\n",
      " | Epoch 2 | Loss: 0.01511170994490385 | Accuracy: 100.0%\n"
     ]
    },
    {
     "name": "stderr",
     "output_type": "stream",
     "text": [
      "Epoch 2:  48%|██████████████▉                | 363/751 [00:03<00:04, 94.23batch/s, accuracy=100.0%, loss=0.0259]"
     ]
    },
    {
     "name": "stdout",
     "output_type": "stream",
     "text": [
      " | Epoch 2 | Loss: 0.21777257323265076 | Accuracy: 98.4375%\n",
      " | Epoch 2 | Loss: 0.1074754074215889 | Accuracy: 98.4375%\n",
      " | Epoch 2 | Loss: 0.008149431087076664 | Accuracy: 100.0%\n",
      " | Epoch 2 | Loss: 0.008251776918768883 | Accuracy: 100.0%\n",
      " | Epoch 2 | Loss: 0.012504230253398418 | Accuracy: 100.0%\n",
      " | Epoch 2 | Loss: 0.15502160787582397 | Accuracy: 96.875%\n",
      " | Epoch 2 | Loss: 0.007370570674538612 | Accuracy: 100.0%\n",
      " | Epoch 2 | Loss: 0.006922457832843065 | Accuracy: 100.0%\n",
      " | Epoch 2 | Loss: 0.012424299493432045 | Accuracy: 100.0%\n",
      " | Epoch 2 | Loss: 0.6532818675041199 | Accuracy: 98.4375%\n",
      " | Epoch 2 | Loss: 0.011633730493485928 | Accuracy: 100.0%\n",
      " | Epoch 2 | Loss: 0.016912376508116722 | Accuracy: 100.0%\n",
      " | Epoch 2 | Loss: 0.013332693837583065 | Accuracy: 100.0%\n",
      " | Epoch 2 | Loss: 0.023461472243070602 | Accuracy: 98.4375%\n"
     ]
    },
    {
     "name": "stderr",
     "output_type": "stream",
     "text": [
      "Epoch 2:  48%|██████████████               | 363/751 [00:03<00:04, 94.23batch/s, accuracy=98.4375%, loss=0.0269]"
     ]
    },
    {
     "name": "stdout",
     "output_type": "stream",
     "text": [
      " | Epoch 2 | Loss: 0.02585761435329914 | Accuracy: 100.0%\n",
      " | Epoch 2 | Loss: 0.2006867676973343 | Accuracy: 98.4375%\n",
      " | Epoch 2 | Loss: 0.013234959915280342 | Accuracy: 100.0%\n",
      " | Epoch 2 | Loss: 0.02903137356042862 | Accuracy: 100.0%\n",
      " | Epoch 2 | Loss: 0.014634203165769577 | Accuracy: 100.0%\n",
      " | Epoch 2 | Loss: 0.026879126206040382 | Accuracy: 98.4375%\n"
     ]
    },
    {
     "name": "stderr",
     "output_type": "stream",
     "text": [
      "Epoch 2:  51%|███████████████▊               | 384/751 [00:04<00:03, 93.22batch/s, accuracy=100.0%, loss=0.0164]"
     ]
    },
    {
     "name": "stdout",
     "output_type": "stream",
     "text": [
      " | Epoch 2 | Loss: 0.012345274910330772 | Accuracy: 100.0%\n",
      " | Epoch 2 | Loss: 0.00932668149471283 | Accuracy: 100.0%\n",
      " | Epoch 2 | Loss: 0.010820883326232433 | Accuracy: 100.0%\n",
      " | Epoch 2 | Loss: 0.08753541857004166 | Accuracy: 98.4375%\n",
      " | Epoch 2 | Loss: 0.008636766113340855 | Accuracy: 100.0%\n",
      " | Epoch 2 | Loss: 0.0071756294928491116 | Accuracy: 100.0%\n",
      " | Epoch 2 | Loss: 0.016102969646453857 | Accuracy: 100.0%\n",
      " | Epoch 2 | Loss: 0.1089644655585289 | Accuracy: 98.4375%\n",
      " | Epoch 2 | Loss: 0.6601439714431763 | Accuracy: 98.4375%\n",
      " | Epoch 2 | Loss: 0.010835332795977592 | Accuracy: 100.0%\n",
      " | Epoch 2 | Loss: 0.01274833083152771 | Accuracy: 100.0%\n",
      " | Epoch 2 | Loss: 0.010649202391505241 | Accuracy: 100.0%\n",
      " | Epoch 2 | Loss: 0.016435883939266205 | Accuracy: 100.0%\n"
     ]
    },
    {
     "name": "stderr",
     "output_type": "stream",
     "text": [
      "Epoch 2:  51%|██████████████▊              | 384/751 [00:04<00:03, 93.22batch/s, accuracy=98.4375%, loss=0.0205]"
     ]
    },
    {
     "name": "stdout",
     "output_type": "stream",
     "text": [
      " | Epoch 2 | Loss: 0.18333885073661804 | Accuracy: 96.875%\n",
      " | Epoch 2 | Loss: 0.1469404399394989 | Accuracy: 98.4375%\n",
      " | Epoch 2 | Loss: 0.01540093682706356 | Accuracy: 100.0%\n",
      " | Epoch 2 | Loss: 0.018652014434337616 | Accuracy: 100.0%\n",
      " | Epoch 2 | Loss: 0.020544731989502907 | Accuracy: 98.4375%\n"
     ]
    },
    {
     "name": "stderr",
     "output_type": "stream",
     "text": [
      "Epoch 2:  52%|███████████████▋              | 394/751 [00:04<00:04, 87.68batch/s, accuracy=100.0%, loss=0.00914]"
     ]
    },
    {
     "name": "stdout",
     "output_type": "stream",
     "text": [
      " | Epoch 2 | Loss: 0.01997673511505127 | Accuracy: 100.0%\n",
      " | Epoch 2 | Loss: 0.012766868807375431 | Accuracy: 100.0%\n",
      " | Epoch 2 | Loss: 0.07347098737955093 | Accuracy: 98.4375%\n",
      " | Epoch 2 | Loss: 0.013558430597186089 | Accuracy: 100.0%\n",
      " | Epoch 2 | Loss: 0.009486754424870014 | Accuracy: 100.0%\n",
      " | Epoch 2 | Loss: 0.0266488678753376 | Accuracy: 98.4375%\n",
      " | Epoch 2 | Loss: 0.01982223242521286 | Accuracy: 98.4375%\n",
      " | Epoch 2 | Loss: 0.01632693037390709 | Accuracy: 100.0%\n",
      " | Epoch 2 | Loss: 0.00913817249238491 | Accuracy: 100.0%\n",
      " | Epoch 2 | Loss: 0.009144332259893417 | Accuracy: 100.0%\n"
     ]
    },
    {
     "name": "stderr",
     "output_type": "stream",
     "text": [
      "Epoch 2:  54%|████████████████              | 403/751 [00:04<00:04, 83.53batch/s, accuracy=100.0%, loss=0.00533]"
     ]
    },
    {
     "name": "stdout",
     "output_type": "stream",
     "text": [
      " | Epoch 2 | Loss: 0.013153785839676857 | Accuracy: 100.0%\n",
      " | Epoch 2 | Loss: 0.01924947462975979 | Accuracy: 100.0%\n",
      " | Epoch 2 | Loss: 0.01224709115922451 | Accuracy: 100.0%\n",
      " | Epoch 2 | Loss: 0.009006014093756676 | Accuracy: 100.0%\n",
      " | Epoch 2 | Loss: 0.005328476894646883 | Accuracy: 100.0%\n"
     ]
    },
    {
     "name": "stderr",
     "output_type": "stream",
     "text": [
      "Epoch 2:  55%|█████████████████              | 413/751 [00:04<00:03, 85.61batch/s, accuracy=100.0%, loss=0.0163]"
     ]
    },
    {
     "name": "stdout",
     "output_type": "stream",
     "text": [
      " | Epoch 2 | Loss: 0.00812000036239624 | Accuracy: 100.0%\n",
      " | Epoch 2 | Loss: 0.005542163737118244 | Accuracy: 100.0%\n",
      " | Epoch 2 | Loss: 0.12364548444747925 | Accuracy: 98.4375%\n",
      " | Epoch 2 | Loss: 0.01865435019135475 | Accuracy: 100.0%\n",
      " | Epoch 2 | Loss: 0.005345224402844906 | Accuracy: 100.0%\n",
      " | Epoch 2 | Loss: 0.0071175238117575645 | Accuracy: 100.0%\n",
      " | Epoch 2 | Loss: 0.005193380638957024 | Accuracy: 100.0%\n",
      " | Epoch 2 | Loss: 0.07896416634321213 | Accuracy: 96.875%\n",
      " | Epoch 2 | Loss: 0.0039051128551363945 | Accuracy: 100.0%\n",
      " | Epoch 2 | Loss: 0.007155772298574448 | Accuracy: 100.0%\n",
      " | Epoch 2 | Loss: 0.007734447717666626 | Accuracy: 100.0%\n",
      " | Epoch 2 | Loss: 0.0037224881816655397 | Accuracy: 100.0%\n",
      " | Epoch 2 | Loss: 0.008033414371311665 | Accuracy: 100.0%\n",
      " | Epoch 2 | Loss: 0.016309641301631927 | Accuracy: 100.0%\n"
     ]
    },
    {
     "name": "stderr",
     "output_type": "stream",
     "text": [
      "Epoch 2:  56%|████████████████▉             | 424/751 [00:04<00:03, 91.51batch/s, accuracy=100.0%, loss=0.00371]"
     ]
    },
    {
     "name": "stdout",
     "output_type": "stream",
     "text": [
      " | Epoch 2 | Loss: 0.006599321961402893 | Accuracy: 100.0%\n",
      " | Epoch 2 | Loss: 0.007073612418025732 | Accuracy: 100.0%\n",
      " | Epoch 2 | Loss: 0.024590272456407547 | Accuracy: 98.4375%\n",
      " | Epoch 2 | Loss: 0.004610711243003607 | Accuracy: 100.0%\n",
      " | Epoch 2 | Loss: 0.0037795102689415216 | Accuracy: 100.0%\n",
      " | Epoch 2 | Loss: 0.004380391910672188 | Accuracy: 100.0%\n",
      " | Epoch 2 | Loss: 0.003714119317010045 | Accuracy: 100.0%\n"
     ]
    },
    {
     "name": "stderr",
     "output_type": "stream",
     "text": [
      "Epoch 2:  58%|█████████████████▎            | 434/751 [00:04<00:03, 92.11batch/s, accuracy=100.0%, loss=0.00426]"
     ]
    },
    {
     "name": "stdout",
     "output_type": "stream",
     "text": [
      " | Epoch 2 | Loss: 0.005357947666198015 | Accuracy: 100.0%\n",
      " | Epoch 2 | Loss: 0.006399450823664665 | Accuracy: 100.0%\n",
      " | Epoch 2 | Loss: 0.0062031676061451435 | Accuracy: 100.0%\n",
      " | Epoch 2 | Loss: 0.1745840162038803 | Accuracy: 98.4375%\n",
      " | Epoch 2 | Loss: 0.0030630622059106827 | Accuracy: 100.0%\n",
      " | Epoch 2 | Loss: 0.019663125276565552 | Accuracy: 100.0%\n",
      " | Epoch 2 | Loss: 0.003108005505055189 | Accuracy: 100.0%\n",
      " | Epoch 2 | Loss: 0.062467411160469055 | Accuracy: 98.4375%\n",
      " | Epoch 2 | Loss: 0.006761901080608368 | Accuracy: 100.0%\n",
      " | Epoch 2 | Loss: 0.2861364781856537 | Accuracy: 98.4375%\n",
      " | Epoch 2 | Loss: 0.005974948406219482 | Accuracy: 100.0%\n",
      " | Epoch 2 | Loss: 0.4003666043281555 | Accuracy: 98.4375%\n",
      " | Epoch 2 | Loss: 0.07298131287097931 | Accuracy: 98.4375%\n",
      " | Epoch 2 | Loss: 0.004258642438799143 | Accuracy: 100.0%\n"
     ]
    },
    {
     "name": "stderr",
     "output_type": "stream",
     "text": [
      "Epoch 2:  59%|██████████████████▎            | 444/751 [00:04<00:03, 93.30batch/s, accuracy=100.0%, loss=0.0129]"
     ]
    },
    {
     "name": "stdout",
     "output_type": "stream",
     "text": [
      " | Epoch 2 | Loss: 0.013570746406912804 | Accuracy: 98.4375%\n",
      " | Epoch 2 | Loss: 0.006810804363340139 | Accuracy: 100.0%\n",
      " | Epoch 2 | Loss: 0.05496405065059662 | Accuracy: 98.4375%\n",
      " | Epoch 2 | Loss: 0.04289865121245384 | Accuracy: 98.4375%\n",
      " | Epoch 2 | Loss: 0.024373427033424377 | Accuracy: 98.4375%\n",
      " | Epoch 2 | Loss: 0.012882223352789879 | Accuracy: 100.0%\n"
     ]
    },
    {
     "name": "stderr",
     "output_type": "stream",
     "text": [
      "Epoch 2:  61%|██████████████████▏           | 455/751 [00:04<00:03, 96.96batch/s, accuracy=100.0%, loss=0.00741]"
     ]
    },
    {
     "name": "stdout",
     "output_type": "stream",
     "text": [
      " | Epoch 2 | Loss: 0.006555682513862848 | Accuracy: 100.0%\n",
      " | Epoch 2 | Loss: 0.058150116354227066 | Accuracy: 98.4375%\n",
      " | Epoch 2 | Loss: 0.010804030112922192 | Accuracy: 100.0%\n",
      " | Epoch 2 | Loss: 0.011586901731789112 | Accuracy: 100.0%\n",
      " | Epoch 2 | Loss: 0.027393724769353867 | Accuracy: 98.4375%\n",
      " | Epoch 2 | Loss: 0.2939535081386566 | Accuracy: 98.4375%\n",
      " | Epoch 2 | Loss: 0.01096794568002224 | Accuracy: 100.0%\n",
      " | Epoch 2 | Loss: 0.004154426511377096 | Accuracy: 100.0%\n",
      " | Epoch 2 | Loss: 0.004611251875758171 | Accuracy: 100.0%\n",
      " | Epoch 2 | Loss: 0.025901632383465767 | Accuracy: 98.4375%\n",
      " | Epoch 2 | Loss: 0.013416369445621967 | Accuracy: 100.0%\n",
      " | Epoch 2 | Loss: 0.02442469820380211 | Accuracy: 100.0%\n",
      " | Epoch 2 | Loss: 0.009365363046526909 | Accuracy: 100.0%\n",
      " | Epoch 2 | Loss: 0.007413829676806927 | Accuracy: 100.0%\n"
     ]
    },
    {
     "name": "stderr",
     "output_type": "stream",
     "text": [
      "Epoch 2:  62%|███████████████████▏           | 465/751 [00:04<00:02, 96.71batch/s, accuracy=100.0%, loss=0.0181]"
     ]
    },
    {
     "name": "stdout",
     "output_type": "stream",
     "text": [
      " | Epoch 2 | Loss: 0.021064799278974533 | Accuracy: 100.0%\n",
      " | Epoch 2 | Loss: 0.0074915653094649315 | Accuracy: 100.0%\n",
      " | Epoch 2 | Loss: 0.007438628934323788 | Accuracy: 100.0%\n",
      " | Epoch 2 | Loss: 0.004777261521667242 | Accuracy: 100.0%\n",
      " | Epoch 2 | Loss: 0.021145816892385483 | Accuracy: 100.0%\n",
      " | Epoch 2 | Loss: 0.018124934285879135 | Accuracy: 100.0%\n"
     ]
    },
    {
     "name": "stderr",
     "output_type": "stream",
     "text": [
      "Epoch 2:  63%|███████████████████▌           | 475/751 [00:05<00:02, 96.32batch/s, accuracy=100.0%, loss=0.0208]"
     ]
    },
    {
     "name": "stdout",
     "output_type": "stream",
     "text": [
      " | Epoch 2 | Loss: 0.0035607025492936373 | Accuracy: 100.0%\n",
      " | Epoch 2 | Loss: 0.00687991501763463 | Accuracy: 100.0%\n",
      " | Epoch 2 | Loss: 0.3515685498714447 | Accuracy: 98.4375%\n",
      " | Epoch 2 | Loss: 0.02253548614680767 | Accuracy: 100.0%\n",
      " | Epoch 2 | Loss: 0.018922679126262665 | Accuracy: 100.0%\n",
      " | Epoch 2 | Loss: 0.0758807510137558 | Accuracy: 98.4375%\n",
      " | Epoch 2 | Loss: 0.011126337572932243 | Accuracy: 100.0%\n",
      " | Epoch 2 | Loss: 0.023130586370825768 | Accuracy: 100.0%\n",
      " | Epoch 2 | Loss: 0.016739221289753914 | Accuracy: 100.0%\n",
      " | Epoch 2 | Loss: 0.04828036576509476 | Accuracy: 98.4375%\n",
      " | Epoch 2 | Loss: 0.02834245003759861 | Accuracy: 98.4375%\n",
      " | Epoch 2 | Loss: 0.008352218195796013 | Accuracy: 100.0%\n",
      " | Epoch 2 | Loss: 0.03193798288702965 | Accuracy: 100.0%\n",
      " | Epoch 2 | Loss: 0.020798489451408386 | Accuracy: 100.0%\n"
     ]
    },
    {
     "name": "stderr",
     "output_type": "stream",
     "text": [
      "Epoch 2:  65%|███████████████████▎          | 485/751 [00:05<00:02, 95.93batch/s, accuracy=100.0%, loss=0.00529]"
     ]
    },
    {
     "name": "stdout",
     "output_type": "stream",
     "text": [
      " | Epoch 2 | Loss: 0.1322813779115677 | Accuracy: 98.4375%\n",
      " | Epoch 2 | Loss: 0.008895909413695335 | Accuracy: 100.0%\n",
      " | Epoch 2 | Loss: 0.005570400506258011 | Accuracy: 100.0%\n",
      " | Epoch 2 | Loss: 0.007908986881375313 | Accuracy: 100.0%\n",
      " | Epoch 2 | Loss: 0.009664363227784634 | Accuracy: 100.0%\n",
      " | Epoch 2 | Loss: 0.005294331349432468 | Accuracy: 100.0%\n"
     ]
    },
    {
     "name": "stderr",
     "output_type": "stream",
     "text": [
      "Epoch 2:  66%|███████████████████▊          | 496/751 [00:05<00:02, 99.95batch/s, accuracy=100.0%, loss=0.00447]"
     ]
    },
    {
     "name": "stdout",
     "output_type": "stream",
     "text": [
      " | Epoch 2 | Loss: 0.01615157350897789 | Accuracy: 98.4375%\n",
      " | Epoch 2 | Loss: 0.005258361343294382 | Accuracy: 100.0%\n",
      " | Epoch 2 | Loss: 0.005726239178329706 | Accuracy: 100.0%\n",
      " | Epoch 2 | Loss: 0.006072468124330044 | Accuracy: 100.0%\n",
      " | Epoch 2 | Loss: 0.02446851134300232 | Accuracy: 98.4375%\n",
      " | Epoch 2 | Loss: 0.09462011605501175 | Accuracy: 100.0%\n",
      " | Epoch 2 | Loss: 0.010723916813731194 | Accuracy: 100.0%\n",
      " | Epoch 2 | Loss: 0.004283531103283167 | Accuracy: 100.0%\n",
      " | Epoch 2 | Loss: 0.01112199854105711 | Accuracy: 100.0%\n",
      " | Epoch 2 | Loss: 0.01159191969782114 | Accuracy: 100.0%\n",
      " | Epoch 2 | Loss: 0.0029482641257345676 | Accuracy: 100.0%\n",
      " | Epoch 2 | Loss: 0.42845624685287476 | Accuracy: 98.4375%\n",
      " | Epoch 2 | Loss: 0.002718909177929163 | Accuracy: 100.0%\n",
      " | Epoch 2 | Loss: 0.002234065905213356 | Accuracy: 100.0%\n",
      " | Epoch 2 | Loss: 0.004473759327083826 | Accuracy: 100.0%\n"
     ]
    },
    {
     "name": "stderr",
     "output_type": "stream",
     "text": [
      "Epoch 2:  68%|██████████████████▉         | 507/751 [00:05<00:02, 101.40batch/s, accuracy=98.4375%, loss=0.0283]"
     ]
    },
    {
     "name": "stdout",
     "output_type": "stream",
     "text": [
      " | Epoch 2 | Loss: 0.0024957286659628153 | Accuracy: 100.0%\n",
      " | Epoch 2 | Loss: 0.0038117265794426203 | Accuracy: 100.0%\n",
      " | Epoch 2 | Loss: 0.006594006437808275 | Accuracy: 100.0%\n",
      " | Epoch 2 | Loss: 0.004818056710064411 | Accuracy: 100.0%\n",
      " | Epoch 2 | Loss: 0.006707996595650911 | Accuracy: 100.0%\n",
      " | Epoch 2 | Loss: 0.005084994714707136 | Accuracy: 100.0%\n",
      " | Epoch 2 | Loss: 0.028284385800361633 | Accuracy: 98.4375%\n"
     ]
    },
    {
     "name": "stderr",
     "output_type": "stream",
     "text": [
      "Epoch 2:  69%|███████████████████▎        | 518/751 [00:05<00:02, 103.19batch/s, accuracy=98.4375%, loss=0.0343]"
     ]
    },
    {
     "name": "stdout",
     "output_type": "stream",
     "text": [
      " | Epoch 2 | Loss: 0.008800670504570007 | Accuracy: 100.0%\n",
      " | Epoch 2 | Loss: 0.05855385214090347 | Accuracy: 98.4375%\n",
      " | Epoch 2 | Loss: 0.0013787010684609413 | Accuracy: 100.0%\n",
      " | Epoch 2 | Loss: 0.3588380515575409 | Accuracy: 98.4375%\n",
      " | Epoch 2 | Loss: 0.003207104979082942 | Accuracy: 100.0%\n",
      " | Epoch 2 | Loss: 0.22882196307182312 | Accuracy: 96.875%\n",
      " | Epoch 2 | Loss: 0.10791569948196411 | Accuracy: 96.875%\n",
      " | Epoch 2 | Loss: 0.004461894277483225 | Accuracy: 100.0%\n",
      " | Epoch 2 | Loss: 0.0042671943083405495 | Accuracy: 100.0%\n",
      " | Epoch 2 | Loss: 0.019388148561120033 | Accuracy: 98.4375%\n",
      " | Epoch 2 | Loss: 0.006841978058218956 | Accuracy: 100.0%\n",
      " | Epoch 2 | Loss: 0.004189947620034218 | Accuracy: 100.0%\n",
      " | Epoch 2 | Loss: 0.018346525728702545 | Accuracy: 98.4375%\n",
      " | Epoch 2 | Loss: 0.011784661561250687 | Accuracy: 100.0%\n",
      " | Epoch 2 | Loss: 0.03432784974575043 | Accuracy: 98.4375%\n"
     ]
    },
    {
     "name": "stderr",
     "output_type": "stream",
     "text": [
      "Epoch 2:  70%|████████████████████▍        | 529/751 [00:05<00:02, 104.40batch/s, accuracy=100.0%, loss=0.00897]"
     ]
    },
    {
     "name": "stdout",
     "output_type": "stream",
     "text": [
      " | Epoch 2 | Loss: 0.009869645349681377 | Accuracy: 100.0%\n",
      " | Epoch 2 | Loss: 0.010850731283426285 | Accuracy: 100.0%\n",
      " | Epoch 2 | Loss: 0.008326785638928413 | Accuracy: 100.0%\n",
      " | Epoch 2 | Loss: 0.014246035367250443 | Accuracy: 100.0%\n",
      " | Epoch 2 | Loss: 0.006709518376737833 | Accuracy: 100.0%\n",
      " | Epoch 2 | Loss: 0.07319072633981705 | Accuracy: 98.4375%\n",
      " | Epoch 2 | Loss: 0.00897124968469143 | Accuracy: 100.0%\n"
     ]
    },
    {
     "name": "stderr",
     "output_type": "stream",
     "text": [
      "Epoch 2:  72%|████████████████████▊        | 540/751 [00:05<00:02, 105.27batch/s, accuracy=100.0%, loss=0.00902]"
     ]
    },
    {
     "name": "stdout",
     "output_type": "stream",
     "text": [
      " | Epoch 2 | Loss: 0.006523105315864086 | Accuracy: 100.0%\n",
      " | Epoch 2 | Loss: 0.021141016855835915 | Accuracy: 100.0%\n",
      " | Epoch 2 | Loss: 0.04038116708397865 | Accuracy: 98.4375%\n",
      " | Epoch 2 | Loss: 0.006367071531713009 | Accuracy: 100.0%\n",
      " | Epoch 2 | Loss: 0.009442763403058052 | Accuracy: 100.0%\n",
      " | Epoch 2 | Loss: 0.016932867467403412 | Accuracy: 100.0%\n",
      " | Epoch 2 | Loss: 0.010099757462739944 | Accuracy: 100.0%\n",
      " | Epoch 2 | Loss: 0.25577983260154724 | Accuracy: 96.875%\n",
      " | Epoch 2 | Loss: 0.03637213632464409 | Accuracy: 98.4375%\n",
      " | Epoch 2 | Loss: 0.010625235736370087 | Accuracy: 100.0%\n",
      " | Epoch 2 | Loss: 0.006125710904598236 | Accuracy: 100.0%\n",
      " | Epoch 2 | Loss: 0.014210818335413933 | Accuracy: 100.0%\n",
      " | Epoch 2 | Loss: 0.0065775178372859955 | Accuracy: 100.0%\n",
      " | Epoch 2 | Loss: 0.0063570477068424225 | Accuracy: 100.0%\n",
      " | Epoch 2 | Loss: 0.009019391611218452 | Accuracy: 100.0%\n"
     ]
    },
    {
     "name": "stderr",
     "output_type": "stream",
     "text": [
      "Epoch 2:  73%|██████████████████████        | 551/751 [00:05<00:01, 105.14batch/s, accuracy=100.0%, loss=0.0039]"
     ]
    },
    {
     "name": "stdout",
     "output_type": "stream",
     "text": [
      " | Epoch 2 | Loss: 0.010639713145792484 | Accuracy: 100.0%\n",
      " | Epoch 2 | Loss: 0.010597052052617073 | Accuracy: 100.0%\n",
      " | Epoch 2 | Loss: 0.006214207038283348 | Accuracy: 98.4375%\n",
      " | Epoch 2 | Loss: 0.005224235355854034 | Accuracy: 100.0%\n",
      " | Epoch 2 | Loss: 0.00455089658498764 | Accuracy: 100.0%\n",
      " | Epoch 2 | Loss: 0.006352108903229237 | Accuracy: 100.0%\n",
      " | Epoch 2 | Loss: 0.0039041696581989527 | Accuracy: 100.0%\n"
     ]
    },
    {
     "name": "stderr",
     "output_type": "stream",
     "text": [
      "Epoch 2:  75%|█████████████████████▋       | 562/751 [00:05<00:01, 101.46batch/s, accuracy=100.0%, loss=0.00241]"
     ]
    },
    {
     "name": "stdout",
     "output_type": "stream",
     "text": [
      " | Epoch 2 | Loss: 0.0037073162384331226 | Accuracy: 100.0%\n",
      " | Epoch 2 | Loss: 0.14055794477462769 | Accuracy: 98.4375%\n",
      " | Epoch 2 | Loss: 0.0019621653482317924 | Accuracy: 100.0%\n",
      " | Epoch 2 | Loss: 0.012282052077353 | Accuracy: 100.0%\n",
      " | Epoch 2 | Loss: 0.0022632121108472347 | Accuracy: 100.0%\n",
      " | Epoch 2 | Loss: 0.005923741031438112 | Accuracy: 100.0%\n",
      " | Epoch 2 | Loss: 0.0034737284295260906 | Accuracy: 100.0%\n",
      " | Epoch 2 | Loss: 0.007563362829387188 | Accuracy: 100.0%\n",
      " | Epoch 2 | Loss: 0.00456413347274065 | Accuracy: 100.0%\n",
      " | Epoch 2 | Loss: 0.004194644279778004 | Accuracy: 100.0%\n",
      " | Epoch 2 | Loss: 0.07944855839014053 | Accuracy: 96.875%\n",
      " | Epoch 2 | Loss: 0.006182313896715641 | Accuracy: 100.0%\n",
      " | Epoch 2 | Loss: 0.002411311026662588 | Accuracy: 100.0%\n"
     ]
    },
    {
     "name": "stderr",
     "output_type": "stream",
     "text": [
      "Epoch 2:  75%|█████████████████████▋       | 562/751 [00:05<00:01, 101.46batch/s, accuracy=100.0%, loss=0.00909]"
     ]
    },
    {
     "name": "stdout",
     "output_type": "stream",
     "text": [
      " | Epoch 2 | Loss: 0.0052208262495696545 | Accuracy: 100.0%\n",
      " | Epoch 2 | Loss: 0.002053596545010805 | Accuracy: 100.0%\n",
      " | Epoch 2 | Loss: 0.007173049263656139 | Accuracy: 100.0%\n",
      " | Epoch 2 | Loss: 0.004304951056838036 | Accuracy: 100.0%\n",
      " | Epoch 2 | Loss: 0.008996397256851196 | Accuracy: 100.0%\n",
      " | Epoch 2 | Loss: 0.009094806388020515 | Accuracy: 100.0%\n"
     ]
    },
    {
     "name": "stderr",
     "output_type": "stream",
     "text": [
      "Epoch 2:  78%|███████████████████████▎      | 584/751 [00:06<00:01, 97.41batch/s, accuracy=100.0%, loss=0.00498]"
     ]
    },
    {
     "name": "stdout",
     "output_type": "stream",
     "text": [
      " | Epoch 2 | Loss: 0.0042975889518857 | Accuracy: 100.0%\n",
      " | Epoch 2 | Loss: 0.004093953408300877 | Accuracy: 100.0%\n",
      " | Epoch 2 | Loss: 0.010215569287538528 | Accuracy: 100.0%\n",
      " | Epoch 2 | Loss: 0.8089516758918762 | Accuracy: 96.875%\n",
      " | Epoch 2 | Loss: 0.004228323698043823 | Accuracy: 100.0%\n",
      " | Epoch 2 | Loss: 0.00604998879134655 | Accuracy: 100.0%\n",
      " | Epoch 2 | Loss: 0.03844297677278519 | Accuracy: 100.0%\n",
      " | Epoch 2 | Loss: 0.027928704395890236 | Accuracy: 100.0%\n",
      " | Epoch 2 | Loss: 0.024516094475984573 | Accuracy: 100.0%\n",
      " | Epoch 2 | Loss: 0.011365417391061783 | Accuracy: 100.0%\n",
      " | Epoch 2 | Loss: 0.007140140514820814 | Accuracy: 100.0%\n",
      " | Epoch 2 | Loss: 0.0030750420410186052 | Accuracy: 100.0%\n",
      " | Epoch 2 | Loss: 0.004272187128663063 | Accuracy: 100.0%\n",
      " | Epoch 2 | Loss: 0.004981217905879021 | Accuracy: 100.0%\n"
     ]
    },
    {
     "name": "stderr",
     "output_type": "stream",
     "text": [
      "Epoch 2:  78%|███████████████████████▎      | 584/751 [00:06<00:01, 97.41batch/s, accuracy=95.3125%, loss=0.228]"
     ]
    },
    {
     "name": "stdout",
     "output_type": "stream",
     "text": [
      " | Epoch 2 | Loss: 0.01061142235994339 | Accuracy: 100.0%\n",
      " | Epoch 2 | Loss: 0.04798493534326553 | Accuracy: 98.4375%\n",
      " | Epoch 2 | Loss: 0.0066864974796772 | Accuracy: 100.0%\n",
      " | Epoch 2 | Loss: 0.009606176987290382 | Accuracy: 100.0%\n",
      " | Epoch 2 | Loss: 0.016477573662996292 | Accuracy: 100.0%\n",
      " | Epoch 2 | Loss: 0.22811296582221985 | Accuracy: 95.3125%\n"
     ]
    },
    {
     "name": "stderr",
     "output_type": "stream",
     "text": [
      "Epoch 2:  80%|████████████████████████▉      | 604/751 [00:06<00:01, 95.66batch/s, accuracy=100.0%, loss=0.0325]"
     ]
    },
    {
     "name": "stdout",
     "output_type": "stream",
     "text": [
      " | Epoch 2 | Loss: 0.004493389278650284 | Accuracy: 100.0%\n",
      " | Epoch 2 | Loss: 0.14443382620811462 | Accuracy: 98.4375%\n",
      " | Epoch 2 | Loss: 0.006874570623040199 | Accuracy: 100.0%\n",
      " | Epoch 2 | Loss: 0.009789141826331615 | Accuracy: 100.0%\n",
      " | Epoch 2 | Loss: 0.1680246889591217 | Accuracy: 98.4375%\n",
      " | Epoch 2 | Loss: 0.010425533168017864 | Accuracy: 100.0%\n",
      " | Epoch 2 | Loss: 0.007177842780947685 | Accuracy: 100.0%\n",
      " | Epoch 2 | Loss: 0.003979063592851162 | Accuracy: 100.0%\n",
      " | Epoch 2 | Loss: 0.2423563152551651 | Accuracy: 96.875%\n",
      " | Epoch 2 | Loss: 0.014588017016649246 | Accuracy: 100.0%\n",
      " | Epoch 2 | Loss: 0.03373715281486511 | Accuracy: 98.4375%\n",
      " | Epoch 2 | Loss: 0.0044286493211984634 | Accuracy: 100.0%\n",
      " | Epoch 2 | Loss: 0.03253495693206787 | Accuracy: 100.0%\n"
     ]
    },
    {
     "name": "stderr",
     "output_type": "stream",
     "text": [
      "Epoch 2:  80%|████████████████████████▏     | 604/751 [00:06<00:01, 95.66batch/s, accuracy=100.0%, loss=0.00496]"
     ]
    },
    {
     "name": "stdout",
     "output_type": "stream",
     "text": [
      " | Epoch 2 | Loss: 0.012136496603488922 | Accuracy: 100.0%\n",
      " | Epoch 2 | Loss: 0.011427659541368484 | Accuracy: 100.0%\n",
      " | Epoch 2 | Loss: 0.010310148820281029 | Accuracy: 100.0%\n",
      " | Epoch 2 | Loss: 0.008213595487177372 | Accuracy: 100.0%\n",
      " | Epoch 2 | Loss: 0.014134058728814125 | Accuracy: 100.0%\n",
      " | Epoch 2 | Loss: 0.04899895191192627 | Accuracy: 98.4375%\n",
      " | Epoch 2 | Loss: 0.004958151374012232 | Accuracy: 100.0%\n"
     ]
    },
    {
     "name": "stderr",
     "output_type": "stream",
     "text": [
      "Epoch 2:  83%|████████████████████████▉     | 624/751 [00:06<00:01, 97.05batch/s, accuracy=100.0%, loss=0.00652]"
     ]
    },
    {
     "name": "stdout",
     "output_type": "stream",
     "text": [
      " | Epoch 2 | Loss: 0.014919140376150608 | Accuracy: 100.0%\n",
      " | Epoch 2 | Loss: 0.004054056480526924 | Accuracy: 100.0%\n",
      " | Epoch 2 | Loss: 0.00971558503806591 | Accuracy: 100.0%\n",
      " | Epoch 2 | Loss: 0.032437633723020554 | Accuracy: 100.0%\n",
      " | Epoch 2 | Loss: 0.009344402700662613 | Accuracy: 100.0%\n",
      " | Epoch 2 | Loss: 0.006858267821371555 | Accuracy: 100.0%\n",
      " | Epoch 2 | Loss: 0.006672819145023823 | Accuracy: 100.0%\n",
      " | Epoch 2 | Loss: 0.2535133957862854 | Accuracy: 98.4375%\n",
      " | Epoch 2 | Loss: 0.013053829781711102 | Accuracy: 100.0%\n",
      " | Epoch 2 | Loss: 0.018004901707172394 | Accuracy: 100.0%\n",
      " | Epoch 2 | Loss: 0.14120198786258698 | Accuracy: 98.4375%\n",
      " | Epoch 2 | Loss: 0.012078646570444107 | Accuracy: 100.0%\n",
      " | Epoch 2 | Loss: 0.00652490695938468 | Accuracy: 100.0%\n"
     ]
    },
    {
     "name": "stderr",
     "output_type": "stream",
     "text": [
      "Epoch 2:  83%|████████████████████████▉     | 624/751 [00:06<00:01, 97.05batch/s, accuracy=100.0%, loss=0.00986]"
     ]
    },
    {
     "name": "stdout",
     "output_type": "stream",
     "text": [
      " | Epoch 2 | Loss: 0.0060946885496377945 | Accuracy: 100.0%\n",
      " | Epoch 2 | Loss: 0.0050234366208314896 | Accuracy: 100.0%\n",
      " | Epoch 2 | Loss: 0.015772219747304916 | Accuracy: 98.4375%\n",
      " | Epoch 2 | Loss: 0.007055733818560839 | Accuracy: 100.0%\n",
      " | Epoch 2 | Loss: 0.16591116786003113 | Accuracy: 98.4375%\n",
      " | Epoch 2 | Loss: 0.0059650372713804245 | Accuracy: 100.0%\n",
      " | Epoch 2 | Loss: 0.009862834587693214 | Accuracy: 100.0%\n"
     ]
    },
    {
     "name": "stderr",
     "output_type": "stream",
     "text": [
      "Epoch 2:  86%|█████████████████████████▋    | 644/751 [00:06<00:01, 96.60batch/s, accuracy=98.4375%, loss=0.013]"
     ]
    },
    {
     "name": "stdout",
     "output_type": "stream",
     "text": [
      " | Epoch 2 | Loss: 0.01519467681646347 | Accuracy: 100.0%\n",
      " | Epoch 2 | Loss: 0.009295128285884857 | Accuracy: 100.0%\n",
      " | Epoch 2 | Loss: 0.0048774294555187225 | Accuracy: 100.0%\n",
      " | Epoch 2 | Loss: 0.019318237900733948 | Accuracy: 98.4375%\n",
      " | Epoch 2 | Loss: 0.007712287828326225 | Accuracy: 100.0%\n",
      " | Epoch 2 | Loss: 0.019648360088467598 | Accuracy: 98.4375%\n",
      " | Epoch 2 | Loss: 0.00419948436319828 | Accuracy: 100.0%\n",
      " | Epoch 2 | Loss: 0.005647990852594376 | Accuracy: 100.0%\n",
      " | Epoch 2 | Loss: 0.463756263256073 | Accuracy: 98.4375%\n",
      " | Epoch 2 | Loss: 0.018096923828125 | Accuracy: 100.0%\n",
      " | Epoch 2 | Loss: 0.015300062485039234 | Accuracy: 100.0%\n",
      " | Epoch 2 | Loss: 0.007349747233092785 | Accuracy: 100.0%\n",
      " | Epoch 2 | Loss: 0.013013729825615883 | Accuracy: 98.4375%\n"
     ]
    },
    {
     "name": "stderr",
     "output_type": "stream",
     "text": [
      "Epoch 2:  86%|██████████████████████████▌    | 644/751 [00:06<00:01, 96.60batch/s, accuracy=100.0%, loss=0.0226]"
     ]
    },
    {
     "name": "stdout",
     "output_type": "stream",
     "text": [
      " | Epoch 2 | Loss: 0.015492322854697704 | Accuracy: 100.0%\n",
      " | Epoch 2 | Loss: 0.004023709334433079 | Accuracy: 100.0%\n",
      " | Epoch 2 | Loss: 0.013080736622214317 | Accuracy: 100.0%\n",
      " | Epoch 2 | Loss: 0.003987018950283527 | Accuracy: 100.0%\n",
      " | Epoch 2 | Loss: 0.0065049054101109505 | Accuracy: 100.0%\n",
      " | Epoch 2 | Loss: 0.00510373106226325 | Accuracy: 100.0%\n",
      " | Epoch 2 | Loss: 0.022645248100161552 | Accuracy: 100.0%\n"
     ]
    },
    {
     "name": "stderr",
     "output_type": "stream",
     "text": [
      "Epoch 2:  89%|██████████████████████████▌   | 665/751 [00:06<00:00, 98.79batch/s, accuracy=100.0%, loss=0.00603]"
     ]
    },
    {
     "name": "stdout",
     "output_type": "stream",
     "text": [
      " | Epoch 2 | Loss: 0.0030566048808395863 | Accuracy: 100.0%\n",
      " | Epoch 2 | Loss: 0.008312797173857689 | Accuracy: 100.0%\n",
      " | Epoch 2 | Loss: 0.017740797251462936 | Accuracy: 100.0%\n",
      " | Epoch 2 | Loss: 0.04617561027407646 | Accuracy: 98.4375%\n",
      " | Epoch 2 | Loss: 0.015188802033662796 | Accuracy: 100.0%\n",
      " | Epoch 2 | Loss: 0.021664168685674667 | Accuracy: 98.4375%\n",
      " | Epoch 2 | Loss: 0.0068328226916491985 | Accuracy: 100.0%\n",
      " | Epoch 2 | Loss: 0.006565513089299202 | Accuracy: 100.0%\n",
      " | Epoch 2 | Loss: 0.03696432709693909 | Accuracy: 98.4375%\n",
      " | Epoch 2 | Loss: 0.010284081101417542 | Accuracy: 100.0%\n",
      " | Epoch 2 | Loss: 0.0033314740285277367 | Accuracy: 100.0%\n",
      " | Epoch 2 | Loss: 0.010880805552005768 | Accuracy: 100.0%\n",
      " | Epoch 2 | Loss: 0.014161394909024239 | Accuracy: 100.0%\n",
      " | Epoch 2 | Loss: 0.00603072065860033 | Accuracy: 100.0%\n"
     ]
    },
    {
     "name": "stderr",
     "output_type": "stream",
     "text": [
      "Epoch 2:  89%|██████████████████████████▌   | 665/751 [00:06<00:00, 98.79batch/s, accuracy=100.0%, loss=0.00385]"
     ]
    },
    {
     "name": "stdout",
     "output_type": "stream",
     "text": [
      " | Epoch 2 | Loss: 0.003972131293267012 | Accuracy: 100.0%\n",
      " | Epoch 2 | Loss: 0.10332194715738297 | Accuracy: 98.4375%\n",
      " | Epoch 2 | Loss: 0.006661978550255299 | Accuracy: 100.0%\n",
      " | Epoch 2 | Loss: 0.07043600082397461 | Accuracy: 98.4375%\n",
      " | Epoch 2 | Loss: 0.003852392779663205 | Accuracy: 100.0%\n"
     ]
    },
    {
     "name": "stderr",
     "output_type": "stream",
     "text": [
      "Epoch 2:  91%|████████████████████████████▎  | 685/751 [00:07<00:00, 96.94batch/s, accuracy=100.0%, loss=0.0109]"
     ]
    },
    {
     "name": "stdout",
     "output_type": "stream",
     "text": [
      " | Epoch 2 | Loss: 0.204191192984581 | Accuracy: 98.4375%\n",
      " | Epoch 2 | Loss: 0.02053154818713665 | Accuracy: 98.4375%\n",
      " | Epoch 2 | Loss: 0.10861562192440033 | Accuracy: 98.4375%\n",
      " | Epoch 2 | Loss: 0.004709235392510891 | Accuracy: 100.0%\n",
      " | Epoch 2 | Loss: 0.005752862896770239 | Accuracy: 100.0%\n",
      " | Epoch 2 | Loss: 0.005264815408736467 | Accuracy: 100.0%\n",
      " | Epoch 2 | Loss: 0.016691096127033234 | Accuracy: 98.4375%\n",
      " | Epoch 2 | Loss: 0.07155618816614151 | Accuracy: 96.875%\n",
      " | Epoch 2 | Loss: 0.1925269365310669 | Accuracy: 98.4375%\n",
      " | Epoch 2 | Loss: 0.1889340579509735 | Accuracy: 98.4375%\n",
      " | Epoch 2 | Loss: 0.26699599623680115 | Accuracy: 98.4375%\n",
      " | Epoch 2 | Loss: 0.21531176567077637 | Accuracy: 98.4375%\n",
      " | Epoch 2 | Loss: 0.007609564810991287 | Accuracy: 100.0%\n",
      " | Epoch 2 | Loss: 0.023700887337327003 | Accuracy: 100.0%\n",
      " | Epoch 2 | Loss: 0.010874541476368904 | Accuracy: 100.0%\n"
     ]
    },
    {
     "name": "stderr",
     "output_type": "stream",
     "text": [
      "Epoch 2:  91%|███████████████████████████▎  | 685/751 [00:07<00:00, 96.94batch/s, accuracy=100.0%, loss=0.00868]"
     ]
    },
    {
     "name": "stdout",
     "output_type": "stream",
     "text": [
      " | Epoch 2 | Loss: 0.005500693339854479 | Accuracy: 100.0%\n",
      " | Epoch 2 | Loss: 0.007439626846462488 | Accuracy: 100.0%\n",
      " | Epoch 2 | Loss: 0.008077090606093407 | Accuracy: 100.0%\n",
      " | Epoch 2 | Loss: 0.28360921144485474 | Accuracy: 98.4375%\n",
      " | Epoch 2 | Loss: 0.008683888241648674 | Accuracy: 100.0%\n"
     ]
    },
    {
     "name": "stderr",
     "output_type": "stream",
     "text": [
      "Epoch 2:  93%|██████████████████████████▊  | 695/751 [00:07<00:00, 96.06batch/s, accuracy=98.4375%, loss=0.0575]"
     ]
    },
    {
     "name": "stdout",
     "output_type": "stream",
     "text": [
      " | Epoch 2 | Loss: 0.01667945273220539 | Accuracy: 100.0%\n",
      " | Epoch 2 | Loss: 0.011823710054159164 | Accuracy: 100.0%\n",
      " | Epoch 2 | Loss: 0.009888575412333012 | Accuracy: 100.0%\n",
      " | Epoch 2 | Loss: 0.02563253976404667 | Accuracy: 100.0%\n",
      " | Epoch 2 | Loss: 0.009244702756404877 | Accuracy: 100.0%\n",
      " | Epoch 2 | Loss: 0.003769262693822384 | Accuracy: 100.0%\n",
      " | Epoch 2 | Loss: 0.01745001971721649 | Accuracy: 98.4375%\n",
      " | Epoch 2 | Loss: 0.03153727576136589 | Accuracy: 100.0%\n",
      " | Epoch 2 | Loss: 0.009460930712521076 | Accuracy: 100.0%\n",
      " | Epoch 2 | Loss: 0.012635822407901287 | Accuracy: 100.0%\n",
      " | Epoch 2 | Loss: 0.007978390902280807 | Accuracy: 100.0%\n",
      " | Epoch 2 | Loss: 0.0055541121400892735 | Accuracy: 100.0%\n",
      " | Epoch 2 | Loss: 0.057456061244010925 | Accuracy: 98.4375%\n"
     ]
    },
    {
     "name": "stderr",
     "output_type": "stream",
     "text": [
      "Epoch 2:  94%|████████████████████████████▏ | 705/751 [00:07<00:00, 91.44batch/s, accuracy=100.0%, loss=0.00584]"
     ]
    },
    {
     "name": "stdout",
     "output_type": "stream",
     "text": [
      " | Epoch 2 | Loss: 0.011253287084400654 | Accuracy: 100.0%\n",
      " | Epoch 2 | Loss: 0.0672481507062912 | Accuracy: 98.4375%\n",
      " | Epoch 2 | Loss: 0.014084705151617527 | Accuracy: 100.0%\n",
      " | Epoch 2 | Loss: 0.007347155828028917 | Accuracy: 100.0%\n",
      " | Epoch 2 | Loss: 0.005840763915330172 | Accuracy: 100.0%\n"
     ]
    },
    {
     "name": "stderr",
     "output_type": "stream",
     "text": [
      "Epoch 2:  95%|████████████████████████████▌ | 715/751 [00:07<00:00, 92.50batch/s, accuracy=98.4375%, loss=0.037]"
     ]
    },
    {
     "name": "stdout",
     "output_type": "stream",
     "text": [
      " | Epoch 2 | Loss: 0.013497982174158096 | Accuracy: 100.0%\n",
      " | Epoch 2 | Loss: 0.013376531191170216 | Accuracy: 100.0%\n",
      " | Epoch 2 | Loss: 0.01746918261051178 | Accuracy: 100.0%\n",
      " | Epoch 2 | Loss: 0.13946636021137238 | Accuracy: 98.4375%\n",
      " | Epoch 2 | Loss: 0.23795181512832642 | Accuracy: 98.4375%\n",
      " | Epoch 2 | Loss: 0.005669143982231617 | Accuracy: 100.0%\n",
      " | Epoch 2 | Loss: 0.02077702060341835 | Accuracy: 100.0%\n",
      " | Epoch 2 | Loss: 0.012182485312223434 | Accuracy: 100.0%\n",
      " | Epoch 2 | Loss: 0.01851811446249485 | Accuracy: 100.0%\n",
      " | Epoch 2 | Loss: 0.0077452221885323524 | Accuracy: 100.0%\n",
      " | Epoch 2 | Loss: 0.037785548716783524 | Accuracy: 98.4375%\n",
      " | Epoch 2 | Loss: 0.0235823392868042 | Accuracy: 98.4375%\n",
      " | Epoch 2 | Loss: 0.2134140580892563 | Accuracy: 98.4375%\n",
      " | Epoch 2 | Loss: 0.031681619584560394 | Accuracy: 98.4375%\n"
     ]
    },
    {
     "name": "stderr",
     "output_type": "stream",
     "text": [
      "Epoch 2:  97%|█████████████████████████████▉ | 725/751 [00:07<00:00, 93.21batch/s, accuracy=96.875%, loss=0.198]"
     ]
    },
    {
     "name": "stdout",
     "output_type": "stream",
     "text": [
      " | Epoch 2 | Loss: 0.03699762746691704 | Accuracy: 98.4375%\n",
      " | Epoch 2 | Loss: 0.03805193677544594 | Accuracy: 100.0%\n",
      " | Epoch 2 | Loss: 0.0075055379420518875 | Accuracy: 100.0%\n",
      " | Epoch 2 | Loss: 0.02393007092177868 | Accuracy: 100.0%\n",
      " | Epoch 2 | Loss: 0.005570700857788324 | Accuracy: 100.0%\n",
      " | Epoch 2 | Loss: 0.19837608933448792 | Accuracy: 96.875%\n"
     ]
    },
    {
     "name": "stderr",
     "output_type": "stream",
     "text": [
      "Epoch 2:  98%|█████████████████████████████▍| 736/751 [00:07<00:00, 96.14batch/s, accuracy=100.0%, loss=0.00454]"
     ]
    },
    {
     "name": "stdout",
     "output_type": "stream",
     "text": [
      " | Epoch 2 | Loss: 0.014930744655430317 | Accuracy: 100.0%\n",
      " | Epoch 2 | Loss: 0.005515687167644501 | Accuracy: 100.0%\n",
      " | Epoch 2 | Loss: 0.004362516570836306 | Accuracy: 100.0%\n",
      " | Epoch 2 | Loss: 0.014749831520020962 | Accuracy: 100.0%\n",
      " | Epoch 2 | Loss: 0.03951359540224075 | Accuracy: 100.0%\n",
      " | Epoch 2 | Loss: 0.010400338098406792 | Accuracy: 100.0%\n",
      " | Epoch 2 | Loss: 0.010754742659628391 | Accuracy: 100.0%\n",
      " | Epoch 2 | Loss: 0.002942832186818123 | Accuracy: 100.0%\n",
      " | Epoch 2 | Loss: 0.07260580360889435 | Accuracy: 98.4375%\n",
      " | Epoch 2 | Loss: 0.019571252167224884 | Accuracy: 100.0%\n",
      " | Epoch 2 | Loss: 0.004438124131411314 | Accuracy: 100.0%\n",
      " | Epoch 2 | Loss: 0.009063689038157463 | Accuracy: 100.0%\n",
      " | Epoch 2 | Loss: 0.00962001457810402 | Accuracy: 100.0%\n",
      " | Epoch 2 | Loss: 0.007393506355583668 | Accuracy: 100.0%\n",
      " | Epoch 2 | Loss: 0.01234397478401661 | Accuracy: 100.0%\n"
     ]
    },
    {
     "name": "stderr",
     "output_type": "stream",
     "text": [
      "Epoch 2: 100%|███████████████████████████▉| 748/751 [00:07<00:00, 101.03batch/s, accuracy=100.0%, loss=0.000123]"
     ]
    },
    {
     "name": "stdout",
     "output_type": "stream",
     "text": [
      " | Epoch 2 | Loss: 0.0045350403524935246 | Accuracy: 100.0%\n",
      " | Epoch 2 | Loss: 0.02766934037208557 | Accuracy: 96.875%\n",
      " | Epoch 2 | Loss: 0.014985531568527222 | Accuracy: 100.0%\n",
      " | Epoch 2 | Loss: 0.005190188996493816 | Accuracy: 100.0%\n",
      " | Epoch 2 | Loss: 0.01105879619717598 | Accuracy: 100.0%\n",
      " | Epoch 2 | Loss: 0.00659568514674902 | Accuracy: 100.0%\n",
      " | Epoch 2 | Loss: 0.05424204841256142 | Accuracy: 98.4375%\n",
      " | Epoch 2 | Loss: 0.00012332860205788165 | Accuracy: 100.0%\n"
     ]
    },
    {
     "name": "stderr",
     "output_type": "stream",
     "text": [
      "Epoch 2: 100%|█████████████████████████████| 751/751 [00:07<00:00, 95.65batch/s, accuracy=100.0%, loss=0.000123]\n",
      "Evaluating group-wise accuracy:   4%|█▊                                          | 1/25 [00:00<00:05,  4.63it/s]"
     ]
    },
    {
     "name": "stdout",
     "output_type": "stream",
     "text": [
      "Group (0, 0) Accuracy: 20.315581854043394\n"
     ]
    },
    {
     "name": "stderr",
     "output_type": "stream",
     "text": [
      "Evaluating group-wise accuracy:   8%|███▌                                        | 2/25 [00:00<00:05,  4.46it/s]"
     ]
    },
    {
     "name": "stdout",
     "output_type": "stream",
     "text": [
      "Group (0, 1) Accuracy: 19.723865877712033\n"
     ]
    },
    {
     "name": "stderr",
     "output_type": "stream",
     "text": [
      "Evaluating group-wise accuracy:  12%|█████▎                                      | 3/25 [00:00<00:04,  4.67it/s]"
     ]
    },
    {
     "name": "stdout",
     "output_type": "stream",
     "text": [
      "Group (0, 2) Accuracy: 21.14624505928854\n"
     ]
    },
    {
     "name": "stderr",
     "output_type": "stream",
     "text": [
      "Evaluating group-wise accuracy:  16%|███████                                     | 4/25 [00:00<00:04,  4.58it/s]"
     ]
    },
    {
     "name": "stdout",
     "output_type": "stream",
     "text": [
      "Group (0, 3) Accuracy: 18.774703557312254\n"
     ]
    },
    {
     "name": "stderr",
     "output_type": "stream",
     "text": [
      "Evaluating group-wise accuracy:  20%|████████▊                                   | 5/25 [00:01<00:04,  4.39it/s]"
     ]
    },
    {
     "name": "stdout",
     "output_type": "stream",
     "text": [
      "Group (0, 4) Accuracy: 21.14624505928854\n"
     ]
    },
    {
     "name": "stderr",
     "output_type": "stream",
     "text": [
      "Evaluating group-wise accuracy:  24%|██████████▌                                 | 6/25 [00:01<00:04,  4.39it/s]"
     ]
    },
    {
     "name": "stdout",
     "output_type": "stream",
     "text": [
      "Group (1, 0) Accuracy: 26.859504132231404\n"
     ]
    },
    {
     "name": "stderr",
     "output_type": "stream",
     "text": [
      "Evaluating group-wise accuracy:  28%|████████████▎                               | 7/25 [00:01<00:04,  4.36it/s]"
     ]
    },
    {
     "name": "stdout",
     "output_type": "stream",
     "text": [
      "Group (1, 1) Accuracy: 28.305785123966942\n"
     ]
    },
    {
     "name": "stderr",
     "output_type": "stream",
     "text": [
      "Evaluating group-wise accuracy:  32%|██████████████                              | 8/25 [00:01<00:03,  4.35it/s]"
     ]
    },
    {
     "name": "stdout",
     "output_type": "stream",
     "text": [
      "Group (1, 2) Accuracy: 25.46583850931677\n"
     ]
    },
    {
     "name": "stderr",
     "output_type": "stream",
     "text": [
      "Evaluating group-wise accuracy:  36%|███████████████▊                            | 9/25 [00:02<00:03,  4.46it/s]"
     ]
    },
    {
     "name": "stdout",
     "output_type": "stream",
     "text": [
      "Group (1, 3) Accuracy: 29.81366459627329\n"
     ]
    },
    {
     "name": "stderr",
     "output_type": "stream",
     "text": [
      "Evaluating group-wise accuracy:  40%|█████████████████▏                         | 10/25 [00:02<00:03,  4.30it/s]"
     ]
    },
    {
     "name": "stdout",
     "output_type": "stream",
     "text": [
      "Group (1, 4) Accuracy: 23.39544513457557\n"
     ]
    },
    {
     "name": "stderr",
     "output_type": "stream",
     "text": [
      "Evaluating group-wise accuracy:  44%|██████████████████▉                        | 11/25 [00:02<00:03,  4.40it/s]"
     ]
    },
    {
     "name": "stdout",
     "output_type": "stream",
     "text": [
      "Group (2, 0) Accuracy: 20.84257206208426\n"
     ]
    },
    {
     "name": "stderr",
     "output_type": "stream",
     "text": [
      "Evaluating group-wise accuracy:  48%|████████████████████▋                      | 12/25 [00:02<00:02,  4.39it/s]"
     ]
    },
    {
     "name": "stdout",
     "output_type": "stream",
     "text": [
      "Group (2, 1) Accuracy: 17.073170731707318\n"
     ]
    },
    {
     "name": "stderr",
     "output_type": "stream",
     "text": [
      "Evaluating group-wise accuracy:  52%|██████████████████████▎                    | 13/25 [00:02<00:02,  4.19it/s]"
     ]
    },
    {
     "name": "stdout",
     "output_type": "stream",
     "text": [
      "Group (2, 2) Accuracy: 23.333333333333332\n"
     ]
    },
    {
     "name": "stderr",
     "output_type": "stream",
     "text": [
      "Evaluating group-wise accuracy:  56%|████████████████████████                   | 14/25 [00:03<00:02,  4.14it/s]"
     ]
    },
    {
     "name": "stdout",
     "output_type": "stream",
     "text": [
      "Group (2, 3) Accuracy: 22.444444444444443\n"
     ]
    },
    {
     "name": "stderr",
     "output_type": "stream",
     "text": [
      "Evaluating group-wise accuracy:  60%|█████████████████████████▊                 | 15/25 [00:03<00:02,  4.12it/s]"
     ]
    },
    {
     "name": "stdout",
     "output_type": "stream",
     "text": [
      "Group (2, 4) Accuracy: 16.88888888888889\n"
     ]
    },
    {
     "name": "stderr",
     "output_type": "stream",
     "text": [
      "Evaluating group-wise accuracy:  64%|███████████████████████████▌               | 16/25 [00:03<00:02,  4.16it/s]"
     ]
    },
    {
     "name": "stdout",
     "output_type": "stream",
     "text": [
      "Group (3, 0) Accuracy: 18.647540983606557\n"
     ]
    },
    {
     "name": "stderr",
     "output_type": "stream",
     "text": [
      "Evaluating group-wise accuracy:  68%|█████████████████████████████▏             | 17/25 [00:03<00:01,  4.35it/s]"
     ]
    },
    {
     "name": "stdout",
     "output_type": "stream",
     "text": [
      "Group (3, 1) Accuracy: 21.35523613963039\n"
     ]
    },
    {
     "name": "stderr",
     "output_type": "stream",
     "text": [
      "Evaluating group-wise accuracy:  72%|██████████████████████████████▉            | 18/25 [00:04<00:01,  4.46it/s]"
     ]
    },
    {
     "name": "stdout",
     "output_type": "stream",
     "text": [
      "Group (3, 2) Accuracy: 18.480492813141684\n"
     ]
    },
    {
     "name": "stderr",
     "output_type": "stream",
     "text": [
      "Evaluating group-wise accuracy:  76%|████████████████████████████████▋          | 19/25 [00:04<00:01,  4.62it/s]"
     ]
    },
    {
     "name": "stdout",
     "output_type": "stream",
     "text": [
      "Group (3, 3) Accuracy: 21.971252566735114\n"
     ]
    },
    {
     "name": "stderr",
     "output_type": "stream",
     "text": [
      "Evaluating group-wise accuracy:  80%|██████████████████████████████████▍        | 20/25 [00:04<00:01,  4.46it/s]"
     ]
    },
    {
     "name": "stdout",
     "output_type": "stream",
     "text": [
      "Group (3, 4) Accuracy: 18.68583162217659\n"
     ]
    },
    {
     "name": "stderr",
     "output_type": "stream",
     "text": [
      "Evaluating group-wise accuracy:  84%|████████████████████████████████████       | 21/25 [00:04<00:00,  4.19it/s]"
     ]
    },
    {
     "name": "stdout",
     "output_type": "stream",
     "text": [
      "Group (4, 0) Accuracy: 66.10169491525424\n"
     ]
    },
    {
     "name": "stderr",
     "output_type": "stream",
     "text": [
      "Evaluating group-wise accuracy:  88%|█████████████████████████████████████▊     | 22/25 [00:05<00:00,  4.30it/s]"
     ]
    },
    {
     "name": "stdout",
     "output_type": "stream",
     "text": [
      "Group (4, 1) Accuracy: 65.46610169491525\n"
     ]
    },
    {
     "name": "stderr",
     "output_type": "stream",
     "text": [
      "Evaluating group-wise accuracy:  92%|███████████████████████████████████████▌   | 23/25 [00:05<00:00,  4.30it/s]"
     ]
    },
    {
     "name": "stdout",
     "output_type": "stream",
     "text": [
      "Group (4, 2) Accuracy: 62.5\n"
     ]
    },
    {
     "name": "stderr",
     "output_type": "stream",
     "text": [
      "Evaluating group-wise accuracy:  96%|█████████████████████████████████████████▎ | 24/25 [00:05<00:00,  4.30it/s]"
     ]
    },
    {
     "name": "stdout",
     "output_type": "stream",
     "text": [
      "Group (4, 3) Accuracy: 61.228813559322035\n"
     ]
    },
    {
     "name": "stderr",
     "output_type": "stream",
     "text": [
      "Evaluating group-wise accuracy: 100%|███████████████████████████████████████████| 25/25 [00:05<00:00,  4.37it/s]\n"
     ]
    },
    {
     "name": "stdout",
     "output_type": "stream",
     "text": [
      "Group (4, 4) Accuracy: 63.05732484076433\n",
      "Epoch 2:  Val Worst-Group Accuracy: 16.88888888888889\n",
      "Best Val Worst-Group Accuracy: 16.88888888888889\n"
     ]
    },
    {
     "name": "stderr",
     "output_type": "stream",
     "text": [
      "Epoch 3:   0%|                                 | 1/751 [00:00<01:43,  7.24batch/s, accuracy=100.0%, loss=0.0349]"
     ]
    },
    {
     "name": "stdout",
     "output_type": "stream",
     "text": [
      " | Epoch 3 | Loss: 0.0032621105201542377 | Accuracy: 100.0%\n",
      " | Epoch 3 | Loss: 0.003055672161281109 | Accuracy: 100.0%\n",
      " | Epoch 3 | Loss: 0.03487812727689743 | Accuracy: 100.0%\n"
     ]
    },
    {
     "name": "stderr",
     "output_type": "stream",
     "text": [
      "Epoch 3:   1%|▍                                 | 9/751 [00:00<00:16, 43.94batch/s, accuracy=100.0%, loss=0.026]"
     ]
    },
    {
     "name": "stdout",
     "output_type": "stream",
     "text": [
      " | Epoch 3 | Loss: 0.02089511603116989 | Accuracy: 100.0%\n",
      " | Epoch 3 | Loss: 0.008914176374673843 | Accuracy: 100.0%\n",
      " | Epoch 3 | Loss: 0.014486301690340042 | Accuracy: 100.0%\n",
      " | Epoch 3 | Loss: 0.005986572243273258 | Accuracy: 100.0%\n",
      " | Epoch 3 | Loss: 0.003786888439208269 | Accuracy: 100.0%\n",
      " | Epoch 3 | Loss: 0.013055005110800266 | Accuracy: 98.4375%\n",
      " | Epoch 3 | Loss: 0.003938767127692699 | Accuracy: 100.0%\n",
      " | Epoch 3 | Loss: 0.0030390264000743628 | Accuracy: 100.0%\n",
      " | Epoch 3 | Loss: 0.08016814291477203 | Accuracy: 95.3125%\n",
      " | Epoch 3 | Loss: 0.002779614645987749 | Accuracy: 100.0%\n",
      " | Epoch 3 | Loss: 0.5246961712837219 | Accuracy: 96.875%\n",
      " | Epoch 3 | Loss: 0.21477071940898895 | Accuracy: 98.4375%\n",
      " | Epoch 3 | Loss: 0.013540673069655895 | Accuracy: 100.0%\n",
      " | Epoch 3 | Loss: 0.4437234401702881 | Accuracy: 96.875%\n",
      " | Epoch 3 | Loss: 0.0031468234956264496 | Accuracy: 100.0%\n",
      " | Epoch 3 | Loss: 0.025955885648727417 | Accuracy: 100.0%\n"
     ]
    },
    {
     "name": "stderr",
     "output_type": "stream",
     "text": [
      "Epoch 3:   3%|▊                              | 20/751 [00:00<00:10, 68.89batch/s, accuracy=98.4375%, loss=0.245]"
     ]
    },
    {
     "name": "stdout",
     "output_type": "stream",
     "text": [
      " | Epoch 3 | Loss: 0.029678860679268837 | Accuracy: 100.0%\n",
      " | Epoch 3 | Loss: 0.016373060643672943 | Accuracy: 100.0%\n",
      " | Epoch 3 | Loss: 0.03573664277791977 | Accuracy: 98.4375%\n",
      " | Epoch 3 | Loss: 0.011914112605154514 | Accuracy: 100.0%\n",
      " | Epoch 3 | Loss: 0.24547089636325836 | Accuracy: 98.4375%\n"
     ]
    },
    {
     "name": "stderr",
     "output_type": "stream",
     "text": [
      "Epoch 3:   4%|█▎                              | 31/751 [00:00<00:08, 82.15batch/s, accuracy=100.0%, loss=0.0169]"
     ]
    },
    {
     "name": "stdout",
     "output_type": "stream",
     "text": [
      " | Epoch 3 | Loss: 0.1287248283624649 | Accuracy: 98.4375%\n",
      " | Epoch 3 | Loss: 0.22689490020275116 | Accuracy: 98.4375%\n",
      " | Epoch 3 | Loss: 0.016583239659667015 | Accuracy: 100.0%\n",
      " | Epoch 3 | Loss: 0.013110330328345299 | Accuracy: 100.0%\n",
      " | Epoch 3 | Loss: 0.011484360322356224 | Accuracy: 100.0%\n",
      " | Epoch 3 | Loss: 0.23385164141654968 | Accuracy: 98.4375%\n",
      " | Epoch 3 | Loss: 0.04855373874306679 | Accuracy: 98.4375%\n",
      " | Epoch 3 | Loss: 0.01539174746721983 | Accuracy: 100.0%\n",
      " | Epoch 3 | Loss: 0.1688944548368454 | Accuracy: 98.4375%\n",
      " | Epoch 3 | Loss: 0.24822480976581573 | Accuracy: 98.4375%\n",
      " | Epoch 3 | Loss: 0.019157826900482178 | Accuracy: 100.0%\n",
      " | Epoch 3 | Loss: 0.01784362830221653 | Accuracy: 100.0%\n",
      " | Epoch 3 | Loss: 0.09637867659330368 | Accuracy: 96.875%\n",
      " | Epoch 3 | Loss: 0.10814137756824493 | Accuracy: 96.875%\n",
      " | Epoch 3 | Loss: 0.016624925658106804 | Accuracy: 100.0%\n",
      " | Epoch 3 | Loss: 0.029079288244247437 | Accuracy: 98.4375%\n",
      " | Epoch 3 | Loss: 0.016927238553762436 | Accuracy: 100.0%\n"
     ]
    },
    {
     "name": "stderr",
     "output_type": "stream",
     "text": [
      "Epoch 3:   6%|█▋                             | 42/751 [00:00<00:07, 91.37batch/s, accuracy=98.4375%, loss=0.125]"
     ]
    },
    {
     "name": "stdout",
     "output_type": "stream",
     "text": [
      " | Epoch 3 | Loss: 0.026166465133428574 | Accuracy: 100.0%\n",
      " | Epoch 3 | Loss: 0.0184063408523798 | Accuracy: 100.0%\n",
      " | Epoch 3 | Loss: 0.6568211913108826 | Accuracy: 98.4375%\n",
      " | Epoch 3 | Loss: 0.022367805242538452 | Accuracy: 100.0%\n",
      " | Epoch 3 | Loss: 0.12525886297225952 | Accuracy: 98.4375%\n"
     ]
    },
    {
     "name": "stderr",
     "output_type": "stream",
     "text": [
      "Epoch 3:   7%|██▎                              | 53/751 [00:00<00:07, 95.45batch/s, accuracy=100.0%, loss=0.012]"
     ]
    },
    {
     "name": "stdout",
     "output_type": "stream",
     "text": [
      " | Epoch 3 | Loss: 0.014143782667815685 | Accuracy: 100.0%\n",
      " | Epoch 3 | Loss: 0.02947377972304821 | Accuracy: 98.4375%\n",
      " | Epoch 3 | Loss: 0.012375127524137497 | Accuracy: 100.0%\n",
      " | Epoch 3 | Loss: 0.019904322922229767 | Accuracy: 98.4375%\n",
      " | Epoch 3 | Loss: 0.01622096635401249 | Accuracy: 100.0%\n",
      " | Epoch 3 | Loss: 0.00905682984739542 | Accuracy: 100.0%\n",
      " | Epoch 3 | Loss: 0.03034333698451519 | Accuracy: 100.0%\n",
      " | Epoch 3 | Loss: 0.0076899356208741665 | Accuracy: 100.0%\n",
      " | Epoch 3 | Loss: 0.03346114978194237 | Accuracy: 100.0%\n",
      " | Epoch 3 | Loss: 0.010837403126060963 | Accuracy: 100.0%\n",
      " | Epoch 3 | Loss: 0.012819105759263039 | Accuracy: 100.0%\n",
      " | Epoch 3 | Loss: 0.019808806478977203 | Accuracy: 100.0%\n",
      " | Epoch 3 | Loss: 0.29044821858406067 | Accuracy: 98.4375%\n",
      " | Epoch 3 | Loss: 0.013676803559064865 | Accuracy: 100.0%\n",
      " | Epoch 3 | Loss: 0.021207861602306366 | Accuracy: 100.0%\n",
      " | Epoch 3 | Loss: 0.017372358590364456 | Accuracy: 100.0%\n",
      " | Epoch 3 | Loss: 0.012022299692034721 | Accuracy: 100.0%\n"
     ]
    },
    {
     "name": "stderr",
     "output_type": "stream",
     "text": [
      "Epoch 3:   9%|██▋                             | 64/751 [00:00<00:06, 99.23batch/s, accuracy=96.875%, loss=0.034]"
     ]
    },
    {
     "name": "stdout",
     "output_type": "stream",
     "text": [
      " | Epoch 3 | Loss: 1.0043271780014038 | Accuracy: 98.4375%\n",
      " | Epoch 3 | Loss: 0.011094853281974792 | Accuracy: 100.0%\n",
      " | Epoch 3 | Loss: 0.025432448834180832 | Accuracy: 100.0%\n",
      " | Epoch 3 | Loss: 0.03400497883558273 | Accuracy: 96.875%\n"
     ]
    },
    {
     "name": "stderr",
     "output_type": "stream",
     "text": [
      "Epoch 3:  10%|███▏                            | 75/751 [00:00<00:06, 98.68batch/s, accuracy=100.0%, loss=0.0194]"
     ]
    },
    {
     "name": "stdout",
     "output_type": "stream",
     "text": [
      " | Epoch 3 | Loss: 0.012499249540269375 | Accuracy: 100.0%\n",
      " | Epoch 3 | Loss: 0.008467585779726505 | Accuracy: 100.0%\n",
      " | Epoch 3 | Loss: 0.013991809450089931 | Accuracy: 100.0%\n",
      " | Epoch 3 | Loss: 0.014044162817299366 | Accuracy: 100.0%\n",
      " | Epoch 3 | Loss: 0.03752157837152481 | Accuracy: 100.0%\n",
      " | Epoch 3 | Loss: 0.020659999921917915 | Accuracy: 100.0%\n",
      " | Epoch 3 | Loss: 0.4562439024448395 | Accuracy: 95.3125%\n",
      " | Epoch 3 | Loss: 0.013384386897087097 | Accuracy: 100.0%\n",
      " | Epoch 3 | Loss: 0.03466958552598953 | Accuracy: 98.4375%\n",
      " | Epoch 3 | Loss: 0.010137836448848248 | Accuracy: 100.0%\n",
      " | Epoch 3 | Loss: 0.01904725842177868 | Accuracy: 100.0%\n",
      " | Epoch 3 | Loss: 0.007479803636670113 | Accuracy: 100.0%\n",
      " | Epoch 3 | Loss: 0.0149303637444973 | Accuracy: 100.0%\n",
      " | Epoch 3 | Loss: 0.010441659018397331 | Accuracy: 100.0%\n",
      " | Epoch 3 | Loss: 0.01937231980264187 | Accuracy: 100.0%\n"
     ]
    },
    {
     "name": "stderr",
     "output_type": "stream",
     "text": [
      "Epoch 3:  11%|███▌                            | 85/751 [00:00<00:06, 95.49batch/s, accuracy=100.0%, loss=0.0102]"
     ]
    },
    {
     "name": "stdout",
     "output_type": "stream",
     "text": [
      " | Epoch 3 | Loss: 0.018322523683309555 | Accuracy: 100.0%\n",
      " | Epoch 3 | Loss: 0.011844663880765438 | Accuracy: 100.0%\n",
      " | Epoch 3 | Loss: 0.17248864471912384 | Accuracy: 100.0%\n",
      " | Epoch 3 | Loss: 0.010226767510175705 | Accuracy: 100.0%\n"
     ]
    },
    {
     "name": "stderr",
     "output_type": "stream",
     "text": [
      "Epoch 3:  13%|███▊                          | 97/751 [00:01<00:06, 99.31batch/s, accuracy=98.4375%, loss=0.0911]"
     ]
    },
    {
     "name": "stdout",
     "output_type": "stream",
     "text": [
      " | Epoch 3 | Loss: 0.01726325787603855 | Accuracy: 100.0%\n",
      " | Epoch 3 | Loss: 0.011970695108175278 | Accuracy: 100.0%\n",
      " | Epoch 3 | Loss: 0.05922650918364525 | Accuracy: 98.4375%\n",
      " | Epoch 3 | Loss: 0.008170576766133308 | Accuracy: 100.0%\n",
      " | Epoch 3 | Loss: 0.006879825610667467 | Accuracy: 100.0%\n",
      " | Epoch 3 | Loss: 0.1071290671825409 | Accuracy: 98.4375%\n",
      " | Epoch 3 | Loss: 0.005933540873229504 | Accuracy: 100.0%\n",
      " | Epoch 3 | Loss: 0.013835364952683449 | Accuracy: 100.0%\n",
      " | Epoch 3 | Loss: 0.008866293355822563 | Accuracy: 100.0%\n",
      " | Epoch 3 | Loss: 0.012263597920536995 | Accuracy: 100.0%\n",
      " | Epoch 3 | Loss: 0.005979891866445541 | Accuracy: 100.0%\n",
      " | Epoch 3 | Loss: 0.026777423918247223 | Accuracy: 100.0%\n",
      " | Epoch 3 | Loss: 0.0188734233379364 | Accuracy: 100.0%\n",
      " | Epoch 3 | Loss: 0.00797821395099163 | Accuracy: 100.0%\n",
      " | Epoch 3 | Loss: 0.0069358088076114655 | Accuracy: 100.0%\n",
      " | Epoch 3 | Loss: 0.018686756491661072 | Accuracy: 100.0%\n",
      " | Epoch 3 | Loss: 0.008437270298600197 | Accuracy: 100.0%\n",
      " | Epoch 3 | Loss: 0.09112224727869034 | Accuracy: 98.4375%\n"
     ]
    },
    {
     "name": "stderr",
     "output_type": "stream",
     "text": [
      "Epoch 3:  14%|████▏                        | 108/751 [00:01<00:06, 102.02batch/s, accuracy=100.0%, loss=0.00572]"
     ]
    },
    {
     "name": "stdout",
     "output_type": "stream",
     "text": [
      " | Epoch 3 | Loss: 0.005887501873075962 | Accuracy: 100.0%\n",
      " | Epoch 3 | Loss: 0.02131347358226776 | Accuracy: 100.0%\n",
      " | Epoch 3 | Loss: 0.013749117031693459 | Accuracy: 100.0%\n",
      " | Epoch 3 | Loss: 0.0057200780138373375 | Accuracy: 100.0%\n"
     ]
    },
    {
     "name": "stderr",
     "output_type": "stream",
     "text": [
      "Epoch 3:  16%|████▌                        | 119/751 [00:01<00:06, 103.61batch/s, accuracy=100.0%, loss=0.00701]"
     ]
    },
    {
     "name": "stdout",
     "output_type": "stream",
     "text": [
      " | Epoch 3 | Loss: 0.0039080483838915825 | Accuracy: 100.0%\n",
      " | Epoch 3 | Loss: 0.004971000365912914 | Accuracy: 100.0%\n",
      " | Epoch 3 | Loss: 0.010062413290143013 | Accuracy: 100.0%\n",
      " | Epoch 3 | Loss: 0.008950206451117992 | Accuracy: 100.0%\n",
      " | Epoch 3 | Loss: 0.013034440577030182 | Accuracy: 100.0%\n",
      " | Epoch 3 | Loss: 0.03567378595471382 | Accuracy: 100.0%\n",
      " | Epoch 3 | Loss: 0.02125178650021553 | Accuracy: 100.0%\n",
      " | Epoch 3 | Loss: 0.05105728283524513 | Accuracy: 100.0%\n",
      " | Epoch 3 | Loss: 0.012483430095016956 | Accuracy: 98.4375%\n",
      " | Epoch 3 | Loss: 0.008423727005720139 | Accuracy: 100.0%\n",
      " | Epoch 3 | Loss: 0.0060383109375834465 | Accuracy: 100.0%\n",
      " | Epoch 3 | Loss: 0.009005701169371605 | Accuracy: 100.0%\n",
      " | Epoch 3 | Loss: 0.008693020790815353 | Accuracy: 100.0%\n",
      " | Epoch 3 | Loss: 0.004952560178935528 | Accuracy: 100.0%\n",
      " | Epoch 3 | Loss: 0.007348272018134594 | Accuracy: 100.0%\n",
      " | Epoch 3 | Loss: 0.006226212251931429 | Accuracy: 100.0%\n",
      " | Epoch 3 | Loss: 0.007013364695012569 | Accuracy: 100.0%\n"
     ]
    },
    {
     "name": "stderr",
     "output_type": "stream",
     "text": [
      "Epoch 3:  16%|████▌                        | 119/751 [00:01<00:06, 103.61batch/s, accuracy=100.0%, loss=0.00313]"
     ]
    },
    {
     "name": "stdout",
     "output_type": "stream",
     "text": [
      " | Epoch 3 | Loss: 0.006460247561335564 | Accuracy: 100.0%\n",
      " | Epoch 3 | Loss: 0.005805288441479206 | Accuracy: 100.0%\n",
      " | Epoch 3 | Loss: 0.013092659413814545 | Accuracy: 100.0%\n",
      " | Epoch 3 | Loss: 0.003130844794213772 | Accuracy: 100.0%\n"
     ]
    },
    {
     "name": "stderr",
     "output_type": "stream",
     "text": [
      "Epoch 3:  19%|█████▋                        | 141/751 [00:01<00:05, 102.34batch/s, accuracy=100.0%, loss=0.0094]"
     ]
    },
    {
     "name": "stdout",
     "output_type": "stream",
     "text": [
      " | Epoch 3 | Loss: 0.12977884709835052 | Accuracy: 98.4375%\n",
      " | Epoch 3 | Loss: 0.0031603360548615456 | Accuracy: 100.0%\n",
      " | Epoch 3 | Loss: 0.005707512143999338 | Accuracy: 100.0%\n",
      " | Epoch 3 | Loss: 0.004717870615422726 | Accuracy: 100.0%\n",
      " | Epoch 3 | Loss: 0.00817757099866867 | Accuracy: 100.0%\n",
      " | Epoch 3 | Loss: 0.03675529733300209 | Accuracy: 100.0%\n",
      " | Epoch 3 | Loss: 0.011388212442398071 | Accuracy: 100.0%\n",
      " | Epoch 3 | Loss: 0.006652917712926865 | Accuracy: 100.0%\n",
      " | Epoch 3 | Loss: 0.006954715587198734 | Accuracy: 100.0%\n",
      " | Epoch 3 | Loss: 0.03856347128748894 | Accuracy: 98.4375%\n",
      " | Epoch 3 | Loss: 0.012691142968833447 | Accuracy: 100.0%\n",
      " | Epoch 3 | Loss: 0.004675686359405518 | Accuracy: 100.0%\n",
      " | Epoch 3 | Loss: 0.0026315164286643267 | Accuracy: 100.0%\n",
      " | Epoch 3 | Loss: 0.09510010480880737 | Accuracy: 98.4375%\n",
      " | Epoch 3 | Loss: 0.004686145111918449 | Accuracy: 100.0%\n",
      " | Epoch 3 | Loss: 0.25941818952560425 | Accuracy: 95.3125%\n",
      " | Epoch 3 | Loss: 0.003483912441879511 | Accuracy: 100.0%\n",
      " | Epoch 3 | Loss: 0.00940166786313057 | Accuracy: 100.0%\n"
     ]
    },
    {
     "name": "stderr",
     "output_type": "stream",
     "text": [
      "Epoch 3:  19%|█████▍                       | 141/751 [00:01<00:05, 102.34batch/s, accuracy=98.4375%, loss=0.339]"
     ]
    },
    {
     "name": "stdout",
     "output_type": "stream",
     "text": [
      " | Epoch 3 | Loss: 0.0037617802154272795 | Accuracy: 100.0%\n",
      " | Epoch 3 | Loss: 0.0051497421227395535 | Accuracy: 100.0%\n",
      " | Epoch 3 | Loss: 0.26648855209350586 | Accuracy: 96.875%\n"
     ]
    },
    {
     "name": "stderr",
     "output_type": "stream",
     "text": [
      "Epoch 3:  22%|██████▎                      | 163/751 [00:01<00:05, 103.89batch/s, accuracy=100.0%, loss=0.00501]"
     ]
    },
    {
     "name": "stdout",
     "output_type": "stream",
     "text": [
      " | Epoch 3 | Loss: 0.3385353088378906 | Accuracy: 98.4375%\n",
      " | Epoch 3 | Loss: 0.0043484242632985115 | Accuracy: 100.0%\n",
      " | Epoch 3 | Loss: 0.004572565667331219 | Accuracy: 100.0%\n",
      " | Epoch 3 | Loss: 0.005373673047870398 | Accuracy: 100.0%\n",
      " | Epoch 3 | Loss: 0.004677268210798502 | Accuracy: 100.0%\n",
      " | Epoch 3 | Loss: 0.007952334359288216 | Accuracy: 100.0%\n",
      " | Epoch 3 | Loss: 0.0056093186140060425 | Accuracy: 100.0%\n",
      " | Epoch 3 | Loss: 0.009824198670685291 | Accuracy: 100.0%\n",
      " | Epoch 3 | Loss: 0.0048526134341955185 | Accuracy: 100.0%\n",
      " | Epoch 3 | Loss: 0.007471646182239056 | Accuracy: 100.0%\n",
      " | Epoch 3 | Loss: 0.009745102375745773 | Accuracy: 100.0%\n",
      " | Epoch 3 | Loss: 0.006078985519707203 | Accuracy: 100.0%\n",
      " | Epoch 3 | Loss: 0.003616069909185171 | Accuracy: 100.0%\n",
      " | Epoch 3 | Loss: 0.007237659767270088 | Accuracy: 100.0%\n",
      " | Epoch 3 | Loss: 0.008944840170443058 | Accuracy: 100.0%\n",
      " | Epoch 3 | Loss: 0.020194901153445244 | Accuracy: 98.4375%\n",
      " | Epoch 3 | Loss: 0.015452689491212368 | Accuracy: 100.0%\n",
      " | Epoch 3 | Loss: 0.00680932030081749 | Accuracy: 100.0%\n",
      " | Epoch 3 | Loss: 0.005008765496313572 | Accuracy: 100.0%\n"
     ]
    },
    {
     "name": "stderr",
     "output_type": "stream",
     "text": [
      "Epoch 3:  22%|██████▎                      | 163/751 [00:01<00:05, 103.89batch/s, accuracy=100.0%, loss=0.00461]"
     ]
    },
    {
     "name": "stdout",
     "output_type": "stream",
     "text": [
      " | Epoch 3 | Loss: 0.007489888463169336 | Accuracy: 100.0%\n",
      " | Epoch 3 | Loss: 0.0049891965463757515 | Accuracy: 100.0%\n",
      " | Epoch 3 | Loss: 0.004610880743712187 | Accuracy: 100.0%\n"
     ]
    },
    {
     "name": "stderr",
     "output_type": "stream",
     "text": [
      "Epoch 3:  25%|███████▏                     | 186/751 [00:01<00:05, 106.58batch/s, accuracy=100.0%, loss=0.00952]"
     ]
    },
    {
     "name": "stdout",
     "output_type": "stream",
     "text": [
      " | Epoch 3 | Loss: 0.006393704563379288 | Accuracy: 100.0%\n",
      " | Epoch 3 | Loss: 0.02974841743707657 | Accuracy: 100.0%\n",
      " | Epoch 3 | Loss: 0.005499855615198612 | Accuracy: 100.0%\n",
      " | Epoch 3 | Loss: 0.006537755951285362 | Accuracy: 100.0%\n",
      " | Epoch 3 | Loss: 0.25000426173210144 | Accuracy: 98.4375%\n",
      " | Epoch 3 | Loss: 0.0061914557591080666 | Accuracy: 100.0%\n",
      " | Epoch 3 | Loss: 0.011370186693966389 | Accuracy: 100.0%\n",
      " | Epoch 3 | Loss: 0.010997393168509007 | Accuracy: 100.0%\n",
      " | Epoch 3 | Loss: 0.013953074812889099 | Accuracy: 100.0%\n",
      " | Epoch 3 | Loss: 0.7143158316612244 | Accuracy: 98.4375%\n",
      " | Epoch 3 | Loss: 0.015937037765979767 | Accuracy: 100.0%\n",
      " | Epoch 3 | Loss: 0.0043461741879582405 | Accuracy: 100.0%\n",
      " | Epoch 3 | Loss: 0.005492027848958969 | Accuracy: 100.0%\n",
      " | Epoch 3 | Loss: 0.014638960361480713 | Accuracy: 100.0%\n",
      " | Epoch 3 | Loss: 0.010206125676631927 | Accuracy: 100.0%\n",
      " | Epoch 3 | Loss: 0.019602816551923752 | Accuracy: 98.4375%\n",
      " | Epoch 3 | Loss: 0.017454717308282852 | Accuracy: 98.4375%\n",
      " | Epoch 3 | Loss: 0.06600689888000488 | Accuracy: 98.4375%\n",
      " | Epoch 3 | Loss: 0.009516267105937004 | Accuracy: 100.0%\n"
     ]
    },
    {
     "name": "stderr",
     "output_type": "stream",
     "text": [
      "Epoch 3:  25%|███████▍                      | 186/751 [00:02<00:05, 106.58batch/s, accuracy=100.0%, loss=0.0199]"
     ]
    },
    {
     "name": "stdout",
     "output_type": "stream",
     "text": [
      " | Epoch 3 | Loss: 0.032796185463666916 | Accuracy: 100.0%\n",
      " | Epoch 3 | Loss: 0.05063431337475777 | Accuracy: 100.0%\n",
      " | Epoch 3 | Loss: 0.019889265298843384 | Accuracy: 100.0%\n"
     ]
    },
    {
     "name": "stderr",
     "output_type": "stream",
     "text": [
      "Epoch 3:  28%|████████                     | 208/751 [00:02<00:05, 106.70batch/s, accuracy=100.0%, loss=0.00807]"
     ]
    },
    {
     "name": "stdout",
     "output_type": "stream",
     "text": [
      " | Epoch 3 | Loss: 0.012390362098813057 | Accuracy: 100.0%\n",
      " | Epoch 3 | Loss: 0.011780046857893467 | Accuracy: 100.0%\n",
      " | Epoch 3 | Loss: 0.02030899003148079 | Accuracy: 100.0%\n",
      " | Epoch 3 | Loss: 0.010470878332853317 | Accuracy: 100.0%\n",
      " | Epoch 3 | Loss: 0.047983914613723755 | Accuracy: 100.0%\n",
      " | Epoch 3 | Loss: 0.007900828495621681 | Accuracy: 100.0%\n",
      " | Epoch 3 | Loss: 0.010420838370919228 | Accuracy: 100.0%\n",
      " | Epoch 3 | Loss: 0.07210207730531693 | Accuracy: 98.4375%\n",
      " | Epoch 3 | Loss: 0.006199196446686983 | Accuracy: 100.0%\n",
      " | Epoch 3 | Loss: 0.00720607303082943 | Accuracy: 100.0%\n",
      " | Epoch 3 | Loss: 0.004353339783847332 | Accuracy: 100.0%\n",
      " | Epoch 3 | Loss: 0.09274359792470932 | Accuracy: 98.4375%\n",
      " | Epoch 3 | Loss: 0.06487837433815002 | Accuracy: 100.0%\n",
      " | Epoch 3 | Loss: 0.008907362818717957 | Accuracy: 100.0%\n",
      " | Epoch 3 | Loss: 0.008885396644473076 | Accuracy: 100.0%\n",
      " | Epoch 3 | Loss: 0.007032813969999552 | Accuracy: 100.0%\n",
      " | Epoch 3 | Loss: 0.00823179166764021 | Accuracy: 100.0%\n",
      " | Epoch 3 | Loss: 0.008074264973402023 | Accuracy: 100.0%\n"
     ]
    },
    {
     "name": "stderr",
     "output_type": "stream",
     "text": [
      "Epoch 3:  28%|████████▎                     | 208/751 [00:02<00:05, 106.70batch/s, accuracy=100.0%, loss=0.0188]"
     ]
    },
    {
     "name": "stdout",
     "output_type": "stream",
     "text": [
      " | Epoch 3 | Loss: 0.36622095108032227 | Accuracy: 96.875%\n",
      " | Epoch 3 | Loss: 0.01878298819065094 | Accuracy: 100.0%\n"
     ]
    },
    {
     "name": "stderr",
     "output_type": "stream",
     "text": [
      "Epoch 3:  31%|████████▉                    | 230/751 [00:02<00:04, 105.15batch/s, accuracy=98.4375%, loss=0.103]"
     ]
    },
    {
     "name": "stdout",
     "output_type": "stream",
     "text": [
      " | Epoch 3 | Loss: 0.010714616626501083 | Accuracy: 100.0%\n",
      " | Epoch 3 | Loss: 0.009006410837173462 | Accuracy: 100.0%\n",
      " | Epoch 3 | Loss: 0.005316602997481823 | Accuracy: 100.0%\n",
      " | Epoch 3 | Loss: 0.012650406919419765 | Accuracy: 100.0%\n",
      " | Epoch 3 | Loss: 0.0028833597898483276 | Accuracy: 100.0%\n",
      " | Epoch 3 | Loss: 0.004565973300486803 | Accuracy: 100.0%\n",
      " | Epoch 3 | Loss: 0.007016469724476337 | Accuracy: 100.0%\n",
      " | Epoch 3 | Loss: 0.005853502079844475 | Accuracy: 100.0%\n",
      " | Epoch 3 | Loss: 0.004763504024595022 | Accuracy: 100.0%\n",
      " | Epoch 3 | Loss: 0.0062781875021755695 | Accuracy: 100.0%\n",
      " | Epoch 3 | Loss: 0.006439694669097662 | Accuracy: 100.0%\n",
      " | Epoch 3 | Loss: 0.3256841003894806 | Accuracy: 96.875%\n",
      " | Epoch 3 | Loss: 0.010736321099102497 | Accuracy: 100.0%\n",
      " | Epoch 3 | Loss: 0.004113512113690376 | Accuracy: 100.0%\n",
      " | Epoch 3 | Loss: 0.004852104466408491 | Accuracy: 100.0%\n",
      " | Epoch 3 | Loss: 0.006422449368983507 | Accuracy: 100.0%\n",
      " | Epoch 3 | Loss: 0.10120587795972824 | Accuracy: 98.4375%\n",
      " | Epoch 3 | Loss: 0.005575896706432104 | Accuracy: 100.0%\n",
      " | Epoch 3 | Loss: 0.0032203602604568005 | Accuracy: 100.0%\n",
      " | Epoch 3 | Loss: 0.10285607725381851 | Accuracy: 98.4375%\n"
     ]
    },
    {
     "name": "stderr",
     "output_type": "stream",
     "text": [
      "Epoch 3:  31%|████████▉                    | 230/751 [00:02<00:04, 105.15batch/s, accuracy=100.0%, loss=0.00357]"
     ]
    },
    {
     "name": "stdout",
     "output_type": "stream",
     "text": [
      " | Epoch 3 | Loss: 0.03102084994316101 | Accuracy: 96.875%\n",
      " | Epoch 3 | Loss: 0.003569014836102724 | Accuracy: 100.0%\n"
     ]
    },
    {
     "name": "stderr",
     "output_type": "stream",
     "text": [
      "Epoch 3:  34%|█████████▊                   | 253/751 [00:02<00:04, 106.45batch/s, accuracy=100.0%, loss=0.00409]"
     ]
    },
    {
     "name": "stdout",
     "output_type": "stream",
     "text": [
      " | Epoch 3 | Loss: 0.008504725992679596 | Accuracy: 100.0%\n",
      " | Epoch 3 | Loss: 0.008258120156824589 | Accuracy: 100.0%\n",
      " | Epoch 3 | Loss: 0.003190962364897132 | Accuracy: 100.0%\n",
      " | Epoch 3 | Loss: 0.0160312931984663 | Accuracy: 100.0%\n",
      " | Epoch 3 | Loss: 0.008674482814967632 | Accuracy: 100.0%\n",
      " | Epoch 3 | Loss: 0.0516388863325119 | Accuracy: 98.4375%\n",
      " | Epoch 3 | Loss: 0.007391698658466339 | Accuracy: 100.0%\n",
      " | Epoch 3 | Loss: 0.00856224074959755 | Accuracy: 100.0%\n",
      " | Epoch 3 | Loss: 0.01762409880757332 | Accuracy: 100.0%\n",
      " | Epoch 3 | Loss: 0.004135065712034702 | Accuracy: 100.0%\n",
      " | Epoch 3 | Loss: 0.05742247775197029 | Accuracy: 100.0%\n",
      " | Epoch 3 | Loss: 0.005554112605750561 | Accuracy: 100.0%\n",
      " | Epoch 3 | Loss: 0.0498800128698349 | Accuracy: 98.4375%\n",
      " | Epoch 3 | Loss: 0.004767908714711666 | Accuracy: 100.0%\n",
      " | Epoch 3 | Loss: 0.23373404145240784 | Accuracy: 98.4375%\n",
      " | Epoch 3 | Loss: 0.0039443508721888065 | Accuracy: 100.0%\n",
      " | Epoch 3 | Loss: 0.02609863318502903 | Accuracy: 100.0%\n",
      " | Epoch 3 | Loss: 0.008086012676358223 | Accuracy: 100.0%\n",
      " | Epoch 3 | Loss: 0.08647507429122925 | Accuracy: 98.4375%\n",
      " | Epoch 3 | Loss: 0.004091374576091766 | Accuracy: 100.0%\n"
     ]
    },
    {
     "name": "stderr",
     "output_type": "stream",
     "text": [
      "Epoch 3:  34%|█████████▊                   | 253/751 [00:02<00:04, 106.45batch/s, accuracy=100.0%, loss=0.00393]"
     ]
    },
    {
     "name": "stdout",
     "output_type": "stream",
     "text": [
      " | Epoch 3 | Loss: 0.012290505692362785 | Accuracy: 100.0%\n",
      " | Epoch 3 | Loss: 0.00392507016658783 | Accuracy: 100.0%\n"
     ]
    },
    {
     "name": "stderr",
     "output_type": "stream",
     "text": [
      "Epoch 3:  37%|██████████▌                  | 275/751 [00:02<00:04, 106.62batch/s, accuracy=98.4375%, loss=0.254]"
     ]
    },
    {
     "name": "stdout",
     "output_type": "stream",
     "text": [
      " | Epoch 3 | Loss: 0.009053814224898815 | Accuracy: 100.0%\n",
      " | Epoch 3 | Loss: 0.015839967876672745 | Accuracy: 100.0%\n",
      " | Epoch 3 | Loss: 0.23638904094696045 | Accuracy: 96.875%\n",
      " | Epoch 3 | Loss: 0.015905408188700676 | Accuracy: 100.0%\n",
      " | Epoch 3 | Loss: 0.012453886680305004 | Accuracy: 100.0%\n",
      " | Epoch 3 | Loss: 0.010047150775790215 | Accuracy: 100.0%\n",
      " | Epoch 3 | Loss: 0.004350942559540272 | Accuracy: 100.0%\n",
      " | Epoch 3 | Loss: 0.004158717580139637 | Accuracy: 100.0%\n",
      " | Epoch 3 | Loss: 0.007591371424496174 | Accuracy: 100.0%\n",
      " | Epoch 3 | Loss: 0.01156960055232048 | Accuracy: 100.0%\n",
      " | Epoch 3 | Loss: 0.010373520664870739 | Accuracy: 100.0%\n",
      " | Epoch 3 | Loss: 0.14472240209579468 | Accuracy: 98.4375%\n",
      " | Epoch 3 | Loss: 0.01249769702553749 | Accuracy: 98.4375%\n",
      " | Epoch 3 | Loss: 0.0076208775863051414 | Accuracy: 100.0%\n",
      " | Epoch 3 | Loss: 0.015497478656470776 | Accuracy: 100.0%\n",
      " | Epoch 3 | Loss: 0.00832457561045885 | Accuracy: 100.0%\n",
      " | Epoch 3 | Loss: 0.008048349991440773 | Accuracy: 100.0%\n",
      " | Epoch 3 | Loss: 0.02536294050514698 | Accuracy: 100.0%\n",
      " | Epoch 3 | Loss: 0.01557505689561367 | Accuracy: 100.0%\n",
      " | Epoch 3 | Loss: 0.25412318110466003 | Accuracy: 98.4375%\n"
     ]
    },
    {
     "name": "stderr",
     "output_type": "stream",
     "text": [
      "Epoch 3:  37%|██████████▌                  | 275/751 [00:02<00:04, 106.62batch/s, accuracy=100.0%, loss=0.00489]"
     ]
    },
    {
     "name": "stdout",
     "output_type": "stream",
     "text": [
      " | Epoch 3 | Loss: 0.032177992165088654 | Accuracy: 98.4375%\n",
      " | Epoch 3 | Loss: 0.004886351525783539 | Accuracy: 100.0%\n"
     ]
    },
    {
     "name": "stderr",
     "output_type": "stream",
     "text": [
      "Epoch 3:  40%|███████████▍                 | 297/751 [00:03<00:04, 105.08batch/s, accuracy=100.0%, loss=0.00455]"
     ]
    },
    {
     "name": "stdout",
     "output_type": "stream",
     "text": [
      " | Epoch 3 | Loss: 0.007305849809199572 | Accuracy: 100.0%\n",
      " | Epoch 3 | Loss: 0.006884526927024126 | Accuracy: 100.0%\n",
      " | Epoch 3 | Loss: 0.08702646940946579 | Accuracy: 98.4375%\n",
      " | Epoch 3 | Loss: 0.003724252339452505 | Accuracy: 100.0%\n",
      " | Epoch 3 | Loss: 0.0026907045394182205 | Accuracy: 100.0%\n",
      " | Epoch 3 | Loss: 0.5958948135375977 | Accuracy: 96.875%\n",
      " | Epoch 3 | Loss: 0.00492866151034832 | Accuracy: 100.0%\n",
      " | Epoch 3 | Loss: 0.05054466798901558 | Accuracy: 98.4375%\n",
      " | Epoch 3 | Loss: 0.2556416392326355 | Accuracy: 98.4375%\n",
      " | Epoch 3 | Loss: 0.004074296448379755 | Accuracy: 100.0%\n",
      " | Epoch 3 | Loss: 0.006287478841841221 | Accuracy: 100.0%\n",
      " | Epoch 3 | Loss: 0.01817374862730503 | Accuracy: 100.0%\n",
      " | Epoch 3 | Loss: 0.009562875144183636 | Accuracy: 100.0%\n",
      " | Epoch 3 | Loss: 0.06712343543767929 | Accuracy: 100.0%\n",
      " | Epoch 3 | Loss: 0.010428177192807198 | Accuracy: 100.0%\n",
      " | Epoch 3 | Loss: 0.009197701700031757 | Accuracy: 100.0%\n",
      " | Epoch 3 | Loss: 0.011516658589243889 | Accuracy: 100.0%\n",
      " | Epoch 3 | Loss: 0.016991067677736282 | Accuracy: 100.0%\n",
      " | Epoch 3 | Loss: 0.35005682706832886 | Accuracy: 96.875%\n",
      " | Epoch 3 | Loss: 0.004553473554551601 | Accuracy: 100.0%\n"
     ]
    },
    {
     "name": "stderr",
     "output_type": "stream",
     "text": [
      "Epoch 3:  40%|███████████▍                 | 297/751 [00:03<00:04, 105.08batch/s, accuracy=95.3125%, loss=0.415]"
     ]
    },
    {
     "name": "stdout",
     "output_type": "stream",
     "text": [
      " | Epoch 3 | Loss: 0.019976070150732994 | Accuracy: 100.0%\n"
     ]
    },
    {
     "name": "stderr",
     "output_type": "stream",
     "text": [
      "Epoch 3:  42%|███████████▉                | 319/751 [00:03<00:04, 104.42batch/s, accuracy=98.4375%, loss=0.0356]"
     ]
    },
    {
     "name": "stdout",
     "output_type": "stream",
     "text": [
      " | Epoch 3 | Loss: 0.41542765498161316 | Accuracy: 95.3125%\n",
      " | Epoch 3 | Loss: 0.06955990195274353 | Accuracy: 98.4375%\n",
      " | Epoch 3 | Loss: 0.15731863677501678 | Accuracy: 98.4375%\n",
      " | Epoch 3 | Loss: 0.25341513752937317 | Accuracy: 95.3125%\n",
      " | Epoch 3 | Loss: 0.02274593710899353 | Accuracy: 100.0%\n",
      " | Epoch 3 | Loss: 0.1022634282708168 | Accuracy: 96.875%\n",
      " | Epoch 3 | Loss: 0.014554429799318314 | Accuracy: 100.0%\n",
      " | Epoch 3 | Loss: 0.08342920243740082 | Accuracy: 96.875%\n",
      " | Epoch 3 | Loss: 0.01948089897632599 | Accuracy: 100.0%\n",
      " | Epoch 3 | Loss: 0.00970718078315258 | Accuracy: 100.0%\n",
      " | Epoch 3 | Loss: 0.005628102459013462 | Accuracy: 100.0%\n",
      " | Epoch 3 | Loss: 0.012437945231795311 | Accuracy: 100.0%\n",
      " | Epoch 3 | Loss: 0.01850694976747036 | Accuracy: 100.0%\n",
      " | Epoch 3 | Loss: 0.008001584559679031 | Accuracy: 100.0%\n",
      " | Epoch 3 | Loss: 0.005715133622288704 | Accuracy: 100.0%\n",
      " | Epoch 3 | Loss: 0.011123815551400185 | Accuracy: 100.0%\n",
      " | Epoch 3 | Loss: 0.007126291282474995 | Accuracy: 100.0%\n",
      " | Epoch 3 | Loss: 0.028022829443216324 | Accuracy: 100.0%\n",
      " | Epoch 3 | Loss: 0.018779247999191284 | Accuracy: 100.0%\n",
      " | Epoch 3 | Loss: 0.03561463579535484 | Accuracy: 98.4375%\n"
     ]
    },
    {
     "name": "stderr",
     "output_type": "stream",
     "text": [
      "Epoch 3:  42%|████████████▋                 | 319/751 [00:03<00:04, 104.42batch/s, accuracy=100.0%, loss=0.0047]"
     ]
    },
    {
     "name": "stdout",
     "output_type": "stream",
     "text": [
      " | Epoch 3 | Loss: 0.004702125675976276 | Accuracy: 100.0%\n"
     ]
    },
    {
     "name": "stderr",
     "output_type": "stream",
     "text": [
      "Epoch 3:  45%|█████████████▏               | 341/751 [00:03<00:03, 105.44batch/s, accuracy=100.0%, loss=0.00739]"
     ]
    },
    {
     "name": "stdout",
     "output_type": "stream",
     "text": [
      " | Epoch 3 | Loss: 0.004376235418021679 | Accuracy: 100.0%\n",
      " | Epoch 3 | Loss: 0.00919589214026928 | Accuracy: 100.0%\n",
      " | Epoch 3 | Loss: 0.01090129092335701 | Accuracy: 100.0%\n",
      " | Epoch 3 | Loss: 0.027441713958978653 | Accuracy: 98.4375%\n",
      " | Epoch 3 | Loss: 0.00879708956927061 | Accuracy: 100.0%\n",
      " | Epoch 3 | Loss: 0.006459444761276245 | Accuracy: 100.0%\n",
      " | Epoch 3 | Loss: 0.008554209023714066 | Accuracy: 100.0%\n",
      " | Epoch 3 | Loss: 0.010675054043531418 | Accuracy: 100.0%\n",
      " | Epoch 3 | Loss: 0.007591480389237404 | Accuracy: 100.0%\n",
      " | Epoch 3 | Loss: 0.002552533522248268 | Accuracy: 100.0%\n",
      " | Epoch 3 | Loss: 0.008157460018992424 | Accuracy: 98.4375%\n",
      " | Epoch 3 | Loss: 0.006554674822837114 | Accuracy: 100.0%\n",
      " | Epoch 3 | Loss: 0.006503111217170954 | Accuracy: 100.0%\n",
      " | Epoch 3 | Loss: 0.003327925456687808 | Accuracy: 100.0%\n",
      " | Epoch 3 | Loss: 0.018713992089033127 | Accuracy: 98.4375%\n",
      " | Epoch 3 | Loss: 0.00896824337542057 | Accuracy: 100.0%\n",
      " | Epoch 3 | Loss: 0.002361573278903961 | Accuracy: 100.0%\n",
      " | Epoch 3 | Loss: 0.33198118209838867 | Accuracy: 98.4375%\n",
      " | Epoch 3 | Loss: 0.005539523437619209 | Accuracy: 100.0%\n",
      " | Epoch 3 | Loss: 0.01044541411101818 | Accuracy: 100.0%\n",
      " | Epoch 3 | Loss: 0.007387139834463596 | Accuracy: 100.0%\n"
     ]
    },
    {
     "name": "stderr",
     "output_type": "stream",
     "text": [
      "Epoch 3:  45%|█████████████▏               | 341/751 [00:03<00:03, 105.44batch/s, accuracy=100.0%, loss=0.00374]"
     ]
    },
    {
     "name": "stdout",
     "output_type": "stream",
     "text": [
      " | Epoch 3 | Loss: 0.003742458764463663 | Accuracy: 100.0%\n"
     ]
    },
    {
     "name": "stderr",
     "output_type": "stream",
     "text": [
      "Epoch 3:  48%|██████████████               | 363/751 [00:03<00:03, 105.99batch/s, accuracy=100.0%, loss=0.00864]"
     ]
    },
    {
     "name": "stdout",
     "output_type": "stream",
     "text": [
      " | Epoch 3 | Loss: 0.00924451183527708 | Accuracy: 100.0%\n",
      " | Epoch 3 | Loss: 0.006959912367165089 | Accuracy: 100.0%\n",
      " | Epoch 3 | Loss: 0.006703592836856842 | Accuracy: 100.0%\n",
      " | Epoch 3 | Loss: 0.007847458124160767 | Accuracy: 100.0%\n",
      " | Epoch 3 | Loss: 0.00696141179651022 | Accuracy: 100.0%\n",
      " | Epoch 3 | Loss: 0.009793235920369625 | Accuracy: 100.0%\n",
      " | Epoch 3 | Loss: 0.010949091985821724 | Accuracy: 100.0%\n",
      " | Epoch 3 | Loss: 0.004623033571988344 | Accuracy: 100.0%\n",
      " | Epoch 3 | Loss: 0.009087266400456429 | Accuracy: 100.0%\n",
      " | Epoch 3 | Loss: 0.006935441866517067 | Accuracy: 100.0%\n",
      " | Epoch 3 | Loss: 0.012406503781676292 | Accuracy: 100.0%\n",
      " | Epoch 3 | Loss: 0.00966305285692215 | Accuracy: 100.0%\n",
      " | Epoch 3 | Loss: 0.17510376870632172 | Accuracy: 96.875%\n",
      " | Epoch 3 | Loss: 0.01699347421526909 | Accuracy: 100.0%\n",
      " | Epoch 3 | Loss: 0.0034026000648736954 | Accuracy: 100.0%\n",
      " | Epoch 3 | Loss: 0.005526747554540634 | Accuracy: 100.0%\n",
      " | Epoch 3 | Loss: 0.010675626806914806 | Accuracy: 100.0%\n",
      " | Epoch 3 | Loss: 0.024579035118222237 | Accuracy: 100.0%\n",
      " | Epoch 3 | Loss: 0.00841365847736597 | Accuracy: 100.0%\n",
      " | Epoch 3 | Loss: 0.004097184631973505 | Accuracy: 100.0%\n",
      " | Epoch 3 | Loss: 0.00864441879093647 | Accuracy: 100.0%\n"
     ]
    },
    {
     "name": "stderr",
     "output_type": "stream",
     "text": [
      "Epoch 3:  48%|██████████████               | 363/751 [00:03<00:03, 105.99batch/s, accuracy=100.0%, loss=0.00155]"
     ]
    },
    {
     "name": "stdout",
     "output_type": "stream",
     "text": [
      " | Epoch 3 | Loss: 0.001550253015011549 | Accuracy: 100.0%\n"
     ]
    },
    {
     "name": "stderr",
     "output_type": "stream",
     "text": [
      "Epoch 3:  51%|██████████████▊              | 385/751 [00:03<00:03, 106.94batch/s, accuracy=98.4375%, loss=0.436]"
     ]
    },
    {
     "name": "stdout",
     "output_type": "stream",
     "text": [
      " | Epoch 3 | Loss: 0.003048448357731104 | Accuracy: 100.0%\n",
      " | Epoch 3 | Loss: 0.9054877758026123 | Accuracy: 98.4375%\n",
      " | Epoch 3 | Loss: 0.006757139228284359 | Accuracy: 100.0%\n",
      " | Epoch 3 | Loss: 0.12815003097057343 | Accuracy: 98.4375%\n",
      " | Epoch 3 | Loss: 0.03706610947847366 | Accuracy: 100.0%\n",
      " | Epoch 3 | Loss: 0.014976506121456623 | Accuracy: 100.0%\n",
      " | Epoch 3 | Loss: 0.041996754705905914 | Accuracy: 100.0%\n",
      " | Epoch 3 | Loss: 0.0741158127784729 | Accuracy: 100.0%\n",
      " | Epoch 3 | Loss: 0.03819720447063446 | Accuracy: 96.875%\n",
      " | Epoch 3 | Loss: 0.044485077261924744 | Accuracy: 100.0%\n",
      " | Epoch 3 | Loss: 0.02043357864022255 | Accuracy: 100.0%\n",
      " | Epoch 3 | Loss: 0.025941677391529083 | Accuracy: 100.0%\n",
      " | Epoch 3 | Loss: 0.00736613292247057 | Accuracy: 100.0%\n",
      " | Epoch 3 | Loss: 0.010206200182437897 | Accuracy: 100.0%\n",
      " | Epoch 3 | Loss: 0.02997221052646637 | Accuracy: 98.4375%\n",
      " | Epoch 3 | Loss: 0.3532959222793579 | Accuracy: 98.4375%\n",
      " | Epoch 3 | Loss: 0.011689084582030773 | Accuracy: 100.0%\n",
      " | Epoch 3 | Loss: 0.017731990665197372 | Accuracy: 100.0%\n",
      " | Epoch 3 | Loss: 0.004798520356416702 | Accuracy: 100.0%\n",
      " | Epoch 3 | Loss: 0.013100937008857727 | Accuracy: 100.0%\n",
      " | Epoch 3 | Loss: 0.4361206591129303 | Accuracy: 98.4375%\n"
     ]
    },
    {
     "name": "stderr",
     "output_type": "stream",
     "text": [
      "Epoch 3:  51%|███████████████▍              | 385/751 [00:03<00:03, 106.94batch/s, accuracy=100.0%, loss=0.0139]"
     ]
    },
    {
     "name": "stdout",
     "output_type": "stream",
     "text": [
      " | Epoch 3 | Loss: 0.013915976509451866 | Accuracy: 100.0%\n"
     ]
    },
    {
     "name": "stderr",
     "output_type": "stream",
     "text": [
      "Epoch 3:  54%|███████████████▋             | 407/751 [00:04<00:03, 106.47batch/s, accuracy=100.0%, loss=0.00746]"
     ]
    },
    {
     "name": "stdout",
     "output_type": "stream",
     "text": [
      " | Epoch 3 | Loss: 0.028487393632531166 | Accuracy: 98.4375%\n",
      " | Epoch 3 | Loss: 0.023245006799697876 | Accuracy: 100.0%\n",
      " | Epoch 3 | Loss: 0.0876234769821167 | Accuracy: 98.4375%\n",
      " | Epoch 3 | Loss: 0.015434624627232552 | Accuracy: 100.0%\n",
      " | Epoch 3 | Loss: 0.052819207310676575 | Accuracy: 98.4375%\n",
      " | Epoch 3 | Loss: 0.05512293055653572 | Accuracy: 96.875%\n",
      " | Epoch 3 | Loss: 0.007558007724583149 | Accuracy: 100.0%\n",
      " | Epoch 3 | Loss: 0.07529381662607193 | Accuracy: 98.4375%\n",
      " | Epoch 3 | Loss: 0.038892053067684174 | Accuracy: 98.4375%\n",
      " | Epoch 3 | Loss: 0.020187867805361748 | Accuracy: 100.0%\n",
      " | Epoch 3 | Loss: 0.018405500799417496 | Accuracy: 100.0%\n",
      " | Epoch 3 | Loss: 0.010275797918438911 | Accuracy: 100.0%\n",
      " | Epoch 3 | Loss: 0.01745588518679142 | Accuracy: 100.0%\n",
      " | Epoch 3 | Loss: 0.054208699613809586 | Accuracy: 100.0%\n",
      " | Epoch 3 | Loss: 0.011525606736540794 | Accuracy: 100.0%\n",
      " | Epoch 3 | Loss: 0.03478826582431793 | Accuracy: 98.4375%\n",
      " | Epoch 3 | Loss: 0.09962210059165955 | Accuracy: 98.4375%\n",
      " | Epoch 3 | Loss: 0.008488789200782776 | Accuracy: 100.0%\n",
      " | Epoch 3 | Loss: 0.010961683467030525 | Accuracy: 100.0%\n",
      " | Epoch 3 | Loss: 0.013480791822075844 | Accuracy: 100.0%\n",
      " | Epoch 3 | Loss: 0.007455961313098669 | Accuracy: 100.0%\n"
     ]
    },
    {
     "name": "stderr",
     "output_type": "stream",
     "text": [
      "Epoch 3:  57%|██████████████████▎             | 429/751 [00:04<00:03, 103.39batch/s, accuracy=96.875%, loss=0.1]"
     ]
    },
    {
     "name": "stdout",
     "output_type": "stream",
     "text": [
      " | Epoch 3 | Loss: 0.009848546236753464 | Accuracy: 100.0%\n",
      " | Epoch 3 | Loss: 0.00397874042391777 | Accuracy: 100.0%\n",
      " | Epoch 3 | Loss: 0.004336338024586439 | Accuracy: 100.0%\n",
      " | Epoch 3 | Loss: 0.016938142478466034 | Accuracy: 98.4375%\n",
      " | Epoch 3 | Loss: 0.010564472526311874 | Accuracy: 100.0%\n",
      " | Epoch 3 | Loss: 0.005217136349529028 | Accuracy: 100.0%\n",
      " | Epoch 3 | Loss: 0.009757976979017258 | Accuracy: 100.0%\n",
      " | Epoch 3 | Loss: 0.007470973301678896 | Accuracy: 100.0%\n",
      " | Epoch 3 | Loss: 0.005324796307832003 | Accuracy: 100.0%\n",
      " | Epoch 3 | Loss: 0.011190280318260193 | Accuracy: 100.0%\n",
      " | Epoch 3 | Loss: 0.00599344726651907 | Accuracy: 100.0%\n",
      " | Epoch 3 | Loss: 0.005427684634923935 | Accuracy: 100.0%\n",
      " | Epoch 3 | Loss: 0.005462986417114735 | Accuracy: 100.0%\n",
      " | Epoch 3 | Loss: 0.005265282932668924 | Accuracy: 100.0%\n",
      " | Epoch 3 | Loss: 0.0058589475229382515 | Accuracy: 100.0%\n",
      " | Epoch 3 | Loss: 0.7446839213371277 | Accuracy: 96.875%\n",
      " | Epoch 3 | Loss: 0.02041567489504814 | Accuracy: 98.4375%\n",
      " | Epoch 3 | Loss: 0.005516016390174627 | Accuracy: 100.0%\n",
      " | Epoch 3 | Loss: 0.010708330199122429 | Accuracy: 100.0%\n",
      " | Epoch 3 | Loss: 0.0038632648065686226 | Accuracy: 100.0%\n",
      " | Epoch 3 | Loss: 0.10012304782867432 | Accuracy: 96.875%\n"
     ]
    },
    {
     "name": "stderr",
     "output_type": "stream",
     "text": [
      "Epoch 3:  60%|████████████████▊           | 451/751 [00:04<00:02, 105.52batch/s, accuracy=98.4375%, loss=0.0226]"
     ]
    },
    {
     "name": "stdout",
     "output_type": "stream",
     "text": [
      " | Epoch 3 | Loss: 0.4195595383644104 | Accuracy: 96.875%\n",
      " | Epoch 3 | Loss: 0.29143214225769043 | Accuracy: 98.4375%\n",
      " | Epoch 3 | Loss: 0.0127645218744874 | Accuracy: 100.0%\n",
      " | Epoch 3 | Loss: 0.028381507843732834 | Accuracy: 100.0%\n",
      " | Epoch 3 | Loss: 0.04360697790980339 | Accuracy: 98.4375%\n",
      " | Epoch 3 | Loss: 0.028807613998651505 | Accuracy: 100.0%\n",
      " | Epoch 3 | Loss: 0.014744115062057972 | Accuracy: 100.0%\n",
      " | Epoch 3 | Loss: 0.012973609380424023 | Accuracy: 100.0%\n",
      " | Epoch 3 | Loss: 0.07046674937009811 | Accuracy: 98.4375%\n",
      " | Epoch 3 | Loss: 0.01045936718583107 | Accuracy: 100.0%\n",
      " | Epoch 3 | Loss: 0.009872655384242535 | Accuracy: 100.0%\n",
      " | Epoch 3 | Loss: 0.0152510367333889 | Accuracy: 100.0%\n",
      " | Epoch 3 | Loss: 0.03165839612483978 | Accuracy: 100.0%\n",
      " | Epoch 3 | Loss: 0.12528298795223236 | Accuracy: 98.4375%\n",
      " | Epoch 3 | Loss: 0.00589901115745306 | Accuracy: 100.0%\n",
      " | Epoch 3 | Loss: 0.020649846643209457 | Accuracy: 100.0%\n",
      " | Epoch 3 | Loss: 0.007908611558377743 | Accuracy: 100.0%\n",
      " | Epoch 3 | Loss: 0.009554216638207436 | Accuracy: 100.0%\n",
      " | Epoch 3 | Loss: 0.01325949840247631 | Accuracy: 100.0%\n",
      " | Epoch 3 | Loss: 0.0075044031254947186 | Accuracy: 100.0%\n",
      " | Epoch 3 | Loss: 0.011281488463282585 | Accuracy: 100.0%\n",
      " | Epoch 3 | Loss: 0.022632744163274765 | Accuracy: 98.4375%\n"
     ]
    },
    {
     "name": "stderr",
     "output_type": "stream",
     "text": [
      "Epoch 3:  63%|█████████████████▋          | 473/751 [00:04<00:02, 105.85batch/s, accuracy=98.4375%, loss=0.0225]"
     ]
    },
    {
     "name": "stdout",
     "output_type": "stream",
     "text": [
      " | Epoch 3 | Loss: 0.009023906663060188 | Accuracy: 100.0%\n",
      " | Epoch 3 | Loss: 0.008091036230325699 | Accuracy: 100.0%\n",
      " | Epoch 3 | Loss: 0.05699901282787323 | Accuracy: 98.4375%\n",
      " | Epoch 3 | Loss: 0.008531571365892887 | Accuracy: 100.0%\n",
      " | Epoch 3 | Loss: 0.01052413135766983 | Accuracy: 100.0%\n",
      " | Epoch 3 | Loss: 0.009178895503282547 | Accuracy: 100.0%\n",
      " | Epoch 3 | Loss: 0.11391113698482513 | Accuracy: 98.4375%\n",
      " | Epoch 3 | Loss: 0.004200386814773083 | Accuracy: 100.0%\n",
      " | Epoch 3 | Loss: 0.004203404765576124 | Accuracy: 100.0%\n",
      " | Epoch 3 | Loss: 0.010992812924087048 | Accuracy: 100.0%\n",
      " | Epoch 3 | Loss: 0.02320285513997078 | Accuracy: 100.0%\n",
      " | Epoch 3 | Loss: 0.023647943511605263 | Accuracy: 100.0%\n",
      " | Epoch 3 | Loss: 0.007842148654162884 | Accuracy: 100.0%\n",
      " | Epoch 3 | Loss: 0.1351098269224167 | Accuracy: 98.4375%\n",
      " | Epoch 3 | Loss: 0.011943252757191658 | Accuracy: 100.0%\n",
      " | Epoch 3 | Loss: 0.00438098656013608 | Accuracy: 100.0%\n",
      " | Epoch 3 | Loss: 1.0886479616165161 | Accuracy: 96.875%\n",
      " | Epoch 3 | Loss: 0.020904377102851868 | Accuracy: 100.0%\n",
      " | Epoch 3 | Loss: 0.011366276070475578 | Accuracy: 100.0%\n",
      " | Epoch 3 | Loss: 0.038840025663375854 | Accuracy: 96.875%\n",
      " | Epoch 3 | Loss: 0.0943862795829773 | Accuracy: 96.875%\n",
      " | Epoch 3 | Loss: 0.022476183250546455 | Accuracy: 98.4375%\n"
     ]
    },
    {
     "name": "stderr",
     "output_type": "stream",
     "text": [
      "Epoch 3:  66%|███████████████████▊          | 495/751 [00:04<00:02, 105.42batch/s, accuracy=100.0%, loss=0.0291]"
     ]
    },
    {
     "name": "stdout",
     "output_type": "stream",
     "text": [
      " | Epoch 3 | Loss: 0.03680770844221115 | Accuracy: 98.4375%\n",
      " | Epoch 3 | Loss: 0.015917016193270683 | Accuracy: 100.0%\n",
      " | Epoch 3 | Loss: 0.014846930280327797 | Accuracy: 100.0%\n",
      " | Epoch 3 | Loss: 0.022939804941415787 | Accuracy: 100.0%\n",
      " | Epoch 3 | Loss: 0.04495953395962715 | Accuracy: 98.4375%\n",
      " | Epoch 3 | Loss: 0.01766660436987877 | Accuracy: 100.0%\n",
      " | Epoch 3 | Loss: 0.033407170325517654 | Accuracy: 100.0%\n",
      " | Epoch 3 | Loss: 0.07009580731391907 | Accuracy: 98.4375%\n",
      " | Epoch 3 | Loss: 0.01709820330142975 | Accuracy: 100.0%\n",
      " | Epoch 3 | Loss: 0.1254865825176239 | Accuracy: 98.4375%\n",
      " | Epoch 3 | Loss: 0.00811076071113348 | Accuracy: 100.0%\n",
      " | Epoch 3 | Loss: 0.01842699944972992 | Accuracy: 100.0%\n",
      " | Epoch 3 | Loss: 0.4917885959148407 | Accuracy: 96.875%\n",
      " | Epoch 3 | Loss: 0.01952252723276615 | Accuracy: 100.0%\n",
      " | Epoch 3 | Loss: 0.013851044699549675 | Accuracy: 100.0%\n",
      " | Epoch 3 | Loss: 0.0476573221385479 | Accuracy: 98.4375%\n",
      " | Epoch 3 | Loss: 0.018414650112390518 | Accuracy: 100.0%\n",
      " | Epoch 3 | Loss: 0.01452691201120615 | Accuracy: 100.0%\n",
      " | Epoch 3 | Loss: 0.36202728748321533 | Accuracy: 98.4375%\n",
      " | Epoch 3 | Loss: 0.031730685383081436 | Accuracy: 100.0%\n",
      " | Epoch 3 | Loss: 0.08275973796844482 | Accuracy: 98.4375%\n"
     ]
    },
    {
     "name": "stderr",
     "output_type": "stream",
     "text": [
      "Epoch 3:  69%|████████████████████▋         | 517/751 [00:05<00:02, 107.40batch/s, accuracy=100.0%, loss=0.0106]"
     ]
    },
    {
     "name": "stdout",
     "output_type": "stream",
     "text": [
      " | Epoch 3 | Loss: 0.02906869724392891 | Accuracy: 100.0%\n",
      " | Epoch 3 | Loss: 0.021142538636922836 | Accuracy: 100.0%\n",
      " | Epoch 3 | Loss: 0.015988776460289955 | Accuracy: 100.0%\n",
      " | Epoch 3 | Loss: 0.0768405869603157 | Accuracy: 98.4375%\n",
      " | Epoch 3 | Loss: 0.04297792911529541 | Accuracy: 100.0%\n",
      " | Epoch 3 | Loss: 0.015037605538964272 | Accuracy: 100.0%\n",
      " | Epoch 3 | Loss: 0.025979692116379738 | Accuracy: 100.0%\n",
      " | Epoch 3 | Loss: 0.027768868952989578 | Accuracy: 100.0%\n",
      " | Epoch 3 | Loss: 0.017968744039535522 | Accuracy: 100.0%\n",
      " | Epoch 3 | Loss: 0.014118021354079247 | Accuracy: 100.0%\n",
      " | Epoch 3 | Loss: 0.022019628435373306 | Accuracy: 100.0%\n",
      " | Epoch 3 | Loss: 0.017038393765687943 | Accuracy: 100.0%\n",
      " | Epoch 3 | Loss: 0.05060211569070816 | Accuracy: 98.4375%\n",
      " | Epoch 3 | Loss: 0.006583652924746275 | Accuracy: 100.0%\n",
      " | Epoch 3 | Loss: 0.22226393222808838 | Accuracy: 98.4375%\n",
      " | Epoch 3 | Loss: 0.019333789125084877 | Accuracy: 100.0%\n",
      " | Epoch 3 | Loss: 0.007928557693958282 | Accuracy: 100.0%\n",
      " | Epoch 3 | Loss: 0.028227180242538452 | Accuracy: 100.0%\n",
      " | Epoch 3 | Loss: 0.005120893940329552 | Accuracy: 100.0%\n",
      " | Epoch 3 | Loss: 0.005140720866620541 | Accuracy: 100.0%\n",
      " | Epoch 3 | Loss: 0.15341052412986755 | Accuracy: 98.4375%\n",
      " | Epoch 3 | Loss: 0.12871238589286804 | Accuracy: 98.4375%\n"
     ]
    },
    {
     "name": "stderr",
     "output_type": "stream",
     "text": [
      "Epoch 3:  70%|█████████████████████         | 528/751 [00:05<00:02, 105.13batch/s, accuracy=100.0%, loss=0.0122]"
     ]
    },
    {
     "name": "stdout",
     "output_type": "stream",
     "text": [
      " | Epoch 3 | Loss: 0.01060718484222889 | Accuracy: 100.0%\n",
      " | Epoch 3 | Loss: 0.0881882831454277 | Accuracy: 98.4375%\n",
      " | Epoch 3 | Loss: 0.061124835163354874 | Accuracy: 98.4375%\n",
      " | Epoch 3 | Loss: 0.014985620975494385 | Accuracy: 100.0%\n",
      " | Epoch 3 | Loss: 0.00522156897932291 | Accuracy: 100.0%\n",
      " | Epoch 3 | Loss: 0.011781705543398857 | Accuracy: 100.0%\n",
      " | Epoch 3 | Loss: 0.005233893170952797 | Accuracy: 100.0%\n",
      " | Epoch 3 | Loss: 0.24712398648262024 | Accuracy: 96.875%\n",
      " | Epoch 3 | Loss: 0.01005518063902855 | Accuracy: 100.0%\n",
      " | Epoch 3 | Loss: 0.01258481852710247 | Accuracy: 100.0%\n",
      " | Epoch 3 | Loss: 0.015731440857052803 | Accuracy: 100.0%\n",
      " | Epoch 3 | Loss: 0.017017003148794174 | Accuracy: 100.0%\n",
      " | Epoch 3 | Loss: 0.0056596542708575726 | Accuracy: 100.0%\n",
      " | Epoch 3 | Loss: 0.005250333342701197 | Accuracy: 100.0%\n",
      " | Epoch 3 | Loss: 0.009674206376075745 | Accuracy: 100.0%\n",
      " | Epoch 3 | Loss: 0.015416352078318596 | Accuracy: 100.0%\n",
      " | Epoch 3 | Loss: 0.027657676488161087 | Accuracy: 100.0%\n",
      " | Epoch 3 | Loss: 0.04439074173569679 | Accuracy: 98.4375%\n",
      " | Epoch 3 | Loss: 0.007836639881134033 | Accuracy: 100.0%\n",
      " | Epoch 3 | Loss: 0.02448934316635132 | Accuracy: 100.0%\n",
      " | Epoch 3 | Loss: 0.01215742714703083 | Accuracy: 100.0%\n"
     ]
    },
    {
     "name": "stderr",
     "output_type": "stream",
     "text": [
      "Epoch 3:  73%|█████████████████████▏       | 550/751 [00:05<00:01, 102.10batch/s, accuracy=100.0%, loss=0.00364]"
     ]
    },
    {
     "name": "stdout",
     "output_type": "stream",
     "text": [
      " | Epoch 3 | Loss: 0.013697249814867973 | Accuracy: 100.0%\n",
      " | Epoch 3 | Loss: 0.026107151061296463 | Accuracy: 100.0%\n",
      " | Epoch 3 | Loss: 0.006806200835853815 | Accuracy: 100.0%\n",
      " | Epoch 3 | Loss: 0.013929469510912895 | Accuracy: 100.0%\n",
      " | Epoch 3 | Loss: 0.00422245915979147 | Accuracy: 100.0%\n",
      " | Epoch 3 | Loss: 0.0040663015097379684 | Accuracy: 100.0%\n",
      " | Epoch 3 | Loss: 0.004033904988318682 | Accuracy: 100.0%\n",
      " | Epoch 3 | Loss: 0.01076561026275158 | Accuracy: 100.0%\n",
      " | Epoch 3 | Loss: 0.00495093734934926 | Accuracy: 100.0%\n",
      " | Epoch 3 | Loss: 0.4689567983150482 | Accuracy: 98.4375%\n",
      " | Epoch 3 | Loss: 0.12778088450431824 | Accuracy: 98.4375%\n",
      " | Epoch 3 | Loss: 0.0400066040456295 | Accuracy: 98.4375%\n",
      " | Epoch 3 | Loss: 0.04733250290155411 | Accuracy: 100.0%\n",
      " | Epoch 3 | Loss: 0.005822689272463322 | Accuracy: 100.0%\n",
      " | Epoch 3 | Loss: 0.022219911217689514 | Accuracy: 100.0%\n",
      " | Epoch 3 | Loss: 0.002768915146589279 | Accuracy: 100.0%\n",
      " | Epoch 3 | Loss: 0.00485368212684989 | Accuracy: 100.0%\n",
      " | Epoch 3 | Loss: 0.0037054114509373903 | Accuracy: 100.0%\n",
      " | Epoch 3 | Loss: 0.005537492223083973 | Accuracy: 100.0%\n",
      " | Epoch 3 | Loss: 0.020606977865099907 | Accuracy: 98.4375%\n",
      " | Epoch 3 | Loss: 0.0036404835991561413 | Accuracy: 100.0%\n"
     ]
    },
    {
     "name": "stderr",
     "output_type": "stream",
     "text": [
      "Epoch 3:  76%|██████████████████████▊       | 572/751 [00:05<00:01, 98.67batch/s, accuracy=100.0%, loss=0.00502]"
     ]
    },
    {
     "name": "stdout",
     "output_type": "stream",
     "text": [
      " | Epoch 3 | Loss: 0.024292049929499626 | Accuracy: 100.0%\n",
      " | Epoch 3 | Loss: 0.007188477087765932 | Accuracy: 100.0%\n",
      " | Epoch 3 | Loss: 0.00530712166801095 | Accuracy: 100.0%\n",
      " | Epoch 3 | Loss: 0.007879364304244518 | Accuracy: 100.0%\n",
      " | Epoch 3 | Loss: 0.0027014727238565683 | Accuracy: 100.0%\n",
      " | Epoch 3 | Loss: 0.012375160120427608 | Accuracy: 98.4375%\n",
      " | Epoch 3 | Loss: 0.0028274389915168285 | Accuracy: 100.0%\n",
      " | Epoch 3 | Loss: 0.01487811654806137 | Accuracy: 100.0%\n",
      " | Epoch 3 | Loss: 0.0023399130441248417 | Accuracy: 100.0%\n",
      " | Epoch 3 | Loss: 0.006861715577542782 | Accuracy: 100.0%\n",
      " | Epoch 3 | Loss: 0.010251497849822044 | Accuracy: 100.0%\n",
      " | Epoch 3 | Loss: 0.007833638228476048 | Accuracy: 100.0%\n",
      " | Epoch 3 | Loss: 0.005410315468907356 | Accuracy: 100.0%\n",
      " | Epoch 3 | Loss: 0.0033316067419946194 | Accuracy: 100.0%\n",
      " | Epoch 3 | Loss: 0.0027805729769170284 | Accuracy: 100.0%\n",
      " | Epoch 3 | Loss: 0.7389620542526245 | Accuracy: 98.4375%\n",
      " | Epoch 3 | Loss: 0.01098981499671936 | Accuracy: 100.0%\n",
      " | Epoch 3 | Loss: 0.0074051073752343655 | Accuracy: 100.0%\n",
      " | Epoch 3 | Loss: 0.0071887974627316 | Accuracy: 100.0%\n",
      " | Epoch 3 | Loss: 0.005022475495934486 | Accuracy: 100.0%\n"
     ]
    },
    {
     "name": "stderr",
     "output_type": "stream",
     "text": [
      "Epoch 3:  79%|███████████████████████▋      | 594/751 [00:05<00:01, 100.67batch/s, accuracy=100.0%, loss=0.0178]"
     ]
    },
    {
     "name": "stdout",
     "output_type": "stream",
     "text": [
      " | Epoch 3 | Loss: 0.005591840948909521 | Accuracy: 100.0%\n",
      " | Epoch 3 | Loss: 0.0081759849563241 | Accuracy: 100.0%\n",
      " | Epoch 3 | Loss: 0.013917190954089165 | Accuracy: 100.0%\n",
      " | Epoch 3 | Loss: 0.008367177098989487 | Accuracy: 100.0%\n",
      " | Epoch 3 | Loss: 0.09597717225551605 | Accuracy: 98.4375%\n",
      " | Epoch 3 | Loss: 0.01265035942196846 | Accuracy: 100.0%\n",
      " | Epoch 3 | Loss: 0.009272603318095207 | Accuracy: 100.0%\n",
      " | Epoch 3 | Loss: 0.24745185673236847 | Accuracy: 98.4375%\n",
      " | Epoch 3 | Loss: 0.009721947833895683 | Accuracy: 100.0%\n",
      " | Epoch 3 | Loss: 0.029098089784383774 | Accuracy: 100.0%\n",
      " | Epoch 3 | Loss: 0.028102202340960503 | Accuracy: 100.0%\n",
      " | Epoch 3 | Loss: 0.019388480111956596 | Accuracy: 100.0%\n",
      " | Epoch 3 | Loss: 0.011445309035480022 | Accuracy: 100.0%\n",
      " | Epoch 3 | Loss: 0.03441247716546059 | Accuracy: 98.4375%\n",
      " | Epoch 3 | Loss: 0.025563756003975868 | Accuracy: 100.0%\n",
      " | Epoch 3 | Loss: 0.19628453254699707 | Accuracy: 98.4375%\n",
      " | Epoch 3 | Loss: 0.012233613058924675 | Accuracy: 100.0%\n",
      " | Epoch 3 | Loss: 0.015443705953657627 | Accuracy: 100.0%\n",
      " | Epoch 3 | Loss: 0.012598544359207153 | Accuracy: 100.0%\n",
      " | Epoch 3 | Loss: 0.02758471667766571 | Accuracy: 95.3125%\n",
      " | Epoch 3 | Loss: 0.017798084765672684 | Accuracy: 100.0%\n"
     ]
    },
    {
     "name": "stderr",
     "output_type": "stream",
     "text": [
      "Epoch 3:  82%|███████████████████████▊     | 616/751 [00:06<00:01, 103.79batch/s, accuracy=100.0%, loss=0.00794]"
     ]
    },
    {
     "name": "stdout",
     "output_type": "stream",
     "text": [
      " | Epoch 3 | Loss: 0.007874998264014721 | Accuracy: 100.0%\n",
      " | Epoch 3 | Loss: 0.015083786100149155 | Accuracy: 100.0%\n",
      " | Epoch 3 | Loss: 0.010191150940954685 | Accuracy: 100.0%\n",
      " | Epoch 3 | Loss: 0.011821438558399677 | Accuracy: 100.0%\n",
      " | Epoch 3 | Loss: 0.019028019160032272 | Accuracy: 100.0%\n",
      " | Epoch 3 | Loss: 0.007720001041889191 | Accuracy: 100.0%\n",
      " | Epoch 3 | Loss: 0.017545199021697044 | Accuracy: 100.0%\n",
      " | Epoch 3 | Loss: 0.017918042838573456 | Accuracy: 100.0%\n",
      " | Epoch 3 | Loss: 0.0164310485124588 | Accuracy: 100.0%\n",
      " | Epoch 3 | Loss: 0.011736692860722542 | Accuracy: 98.4375%\n",
      " | Epoch 3 | Loss: 0.009147963486611843 | Accuracy: 100.0%\n",
      " | Epoch 3 | Loss: 0.007351551204919815 | Accuracy: 100.0%\n",
      " | Epoch 3 | Loss: 0.003960094414651394 | Accuracy: 100.0%\n",
      " | Epoch 3 | Loss: 0.013274621218442917 | Accuracy: 100.0%\n",
      " | Epoch 3 | Loss: 0.0071203759871423244 | Accuracy: 100.0%\n",
      " | Epoch 3 | Loss: 0.00861921813338995 | Accuracy: 100.0%\n",
      " | Epoch 3 | Loss: 0.007626094855368137 | Accuracy: 100.0%\n",
      " | Epoch 3 | Loss: 0.01008506678044796 | Accuracy: 100.0%\n",
      " | Epoch 3 | Loss: 0.0044111330062150955 | Accuracy: 100.0%\n",
      " | Epoch 3 | Loss: 0.007519909646362066 | Accuracy: 100.0%\n",
      " | Epoch 3 | Loss: 0.0093917241320014 | Accuracy: 100.0%\n",
      " | Epoch 3 | Loss: 0.007940877228975296 | Accuracy: 100.0%\n"
     ]
    },
    {
     "name": "stderr",
     "output_type": "stream",
     "text": [
      "Epoch 3:  85%|████████████████████████▋    | 638/751 [00:06<00:01, 102.59batch/s, accuracy=100.0%, loss=0.00392]"
     ]
    },
    {
     "name": "stdout",
     "output_type": "stream",
     "text": [
      " | Epoch 3 | Loss: 0.00549209862947464 | Accuracy: 100.0%\n",
      " | Epoch 3 | Loss: 0.019499514251947403 | Accuracy: 100.0%\n",
      " | Epoch 3 | Loss: 0.3261140286922455 | Accuracy: 98.4375%\n",
      " | Epoch 3 | Loss: 0.2283865213394165 | Accuracy: 98.4375%\n",
      " | Epoch 3 | Loss: 0.007500483654439449 | Accuracy: 100.0%\n",
      " | Epoch 3 | Loss: 0.007853072136640549 | Accuracy: 100.0%\n",
      " | Epoch 3 | Loss: 0.09861257672309875 | Accuracy: 100.0%\n",
      " | Epoch 3 | Loss: 0.06575888395309448 | Accuracy: 96.875%\n",
      " | Epoch 3 | Loss: 0.03877277299761772 | Accuracy: 100.0%\n",
      " | Epoch 3 | Loss: 0.030898215249180794 | Accuracy: 100.0%\n",
      " | Epoch 3 | Loss: 0.03596078231930733 | Accuracy: 100.0%\n",
      " | Epoch 3 | Loss: 0.0067033180966973305 | Accuracy: 100.0%\n",
      " | Epoch 3 | Loss: 0.19278453290462494 | Accuracy: 98.4375%\n",
      " | Epoch 3 | Loss: 0.0110758226364851 | Accuracy: 100.0%\n",
      " | Epoch 3 | Loss: 0.2439430058002472 | Accuracy: 96.875%\n",
      " | Epoch 3 | Loss: 0.006636721082031727 | Accuracy: 100.0%\n",
      " | Epoch 3 | Loss: 0.002799790818244219 | Accuracy: 100.0%\n",
      " | Epoch 3 | Loss: 0.012009944766759872 | Accuracy: 100.0%\n",
      " | Epoch 3 | Loss: 0.18526357412338257 | Accuracy: 98.4375%\n",
      " | Epoch 3 | Loss: 0.003924915567040443 | Accuracy: 100.0%\n"
     ]
    },
    {
     "name": "stderr",
     "output_type": "stream",
     "text": [
      "Epoch 3:  88%|██████████████████████████▎   | 660/751 [00:06<00:00, 101.41batch/s, accuracy=100.0%, loss=0.0454]"
     ]
    },
    {
     "name": "stdout",
     "output_type": "stream",
     "text": [
      " | Epoch 3 | Loss: 0.023017534986138344 | Accuracy: 98.4375%\n",
      " | Epoch 3 | Loss: 0.013242071494460106 | Accuracy: 98.4375%\n",
      " | Epoch 3 | Loss: 0.006577509921044111 | Accuracy: 100.0%\n",
      " | Epoch 3 | Loss: 0.0046362425200641155 | Accuracy: 100.0%\n",
      " | Epoch 3 | Loss: 0.004957795143127441 | Accuracy: 100.0%\n",
      " | Epoch 3 | Loss: 0.006190323270857334 | Accuracy: 100.0%\n",
      " | Epoch 3 | Loss: 0.06722395867109299 | Accuracy: 98.4375%\n",
      " | Epoch 3 | Loss: 0.007049488369375467 | Accuracy: 100.0%\n",
      " | Epoch 3 | Loss: 0.026389142498373985 | Accuracy: 98.4375%\n",
      " | Epoch 3 | Loss: 0.002322529908269644 | Accuracy: 100.0%\n",
      " | Epoch 3 | Loss: 0.004231122322380543 | Accuracy: 100.0%\n",
      " | Epoch 3 | Loss: 0.10078898072242737 | Accuracy: 100.0%\n",
      " | Epoch 3 | Loss: 0.00426237378269434 | Accuracy: 100.0%\n",
      " | Epoch 3 | Loss: 0.004664334002882242 | Accuracy: 100.0%\n",
      " | Epoch 3 | Loss: 0.0051465411670506 | Accuracy: 100.0%\n",
      " | Epoch 3 | Loss: 0.011625937186181545 | Accuracy: 100.0%\n",
      " | Epoch 3 | Loss: 0.3141087293624878 | Accuracy: 98.4375%\n",
      " | Epoch 3 | Loss: 0.00847891066223383 | Accuracy: 100.0%\n",
      " | Epoch 3 | Loss: 0.026406101882457733 | Accuracy: 100.0%\n",
      " | Epoch 3 | Loss: 0.01219557411968708 | Accuracy: 100.0%\n",
      " | Epoch 3 | Loss: 0.045399535447359085 | Accuracy: 100.0%\n"
     ]
    },
    {
     "name": "stderr",
     "output_type": "stream",
     "text": [
      "Epoch 3:  91%|██████████████████████████▎  | 682/751 [00:06<00:00, 102.06batch/s, accuracy=98.4375%, loss=0.041]"
     ]
    },
    {
     "name": "stdout",
     "output_type": "stream",
     "text": [
      " | Epoch 3 | Loss: 0.007205544505268335 | Accuracy: 100.0%\n",
      " | Epoch 3 | Loss: 0.00644518481567502 | Accuracy: 100.0%\n",
      " | Epoch 3 | Loss: 0.013518129475414753 | Accuracy: 100.0%\n",
      " | Epoch 3 | Loss: 0.0048159402795135975 | Accuracy: 100.0%\n",
      " | Epoch 3 | Loss: 0.008219114504754543 | Accuracy: 100.0%\n",
      " | Epoch 3 | Loss: 0.007912026718258858 | Accuracy: 100.0%\n",
      " | Epoch 3 | Loss: 0.018653087317943573 | Accuracy: 100.0%\n",
      " | Epoch 3 | Loss: 0.0159946046769619 | Accuracy: 100.0%\n",
      " | Epoch 3 | Loss: 0.18850712478160858 | Accuracy: 98.4375%\n",
      " | Epoch 3 | Loss: 0.004963330924510956 | Accuracy: 100.0%\n",
      " | Epoch 3 | Loss: 0.005090739578008652 | Accuracy: 100.0%\n",
      " | Epoch 3 | Loss: 0.006621664389967918 | Accuracy: 100.0%\n",
      " | Epoch 3 | Loss: 0.0037367232143878937 | Accuracy: 100.0%\n",
      " | Epoch 3 | Loss: 0.3892210125923157 | Accuracy: 98.4375%\n",
      " | Epoch 3 | Loss: 0.005554152652621269 | Accuracy: 100.0%\n",
      " | Epoch 3 | Loss: 0.004468653351068497 | Accuracy: 100.0%\n",
      " | Epoch 3 | Loss: 0.027241047471761703 | Accuracy: 98.4375%\n",
      " | Epoch 3 | Loss: 0.006544545758515596 | Accuracy: 100.0%\n",
      " | Epoch 3 | Loss: 0.1649327278137207 | Accuracy: 98.4375%\n",
      " | Epoch 3 | Loss: 0.008032118901610374 | Accuracy: 100.0%\n",
      " | Epoch 3 | Loss: 0.04100608080625534 | Accuracy: 98.4375%\n"
     ]
    },
    {
     "name": "stderr",
     "output_type": "stream",
     "text": [
      "Epoch 3:  94%|████████████████████████████  | 704/751 [00:06<00:00, 102.19batch/s, accuracy=100.0%, loss=0.0103]"
     ]
    },
    {
     "name": "stdout",
     "output_type": "stream",
     "text": [
      " | Epoch 3 | Loss: 0.009490573778748512 | Accuracy: 100.0%\n",
      " | Epoch 3 | Loss: 0.010455229319632053 | Accuracy: 100.0%\n",
      " | Epoch 3 | Loss: 0.013061736710369587 | Accuracy: 100.0%\n",
      " | Epoch 3 | Loss: 0.007049615029245615 | Accuracy: 100.0%\n",
      " | Epoch 3 | Loss: 0.017252910882234573 | Accuracy: 100.0%\n",
      " | Epoch 3 | Loss: 0.013282198458909988 | Accuracy: 100.0%\n",
      " | Epoch 3 | Loss: 0.005031242035329342 | Accuracy: 100.0%\n",
      " | Epoch 3 | Loss: 0.010103062726557255 | Accuracy: 100.0%\n",
      " | Epoch 3 | Loss: 0.004982607439160347 | Accuracy: 100.0%\n",
      " | Epoch 3 | Loss: 0.03668281063437462 | Accuracy: 98.4375%\n",
      " | Epoch 3 | Loss: 0.009692306630313396 | Accuracy: 100.0%\n",
      " | Epoch 3 | Loss: 0.641335129737854 | Accuracy: 98.4375%\n",
      " | Epoch 3 | Loss: 0.006314425729215145 | Accuracy: 100.0%\n",
      " | Epoch 3 | Loss: 0.011554576456546783 | Accuracy: 100.0%\n",
      " | Epoch 3 | Loss: 0.00860313605517149 | Accuracy: 100.0%\n",
      " | Epoch 3 | Loss: 0.011555705219507217 | Accuracy: 100.0%\n",
      " | Epoch 3 | Loss: 0.006401263177394867 | Accuracy: 100.0%\n",
      " | Epoch 3 | Loss: 0.010101516731083393 | Accuracy: 100.0%\n",
      " | Epoch 3 | Loss: 0.062203794717788696 | Accuracy: 98.4375%\n",
      " | Epoch 3 | Loss: 0.02652241848409176 | Accuracy: 100.0%\n",
      " | Epoch 3 | Loss: 0.010337408632040024 | Accuracy: 100.0%\n"
     ]
    },
    {
     "name": "stderr",
     "output_type": "stream",
     "text": [
      "Epoch 3:  97%|████████████████████████████ | 726/751 [00:07<00:00, 101.73batch/s, accuracy=100.0%, loss=0.00516]"
     ]
    },
    {
     "name": "stdout",
     "output_type": "stream",
     "text": [
      " | Epoch 3 | Loss: 0.00562793156132102 | Accuracy: 100.0%\n",
      " | Epoch 3 | Loss: 0.008438412100076675 | Accuracy: 100.0%\n",
      " | Epoch 3 | Loss: 0.01121374499052763 | Accuracy: 100.0%\n",
      " | Epoch 3 | Loss: 0.008896272629499435 | Accuracy: 100.0%\n",
      " | Epoch 3 | Loss: 0.032899148762226105 | Accuracy: 98.4375%\n",
      " | Epoch 3 | Loss: 0.00467132031917572 | Accuracy: 100.0%\n",
      " | Epoch 3 | Loss: 0.10807685554027557 | Accuracy: 96.875%\n",
      " | Epoch 3 | Loss: 0.008070696145296097 | Accuracy: 100.0%\n",
      " | Epoch 3 | Loss: 0.16439783573150635 | Accuracy: 98.4375%\n",
      " | Epoch 3 | Loss: 0.008992690593004227 | Accuracy: 100.0%\n",
      " | Epoch 3 | Loss: 0.013570422306656837 | Accuracy: 100.0%\n",
      " | Epoch 3 | Loss: 0.012084517627954483 | Accuracy: 100.0%\n",
      " | Epoch 3 | Loss: 0.013225442729890347 | Accuracy: 100.0%\n",
      " | Epoch 3 | Loss: 0.006420861929655075 | Accuracy: 100.0%\n",
      " | Epoch 3 | Loss: 0.005115405190736055 | Accuracy: 100.0%\n",
      " | Epoch 3 | Loss: 0.03698863089084625 | Accuracy: 98.4375%\n",
      " | Epoch 3 | Loss: 0.2101135104894638 | Accuracy: 98.4375%\n",
      " | Epoch 3 | Loss: 0.005873163230717182 | Accuracy: 100.0%\n",
      " | Epoch 3 | Loss: 0.009457086212933064 | Accuracy: 100.0%\n",
      " | Epoch 3 | Loss: 0.010343417525291443 | Accuracy: 100.0%\n",
      " | Epoch 3 | Loss: 0.005159393884241581 | Accuracy: 100.0%\n"
     ]
    },
    {
     "name": "stderr",
     "output_type": "stream",
     "text": [
      "Epoch 3:  98%|████████████████████████████▍| 738/751 [00:07<00:00, 105.50batch/s, accuracy=100.0%, loss=0.00691]"
     ]
    },
    {
     "name": "stdout",
     "output_type": "stream",
     "text": [
      " | Epoch 3 | Loss: 0.011614956893026829 | Accuracy: 100.0%\n",
      " | Epoch 3 | Loss: 0.20674902200698853 | Accuracy: 96.875%\n",
      " | Epoch 3 | Loss: 0.010059007443487644 | Accuracy: 100.0%\n",
      " | Epoch 3 | Loss: 0.006475005764514208 | Accuracy: 100.0%\n",
      " | Epoch 3 | Loss: 0.00603968370705843 | Accuracy: 100.0%\n",
      " | Epoch 3 | Loss: 0.006179770454764366 | Accuracy: 100.0%\n",
      " | Epoch 3 | Loss: 0.19815455377101898 | Accuracy: 98.4375%\n",
      " | Epoch 3 | Loss: 0.008451370522379875 | Accuracy: 100.0%\n",
      " | Epoch 3 | Loss: 0.007235806435346603 | Accuracy: 100.0%\n",
      " | Epoch 3 | Loss: 0.00824926421046257 | Accuracy: 100.0%\n",
      " | Epoch 3 | Loss: 0.12579196691513062 | Accuracy: 98.4375%\n",
      " | Epoch 3 | Loss: 0.004440929275006056 | Accuracy: 100.0%\n",
      " | Epoch 3 | Loss: 0.016455817967653275 | Accuracy: 100.0%\n",
      " | Epoch 3 | Loss: 0.02579265460371971 | Accuracy: 98.4375%\n",
      " | Epoch 3 | Loss: 0.22634992003440857 | Accuracy: 98.4375%\n",
      " | Epoch 3 | Loss: 0.06528497487306595 | Accuracy: 96.875%\n",
      " | Epoch 3 | Loss: 0.024127069860696793 | Accuracy: 98.4375%\n",
      " | Epoch 3 | Loss: 0.08017271757125854 | Accuracy: 95.3125%\n",
      " | Epoch 3 | Loss: 0.09417622536420822 | Accuracy: 98.4375%\n",
      " | Epoch 3 | Loss: 0.004227726720273495 | Accuracy: 100.0%\n",
      " | Epoch 3 | Loss: 0.004065760411322117 | Accuracy: 100.0%\n",
      " | Epoch 3 | Loss: 0.16197355091571808 | Accuracy: 98.4375%\n",
      " | Epoch 3 | Loss: 0.006906535942107439 | Accuracy: 100.0%\n"
     ]
    },
    {
     "name": "stderr",
     "output_type": "stream",
     "text": [
      "Epoch 3: 100%|████████████████████████████| 751/751 [00:07<00:00, 101.54batch/s, accuracy=100.0%, loss=0.000616]\n"
     ]
    },
    {
     "name": "stdout",
     "output_type": "stream",
     "text": [
      " | Epoch 3 | Loss: 0.012357950210571289 | Accuracy: 98.4375%\n",
      " | Epoch 3 | Loss: 0.0006155181326903403 | Accuracy: 100.0%\n"
     ]
    },
    {
     "name": "stderr",
     "output_type": "stream",
     "text": [
      "Evaluating group-wise accuracy:   4%|█▊                                          | 1/25 [00:00<00:05,  4.04it/s]"
     ]
    },
    {
     "name": "stdout",
     "output_type": "stream",
     "text": [
      "Group (0, 0) Accuracy: 21.696252465483234\n"
     ]
    },
    {
     "name": "stderr",
     "output_type": "stream",
     "text": [
      "Evaluating group-wise accuracy:   8%|███▌                                        | 2/25 [00:00<00:05,  4.04it/s]"
     ]
    },
    {
     "name": "stdout",
     "output_type": "stream",
     "text": [
      "Group (0, 1) Accuracy: 20.71005917159763\n"
     ]
    },
    {
     "name": "stderr",
     "output_type": "stream",
     "text": [
      "Evaluating group-wise accuracy:  12%|█████▎                                      | 3/25 [00:00<00:05,  4.18it/s]"
     ]
    },
    {
     "name": "stdout",
     "output_type": "stream",
     "text": [
      "Group (0, 2) Accuracy: 22.529644268774703\n"
     ]
    },
    {
     "name": "stderr",
     "output_type": "stream",
     "text": [
      "Evaluating group-wise accuracy:  16%|███████                                     | 4/25 [00:00<00:05,  4.19it/s]"
     ]
    },
    {
     "name": "stdout",
     "output_type": "stream",
     "text": [
      "Group (0, 3) Accuracy: 20.948616600790515\n"
     ]
    },
    {
     "name": "stderr",
     "output_type": "stream",
     "text": [
      "Evaluating group-wise accuracy:  20%|████████▊                                   | 5/25 [00:01<00:04,  4.22it/s]"
     ]
    },
    {
     "name": "stdout",
     "output_type": "stream",
     "text": [
      "Group (0, 4) Accuracy: 21.73913043478261\n"
     ]
    },
    {
     "name": "stderr",
     "output_type": "stream",
     "text": [
      "Evaluating group-wise accuracy:  24%|██████████▌                                 | 6/25 [00:01<00:04,  4.25it/s]"
     ]
    },
    {
     "name": "stdout",
     "output_type": "stream",
     "text": [
      "Group (1, 0) Accuracy: 25.619834710743802\n"
     ]
    },
    {
     "name": "stderr",
     "output_type": "stream",
     "text": [
      "Evaluating group-wise accuracy:  28%|████████████▎                               | 7/25 [00:01<00:04,  4.45it/s]"
     ]
    },
    {
     "name": "stdout",
     "output_type": "stream",
     "text": [
      "Group (1, 1) Accuracy: 24.380165289256198\n"
     ]
    },
    {
     "name": "stderr",
     "output_type": "stream",
     "text": [
      "Evaluating group-wise accuracy:  32%|██████████████                              | 8/25 [00:01<00:03,  4.48it/s]"
     ]
    },
    {
     "name": "stdout",
     "output_type": "stream",
     "text": [
      "Group (1, 2) Accuracy: 24.22360248447205\n"
     ]
    },
    {
     "name": "stderr",
     "output_type": "stream",
     "text": [
      "Evaluating group-wise accuracy:  36%|███████████████▊                            | 9/25 [00:02<00:03,  4.34it/s]"
     ]
    },
    {
     "name": "stdout",
     "output_type": "stream",
     "text": [
      "Group (1, 3) Accuracy: 26.29399585921325\n"
     ]
    },
    {
     "name": "stderr",
     "output_type": "stream",
     "text": [
      "Evaluating group-wise accuracy:  40%|█████████████████▏                         | 10/25 [00:02<00:03,  4.38it/s]"
     ]
    },
    {
     "name": "stdout",
     "output_type": "stream",
     "text": [
      "Group (1, 4) Accuracy: 21.532091097308488\n"
     ]
    },
    {
     "name": "stderr",
     "output_type": "stream",
     "text": [
      "Evaluating group-wise accuracy:  44%|██████████████████▉                        | 11/25 [00:02<00:03,  4.39it/s]"
     ]
    },
    {
     "name": "stdout",
     "output_type": "stream",
     "text": [
      "Group (2, 0) Accuracy: 20.39911308203991\n"
     ]
    },
    {
     "name": "stderr",
     "output_type": "stream",
     "text": [
      "Evaluating group-wise accuracy:  48%|████████████████████▋                      | 12/25 [00:02<00:02,  4.47it/s]"
     ]
    },
    {
     "name": "stdout",
     "output_type": "stream",
     "text": [
      "Group (2, 1) Accuracy: 17.073170731707318\n"
     ]
    },
    {
     "name": "stderr",
     "output_type": "stream",
     "text": [
      "Evaluating group-wise accuracy:  52%|██████████████████████▎                    | 13/25 [00:02<00:02,  4.39it/s]"
     ]
    },
    {
     "name": "stdout",
     "output_type": "stream",
     "text": [
      "Group (2, 2) Accuracy: 23.11111111111111\n"
     ]
    },
    {
     "name": "stderr",
     "output_type": "stream",
     "text": [
      "Evaluating group-wise accuracy:  56%|████████████████████████                   | 14/25 [00:03<00:02,  4.38it/s]"
     ]
    },
    {
     "name": "stdout",
     "output_type": "stream",
     "text": [
      "Group (2, 3) Accuracy: 22.444444444444443\n"
     ]
    },
    {
     "name": "stderr",
     "output_type": "stream",
     "text": [
      "Evaluating group-wise accuracy:  60%|█████████████████████████▊                 | 15/25 [00:03<00:02,  4.55it/s]"
     ]
    },
    {
     "name": "stdout",
     "output_type": "stream",
     "text": [
      "Group (2, 4) Accuracy: 16.88888888888889\n"
     ]
    },
    {
     "name": "stderr",
     "output_type": "stream",
     "text": [
      "Evaluating group-wise accuracy:  64%|███████████████████████████▌               | 16/25 [00:03<00:01,  4.68it/s]"
     ]
    },
    {
     "name": "stdout",
     "output_type": "stream",
     "text": [
      "Group (3, 0) Accuracy: 18.647540983606557\n"
     ]
    },
    {
     "name": "stderr",
     "output_type": "stream",
     "text": [
      "Evaluating group-wise accuracy:  68%|█████████████████████████████▏             | 17/25 [00:03<00:01,  4.67it/s]"
     ]
    },
    {
     "name": "stdout",
     "output_type": "stream",
     "text": [
      "Group (3, 1) Accuracy: 21.149897330595483\n"
     ]
    },
    {
     "name": "stderr",
     "output_type": "stream",
     "text": [
      "Evaluating group-wise accuracy:  72%|██████████████████████████████▉            | 18/25 [00:04<00:01,  4.61it/s]"
     ]
    },
    {
     "name": "stdout",
     "output_type": "stream",
     "text": [
      "Group (3, 2) Accuracy: 18.275154004106778\n"
     ]
    },
    {
     "name": "stderr",
     "output_type": "stream",
     "text": [
      "Evaluating group-wise accuracy:  76%|████████████████████████████████▋          | 19/25 [00:04<00:01,  4.61it/s]"
     ]
    },
    {
     "name": "stdout",
     "output_type": "stream",
     "text": [
      "Group (3, 3) Accuracy: 21.765913757700204\n"
     ]
    },
    {
     "name": "stderr",
     "output_type": "stream",
     "text": [
      "Evaluating group-wise accuracy:  80%|██████████████████████████████████▍        | 20/25 [00:04<00:01,  4.73it/s]"
     ]
    },
    {
     "name": "stdout",
     "output_type": "stream",
     "text": [
      "Group (3, 4) Accuracy: 18.480492813141684\n"
     ]
    },
    {
     "name": "stderr",
     "output_type": "stream",
     "text": [
      "Evaluating group-wise accuracy:  84%|████████████████████████████████████       | 21/25 [00:04<00:00,  4.73it/s]"
     ]
    },
    {
     "name": "stdout",
     "output_type": "stream",
     "text": [
      "Group (4, 0) Accuracy: 77.54237288135593\n"
     ]
    },
    {
     "name": "stderr",
     "output_type": "stream",
     "text": [
      "Evaluating group-wise accuracy:  88%|█████████████████████████████████████▊     | 22/25 [00:04<00:00,  4.64it/s]"
     ]
    },
    {
     "name": "stdout",
     "output_type": "stream",
     "text": [
      "Group (4, 1) Accuracy: 77.11864406779661\n"
     ]
    },
    {
     "name": "stderr",
     "output_type": "stream",
     "text": [
      "Evaluating group-wise accuracy:  92%|███████████████████████████████████████▌   | 23/25 [00:05<00:00,  4.65it/s]"
     ]
    },
    {
     "name": "stdout",
     "output_type": "stream",
     "text": [
      "Group (4, 2) Accuracy: 72.88135593220339\n"
     ]
    },
    {
     "name": "stderr",
     "output_type": "stream",
     "text": [
      "Evaluating group-wise accuracy:  96%|█████████████████████████████████████████▎ | 24/25 [00:05<00:00,  4.67it/s]"
     ]
    },
    {
     "name": "stdout",
     "output_type": "stream",
     "text": [
      "Group (4, 3) Accuracy: 75.42372881355932\n"
     ]
    },
    {
     "name": "stderr",
     "output_type": "stream",
     "text": [
      "Evaluating group-wise accuracy: 100%|███████████████████████████████████████████| 25/25 [00:05<00:00,  4.50it/s]\n"
     ]
    },
    {
     "name": "stdout",
     "output_type": "stream",
     "text": [
      "Group (4, 4) Accuracy: 74.09766454352442\n",
      "Epoch 3:  Val Worst-Group Accuracy: 16.88888888888889\n",
      "Best Val Worst-Group Accuracy: 16.88888888888889\n"
     ]
    },
    {
     "name": "stderr",
     "output_type": "stream",
     "text": [
      "Epoch 4:   0%|                                 | 1/751 [00:00<01:47,  6.98batch/s, accuracy=100.0%, loss=0.0145]"
     ]
    },
    {
     "name": "stdout",
     "output_type": "stream",
     "text": [
      " | Epoch 4 | Loss: 0.02150590904057026 | Accuracy: 100.0%\n",
      " | Epoch 4 | Loss: 0.009553471580147743 | Accuracy: 100.0%\n",
      " | Epoch 4 | Loss: 0.005197751335799694 | Accuracy: 100.0%\n",
      " | Epoch 4 | Loss: 0.014478003606200218 | Accuracy: 100.0%\n"
     ]
    },
    {
     "name": "stderr",
     "output_type": "stream",
     "text": [
      "Epoch 4:   1%|▍                              | 11/751 [00:00<00:14, 52.41batch/s, accuracy=100.0%, loss=0.00428]"
     ]
    },
    {
     "name": "stdout",
     "output_type": "stream",
     "text": [
      " | Epoch 4 | Loss: 0.008100362494587898 | Accuracy: 100.0%\n",
      " | Epoch 4 | Loss: 0.006815736182034016 | Accuracy: 100.0%\n",
      " | Epoch 4 | Loss: 0.016154121607542038 | Accuracy: 98.4375%\n",
      " | Epoch 4 | Loss: 0.009019535966217518 | Accuracy: 100.0%\n",
      " | Epoch 4 | Loss: 0.03848712891340256 | Accuracy: 100.0%\n",
      " | Epoch 4 | Loss: 0.02446337230503559 | Accuracy: 98.4375%\n",
      " | Epoch 4 | Loss: 0.00235664751380682 | Accuracy: 100.0%\n",
      " | Epoch 4 | Loss: 0.004115340765565634 | Accuracy: 100.0%\n",
      " | Epoch 4 | Loss: 0.005695824511349201 | Accuracy: 100.0%\n",
      " | Epoch 4 | Loss: 0.0080039007589221 | Accuracy: 100.0%\n",
      " | Epoch 4 | Loss: 0.008408524096012115 | Accuracy: 100.0%\n",
      " | Epoch 4 | Loss: 0.004858516156673431 | Accuracy: 100.0%\n",
      " | Epoch 4 | Loss: 0.007248321548104286 | Accuracy: 98.4375%\n",
      " | Epoch 4 | Loss: 0.011565122753381729 | Accuracy: 98.4375%\n",
      " | Epoch 4 | Loss: 0.004513619001954794 | Accuracy: 100.0%\n",
      " | Epoch 4 | Loss: 0.004278070293366909 | Accuracy: 100.0%\n"
     ]
    },
    {
     "name": "stderr",
     "output_type": "stream",
     "text": [
      "Epoch 4:   3%|▊                              | 21/751 [00:00<00:10, 70.90batch/s, accuracy=100.0%, loss=0.00902]"
     ]
    },
    {
     "name": "stdout",
     "output_type": "stream",
     "text": [
      " | Epoch 4 | Loss: 0.0021979534067213535 | Accuracy: 100.0%\n",
      " | Epoch 4 | Loss: 0.0036217649467289448 | Accuracy: 100.0%\n",
      " | Epoch 4 | Loss: 0.023663554340600967 | Accuracy: 100.0%\n",
      " | Epoch 4 | Loss: 0.009024051018059254 | Accuracy: 100.0%\n"
     ]
    },
    {
     "name": "stderr",
     "output_type": "stream",
     "text": [
      "Epoch 4:   4%|█▎                             | 32/751 [00:00<00:08, 83.21batch/s, accuracy=100.0%, loss=0.00696]"
     ]
    },
    {
     "name": "stdout",
     "output_type": "stream",
     "text": [
      " | Epoch 4 | Loss: 0.0058745332062244415 | Accuracy: 100.0%\n",
      " | Epoch 4 | Loss: 0.005662437528371811 | Accuracy: 100.0%\n",
      " | Epoch 4 | Loss: 0.019649948924779892 | Accuracy: 100.0%\n",
      " | Epoch 4 | Loss: 0.009475165978074074 | Accuracy: 100.0%\n",
      " | Epoch 4 | Loss: 0.0031623803079128265 | Accuracy: 100.0%\n",
      " | Epoch 4 | Loss: 0.006276071071624756 | Accuracy: 100.0%\n",
      " | Epoch 4 | Loss: 0.007003406994044781 | Accuracy: 100.0%\n",
      " | Epoch 4 | Loss: 0.005168364383280277 | Accuracy: 100.0%\n",
      " | Epoch 4 | Loss: 0.005234192591160536 | Accuracy: 100.0%\n",
      " | Epoch 4 | Loss: 0.006189800798892975 | Accuracy: 100.0%\n",
      " | Epoch 4 | Loss: 0.020579375326633453 | Accuracy: 98.4375%\n",
      " | Epoch 4 | Loss: 0.020261278375983238 | Accuracy: 98.4375%\n",
      " | Epoch 4 | Loss: 0.004786188714206219 | Accuracy: 100.0%\n",
      " | Epoch 4 | Loss: 0.003381737507879734 | Accuracy: 100.0%\n",
      " | Epoch 4 | Loss: 0.007908469066023827 | Accuracy: 100.0%\n",
      " | Epoch 4 | Loss: 0.00678993808105588 | Accuracy: 100.0%\n",
      " | Epoch 4 | Loss: 0.006960132624953985 | Accuracy: 100.0%\n"
     ]
    },
    {
     "name": "stderr",
     "output_type": "stream",
     "text": [
      "Epoch 4:   6%|█▊                             | 43/751 [00:00<00:07, 90.59batch/s, accuracy=100.0%, loss=0.00332]"
     ]
    },
    {
     "name": "stdout",
     "output_type": "stream",
     "text": [
      " | Epoch 4 | Loss: 0.0018824912840500474 | Accuracy: 100.0%\n",
      " | Epoch 4 | Loss: 0.006449002772569656 | Accuracy: 100.0%\n",
      " | Epoch 4 | Loss: 0.003970716148614883 | Accuracy: 100.0%\n",
      " | Epoch 4 | Loss: 0.007746564224362373 | Accuracy: 100.0%\n",
      " | Epoch 4 | Loss: 0.003322842763736844 | Accuracy: 100.0%\n"
     ]
    },
    {
     "name": "stderr",
     "output_type": "stream",
     "text": [
      "Epoch 4:   7%|██                            | 53/751 [00:00<00:07, 93.33batch/s, accuracy=98.4375%, loss=0.0765]"
     ]
    },
    {
     "name": "stdout",
     "output_type": "stream",
     "text": [
      " | Epoch 4 | Loss: 0.0023658424615859985 | Accuracy: 100.0%\n",
      " | Epoch 4 | Loss: 0.009098279289901257 | Accuracy: 100.0%\n",
      " | Epoch 4 | Loss: 0.02038789913058281 | Accuracy: 100.0%\n",
      " | Epoch 4 | Loss: 0.008837101981043816 | Accuracy: 100.0%\n",
      " | Epoch 4 | Loss: 0.00595750380307436 | Accuracy: 100.0%\n",
      " | Epoch 4 | Loss: 0.004279772751033306 | Accuracy: 100.0%\n",
      " | Epoch 4 | Loss: 0.004858711734414101 | Accuracy: 100.0%\n",
      " | Epoch 4 | Loss: 0.0055509270168840885 | Accuracy: 100.0%\n",
      " | Epoch 4 | Loss: 0.0029814927838742733 | Accuracy: 100.0%\n",
      " | Epoch 4 | Loss: 0.0037219678051769733 | Accuracy: 100.0%\n",
      " | Epoch 4 | Loss: 0.0046058278530836105 | Accuracy: 100.0%\n",
      " | Epoch 4 | Loss: 0.0019392056856304407 | Accuracy: 100.0%\n",
      " | Epoch 4 | Loss: 0.0010327160125598311 | Accuracy: 100.0%\n",
      " | Epoch 4 | Loss: 0.0031114043667912483 | Accuracy: 100.0%\n",
      " | Epoch 4 | Loss: 0.004334005992859602 | Accuracy: 100.0%\n",
      " | Epoch 4 | Loss: 0.07649949193000793 | Accuracy: 98.4375%\n"
     ]
    },
    {
     "name": "stderr",
     "output_type": "stream",
     "text": [
      "Epoch 4:   8%|██▌                           | 63/751 [00:00<00:07, 94.56batch/s, accuracy=98.4375%, loss=0.0123]"
     ]
    },
    {
     "name": "stdout",
     "output_type": "stream",
     "text": [
      " | Epoch 4 | Loss: 0.0025595640763640404 | Accuracy: 100.0%\n",
      " | Epoch 4 | Loss: 0.002280106768012047 | Accuracy: 100.0%\n",
      " | Epoch 4 | Loss: 0.2386176884174347 | Accuracy: 98.4375%\n"
     ]
    },
    {
     "name": "stderr",
     "output_type": "stream",
     "text": [
      "Epoch 4:  10%|██▉                           | 73/751 [00:00<00:07, 95.77batch/s, accuracy=98.4375%, loss=0.0318]"
     ]
    },
    {
     "name": "stdout",
     "output_type": "stream",
     "text": [
      " | Epoch 4 | Loss: 0.012335557490587234 | Accuracy: 98.4375%\n",
      " | Epoch 4 | Loss: 0.904145359992981 | Accuracy: 98.4375%\n",
      " | Epoch 4 | Loss: 0.01253014151006937 | Accuracy: 100.0%\n",
      " | Epoch 4 | Loss: 0.0037540257908403873 | Accuracy: 100.0%\n",
      " | Epoch 4 | Loss: 0.008020229637622833 | Accuracy: 100.0%\n",
      " | Epoch 4 | Loss: 0.014026394113898277 | Accuracy: 100.0%\n",
      " | Epoch 4 | Loss: 0.4252655506134033 | Accuracy: 98.4375%\n",
      " | Epoch 4 | Loss: 0.01701745018362999 | Accuracy: 100.0%\n",
      " | Epoch 4 | Loss: 0.023761142045259476 | Accuracy: 100.0%\n",
      " | Epoch 4 | Loss: 0.05829429253935814 | Accuracy: 96.875%\n",
      " | Epoch 4 | Loss: 0.04858428239822388 | Accuracy: 96.875%\n",
      " | Epoch 4 | Loss: 0.07315323501825333 | Accuracy: 100.0%\n",
      " | Epoch 4 | Loss: 0.0418924055993557 | Accuracy: 100.0%\n",
      " | Epoch 4 | Loss: 0.05249118432402611 | Accuracy: 93.75%\n",
      " | Epoch 4 | Loss: 0.03057294338941574 | Accuracy: 100.0%\n",
      " | Epoch 4 | Loss: 0.04203638806939125 | Accuracy: 98.4375%\n",
      " | Epoch 4 | Loss: 0.03177069127559662 | Accuracy: 98.4375%\n"
     ]
    },
    {
     "name": "stderr",
     "output_type": "stream",
     "text": [
      "Epoch 4:  11%|███▍                           | 83/751 [00:01<00:07, 95.25batch/s, accuracy=100.0%, loss=0.00788]"
     ]
    },
    {
     "name": "stdout",
     "output_type": "stream",
     "text": [
      " | Epoch 4 | Loss: 0.018387947231531143 | Accuracy: 100.0%\n",
      " | Epoch 4 | Loss: 0.36924460530281067 | Accuracy: 98.4375%\n",
      " | Epoch 4 | Loss: 0.011972063221037388 | Accuracy: 100.0%\n",
      " | Epoch 4 | Loss: 0.007884979248046875 | Accuracy: 100.0%\n"
     ]
    },
    {
     "name": "stderr",
     "output_type": "stream",
     "text": [
      "Epoch 4:  13%|████                            | 94/751 [00:01<00:06, 97.37batch/s, accuracy=100.0%, loss=0.0115]"
     ]
    },
    {
     "name": "stdout",
     "output_type": "stream",
     "text": [
      " | Epoch 4 | Loss: 0.010825097560882568 | Accuracy: 100.0%\n",
      " | Epoch 4 | Loss: 0.008123809471726418 | Accuracy: 100.0%\n",
      " | Epoch 4 | Loss: 0.012148446403443813 | Accuracy: 98.4375%\n",
      " | Epoch 4 | Loss: 0.006190675776451826 | Accuracy: 100.0%\n",
      " | Epoch 4 | Loss: 0.010111678391695023 | Accuracy: 100.0%\n",
      " | Epoch 4 | Loss: 0.014303991571068764 | Accuracy: 98.4375%\n",
      " | Epoch 4 | Loss: 0.012102254666388035 | Accuracy: 98.4375%\n",
      " | Epoch 4 | Loss: 0.2737441658973694 | Accuracy: 98.4375%\n",
      " | Epoch 4 | Loss: 0.061596862971782684 | Accuracy: 100.0%\n",
      " | Epoch 4 | Loss: 0.023061882704496384 | Accuracy: 100.0%\n",
      " | Epoch 4 | Loss: 0.012460889294743538 | Accuracy: 100.0%\n",
      " | Epoch 4 | Loss: 0.26954612135887146 | Accuracy: 96.875%\n",
      " | Epoch 4 | Loss: 0.008957239799201488 | Accuracy: 100.0%\n",
      " | Epoch 4 | Loss: 0.6732356548309326 | Accuracy: 98.4375%\n",
      " | Epoch 4 | Loss: 0.02423369139432907 | Accuracy: 100.0%\n",
      " | Epoch 4 | Loss: 0.009855948388576508 | Accuracy: 100.0%\n",
      " | Epoch 4 | Loss: 0.011481629684567451 | Accuracy: 100.0%\n"
     ]
    },
    {
     "name": "stderr",
     "output_type": "stream",
     "text": [
      "Epoch 4:  14%|████                         | 105/751 [00:01<00:06, 100.61batch/s, accuracy=96.875%, loss=0.0634]"
     ]
    },
    {
     "name": "stdout",
     "output_type": "stream",
     "text": [
      " | Epoch 4 | Loss: 0.11118100583553314 | Accuracy: 98.4375%\n",
      " | Epoch 4 | Loss: 0.011380085721611977 | Accuracy: 100.0%\n",
      " | Epoch 4 | Loss: 0.3919312357902527 | Accuracy: 96.875%\n",
      " | Epoch 4 | Loss: 0.06342048197984695 | Accuracy: 96.875%\n"
     ]
    },
    {
     "name": "stderr",
     "output_type": "stream",
     "text": [
      "Epoch 4:  15%|████▍                        | 116/751 [00:01<00:06, 99.90batch/s, accuracy=98.4375%, loss=0.0244]"
     ]
    },
    {
     "name": "stdout",
     "output_type": "stream",
     "text": [
      " | Epoch 4 | Loss: 0.02306022122502327 | Accuracy: 98.4375%\n",
      " | Epoch 4 | Loss: 0.007702575530856848 | Accuracy: 100.0%\n",
      " | Epoch 4 | Loss: 0.00620686961337924 | Accuracy: 100.0%\n",
      " | Epoch 4 | Loss: 0.004591675009578466 | Accuracy: 100.0%\n",
      " | Epoch 4 | Loss: 0.029050713405013084 | Accuracy: 98.4375%\n",
      " | Epoch 4 | Loss: 0.006573603022843599 | Accuracy: 100.0%\n",
      " | Epoch 4 | Loss: 0.005973713006824255 | Accuracy: 100.0%\n",
      " | Epoch 4 | Loss: 0.007739881984889507 | Accuracy: 100.0%\n",
      " | Epoch 4 | Loss: 0.008979429490864277 | Accuracy: 100.0%\n",
      " | Epoch 4 | Loss: 0.21375100314617157 | Accuracy: 96.875%\n",
      " | Epoch 4 | Loss: 0.004799289628863335 | Accuracy: 100.0%\n",
      " | Epoch 4 | Loss: 0.007532015908509493 | Accuracy: 100.0%\n",
      " | Epoch 4 | Loss: 0.014680657535791397 | Accuracy: 98.4375%\n",
      " | Epoch 4 | Loss: 0.008865345269441605 | Accuracy: 100.0%\n",
      " | Epoch 4 | Loss: 0.040336642414331436 | Accuracy: 100.0%\n",
      " | Epoch 4 | Loss: 0.024350889027118683 | Accuracy: 98.4375%\n"
     ]
    },
    {
     "name": "stderr",
     "output_type": "stream",
     "text": [
      "Epoch 4:  17%|█████                         | 127/751 [00:01<00:06, 99.12batch/s, accuracy=100.0%, loss=0.00592]"
     ]
    },
    {
     "name": "stdout",
     "output_type": "stream",
     "text": [
      " | Epoch 4 | Loss: 0.3218953609466553 | Accuracy: 96.875%\n",
      " | Epoch 4 | Loss: 0.08922340720891953 | Accuracy: 98.4375%\n",
      " | Epoch 4 | Loss: 0.003833955619484186 | Accuracy: 100.0%\n",
      " | Epoch 4 | Loss: 0.005922315642237663 | Accuracy: 100.0%\n"
     ]
    },
    {
     "name": "stderr",
     "output_type": "stream",
     "text": [
      "Epoch 4:  18%|█████▎                       | 138/751 [00:01<00:06, 100.51batch/s, accuracy=100.0%, loss=0.00432]"
     ]
    },
    {
     "name": "stdout",
     "output_type": "stream",
     "text": [
      " | Epoch 4 | Loss: 0.0026800851337611675 | Accuracy: 100.0%\n",
      " | Epoch 4 | Loss: 0.0044186972081661224 | Accuracy: 100.0%\n",
      " | Epoch 4 | Loss: 0.003543614409863949 | Accuracy: 100.0%\n",
      " | Epoch 4 | Loss: 0.014918308705091476 | Accuracy: 100.0%\n",
      " | Epoch 4 | Loss: 0.0030413141939789057 | Accuracy: 100.0%\n",
      " | Epoch 4 | Loss: 0.08006110787391663 | Accuracy: 96.875%\n",
      " | Epoch 4 | Loss: 0.005572344176471233 | Accuracy: 100.0%\n",
      " | Epoch 4 | Loss: 0.026153437793254852 | Accuracy: 98.4375%\n",
      " | Epoch 4 | Loss: 0.07385869324207306 | Accuracy: 98.4375%\n",
      " | Epoch 4 | Loss: 0.003754403442144394 | Accuracy: 100.0%\n",
      " | Epoch 4 | Loss: 0.006442708428949118 | Accuracy: 100.0%\n",
      " | Epoch 4 | Loss: 0.17087984085083008 | Accuracy: 96.875%\n",
      " | Epoch 4 | Loss: 0.6273767948150635 | Accuracy: 96.875%\n",
      " | Epoch 4 | Loss: 0.0035169366747140884 | Accuracy: 100.0%\n",
      " | Epoch 4 | Loss: 0.002661139937117696 | Accuracy: 100.0%\n",
      " | Epoch 4 | Loss: 0.016648301854729652 | Accuracy: 100.0%\n",
      " | Epoch 4 | Loss: 0.004324563313275576 | Accuracy: 100.0%\n"
     ]
    },
    {
     "name": "stderr",
     "output_type": "stream",
     "text": [
      "Epoch 4:  18%|█████▌                        | 138/751 [00:01<00:06, 100.51batch/s, accuracy=100.0%, loss=0.0561]"
     ]
    },
    {
     "name": "stdout",
     "output_type": "stream",
     "text": [
      " | Epoch 4 | Loss: 0.0018755190540105104 | Accuracy: 100.0%\n",
      " | Epoch 4 | Loss: 0.0032679024152457714 | Accuracy: 100.0%\n",
      " | Epoch 4 | Loss: 0.005664563737809658 | Accuracy: 100.0%\n",
      " | Epoch 4 | Loss: 0.0561039038002491 | Accuracy: 100.0%\n"
     ]
    },
    {
     "name": "stderr",
     "output_type": "stream",
     "text": [
      "Epoch 4:  21%|██████▏                      | 160/751 [00:01<00:05, 100.41batch/s, accuracy=100.0%, loss=0.00417]"
     ]
    },
    {
     "name": "stdout",
     "output_type": "stream",
     "text": [
      " | Epoch 4 | Loss: 0.00534015242010355 | Accuracy: 100.0%\n",
      " | Epoch 4 | Loss: 0.006225126329809427 | Accuracy: 100.0%\n",
      " | Epoch 4 | Loss: 0.013493416830897331 | Accuracy: 100.0%\n",
      " | Epoch 4 | Loss: 0.008008906617760658 | Accuracy: 100.0%\n",
      " | Epoch 4 | Loss: 0.023610783740878105 | Accuracy: 98.4375%\n",
      " | Epoch 4 | Loss: 0.00985739380121231 | Accuracy: 98.4375%\n",
      " | Epoch 4 | Loss: 0.022071244195103645 | Accuracy: 100.0%\n",
      " | Epoch 4 | Loss: 0.003131753532215953 | Accuracy: 100.0%\n",
      " | Epoch 4 | Loss: 0.0032016709446907043 | Accuracy: 100.0%\n",
      " | Epoch 4 | Loss: 0.005216804798692465 | Accuracy: 100.0%\n",
      " | Epoch 4 | Loss: 0.014666060917079449 | Accuracy: 98.4375%\n",
      " | Epoch 4 | Loss: 0.008225872181355953 | Accuracy: 100.0%\n",
      " | Epoch 4 | Loss: 0.041968412697315216 | Accuracy: 98.4375%\n",
      " | Epoch 4 | Loss: 0.01207389310002327 | Accuracy: 100.0%\n",
      " | Epoch 4 | Loss: 0.0069800433702766895 | Accuracy: 100.0%\n",
      " | Epoch 4 | Loss: 0.2982538640499115 | Accuracy: 98.4375%\n",
      " | Epoch 4 | Loss: 0.004167531616985798 | Accuracy: 100.0%\n"
     ]
    },
    {
     "name": "stderr",
     "output_type": "stream",
     "text": [
      "Epoch 4:  21%|██████▏                      | 160/751 [00:01<00:05, 100.41batch/s, accuracy=100.0%, loss=0.00603]"
     ]
    },
    {
     "name": "stdout",
     "output_type": "stream",
     "text": [
      " | Epoch 4 | Loss: 0.14278748631477356 | Accuracy: 98.4375%\n",
      " | Epoch 4 | Loss: 0.016645755618810654 | Accuracy: 100.0%\n",
      " | Epoch 4 | Loss: 0.0060289897955954075 | Accuracy: 100.0%\n"
     ]
    },
    {
     "name": "stderr",
     "output_type": "stream",
     "text": [
      "Epoch 4:  24%|███████▏                      | 181/751 [00:01<00:05, 98.64batch/s, accuracy=100.0%, loss=0.00903]"
     ]
    },
    {
     "name": "stdout",
     "output_type": "stream",
     "text": [
      " | Epoch 4 | Loss: 0.3631855249404907 | Accuracy: 96.875%\n",
      " | Epoch 4 | Loss: 0.010470127686858177 | Accuracy: 100.0%\n",
      " | Epoch 4 | Loss: 0.020969634875655174 | Accuracy: 100.0%\n",
      " | Epoch 4 | Loss: 0.026354148983955383 | Accuracy: 100.0%\n",
      " | Epoch 4 | Loss: 0.008835912682116032 | Accuracy: 100.0%\n",
      " | Epoch 4 | Loss: 0.006665324792265892 | Accuracy: 100.0%\n",
      " | Epoch 4 | Loss: 0.007109953090548515 | Accuracy: 100.0%\n",
      " | Epoch 4 | Loss: 0.08424880355596542 | Accuracy: 98.4375%\n",
      " | Epoch 4 | Loss: 0.028773708269000053 | Accuracy: 100.0%\n",
      " | Epoch 4 | Loss: 0.0049815368838608265 | Accuracy: 100.0%\n",
      " | Epoch 4 | Loss: 0.024622539058327675 | Accuracy: 98.4375%\n",
      " | Epoch 4 | Loss: 0.00839020311832428 | Accuracy: 100.0%\n",
      " | Epoch 4 | Loss: 0.002188578713685274 | Accuracy: 100.0%\n",
      " | Epoch 4 | Loss: 0.003216686425730586 | Accuracy: 100.0%\n",
      " | Epoch 4 | Loss: 0.006084705702960491 | Accuracy: 100.0%\n",
      " | Epoch 4 | Loss: 0.00869425106793642 | Accuracy: 100.0%\n",
      " | Epoch 4 | Loss: 0.009028502739965916 | Accuracy: 100.0%\n"
     ]
    },
    {
     "name": "stderr",
     "output_type": "stream",
     "text": [
      "Epoch 4:  24%|███████▍                       | 181/751 [00:02<00:05, 98.64batch/s, accuracy=100.0%, loss=0.0202]"
     ]
    },
    {
     "name": "stdout",
     "output_type": "stream",
     "text": [
      " | Epoch 4 | Loss: 0.004974714946001768 | Accuracy: 100.0%\n",
      " | Epoch 4 | Loss: 0.005810216534882784 | Accuracy: 100.0%\n",
      " | Epoch 4 | Loss: 0.010862094350159168 | Accuracy: 100.0%\n",
      " | Epoch 4 | Loss: 0.020199736580252647 | Accuracy: 100.0%\n"
     ]
    },
    {
     "name": "stderr",
     "output_type": "stream",
     "text": [
      "Epoch 4:  27%|███████▊                     | 203/751 [00:02<00:05, 100.21batch/s, accuracy=100.0%, loss=0.00751]"
     ]
    },
    {
     "name": "stdout",
     "output_type": "stream",
     "text": [
      " | Epoch 4 | Loss: 0.007018184754997492 | Accuracy: 100.0%\n",
      " | Epoch 4 | Loss: 0.012739080004394054 | Accuracy: 100.0%\n",
      " | Epoch 4 | Loss: 0.006782582029700279 | Accuracy: 100.0%\n",
      " | Epoch 4 | Loss: 0.748081386089325 | Accuracy: 98.4375%\n",
      " | Epoch 4 | Loss: 0.009067920967936516 | Accuracy: 100.0%\n",
      " | Epoch 4 | Loss: 0.004650877323001623 | Accuracy: 100.0%\n",
      " | Epoch 4 | Loss: 0.0125992177054286 | Accuracy: 100.0%\n",
      " | Epoch 4 | Loss: 0.007546533830463886 | Accuracy: 100.0%\n",
      " | Epoch 4 | Loss: 0.004391403403133154 | Accuracy: 100.0%\n",
      " | Epoch 4 | Loss: 0.004462391138076782 | Accuracy: 100.0%\n",
      " | Epoch 4 | Loss: 0.005494561046361923 | Accuracy: 100.0%\n",
      " | Epoch 4 | Loss: 0.004423275124281645 | Accuracy: 100.0%\n",
      " | Epoch 4 | Loss: 0.006713067181408405 | Accuracy: 100.0%\n",
      " | Epoch 4 | Loss: 0.020495787262916565 | Accuracy: 100.0%\n",
      " | Epoch 4 | Loss: 0.005770093761384487 | Accuracy: 100.0%\n",
      " | Epoch 4 | Loss: 0.007513074204325676 | Accuracy: 100.0%\n"
     ]
    },
    {
     "name": "stderr",
     "output_type": "stream",
     "text": [
      "Epoch 4:  27%|████████▍                      | 203/751 [00:02<00:05, 100.21batch/s, accuracy=100.0%, loss=0.028]"
     ]
    },
    {
     "name": "stdout",
     "output_type": "stream",
     "text": [
      " | Epoch 4 | Loss: 0.00909356027841568 | Accuracy: 100.0%\n",
      " | Epoch 4 | Loss: 0.011676715686917305 | Accuracy: 100.0%\n",
      " | Epoch 4 | Loss: 0.008893939666450024 | Accuracy: 100.0%\n",
      " | Epoch 4 | Loss: 0.027966711670160294 | Accuracy: 100.0%\n"
     ]
    },
    {
     "name": "stderr",
     "output_type": "stream",
     "text": [
      "Epoch 4:  30%|████████▉                     | 224/751 [00:02<00:05, 98.21batch/s, accuracy=98.4375%, loss=0.154]"
     ]
    },
    {
     "name": "stdout",
     "output_type": "stream",
     "text": [
      " | Epoch 4 | Loss: 0.015238608233630657 | Accuracy: 100.0%\n",
      " | Epoch 4 | Loss: 0.013641200959682465 | Accuracy: 100.0%\n",
      " | Epoch 4 | Loss: 0.004187180660665035 | Accuracy: 100.0%\n",
      " | Epoch 4 | Loss: 0.012935943901538849 | Accuracy: 98.4375%\n",
      " | Epoch 4 | Loss: 0.009023955091834068 | Accuracy: 100.0%\n",
      " | Epoch 4 | Loss: 0.008333809673786163 | Accuracy: 100.0%\n",
      " | Epoch 4 | Loss: 0.04691135883331299 | Accuracy: 100.0%\n",
      " | Epoch 4 | Loss: 0.013247890397906303 | Accuracy: 100.0%\n",
      " | Epoch 4 | Loss: 0.01127662230283022 | Accuracy: 100.0%\n",
      " | Epoch 4 | Loss: 0.0058965799398720264 | Accuracy: 100.0%\n",
      " | Epoch 4 | Loss: 0.017334261909127235 | Accuracy: 98.4375%\n",
      " | Epoch 4 | Loss: 0.014115133322775364 | Accuracy: 100.0%\n",
      " | Epoch 4 | Loss: 0.21632112562656403 | Accuracy: 98.4375%\n",
      " | Epoch 4 | Loss: 0.011213945224881172 | Accuracy: 100.0%\n",
      " | Epoch 4 | Loss: 0.48903098702430725 | Accuracy: 98.4375%\n",
      " | Epoch 4 | Loss: 0.15410053730010986 | Accuracy: 98.4375%\n"
     ]
    },
    {
     "name": "stderr",
     "output_type": "stream",
     "text": [
      "Epoch 4:  30%|█████████▏                     | 224/751 [00:02<00:05, 98.21batch/s, accuracy=100.0%, loss=0.0111]"
     ]
    },
    {
     "name": "stdout",
     "output_type": "stream",
     "text": [
      " | Epoch 4 | Loss: 0.04321013018488884 | Accuracy: 100.0%\n",
      " | Epoch 4 | Loss: 0.0941116139292717 | Accuracy: 98.4375%\n",
      " | Epoch 4 | Loss: 0.030011413618922234 | Accuracy: 98.4375%\n",
      " | Epoch 4 | Loss: 0.011118337512016296 | Accuracy: 100.0%\n"
     ]
    },
    {
     "name": "stderr",
     "output_type": "stream",
     "text": [
      "Epoch 4:  33%|█████████▊                    | 245/751 [00:02<00:05, 98.66batch/s, accuracy=100.0%, loss=0.00478]"
     ]
    },
    {
     "name": "stdout",
     "output_type": "stream",
     "text": [
      " | Epoch 4 | Loss: 0.03315558657050133 | Accuracy: 96.875%\n",
      " | Epoch 4 | Loss: 0.03128953278064728 | Accuracy: 100.0%\n",
      " | Epoch 4 | Loss: 0.009950421750545502 | Accuracy: 100.0%\n",
      " | Epoch 4 | Loss: 0.08785506337881088 | Accuracy: 98.4375%\n",
      " | Epoch 4 | Loss: 0.05297265574336052 | Accuracy: 98.4375%\n",
      " | Epoch 4 | Loss: 0.024376558139920235 | Accuracy: 100.0%\n",
      " | Epoch 4 | Loss: 0.039566561579704285 | Accuracy: 96.875%\n",
      " | Epoch 4 | Loss: 0.3121066987514496 | Accuracy: 96.875%\n",
      " | Epoch 4 | Loss: 0.054988034069538116 | Accuracy: 98.4375%\n",
      " | Epoch 4 | Loss: 0.015351517125964165 | Accuracy: 100.0%\n",
      " | Epoch 4 | Loss: 0.014044580981135368 | Accuracy: 100.0%\n",
      " | Epoch 4 | Loss: 0.01002082135528326 | Accuracy: 100.0%\n",
      " | Epoch 4 | Loss: 0.051127493381500244 | Accuracy: 98.4375%\n",
      " | Epoch 4 | Loss: 0.008666076697409153 | Accuracy: 100.0%\n",
      " | Epoch 4 | Loss: 0.483842670917511 | Accuracy: 98.4375%\n",
      " | Epoch 4 | Loss: 0.004775555804371834 | Accuracy: 100.0%\n"
     ]
    },
    {
     "name": "stderr",
     "output_type": "stream",
     "text": [
      "Epoch 4:  33%|██████████                     | 245/751 [00:02<00:05, 98.66batch/s, accuracy=100.0%, loss=0.0187]"
     ]
    },
    {
     "name": "stdout",
     "output_type": "stream",
     "text": [
      " | Epoch 4 | Loss: 0.08871162682771683 | Accuracy: 98.4375%\n",
      " | Epoch 4 | Loss: 0.1154157966375351 | Accuracy: 98.4375%\n",
      " | Epoch 4 | Loss: 0.02232130616903305 | Accuracy: 100.0%\n",
      " | Epoch 4 | Loss: 0.06267662346363068 | Accuracy: 100.0%\n"
     ]
    },
    {
     "name": "stderr",
     "output_type": "stream",
     "text": [
      "Epoch 4:  34%|██████████▏                   | 256/751 [00:02<00:04, 99.01batch/s, accuracy=100.0%, loss=0.00318]"
     ]
    },
    {
     "name": "stdout",
     "output_type": "stream",
     "text": [
      " | Epoch 4 | Loss: 0.01868954859673977 | Accuracy: 100.0%\n",
      " | Epoch 4 | Loss: 0.01758403517305851 | Accuracy: 98.4375%\n",
      " | Epoch 4 | Loss: 0.03214263543486595 | Accuracy: 98.4375%\n",
      " | Epoch 4 | Loss: 0.008297125808894634 | Accuracy: 100.0%\n",
      " | Epoch 4 | Loss: 0.045185353606939316 | Accuracy: 96.875%\n",
      " | Epoch 4 | Loss: 0.046580784022808075 | Accuracy: 98.4375%\n",
      " | Epoch 4 | Loss: 0.6367591619491577 | Accuracy: 96.875%\n",
      " | Epoch 4 | Loss: 0.15082553029060364 | Accuracy: 98.4375%\n",
      " | Epoch 4 | Loss: 0.0061483196914196014 | Accuracy: 100.0%\n",
      " | Epoch 4 | Loss: 0.14700350165367126 | Accuracy: 96.875%\n",
      " | Epoch 4 | Loss: 0.02905244752764702 | Accuracy: 100.0%\n",
      " | Epoch 4 | Loss: 0.006697915494441986 | Accuracy: 100.0%\n",
      " | Epoch 4 | Loss: 0.17865519225597382 | Accuracy: 98.4375%\n",
      " | Epoch 4 | Loss: 0.0071956561878323555 | Accuracy: 100.0%\n",
      " | Epoch 4 | Loss: 0.005572593305259943 | Accuracy: 100.0%\n",
      " | Epoch 4 | Loss: 0.003182543208822608 | Accuracy: 100.0%\n"
     ]
    },
    {
     "name": "stderr",
     "output_type": "stream",
     "text": [
      "Epoch 4:  35%|██████████▋                   | 266/751 [00:02<00:04, 98.34batch/s, accuracy=100.0%, loss=0.00314]"
     ]
    },
    {
     "name": "stdout",
     "output_type": "stream",
     "text": [
      " | Epoch 4 | Loss: 0.07565215975046158 | Accuracy: 98.4375%\n",
      " | Epoch 4 | Loss: 0.008880292996764183 | Accuracy: 100.0%\n",
      " | Epoch 4 | Loss: 0.009382454678416252 | Accuracy: 98.4375%\n",
      " | Epoch 4 | Loss: 0.0031425124034285545 | Accuracy: 100.0%\n"
     ]
    },
    {
     "name": "stderr",
     "output_type": "stream",
     "text": [
      "Epoch 4:  37%|███████████                   | 276/751 [00:03<00:04, 97.34batch/s, accuracy=100.0%, loss=0.00335]"
     ]
    },
    {
     "name": "stdout",
     "output_type": "stream",
     "text": [
      " | Epoch 4 | Loss: 0.003783527994528413 | Accuracy: 100.0%\n",
      " | Epoch 4 | Loss: 0.01573259010910988 | Accuracy: 100.0%\n",
      " | Epoch 4 | Loss: 0.008432839065790176 | Accuracy: 100.0%\n",
      " | Epoch 4 | Loss: 0.01285457331687212 | Accuracy: 100.0%\n",
      " | Epoch 4 | Loss: 0.011449659243226051 | Accuracy: 100.0%\n",
      " | Epoch 4 | Loss: 0.06285671144723892 | Accuracy: 98.4375%\n",
      " | Epoch 4 | Loss: 0.03429706394672394 | Accuracy: 100.0%\n",
      " | Epoch 4 | Loss: 0.013982634991407394 | Accuracy: 100.0%\n",
      " | Epoch 4 | Loss: 0.0398932546377182 | Accuracy: 98.4375%\n",
      " | Epoch 4 | Loss: 0.33972081542015076 | Accuracy: 96.875%\n",
      " | Epoch 4 | Loss: 0.020732058212161064 | Accuracy: 100.0%\n",
      " | Epoch 4 | Loss: 0.010411417111754417 | Accuracy: 100.0%\n",
      " | Epoch 4 | Loss: 0.005743083544075489 | Accuracy: 100.0%\n",
      " | Epoch 4 | Loss: 0.005934756714850664 | Accuracy: 100.0%\n",
      " | Epoch 4 | Loss: 0.006489984225481749 | Accuracy: 100.0%\n",
      " | Epoch 4 | Loss: 0.003350241109728813 | Accuracy: 100.0%\n"
     ]
    },
    {
     "name": "stderr",
     "output_type": "stream",
     "text": [
      "Epoch 4:  38%|███████████                  | 287/751 [00:03<00:04, 98.39batch/s, accuracy=98.4375%, loss=0.0269]"
     ]
    },
    {
     "name": "stdout",
     "output_type": "stream",
     "text": [
      " | Epoch 4 | Loss: 0.30018284916877747 | Accuracy: 98.4375%\n",
      " | Epoch 4 | Loss: 0.013314155861735344 | Accuracy: 100.0%\n",
      " | Epoch 4 | Loss: 0.06401710212230682 | Accuracy: 96.875%\n",
      " | Epoch 4 | Loss: 0.02694328874349594 | Accuracy: 98.4375%\n"
     ]
    },
    {
     "name": "stderr",
     "output_type": "stream",
     "text": [
      "Epoch 4:  40%|███████████▉                  | 298/751 [00:03<00:04, 100.13batch/s, accuracy=100.0%, loss=0.0156]"
     ]
    },
    {
     "name": "stdout",
     "output_type": "stream",
     "text": [
      " | Epoch 4 | Loss: 0.2820689082145691 | Accuracy: 95.3125%\n",
      " | Epoch 4 | Loss: 0.11904503405094147 | Accuracy: 98.4375%\n",
      " | Epoch 4 | Loss: 0.03875046223402023 | Accuracy: 98.4375%\n",
      " | Epoch 4 | Loss: 0.00539641035720706 | Accuracy: 100.0%\n",
      " | Epoch 4 | Loss: 0.016554784029722214 | Accuracy: 100.0%\n",
      " | Epoch 4 | Loss: 0.013501685112714767 | Accuracy: 98.4375%\n",
      " | Epoch 4 | Loss: 0.015466179698705673 | Accuracy: 100.0%\n",
      " | Epoch 4 | Loss: 0.008056413382291794 | Accuracy: 100.0%\n",
      " | Epoch 4 | Loss: 0.008424784988164902 | Accuracy: 100.0%\n",
      " | Epoch 4 | Loss: 0.014100581407546997 | Accuracy: 100.0%\n",
      " | Epoch 4 | Loss: 0.22254009544849396 | Accuracy: 96.875%\n",
      " | Epoch 4 | Loss: 0.2524951100349426 | Accuracy: 96.875%\n",
      " | Epoch 4 | Loss: 0.009469795972108841 | Accuracy: 100.0%\n",
      " | Epoch 4 | Loss: 0.030466239899396896 | Accuracy: 100.0%\n",
      " | Epoch 4 | Loss: 0.02801164984703064 | Accuracy: 100.0%\n",
      " | Epoch 4 | Loss: 0.03978298604488373 | Accuracy: 98.4375%\n",
      " | Epoch 4 | Loss: 0.01558010745793581 | Accuracy: 100.0%\n"
     ]
    },
    {
     "name": "stderr",
     "output_type": "stream",
     "text": [
      "Epoch 4:  41%|████████████▎                 | 309/751 [00:03<00:04, 101.49batch/s, accuracy=100.0%, loss=0.0145]"
     ]
    },
    {
     "name": "stdout",
     "output_type": "stream",
     "text": [
      " | Epoch 4 | Loss: 0.05697666108608246 | Accuracy: 98.4375%\n",
      " | Epoch 4 | Loss: 0.01335189864039421 | Accuracy: 100.0%\n",
      " | Epoch 4 | Loss: 0.023683343082666397 | Accuracy: 100.0%\n",
      " | Epoch 4 | Loss: 0.014463966712355614 | Accuracy: 100.0%\n"
     ]
    },
    {
     "name": "stderr",
     "output_type": "stream",
     "text": [
      "Epoch 4:  43%|████████████▎                | 320/751 [00:03<00:04, 100.10batch/s, accuracy=100.0%, loss=0.00643]"
     ]
    },
    {
     "name": "stdout",
     "output_type": "stream",
     "text": [
      " | Epoch 4 | Loss: 0.045574985444545746 | Accuracy: 98.4375%\n",
      " | Epoch 4 | Loss: 0.1887551248073578 | Accuracy: 95.3125%\n",
      " | Epoch 4 | Loss: 0.05160477012395859 | Accuracy: 100.0%\n",
      " | Epoch 4 | Loss: 0.010109886527061462 | Accuracy: 98.4375%\n",
      " | Epoch 4 | Loss: 0.05211193487048149 | Accuracy: 98.4375%\n",
      " | Epoch 4 | Loss: 0.005795460194349289 | Accuracy: 100.0%\n",
      " | Epoch 4 | Loss: 0.009294850751757622 | Accuracy: 98.4375%\n",
      " | Epoch 4 | Loss: 0.0056521776132285595 | Accuracy: 100.0%\n",
      " | Epoch 4 | Loss: 0.019140899181365967 | Accuracy: 100.0%\n",
      " | Epoch 4 | Loss: 0.006118196062743664 | Accuracy: 100.0%\n",
      " | Epoch 4 | Loss: 0.015011835843324661 | Accuracy: 100.0%\n",
      " | Epoch 4 | Loss: 0.02539602294564247 | Accuracy: 100.0%\n",
      " | Epoch 4 | Loss: 0.004001926630735397 | Accuracy: 100.0%\n",
      " | Epoch 4 | Loss: 0.006023091729730368 | Accuracy: 100.0%\n",
      " | Epoch 4 | Loss: 0.01856127381324768 | Accuracy: 98.4375%\n",
      " | Epoch 4 | Loss: 0.0064309146255254745 | Accuracy: 100.0%\n"
     ]
    },
    {
     "name": "stderr",
     "output_type": "stream",
     "text": [
      "Epoch 4:  43%|████████████▎                | 320/751 [00:03<00:04, 100.10batch/s, accuracy=98.4375%, loss=0.187]"
     ]
    },
    {
     "name": "stdout",
     "output_type": "stream",
     "text": [
      " | Epoch 4 | Loss: 0.01360512524843216 | Accuracy: 100.0%\n",
      " | Epoch 4 | Loss: 0.0077790734358131886 | Accuracy: 100.0%\n",
      " | Epoch 4 | Loss: 0.01245951745659113 | Accuracy: 98.4375%\n",
      " | Epoch 4 | Loss: 0.18659095466136932 | Accuracy: 98.4375%\n"
     ]
    },
    {
     "name": "stderr",
     "output_type": "stream",
     "text": [
      "Epoch 4:  45%|█████████████▌                | 341/751 [00:03<00:04, 98.76batch/s, accuracy=96.875%, loss=0.0818]"
     ]
    },
    {
     "name": "stdout",
     "output_type": "stream",
     "text": [
      " | Epoch 4 | Loss: 0.006301353219896555 | Accuracy: 100.0%\n",
      " | Epoch 4 | Loss: 0.0061381240375339985 | Accuracy: 100.0%\n",
      " | Epoch 4 | Loss: 0.013152488507330418 | Accuracy: 100.0%\n",
      " | Epoch 4 | Loss: 0.009748666547238827 | Accuracy: 100.0%\n",
      " | Epoch 4 | Loss: 0.004423205740749836 | Accuracy: 100.0%\n",
      " | Epoch 4 | Loss: 0.06169714778661728 | Accuracy: 98.4375%\n",
      " | Epoch 4 | Loss: 0.002700702752918005 | Accuracy: 100.0%\n",
      " | Epoch 4 | Loss: 1.0093185901641846 | Accuracy: 98.4375%\n",
      " | Epoch 4 | Loss: 0.026329519227147102 | Accuracy: 100.0%\n",
      " | Epoch 4 | Loss: 0.13544106483459473 | Accuracy: 98.4375%\n",
      " | Epoch 4 | Loss: 0.05283912271261215 | Accuracy: 96.875%\n",
      " | Epoch 4 | Loss: 0.24452514946460724 | Accuracy: 98.4375%\n",
      " | Epoch 4 | Loss: 0.022499118000268936 | Accuracy: 98.4375%\n",
      " | Epoch 4 | Loss: 0.09668755531311035 | Accuracy: 96.875%\n",
      " | Epoch 4 | Loss: 0.028169022873044014 | Accuracy: 100.0%\n",
      " | Epoch 4 | Loss: 0.08175341039896011 | Accuracy: 96.875%\n"
     ]
    },
    {
     "name": "stderr",
     "output_type": "stream",
     "text": [
      "Epoch 4:  45%|██████████████                 | 341/751 [00:03<00:04, 98.76batch/s, accuracy=100.0%, loss=0.0217]"
     ]
    },
    {
     "name": "stdout",
     "output_type": "stream",
     "text": [
      " | Epoch 4 | Loss: 0.0845918133854866 | Accuracy: 98.4375%\n",
      " | Epoch 4 | Loss: 0.025863967835903168 | Accuracy: 100.0%\n",
      " | Epoch 4 | Loss: 0.03712748363614082 | Accuracy: 100.0%\n",
      " | Epoch 4 | Loss: 0.02170824632048607 | Accuracy: 100.0%\n"
     ]
    },
    {
     "name": "stderr",
     "output_type": "stream",
     "text": [
      "Epoch 4:  48%|██████████████▉                | 362/751 [00:03<00:03, 99.67batch/s, accuracy=100.0%, loss=0.0068]"
     ]
    },
    {
     "name": "stdout",
     "output_type": "stream",
     "text": [
      " | Epoch 4 | Loss: 0.019735630601644516 | Accuracy: 100.0%\n",
      " | Epoch 4 | Loss: 0.45506468415260315 | Accuracy: 96.875%\n",
      " | Epoch 4 | Loss: 0.02534603700041771 | Accuracy: 98.4375%\n",
      " | Epoch 4 | Loss: 0.04004345089197159 | Accuracy: 100.0%\n",
      " | Epoch 4 | Loss: 0.016670167446136475 | Accuracy: 100.0%\n",
      " | Epoch 4 | Loss: 0.01610405370593071 | Accuracy: 100.0%\n",
      " | Epoch 4 | Loss: 0.01312582939863205 | Accuracy: 100.0%\n",
      " | Epoch 4 | Loss: 0.024644384160637856 | Accuracy: 100.0%\n",
      " | Epoch 4 | Loss: 0.053948212414979935 | Accuracy: 96.875%\n",
      " | Epoch 4 | Loss: 0.02532745711505413 | Accuracy: 100.0%\n",
      " | Epoch 4 | Loss: 0.04243350774049759 | Accuracy: 98.4375%\n",
      " | Epoch 4 | Loss: 0.02360992506146431 | Accuracy: 100.0%\n",
      " | Epoch 4 | Loss: 0.018596328794956207 | Accuracy: 100.0%\n",
      " | Epoch 4 | Loss: 0.022907404229044914 | Accuracy: 100.0%\n",
      " | Epoch 4 | Loss: 0.04677809029817581 | Accuracy: 98.4375%\n",
      " | Epoch 4 | Loss: 0.006801997311413288 | Accuracy: 100.0%\n"
     ]
    },
    {
     "name": "stderr",
     "output_type": "stream",
     "text": [
      "Epoch 4:  48%|█████████████▉               | 362/751 [00:03<00:03, 99.67batch/s, accuracy=98.4375%, loss=0.0258]"
     ]
    },
    {
     "name": "stdout",
     "output_type": "stream",
     "text": [
      " | Epoch 4 | Loss: 0.007511775940656662 | Accuracy: 100.0%\n",
      " | Epoch 4 | Loss: 0.038510389626026154 | Accuracy: 98.4375%\n",
      " | Epoch 4 | Loss: 0.017648542299866676 | Accuracy: 100.0%\n",
      " | Epoch 4 | Loss: 0.0068167755380272865 | Accuracy: 100.0%\n",
      " | Epoch 4 | Loss: 0.02577102743089199 | Accuracy: 98.4375%\n"
     ]
    },
    {
     "name": "stderr",
     "output_type": "stream",
     "text": [
      "Epoch 4:  51%|███████████████▎              | 384/751 [00:04<00:03, 100.36batch/s, accuracy=100.0%, loss=0.0157]"
     ]
    },
    {
     "name": "stdout",
     "output_type": "stream",
     "text": [
      " | Epoch 4 | Loss: 0.13454487919807434 | Accuracy: 98.4375%\n",
      " | Epoch 4 | Loss: 0.009463158436119556 | Accuracy: 100.0%\n",
      " | Epoch 4 | Loss: 0.1711115539073944 | Accuracy: 96.875%\n",
      " | Epoch 4 | Loss: 0.01028558798134327 | Accuracy: 100.0%\n",
      " | Epoch 4 | Loss: 0.014276338741183281 | Accuracy: 100.0%\n",
      " | Epoch 4 | Loss: 0.006257664877921343 | Accuracy: 100.0%\n",
      " | Epoch 4 | Loss: 0.007200129795819521 | Accuracy: 100.0%\n",
      " | Epoch 4 | Loss: 0.01338453870266676 | Accuracy: 100.0%\n",
      " | Epoch 4 | Loss: 0.006212836131453514 | Accuracy: 100.0%\n",
      " | Epoch 4 | Loss: 0.00696637574583292 | Accuracy: 100.0%\n",
      " | Epoch 4 | Loss: 0.01844373159110546 | Accuracy: 100.0%\n",
      " | Epoch 4 | Loss: 0.013462316244840622 | Accuracy: 98.4375%\n",
      " | Epoch 4 | Loss: 0.006570306606590748 | Accuracy: 100.0%\n",
      " | Epoch 4 | Loss: 0.008392048068344593 | Accuracy: 100.0%\n",
      " | Epoch 4 | Loss: 0.008864788338541985 | Accuracy: 100.0%\n",
      " | Epoch 4 | Loss: 0.015737561509013176 | Accuracy: 100.0%\n"
     ]
    },
    {
     "name": "stderr",
     "output_type": "stream",
     "text": [
      "Epoch 4:  51%|██████████████▊              | 384/751 [00:04<00:03, 100.36batch/s, accuracy=98.4375%, loss=0.401]"
     ]
    },
    {
     "name": "stdout",
     "output_type": "stream",
     "text": [
      " | Epoch 4 | Loss: 0.008970288559794426 | Accuracy: 100.0%\n",
      " | Epoch 4 | Loss: 0.003932445775717497 | Accuracy: 100.0%\n",
      " | Epoch 4 | Loss: 0.004344426095485687 | Accuracy: 100.0%\n",
      " | Epoch 4 | Loss: 0.017782535403966904 | Accuracy: 100.0%\n",
      " | Epoch 4 | Loss: 0.4013444483280182 | Accuracy: 98.4375%\n"
     ]
    },
    {
     "name": "stderr",
     "output_type": "stream",
     "text": [
      "Epoch 4:  54%|████████████████▏             | 406/751 [00:04<00:03, 101.72batch/s, accuracy=100.0%, loss=0.0214]"
     ]
    },
    {
     "name": "stdout",
     "output_type": "stream",
     "text": [
      " | Epoch 4 | Loss: 0.007562014274299145 | Accuracy: 100.0%\n",
      " | Epoch 4 | Loss: 0.008016062900424004 | Accuracy: 100.0%\n",
      " | Epoch 4 | Loss: 0.0157157089561224 | Accuracy: 100.0%\n",
      " | Epoch 4 | Loss: 0.02461880072951317 | Accuracy: 98.4375%\n",
      " | Epoch 4 | Loss: 0.020111067220568657 | Accuracy: 100.0%\n",
      " | Epoch 4 | Loss: 0.007521043531596661 | Accuracy: 100.0%\n",
      " | Epoch 4 | Loss: 0.027074702084064484 | Accuracy: 98.4375%\n",
      " | Epoch 4 | Loss: 0.007498553488403559 | Accuracy: 100.0%\n",
      " | Epoch 4 | Loss: 0.015955278649926186 | Accuracy: 98.4375%\n",
      " | Epoch 4 | Loss: 0.20676620304584503 | Accuracy: 98.4375%\n",
      " | Epoch 4 | Loss: 0.014356806874275208 | Accuracy: 100.0%\n",
      " | Epoch 4 | Loss: 0.13683460652828217 | Accuracy: 100.0%\n",
      " | Epoch 4 | Loss: 0.3533269762992859 | Accuracy: 98.4375%\n",
      " | Epoch 4 | Loss: 0.0044398074969649315 | Accuracy: 100.0%\n",
      " | Epoch 4 | Loss: 0.02085604891180992 | Accuracy: 100.0%\n",
      " | Epoch 4 | Loss: 0.02140745148062706 | Accuracy: 100.0%\n"
     ]
    },
    {
     "name": "stderr",
     "output_type": "stream",
     "text": [
      "Epoch 4:  54%|███████████████▋             | 406/751 [00:04<00:03, 101.72batch/s, accuracy=96.875%, loss=0.0682]"
     ]
    },
    {
     "name": "stdout",
     "output_type": "stream",
     "text": [
      " | Epoch 4 | Loss: 0.004000064451247454 | Accuracy: 100.0%\n",
      " | Epoch 4 | Loss: 0.011762299574911594 | Accuracy: 100.0%\n",
      " | Epoch 4 | Loss: 0.050348930060863495 | Accuracy: 98.4375%\n",
      " | Epoch 4 | Loss: 0.013824855908751488 | Accuracy: 100.0%\n",
      " | Epoch 4 | Loss: 0.02072931081056595 | Accuracy: 100.0%\n",
      " | Epoch 4 | Loss: 0.06823313981294632 | Accuracy: 96.875%\n"
     ]
    },
    {
     "name": "stderr",
     "output_type": "stream",
     "text": [
      "Epoch 4:  57%|████████████████▌            | 428/751 [00:04<00:03, 102.83batch/s, accuracy=100.0%, loss=0.00574]"
     ]
    },
    {
     "name": "stdout",
     "output_type": "stream",
     "text": [
      " | Epoch 4 | Loss: 0.003264278406277299 | Accuracy: 100.0%\n",
      " | Epoch 4 | Loss: 0.05661081522703171 | Accuracy: 96.875%\n",
      " | Epoch 4 | Loss: 0.008772104978561401 | Accuracy: 100.0%\n",
      " | Epoch 4 | Loss: 0.004228364210575819 | Accuracy: 100.0%\n",
      " | Epoch 4 | Loss: 0.14235836267471313 | Accuracy: 98.4375%\n",
      " | Epoch 4 | Loss: 0.10056895762681961 | Accuracy: 98.4375%\n",
      " | Epoch 4 | Loss: 0.007204512134194374 | Accuracy: 100.0%\n",
      " | Epoch 4 | Loss: 0.012859391048550606 | Accuracy: 100.0%\n",
      " | Epoch 4 | Loss: 0.01946401782333851 | Accuracy: 100.0%\n",
      " | Epoch 4 | Loss: 0.008867504075169563 | Accuracy: 100.0%\n",
      " | Epoch 4 | Loss: 0.020015358924865723 | Accuracy: 100.0%\n",
      " | Epoch 4 | Loss: 0.004694860428571701 | Accuracy: 100.0%\n",
      " | Epoch 4 | Loss: 0.008263022638857365 | Accuracy: 100.0%\n",
      " | Epoch 4 | Loss: 0.00511465547606349 | Accuracy: 100.0%\n",
      " | Epoch 4 | Loss: 0.005735883954912424 | Accuracy: 100.0%\n"
     ]
    },
    {
     "name": "stderr",
     "output_type": "stream",
     "text": [
      "Epoch 4:  57%|█████████████████             | 428/751 [00:04<00:03, 102.83batch/s, accuracy=100.0%, loss=0.0151]"
     ]
    },
    {
     "name": "stdout",
     "output_type": "stream",
     "text": [
      " | Epoch 4 | Loss: 0.33765631914138794 | Accuracy: 98.4375%\n",
      " | Epoch 4 | Loss: 0.2250017523765564 | Accuracy: 98.4375%\n",
      " | Epoch 4 | Loss: 0.0158302653580904 | Accuracy: 100.0%\n",
      " | Epoch 4 | Loss: 0.005728410556912422 | Accuracy: 100.0%\n",
      " | Epoch 4 | Loss: 0.02496570721268654 | Accuracy: 100.0%\n",
      " | Epoch 4 | Loss: 0.015119346790015697 | Accuracy: 100.0%\n"
     ]
    },
    {
     "name": "stderr",
     "output_type": "stream",
     "text": [
      "Epoch 4:  58%|█████████████████▌            | 439/751 [00:04<00:03, 101.97batch/s, accuracy=93.75%, loss=0.0858]"
     ]
    },
    {
     "name": "stdout",
     "output_type": "stream",
     "text": [
      " | Epoch 4 | Loss: 0.14248420298099518 | Accuracy: 98.4375%\n",
      " | Epoch 4 | Loss: 0.019015811383724213 | Accuracy: 98.4375%\n",
      " | Epoch 4 | Loss: 0.006172001361846924 | Accuracy: 100.0%\n",
      " | Epoch 4 | Loss: 0.012499768286943436 | Accuracy: 100.0%\n",
      " | Epoch 4 | Loss: 0.008623616769909859 | Accuracy: 100.0%\n",
      " | Epoch 4 | Loss: 0.038029640913009644 | Accuracy: 100.0%\n",
      " | Epoch 4 | Loss: 0.0218596700578928 | Accuracy: 100.0%\n",
      " | Epoch 4 | Loss: 0.9553248286247253 | Accuracy: 96.875%\n",
      " | Epoch 4 | Loss: 0.05248022451996803 | Accuracy: 100.0%\n",
      " | Epoch 4 | Loss: 0.019359715282917023 | Accuracy: 100.0%\n",
      " | Epoch 4 | Loss: 0.06335296481847763 | Accuracy: 98.4375%\n",
      " | Epoch 4 | Loss: 0.04495041444897652 | Accuracy: 100.0%\n",
      " | Epoch 4 | Loss: 0.0684821680188179 | Accuracy: 98.4375%\n",
      " | Epoch 4 | Loss: 0.08581437915563583 | Accuracy: 93.75%\n"
     ]
    },
    {
     "name": "stderr",
     "output_type": "stream",
     "text": [
      "Epoch 4:  60%|████████████████▊           | 450/751 [00:04<00:02, 101.31batch/s, accuracy=98.4375%, loss=0.0298]"
     ]
    },
    {
     "name": "stdout",
     "output_type": "stream",
     "text": [
      " | Epoch 4 | Loss: 0.032102346420288086 | Accuracy: 96.875%\n",
      " | Epoch 4 | Loss: 0.05815649777650833 | Accuracy: 96.875%\n",
      " | Epoch 4 | Loss: 0.01665556989610195 | Accuracy: 100.0%\n",
      " | Epoch 4 | Loss: 0.027619702741503716 | Accuracy: 100.0%\n",
      " | Epoch 4 | Loss: 0.10274922102689743 | Accuracy: 98.4375%\n",
      " | Epoch 4 | Loss: 0.2652750313282013 | Accuracy: 98.4375%\n",
      " | Epoch 4 | Loss: 0.02975638397037983 | Accuracy: 98.4375%\n"
     ]
    },
    {
     "name": "stderr",
     "output_type": "stream",
     "text": [
      "Epoch 4:  61%|█████████████████▏          | 461/751 [00:04<00:02, 100.44batch/s, accuracy=98.4375%, loss=0.0877]"
     ]
    },
    {
     "name": "stdout",
     "output_type": "stream",
     "text": [
      " | Epoch 4 | Loss: 0.01632855460047722 | Accuracy: 100.0%\n",
      " | Epoch 4 | Loss: 0.02625536173582077 | Accuracy: 100.0%\n",
      " | Epoch 4 | Loss: 0.027031932026147842 | Accuracy: 100.0%\n",
      " | Epoch 4 | Loss: 0.04875228554010391 | Accuracy: 100.0%\n",
      " | Epoch 4 | Loss: 0.6726168990135193 | Accuracy: 96.875%\n",
      " | Epoch 4 | Loss: 0.3321633040904999 | Accuracy: 98.4375%\n",
      " | Epoch 4 | Loss: 0.01148174423724413 | Accuracy: 100.0%\n",
      " | Epoch 4 | Loss: 0.1249178871512413 | Accuracy: 98.4375%\n",
      " | Epoch 4 | Loss: 0.036202386021614075 | Accuracy: 98.4375%\n",
      " | Epoch 4 | Loss: 0.016852855682373047 | Accuracy: 100.0%\n",
      " | Epoch 4 | Loss: 0.011153830215334892 | Accuracy: 100.0%\n",
      " | Epoch 4 | Loss: 0.02560909278690815 | Accuracy: 98.4375%\n",
      " | Epoch 4 | Loss: 0.010961848311126232 | Accuracy: 100.0%\n",
      " | Epoch 4 | Loss: 0.08773335814476013 | Accuracy: 98.4375%\n"
     ]
    },
    {
     "name": "stderr",
     "output_type": "stream",
     "text": [
      "Epoch 4:  63%|██████████████████▊           | 472/751 [00:04<00:02, 100.55batch/s, accuracy=100.0%, loss=0.0074]"
     ]
    },
    {
     "name": "stdout",
     "output_type": "stream",
     "text": [
      " | Epoch 4 | Loss: 0.021939191967248917 | Accuracy: 98.4375%\n",
      " | Epoch 4 | Loss: 0.020640026777982712 | Accuracy: 100.0%\n",
      " | Epoch 4 | Loss: 0.01991100423038006 | Accuracy: 100.0%\n",
      " | Epoch 4 | Loss: 0.015749946236610413 | Accuracy: 100.0%\n",
      " | Epoch 4 | Loss: 0.13972626626491547 | Accuracy: 98.4375%\n",
      " | Epoch 4 | Loss: 0.0074030812829732895 | Accuracy: 100.0%\n"
     ]
    },
    {
     "name": "stderr",
     "output_type": "stream",
     "text": [
      "Epoch 4:  64%|███████████████████▉           | 483/751 [00:05<00:02, 97.82batch/s, accuracy=100.0%, loss=0.0068]"
     ]
    },
    {
     "name": "stdout",
     "output_type": "stream",
     "text": [
      " | Epoch 4 | Loss: 0.012865935452282429 | Accuracy: 100.0%\n",
      " | Epoch 4 | Loss: 0.01956406980752945 | Accuracy: 100.0%\n",
      " | Epoch 4 | Loss: 0.01260372158139944 | Accuracy: 100.0%\n",
      " | Epoch 4 | Loss: 0.1878846287727356 | Accuracy: 98.4375%\n",
      " | Epoch 4 | Loss: 0.0117388516664505 | Accuracy: 100.0%\n",
      " | Epoch 4 | Loss: 0.04911459982395172 | Accuracy: 100.0%\n",
      " | Epoch 4 | Loss: 0.00908690132200718 | Accuracy: 100.0%\n",
      " | Epoch 4 | Loss: 0.008766024373471737 | Accuracy: 100.0%\n",
      " | Epoch 4 | Loss: 0.005998748820275068 | Accuracy: 100.0%\n",
      " | Epoch 4 | Loss: 0.00807182677090168 | Accuracy: 100.0%\n",
      " | Epoch 4 | Loss: 0.062059611082077026 | Accuracy: 98.4375%\n",
      " | Epoch 4 | Loss: 0.009115816093981266 | Accuracy: 100.0%\n",
      " | Epoch 4 | Loss: 0.02196558564901352 | Accuracy: 100.0%\n"
     ]
    },
    {
     "name": "stderr",
     "output_type": "stream",
     "text": [
      "Epoch 4:  66%|███████████████████▋          | 493/751 [00:05<00:02, 96.68batch/s, accuracy=100.0%, loss=0.00565]"
     ]
    },
    {
     "name": "stdout",
     "output_type": "stream",
     "text": [
      " | Epoch 4 | Loss: 0.006804279517382383 | Accuracy: 100.0%\n",
      " | Epoch 4 | Loss: 0.02644769661128521 | Accuracy: 98.4375%\n",
      " | Epoch 4 | Loss: 0.2571844160556793 | Accuracy: 98.4375%\n",
      " | Epoch 4 | Loss: 0.0053602466359734535 | Accuracy: 100.0%\n",
      " | Epoch 4 | Loss: 0.009448498487472534 | Accuracy: 100.0%\n",
      " | Epoch 4 | Loss: 0.005648920312523842 | Accuracy: 100.0%\n"
     ]
    },
    {
     "name": "stderr",
     "output_type": "stream",
     "text": [
      "Epoch 4:  67%|████████████████████▊          | 503/751 [00:05<00:02, 97.47batch/s, accuracy=100.0%, loss=0.0252]"
     ]
    },
    {
     "name": "stdout",
     "output_type": "stream",
     "text": [
      " | Epoch 4 | Loss: 0.005110480356961489 | Accuracy: 100.0%\n",
      " | Epoch 4 | Loss: 0.011064715683460236 | Accuracy: 100.0%\n",
      " | Epoch 4 | Loss: 0.022494245320558548 | Accuracy: 100.0%\n",
      " | Epoch 4 | Loss: 0.009075650945305824 | Accuracy: 100.0%\n",
      " | Epoch 4 | Loss: 0.022987455129623413 | Accuracy: 100.0%\n",
      " | Epoch 4 | Loss: 0.007501550018787384 | Accuracy: 100.0%\n",
      " | Epoch 4 | Loss: 0.26429861783981323 | Accuracy: 98.4375%\n",
      " | Epoch 4 | Loss: 0.009495319798588753 | Accuracy: 100.0%\n",
      " | Epoch 4 | Loss: 0.009814061224460602 | Accuracy: 100.0%\n",
      " | Epoch 4 | Loss: 0.00724813062697649 | Accuracy: 100.0%\n",
      " | Epoch 4 | Loss: 0.014188943430781364 | Accuracy: 100.0%\n",
      " | Epoch 4 | Loss: 0.008625291287899017 | Accuracy: 98.4375%\n",
      " | Epoch 4 | Loss: 0.00920687522739172 | Accuracy: 100.0%\n",
      " | Epoch 4 | Loss: 0.02517930045723915 | Accuracy: 100.0%\n"
     ]
    },
    {
     "name": "stderr",
     "output_type": "stream",
     "text": [
      "Epoch 4:  68%|███████████████████▊         | 513/751 [00:05<00:02, 97.29batch/s, accuracy=98.4375%, loss=0.0349]"
     ]
    },
    {
     "name": "stdout",
     "output_type": "stream",
     "text": [
      " | Epoch 4 | Loss: 0.011129953898489475 | Accuracy: 100.0%\n",
      " | Epoch 4 | Loss: 0.021978242322802544 | Accuracy: 100.0%\n",
      " | Epoch 4 | Loss: 0.0168632622808218 | Accuracy: 100.0%\n",
      " | Epoch 4 | Loss: 0.015535052865743637 | Accuracy: 100.0%\n",
      " | Epoch 4 | Loss: 0.3518953025341034 | Accuracy: 96.875%\n",
      " | Epoch 4 | Loss: 0.034855037927627563 | Accuracy: 98.4375%\n"
     ]
    },
    {
     "name": "stderr",
     "output_type": "stream",
     "text": [
      "Epoch 4:  70%|████████████████████▉         | 523/751 [00:05<00:02, 97.74batch/s, accuracy=100.0%, loss=0.00485]"
     ]
    },
    {
     "name": "stdout",
     "output_type": "stream",
     "text": [
      " | Epoch 4 | Loss: 0.47814705967903137 | Accuracy: 98.4375%\n",
      " | Epoch 4 | Loss: 0.011085273697972298 | Accuracy: 100.0%\n",
      " | Epoch 4 | Loss: 0.007420194335281849 | Accuracy: 100.0%\n",
      " | Epoch 4 | Loss: 0.02233893610537052 | Accuracy: 100.0%\n",
      " | Epoch 4 | Loss: 0.011354394257068634 | Accuracy: 100.0%\n",
      " | Epoch 4 | Loss: 0.015182653442025185 | Accuracy: 100.0%\n",
      " | Epoch 4 | Loss: 0.03184105455875397 | Accuracy: 96.875%\n",
      " | Epoch 4 | Loss: 0.22486811876296997 | Accuracy: 96.875%\n",
      " | Epoch 4 | Loss: 0.010584301315248013 | Accuracy: 100.0%\n",
      " | Epoch 4 | Loss: 0.003245909232646227 | Accuracy: 100.0%\n",
      " | Epoch 4 | Loss: 0.054860301315784454 | Accuracy: 98.4375%\n",
      " | Epoch 4 | Loss: 0.360634982585907 | Accuracy: 98.4375%\n",
      " | Epoch 4 | Loss: 0.008028215728700161 | Accuracy: 100.0%\n",
      " | Epoch 4 | Loss: 0.05548437684774399 | Accuracy: 98.4375%\n"
     ]
    },
    {
     "name": "stderr",
     "output_type": "stream",
     "text": [
      "Epoch 4:  71%|██████████████████████         | 534/751 [00:05<00:02, 98.55batch/s, accuracy=100.0%, loss=0.0408]"
     ]
    },
    {
     "name": "stdout",
     "output_type": "stream",
     "text": [
      " | Epoch 4 | Loss: 0.004846964962780476 | Accuracy: 100.0%\n",
      " | Epoch 4 | Loss: 0.0049332519993186 | Accuracy: 100.0%\n",
      " | Epoch 4 | Loss: 0.013505928218364716 | Accuracy: 100.0%\n",
      " | Epoch 4 | Loss: 0.01995193585753441 | Accuracy: 100.0%\n",
      " | Epoch 4 | Loss: 0.2149905562400818 | Accuracy: 98.4375%\n",
      " | Epoch 4 | Loss: 0.04079422727227211 | Accuracy: 100.0%\n"
     ]
    },
    {
     "name": "stderr",
     "output_type": "stream",
     "text": [
      "Epoch 4:  72%|█████████████████████▋        | 544/751 [00:05<00:02, 96.79batch/s, accuracy=98.4375%, loss=0.343]"
     ]
    },
    {
     "name": "stdout",
     "output_type": "stream",
     "text": [
      " | Epoch 4 | Loss: 0.008416453376412392 | Accuracy: 100.0%\n",
      " | Epoch 4 | Loss: 0.011785872280597687 | Accuracy: 100.0%\n",
      " | Epoch 4 | Loss: 0.01191721111536026 | Accuracy: 100.0%\n",
      " | Epoch 4 | Loss: 0.009536024183034897 | Accuracy: 100.0%\n",
      " | Epoch 4 | Loss: 0.01091480441391468 | Accuracy: 100.0%\n",
      " | Epoch 4 | Loss: 0.009140142239630222 | Accuracy: 100.0%\n",
      " | Epoch 4 | Loss: 0.0067521072924137115 | Accuracy: 100.0%\n",
      " | Epoch 4 | Loss: 0.0038641628343611956 | Accuracy: 100.0%\n",
      " | Epoch 4 | Loss: 0.18389619886875153 | Accuracy: 98.4375%\n",
      " | Epoch 4 | Loss: 0.026992620900273323 | Accuracy: 98.4375%\n",
      " | Epoch 4 | Loss: 0.06833289563655853 | Accuracy: 96.875%\n",
      " | Epoch 4 | Loss: 0.018454784527420998 | Accuracy: 100.0%\n",
      " | Epoch 4 | Loss: 0.01584433577954769 | Accuracy: 100.0%\n",
      " | Epoch 4 | Loss: 0.3431171178817749 | Accuracy: 98.4375%\n"
     ]
    },
    {
     "name": "stderr",
     "output_type": "stream",
     "text": [
      "Epoch 4:  74%|██████████████████████▊        | 554/751 [00:05<00:02, 96.45batch/s, accuracy=100.0%, loss=0.0299]"
     ]
    },
    {
     "name": "stdout",
     "output_type": "stream",
     "text": [
      " | Epoch 4 | Loss: 0.0061770048923790455 | Accuracy: 100.0%\n",
      " | Epoch 4 | Loss: 0.03582898527383804 | Accuracy: 100.0%\n",
      " | Epoch 4 | Loss: 0.5758668184280396 | Accuracy: 95.3125%\n",
      " | Epoch 4 | Loss: 0.012416609562933445 | Accuracy: 100.0%\n",
      " | Epoch 4 | Loss: 0.029886670410633087 | Accuracy: 100.0%\n"
     ]
    },
    {
     "name": "stderr",
     "output_type": "stream",
     "text": [
      "Epoch 4:  75%|█████████████████████▊       | 565/751 [00:05<00:01, 97.95batch/s, accuracy=98.4375%, loss=0.0181]"
     ]
    },
    {
     "name": "stdout",
     "output_type": "stream",
     "text": [
      " | Epoch 4 | Loss: 0.01602061651647091 | Accuracy: 100.0%\n",
      " | Epoch 4 | Loss: 0.013126956298947334 | Accuracy: 100.0%\n",
      " | Epoch 4 | Loss: 0.07333895564079285 | Accuracy: 98.4375%\n",
      " | Epoch 4 | Loss: 0.02694564312696457 | Accuracy: 100.0%\n",
      " | Epoch 4 | Loss: 0.04558027163147926 | Accuracy: 100.0%\n",
      " | Epoch 4 | Loss: 0.024072162806987762 | Accuracy: 100.0%\n",
      " | Epoch 4 | Loss: 0.021693794056773186 | Accuracy: 98.4375%\n",
      " | Epoch 4 | Loss: 0.011650554835796356 | Accuracy: 100.0%\n",
      " | Epoch 4 | Loss: 0.07805445045232773 | Accuracy: 96.875%\n",
      " | Epoch 4 | Loss: 0.22970342636108398 | Accuracy: 98.4375%\n",
      " | Epoch 4 | Loss: 0.015012681484222412 | Accuracy: 100.0%\n",
      " | Epoch 4 | Loss: 0.01527057122439146 | Accuracy: 100.0%\n",
      " | Epoch 4 | Loss: 0.025141708552837372 | Accuracy: 100.0%\n",
      " | Epoch 4 | Loss: 0.013842078857123852 | Accuracy: 100.0%\n",
      " | Epoch 4 | Loss: 0.01810348965227604 | Accuracy: 98.4375%\n"
     ]
    },
    {
     "name": "stderr",
     "output_type": "stream",
     "text": [
      "Epoch 4:  77%|██████████████████████▉       | 575/751 [00:05<00:01, 98.25batch/s, accuracy=100.0%, loss=0.00854]"
     ]
    },
    {
     "name": "stdout",
     "output_type": "stream",
     "text": [
      " | Epoch 4 | Loss: 0.01046729926019907 | Accuracy: 100.0%\n",
      " | Epoch 4 | Loss: 0.0057441191747784615 | Accuracy: 100.0%\n",
      " | Epoch 4 | Loss: 0.006393058225512505 | Accuracy: 100.0%\n",
      " | Epoch 4 | Loss: 0.018895290791988373 | Accuracy: 98.4375%\n",
      " | Epoch 4 | Loss: 0.005887857638299465 | Accuracy: 100.0%\n",
      " | Epoch 4 | Loss: 0.008535148575901985 | Accuracy: 100.0%\n"
     ]
    },
    {
     "name": "stderr",
     "output_type": "stream",
     "text": [
      "Epoch 4:  78%|██████████████████████▌      | 585/751 [00:06<00:01, 96.26batch/s, accuracy=98.4375%, loss=0.0306]"
     ]
    },
    {
     "name": "stdout",
     "output_type": "stream",
     "text": [
      " | Epoch 4 | Loss: 0.02984614297747612 | Accuracy: 98.4375%\n",
      " | Epoch 4 | Loss: 0.0072380369529128075 | Accuracy: 100.0%\n",
      " | Epoch 4 | Loss: 1.198804497718811 | Accuracy: 98.4375%\n",
      " | Epoch 4 | Loss: 0.014731173403561115 | Accuracy: 100.0%\n",
      " | Epoch 4 | Loss: 0.03709357604384422 | Accuracy: 100.0%\n",
      " | Epoch 4 | Loss: 0.07560493797063828 | Accuracy: 100.0%\n",
      " | Epoch 4 | Loss: 0.05253497138619423 | Accuracy: 100.0%\n",
      " | Epoch 4 | Loss: 0.04016321152448654 | Accuracy: 100.0%\n",
      " | Epoch 4 | Loss: 0.06308029592037201 | Accuracy: 100.0%\n",
      " | Epoch 4 | Loss: 0.05820850282907486 | Accuracy: 95.3125%\n",
      " | Epoch 4 | Loss: 0.046051278710365295 | Accuracy: 98.4375%\n",
      " | Epoch 4 | Loss: 0.03232768923044205 | Accuracy: 100.0%\n",
      " | Epoch 4 | Loss: 0.06945578008890152 | Accuracy: 98.4375%\n",
      " | Epoch 4 | Loss: 0.03060564026236534 | Accuracy: 98.4375%\n"
     ]
    },
    {
     "name": "stderr",
     "output_type": "stream",
     "text": [
      "Epoch 4:  78%|██████████████████████▌      | 585/751 [00:06<00:01, 96.26batch/s, accuracy=98.4375%, loss=0.0261]"
     ]
    },
    {
     "name": "stdout",
     "output_type": "stream",
     "text": [
      " | Epoch 4 | Loss: 0.04445642605423927 | Accuracy: 98.4375%\n",
      " | Epoch 4 | Loss: 0.03971248120069504 | Accuracy: 96.875%\n",
      " | Epoch 4 | Loss: 0.12465935945510864 | Accuracy: 98.4375%\n",
      " | Epoch 4 | Loss: 0.03631345182657242 | Accuracy: 100.0%\n",
      " | Epoch 4 | Loss: 0.03526728227734566 | Accuracy: 98.4375%\n",
      " | Epoch 4 | Loss: 0.02609412744641304 | Accuracy: 98.4375%\n"
     ]
    },
    {
     "name": "stderr",
     "output_type": "stream",
     "text": [
      "Epoch 4:  81%|█████████████████████████      | 606/751 [00:06<00:01, 95.64batch/s, accuracy=100.0%, loss=0.0088]"
     ]
    },
    {
     "name": "stdout",
     "output_type": "stream",
     "text": [
      " | Epoch 4 | Loss: 0.012677470222115517 | Accuracy: 100.0%\n",
      " | Epoch 4 | Loss: 0.034013912081718445 | Accuracy: 100.0%\n",
      " | Epoch 4 | Loss: 0.04785728454589844 | Accuracy: 98.4375%\n",
      " | Epoch 4 | Loss: 0.01489147450774908 | Accuracy: 100.0%\n",
      " | Epoch 4 | Loss: 0.015249835327267647 | Accuracy: 100.0%\n",
      " | Epoch 4 | Loss: 0.044322721660137177 | Accuracy: 100.0%\n",
      " | Epoch 4 | Loss: 0.010204238817095757 | Accuracy: 100.0%\n",
      " | Epoch 4 | Loss: 0.24827627837657928 | Accuracy: 96.875%\n",
      " | Epoch 4 | Loss: 0.015542675741016865 | Accuracy: 100.0%\n",
      " | Epoch 4 | Loss: 0.013432720676064491 | Accuracy: 100.0%\n",
      " | Epoch 4 | Loss: 0.16614584624767303 | Accuracy: 98.4375%\n",
      " | Epoch 4 | Loss: 0.007147031836211681 | Accuracy: 100.0%\n",
      " | Epoch 4 | Loss: 0.013354867696762085 | Accuracy: 100.0%\n",
      " | Epoch 4 | Loss: 0.008799294009804726 | Accuracy: 100.0%\n"
     ]
    },
    {
     "name": "stderr",
     "output_type": "stream",
     "text": [
      "Epoch 4:  81%|█████████████████████████      | 606/751 [00:06<00:01, 95.64batch/s, accuracy=100.0%, loss=0.0179]"
     ]
    },
    {
     "name": "stdout",
     "output_type": "stream",
     "text": [
      " | Epoch 4 | Loss: 0.019373323768377304 | Accuracy: 100.0%\n",
      " | Epoch 4 | Loss: 0.007944231852889061 | Accuracy: 100.0%\n",
      " | Epoch 4 | Loss: 0.007452110294252634 | Accuracy: 100.0%\n",
      " | Epoch 4 | Loss: 0.013193483464419842 | Accuracy: 100.0%\n",
      " | Epoch 4 | Loss: 0.0037474462296813726 | Accuracy: 100.0%\n",
      " | Epoch 4 | Loss: 0.017927832901477814 | Accuracy: 100.0%\n"
     ]
    },
    {
     "name": "stderr",
     "output_type": "stream",
     "text": [
      "Epoch 4:  83%|█████████████████████████▉     | 627/751 [00:06<00:01, 96.86batch/s, accuracy=100.0%, loss=0.0218]"
     ]
    },
    {
     "name": "stdout",
     "output_type": "stream",
     "text": [
      " | Epoch 4 | Loss: 0.196399986743927 | Accuracy: 96.875%\n",
      " | Epoch 4 | Loss: 0.006426128558814526 | Accuracy: 100.0%\n",
      " | Epoch 4 | Loss: 0.005964892450720072 | Accuracy: 100.0%\n",
      " | Epoch 4 | Loss: 0.01324383169412613 | Accuracy: 100.0%\n",
      " | Epoch 4 | Loss: 0.21800902485847473 | Accuracy: 98.4375%\n",
      " | Epoch 4 | Loss: 0.5198454260826111 | Accuracy: 98.4375%\n",
      " | Epoch 4 | Loss: 0.015650218352675438 | Accuracy: 98.4375%\n",
      " | Epoch 4 | Loss: 0.00702276173979044 | Accuracy: 100.0%\n",
      " | Epoch 4 | Loss: 0.02869376540184021 | Accuracy: 98.4375%\n",
      " | Epoch 4 | Loss: 0.0063200765289366245 | Accuracy: 100.0%\n",
      " | Epoch 4 | Loss: 0.7476001381874084 | Accuracy: 98.4375%\n",
      " | Epoch 4 | Loss: 0.02260594069957733 | Accuracy: 100.0%\n",
      " | Epoch 4 | Loss: 0.023049991577863693 | Accuracy: 100.0%\n",
      " | Epoch 4 | Loss: 0.021808696910738945 | Accuracy: 100.0%\n"
     ]
    },
    {
     "name": "stderr",
     "output_type": "stream",
     "text": [
      "Epoch 4:  83%|█████████████████████████     | 627/751 [00:06<00:01, 96.86batch/s, accuracy=98.4375%, loss=0.116]"
     ]
    },
    {
     "name": "stdout",
     "output_type": "stream",
     "text": [
      " | Epoch 4 | Loss: 0.061795610934495926 | Accuracy: 100.0%\n",
      " | Epoch 4 | Loss: 0.05855843424797058 | Accuracy: 100.0%\n",
      " | Epoch 4 | Loss: 0.16103704273700714 | Accuracy: 98.4375%\n",
      " | Epoch 4 | Loss: 0.8535184860229492 | Accuracy: 98.4375%\n",
      " | Epoch 4 | Loss: 0.11552244424819946 | Accuracy: 98.4375%\n"
     ]
    },
    {
     "name": "stderr",
     "output_type": "stream",
     "text": [
      "Epoch 4:  85%|██████████████████████████▎    | 637/751 [00:06<00:01, 92.04batch/s, accuracy=100.0%, loss=0.0155]"
     ]
    },
    {
     "name": "stdout",
     "output_type": "stream",
     "text": [
      " | Epoch 4 | Loss: 0.01724746637046337 | Accuracy: 100.0%\n",
      " | Epoch 4 | Loss: 0.01204877533018589 | Accuracy: 100.0%\n",
      " | Epoch 4 | Loss: 0.045185841619968414 | Accuracy: 100.0%\n",
      " | Epoch 4 | Loss: 0.04248633235692978 | Accuracy: 98.4375%\n",
      " | Epoch 4 | Loss: 0.7371509671211243 | Accuracy: 98.4375%\n",
      " | Epoch 4 | Loss: 0.048172932118177414 | Accuracy: 100.0%\n",
      " | Epoch 4 | Loss: 0.01486249454319477 | Accuracy: 100.0%\n",
      " | Epoch 4 | Loss: 0.03323511406779289 | Accuracy: 100.0%\n",
      " | Epoch 4 | Loss: 0.046839434653520584 | Accuracy: 100.0%\n"
     ]
    },
    {
     "name": "stderr",
     "output_type": "stream",
     "text": [
      "Epoch 4:  86%|█████████████████████████▊    | 647/751 [00:06<00:01, 83.60batch/s, accuracy=98.4375%, loss=0.417]"
     ]
    },
    {
     "name": "stdout",
     "output_type": "stream",
     "text": [
      " | Epoch 4 | Loss: 0.01548580639064312 | Accuracy: 100.0%\n",
      " | Epoch 4 | Loss: 0.3755640387535095 | Accuracy: 98.4375%\n",
      " | Epoch 4 | Loss: 0.05832698941230774 | Accuracy: 98.4375%\n",
      " | Epoch 4 | Loss: 0.03943312168121338 | Accuracy: 100.0%\n",
      " | Epoch 4 | Loss: 0.029220150783658028 | Accuracy: 98.4375%\n",
      " | Epoch 4 | Loss: 0.41695284843444824 | Accuracy: 98.4375%\n"
     ]
    },
    {
     "name": "stderr",
     "output_type": "stream",
     "text": [
      "Epoch 4:  87%|███████████████████████████    | 657/751 [00:06<00:01, 85.99batch/s, accuracy=96.875%, loss=0.171]"
     ]
    },
    {
     "name": "stdout",
     "output_type": "stream",
     "text": [
      " | Epoch 4 | Loss: 0.21359631419181824 | Accuracy: 96.875%\n",
      " | Epoch 4 | Loss: 0.03467776998877525 | Accuracy: 100.0%\n",
      " | Epoch 4 | Loss: 0.020350901409983635 | Accuracy: 100.0%\n",
      " | Epoch 4 | Loss: 0.013450117781758308 | Accuracy: 100.0%\n",
      " | Epoch 4 | Loss: 0.07613281160593033 | Accuracy: 98.4375%\n",
      " | Epoch 4 | Loss: 0.007467211689800024 | Accuracy: 100.0%\n",
      " | Epoch 4 | Loss: 0.020120956003665924 | Accuracy: 100.0%\n",
      " | Epoch 4 | Loss: 0.017569124698638916 | Accuracy: 100.0%\n",
      " | Epoch 4 | Loss: 0.043417129665613174 | Accuracy: 98.4375%\n",
      " | Epoch 4 | Loss: 0.009789724834263325 | Accuracy: 100.0%\n",
      " | Epoch 4 | Loss: 0.3592429459095001 | Accuracy: 98.4375%\n",
      " | Epoch 4 | Loss: 0.17111234366893768 | Accuracy: 96.875%\n"
     ]
    },
    {
     "name": "stderr",
     "output_type": "stream",
     "text": [
      "Epoch 4:  89%|██████████████████████████▌   | 666/751 [00:06<00:00, 86.44batch/s, accuracy=98.4375%, loss=0.188]"
     ]
    },
    {
     "name": "stdout",
     "output_type": "stream",
     "text": [
      " | Epoch 4 | Loss: 0.0233391635119915 | Accuracy: 100.0%\n",
      " | Epoch 4 | Loss: 0.027325375005602837 | Accuracy: 100.0%\n",
      " | Epoch 4 | Loss: 0.009829407557845116 | Accuracy: 100.0%\n",
      " | Epoch 4 | Loss: 0.1489337831735611 | Accuracy: 98.4375%\n",
      " | Epoch 4 | Loss: 0.006546404212713242 | Accuracy: 100.0%\n",
      " | Epoch 4 | Loss: 0.18801811337471008 | Accuracy: 98.4375%\n"
     ]
    },
    {
     "name": "stderr",
     "output_type": "stream",
     "text": [
      "Epoch 4:  90%|███████████████████████████▉   | 677/751 [00:07<00:00, 89.71batch/s, accuracy=100.0%, loss=0.0248]"
     ]
    },
    {
     "name": "stdout",
     "output_type": "stream",
     "text": [
      " | Epoch 4 | Loss: 0.013950610533356667 | Accuracy: 100.0%\n",
      " | Epoch 4 | Loss: 0.04030981659889221 | Accuracy: 98.4375%\n",
      " | Epoch 4 | Loss: 0.47162294387817383 | Accuracy: 98.4375%\n",
      " | Epoch 4 | Loss: 0.02448970265686512 | Accuracy: 100.0%\n",
      " | Epoch 4 | Loss: 0.03489895164966583 | Accuracy: 100.0%\n",
      " | Epoch 4 | Loss: 0.023572836071252823 | Accuracy: 100.0%\n",
      " | Epoch 4 | Loss: 0.22550730407238007 | Accuracy: 96.875%\n",
      " | Epoch 4 | Loss: 0.046759914606809616 | Accuracy: 98.4375%\n",
      " | Epoch 4 | Loss: 0.00957108661532402 | Accuracy: 100.0%\n",
      " | Epoch 4 | Loss: 0.04539472609758377 | Accuracy: 98.4375%\n",
      " | Epoch 4 | Loss: 0.08236471563577652 | Accuracy: 100.0%\n",
      " | Epoch 4 | Loss: 0.010697437450289726 | Accuracy: 100.0%\n",
      " | Epoch 4 | Loss: 0.007880561985075474 | Accuracy: 100.0%\n",
      " | Epoch 4 | Loss: 0.024797895923256874 | Accuracy: 100.0%\n"
     ]
    },
    {
     "name": "stderr",
     "output_type": "stream",
     "text": [
      "Epoch 4:  91%|██████████████████████████▌  | 687/751 [00:07<00:00, 90.25batch/s, accuracy=98.4375%, loss=0.0251]"
     ]
    },
    {
     "name": "stdout",
     "output_type": "stream",
     "text": [
      " | Epoch 4 | Loss: 0.008219593204557896 | Accuracy: 100.0%\n",
      " | Epoch 4 | Loss: 0.010828045196831226 | Accuracy: 100.0%\n",
      " | Epoch 4 | Loss: 0.046527739614248276 | Accuracy: 98.4375%\n",
      " | Epoch 4 | Loss: 0.005351039581000805 | Accuracy: 100.0%\n",
      " | Epoch 4 | Loss: 0.06018985062837601 | Accuracy: 98.4375%\n",
      " | Epoch 4 | Loss: 0.025095004588365555 | Accuracy: 98.4375%\n"
     ]
    },
    {
     "name": "stderr",
     "output_type": "stream",
     "text": [
      "Epoch 4:  93%|██████████████████████████▉  | 697/751 [00:07<00:00, 91.28batch/s, accuracy=98.4375%, loss=0.0612]"
     ]
    },
    {
     "name": "stdout",
     "output_type": "stream",
     "text": [
      " | Epoch 4 | Loss: 0.012615950778126717 | Accuracy: 100.0%\n",
      " | Epoch 4 | Loss: 0.012390559539198875 | Accuracy: 100.0%\n",
      " | Epoch 4 | Loss: 0.042729754000902176 | Accuracy: 98.4375%\n",
      " | Epoch 4 | Loss: 0.01903367042541504 | Accuracy: 100.0%\n",
      " | Epoch 4 | Loss: 0.029773101210594177 | Accuracy: 100.0%\n",
      " | Epoch 4 | Loss: 0.007456876337528229 | Accuracy: 100.0%\n",
      " | Epoch 4 | Loss: 0.01024547778069973 | Accuracy: 100.0%\n",
      " | Epoch 4 | Loss: 0.014509168453514576 | Accuracy: 100.0%\n",
      " | Epoch 4 | Loss: 0.013050435110926628 | Accuracy: 100.0%\n",
      " | Epoch 4 | Loss: 0.006370164453983307 | Accuracy: 100.0%\n",
      " | Epoch 4 | Loss: 0.010857556015253067 | Accuracy: 100.0%\n",
      " | Epoch 4 | Loss: 0.019534911960363388 | Accuracy: 100.0%\n",
      " | Epoch 4 | Loss: 0.06120564043521881 | Accuracy: 98.4375%\n"
     ]
    },
    {
     "name": "stderr",
     "output_type": "stream",
     "text": [
      "Epoch 4:  93%|██████████████████████████▉  | 697/751 [00:07<00:00, 91.28batch/s, accuracy=98.4375%, loss=0.0171]"
     ]
    },
    {
     "name": "stdout",
     "output_type": "stream",
     "text": [
      " | Epoch 4 | Loss: 0.010534858331084251 | Accuracy: 100.0%\n",
      " | Epoch 4 | Loss: 0.008300626650452614 | Accuracy: 100.0%\n",
      " | Epoch 4 | Loss: 0.007856973446905613 | Accuracy: 100.0%\n",
      " | Epoch 4 | Loss: 0.013435877859592438 | Accuracy: 100.0%\n",
      " | Epoch 4 | Loss: 0.0059397900477051735 | Accuracy: 100.0%\n",
      " | Epoch 4 | Loss: 0.017146678641438484 | Accuracy: 98.4375%\n"
     ]
    },
    {
     "name": "stderr",
     "output_type": "stream",
     "text": [
      "Epoch 4:  95%|█████████████████████████████▌ | 717/751 [00:07<00:00, 91.84batch/s, accuracy=100.0%, loss=0.0079]"
     ]
    },
    {
     "name": "stdout",
     "output_type": "stream",
     "text": [
      " | Epoch 4 | Loss: 0.012175839394330978 | Accuracy: 100.0%\n",
      " | Epoch 4 | Loss: 0.016485726460814476 | Accuracy: 98.4375%\n",
      " | Epoch 4 | Loss: 0.01580299809575081 | Accuracy: 98.4375%\n",
      " | Epoch 4 | Loss: 0.0032547921873629093 | Accuracy: 100.0%\n",
      " | Epoch 4 | Loss: 0.025043565779924393 | Accuracy: 98.4375%\n",
      " | Epoch 4 | Loss: 0.014538830146193504 | Accuracy: 98.4375%\n",
      " | Epoch 4 | Loss: 0.19879645109176636 | Accuracy: 98.4375%\n",
      " | Epoch 4 | Loss: 0.3262133002281189 | Accuracy: 98.4375%\n",
      " | Epoch 4 | Loss: 0.0061526610516011715 | Accuracy: 100.0%\n",
      " | Epoch 4 | Loss: 0.011757507920265198 | Accuracy: 100.0%\n",
      " | Epoch 4 | Loss: 0.013233928941190243 | Accuracy: 100.0%\n",
      " | Epoch 4 | Loss: 0.29698991775512695 | Accuracy: 96.875%\n",
      " | Epoch 4 | Loss: 0.007899517193436623 | Accuracy: 100.0%\n"
     ]
    },
    {
     "name": "stderr",
     "output_type": "stream",
     "text": [
      "Epoch 4:  95%|███████████████████████████▋ | 717/751 [00:07<00:00, 91.84batch/s, accuracy=98.4375%, loss=0.0241]"
     ]
    },
    {
     "name": "stdout",
     "output_type": "stream",
     "text": [
      " | Epoch 4 | Loss: 0.005499241407960653 | Accuracy: 100.0%\n",
      " | Epoch 4 | Loss: 0.06369373947381973 | Accuracy: 98.4375%\n",
      " | Epoch 4 | Loss: 0.005394431762397289 | Accuracy: 100.0%\n",
      " | Epoch 4 | Loss: 0.005091278813779354 | Accuracy: 100.0%\n",
      " | Epoch 4 | Loss: 0.061397675424814224 | Accuracy: 98.4375%\n",
      " | Epoch 4 | Loss: 0.024116437882184982 | Accuracy: 98.4375%\n"
     ]
    },
    {
     "name": "stderr",
     "output_type": "stream",
     "text": [
      "Epoch 4:  98%|█████████████████████████████▍| 738/751 [00:07<00:00, 94.51batch/s, accuracy=100.0%, loss=0.00872]"
     ]
    },
    {
     "name": "stdout",
     "output_type": "stream",
     "text": [
      " | Epoch 4 | Loss: 0.02684573270380497 | Accuracy: 100.0%\n",
      " | Epoch 4 | Loss: 0.02774219401180744 | Accuracy: 100.0%\n",
      " | Epoch 4 | Loss: 0.011370535008609295 | Accuracy: 100.0%\n",
      " | Epoch 4 | Loss: 0.012202255427837372 | Accuracy: 100.0%\n",
      " | Epoch 4 | Loss: 0.022987768054008484 | Accuracy: 100.0%\n",
      " | Epoch 4 | Loss: 0.6409512758255005 | Accuracy: 98.4375%\n",
      " | Epoch 4 | Loss: 0.021168196573853493 | Accuracy: 100.0%\n",
      " | Epoch 4 | Loss: 0.18220269680023193 | Accuracy: 98.4375%\n",
      " | Epoch 4 | Loss: 0.017022382467985153 | Accuracy: 100.0%\n",
      " | Epoch 4 | Loss: 0.03672768175601959 | Accuracy: 100.0%\n",
      " | Epoch 4 | Loss: 0.07710835337638855 | Accuracy: 98.4375%\n",
      " | Epoch 4 | Loss: 0.02890048921108246 | Accuracy: 100.0%\n",
      " | Epoch 4 | Loss: 0.008724885061383247 | Accuracy: 100.0%\n"
     ]
    },
    {
     "name": "stderr",
     "output_type": "stream",
     "text": [
      "Epoch 4:  98%|██████████████████████████████▍| 738/751 [00:07<00:00, 94.51batch/s, accuracy=100.0%, loss=0.0288]"
     ]
    },
    {
     "name": "stdout",
     "output_type": "stream",
     "text": [
      " | Epoch 4 | Loss: 0.024380210787057877 | Accuracy: 100.0%\n",
      " | Epoch 4 | Loss: 0.023637492209672928 | Accuracy: 100.0%\n",
      " | Epoch 4 | Loss: 0.050411731004714966 | Accuracy: 98.4375%\n",
      " | Epoch 4 | Loss: 0.02877672202885151 | Accuracy: 100.0%\n"
     ]
    },
    {
     "name": "stderr",
     "output_type": "stream",
     "text": [
      "Epoch 4: 100%|██████████████████████████████▉| 748/751 [00:07<00:00, 85.56batch/s, accuracy=100.0%, loss=0.0139]"
     ]
    },
    {
     "name": "stdout",
     "output_type": "stream",
     "text": [
      " | Epoch 4 | Loss: 0.015540774911642075 | Accuracy: 100.0%\n",
      " | Epoch 4 | Loss: 0.015294364653527737 | Accuracy: 100.0%\n",
      " | Epoch 4 | Loss: 0.02145974710583687 | Accuracy: 100.0%\n",
      " | Epoch 4 | Loss: 0.005596422590315342 | Accuracy: 100.0%\n",
      " | Epoch 4 | Loss: 0.05300258845090866 | Accuracy: 100.0%\n",
      " | Epoch 4 | Loss: 0.014326767064630985 | Accuracy: 100.0%\n",
      " | Epoch 4 | Loss: 0.006196797825396061 | Accuracy: 100.0%\n",
      " | Epoch 4 | Loss: 0.008015252649784088 | Accuracy: 100.0%\n",
      " | Epoch 4 | Loss: 0.013939447700977325 | Accuracy: 100.0%\n"
     ]
    },
    {
     "name": "stderr",
     "output_type": "stream",
     "text": [
      "Epoch 4: 100%|███████████████████████████████| 751/751 [00:07<00:00, 94.86batch/s, accuracy=100.0%, loss=0.0139]\n",
      "Evaluating group-wise accuracy:   4%|█▊                                          | 1/25 [00:00<00:05,  4.02it/s]"
     ]
    },
    {
     "name": "stdout",
     "output_type": "stream",
     "text": [
      "Group (0, 0) Accuracy: 21.696252465483234\n"
     ]
    },
    {
     "name": "stderr",
     "output_type": "stream",
     "text": [
      "Evaluating group-wise accuracy:   8%|███▌                                        | 2/25 [00:00<00:05,  4.36it/s]"
     ]
    },
    {
     "name": "stdout",
     "output_type": "stream",
     "text": [
      "Group (0, 1) Accuracy: 20.71005917159763\n"
     ]
    },
    {
     "name": "stderr",
     "output_type": "stream",
     "text": [
      "Evaluating group-wise accuracy:  12%|█████▎                                      | 3/25 [00:00<00:04,  4.44it/s]"
     ]
    },
    {
     "name": "stdout",
     "output_type": "stream",
     "text": [
      "Group (0, 2) Accuracy: 22.529644268774703\n"
     ]
    },
    {
     "name": "stderr",
     "output_type": "stream",
     "text": [
      "Evaluating group-wise accuracy:  16%|███████                                     | 4/25 [00:00<00:04,  4.27it/s]"
     ]
    },
    {
     "name": "stdout",
     "output_type": "stream",
     "text": [
      "Group (0, 3) Accuracy: 20.75098814229249\n"
     ]
    },
    {
     "name": "stderr",
     "output_type": "stream",
     "text": [
      "Evaluating group-wise accuracy:  20%|████████▊                                   | 5/25 [00:01<00:04,  4.20it/s]"
     ]
    },
    {
     "name": "stdout",
     "output_type": "stream",
     "text": [
      "Group (0, 4) Accuracy: 21.936758893280633\n"
     ]
    },
    {
     "name": "stderr",
     "output_type": "stream",
     "text": [
      "Evaluating group-wise accuracy:  24%|██████████▌                                 | 6/25 [00:01<00:04,  4.15it/s]"
     ]
    },
    {
     "name": "stdout",
     "output_type": "stream",
     "text": [
      "Group (1, 0) Accuracy: 36.15702479338843\n"
     ]
    },
    {
     "name": "stderr",
     "output_type": "stream",
     "text": [
      "Evaluating group-wise accuracy:  28%|████████████▎                               | 7/25 [00:01<00:04,  4.10it/s]"
     ]
    },
    {
     "name": "stdout",
     "output_type": "stream",
     "text": [
      "Group (1, 1) Accuracy: 37.396694214876035\n"
     ]
    },
    {
     "name": "stderr",
     "output_type": "stream",
     "text": [
      "Evaluating group-wise accuracy:  32%|██████████████                              | 8/25 [00:01<00:04,  4.23it/s]"
     ]
    },
    {
     "name": "stdout",
     "output_type": "stream",
     "text": [
      "Group (1, 2) Accuracy: 36.024844720496894\n"
     ]
    },
    {
     "name": "stderr",
     "output_type": "stream",
     "text": [
      "Evaluating group-wise accuracy:  36%|███████████████▊                            | 9/25 [00:02<00:03,  4.35it/s]"
     ]
    },
    {
     "name": "stdout",
     "output_type": "stream",
     "text": [
      "Group (1, 3) Accuracy: 38.095238095238095\n"
     ]
    },
    {
     "name": "stderr",
     "output_type": "stream",
     "text": [
      "Evaluating group-wise accuracy:  40%|█████████████████▏                         | 10/25 [00:02<00:03,  4.24it/s]"
     ]
    },
    {
     "name": "stdout",
     "output_type": "stream",
     "text": [
      "Group (1, 4) Accuracy: 32.50517598343685\n"
     ]
    },
    {
     "name": "stderr",
     "output_type": "stream",
     "text": [
      "Evaluating group-wise accuracy:  44%|██████████████████▉                        | 11/25 [00:02<00:03,  4.21it/s]"
     ]
    },
    {
     "name": "stdout",
     "output_type": "stream",
     "text": [
      "Group (2, 0) Accuracy: 20.620842572062084\n"
     ]
    },
    {
     "name": "stderr",
     "output_type": "stream",
     "text": [
      "Evaluating group-wise accuracy:  48%|████████████████████▋                      | 12/25 [00:02<00:03,  4.19it/s]"
     ]
    },
    {
     "name": "stdout",
     "output_type": "stream",
     "text": [
      "Group (2, 1) Accuracy: 17.29490022172949\n"
     ]
    },
    {
     "name": "stderr",
     "output_type": "stream",
     "text": [
      "Evaluating group-wise accuracy:  52%|██████████████████████▎                    | 13/25 [00:03<00:02,  4.28it/s]"
     ]
    },
    {
     "name": "stdout",
     "output_type": "stream",
     "text": [
      "Group (2, 2) Accuracy: 23.555555555555557\n"
     ]
    },
    {
     "name": "stderr",
     "output_type": "stream",
     "text": [
      "Evaluating group-wise accuracy:  56%|████████████████████████                   | 14/25 [00:03<00:02,  4.34it/s]"
     ]
    },
    {
     "name": "stdout",
     "output_type": "stream",
     "text": [
      "Group (2, 3) Accuracy: 22.444444444444443\n"
     ]
    },
    {
     "name": "stderr",
     "output_type": "stream",
     "text": [
      "Evaluating group-wise accuracy:  60%|█████████████████████████▊                 | 15/25 [00:03<00:02,  4.54it/s]"
     ]
    },
    {
     "name": "stdout",
     "output_type": "stream",
     "text": [
      "Group (2, 4) Accuracy: 17.77777777777778\n"
     ]
    },
    {
     "name": "stderr",
     "output_type": "stream",
     "text": [
      "Evaluating group-wise accuracy:  64%|███████████████████████████▌               | 16/25 [00:03<00:02,  4.14it/s]"
     ]
    },
    {
     "name": "stdout",
     "output_type": "stream",
     "text": [
      "Group (3, 0) Accuracy: 18.647540983606557\n"
     ]
    },
    {
     "name": "stderr",
     "output_type": "stream",
     "text": [
      "Evaluating group-wise accuracy:  68%|█████████████████████████████▏             | 17/25 [00:04<00:01,  4.22it/s]"
     ]
    },
    {
     "name": "stdout",
     "output_type": "stream",
     "text": [
      "Group (3, 1) Accuracy: 21.35523613963039\n"
     ]
    },
    {
     "name": "stderr",
     "output_type": "stream",
     "text": [
      "Evaluating group-wise accuracy:  72%|██████████████████████████████▉            | 18/25 [00:04<00:01,  4.12it/s]"
     ]
    },
    {
     "name": "stdout",
     "output_type": "stream",
     "text": [
      "Group (3, 2) Accuracy: 18.480492813141684\n"
     ]
    },
    {
     "name": "stderr",
     "output_type": "stream",
     "text": [
      "Evaluating group-wise accuracy:  76%|████████████████████████████████▋          | 19/25 [00:04<00:01,  4.14it/s]"
     ]
    },
    {
     "name": "stdout",
     "output_type": "stream",
     "text": [
      "Group (3, 3) Accuracy: 21.971252566735114\n"
     ]
    },
    {
     "name": "stderr",
     "output_type": "stream",
     "text": [
      "Evaluating group-wise accuracy:  80%|██████████████████████████████████▍        | 20/25 [00:04<00:01,  4.23it/s]"
     ]
    },
    {
     "name": "stdout",
     "output_type": "stream",
     "text": [
      "Group (3, 4) Accuracy: 18.68583162217659\n"
     ]
    },
    {
     "name": "stderr",
     "output_type": "stream",
     "text": [
      "Evaluating group-wise accuracy:  84%|████████████████████████████████████       | 21/25 [00:04<00:00,  4.16it/s]"
     ]
    },
    {
     "name": "stdout",
     "output_type": "stream",
     "text": [
      "Group (4, 0) Accuracy: 68.00847457627118\n"
     ]
    },
    {
     "name": "stderr",
     "output_type": "stream",
     "text": [
      "Evaluating group-wise accuracy:  88%|█████████████████████████████████████▊     | 22/25 [00:05<00:00,  4.06it/s]"
     ]
    },
    {
     "name": "stdout",
     "output_type": "stream",
     "text": [
      "Group (4, 1) Accuracy: 66.73728813559322\n"
     ]
    },
    {
     "name": "stderr",
     "output_type": "stream",
     "text": [
      "Evaluating group-wise accuracy:  92%|███████████████████████████████████████▌   | 23/25 [00:05<00:00,  4.04it/s]"
     ]
    },
    {
     "name": "stdout",
     "output_type": "stream",
     "text": [
      "Group (4, 2) Accuracy: 63.347457627118644\n"
     ]
    },
    {
     "name": "stderr",
     "output_type": "stream",
     "text": [
      "Evaluating group-wise accuracy:  96%|█████████████████████████████████████████▎ | 24/25 [00:05<00:00,  4.13it/s]"
     ]
    },
    {
     "name": "stdout",
     "output_type": "stream",
     "text": [
      "Group (4, 3) Accuracy: 63.983050847457626\n"
     ]
    },
    {
     "name": "stderr",
     "output_type": "stream",
     "text": [
      "Evaluating group-wise accuracy: 100%|███████████████████████████████████████████| 25/25 [00:05<00:00,  4.19it/s]"
     ]
    },
    {
     "name": "stdout",
     "output_type": "stream",
     "text": [
      "Group (4, 4) Accuracy: 64.54352441613588\n",
      "Epoch 4:  Val Worst-Group Accuracy: 17.29490022172949\n",
      "Best Val Worst-Group Accuracy: 17.29490022172949\n"
     ]
    },
    {
     "name": "stderr",
     "output_type": "stream",
     "text": [
      "\n"
     ]
    }
   ],
   "source": [
    "val_evaluator = Evaluator(\n",
    "    testset=valset,\n",
    "    group_partition=valset.group_partition,\n",
    "    group_weights=valset.group_weights,\n",
    "    batch_size=64,\n",
    "    model=model,\n",
    "    device=device,\n",
    "    verbose=True\n",
    ")\n",
    "\n",
    "group_dro = GroupDRO(\n",
    "    model=model,\n",
    "    num_epochs=5,\n",
    "    trainset=robust_trainset,\n",
    "    batch_size=64,\n",
    "    optimizer=SGD(model.parameters(), lr=1e-3, momentum=0.9, nesterov=True),\n",
    "    device=device,\n",
    "    val_evaluator=val_evaluator,\n",
    "    verbose=True\n",
    ")\n",
    "group_dro.train()\n"
   ]
  },
  {
   "cell_type": "code",
   "execution_count": 28,
   "id": "4fa606a7-6230-4177-bf8d-c79541afa6ce",
   "metadata": {},
   "outputs": [
    {
     "name": "stderr",
     "output_type": "stream",
     "text": [
      "Evaluating group-wise accuracy:   4%|█▊                                          | 1/25 [00:00<00:05,  4.33it/s]"
     ]
    },
    {
     "name": "stdout",
     "output_type": "stream",
     "text": [
      "Group (0, 0) Accuracy: 19.858156028368793\n"
     ]
    },
    {
     "name": "stderr",
     "output_type": "stream",
     "text": [
      "Evaluating group-wise accuracy:   8%|███▌                                        | 2/25 [00:00<00:05,  4.15it/s]"
     ]
    },
    {
     "name": "stdout",
     "output_type": "stream",
     "text": [
      "Group (0, 1) Accuracy: 20.33096926713948\n"
     ]
    },
    {
     "name": "stderr",
     "output_type": "stream",
     "text": [
      "Evaluating group-wise accuracy:  12%|█████▎                                      | 3/25 [00:00<00:05,  4.21it/s]"
     ]
    },
    {
     "name": "stdout",
     "output_type": "stream",
     "text": [
      "Group (0, 2) Accuracy: 24.34988179669031\n"
     ]
    },
    {
     "name": "stderr",
     "output_type": "stream",
     "text": [
      "Evaluating group-wise accuracy:  16%|███████                                     | 4/25 [00:00<00:05,  4.19it/s]"
     ]
    },
    {
     "name": "stdout",
     "output_type": "stream",
     "text": [
      "Group (0, 3) Accuracy: 21.98581560283688\n"
     ]
    },
    {
     "name": "stderr",
     "output_type": "stream",
     "text": [
      "Evaluating group-wise accuracy:  20%|████████▊                                   | 5/25 [00:01<00:04,  4.34it/s]"
     ]
    },
    {
     "name": "stdout",
     "output_type": "stream",
     "text": [
      "Group (0, 4) Accuracy: 23.167848699763592\n"
     ]
    },
    {
     "name": "stderr",
     "output_type": "stream",
     "text": [
      "Evaluating group-wise accuracy:  24%|██████████▌                                 | 6/25 [00:01<00:04,  4.32it/s]"
     ]
    },
    {
     "name": "stdout",
     "output_type": "stream",
     "text": [
      "Group (1, 0) Accuracy: 32.51833740831296\n"
     ]
    },
    {
     "name": "stderr",
     "output_type": "stream",
     "text": [
      "Evaluating group-wise accuracy:  28%|████████████▎                               | 7/25 [00:01<00:04,  4.28it/s]"
     ]
    },
    {
     "name": "stdout",
     "output_type": "stream",
     "text": [
      "Group (1, 1) Accuracy: 39.85330073349633\n"
     ]
    },
    {
     "name": "stderr",
     "output_type": "stream",
     "text": [
      "Evaluating group-wise accuracy:  32%|██████████████                              | 8/25 [00:01<00:03,  4.33it/s]"
     ]
    },
    {
     "name": "stdout",
     "output_type": "stream",
     "text": [
      "Group (1, 2) Accuracy: 38.48039215686274\n"
     ]
    },
    {
     "name": "stderr",
     "output_type": "stream",
     "text": [
      "Evaluating group-wise accuracy:  36%|███████████████▊                            | 9/25 [00:02<00:03,  4.23it/s]"
     ]
    },
    {
     "name": "stdout",
     "output_type": "stream",
     "text": [
      "Group (1, 3) Accuracy: 31.127450980392158\n"
     ]
    },
    {
     "name": "stderr",
     "output_type": "stream",
     "text": [
      "Evaluating group-wise accuracy:  40%|█████████████████▏                         | 10/25 [00:02<00:03,  4.26it/s]"
     ]
    },
    {
     "name": "stdout",
     "output_type": "stream",
     "text": [
      "Group (1, 4) Accuracy: 40.19607843137255\n"
     ]
    },
    {
     "name": "stderr",
     "output_type": "stream",
     "text": [
      "Evaluating group-wise accuracy:  44%|██████████████████▉                        | 11/25 [00:02<00:03,  4.28it/s]"
     ]
    },
    {
     "name": "stdout",
     "output_type": "stream",
     "text": [
      "Group (2, 0) Accuracy: 20.266666666666666\n"
     ]
    },
    {
     "name": "stderr",
     "output_type": "stream",
     "text": [
      "Evaluating group-wise accuracy:  48%|████████████████████▋                      | 12/25 [00:02<00:02,  4.41it/s]"
     ]
    },
    {
     "name": "stdout",
     "output_type": "stream",
     "text": [
      "Group (2, 1) Accuracy: 20.0\n"
     ]
    },
    {
     "name": "stderr",
     "output_type": "stream",
     "text": [
      "Evaluating group-wise accuracy:  52%|██████████████████████▎                    | 13/25 [00:03<00:02,  4.43it/s]"
     ]
    },
    {
     "name": "stdout",
     "output_type": "stream",
     "text": [
      "Group (2, 2) Accuracy: 19.466666666666665\n"
     ]
    },
    {
     "name": "stderr",
     "output_type": "stream",
     "text": [
      "Evaluating group-wise accuracy:  56%|████████████████████████                   | 14/25 [00:03<00:02,  4.46it/s]"
     ]
    },
    {
     "name": "stdout",
     "output_type": "stream",
     "text": [
      "Group (2, 3) Accuracy: 22.666666666666668\n"
     ]
    },
    {
     "name": "stderr",
     "output_type": "stream",
     "text": [
      "Evaluating group-wise accuracy:  60%|█████████████████████████▊                 | 15/25 [00:03<00:02,  4.33it/s]"
     ]
    },
    {
     "name": "stdout",
     "output_type": "stream",
     "text": [
      "Group (2, 4) Accuracy: 19.518716577540108\n"
     ]
    },
    {
     "name": "stderr",
     "output_type": "stream",
     "text": [
      "Evaluating group-wise accuracy:  64%|███████████████████████████▌               | 16/25 [00:03<00:02,  4.22it/s]"
     ]
    },
    {
     "name": "stdout",
     "output_type": "stream",
     "text": [
      "Group (3, 0) Accuracy: 20.35175879396985\n"
     ]
    },
    {
     "name": "stderr",
     "output_type": "stream",
     "text": [
      "Evaluating group-wise accuracy:  68%|█████████████████████████████▏             | 17/25 [00:03<00:01,  4.27it/s]"
     ]
    },
    {
     "name": "stdout",
     "output_type": "stream",
     "text": [
      "Group (3, 1) Accuracy: 22.418136020151135\n"
     ]
    },
    {
     "name": "stderr",
     "output_type": "stream",
     "text": [
      "Evaluating group-wise accuracy:  72%|██████████████████████████████▉            | 18/25 [00:04<00:01,  4.21it/s]"
     ]
    },
    {
     "name": "stdout",
     "output_type": "stream",
     "text": [
      "Group (3, 2) Accuracy: 17.632241813602015\n"
     ]
    },
    {
     "name": "stderr",
     "output_type": "stream",
     "text": [
      "Evaluating group-wise accuracy:  76%|████████████████████████████████▋          | 19/25 [00:04<00:01,  4.17it/s]"
     ]
    },
    {
     "name": "stdout",
     "output_type": "stream",
     "text": [
      "Group (3, 3) Accuracy: 18.387909319899244\n"
     ]
    },
    {
     "name": "stderr",
     "output_type": "stream",
     "text": [
      "Evaluating group-wise accuracy:  80%|██████████████████████████████████▍        | 20/25 [00:04<00:01,  4.21it/s]"
     ]
    },
    {
     "name": "stdout",
     "output_type": "stream",
     "text": [
      "Group (3, 4) Accuracy: 20.403022670025187\n"
     ]
    },
    {
     "name": "stderr",
     "output_type": "stream",
     "text": [
      "Evaluating group-wise accuracy:  84%|████████████████████████████████████       | 21/25 [00:04<00:00,  4.30it/s]"
     ]
    },
    {
     "name": "stdout",
     "output_type": "stream",
     "text": [
      "Group (4, 0) Accuracy: 68.76574307304786\n"
     ]
    },
    {
     "name": "stderr",
     "output_type": "stream",
     "text": [
      "Evaluating group-wise accuracy:  88%|█████████████████████████████████████▊     | 22/25 [00:05<00:00,  4.37it/s]"
     ]
    },
    {
     "name": "stdout",
     "output_type": "stream",
     "text": [
      "Group (4, 1) Accuracy: 66.49874055415617\n"
     ]
    },
    {
     "name": "stderr",
     "output_type": "stream",
     "text": [
      "Evaluating group-wise accuracy:  92%|███████████████████████████████████████▌   | 23/25 [00:05<00:00,  4.31it/s]"
     ]
    },
    {
     "name": "stdout",
     "output_type": "stream",
     "text": [
      "Group (4, 2) Accuracy: 64.48362720403023\n"
     ]
    },
    {
     "name": "stderr",
     "output_type": "stream",
     "text": [
      "Evaluating group-wise accuracy:  96%|█████████████████████████████████████████▎ | 24/25 [00:05<00:00,  4.40it/s]"
     ]
    },
    {
     "name": "stdout",
     "output_type": "stream",
     "text": [
      "Group (4, 3) Accuracy: 68.93939393939394\n"
     ]
    },
    {
     "name": "stderr",
     "output_type": "stream",
     "text": [
      "Evaluating group-wise accuracy: 100%|███████████████████████████████████████████| 25/25 [00:05<00:00,  4.30it/s]"
     ]
    },
    {
     "name": "stdout",
     "output_type": "stream",
     "text": [
      "Group (4, 4) Accuracy: 68.68686868686869\n",
      "Worst-group accuracy: ((3, 2), 17.632241813602015)\n",
      "Average accuracy: 33.22\n"
     ]
    },
    {
     "name": "stderr",
     "output_type": "stream",
     "text": [
      "\n"
     ]
    }
   ],
   "source": [
    "evaluator = Evaluator(\n",
    "    testset=testset,                           # Use your test dataset\n",
    "    group_partition=testset.group_partition,   # Ensure the test set has group labels; if not, use inferred groups\n",
    "    group_weights=testset.group_weights,       # Use group weights if available (for worst-group computation)\n",
    "    batch_size=32,\n",
    "    model=group_dro.best_model,                # Use the robustly trained model\n",
    "    device=device,\n",
    "    verbose=True\n",
    ")\n",
    "evaluator.evaluate()\n",
    "\n",
    "print(\"Worst-group accuracy:\", evaluator.worst_group_accuracy)\n",
    "print(\"Average accuracy:\", evaluator.average_accuracy)"
   ]
  },
  {
   "cell_type": "code",
   "execution_count": null,
   "id": "c560924e-8a29-4eb3-9c67-cabbe0eea859",
   "metadata": {},
   "outputs": [],
   "source": []
  }
 ],
 "metadata": {
  "kernelspec": {
   "display_name": "george",
   "language": "python",
   "name": "george"
  },
  "language_info": {
   "codemirror_mode": {
    "name": "ipython",
    "version": 3
   },
   "file_extension": ".py",
   "mimetype": "text/x-python",
   "name": "python",
   "nbconvert_exporter": "python",
   "pygments_lexer": "ipython3",
   "version": "3.13.2"
  }
 },
 "nbformat": 4,
 "nbformat_minor": 5
}
